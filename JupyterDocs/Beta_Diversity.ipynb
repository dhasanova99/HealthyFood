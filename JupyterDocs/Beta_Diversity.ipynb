{
 "cells": [
  {
   "cell_type": "markdown",
   "id": "8f6c8e78",
   "metadata": {},
   "source": [
    "# Week 7: Beta Diversity Analysis, Rarefaction and Significance Tests\n",
    "\n",
    "\n",
    "[1. Download and import datasets](#sec1)                \n",
    "[2. Beta diversity](#sec2)              \n",
    "[3. Bonus: fun with pandas](#sec3)              "
   ]
  },
  {
   "cell_type": "code",
   "execution_count": 6,
   "id": "97348f89",
   "metadata": {},
   "outputs": [],
   "source": [
    "import os\n",
    "import pandas as pd\n",
    "import qiime2 as q2\n",
    "from skbio import OrdinationResults\n",
    "from qiime2 import Visualization\n",
    "import matplotlib.pyplot as plt\n",
    "from seaborn import scatterplot\n",
    "\n",
    "%matplotlib inline"
   ]
  },
  {
   "cell_type": "code",
   "execution_count": null,
   "id": "51b45c82",
   "metadata": {},
   "outputs": [],
   "source": [
    "data_dir = "
   ]
  },
  {
   "cell_type": "markdown",
   "id": "645c6adf",
   "metadata": {},
   "source": [
    "<a id='sec1'></a>"
   ]
  },
  {
   "cell_type": "markdown",
   "id": "771f38bf",
   "metadata": {},
   "source": [
    "# 1. Import metadata"
   ]
  },
  {
   "cell_type": "markdown",
   "id": "e3de97f4",
   "metadata": {},
   "source": [
    "Metadata of refers to students additional informations we collected into the file \"cleaned_sample_meta_data.tsv\"."
   ]
  },
  {
   "cell_type": "code",
   "execution_count": null,
   "id": "d088f4e3",
   "metadata": {},
   "outputs": [],
   "source": [
    "df_meta = pd.read_csv('cleaned_sample_meta_data.tsv', sep='\\t')"
   ]
  },
  {
   "cell_type": "markdown",
   "id": "7302c11f",
   "metadata": {},
   "source": [
    "# 2.Compute diversity"
   ]
  },
  {
   "cell_type": "markdown",
   "id": "ab2d7889",
   "metadata": {
    "tags": []
   },
   "source": [
    "#### **a)** PCoA plot inspection\n",
    "\n",
    "Beta diversity measures the similarity between samples or groups of samples.        \n",
    "To inspect groupings of beta diversity metrics across metadata categories, we will start by inspecting the principal coordinates (PCoA) plots created with the `qiime diversity core-metrics-phylogenetic` method before. "
   ]
  },
  {
   "cell_type": "code",
   "execution_count": null,
   "id": "92269771",
   "metadata": {},
   "outputs": [],
   "source": [
    "# command already done in week 6\n",
    "! qiime diversity core-metrics-phylogenetic \\\n",
    "  --i-table $data_dir/feature-table.qza \\\n",
    "  --i-phylogeny $data_dir/insertion-tree.qza \\\n",
    "  --m-metadata-file $data_dir/cleaned_sample_meta_data.tsv \\\n",
    "  --p-sampling-depth 1500 \\\n",
    "  --output-dir $data_dir/core-metrics-results"
   ]
  },
  {
   "cell_type": "markdown",
   "id": "7d4c3949-afac-4d8e-a52d-38de52c32d19",
   "metadata": {},
   "source": [
    "**Unweighted unifrac emperor**"
   ]
  },
  {
   "cell_type": "code",
   "execution_count": null,
   "id": "43252f3a",
   "metadata": {},
   "outputs": [],
   "source": [
    "Visualization.load(f'{data_dir}/core-metrics-results/unweighted_unifrac_emperor.qzv')"
   ]
  },
  {
   "cell_type": "markdown",
   "id": "db0b5142-d796-4d75-9aa2-be3c75c7febc",
   "metadata": {},
   "source": [
    "**Bray curtis emperor**"
   ]
  },
  {
   "cell_type": "code",
   "execution_count": null,
   "id": "feda029b",
   "metadata": {},
   "outputs": [],
   "source": [
    "Visualization.load(f'{data_dir}/core-metrics-results/bray_curtis_emperor.qzv')"
   ]
  },
  {
   "cell_type": "markdown",
   "id": "b18811b2-ceba-4e8d-8e70-b902ff39ce97",
   "metadata": {},
   "source": [
    "**Weighted unifrac emperor**"
   ]
  },
  {
   "cell_type": "code",
   "execution_count": null,
   "id": "ca0524d0-2c2a-4427-8458-4db5d11d09e2",
   "metadata": {},
   "outputs": [],
   "source": [
    "Visualization.load(f'{data_dir}/core-metrics-results/weighted_unifrac_emperor.qzv')"
   ]
  },
  {
   "cell_type": "markdown",
   "id": "1e91fcbd-cd4c-4e0a-969c-fb0083cefd6a",
   "metadata": {},
   "source": [
    "**Jaccard emperor**"
   ]
  },
  {
   "cell_type": "code",
   "execution_count": null,
   "id": "10addefe-2b38-4a7e-8aa4-015bee542334",
   "metadata": {},
   "outputs": [],
   "source": [
    "Visualization.load(f'{data_dir}/core-metrics-results/jaccard_emperor.qzv')"
   ]
  },
  {
   "cell_type": "markdown",
   "id": "3788956f",
   "metadata": {},
   "source": [
    "#### **b)** Permanova testing of categorical variables associations\n",
    "\n",
    "Associations between beta diversity and categorical variables can be statistically tested using a PERMANOVA test. This is a non-parametric statistical test that checks the null hypothesis that the distances between samples of one group are equivalent to distances to samples of another group. If this null hypothesis is rejected, we can infer that the distances between samples of one group differ significantly from the distances to samples in at least one other group. We can perform a PERMANOVA test checking whether the observed categories are significantly grouped in QIIME 2 with the `qiime diversity beta-group-significance` method: "
   ]
  },
  {
   "cell_type": "markdown",
   "id": "69c1f0ca-0352-4bc1-9036-4cc9d43a18e2",
   "metadata": {},
   "source": [
    "**Unweighted unifrac emperor**"
   ]
  },
  {
   "cell_type": "code",
   "execution_count": null,
   "id": "13b4adaf",
   "metadata": {},
   "outputs": [],
   "source": [
    "! qiime diversity beta-group-significance \\\n",
    "    --i-distance-matrix $data_dir/core-metrics-results/unweighted_unifrac_distance_matrix.qza \\\n",
    "    --m-metadata-file $data_dir/cleaned_sample_meta_data.tsv \\\n",
    "    --m-metadata-column env \\ ### change variable\n",
    "    --p-pairwise \\\n",
    "    --o-visualization $data_dir/core-metrics-results/uw_unifrac-env-significance.qzv"
   ]
  },
  {
   "cell_type": "code",
   "execution_count": null,
   "id": "c656240d",
   "metadata": {},
   "outputs": [],
   "source": [
    "Visualization.load(f'{data_dir}/core-metrics-results/uw_unifrac-env-significance.qzv')"
   ]
  },
  {
   "cell_type": "markdown",
   "id": "977b7c79-f3a8-4283-984e-1fe3e87636b2",
   "metadata": {},
   "source": [
    "**Bray curtis emperor**"
   ]
  },
  {
   "cell_type": "code",
   "execution_count": null,
   "id": "db2b8350-ffb3-482e-a1e3-82378f2225c2",
   "metadata": {
    "scrolled": true,
    "tags": []
   },
   "outputs": [],
   "source": [
    "! qiime diversity beta-group-significance \\\n",
    "    --i-distance-matrix $data_dir/core-metrics-results/bray_curtis_distance_matrix.qza \\\n",
    "    --m-metadata-file $data_dir/cleaned_sample_meta_data.tsv\\\n",
    "    --m-metadata-column env \\ ### change variable\n",
    "    --p-pairwise \\\n",
    "    --o-visualization $data_dir/core-metrics-results/bray_curtis_env-significance.qzv"
   ]
  },
  {
   "cell_type": "code",
   "execution_count": null,
   "id": "05dc5540-c5b7-4ddc-b698-e17699fe54ca",
   "metadata": {},
   "outputs": [],
   "source": [
    "Visualization.load(f'{data_dir}/core-metrics-results/bray_curtis_env-significance.qzv')"
   ]
  },
  {
   "cell_type": "markdown",
   "id": "f8cad0e9-82e3-41d1-b4e5-0cfaa0bb29f3",
   "metadata": {},
   "source": [
    "**Weighted unifrac emperor**"
   ]
  },
  {
   "cell_type": "code",
   "execution_count": null,
   "id": "b4fbd761-5c4c-4145-be40-a068226b79df",
   "metadata": {},
   "outputs": [],
   "source": [
    "! qiime diversity beta-group-significance \\\n",
    "    --i-distance-matrix $data_dir/core-metrics-results/weighted_unifrac_distance_matrix.qza \\\n",
    "    --m-metadata-file $data_dir/cleaned_sample_meta_data.tsv \\\n",
    "    --m-metadata-column env \\ ### change variable\n",
    "    --p-pairwise \\\n",
    "    --o-visualization $data_dir/core-metrics-results/weighted_unifrac_env-significance.qzv"
   ]
  },
  {
   "cell_type": "code",
   "execution_count": null,
   "id": "264bb20d-e5ac-4687-a507-e4d020d00822",
   "metadata": {},
   "outputs": [],
   "source": [
    "Visualization.load(f'{data_dir}/core-metrics-results/weighted_unifrac_env-significance.qzv')"
   ]
  },
  {
   "cell_type": "markdown",
   "id": "3bd1d901-9641-4a43-85b4-a7c2b160847c",
   "metadata": {},
   "source": [
    "**Jaccard emperor**"
   ]
  },
  {
   "cell_type": "code",
   "execution_count": null,
   "id": "f10dd8ab-201b-40ed-ab79-1ae7704c391f",
   "metadata": {},
   "outputs": [],
   "source": [
    "! qiime diversity beta-group-significance \\\n",
    "    --i-distance-matrix $data_dir/core-metrics-results/jaccard_distance_matrix.qza \\\n",
    "    --m-metadata-file $data_dir/cleaned_sample_meta_data.tsv\\\n",
    "    --m-metadata-column env \\ ### change variable\n",
    "    --p-pairwise \\\n",
    "    --o-visualization $data_dir/core-metrics-results/jaccard_env-significance.qzv"
   ]
  },
  {
   "cell_type": "code",
   "execution_count": null,
   "id": "72e8a211-ece3-4b62-b223-8cf14aed4876",
   "metadata": {},
   "outputs": [],
   "source": [
    "Visualization.load(f'{data_dir}/core-metrics-results/jaccard_env-significance.qzv')"
   ]
  },
  {
   "cell_type": "markdown",
   "id": "e26d7a9b",
   "metadata": {},
   "source": [
    "**What does the performed PERMANOVA test tell us about the differences in beta diversity of \"env\" groupings? \n",
    "What specific pairs of environments are significantly different from each other?**   \n",
    "\n",
    "\n",
    "\n",
    "\n",
    "\n",
    "\n",
    "\n",
    "\n",
    "\n",
    "\n",
    "\n"
   ]
  },
  {
   "cell_type": "markdown",
   "id": "1fe2a3cb",
   "metadata": {},
   "source": [
    "#### **c)** Adonis implementation pf PERMANOVA tests \n",
    "\n",
    "The `adonis` implementation of PERMANOVA (part of the r-vegan package) accepts a formula as input, which can consist of one or more independent terms. This might be useful for testing which covariates explain the most variation in our datasets."
   ]
  },
  {
   "cell_type": "code",
   "execution_count": 7,
   "id": "080f8551",
   "metadata": {
    "tags": []
   },
   "outputs": [
    {
     "name": "stdout",
     "output_type": "stream",
     "text": [
      "Usage: \u001b[94mqiime diversity adonis\u001b[0m [OPTIONS]\n",
      "\n",
      "  Determine whether groups of samples are significantly different from one\n",
      "  another using the ADONIS permutation-based statistical test in vegan-R.\n",
      "  The function partitions sums of squares of a multivariate data set, and is\n",
      "  directly analogous to MANOVA (multivariate analysis of variance). This\n",
      "  action differs from beta_group_significance in that it accepts R formulae\n",
      "  to perform multi-way ADONIS tests; beta_group_signficance only performs\n",
      "  one-way tests. For more details, consult the reference manual available on\n",
      "  the CRAN vegan page: https://CRAN.R-project.org/package=vegan\n",
      "\n",
      "\u001b[1mInputs\u001b[0m:\n",
      "  \u001b[94m\u001b[4m--i-distance-matrix\u001b[0m ARTIFACT\n",
      "    \u001b[32mDistanceMatrix\u001b[0m     Matrix of distances between pairs of samples.\n",
      "                                                                    \u001b[35m[required]\u001b[0m\n",
      "\u001b[1mParameters\u001b[0m:\n",
      "  \u001b[94m\u001b[4m--m-metadata-file\u001b[0m METADATA...\n",
      "    (multiple          Sample metadata containing formula terms.\n",
      "     arguments will    \n",
      "     be merged)                                                     \u001b[35m[required]\u001b[0m\n",
      "  \u001b[94m\u001b[4m--p-formula\u001b[0m TEXT     Model formula containing only independent terms\n",
      "                       contained in the sample metadata. These can be\n",
      "                       continuous variables or factors, and they can have\n",
      "                       interactions as in a typical R formula. E.g., the\n",
      "                       formula \"treatment+block\" would test whether the input\n",
      "                       distance matrix partitions based on \"treatment\" and\n",
      "                       \"block\" sample metadata. The formula \"treatment*block\"\n",
      "                       would test both of those effects as well as their\n",
      "                       interaction. Enclose formulae in quotes to avoid\n",
      "                       unpleasant surprises.                        \u001b[35m[required]\u001b[0m\n",
      "  \u001b[94m--p-permutations\u001b[0m INTEGER\n",
      "    \u001b[32mRange(1, None)\u001b[0m     The number of permutations to be run when computing\n",
      "                       p-values.                                \u001b[35m[default: 999]\u001b[0m\n",
      "  \u001b[94m--p-n-jobs\u001b[0m INTEGER   Number of parallel processes to run.\n",
      "    \u001b[32mRange(1, None)\u001b[0m                                                \u001b[35m[default: 1]\u001b[0m\n",
      "\u001b[1mOutputs\u001b[0m:\n",
      "  \u001b[94m\u001b[4m--o-visualization\u001b[0m VISUALIZATION\n",
      "                                                                    \u001b[35m[required]\u001b[0m\n",
      "\u001b[1mMiscellaneous\u001b[0m:\n",
      "  \u001b[94m--output-dir\u001b[0m PATH    Output unspecified results to a directory\n",
      "  \u001b[94m--verbose\u001b[0m / \u001b[94m--quiet\u001b[0m  Display verbose output to stdout and/or stderr during\n",
      "                       execution of this action. Or silence output if\n",
      "                       execution is successful (silence is golden).\n",
      "  \u001b[94m--example-data\u001b[0m PATH  Write example data and exit.\n",
      "  \u001b[94m--citations\u001b[0m          Show citations and exit.\n",
      "  \u001b[94m--help\u001b[0m               Show this message and exit.\n"
     ]
    }
   ],
   "source": [
    "! qiime diversity adonis \\\n",
    "    --i-distance-matrix $data_dir/core-metrics-results/jaccard_distance_matrix.qza \\ #change distance matrix\n",
    "    --m-metadata-file $data_dir/cleaned_sample_meta_data.tsv \\\n",
    "    --p-formula \"treatment*block\" \\ # change variables as well as + or *\n",
    "    --o-visualization $data_dir/core-metrics-results/AD-jaccard-treatXbloc.qzv"
   ]
  },
  {
   "cell_type": "markdown",
   "id": "02962025",
   "metadata": {},
   "source": [
    "<a id='sec3'></a>"
   ]
  }
 ],
 "metadata": {
  "kernelspec": {
   "display_name": "Python 3 (ipykernel)",
   "language": "python",
   "name": "python3"
  },
  "language_info": {
   "codemirror_mode": {
    "name": "ipython",
    "version": 3
   },
   "file_extension": ".py",
   "mimetype": "text/x-python",
   "name": "python",
   "nbconvert_exporter": "python",
   "pygments_lexer": "ipython3",
   "version": "3.8.13"
  },
  "toc": {
   "base_numbering": 1,
   "nav_menu": {},
   "number_sections": true,
   "sideBar": true,
   "skip_h1_title": false,
   "title_cell": "Table of Contents",
   "title_sidebar": "Contents",
   "toc_cell": false,
   "toc_position": {},
   "toc_section_display": true,
   "toc_window_display": false
  }
 },
 "nbformat": 4,
 "nbformat_minor": 5
}
