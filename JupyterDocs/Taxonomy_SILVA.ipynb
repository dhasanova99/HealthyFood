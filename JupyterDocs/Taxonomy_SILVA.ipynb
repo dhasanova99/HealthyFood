{
 "cells": [
  {
   "cell_type": "markdown",
   "id": "e550c2dd",
   "metadata": {},
   "source": [
    "# Taxonomy classification"
   ]
  },
  {
   "cell_type": "markdown",
   "id": "2c037e47",
   "metadata": {},
   "source": [
    "**Overview:**<br>\n",
    "[1. Setup](#setup)<br>\n",
    "[2. Taxonomy assignment](#tax_assignment_main)<br>\n",
    "&nbsp;&nbsp;&nbsp;&nbsp;[2.1 Reference database construction](#ref_db)<br>\n",
    "&nbsp;&nbsp;&nbsp;&nbsp;[2.2 Training taxonomy classifier](#train_classifier)<br>\n",
    "&nbsp;&nbsp;&nbsp;&nbsp;[2.3 Taxonomy assignment](#tax_assignment)<br>\n",
    "&nbsp;&nbsp;&nbsp;&nbsp;[2.4 Taxonomy visualization](#tax_visualization)<br>"
   ]
  },
  {
   "cell_type": "markdown",
   "id": "a18e8b06",
   "metadata": {},
   "source": [
    "<a id='setup'></a>\n",
    "\n",
    "## 1. Setup"
   ]
  },
  {
   "cell_type": "markdown",
   "id": "b2a0bc87",
   "metadata": {},
   "source": [
    "The cell below will import all the packages required in the downstream analyses as well as set all the necessary variables and data paths."
   ]
  },
  {
   "cell_type": "code",
   "execution_count": 1,
   "id": "72951683",
   "metadata": {
    "tags": []
   },
   "outputs": [],
   "source": [
    "import os\n",
    "import pandas as pd\n",
    "from qiime2 import Visualization\n",
    "import matplotlib.pyplot as plt\n",
    "import numpy as np\n",
    "\n",
    "import qiime2 as q2\n",
    "\n",
    "%matplotlib inline\n",
    "\n",
    "# location of the data and all the results produced by this notebook \n",
    "data_dir = 'project_data'\n",
    "\n",
    "if not os.path.isdir(data_dir):\n",
    "    os.makedirs(data_dir)"
   ]
  },
  {
   "cell_type": "markdown",
   "id": "d93d188a",
   "metadata": {},
   "source": [
    "<a id='tax_assignment_main'></a>\n",
    "\n",
    "## 2. Taxonomy assignment\n",
    "\n",
    "To classify the sequences into bacterial species, the assignment can be done with BLAST search of the sequences against a data base of known sequence. The methode used here is a machine learning classifier which is trained on a reference database to recognize the bacterial species in the samples.  \n"
   ]
  },
  {
   "cell_type": "markdown",
   "id": "6afca53c",
   "metadata": {},
   "source": [
    "<a id='ref_db'></a>\n",
    "\n",
    "### 2.1 Reference database construction\n",
    "\n",
    "The SSU SILVA database (version 138) using the `RESCRIPt` plugin is downloaded, eventually lower-quality seqeunces are removed from the database. The 16S rRNA gene is used as the region of interest. Therefore we extract it based on the primers used to amplify the NGS library.\n",
    "\n",
    "In a further step the[a custom database from NCBI sequences using a custom entrez query](https://forum.qiime2.org/t/using-rescript-to-compile-sequence-databases-and-taxonomy-classifiers-from-ncbi-genbank/15947) is build up and cleaned from lower-quality sequences. This is done in the Taxonomy_NCBI.ipynb.\n",
    "\n",
    "**Citation:** Michael S Robeson II, Devon R O'Rourke, Benjamin D Kaehler, Michal Ziemski, Matthew R Dillon, Jeffrey T Foster, Nicholas A Bokulich. 2021. \"RESCRIPt: Reproducible sequence taxonomy reference database management\". PLoS Computational Biology 17 (11): e1009581.; [doi: 10.1371/journal.pcbi.1009581](https://journals.plos.org/ploscompbiol/article?id=10.1371/journal.pcbi.1009581)"
   ]
  },
  {
   "cell_type": "markdown",
   "id": "ca5b95c2",
   "metadata": {},
   "source": [
    "#### 2.1.1 Data download"
   ]
  },
  {
   "cell_type": "markdown",
   "id": "3e6f4b89-5fb6-4d31-9f4a-127ab1afd9c3",
   "metadata": {},
   "source": [
    "The sequences and corresponding taxonomies are downloaded (SSU SILVA database) , and save them into respective QIIME 2 artifacts."
   ]
  },
  {
   "cell_type": "code",
   "execution_count": 2,
   "id": "200387e9",
   "metadata": {},
   "outputs": [
    {
     "name": "stdout",
     "output_type": "stream",
     "text": [
      "\u001b[32mSaved FeatureData[RNASequence] to: project_data/silva-138-ssu-nr99-seqs.qza\u001b[0m\n",
      "\u001b[32mSaved FeatureData[Taxonomy] to: project_data/silva-138-ssu-nr99-tax.qza\u001b[0m\n",
      "\u001b[0m"
     ]
    }
   ],
   "source": [
    "! qiime rescript get-silva-data \\\n",
    "    --p-version '138' \\\n",
    "    --p-target 'SSURef_NR99' \\\n",
    "    --p-include-species-labels \\\n",
    "    --o-silva-sequences $data_dir/silva-138-ssu-nr99-seqs.qza \\\n",
    "    --o-silva-taxonomy $data_dir/silva-138-ssu-nr99-tax.qza"
   ]
  },
  {
   "cell_type": "markdown",
   "id": "693d8f17",
   "metadata": {},
   "source": [
    "#### 2.1.2 Database curation\n",
    "\n",
    "To clean up the Database, sequences that contain 5 or more ambigous bases and any homopolymers that are at least 8 bases long are removed from the silva database. "
   ]
  },
  {
   "cell_type": "code",
   "execution_count": null,
   "id": "db0ef541",
   "metadata": {},
   "outputs": [],
   "source": [
    "! qiime rescript cull-seqs \\\n",
    "     --i-sequences $data_dir/silva-138-ssu-nr99-seqs.qza \\\n",
    "     --p-num-degenerates 5 \\\n",
    "     --p-homopolymer-length 8 \\\n",
    "     --p-n-jobs 3 \\\n",
    "     --o-clean-sequences $data_dir/silva-138-ssu-nr99-seqs-cleaned.qza"
   ]
  },
  {
   "cell_type": "markdown",
   "id": "28774c53",
   "metadata": {},
   "source": [
    "Sequences that are shorter than certain threshold are removed as well from the database. The threshold is specific whether the sequence belong to Archaea, Bacteria or Eukaryota."
   ]
  },
  {
   "cell_type": "code",
   "execution_count": 6,
   "id": "88dbc812",
   "metadata": {},
   "outputs": [
    {
     "name": "stdout",
     "output_type": "stream",
     "text": [
      "\u001b[32mSaved FeatureData[Sequence] to: w4_data/silva-138-ssu-nr99-seqs-filt.qza\u001b[0m\n",
      "\u001b[32mSaved FeatureData[Sequence] to: w4_data/silva-138-ssu-nr99-seqs-discard.qza\u001b[0m\n",
      "\u001b[0m"
     ]
    }
   ],
   "source": [
    "# SILVA\n",
    "! qiime rescript filter-seqs-length-by-taxon \\\n",
    "    --i-sequences $data_dir/silva-138-ssu-nr99-seqs-cleaned.qza \\\n",
    "    --i-taxonomy $data_dir/silva-138-ssu-nr99-tax.qza \\\n",
    "    --p-labels Archaea Bacteria Eukaryota \\\n",
    "    --p-min-lens 900 1200 1400 \\\n",
    "    --o-filtered-seqs $data_dir/silva-138-ssu-nr99-seqs-filt.qza \\\n",
    "    --o-discarded-seqs $data_dir/silva-138-ssu-nr99-seqs-discard.qza"
   ]
  },
  {
   "cell_type": "markdown",
   "id": "ddc272c4",
   "metadata": {},
   "source": [
    "\n",
    "In order to remove identical sequences having the same taxonomies, the database is dereplicated with the `uniq` mode. In case where identical sequence refere to several taxonmies the recordes are not discarded. "
   ]
  },
  {
   "cell_type": "code",
   "execution_count": 7,
   "id": "7d859205",
   "metadata": {},
   "outputs": [
    {
     "name": "stdout",
     "output_type": "stream",
     "text": [
      "\u001b[32mSaved FeatureData[Sequence] to: w4_data/silva-138-ssu-nr99-seqs-derep-uniq.qza\u001b[0m\n",
      "\u001b[32mSaved FeatureData[Taxonomy] to: w4_data/silva-138-ssu-nr99-tax-derep-uniq.qza\u001b[0m\n",
      "\u001b[0m"
     ]
    }
   ],
   "source": [
    "! qiime rescript dereplicate \\\n",
    "    --i-sequences $data_dir/silva-138-ssu-nr99-seqs-filt.qza  \\\n",
    "    --i-taxa $data_dir/silva-138-ssu-nr99-tax.qza \\\n",
    "    --p-rank-handles 'silva' \\\n",
    "    --p-mode 'uniq' \\\n",
    "    --p-threads 3 \\\n",
    "    --o-dereplicated-sequences $data_dir/silva-138-ssu-nr99-seqs-derep-uniq.qza \\\n",
    "    --o-dereplicated-taxa $data_dir/silva-138-ssu-nr99-tax-derep-uniq.qza"
   ]
  },
  {
   "cell_type": "markdown",
   "id": "ed9d29c9",
   "metadata": {},
   "source": [
    "#### 2.1.3 PCR-region extraction"
   ]
  },
  {
   "cell_type": "markdown",
   "id": "172740f2",
   "metadata": {},
   "source": [
    "The clasiffiers have to be trained on the same type of data as the data that is analyzed in the project in order to get the most accurate classification results. In class the region amplified during NGS library creation out of the full RNA sequence contained in the database is extracted. \n",
    "\n",
    "The forward and reverse primers are required.\n",
    "????\n",
    "To do this, we will require sequences of both, the forward and reverse, primers used in this experiment - you can look those up in the metadata of this experiment using the [SRA Run Selector](https://trace.ncbi.nlm.nih.gov/Traces/study/?acc=ERP021896&o=acc_s%3Aa). We see the following sequences:\n",
    "\n",
    "- forward: `GTGCCAGCMGCCGCGGTAA`\n",
    "- reverse: `GGACTACHVGGGTWTCTAAT`\n",
    "???"
   ]
  },
  {
   "cell_type": "code",
   "execution_count": 8,
   "id": "caa98818",
   "metadata": {},
   "outputs": [
    {
     "name": "stdout",
     "output_type": "stream",
     "text": [
      "\u001b[32mSaved FeatureData[Sequence] to: w4_data/silva-138-ssu-nr99-seqs-515f-806r.qza\u001b[0m\n",
      "\u001b[0m"
     ]
    }
   ],
   "source": [
    "! qiime feature-classifier extract-reads \\\n",
    "    --i-sequences $data_dir/silva-138-ssu-nr99-seqs-derep-uniq.qza \\\n",
    "    --p-f-primer GTGCCAGCMGCCGCGGTAA \\\n",
    "    --p-r-primer GGACTACHVGGGTWTCTAAT \\\n",
    "    --p-n-jobs 3 \\\n",
    "    --p-read-orientation 'forward' \\\n",
    "    --o-reads $data_dir/silva-138-ssu-nr99-seqs-515f-806r.qza"
   ]
  },
  {
   "cell_type": "markdown",
   "id": "31ae7c1f",
   "metadata": {},
   "source": [
    "The database has to be dereplicated again, because the reads are significantly shorter than at the beginning. The `uniq` mode is choosen again, as some sequences are annotated to different taxonomies.  "
   ]
  },
  {
   "cell_type": "code",
   "execution_count": 9,
   "id": "adb0e4ea",
   "metadata": {},
   "outputs": [
    {
     "name": "stdout",
     "output_type": "stream",
     "text": [
      "\u001b[32mSaved FeatureData[Sequence] to: w4_data/silva-138-ssu-nr99-seqs-515f-806r-uniq.qza\u001b[0m\n",
      "\u001b[32mSaved FeatureData[Taxonomy] to: w4_data/silva-138-ssu-nr99-tax-515f-806r-derep-uniq.qza\u001b[0m\n",
      "\u001b[0m"
     ]
    }
   ],
   "source": [
    "! qiime rescript dereplicate \\\n",
    "    --i-sequences $data_dir/silva-138-ssu-nr99-seqs-515f-806r.qza \\\n",
    "    --i-taxa $data_dir/silva-138-ssu-nr99-tax-derep-uniq.qza \\\n",
    "    --p-rank-handles 'silva' \\\n",
    "    --p-mode 'uniq' \\\n",
    "    --p-threads 3 \\\n",
    "    --o-dereplicated-sequences $data_dir/silva-138-ssu-nr99-seqs-515f-806r-uniq.qza \\\n",
    "    --o-dereplicated-taxa  $data_dir/silva-138-ssu-nr99-tax-515f-806r-derep-uniq.qza"
   ]
  },
  {
   "cell_type": "markdown",
   "id": "6363d6e2",
   "metadata": {},
   "source": [
    "<a id='train_classifier'></a>\n",
    "\n",
    "### 2.2 Training taxonomy classifier"
   ]
  },
  {
   "cell_type": "markdown",
   "id": "30e2fcd2",
   "metadata": {},
   "source": [
    "The processed database with the extracted, dereplicated reads is used to train the classifier with the corresponding taxonomies. The Naive Bayes classifier is used as it has shown very good classification results while not being computationally too expensive.\n",
    "\n",
    "The classifier is trained based on data with known taxonomies as it is in a further step used to predict taxonomy of unknown sequences.\n"
   ]
  },
  {
   "cell_type": "code",
   "execution_count": null,
   "id": "3d03d319",
   "metadata": {},
   "outputs": [],
   "source": [
    "! qiime feature-classifier fit-classifier-naive-bayes \\\n",
    "     --i-reference-reads $data_dir/silva-138-ssu-nr99-seqs-515f-806r-uniq.qza \\\n",
    "     --i-reference-taxonomy $data_dir/silva-138-ssu-nr99-tax-515f-806r-derep-uniq.qza \\\n",
    "     --o-classifier $data_dir/515f-806r-classifier.qza"
   ]
  },
  {
   "cell_type": "markdown",
   "id": "d1b3bba0",
   "metadata": {},
   "source": [
    "<a id='tax_assignment'></a>\n",
    "\n",
    "### 2.3 Taxonomy assignment\n",
    "\n",
    "After all the preprocessing steps it is time to assign taxonomy labels to the ASVs from the project data. The `classify-sklearn` action from the `feature-classifier` plugin needs two things: \n",
    "- the classifier which was trained the previous step\n",
    "- the sequences to be classified\n",
    "\n",
    "This step will require the `FeatureData[Sequence]` artifact (containing our ASVs) that were generated beforhand.\n",
    "To run the following cell at least 10 GB of available RAM is required."
   ]
  },
  {
   "cell_type": "code",
   "execution_count": 11,
   "id": "572b7633",
   "metadata": {},
   "outputs": [
    {
     "name": "stdout",
     "output_type": "stream",
     "text": [
      "\u001b[32mSaved FeatureData[Taxonomy] to: w4_data/taxonomy.qza\u001b[0m\n",
      "\u001b[0m"
     ]
    }
   ],
   "source": [
    "! qiime feature-classifier classify-sklearn \\\n",
    "    --i-classifier $data_dir/515f-806r-classifier.qza \\\n",
    "    --i-reads $data_dir/rep-seqs.qza \\\n",
    "    --o-classification $data_dir/taxonomy.qza"
   ]
  },
  {
   "cell_type": "markdown",
   "id": "1f334078",
   "metadata": {},
   "source": [
    "A new `FeatureData[Taxonomy]` artifact should be created, containing our taxonomic assignments per feature."
   ]
  },
  {
   "cell_type": "code",
   "execution_count": 12,
   "id": "0d5b35e0",
   "metadata": {},
   "outputs": [
    {
     "name": "stdout",
     "output_type": "stream",
     "text": [
      "\u001b[32mUUID\u001b[0m:        868dff13-8e47-4622-b2ca-531d584726d6\n",
      "\u001b[32mType\u001b[0m:        FeatureData[Taxonomy]\n",
      "\u001b[32mData format\u001b[0m: TSVTaxonomyDirectoryFormat\n"
     ]
    }
   ],
   "source": [
    "! qiime tools peek $data_dir/taxonomy.qza"
   ]
  },
  {
   "cell_type": "markdown",
   "id": "17d2cc7b",
   "metadata": {},
   "source": [
    "<a id='tax_visualization'></a>\n",
    "\n",
    "### 2.4 Taxonomy visualization\n",
    "\n",
    "The composition of the project samples is in the coming section analyzed . A tabular representation of all the features labeled with their corresponding taxonomy is created:"
   ]
  },
  {
   "cell_type": "code",
   "execution_count": 13,
   "id": "e884adc6",
   "metadata": {},
   "outputs": [
    {
     "name": "stdout",
     "output_type": "stream",
     "text": [
      "\u001b[32mSaved Visualization to: w4_data/taxonomy.qzv\u001b[0m\n",
      "\u001b[0m"
     ]
    }
   ],
   "source": [
    "! qiime metadata tabulate \\\n",
    "    --m-input-file $data_dir/taxonomy.qza \\\n",
    "    --o-visualization $data_dir/taxonomy.qzv"
   ]
  },
  {
   "cell_type": "markdown",
   "id": "34d3a945",
   "metadata": {},
   "source": [
    "In the table an ID of every ASV is asigned with its corresponding taxonomic assignment and the prediction confidence."
   ]
  },
  {
   "cell_type": "code",
   "execution_count": 4,
   "id": "b1128729",
   "metadata": {
    "collapsed": true,
    "jupyter": {
     "outputs_hidden": true
    },
    "tags": []
   },
   "outputs": [
    {
     "data": {
      "text/html": [
       "<div><img onload=\"(function(div, url){\n",
       "if (typeof require !== 'undefined') {\n",
       "    var baseURL = require.toUrl('').split('/').slice(0, -2).join('/');\n",
       "} else {\n",
       "    var baseURL = JSON.parse(\n",
       "        document.getElementById('jupyter-config-data').innerHTML\n",
       "    ).baseUrl.slice(0, -1);\n",
       "}\n",
       "url = baseURL + url;\n",
       "fetch(url).then(function(res) {\n",
       "    if (res.status === 404) {\n",
       "        div.innerHTML = 'Install QIIME 2 Jupyter extension with:<br />' +\n",
       "                        '<code>jupyter serverextension enable --py qiime2' +\n",
       "                        ' --sys-prefix</code><br />then restart your server.' +\n",
       "                        '<br /><br />(Interactive output not available on ' +\n",
       "                        'static notebook viewer services like nbviewer.)';\n",
       "    } else if (res.status === 409) {\n",
       "        div.innerHTML = 'Visualization no longer in scope. Re-run this cell' +\n",
       "                        ' to see the visualization.';\n",
       "    } else if (res.ok) {\n",
       "        url = res.url;\n",
       "        div.innerHTML = '<iframe src=\\'' + url + '\\' style=\\'' +\n",
       "                        'width: 100%; height: 700px; border: 0;\\'>' +\n",
       "                        '</iframe><hr />Open in a: <a href=\\'' + url + '\\'' +\n",
       "                        ' target=\\'_blank\\'>new window</a>'\n",
       "    } else {\n",
       "        div.innerHTML = 'Something has gone wrong. Check notebook server for' +\n",
       "                        ' errors.';\n",
       "    }\n",
       "});\n",
       "})(this.parentElement, '/qiime2/redirect?location=/tmp/qiime2-archive-0rgd4gil')\" src=\"data:image/gif;base64,R0lGODlhAQABAIAAAP///wAAACH5BAEAAAAALAAAAAABAAEAAAICRAEAOw==\" /></div>"
      ],
      "text/plain": [
       "<visualization: Visualization uuid: e3840f9c-beb2-482e-9d6c-41f27717c933>"
      ]
     },
     "execution_count": 4,
     "metadata": {},
     "output_type": "execute_result"
    }
   ],
   "source": [
    "Visualization.load(f'{data_dir}/taxonomy.qzv')"
   ]
  },
  {
   "cell_type": "markdown",
   "id": "ffb437fe",
   "metadata": {},
   "source": [
    "The taxonomic information per feature can be combined with the information about the samples to get an idea of the taxonomic distribution of species is in the different samples. The data can be visualized in a bar plot. Each bar represents a single sample and is broken down proportionally to counts of every taxon."
   ]
  },
  {
   "cell_type": "code",
   "execution_count": 15,
   "id": "e3d6488a",
   "metadata": {},
   "outputs": [
    {
     "name": "stdout",
     "output_type": "stream",
     "text": [
      "\u001b[32mSaved Visualization to: w4_data/taxa-bar-plots.qzv\u001b[0m\n",
      "\u001b[0m"
     ]
    }
   ],
   "source": [
    "! qiime taxa barplot \\\n",
    "    --i-table $data_dir/table.qza \\\n",
    "    --i-taxonomy $data_dir/taxonomy.qza \\\n",
    "    --m-metadata-file $data_dir/cleand_sample_meta_data.tsv \\\n",
    "    --o-visualization $data_dir/taxa-bar-plots.qzv"
   ]
  },
  {
   "cell_type": "code",
   "execution_count": 5,
   "id": "251e1174",
   "metadata": {
    "tags": []
   },
   "outputs": [
    {
     "data": {
      "text/html": [
       "<div><img onload=\"(function(div, url){\n",
       "if (typeof require !== 'undefined') {\n",
       "    var baseURL = require.toUrl('').split('/').slice(0, -2).join('/');\n",
       "} else {\n",
       "    var baseURL = JSON.parse(\n",
       "        document.getElementById('jupyter-config-data').innerHTML\n",
       "    ).baseUrl.slice(0, -1);\n",
       "}\n",
       "url = baseURL + url;\n",
       "fetch(url).then(function(res) {\n",
       "    if (res.status === 404) {\n",
       "        div.innerHTML = 'Install QIIME 2 Jupyter extension with:<br />' +\n",
       "                        '<code>jupyter serverextension enable --py qiime2' +\n",
       "                        ' --sys-prefix</code><br />then restart your server.' +\n",
       "                        '<br /><br />(Interactive output not available on ' +\n",
       "                        'static notebook viewer services like nbviewer.)';\n",
       "    } else if (res.status === 409) {\n",
       "        div.innerHTML = 'Visualization no longer in scope. Re-run this cell' +\n",
       "                        ' to see the visualization.';\n",
       "    } else if (res.ok) {\n",
       "        url = res.url;\n",
       "        div.innerHTML = '<iframe src=\\'' + url + '\\' style=\\'' +\n",
       "                        'width: 100%; height: 700px; border: 0;\\'>' +\n",
       "                        '</iframe><hr />Open in a: <a href=\\'' + url + '\\'' +\n",
       "                        ' target=\\'_blank\\'>new window</a>'\n",
       "    } else {\n",
       "        div.innerHTML = 'Something has gone wrong. Check notebook server for' +\n",
       "                        ' errors.';\n",
       "    }\n",
       "});\n",
       "})(this.parentElement, '/qiime2/redirect?location=/tmp/qiime2-archive-mziftax1')\" src=\"data:image/gif;base64,R0lGODlhAQABAIAAAP///wAAACH5BAEAAAAALAAAAAABAAEAAAICRAEAOw==\" /></div>"
      ],
      "text/plain": [
       "<visualization: Visualization uuid: 2490648e-2a6e-4dd9-aa27-e605badaa500>"
      ]
     },
     "execution_count": 5,
     "metadata": {},
     "output_type": "execute_result"
    }
   ],
   "source": [
    "Visualization.load(f'{data_dir}/taxa-bar-plots.qzv')"
   ]
  },
  {
   "cell_type": "markdown",
   "id": "222b1821",
   "metadata": {
    "tags": []
   },
   "source": [
    "Some of the taxonomic assignment are compared to  BLAST for validation. As from the generated ASVs  the BLAST links are equipped there."
   ]
  },
  {
   "cell_type": "code",
   "execution_count": 6,
   "id": "c499a004",
   "metadata": {
    "tags": []
   },
   "outputs": [
    {
     "data": {
      "text/html": [
       "<div><img onload=\"(function(div, url){\n",
       "if (typeof require !== 'undefined') {\n",
       "    var baseURL = require.toUrl('').split('/').slice(0, -2).join('/');\n",
       "} else {\n",
       "    var baseURL = JSON.parse(\n",
       "        document.getElementById('jupyter-config-data').innerHTML\n",
       "    ).baseUrl.slice(0, -1);\n",
       "}\n",
       "url = baseURL + url;\n",
       "fetch(url).then(function(res) {\n",
       "    if (res.status === 404) {\n",
       "        div.innerHTML = 'Install QIIME 2 Jupyter extension with:<br />' +\n",
       "                        '<code>jupyter serverextension enable --py qiime2' +\n",
       "                        ' --sys-prefix</code><br />then restart your server.' +\n",
       "                        '<br /><br />(Interactive output not available on ' +\n",
       "                        'static notebook viewer services like nbviewer.)';\n",
       "    } else if (res.status === 409) {\n",
       "        div.innerHTML = 'Visualization no longer in scope. Re-run this cell' +\n",
       "                        ' to see the visualization.';\n",
       "    } else if (res.ok) {\n",
       "        url = res.url;\n",
       "        div.innerHTML = '<iframe src=\\'' + url + '\\' style=\\'' +\n",
       "                        'width: 100%; height: 700px; border: 0;\\'>' +\n",
       "                        '</iframe><hr />Open in a: <a href=\\'' + url + '\\'' +\n",
       "                        ' target=\\'_blank\\'>new window</a>'\n",
       "    } else {\n",
       "        div.innerHTML = 'Something has gone wrong. Check notebook server for' +\n",
       "                        ' errors.';\n",
       "    }\n",
       "});\n",
       "})(this.parentElement, '/qiime2/redirect?location=/tmp/qiime2-archive-k1x66sqc')\" src=\"data:image/gif;base64,R0lGODlhAQABAIAAAP///wAAACH5BAEAAAAALAAAAAABAAEAAAICRAEAOw==\" /></div>"
      ],
      "text/plain": [
       "<visualization: Visualization uuid: 2b01d3f6-d1f1-4360-b4d7-5c5bf09e8da4>"
      ]
     },
     "execution_count": 6,
     "metadata": {},
     "output_type": "execute_result"
    }
   ],
   "source": [
    "Visualization.load(f'{data_dir}/rep-seqs.qzv')"
   ]
  },
  {
   "cell_type": "markdown",
   "id": "d2ab20b0",
   "metadata": {
    "tags": []
   },
   "source": [
    "Using BLAST as the taxonomic identifier are the same taxonomies observed as with q2-feature-classifier?"
   ]
  },
  {
   "cell_type": "markdown",
   "id": "f7167267",
   "metadata": {},
   "source": [
    "Mitochondrial sequences may have to be filtered out of the feature table and sequences. Therefore the `filter-table` and `filter-seqs` action from the `taxa` plugin are used. To exclude features meeting certain criteria we can use the `p-exclude` parameter as follows:"
   ]
  },
  {
   "cell_type": "code",
   "execution_count": 18,
   "id": "0b3802c7",
   "metadata": {
    "tags": []
   },
   "outputs": [
    {
     "name": "stdout",
     "output_type": "stream",
     "text": [
      "\u001b[32mSaved FeatureTable[Frequency] to: w4_data/table-filtered.qza\u001b[0m\n",
      "\u001b[0m\u001b[32mSaved FeatureData[Sequence] to: w4_data/rep-seqs-filtered.qza\u001b[0m\n",
      "\u001b[0m"
     ]
    }
   ],
   "source": [
    "! qiime taxa filter-table \\\n",
    "    --i-table $data_dir/table.qza \\\n",
    "    --i-taxonomy $data_dir/taxonomy.qza \\\n",
    "    --p-exclude mitochondria,chloroplast \\\n",
    "    --o-filtered-table $data_dir/table-filtered.qza\n",
    "\n",
    "! qiime taxa filter-seqs \\\n",
    "    --i-sequences $data_dir/rep-seqs.qza \\\n",
    "    --i-taxonomy $data_dir/taxonomy.qza \\\n",
    "    --p-exclude mitochondria \\\n",
    "    --o-filtered-sequences $data_dir/rep-seqs-filtered.qza"
   ]
  },
  {
   "cell_type": "markdown",
   "id": "c1d79a64",
   "metadata": {},
   "source": [
    "The taxa barplot is regenerated using the filtered sequences to compare it to the previous visualization  to check if the distribution on different taxonomic level have changed between samples. "
   ]
  },
  {
   "cell_type": "code",
   "execution_count": 13,
   "id": "c100bbba-e731-4643-b36c-c4908b652526",
   "metadata": {},
   "outputs": [
    {
     "name": "stdout",
     "output_type": "stream",
     "text": [
      "\u001b[32mSaved FeatureData[Taxonomy] to: w4_data/taxonomy-filtered.qza\u001b[0m\n",
      "\u001b[0m"
     ]
    }
   ],
   "source": [
    "! qiime feature-classifier classify-sklearn \\\n",
    "    --i-classifier $data_dir/515f-806r-classifier.qza \\\n",
    "    --i-reads $data_dir/rep-seqs-filtered.qza \\\n",
    "    --o-classification $data_dir/taxonomy-filtered.qza"
   ]
  },
  {
   "cell_type": "code",
   "execution_count": 14,
   "id": "5ca47e53-bcef-4611-8388-efc1236903f1",
   "metadata": {},
   "outputs": [
    {
     "name": "stdout",
     "output_type": "stream",
     "text": [
      "\u001b[32mSaved Visualization to: w4_data/taxonomy-filtered.qzv\u001b[0m\n",
      "\u001b[0m"
     ]
    }
   ],
   "source": [
    "! qiime metadata tabulate \\\n",
    "    --m-input-file $data_dir/taxonomy-filtered.qza \\\n",
    "    --o-visualization $data_dir/taxonomy-filtered.qzv"
   ]
  },
  {
   "cell_type": "code",
   "execution_count": 15,
   "id": "b0084911-0767-434b-9feb-de8bebb63052",
   "metadata": {
    "collapsed": true,
    "jupyter": {
     "outputs_hidden": true
    },
    "tags": []
   },
   "outputs": [
    {
     "data": {
      "text/html": [
       "<div><img onload=\"(function(div, url){\n",
       "if (typeof require !== 'undefined') {\n",
       "    var baseURL = require.toUrl('').split('/').slice(0, -2).join('/');\n",
       "} else {\n",
       "    var baseURL = JSON.parse(\n",
       "        document.getElementById('jupyter-config-data').innerHTML\n",
       "    ).baseUrl.slice(0, -1);\n",
       "}\n",
       "url = baseURL + url;\n",
       "fetch(url).then(function(res) {\n",
       "    if (res.status === 404) {\n",
       "        div.innerHTML = 'Install QIIME 2 Jupyter extension with:<br />' +\n",
       "                        '<code>jupyter serverextension enable --py qiime2' +\n",
       "                        ' --sys-prefix</code><br />then restart your server.' +\n",
       "                        '<br /><br />(Interactive output not available on ' +\n",
       "                        'static notebook viewer services like nbviewer.)';\n",
       "    } else if (res.status === 409) {\n",
       "        div.innerHTML = 'Visualization no longer in scope. Re-run this cell' +\n",
       "                        ' to see the visualization.';\n",
       "    } else if (res.ok) {\n",
       "        url = res.url;\n",
       "        div.innerHTML = '<iframe src=\\'' + url + '\\' style=\\'' +\n",
       "                        'width: 100%; height: 700px; border: 0;\\'>' +\n",
       "                        '</iframe><hr />Open in a: <a href=\\'' + url + '\\'' +\n",
       "                        ' target=\\'_blank\\'>new window</a>'\n",
       "    } else {\n",
       "        div.innerHTML = 'Something has gone wrong. Check notebook server for' +\n",
       "                        ' errors.';\n",
       "    }\n",
       "});\n",
       "})(this.parentElement, '/qiime2/redirect?location=/tmp/qiime2-archive-yfv04m8i')\" src=\"data:image/gif;base64,R0lGODlhAQABAIAAAP///wAAACH5BAEAAAAALAAAAAABAAEAAAICRAEAOw==\" /></div>"
      ],
      "text/plain": [
       "<visualization: Visualization uuid: 994ddee0-6cd2-48a9-8890-5aea3e715f01>"
      ]
     },
     "execution_count": 15,
     "metadata": {},
     "output_type": "execute_result"
    }
   ],
   "source": [
    "Visualization.load(f'{data_dir}/taxonomy-filtered.qzv')"
   ]
  },
  {
   "cell_type": "code",
   "execution_count": 16,
   "id": "3dd7ce00-227d-4551-9712-c2b45176c600",
   "metadata": {},
   "outputs": [
    {
     "name": "stdout",
     "output_type": "stream",
     "text": [
      "\u001b[32mSaved Visualization to: w4_data/taxa-bar-plots-filtered.qzv\u001b[0m\n",
      "\u001b[0m"
     ]
    }
   ],
   "source": [
    "! qiime taxa barplot \\\n",
    "    --i-table $data_dir/table-filtered.qza \\\n",
    "    --i-taxonomy $data_dir/taxonomy-filtered.qza \\\n",
    "    --m-metadata-file $data_dir/sample-metadata.tsv \\\n",
    "    --o-visualization $data_dir/taxa-bar-plots-filtered.qzv"
   ]
  },
  {
   "cell_type": "code",
   "execution_count": 17,
   "id": "50dc69fe-96e6-419b-8ebe-ff1515ebdd62",
   "metadata": {
    "collapsed": true,
    "jupyter": {
     "outputs_hidden": true
    },
    "tags": []
   },
   "outputs": [
    {
     "data": {
      "text/html": [
       "<div><img onload=\"(function(div, url){\n",
       "if (typeof require !== 'undefined') {\n",
       "    var baseURL = require.toUrl('').split('/').slice(0, -2).join('/');\n",
       "} else {\n",
       "    var baseURL = JSON.parse(\n",
       "        document.getElementById('jupyter-config-data').innerHTML\n",
       "    ).baseUrl.slice(0, -1);\n",
       "}\n",
       "url = baseURL + url;\n",
       "fetch(url).then(function(res) {\n",
       "    if (res.status === 404) {\n",
       "        div.innerHTML = 'Install QIIME 2 Jupyter extension with:<br />' +\n",
       "                        '<code>jupyter serverextension enable --py qiime2' +\n",
       "                        ' --sys-prefix</code><br />then restart your server.' +\n",
       "                        '<br /><br />(Interactive output not available on ' +\n",
       "                        'static notebook viewer services like nbviewer.)';\n",
       "    } else if (res.status === 409) {\n",
       "        div.innerHTML = 'Visualization no longer in scope. Re-run this cell' +\n",
       "                        ' to see the visualization.';\n",
       "    } else if (res.ok) {\n",
       "        url = res.url;\n",
       "        div.innerHTML = '<iframe src=\\'' + url + '\\' style=\\'' +\n",
       "                        'width: 100%; height: 700px; border: 0;\\'>' +\n",
       "                        '</iframe><hr />Open in a: <a href=\\'' + url + '\\'' +\n",
       "                        ' target=\\'_blank\\'>new window</a>'\n",
       "    } else {\n",
       "        div.innerHTML = 'Something has gone wrong. Check notebook server for' +\n",
       "                        ' errors.';\n",
       "    }\n",
       "});\n",
       "})(this.parentElement, '/qiime2/redirect?location=/tmp/qiime2-archive-krxgelz5')\" src=\"data:image/gif;base64,R0lGODlhAQABAIAAAP///wAAACH5BAEAAAAALAAAAAABAAEAAAICRAEAOw==\" /></div>"
      ],
      "text/plain": [
       "<visualization: Visualization uuid: de2b61a3-9bf3-4738-be8f-e7eb7551f7af>"
      ]
     },
     "execution_count": 17,
     "metadata": {},
     "output_type": "execute_result"
    }
   ],
   "source": [
    "Visualization.load(f'{data_dir}/taxa-bar-plots-filtered.qzv')"
   ]
  },
  {
   "cell_type": "markdown",
   "id": "a6444097",
   "metadata": {},
   "source": [
    "Maybe not all ASVs are annotated at species level! Some get cut off due to insufficient taxonomic resolution when classifying short sequences (i.e., they have matches to multiple clades).\n",
    "\n",
    "CHECK FOR THIS!!!"
   ]
  },
  {
   "cell_type": "code",
   "execution_count": null,
   "id": "2f7eddf5-2d2d-4045-9ebb-d5ff103b76b8",
   "metadata": {},
   "outputs": [],
   "source": []
  }
 ],
 "metadata": {
  "interpreter": {
   "hash": "91041748b0590ab7efbd5530941c47612a12accc8fae155050a565e1194f2150"
  },
  "kernelspec": {
   "display_name": "Python 3 (ipykernel)",
   "language": "python",
   "name": "python3"
  },
  "language_info": {
   "codemirror_mode": {
    "name": "ipython",
    "version": 3
   },
   "file_extension": ".py",
   "mimetype": "text/x-python",
   "name": "python",
   "nbconvert_exporter": "python",
   "pygments_lexer": "ipython3",
   "version": "3.8.13"
  }
 },
 "nbformat": 4,
 "nbformat_minor": 5
}
