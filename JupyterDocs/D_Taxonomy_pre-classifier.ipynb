{
 "cells": [
  {
   "cell_type": "markdown",
   "id": "e550c2dd",
   "metadata": {},
   "source": [
    "# Taxonomy classification"
   ]
  },
  {
   "cell_type": "markdown",
   "id": "2c037e47",
   "metadata": {},
   "source": [
    "**Overview:**<br>\n",
    "[1. Setup](#setup)<br>\n",
    "[2. Taxonomy assignment](#tax_assignment_main)<br>\n",
    "&nbsp;&nbsp;&nbsp;&nbsp;[2.1 Taxonomy classifier](#ref_db)<br>\n",
    "&nbsp;&nbsp;&nbsp;&nbsp;[2.2 Taxonomy assignment](#tax_assignment)<br>\n",
    "&nbsp;&nbsp;&nbsp;&nbsp;[2.3 Taxonomy visualization](#tax_visualization)<br>\n",
    "&nbsp;&nbsp;&nbsp;&nbsp;[2.4 Evaluation classifier](#evaluation_classifier)<br>"
   ]
  },
  {
   "cell_type": "markdown",
   "id": "a18e8b06",
   "metadata": {},
   "source": [
    "<a id='setup'></a>\n",
    "\n",
    "## 1. Setup"
   ]
  },
  {
   "cell_type": "markdown",
   "id": "b2a0bc87",
   "metadata": {},
   "source": [
    "The cell below will import all the packages required in the downstream analyses as well as set all the necessary variables and data paths."
   ]
  },
  {
   "cell_type": "code",
   "execution_count": 1,
   "id": "72951683",
   "metadata": {
    "tags": []
   },
   "outputs": [],
   "source": [
    "import os\n",
    "import pandas as pd\n",
    "from qiime2 import Visualization\n",
    "import matplotlib.pyplot as plt\n",
    "import numpy as np\n",
    "\n",
    "import qiime2 as q2\n",
    "\n",
    "%matplotlib inline\n",
    "\n",
    "# location of the data and all the results produced by this notebook \n",
    "data_dir = 'project_data'\n",
    "\n",
    "if not os.path.isdir(data_dir):\n",
    "    os.makedirs(data_dir)"
   ]
  },
  {
   "cell_type": "markdown",
   "id": "21b67c44-b4d5-4df8-8b9d-05356f748176",
   "metadata": {},
   "source": [
    "Download the `FeatureData[Sequence]` from our data which was made in the FirstLook.ipynb:"
   ]
  },
  {
   "cell_type": "code",
   "execution_count": null,
   "id": "5e3fdc0c-5bb2-44c0-aa2c-8d454e3284fe",
   "metadata": {},
   "outputs": [],
   "source": [
    "! wget -nv -O $data_dir/rep-seqs.qza 'https://polybox.ethz.ch/index.php/s/MBLSUQXzglnn66u/download?path=%2F&files=Sequences_rep_set.qza'"
   ]
  },
  {
   "cell_type": "markdown",
   "id": "465796e0-7a29-4223-be66-9fbd4e7d90df",
   "metadata": {},
   "source": [
    "Download the `FeatureTable[Frequency]` containing a mapping of the dereplicated sequences to samples from our data which was made in the FirstLook.ipynb:\n",
    "\n"
   ]
  },
  {
   "cell_type": "code",
   "execution_count": null,
   "id": "38e6082c-9901-45ae-9c25-0505183feb8c",
   "metadata": {},
   "outputs": [],
   "source": [
    "! wget -nv -O $data_dir/table.qza 'https://polybox.ethz.ch/index.php/s/MBLSUQXzglnn66u/download?path=%2F&files=Feature_table.qza'"
   ]
  },
  {
   "cell_type": "markdown",
   "id": "d93d188a",
   "metadata": {},
   "source": [
    "<a id='tax_assignment_main'></a>\n",
    "\n",
    "## 2. Taxonomy assignment\n",
    "\n",
    "To classify the sequences into bacterial species, the assignment can be done with BLAST search of the sequences against a data base of known sequence. Another methode is a machine learning classifier which is trained on a reference database to recognize the bacterial species in the samples. \n",
    "Unfortunately with the memory from the JupyterLab it was not possible to train our own classifier. \n",
    "The approach how to classify our own classifier can be found in the additional D_Taxonomy Python Notebooks. \n",
    "\n",
    "Here pre-trained classifiers are downloaded and used on the project dataset to assign the taxon to the samples.\n"
   ]
  },
  {
   "cell_type": "markdown",
   "id": "6afca53c",
   "metadata": {},
   "source": [
    "<a id='ref_db'></a>\n",
    "\n",
    "### 2.1 Taxonomy classifier\n",
    "As it is not possible to train our own classifier, it is necessary to find a classifier which is trained on very similar data as our. Therefore a classifier on human stool or gut sample is choosen. \n"
   ]
  },
  {
   "cell_type": "markdown",
   "id": "01cf20b0-dc03-49e5-85f3-9e60ae96b982",
   "metadata": {},
   "source": [
    "In the following cell the classifier is downloaded. \n",
    "Uniform and weighted naive Bayes classifiers trained on Silva 138.1 data for use with QIIME 2 q2-feature-classifier.\n",
    "\n",
    "full-length-average-classifier.qza and 515f-806r-average-classifier.qza are classifiers using weights averaged across 14 EMPO 3 habitat types. If in doubt, use one of these.\n",
    "\n",
    "Original weights derived from Qiita, scripts used to derive them, and additional information available at https://github.com/BenKaehler/readytowear.\n",
    "\n",
    "Classifiers trained on full-length 16S or 515F/806R region as labelled.\n",
    "\n",
    "Full length Silva 138.1 reference sequences and corresponding taxonomies are in ref-seqs.qza an ref-tax.qza.\n",
    "\n",
    "If you use any of the weighted classifiers, please cite\n",
    "\n",
    "Kaehler BD, Bokulich NA, McDonald D, Knight R, Caporaso JG, Huttley GA. (2019). Species-level microbial sequence classification is improved by source-environment information. Nature Communications 10: 4643. doi: https://doi.org/10.1038/s41467-019-12669-6\n",
    "If you use the any of the classifiers (weighted or otherwise), please cite\n",
    "\n",
    "Bokulich, N.A., Kaehler, B.D., Rideout, J.R. et al. (2018). Optimizing taxonomic classification of marker-gene amplicon sequences with QIIME 2’s q2-feature-classifier plugin. Microbiome 6, 90. doi: https://doi.org/10.1186/s40168-018-0470-z\n",
    "\n",
    "If you use any file from here, please cite:\n",
    "\n",
    "Quast C, Pruesse E, Yilmaz P, Gerken J, Schweer T, Yarza P, Peplies J, Glöckner FO (2013) The SILVA ribosomal RNA gene database project: improved data processing and web-based tools. Nucl. Acids Res. 41 (D1): D590-D596\n",
    "\n",
    "Robeson, M. S., O’Rourke, D. R., Kaehler, B. D., Ziemski, M., Dillon, M. R., Foster, J. T., & Bokulich, N. A. (2021). RESCRIPt: Reproducible sequence taxonomy reference database management. PLoS Comp. Bio., 17(11). doi: https://doi.org/10.1371/journal.pcbi.1009581\n",
    "\n",
    "Warning: Pre-trained classifiers that can be used with q2-feature-classifier currently present a security risk. If using a pre-trained classifier such as the ones provided here, you should trust the person who trained the classifier and the person who provided you with the qza file."
   ]
  },
  {
   "cell_type": "code",
   "execution_count": 2,
   "id": "058db38d-c6f0-4fbb-9b62-58d954b84215",
   "metadata": {},
   "outputs": [
    {
     "name": "stdout",
     "output_type": "stream",
     "text": [
      "2022-11-06 12:58:55 URL:https://zenodo.org/record/6395539/files/515f-806r-human-stool-classifier.qza?download=1 [152194741/152194741] -> \"project_data/515f-806r-human-stool-classifier.qza\" [1]\n"
     ]
    }
   ],
   "source": [
    "! wget -nv -O $data_dir/515f-806r-human-stool-classifier.qza https://zenodo.org/record/6395539/files/515f-806r-human-stool-classifier.qza?download=1"
   ]
  },
  {
   "cell_type": "code",
   "execution_count": 3,
   "id": "a3da4032-017c-4004-af2a-7a5db33c9d4c",
   "metadata": {},
   "outputs": [
    {
     "name": "stdout",
     "output_type": "stream",
     "text": [
      "2022-11-06 12:59:03 URL:https://zenodo.org/record/6395539/files/full-length-human-stool-classifier.qza?download=1 [532863962/532863962] -> \"project_data/full-length-human-stool-classifier.qza\" [1]\n"
     ]
    }
   ],
   "source": [
    "! wget -nv -O $data_dir/full-length-human-stool-classifier.qza https://zenodo.org/record/6395539/files/full-length-human-stool-classifier.qza?download=1"
   ]
  },
  {
   "cell_type": "code",
   "execution_count": 4,
   "id": "0fefd586-1e81-4faa-a457-37cbe6ced433",
   "metadata": {},
   "outputs": [
    {
     "name": "stdout",
     "output_type": "stream",
     "text": [
      "2022-11-06 12:59:06 URL:https://zenodo.org/record/6395539/files/515f-806r-average-classifier.qza?download=1 [152982184/152982184] -> \"project_data/515f-806r-average-classifier.qza\" [1]\n"
     ]
    }
   ],
   "source": [
    "! wget -nv -O $data_dir/515f-806r-average-classifier.qza https://zenodo.org/record/6395539/files/515f-806r-average-classifier.qza?download=1"
   ]
  },
  {
   "cell_type": "code",
   "execution_count": null,
   "id": "a6485d2e-21d1-403f-a656-b2b984b6099f",
   "metadata": {},
   "outputs": [],
   "source": [
    "! wget -nv -O $data_dir/full-length-average-classifier.qza https://zenodo.org/record/6395539/files/full-length-average-classifier.qza?download=1"
   ]
  },
  {
   "cell_type": "markdown",
   "id": "d955c432-0fd7-44f5-bfc4-26f3f9b7a32b",
   "metadata": {},
   "source": [
    "Ref-seq which are used for the classifier:"
   ]
  },
  {
   "cell_type": "code",
   "execution_count": 5,
   "id": "e8f85f2c-30cf-4519-b9cc-900438be6e3a",
   "metadata": {},
   "outputs": [
    {
     "name": "stdout",
     "output_type": "stream",
     "text": [
      "2022-11-06 12:59:09 URL:https://zenodo.org/record/6395539/files/ref-seqs.qza?download=1 [159181191/159181191] -> \"project_data/ref-seqs.qza\" [1]\n"
     ]
    }
   ],
   "source": [
    "! wget -nv -O $data_dir/ref-seqs.qza https://zenodo.org/record/6395539/files/ref-seqs.qza?download=1"
   ]
  },
  {
   "cell_type": "markdown",
   "id": "5ef1a325-bf7a-4398-8d76-207c726c7680",
   "metadata": {},
   "source": [
    "Ref-tax used for the classifier are downloaded: "
   ]
  },
  {
   "cell_type": "code",
   "execution_count": 6,
   "id": "972e1fdb-75cb-4e6c-aaa6-a2dffcdcbcf4",
   "metadata": {},
   "outputs": [
    {
     "name": "stdout",
     "output_type": "stream",
     "text": [
      "2022-11-06 12:59:11 URL:https://zenodo.org/record/6395539/files/ref-tax.qza?download=1 [11614482/11614482] -> \"project_data/ref-tax.qza\" [1]\n"
     ]
    }
   ],
   "source": [
    "! wget -nv -O $data_dir/ref-tax.qza https://zenodo.org/record/6395539/files/ref-tax.qza?download=1"
   ]
  },
  {
   "cell_type": "markdown",
   "id": "59c3563c-e0fc-4ad9-9042-3fd06f4339c1",
   "metadata": {},
   "source": []
  },
  {
   "cell_type": "markdown",
   "id": "d1b3bba0",
   "metadata": {},
   "source": [
    "<a id='tax_assignment'></a>\n",
    "\n",
    "### 2.2 Taxonomy assignment\n",
    "\n",
    "After all the preprocessing steps it is time to assign taxonomy labels to the ASVs from the project data. The `classify-sklearn` action from the `feature-classifier` plugin needs two things: \n",
    "- the classifier which was downloaded\n",
    "- the sequences to be classified\n",
    "\n",
    "This step will require the `FeatureData[Sequence]` artifact (containing our ASVs) that were generated beforhand.\n",
    "To run the following cell at least 10 GB of available RAM is required."
   ]
  },
  {
   "cell_type": "code",
   "execution_count": 8,
   "id": "572b7633",
   "metadata": {},
   "outputs": [
    {
     "name": "stdout",
     "output_type": "stream",
     "text": [
      "^C\n",
      "\n",
      "Aborted!\n"
     ]
    }
   ],
   "source": [
    "! qiime feature-classifier classify-sklearn \\\n",
    "    --i-classifier $data_dir/515f-806r-human-stool-classifier.qza \\\n",
    "    --i-reads $data_dir/rep-seqs.qza \\\n",
    "    --o-classification $data_dir/515f-806r-human-stool-taxonomy.qza"
   ]
  },
  {
   "cell_type": "code",
   "execution_count": 7,
   "id": "ef170f03-1c2d-4d4c-a861-6e8bc316a08e",
   "metadata": {},
   "outputs": [],
   "source": [
    "! qiime feature-classifier classify-sklearn \\\n",
    "    --i-classifier $data_dir/full-length-human-stool-classifier.qza \\\n",
    "    --i-reads $data_dir/rep-seqs.qza \\\n",
    "    --o-classification $data_dir/full-length-human-stool-taxonomy.qza"
   ]
  },
  {
   "cell_type": "code",
   "execution_count": null,
   "id": "a37264c2-c4bc-48e2-96a6-a1881f522452",
   "metadata": {},
   "outputs": [],
   "source": [
    "! qiime feature-classifier classify-sklearn \\\n",
    "    --i-classifier $data_dir/515f-806r-average-classifier.qza \\\n",
    "    --i-reads $data_dir/rep-seqs.qza \\\n",
    "    --o-classification $data_dir/515f-806r-average-taxonomy.qza"
   ]
  },
  {
   "cell_type": "code",
   "execution_count": null,
   "id": "db42a6e3-5159-4d59-b88c-7c4da321de3d",
   "metadata": {},
   "outputs": [],
   "source": [
    "! qiime feature-classifier classify-sklearn \\\n",
    "    --i-classifier $data_dir/full-length-average-classifier.qza \\\n",
    "    --i-reads $data_dir/rep-seqs.qza \\\n",
    "    --o-classification $data_dir/full-length-average-taxonomy.qza"
   ]
  },
  {
   "cell_type": "markdown",
   "id": "1f334078",
   "metadata": {},
   "source": [
    "A new `FeatureData[Taxonomy]` artifact should be created, containing our taxonomic assignments per feature."
   ]
  },
  {
   "cell_type": "code",
   "execution_count": null,
   "id": "0d5b35e0",
   "metadata": {},
   "outputs": [],
   "source": [
    "! qiime tools peek $data_dir/515f-806r-human-stool-taxonomy.qza\n",
    "\n",
    "! qiime tools peek $data_dir/full-length-human-stool-taxonomy.qza\n",
    "\n",
    "! qiime tools peek $data_dir/515f-806r-average-taxonomy.qza\n",
    "\n",
    "! qiime tools peek $data_dir/full-length-average-taxonomy.qza"
   ]
  },
  {
   "cell_type": "markdown",
   "id": "17d2cc7b",
   "metadata": {},
   "source": [
    "<a id='tax_visualization'></a>\n",
    "\n",
    "### 2.3 Taxonomy visualization\n",
    "\n",
    "The composition of the project samples is in the coming section analyzed . A tabular representation of all the features labeled with their corresponding taxonomy is created:"
   ]
  },
  {
   "cell_type": "code",
   "execution_count": null,
   "id": "e884adc6",
   "metadata": {},
   "outputs": [],
   "source": [
    "! qiime metadata tabulate \\\n",
    "    --m-input-file $data_dir/515f-806r-human-stool-taxonomy.qza \\\n",
    "    --o-visualization $data_dir/515f-806r-human-stool-taxonomy.qzv"
   ]
  },
  {
   "cell_type": "code",
   "execution_count": null,
   "id": "62b16c6a-defb-444a-a480-989712cc8626",
   "metadata": {},
   "outputs": [],
   "source": [
    "! qiime metadata tabulate \\\n",
    "    --m-input-file $data_dir/full-length-human-stool-taxonomy.qza \\\n",
    "    --o-visualization $data_dir/full-length-human-stool-taxonomy.qzv"
   ]
  },
  {
   "cell_type": "code",
   "execution_count": null,
   "id": "5edaf8cf-961d-416c-a010-a27ea157d79c",
   "metadata": {},
   "outputs": [],
   "source": [
    "! qiime metadata tabulate \\\n",
    "    --m-input-file $data_dir/515f-806r-average-taxonomy.qza \\\n",
    "    --o-visualization $data_dir/515f-806r-average-taxonomy.qzv"
   ]
  },
  {
   "cell_type": "code",
   "execution_count": null,
   "id": "e9590292-ea35-4b33-a2ed-3f3b106f06c8",
   "metadata": {},
   "outputs": [],
   "source": [
    "! qiime metadata tabulate \\\n",
    "    --m-input-file $data_dir/full-length-average-taxonomy.qza \\\n",
    "    --o-visualization $data_dir/full-length-average-taxonomy.qzv"
   ]
  },
  {
   "cell_type": "markdown",
   "id": "34d3a945",
   "metadata": {},
   "source": [
    "In the table an ID of every ASV is asigned with its corresponding taxonomic assignment and the prediction confidence."
   ]
  },
  {
   "cell_type": "code",
   "execution_count": null,
   "id": "b1128729",
   "metadata": {
    "tags": []
   },
   "outputs": [],
   "source": [
    "Visualization.load(f'{data_dir}/515f-806r-human-stool-taxonomy.qzv')"
   ]
  },
  {
   "cell_type": "code",
   "execution_count": null,
   "id": "e352978c-9aa8-4ad3-a050-fad3885289ac",
   "metadata": {},
   "outputs": [],
   "source": [
    "Visualization.load(f'{data_dir}/full-length-human-stool-taxonomy.qzv')"
   ]
  },
  {
   "cell_type": "code",
   "execution_count": null,
   "id": "79b2ae6c-d6b9-40eb-80e5-1a502623cd66",
   "metadata": {},
   "outputs": [],
   "source": [
    "Visualization.load(f'{data_dir}/515f-806r-average-taxonomy.qzv')"
   ]
  },
  {
   "cell_type": "code",
   "execution_count": null,
   "id": "173504c9-d089-48c2-a849-18649bb95d6a",
   "metadata": {},
   "outputs": [],
   "source": [
    "Visualization.load(f'{data_dir}/full-length-average-taxonomy.qzv')"
   ]
  },
  {
   "cell_type": "markdown",
   "id": "ffb437fe",
   "metadata": {},
   "source": [
    "The taxonomic information per feature can be combined with the information about the samples to get an idea of the taxonomic distribution of species is in the different samples. The data can be visualized in a bar plot. Each bar represents a single sample and is broken down proportionally to counts of every taxon."
   ]
  },
  {
   "cell_type": "code",
   "execution_count": null,
   "id": "e3d6488a",
   "metadata": {},
   "outputs": [],
   "source": [
    "! qiime taxa barplot \\\n",
    "    --i-table $data_dir/table.qza \\\n",
    "    --i-taxonomy $data_dir/515f-806r-human-stool-taxonomy.qza \\\n",
    "    --m-metadata-file $data_dir/cleand_sample_meta_data.tsv \\\n",
    "    --o-visualization $data_dir/515f-806r-human-stool-barplot.qzv"
   ]
  },
  {
   "cell_type": "code",
   "execution_count": null,
   "id": "251e1174",
   "metadata": {
    "tags": []
   },
   "outputs": [],
   "source": [
    "Visualization.load(f'{data_dir}/515f-806r-human-stool-barplot.qzv')"
   ]
  },
  {
   "cell_type": "code",
   "execution_count": null,
   "id": "fa4fc9ef-0ab0-430c-aa15-838e2769c8de",
   "metadata": {},
   "outputs": [],
   "source": [
    "! qiime taxa barplot \\\n",
    "    --i-table $data_dir/table.qza \\\n",
    "    --i-taxonomy $data_dir/515f-806r-average-taxonomy.qza \\\n",
    "    --m-metadata-file $data_dir/cleand_sample_meta_data.tsv \\\n",
    "    --o-visualization $data_dir/515f-806r-average-barplot.qzv"
   ]
  },
  {
   "cell_type": "code",
   "execution_count": null,
   "id": "90593366-df67-45df-a2b9-10ee427fddb3",
   "metadata": {},
   "outputs": [],
   "source": [
    "Visualization.load(f'{data_dir}/515f-806r-average-barplot.qzv')"
   ]
  },
  {
   "cell_type": "code",
   "execution_count": null,
   "id": "612567db-61f8-448c-8500-fa8b5d774c34",
   "metadata": {},
   "outputs": [],
   "source": [
    "! qiime taxa barplot \\\n",
    "    --i-table $data_dir/table.qza \\\n",
    "    --i-taxonomy $data_dir/515f-806r-human-stool-taxonomy.qza \\\n",
    "    --m-metadata-file $data_dir/cleand_sample_meta_data.tsv \\\n",
    "    --o-visualization $data_dir/515f-806r-human-stool-barplot.qzv"
   ]
  },
  {
   "cell_type": "code",
   "execution_count": null,
   "id": "da3fdb21-f8d9-4a94-9b0c-c8f12d9f9ffe",
   "metadata": {},
   "outputs": [],
   "source": [
    "Visualization.load(f'{data_dir}/515f-806r-human-stool-barplot.qzv')"
   ]
  },
  {
   "cell_type": "code",
   "execution_count": null,
   "id": "81658aa3-9c93-4bec-b7d0-3fbe608a860b",
   "metadata": {},
   "outputs": [],
   "source": [
    "! qiime taxa barplot \\\n",
    "    --i-table $data_dir/table.qza \\\n",
    "    --i-taxonomy $data_dir/full-length-average-taxonomy.qza \\\n",
    "    --m-metadata-file $data_dir/cleand_sample_meta_data.tsv \\\n",
    "    --o-visualization $data_dir/full-length-average-barplot.qzv"
   ]
  },
  {
   "cell_type": "code",
   "execution_count": null,
   "id": "1dac38c7-b044-45cd-947d-c6f2225f61cb",
   "metadata": {},
   "outputs": [],
   "source": [
    "Visualization.load(f'{data_dir}/full-length-average-barplot.qzv')"
   ]
  },
  {
   "cell_type": "markdown",
   "id": "222b1821",
   "metadata": {
    "tags": []
   },
   "source": [
    "Some of the taxonomic assignment are compared to  BLAST for validation. As from the generated ASVs  the BLAST links are equipped there."
   ]
  },
  {
   "cell_type": "code",
   "execution_count": null,
   "id": "c499a004",
   "metadata": {
    "tags": []
   },
   "outputs": [],
   "source": [
    "Visualization.load(f'{data_dir}/rep-seqs.qzv')"
   ]
  },
  {
   "cell_type": "markdown",
   "id": "d2ab20b0",
   "metadata": {
    "tags": []
   },
   "source": [
    "Using BLAST as the taxonomic identifier are the same taxonomies observed as with q2-feature-classifier?"
   ]
  },
  {
   "cell_type": "markdown",
   "id": "f7167267",
   "metadata": {},
   "source": [
    "Mitochondrial sequences may have to be filtered out of the feature table and sequences. Therefore the `filter-table` and `filter-seqs` action from the `taxa` plugin are used. To exclude features meeting certain criteria we can use the `p-exclude` parameter as follows:"
   ]
  },
  {
   "cell_type": "code",
   "execution_count": null,
   "id": "0b3802c7",
   "metadata": {
    "tags": []
   },
   "outputs": [],
   "source": [
    "#! qiime taxa filter-table \\\n",
    "#    --i-table $data_dir/table.qza \\\n",
    "#    --i-taxonomy $data_dir/silva-taxonomy.qza \\\n",
    "#    --p-exclude mitochondria,chloroplast \\\n",
    "#    --o-filtered-table $data_dir/table-filtered.qza\n",
    "\n",
    "#! qiime taxa filter-seqs \\\n",
    "#    --i-sequences $data_dir/rep-seqs.qza \\\n",
    "#    --i-taxonomy $data_dir/silva-taxonomy.qza \\\n",
    "#    --p-exclude mitochondria \\\n",
    "#    --o-filtered-sequences $data_dir/rep-seqs-filtered.qza"
   ]
  },
  {
   "cell_type": "markdown",
   "id": "c1d79a64",
   "metadata": {},
   "source": [
    "The taxa barplot is regenerated using the filtered sequences to compare it to the previous visualization  to check if the distribution on different taxonomic level have changed between samples. "
   ]
  },
  {
   "cell_type": "code",
   "execution_count": null,
   "id": "c100bbba-e731-4643-b36c-c4908b652526",
   "metadata": {},
   "outputs": [],
   "source": [
    "#! qiime feature-classifier classify-sklearn \\\n",
    "#    --i-classifier $data_dir/515f-806r-classifier.qza \\\n",
    "#    --i-reads $data_dir/rep-seqs-filtered.qza \\\n",
    "#    --o-classification $data_dir/silva-taxonomy-filtered.qza"
   ]
  },
  {
   "cell_type": "code",
   "execution_count": null,
   "id": "5ca47e53-bcef-4611-8388-efc1236903f1",
   "metadata": {},
   "outputs": [],
   "source": [
    "#! qiime metadata tabulate \\\n",
    "#    --m-input-file $data_dir/silva-taxonomy-filtered.qza \\\n",
    "#    --o-visualization $data_dir/silva-taxonomy-filtered.qzv"
   ]
  },
  {
   "cell_type": "code",
   "execution_count": null,
   "id": "b0084911-0767-434b-9feb-de8bebb63052",
   "metadata": {
    "tags": []
   },
   "outputs": [],
   "source": [
    "#Visualization.load(f'{data_dir}/silva-taxonomy-filtered.qzv')"
   ]
  },
  {
   "cell_type": "code",
   "execution_count": null,
   "id": "3dd7ce00-227d-4551-9712-c2b45176c600",
   "metadata": {},
   "outputs": [],
   "source": [
    "#! qiime taxa barplot \\\n",
    "#    --i-table $data_dir/table-filtered.qza \\\n",
    "#    --i-taxonomy $data_dir/silva-taxonomy-filtered.qza \\\n",
    "#    --m-metadata-file $data_dir/cleaned_sample_metadata.tsv \\\n",
    "#    --o-visualization $data_dir/taxa-bar-plots-filtered.qzv"
   ]
  },
  {
   "cell_type": "code",
   "execution_count": null,
   "id": "50dc69fe-96e6-419b-8ebe-ff1515ebdd62",
   "metadata": {
    "tags": []
   },
   "outputs": [],
   "source": [
    "#Visualization.load(f'{data_dir}/taxa-bar-plots-filtered.qzv')"
   ]
  },
  {
   "cell_type": "markdown",
   "id": "a6444097",
   "metadata": {},
   "source": [
    "Maybe not all ASVs are annotated at species level! Some get cut off due to insufficient taxonomic resolution when classifying short sequences (i.e., they have matches to multiple clades).\n",
    "\n",
    "CHECK FOR THIS!!!"
   ]
  },
  {
   "cell_type": "markdown",
   "id": "acd0d17e-571c-475f-9a25-fffe2d935661",
   "metadata": {},
   "source": [
    "<a id='evaluation_classifier'></a>\n",
    "\n",
    "\n",
    "### 2.4 Evaluation classifier"
   ]
  },
  {
   "cell_type": "code",
   "execution_count": null,
   "id": "2f7eddf5-2d2d-4045-9ebb-d5ff103b76b8",
   "metadata": {},
   "outputs": [],
   "source": [
    "! qiime rescript evaluate-classifications \\\n",
    "    --i-expected-taxonomies ref-taxonomy.qza \\\n",
    "    --i-observed-taxonomies 515f-806r-human-stool-taxonomy.qza \\\n",
    "    --o-evaluation 515f-806r-human-stool-classifier-evaluation.qzv"
   ]
  }
 ],
 "metadata": {
  "interpreter": {
   "hash": "91041748b0590ab7efbd5530941c47612a12accc8fae155050a565e1194f2150"
  },
  "kernelspec": {
   "display_name": "Python 3 (ipykernel)",
   "language": "python",
   "name": "python3"
  },
  "language_info": {
   "codemirror_mode": {
    "name": "ipython",
    "version": 3
   },
   "file_extension": ".py",
   "mimetype": "text/x-python",
   "name": "python",
   "nbconvert_exporter": "python",
   "pygments_lexer": "ipython3",
   "version": "3.8.13"
  }
 },
 "nbformat": 4,
 "nbformat_minor": 5
}
