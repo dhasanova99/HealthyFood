{
 "cells": [
  {
   "cell_type": "markdown",
   "id": "e4782066",
   "metadata": {},
   "source": [
    "**Functional redundancy and resilience**\n",
    "\n",
    "Examination of functional redundancy and reslience in the context of microbial biodiversity measurements.\n",
    "1. compare taxonomic and functional diversity in these same samples to evaluate _functional redundancy_ in microbial communities.\n",
    "2. examine longitudinal change in these biodiversity metrics to measure _resilience_ in microbial communities\n",
    "\n",
    "- Metadata : sample_meta_data (done in A)\n",
    "- Diversity analysis : alpha = core-metrics-results (done in F), beta = core-metrics-results-bd (done in G)\n",
    "- Metagenome content predicted by PICRUST2 : (done in I)\n"
   ]
  },
  {
   "cell_type": "markdown",
   "id": "8ed4345f",
   "metadata": {},
   "source": [
    "<a id='setup'></a>\n",
    "## 0. Setup"
   ]
  },
  {
   "cell_type": "code",
   "execution_count": null,
   "id": "f9365fb9",
   "metadata": {},
   "outputs": [],
   "source": [
    "import os\n",
    "import qiime2 as q2\n",
    "import pandas as pd\n",
    "from qiime2 import Visualization\n",
    "\n",
    "data_dir = 'w10_data'\n",
    "if not os.path.isdir(data_dir):\n",
    "    os.makedirs(data_dir)\n",
    "    \n",
    "# do not increase this value!\n",
    "n_jobs = 3\n",
    "    \n",
    "%matplotlib inline"
   ]
  },
  {
   "cell_type": "code",
   "execution_count": null,
   "id": "3de3d3cb",
   "metadata": {},
   "outputs": [],
   "source": [
    "data_dir ='project_data'"
   ]
  },
  {
   "cell_type": "code",
   "execution_count": null,
   "id": "d5b6e523",
   "metadata": {},
   "outputs": [],
   "source": [
    "md = q2.Metadata.load(data_dir + '/sample_meta_data.tsv').to_dataframe()\n",
    "pd.DataFrame([str(sorted(md[col].astype(str).unique())) for col in md.columns],\n",
    "             index=pd.Index(md.columns, name='Column'), columns=['Values'])"
   ]
  },
  {
   "cell_type": "markdown",
   "id": "c86eb265",
   "metadata": {},
   "source": [
    "<a id='function'></a>\n",
    "## 1.a Functional redundancy calculation"
   ]
  },
  {
   "cell_type": "markdown",
   "id": "054f87e2",
   "metadata": {},
   "source": [
    "Next we will look at predicted gene pathway information to compare taxonomic vs. functional diversity patterns. \n",
    "We will use the `core-metrics` pipeline on the `pathway_abundance.qza` table, which consists of PICRUST2-predicted gene pathway counts. "
   ]
  },
  {
   "cell_type": "code",
   "execution_count": null,
   "id": "523c8dcc",
   "metadata": {},
   "outputs": [],
   "source": [
    "# Will that be an interest to sample the file like we did in exercise with mother / child, according to categorical variable (age?)\n",
    "! qiime feature-table filter-samples \\\n",
    "    --i-table $data_dir/pathway_abundance.qza \\ # adjust\n",
    "    --m-metadata-file $data_dir/sample_meta_data.tsv \\\n",
    "    --p-where \"[mom_or_child]='C'\" \\ # adjust to variable of interest\n",
    "    --o-filtered-table $data_dir/pathway_abundance_sorted.qza\n",
    "\n",
    "! qiime diversity core-metrics \\\n",
    "  --i-table $data_dir/pathway_abundance_sorted.qza \\\n",
    "  --m-metadata-file $data_dir/sample_meta_data.tsv \\\n",
    "  --p-sampling-depth 100000 \\\n",
    "  --p-n-jobs $n_jobs \\\n",
    "  --output-dir $data_dir/core-metrics-picrust2  #?\n",
    "\n",
    "! qiime diversity adonis \\\n",
    "  --i-distance-matrix $data_dir/core-metrics-picrust2/jaccard_distance_matrix.qza \\\n",
    "  --m-metadata-file $data_dir/metadata.tsv \\\n",
    "  --p-formula 'month*diet*delivery' \\ #adjust the formula: should we keep the same long one ?\n",
    "  --o-visualization $data_dir/core-metrics-picrust2/adonis-results.qzv"
   ]
  },
  {
   "cell_type": "code",
   "execution_count": null,
   "id": "814fd73c",
   "metadata": {},
   "outputs": [],
   "source": [
    "Visualization.load(f'{data_dir}/core-metrics-picrust2/bray_curtis_emperor.qzv')"
   ]
  },
  {
   "cell_type": "code",
   "execution_count": null,
   "id": "0d19df19-313d-40be-9b75-d889ea079283",
   "metadata": {},
   "outputs": [],
   "source": [
    "Visualization.load(f'{data_dir}/core-metrics-picrust2/adonis-results.qzv')"
   ]
  },
  {
   "cell_type": "markdown",
   "id": "7a9d49a8",
   "metadata": {},
   "source": [
    "<a id='procrustes'></a>\n",
    "## 1.b Comparing ordinations\n",
    "\n",
    "One way to compare beta diversity ordination results directly is with [Procrustes analysis](https://en.wikipedia.org/wiki/Procrustes_analysis). This method rotates and scales two ordinations to align them as best as possible. We can view the transformed PCoA coordinates together in a single plot to visually compare the ordinations. \n",
    "\n"
   ]
  },
  {
   "cell_type": "code",
   "execution_count": null,
   "id": "b3e492f2",
   "metadata": {},
   "outputs": [],
   "source": [
    "! qiime diversity procrustes-analysis \\\n",
    "  --i-reference $data_dir/core-metrics-results/jaccard_pcoa_results.qza \\ # on prendra sûrement pas jaccard \n",
    "  --i-other $data_dir/core-metrics-picrust2/jaccard_pcoa_results.qza \\ # la aussi, on change la matrice de distances\n",
    "  --output-dir $data_dir/core-metrics-picrust2/procrustes/\n",
    "\n",
    "! qiime emperor procrustes-plot \\\n",
    "  --i-reference-pcoa $data_dir/core-metrics-picrust2/procrustes/transformed_reference.qza \\\n",
    "  --i-other-pcoa $data_dir/core-metrics-picrust2/procrustes/transformed_other.qza \\\n",
    "  --m-metadata-file $data_dir/sample_meta_data.tsv \\\n",
    "  --o-visualization $data_dir/core-metrics-picrust2/procrustes-pcoa-plot.qzv"
   ]
  },
  {
   "cell_type": "code",
   "execution_count": null,
   "id": "4e9e5c4a-d495-4326-b569-b4e13f00c04f",
   "metadata": {},
   "outputs": [],
   "source": [
    "Visualization.load(f'{data_dir}/core-metrics-picrust2/procrustes-pcoa-plot.qzv')"
   ]
  },
  {
   "cell_type": "markdown",
   "id": "7622b3ef-7ca1-4bc8-a9b9-9acc8c7de70c",
   "metadata": {},
   "source": [
    "#here we say how good does this fit look \n",
    "#does this indicates that ASV and pathway abundances are very similar or dissimilar"
   ]
  },
  {
   "cell_type": "markdown",
   "id": "fdce8403",
   "metadata": {},
   "source": [
    "<a id='longitudinal'></a>\n",
    "## 2.a Longitudinal resilience analysis"
   ]
  },
  {
   "cell_type": "markdown",
   "id": "ed2d4647",
   "metadata": {},
   "source": [
    "Now let's examine resilience. It measures the ability of an ecosystem to recover from disturbance, e.g., by repopulation of the species and ecosystem functions necessary in that system.\n",
    "\n",
    "We will use the `q2-longitudinal` plugin to examine temporal dynamics, in relation to XXXXX. The XXXXX microbiota serve as a baseline of stabilized adult microbiota to which the XXXXX microbiota can be compared (to measure resilience as the rate of (re-)stabilization).\n"
   ]
  },
  {
   "cell_type": "code",
   "execution_count": null,
   "id": "6242b396",
   "metadata": {},
   "outputs": [],
   "source": [
    "! qiime feature-table filter-samples \\\n",
    "    --i-table $data_dir/filtered-table-deblur.qza \\ # where?\n",
    "    --m-metadata-file $data_dir/sample_meta_data.tsv \\\n",
    "    --o-filtered-table $data_dir/filtered-table-deblur-with-mothers.qza\n",
    "\n",
    "# Repeat our core-metrics diversity analysis from before, this time with other category\n",
    "! qiime diversity core-metrics \\\n",
    "  --i-table $data_dir/filtered-table-deblur-with-mothers.qza \\\n",
    "  --m-metadata-file $data_dir/sample_meta_data.tsv \\\n",
    "  --p-sampling-depth 1800 \\\n",
    "  --p-n-jobs $n_jobs \\\n",
    "  --output-dir $data_dir/core-metrics-with-mothers\n",
    "\n",
    "# this creates an interactive line plot — useful for looking at changes in alpha and beta diversity across time\n",
    "! qiime longitudinal volatility \\\n",
    "  --m-metadata-file $data_dir/sample_meta_data.tsv \\\n",
    "  --m-metadata-file $data_dir/core-metrics-with-mothers/observed_features_vector.qza \\\n",
    "  --m-metadata-file $data_dir/core-metrics-with-mothers/shannon_vector.qza \\\n",
    "  --m-metadata-file $data_dir/core-metrics-with-mothers/jaccard_pcoa_results.qza \\\n",
    "  --p-default-group-column 'diet'\\\n",
    "  --p-default-metric 'observed_features' \\\n",
    "  --p-state-column 'month' \\\n",
    "  --p-individual-id-column 'host_subject_id' \\\n",
    "  --o-visualization $data_dir/core-metrics-with-mothers/volatility.qzv"
   ]
  },
  {
   "cell_type": "code",
   "execution_count": null,
   "id": "34d8ea49-b387-497c-8565-20ec663dc9e2",
   "metadata": {},
   "outputs": [],
   "source": [
    "Visualization.load(f'{data_dir}/core-metrics-with-mothers/volatility.qzv')"
   ]
  },
  {
   "cell_type": "markdown",
   "id": "d871b895",
   "metadata": {},
   "source": [
    "<a id='lme'></a>\n",
    "## 2.b Applying a statistical test to longitudinal data\n",
    "\n",
    "#adjust text for our data if used (not so sure)\n",
    "From our analysis above, it looks like there is an initial \"disruption\" in the composition of the microbiota following birth (i.e., the microbiota of infants are very dissimilar to their mothers during an initial chaotic period), and an eventual \"return\" to normalcy (i.e., the microbiota form a stable community that better resembles an adult gut). However, the rate of return differs between some groups, which we can view here as an indication that some groups are more \"resilient\" than others (or more properly they develop an adult-like microbiome and stabilize more quickly). \n",
    "\n",
    "Here we will use a [linear mixed effects model](https://en.wikipedia.org/wiki/Mixed_model) as a statistical test to examine individual infants' trajectories of development as a comparison of resilience. We will examine developmental trajectories in infants only, not in their mothers, so will use our initial `core-metrics` results. We specify a formula consisting of a dependent variable (here `observed_features`, i.e., ASV richness) and several independent variables and their interactions (`month*diet*delivery`) to test their association with variation in the dependent variable. We also specify random effects to incorporate in the model to account for individual variation in baseline and slope: a random intercept for each individual is included by default, and we specify `month` to include a random slope for each individual. \n",
    "\n",
    "The results should indicate that delivery mode has a significant impact on Shannon diversity (see the `delivery[T.Vaginal]` row in the model results section), and that there is a signficant interaction between delivery mode and age on Shannon diversity (see the `month:delivery[T.Vaginal]` row in the model results).\n"
   ]
  },
  {
   "cell_type": "code",
   "execution_count": null,
   "id": "bbe0b6f1",
   "metadata": {},
   "outputs": [],
   "source": [
    "! qiime longitudinal linear-mixed-effects \\\n",
    "  --m-metadata-file $data_dir/metadata.tsv \\\n",
    "  --m-metadata-file $data_dir/core-metrics-results1000/shannon_vector.qza \\\n",
    "  --p-random-effects 'month'\\\n",
    "  --p-formula 'shannon_entropy~month*diet*delivery' \\\n",
    "  --p-state-column 'month' \\\n",
    "  --p-individual-id-column 'host_subject_id' \\\n",
    "  --o-visualization $data_dir/core-metrics-results1000/lme-shannon.qzv"
   ]
  },
  {
   "cell_type": "code",
   "execution_count": null,
   "id": "9f1e54b9-9431-45f7-a3bf-e716276a2ea7",
   "metadata": {},
   "outputs": [],
   "source": [
    "Visualization.load(f'{data_dir}/core-metrics-results1000/lme-shannon.qzv')"
   ]
  }
 ],
 "metadata": {
  "kernelspec": {
   "display_name": "Python 3 (ipykernel)",
   "language": "python",
   "name": "python3"
  },
  "language_info": {
   "codemirror_mode": {
    "name": "ipython",
    "version": 3
   },
   "file_extension": ".py",
   "mimetype": "text/x-python",
   "name": "python",
   "nbconvert_exporter": "python",
   "pygments_lexer": "ipython3",
   "version": "3.8.13"
  }
 },
 "nbformat": 4,
 "nbformat_minor": 5
}
