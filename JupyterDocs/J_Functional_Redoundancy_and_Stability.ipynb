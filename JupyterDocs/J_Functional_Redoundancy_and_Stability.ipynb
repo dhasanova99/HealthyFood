{
 "cells": [
  {
   "cell_type": "markdown",
   "id": "e4782066",
   "metadata": {},
   "source": [
    "# Functional redundancy\n",
    "\n",
    "Examination of functional redundancy in the context of microbial diversity measurements.\n",
    "**Objective :** compare taxonomic and functional diversity in these same samples to evaluate _functional redundancy_ in microbial communities.\n",
    "\n",
    "- Metadata : sample_meta_data (done in A)\n",
    "- Diversity analysis : alpha = core-metrics-results (done in F), beta = core-metrics-results-bd (done in G)\n",
    "- Metagenome content predicted by PICRUST2 : (done in I)\n"
   ]
  },
  {
   "cell_type": "markdown",
   "id": "76724201-4443-467e-8908-2d4553372be0",
   "metadata": {},
   "source": [
    "#### Notebook overview \n",
    "\n",
    "[1. Setup](#setup)<br>\n",
    "[2. Import files](#import)<br>\n",
    "[3. Functional redundancy calculation](#function)<br>\n",
    "[4. Diet hypothesis testing with Adonis multifactor implementation](#adonis)<br>"
   ]
  },
  {
   "cell_type": "markdown",
   "id": "8ed4345f",
   "metadata": {},
   "source": [
    "<a id='setup'></a>\n",
    "## 1. Setup"
   ]
  },
  {
   "cell_type": "code",
   "execution_count": null,
   "id": "f9365fb9",
   "metadata": {},
   "outputs": [],
   "source": [
    "import os\n",
    "import qiime2 as q2\n",
    "import pandas as pd\n",
    "from qiime2 import Visualization\n",
    "\n",
    "\n",
    "\n",
    "# do not increase this value!\n",
    "n_jobs = 3\n",
    "    \n",
    "%matplotlib inline"
   ]
  },
  {
   "cell_type": "code",
   "execution_count": null,
   "id": "3de3d3cb",
   "metadata": {},
   "outputs": [],
   "source": [
    "data_dir ='project_data'"
   ]
  },
  {
   "cell_type": "markdown",
   "id": "77cafe52-696f-4778-a603-a8038efca07c",
   "metadata": {},
   "source": [
    "<a id='import'></a>\n",
    "## 2. Import files"
   ]
  },
  {
   "cell_type": "code",
   "execution_count": null,
   "id": "a30b7a5d-4cb3-44a6-a80b-f91695c8d1e9",
   "metadata": {},
   "outputs": [],
   "source": [
    "# Metadata\n",
    "! wget -nv -O $data_dir/sample_meta_data.tsv 'https://polybox.ethz.ch/index.php/s/MBLSUQXzglnn66u/download?path=%2F&files=metadata-nutrition.tsv'\n",
    "# Pathway abundance\n",
    "! wget -nv -O $data_dir/picrust2.zip 'https://polybox.ethz.ch/index.php/s/MBLSUQXzglnn66u/download?path=%2F&files=I_picrust2_results.zip'\n",
    "\n",
    "! unzip -q $data_dir/picrust2.zip -d $data_dir\n",
    "! rm $data_dir/picrust2.zip"
   ]
  },
  {
   "cell_type": "markdown",
   "id": "c86eb265",
   "metadata": {},
   "source": [
    "<a id='function'></a>\n",
    "## 3. Functional redundancy calculation"
   ]
  },
  {
   "cell_type": "markdown",
   "id": "054f87e2",
   "metadata": {},
   "source": [
    "Next we will look at predicted gene pathway information to compare taxonomic vs. functional diversity patterns. \n",
    "We will use the `core-metrics` pipeline on the `pathway_abundance.qza` table, which consists of PICRUST2-predicted gene pathway counts. "
   ]
  },
  {
   "cell_type": "code",
   "execution_count": null,
   "id": "2de6d20e-8229-4c9e-9f36-79dd746389e0",
   "metadata": {},
   "outputs": [],
   "source": [
    "! qiime diversity core-metrics \\\n",
    "  --i-table $data_dir/pathway_abundance.qza \\\n",
    "  --m-metadata-file $data_dir/sample_meta_data.tsv \\\n",
    "  --p-sampling-depth 100000 \\\n",
    "  --p-n-jobs $n_jobs \\\n",
    "  --output-dir $data_dir/core-metrics-picrust2  "
   ]
  },
  {
   "cell_type": "markdown",
   "id": "b25146af-4b9c-4597-ba9b-950ed155e487",
   "metadata": {},
   "source": [
    "<a id='adonis'></a>\n",
    "## 4. Diet hypothesis testing with Adonis multifactor implementation"
   ]
  },
  {
   "cell_type": "markdown",
   "id": "7b443810-54c5-4c9a-8a45-dca18c6f41ca",
   "metadata": {},
   "source": [
    "#####  Hypothesis 1 : Drinks"
   ]
  },
  {
   "cell_type": "code",
   "execution_count": null,
   "id": "a8a619a6-f87e-47fb-898f-e7c074b43fdb",
   "metadata": {},
   "outputs": [],
   "source": [
    "! qiime diversity adonis \\\n",
    "  --i-distance-matrix $data_dir/core-metrics-picrust2/bray_curtis_distance_matrix.qza \\\n",
    "  --m-metadata-file $data_dir/sample_meta_data.tsv \\\n",
    "  --p-formula \"NUT_alcohol_frequency*NUT_drinks_per_session\" \\\n",
    "--o-visualization $data_dir/core-metrics-picrust2/adonis-bc-h1.qzv"
   ]
  },
  {
   "cell_type": "code",
   "execution_count": null,
   "id": "48e434ec-2a73-4f7a-9231-e844ff589b04",
   "metadata": {},
   "outputs": [],
   "source": [
    "Visualization.load(f'{data_dir}/core-metrics-picrust2/adonis-bc-h1.qzv')"
   ]
  },
  {
   "cell_type": "markdown",
   "id": "d7dac685-0eaf-48be-9ddc-9696b6d05706",
   "metadata": {},
   "source": [
    "##### Hypothesis 2 : Milk products"
   ]
  },
  {
   "cell_type": "code",
   "execution_count": null,
   "id": "a77cdeb1-50da-49fc-82ae-f4001aa30e84",
   "metadata": {},
   "outputs": [],
   "source": [
    "! qiime diversity adonis \\\n",
    "  --i-distance-matrix $data_dir/core-metrics-picrust2/bray_curtis_distance_matrix.qza \\\n",
    "  --m-metadata-file $data_dir/sample_meta_data.tsv \\\n",
    "  --p-formula \"NUT_milk_cheese_frequency*NUT_milk_substitute_frequency*NUT_vitamin_d_supplement_frequency\" \\\n",
    "--o-visualization $data_dir/core-metrics-picrust2/adonis-bc-h2.qzv"
   ]
  },
  {
   "cell_type": "code",
   "execution_count": null,
   "id": "814fd73c",
   "metadata": {},
   "outputs": [],
   "source": [
    "Visualization.load(f'{data_dir}/core-metrics-picrust2/adonis-bc-h2.qzv')"
   ]
  },
  {
   "cell_type": "markdown",
   "id": "4b07ebe4-bdfb-4b0d-a217-c6ab5987af5b",
   "metadata": {},
   "source": [
    "#####  Hypothesis 3 : Mediterranean"
   ]
  },
  {
   "cell_type": "code",
   "execution_count": null,
   "id": "4da6692d-ec15-4ce4-8af3-67551117e0e0",
   "metadata": {},
   "outputs": [],
   "source": [
    "! qiime diversity adonis \\\n",
    "  --i-distance-matrix $data_dir/core-metrics-picrust2/bray_curtis_distance_matrix.qza \\\n",
    "  --m-metadata-file $data_dir/sample_meta_data.tsv \\\n",
    "  --p-formula \"NUT_olive_oil*NUT_seafood_frequency*NUT_vegetable_frequency*NUT_fruit_frequency*NUT_whole_grain_frequency\" \\\n",
    "--o-visualization $data_dir/core-metrics-picrust2/adonis-bc-h3.qzv"
   ]
  },
  {
   "cell_type": "code",
   "execution_count": null,
   "id": "0d19df19-313d-40be-9b75-d889ea079283",
   "metadata": {},
   "outputs": [],
   "source": [
    "Visualization.load(f'{data_dir}/core-metrics-picrust2/adonis-bc-h3.qzv')"
   ]
  },
  {
   "cell_type": "markdown",
   "id": "dab7f2f5-47f2-403e-9ee4-b586cbac8524",
   "metadata": {},
   "source": [
    "#####  Hypothesis 4 : Poultry & Meat"
   ]
  },
  {
   "cell_type": "code",
   "execution_count": null,
   "id": "ef0cf6e2-e791-4caa-ad68-2bf883d320ff",
   "metadata": {},
   "outputs": [],
   "source": [
    "! qiime diversity adonis \\\n",
    "  --i-distance-matrix $data_dir/core-metrics-picrust2/bray_curtis_distance_matrix.qza \\\n",
    "  --m-metadata-file $data_dir/sample_meta_data.tsv \\\n",
    "  --p-formula \"NUT_whole_eggs*NUT_poultry_frequency*NUT_high_fat_red_meat_frequency*NUT_meat_eggs_frequency*NUT_red_meat_frequency*NUT_vitamin_b_supplement_frequency\" \\\n",
    "--o-visualization $data_dir/core-metrics-picrust2/adonis-bc-h4.qzv"
   ]
  },
  {
   "cell_type": "code",
   "execution_count": null,
   "id": "a88ce591-35e2-4e66-9126-26682334d898",
   "metadata": {},
   "outputs": [],
   "source": [
    "Visualization.load(f'{data_dir}/core-metrics-picrust2/adonis-bc-h4.qzv')"
   ]
  }
 ],
 "metadata": {
  "kernelspec": {
   "display_name": "Python 3 (ipykernel)",
   "language": "python",
   "name": "python3"
  },
  "language_info": {
   "codemirror_mode": {
    "name": "ipython",
    "version": 3
   },
   "file_extension": ".py",
   "mimetype": "text/x-python",
   "name": "python",
   "nbconvert_exporter": "python",
   "pygments_lexer": "ipython3",
   "version": "3.8.13"
  }
 },
 "nbformat": 4,
 "nbformat_minor": 5
}
