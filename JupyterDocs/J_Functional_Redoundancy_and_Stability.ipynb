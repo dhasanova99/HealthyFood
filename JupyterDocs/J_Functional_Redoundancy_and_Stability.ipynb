{
 "cells": [
  {
   "cell_type": "markdown",
   "id": "e4782066",
   "metadata": {},
   "source": [
    "# Functional redundancy\n",
    "\n",
    "Examination of functional redundancy in the context of microbial diversity measurements.\n",
    "**Objective :** compare taxonomic and functional diversity in these same samples to evaluate _functional redundancy_ in microbial communities.\n",
    "\n",
    "- Metadata : sample_meta_data (done in A)\n",
    "- Diversity analysis : alpha = core-metrics-results (done in F), beta = core-metrics-results-bd (done in G)\n",
    "- Metagenome content predicted by PICRUST2 : (done in I)\n"
   ]
  },
  {
   "cell_type": "markdown",
   "id": "76724201-4443-467e-8908-2d4553372be0",
   "metadata": {},
   "source": [
    "#### Notebook overview \n",
    "\n",
    "[1. Setup](#setup)<br>\n",
    "&nbsp;&nbsp;&nbsp;&nbsp;[1.1 _Data Import_](#import_data)<br>\n",
    "[2. Functional redundancy calculation](#)<br>\n",
    "&nbsp;&nbsp;&nbsp;&nbsp;[2.1 _Generate Plots_](#generate_plots)<br>\n",
    "[3. Clean data](#clean_data)<br>\n",
    "[4. Generate Statistics](#statistics)<br>\n",
    "[Note](#note)<br>\n",
    "\n"
   ]
  },
  {
   "cell_type": "markdown",
   "id": "8ed4345f",
   "metadata": {},
   "source": [
    "<a id='setup'></a>\n",
    "## 1. Setup"
   ]
  },
  {
   "cell_type": "code",
   "execution_count": 2,
   "id": "f9365fb9",
   "metadata": {},
   "outputs": [],
   "source": [
    "import os\n",
    "import qiime2 as q2\n",
    "import pandas as pd\n",
    "from qiime2 import Visualization\n",
    "\n",
    "\n",
    "\n",
    "# do not increase this value!\n",
    "n_jobs = 3\n",
    "    \n",
    "%matplotlib inline"
   ]
  },
  {
   "cell_type": "code",
   "execution_count": 3,
   "id": "3de3d3cb",
   "metadata": {},
   "outputs": [],
   "source": [
    "data_dir ='project_data'"
   ]
  },
  {
   "cell_type": "markdown",
   "id": "c86eb265",
   "metadata": {},
   "source": [
    "<a id='function'></a>\n",
    "## 2. Functional redundancy calculation"
   ]
  },
  {
   "cell_type": "markdown",
   "id": "054f87e2",
   "metadata": {},
   "source": [
    "Next we will look at predicted gene pathway information to compare taxonomic vs. functional diversity patterns. \n",
    "We will use the `core-metrics` pipeline on the `pathway_abundance.qza` table, which consists of PICRUST2-predicted gene pathway counts. "
   ]
  },
  {
   "cell_type": "code",
   "execution_count": 5,
   "id": "2de6d20e-8229-4c9e-9f36-79dd746389e0",
   "metadata": {},
   "outputs": [
    {
     "name": "stdout",
     "output_type": "stream",
     "text": [
      "\u001b[32mSaved FeatureTable[Frequency] to: project_data/core-metrics-picrust2/rarefied_table.qza\u001b[0m\n",
      "\u001b[32mSaved SampleData[AlphaDiversity] to: project_data/core-metrics-picrust2/observed_features_vector.qza\u001b[0m\n",
      "\u001b[32mSaved SampleData[AlphaDiversity] to: project_data/core-metrics-picrust2/shannon_vector.qza\u001b[0m\n",
      "\u001b[32mSaved SampleData[AlphaDiversity] to: project_data/core-metrics-picrust2/evenness_vector.qza\u001b[0m\n",
      "\u001b[32mSaved DistanceMatrix to: project_data/core-metrics-picrust2/jaccard_distance_matrix.qza\u001b[0m\n",
      "\u001b[32mSaved DistanceMatrix to: project_data/core-metrics-picrust2/bray_curtis_distance_matrix.qza\u001b[0m\n",
      "\u001b[32mSaved PCoAResults to: project_data/core-metrics-picrust2/jaccard_pcoa_results.qza\u001b[0m\n",
      "\u001b[32mSaved PCoAResults to: project_data/core-metrics-picrust2/bray_curtis_pcoa_results.qza\u001b[0m\n",
      "\u001b[32mSaved Visualization to: project_data/core-metrics-picrust2/jaccard_emperor.qzv\u001b[0m\n",
      "\u001b[32mSaved Visualization to: project_data/core-metrics-picrust2/bray_curtis_emperor.qzv\u001b[0m\n",
      "\u001b[0m"
     ]
    }
   ],
   "source": [
    "! qiime diversity core-metrics \\\n",
    "  --i-table $data_dir/pathway_abundance.qza \\\n",
    "  --m-metadata-file $data_dir/sample_meta_data.tsv \\\n",
    "  --p-sampling-depth 100000 \\\n",
    "  --p-n-jobs $n_jobs \\\n",
    "  --output-dir $data_dir/core-metrics-picrust2  "
   ]
  },
  {
   "cell_type": "code",
   "execution_count": null,
   "id": "72d089ae-b42e-47f8-acf4-f6ded8d9644a",
   "metadata": {},
   "outputs": [],
   "source": []
  },
  {
   "cell_type": "markdown",
   "id": "7b443810-54c5-4c9a-8a45-dca18c6f41ca",
   "metadata": {},
   "source": [
    "## Hypothesis 1 : Drinks"
   ]
  },
  {
   "cell_type": "code",
   "execution_count": 5,
   "id": "a8a619a6-f87e-47fb-898f-e7c074b43fdb",
   "metadata": {},
   "outputs": [
    {
     "name": "stdout",
     "output_type": "stream",
     "text": [
      "\u001b[32mSaved Visualization to: project_data/core-metrics-picrust2/adonis-bc-h1.qzv\u001b[0m\n",
      "\u001b[0m"
     ]
    }
   ],
   "source": [
    "! qiime diversity adonis \\\n",
    "  --i-distance-matrix $data_dir/core-metrics-picrust2/bray_curtis_distance_matrix.qza \\\n",
    "  --m-metadata-file $data_dir/sample_meta_data.tsv \\\n",
    "  --p-formula \"NUT_alcohol_frequency*NUT_drinks_per_session\" \\\n",
    "--o-visualization $data_dir/core-metrics-picrust2/adonis-bc-h1.qzv"
   ]
  },
  {
   "cell_type": "code",
   "execution_count": 4,
   "id": "48e434ec-2a73-4f7a-9231-e844ff589b04",
   "metadata": {},
   "outputs": [
    {
     "data": {
      "text/html": [
       "<div><img onload=\"(function(div, url){\n",
       "if (typeof require !== 'undefined') {\n",
       "    var baseURL = require.toUrl('').split('/').slice(0, -2).join('/');\n",
       "} else {\n",
       "    var baseURL = JSON.parse(\n",
       "        document.getElementById('jupyter-config-data').innerHTML\n",
       "    ).baseUrl.slice(0, -1);\n",
       "}\n",
       "url = baseURL + url;\n",
       "fetch(url).then(function(res) {\n",
       "    if (res.status === 404) {\n",
       "        div.innerHTML = 'Install QIIME 2 Jupyter extension with:<br />' +\n",
       "                        '<code>jupyter serverextension enable --py qiime2' +\n",
       "                        ' --sys-prefix</code><br />then restart your server.' +\n",
       "                        '<br /><br />(Interactive output not available on ' +\n",
       "                        'static notebook viewer services like nbviewer.)';\n",
       "    } else if (res.status === 409) {\n",
       "        div.innerHTML = 'Visualization no longer in scope. Re-run this cell' +\n",
       "                        ' to see the visualization.';\n",
       "    } else if (res.ok) {\n",
       "        url = res.url;\n",
       "        div.innerHTML = '<iframe src=\\'' + url + '\\' style=\\'' +\n",
       "                        'width: 100%; height: 700px; border: 0;\\'>' +\n",
       "                        '</iframe><hr />Open in a: <a href=\\'' + url + '\\'' +\n",
       "                        ' target=\\'_blank\\'>new window</a>'\n",
       "    } else {\n",
       "        div.innerHTML = 'Something has gone wrong. Check notebook server for' +\n",
       "                        ' errors.';\n",
       "    }\n",
       "});\n",
       "})(this.parentElement, '/qiime2/redirect?location=/tmp/qiime2-archive-yis63_ui')\" src=\"data:image/gif;base64,R0lGODlhAQABAIAAAP///wAAACH5BAEAAAAALAAAAAABAAEAAAICRAEAOw==\" /></div>"
      ],
      "text/plain": [
       "<visualization: Visualization uuid: c1ed3309-a9a3-42aa-b7bd-4fea8827bfd1>"
      ]
     },
     "execution_count": 4,
     "metadata": {},
     "output_type": "execute_result"
    }
   ],
   "source": [
    "Visualization.load(f'{data_dir}/core-metrics-picrust2/adonis-bc-h1.qzv')"
   ]
  },
  {
   "cell_type": "markdown",
   "id": "d7dac685-0eaf-48be-9ddc-9696b6d05706",
   "metadata": {},
   "source": [
    "## Hypothesis 2 : Milk products"
   ]
  },
  {
   "cell_type": "code",
   "execution_count": 7,
   "id": "a77cdeb1-50da-49fc-82ae-f4001aa30e84",
   "metadata": {},
   "outputs": [
    {
     "name": "stdout",
     "output_type": "stream",
     "text": [
      "\u001b[32mSaved Visualization to: project_data/core-metrics-picrust2/adonis-bc-h2.qzv\u001b[0m\n",
      "\u001b[0m"
     ]
    }
   ],
   "source": [
    "! qiime diversity adonis \\\n",
    "  --i-distance-matrix $data_dir/core-metrics-picrust2/bray_curtis_distance_matrix.qza \\\n",
    "  --m-metadata-file $data_dir/sample_meta_data.tsv \\\n",
    "  --p-formula \"NUT_milk_cheese_frequency*NUT_milk_substitute_frequency*NUT_vitamin_d_supplement_frequency\" \\\n",
    "--o-visualization $data_dir/core-metrics-picrust2/adonis-bc-h2.qzv"
   ]
  },
  {
   "cell_type": "code",
   "execution_count": 8,
   "id": "814fd73c",
   "metadata": {},
   "outputs": [
    {
     "data": {
      "text/html": [
       "<div><img onload=\"(function(div, url){\n",
       "if (typeof require !== 'undefined') {\n",
       "    var baseURL = require.toUrl('').split('/').slice(0, -2).join('/');\n",
       "} else {\n",
       "    var baseURL = JSON.parse(\n",
       "        document.getElementById('jupyter-config-data').innerHTML\n",
       "    ).baseUrl.slice(0, -1);\n",
       "}\n",
       "url = baseURL + url;\n",
       "fetch(url).then(function(res) {\n",
       "    if (res.status === 404) {\n",
       "        div.innerHTML = 'Install QIIME 2 Jupyter extension with:<br />' +\n",
       "                        '<code>jupyter serverextension enable --py qiime2' +\n",
       "                        ' --sys-prefix</code><br />then restart your server.' +\n",
       "                        '<br /><br />(Interactive output not available on ' +\n",
       "                        'static notebook viewer services like nbviewer.)';\n",
       "    } else if (res.status === 409) {\n",
       "        div.innerHTML = 'Visualization no longer in scope. Re-run this cell' +\n",
       "                        ' to see the visualization.';\n",
       "    } else if (res.ok) {\n",
       "        url = res.url;\n",
       "        div.innerHTML = '<iframe src=\\'' + url + '\\' style=\\'' +\n",
       "                        'width: 100%; height: 700px; border: 0;\\'>' +\n",
       "                        '</iframe><hr />Open in a: <a href=\\'' + url + '\\'' +\n",
       "                        ' target=\\'_blank\\'>new window</a>'\n",
       "    } else {\n",
       "        div.innerHTML = 'Something has gone wrong. Check notebook server for' +\n",
       "                        ' errors.';\n",
       "    }\n",
       "});\n",
       "})(this.parentElement, '/qiime2/redirect?location=/tmp/qiime2-archive-tpucbtc0')\" src=\"data:image/gif;base64,R0lGODlhAQABAIAAAP///wAAACH5BAEAAAAALAAAAAABAAEAAAICRAEAOw==\" /></div>"
      ],
      "text/plain": [
       "<visualization: Visualization uuid: c08c71aa-2647-43ad-87d8-316acc42f62f>"
      ]
     },
     "execution_count": 8,
     "metadata": {},
     "output_type": "execute_result"
    }
   ],
   "source": [
    "Visualization.load(f'{data_dir}/core-metrics-picrust2/adonis-bc-h2.qzv')"
   ]
  },
  {
   "cell_type": "markdown",
   "id": "4b07ebe4-bdfb-4b0d-a217-c6ab5987af5b",
   "metadata": {},
   "source": [
    "## Hypothesis 3 : Mediterranean"
   ]
  },
  {
   "cell_type": "code",
   "execution_count": 9,
   "id": "4da6692d-ec15-4ce4-8af3-67551117e0e0",
   "metadata": {},
   "outputs": [
    {
     "name": "stdout",
     "output_type": "stream",
     "text": [
      "\u001b[32mSaved Visualization to: project_data/core-metrics-picrust2/adonis-bc-h3.qzv\u001b[0m\n",
      "\u001b[0m"
     ]
    }
   ],
   "source": [
    "! qiime diversity adonis \\\n",
    "  --i-distance-matrix $data_dir/core-metrics-picrust2/bray_curtis_distance_matrix.qza \\\n",
    "  --m-metadata-file $data_dir/sample_meta_data.tsv \\\n",
    "  --p-formula \"NUT_olive_oil*NUT_seafood_frequency*NUT_vegetable_frequency*NUT_fruit_frequency*NUT_whole_grain_frequency\" \\\n",
    "--o-visualization $data_dir/core-metrics-picrust2/adonis-bc-h3.qzv"
   ]
  },
  {
   "cell_type": "code",
   "execution_count": 10,
   "id": "0d19df19-313d-40be-9b75-d889ea079283",
   "metadata": {},
   "outputs": [
    {
     "data": {
      "text/html": [
       "<div><img onload=\"(function(div, url){\n",
       "if (typeof require !== 'undefined') {\n",
       "    var baseURL = require.toUrl('').split('/').slice(0, -2).join('/');\n",
       "} else {\n",
       "    var baseURL = JSON.parse(\n",
       "        document.getElementById('jupyter-config-data').innerHTML\n",
       "    ).baseUrl.slice(0, -1);\n",
       "}\n",
       "url = baseURL + url;\n",
       "fetch(url).then(function(res) {\n",
       "    if (res.status === 404) {\n",
       "        div.innerHTML = 'Install QIIME 2 Jupyter extension with:<br />' +\n",
       "                        '<code>jupyter serverextension enable --py qiime2' +\n",
       "                        ' --sys-prefix</code><br />then restart your server.' +\n",
       "                        '<br /><br />(Interactive output not available on ' +\n",
       "                        'static notebook viewer services like nbviewer.)';\n",
       "    } else if (res.status === 409) {\n",
       "        div.innerHTML = 'Visualization no longer in scope. Re-run this cell' +\n",
       "                        ' to see the visualization.';\n",
       "    } else if (res.ok) {\n",
       "        url = res.url;\n",
       "        div.innerHTML = '<iframe src=\\'' + url + '\\' style=\\'' +\n",
       "                        'width: 100%; height: 700px; border: 0;\\'>' +\n",
       "                        '</iframe><hr />Open in a: <a href=\\'' + url + '\\'' +\n",
       "                        ' target=\\'_blank\\'>new window</a>'\n",
       "    } else {\n",
       "        div.innerHTML = 'Something has gone wrong. Check notebook server for' +\n",
       "                        ' errors.';\n",
       "    }\n",
       "});\n",
       "})(this.parentElement, '/qiime2/redirect?location=/tmp/qiime2-archive-thikk7cb')\" src=\"data:image/gif;base64,R0lGODlhAQABAIAAAP///wAAACH5BAEAAAAALAAAAAABAAEAAAICRAEAOw==\" /></div>"
      ],
      "text/plain": [
       "<visualization: Visualization uuid: 744446ff-8f61-4d5f-8775-ef42c5e756ca>"
      ]
     },
     "execution_count": 10,
     "metadata": {},
     "output_type": "execute_result"
    }
   ],
   "source": [
    "Visualization.load(f'{data_dir}/core-metrics-picrust2/adonis-bc-h3.qzv')"
   ]
  },
  {
   "cell_type": "markdown",
   "id": "dab7f2f5-47f2-403e-9ee4-b586cbac8524",
   "metadata": {},
   "source": [
    "## Hypothesis 4 : Poultry & Meat"
   ]
  },
  {
   "cell_type": "code",
   "execution_count": null,
   "id": "ef0cf6e2-e791-4caa-ad68-2bf883d320ff",
   "metadata": {},
   "outputs": [],
   "source": [
    "! qiime diversity adonis \\\n",
    "  --i-distance-matrix $data_dir/core-metrics-picrust2/bray_curtis_distance_matrix.qza \\\n",
    "  --m-metadata-file $data_dir/sample_meta_data.tsv \\\n",
    "  --p-formula \"NUT_whole_eggs*NUT_poultry_frequency*NUT_high_fat_red_meat_frequency*NUT_meat_eggs_frequency*NUT_red_meat_frequency*NUT_vitamin_b_supplement_frequency\" \\\n",
    "--o-visualization $data_dir/core-metrics-picrust2/adonis-bc-h4.qzv"
   ]
  },
  {
   "cell_type": "code",
   "execution_count": 4,
   "id": "a88ce591-35e2-4e66-9126-26682334d898",
   "metadata": {},
   "outputs": [
    {
     "data": {
      "text/html": [
       "<div><img onload=\"(function(div, url){\n",
       "if (typeof require !== 'undefined') {\n",
       "    var baseURL = require.toUrl('').split('/').slice(0, -2).join('/');\n",
       "} else {\n",
       "    var baseURL = JSON.parse(\n",
       "        document.getElementById('jupyter-config-data').innerHTML\n",
       "    ).baseUrl.slice(0, -1);\n",
       "}\n",
       "url = baseURL + url;\n",
       "fetch(url).then(function(res) {\n",
       "    if (res.status === 404) {\n",
       "        div.innerHTML = 'Install QIIME 2 Jupyter extension with:<br />' +\n",
       "                        '<code>jupyter serverextension enable --py qiime2' +\n",
       "                        ' --sys-prefix</code><br />then restart your server.' +\n",
       "                        '<br /><br />(Interactive output not available on ' +\n",
       "                        'static notebook viewer services like nbviewer.)';\n",
       "    } else if (res.status === 409) {\n",
       "        div.innerHTML = 'Visualization no longer in scope. Re-run this cell' +\n",
       "                        ' to see the visualization.';\n",
       "    } else if (res.ok) {\n",
       "        url = res.url;\n",
       "        div.innerHTML = '<iframe src=\\'' + url + '\\' style=\\'' +\n",
       "                        'width: 100%; height: 700px; border: 0;\\'>' +\n",
       "                        '</iframe><hr />Open in a: <a href=\\'' + url + '\\'' +\n",
       "                        ' target=\\'_blank\\'>new window</a>'\n",
       "    } else {\n",
       "        div.innerHTML = 'Something has gone wrong. Check notebook server for' +\n",
       "                        ' errors.';\n",
       "    }\n",
       "});\n",
       "})(this.parentElement, '/qiime2/redirect?location=/tmp/qiime2-archive-dsj7duub')\" src=\"data:image/gif;base64,R0lGODlhAQABAIAAAP///wAAACH5BAEAAAAALAAAAAABAAEAAAICRAEAOw==\" /></div>"
      ],
      "text/plain": [
       "<visualization: Visualization uuid: 2b80ae47-ddee-420f-b748-f1b9fcb9061e>"
      ]
     },
     "execution_count": 4,
     "metadata": {},
     "output_type": "execute_result"
    }
   ],
   "source": [
    "Visualization.load(f'{data_dir}/core-metrics-picrust2/adonis-bc-h4.qzv')"
   ]
  }
 ],
 "metadata": {
  "kernelspec": {
   "display_name": "Python 3 (ipykernel)",
   "language": "python",
   "name": "python3"
  },
  "language_info": {
   "codemirror_mode": {
    "name": "ipython",
    "version": 3
   },
   "file_extension": ".py",
   "mimetype": "text/x-python",
   "name": "python",
   "nbconvert_exporter": "python",
   "pygments_lexer": "ipython3",
   "version": "3.8.13"
  }
 },
 "nbformat": 4,
 "nbformat_minor": 5
}
