{
 "cells": [
  {
   "cell_type": "markdown",
   "id": "e4782066",
   "metadata": {},
   "source": [
    "**Functional redundancy and resilience**\n",
    "\n",
    "Examination of functional redundancy and reslience in the context of microbial biodiversity measurements.\n",
    "1. use alpha rarefaction and other diagnostics to select an appropriate normalization depth\n",
    "2. interpret microbial alpha and beta diversity results to compare samples based on taxonomic and phylogenetic diversity\n",
    "3. compare taxonomic and functional diversity in these same samples to evaluate _functional redundancy_ in microbial communities.\n",
    "4. examine longitudinal change in these biodiversity metrics to measure _resilience_ in microbial communities\n",
    "\n",
    "Dataset used: (loaded in file A)\n",
    "Metadata : (loaded in file A)/\n",
    "Taxonomy : (loaded in file D)/\n",
    "Diversity analysis : (loaded in file F and G)/\n",
    "Metagenome content predicted by PICRUST2 : (loaded in file I)/\n"
   ]
  },
  {
   "cell_type": "markdown",
   "id": "8ed4345f",
   "metadata": {},
   "source": [
    "<a id='setup'></a>\n",
    "## 0. Setup"
   ]
  },
  {
   "cell_type": "code",
   "execution_count": 2,
   "id": "f9365fb9",
   "metadata": {},
   "outputs": [],
   "source": [
    "import os\n",
    "import qiime2 as q2\n",
    "import pandas as pd\n",
    "from qiime2 import Visualization\n",
    "\n",
    "data_dir = 'w10_data'\n",
    "if not os.path.isdir(data_dir):\n",
    "    os.makedirs(data_dir)\n",
    "    \n",
    "# do not increase this value!\n",
    "n_jobs = 3\n",
    "    \n",
    "%matplotlib inline"
   ]
  },
  {
   "cell_type": "code",
   "execution_count": 2,
   "id": "3de3d3cb",
   "metadata": {},
   "outputs": [
    {
     "name": "stdout",
     "output_type": "stream",
     "text": [
      "2022-11-18 10:12:34 URL:https://polybox.ethz.ch/index.php/s/a0VspvcHpqINwzO/download [6153727] -> \"w10_data/w10_data.zip\" [1]\n"
     ]
    }
   ],
   "source": [
    "# grab this week's dataset\n",
    "data_url = 'https://polybox.ethz.ch/index.php/s/a0VspvcHpqINwzO/download'\n",
    "! wget -nv -O $data_dir/w10_data.zip $data_url\n",
    "! unzip -jq $data_dir/w10_data.zip 'W10_resilience/*' -d $data_dir\n",
    "! rm $data_dir/w10_data.zip"
   ]
  },
  {
   "cell_type": "markdown",
   "id": "4d2551ad",
   "metadata": {},
   "source": [
    "These are the files present in the `w10_data` directory that you just downloaded:\n",
    "1. `child-table.qza` is your main feature table, of ASV counts per sample.\n",
    "2. `metadata.tsv` contains sample metadata. You will use this below for diversity analysis and group comparisons.\n",
    "3. `pathway_abundance.qza` is your feature table of predicted functional pathways.\n",
    "4. `insertion-tree.qza` is a phylogenetic tree of your ASVs in case you would like to use it.\n",
    "5. `filtered-table-deblur.qza` is a feature table containing both children and their mothers.\n",
    "\n",
    "And here is a description of the sample metadata columns:\n",
    "* **abx_exposure**: Recent exposure to antibiotics (`yes`/`no`, `nan`=unknown)\n",
    "* **day_of_life**: Day of life of the infant (days since birth)\n",
    "* **delivery**: delivery mode (`Cesarean` section or `Vaginal` birth)\n",
    "* **diet**: predominant diet during first 3 months of life (`bd` = `breastmilk`, `fd` = `formula`)\n",
    "* **host_subject_id**: unique ID for each infant/mother pair. Infants and their mothers share the same ID.\n",
    "* **mom_or_child**: is the sample from a child (`C`) or its mother (`M`)?\n",
    "* **sex**: `Female` or `Male`\n",
    "* **month**: Month of file. Mothers all have the value `-1` because their stool samples were collected shortly pre-partum.\n",
    "* **month_category**: same as `month` but encoded as text so that some tests interpret this as categorical metadata.\n",
    "\n",
    "This is a summary of the feature table (including counts of samples per group) if you care to look:\n",
    "\n",
    "**[1. Feature table summary visualization](https://view.qiime2.org/visualization/?type=html&src=https%3A%2F%2Fdl.dropbox.com%2Fs%2Fpssfwswqous1pn0%2F1.%2520child-table.qzv%3Fdl%3D1)**\n",
    "\n",
    "\n",
    "I have summarized the sample metadata for you below:"
   ]
  },
  {
   "cell_type": "code",
   "execution_count": 3,
   "id": "d5b6e523",
   "metadata": {},
   "outputs": [
    {
     "data": {
      "text/html": [
       "<div>\n",
       "<style scoped>\n",
       "    .dataframe tbody tr th:only-of-type {\n",
       "        vertical-align: middle;\n",
       "    }\n",
       "\n",
       "    .dataframe tbody tr th {\n",
       "        vertical-align: top;\n",
       "    }\n",
       "\n",
       "    .dataframe thead th {\n",
       "        text-align: right;\n",
       "    }\n",
       "</style>\n",
       "<table border=\"1\" class=\"dataframe\">\n",
       "  <thead>\n",
       "    <tr style=\"text-align: right;\">\n",
       "      <th></th>\n",
       "      <th>Values</th>\n",
       "    </tr>\n",
       "    <tr>\n",
       "      <th>Column</th>\n",
       "      <th></th>\n",
       "    </tr>\n",
       "  </thead>\n",
       "  <tbody>\n",
       "    <tr>\n",
       "      <th>abx_exposure</th>\n",
       "      <td>['nan', 'no', 'yes']</td>\n",
       "    </tr>\n",
       "    <tr>\n",
       "      <th>day_of_life</th>\n",
       "      <td>['0.0', '1.0', '10.0', '11.0', '13.0', '166.0'...</td>\n",
       "    </tr>\n",
       "    <tr>\n",
       "      <th>delivery</th>\n",
       "      <td>['Cesarean', 'Vaginal']</td>\n",
       "    </tr>\n",
       "    <tr>\n",
       "      <th>diet</th>\n",
       "      <td>['bd', 'fd', 'nan']</td>\n",
       "    </tr>\n",
       "    <tr>\n",
       "      <th>host_subject_id</th>\n",
       "      <td>['S1', 'S10', 'S11', 'S12', 'S14', 'S16', 'S17...</td>\n",
       "    </tr>\n",
       "    <tr>\n",
       "      <th>mom_or_child</th>\n",
       "      <td>['C', 'M']</td>\n",
       "    </tr>\n",
       "    <tr>\n",
       "      <th>sex</th>\n",
       "      <td>['Female', 'Male']</td>\n",
       "    </tr>\n",
       "    <tr>\n",
       "      <th>month</th>\n",
       "      <td>['-1.0', '0.0', '12.0', '24.0', '6.0']</td>\n",
       "    </tr>\n",
       "    <tr>\n",
       "      <th>month_category</th>\n",
       "      <td>['-1.0', '0.0', '12.0', '24.0', '6.0']</td>\n",
       "    </tr>\n",
       "  </tbody>\n",
       "</table>\n",
       "</div>"
      ],
      "text/plain": [
       "                                                            Values\n",
       "Column                                                            \n",
       "abx_exposure                                  ['nan', 'no', 'yes']\n",
       "day_of_life      ['0.0', '1.0', '10.0', '11.0', '13.0', '166.0'...\n",
       "delivery                                   ['Cesarean', 'Vaginal']\n",
       "diet                                           ['bd', 'fd', 'nan']\n",
       "host_subject_id  ['S1', 'S10', 'S11', 'S12', 'S14', 'S16', 'S17...\n",
       "mom_or_child                                            ['C', 'M']\n",
       "sex                                             ['Female', 'Male']\n",
       "month                       ['-1.0', '0.0', '12.0', '24.0', '6.0']\n",
       "month_category              ['-1.0', '0.0', '12.0', '24.0', '6.0']"
      ]
     },
     "execution_count": 3,
     "metadata": {},
     "output_type": "execute_result"
    }
   ],
   "source": [
    "md = q2.Metadata.load(data_dir + '/metadata.tsv').to_dataframe()\n",
    "pd.DataFrame([str(sorted(md[col].astype(str).unique())) for col in md.columns],\n",
    "             index=pd.Index(md.columns, name='Column'), columns=['Values'])"
   ]
  },
  {
   "cell_type": "markdown",
   "id": "80499ed2",
   "metadata": {},
   "source": [
    "<a id='normalize'></a>\n",
    "## 1. Select an appropriate rarefaction depth"
   ]
  },
  {
   "cell_type": "markdown",
   "id": "29333e04",
   "metadata": {},
   "source": [
    "You first challenge is to select an appropriate sequencing depth to use for normalizing your data. You should proceed as we did in week 7, to examine the impact of sequencing depth on alpha diversity in each sample. (hint: you can set `--p-iterations` and `--p-steps` to lower values than the default settings to speed up this step)\n",
    "\n",
    "Now it's your turn! Work as a group to select an appropriate normalization depth based on your data characteristics.\n",
    "\n",
    "**Checkpoint 1: What do you consider an appropriate normalization depth (# of sequences per samples) for even subsampling of this dataset?**"
   ]
  },
  {
   "cell_type": "code",
   "execution_count": null,
   "id": "44e7c2f7",
   "metadata": {},
   "outputs": [],
   "source": [
    "# your turn: insert commands to \n",
    "# choose an appropriate normalization depth and \n",
    "# visualize the outputs"
   ]
  },
  {
   "cell_type": "code",
   "execution_count": 5,
   "id": "08d32d5e-da30-4cf2-adac-f2f2474008ad",
   "metadata": {},
   "outputs": [
    {
     "name": "stdout",
     "output_type": "stream",
     "text": [
      "\u001b[32mSaved Visualization to: w10_data/alpha-rarefaction.qzv\u001b[0m\n",
      "\u001b[0m"
     ]
    }
   ],
   "source": [
    "! qiime diversity alpha-rarefaction \\\n",
    "    --i-table $data_dir/child-table.qza\\\n",
    "    --i-phylogeny $data_dir/insertion-tree.qza \\\n",
    "    --p-max-depth 10000 \\\n",
    "    --m-metadata-file $data_dir/metadata.tsv \\\n",
    "    --o-visualization $data_dir/alpha-rarefaction.qzv"
   ]
  },
  {
   "cell_type": "code",
   "execution_count": 2,
   "id": "03fac3e4-0cae-4142-a89e-e82386416d23",
   "metadata": {},
   "outputs": [
    {
     "data": {
      "text/html": [
       "<div><img onload=\"(function(div, url){\n",
       "if (typeof require !== 'undefined') {\n",
       "    var baseURL = require.toUrl('').split('/').slice(0, -2).join('/');\n",
       "} else {\n",
       "    var baseURL = JSON.parse(\n",
       "        document.getElementById('jupyter-config-data').innerHTML\n",
       "    ).baseUrl.slice(0, -1);\n",
       "}\n",
       "url = baseURL + url;\n",
       "fetch(url).then(function(res) {\n",
       "    if (res.status === 404) {\n",
       "        div.innerHTML = 'Install QIIME 2 Jupyter extension with:<br />' +\n",
       "                        '<code>jupyter serverextension enable --py qiime2' +\n",
       "                        ' --sys-prefix</code><br />then restart your server.' +\n",
       "                        '<br /><br />(Interactive output not available on ' +\n",
       "                        'static notebook viewer services like nbviewer.)';\n",
       "    } else if (res.status === 409) {\n",
       "        div.innerHTML = 'Visualization no longer in scope. Re-run this cell' +\n",
       "                        ' to see the visualization.';\n",
       "    } else if (res.ok) {\n",
       "        url = res.url;\n",
       "        div.innerHTML = '<iframe src=\\'' + url + '\\' style=\\'' +\n",
       "                        'width: 100%; height: 700px; border: 0;\\'>' +\n",
       "                        '</iframe><hr />Open in a: <a href=\\'' + url + '\\'' +\n",
       "                        ' target=\\'_blank\\'>new window</a>'\n",
       "    } else {\n",
       "        div.innerHTML = 'Something has gone wrong. Check notebook server for' +\n",
       "                        ' errors.';\n",
       "    }\n",
       "});\n",
       "})(this.parentElement, '/qiime2/redirect?location=/tmp/qiime2-archive-8iadoz0n')\" src=\"data:image/gif;base64,R0lGODlhAQABAIAAAP///wAAACH5BAEAAAAALAAAAAABAAEAAAICRAEAOw==\" /></div>"
      ],
      "text/plain": [
       "<visualization: Visualization uuid: 18816800-3dfd-46b2-aa73-4a94e0c761da>"
      ]
     },
     "execution_count": 2,
     "metadata": {},
     "output_type": "execute_result"
    }
   ],
   "source": [
    "Visualization.load(f'{data_dir}/alpha-rarefaction.qzv')"
   ]
  },
  {
   "cell_type": "markdown",
   "id": "171ea491-5d7d-4c44-a55f-5b30568e00e6",
   "metadata": {},
   "source": [
    "An appropriate sampling depth would be around 1500, as a satisfying number of observed features is reached for a null or quasi-null loss of samples."
   ]
  },
  {
   "cell_type": "markdown",
   "id": "ca8966c3",
   "metadata": {},
   "source": [
    "<a id='diversity'></a>\n",
    "## 2. Diversity analysis"
   ]
  },
  {
   "cell_type": "markdown",
   "id": "e7838256",
   "metadata": {},
   "source": [
    "Now compute the core alpha and beta diversity metrics on your data (selecting a `sampling-depth` based on your findings above) and answer the following questions (using appropriate statistical tests and visualizations):\n",
    "1. _Qualitatively_ do weighted or unweighted beta diversity metrics lead to clearer differences between age groups? How do you interpret this difference? (look at PCoA plots and examine the `month` category.) \n",
    "2. Is there a significant difference in unweighted UniFrac distances between diet and delivery mode groups over time? How do you interpret this result? (run an adonis test with `month`, `delivery`, and `diet` as independent, interacting factors. See `qiime diversity adonis --help` for usage details). \n",
    "\n",
    "Which factor(s) are most significantly associated with differences in unweighted UniFrac distance? How do you interpret this finding?\n"
   ]
  },
  {
   "cell_type": "code",
   "execution_count": null,
   "id": "4bb6eacb",
   "metadata": {},
   "outputs": [],
   "source": [
    "# your turn: compute phylogenetic diversity metrics! Then view the outputs.\n",
    "# Use this as the output directory name, to avoid changing some paths below: $data_dir/core-metrics-results/"
   ]
  },
  {
   "cell_type": "code",
   "execution_count": 4,
   "id": "0c9d7532",
   "metadata": {},
   "outputs": [
    {
     "name": "stdout",
     "output_type": "stream",
     "text": [
      "\u001b[32mSaved FeatureTable[Frequency] to: w10_data/core-metrics-results1500/rarefied_table.qza\u001b[0m\n",
      "\u001b[32mSaved SampleData[AlphaDiversity] to: w10_data/core-metrics-results1500/faith_pd_vector.qza\u001b[0m\n",
      "\u001b[32mSaved SampleData[AlphaDiversity] to: w10_data/core-metrics-results1500/observed_features_vector.qza\u001b[0m\n",
      "\u001b[32mSaved SampleData[AlphaDiversity] to: w10_data/core-metrics-results1500/shannon_vector.qza\u001b[0m\n",
      "\u001b[32mSaved SampleData[AlphaDiversity] to: w10_data/core-metrics-results1500/evenness_vector.qza\u001b[0m\n",
      "\u001b[32mSaved DistanceMatrix to: w10_data/core-metrics-results1500/unweighted_unifrac_distance_matrix.qza\u001b[0m\n",
      "\u001b[32mSaved DistanceMatrix to: w10_data/core-metrics-results1500/weighted_unifrac_distance_matrix.qza\u001b[0m\n",
      "\u001b[32mSaved DistanceMatrix to: w10_data/core-metrics-results1500/jaccard_distance_matrix.qza\u001b[0m\n",
      "\u001b[32mSaved DistanceMatrix to: w10_data/core-metrics-results1500/bray_curtis_distance_matrix.qza\u001b[0m\n",
      "\u001b[32mSaved PCoAResults to: w10_data/core-metrics-results1500/unweighted_unifrac_pcoa_results.qza\u001b[0m\n",
      "\u001b[32mSaved PCoAResults to: w10_data/core-metrics-results1500/weighted_unifrac_pcoa_results.qza\u001b[0m\n",
      "\u001b[32mSaved PCoAResults to: w10_data/core-metrics-results1500/jaccard_pcoa_results.qza\u001b[0m\n",
      "\u001b[32mSaved PCoAResults to: w10_data/core-metrics-results1500/bray_curtis_pcoa_results.qza\u001b[0m\n",
      "\u001b[32mSaved Visualization to: w10_data/core-metrics-results1500/unweighted_unifrac_emperor.qzv\u001b[0m\n",
      "\u001b[32mSaved Visualization to: w10_data/core-metrics-results1500/weighted_unifrac_emperor.qzv\u001b[0m\n",
      "\u001b[32mSaved Visualization to: w10_data/core-metrics-results1500/jaccard_emperor.qzv\u001b[0m\n",
      "\u001b[32mSaved Visualization to: w10_data/core-metrics-results1500/bray_curtis_emperor.qzv\u001b[0m\n",
      "\u001b[0m"
     ]
    }
   ],
   "source": [
    "! qiime diversity core-metrics-phylogenetic \\\n",
    "  --i-table $data_dir/child-table.qza \\\n",
    "  --i-phylogeny $data_dir/insertion-tree.qza \\\n",
    "  --m-metadata-file $data_dir/metadata.tsv \\\n",
    "  --p-sampling-depth 1500 \\\n",
    "  --output-dir $data_dir/core-metrics-results1500"
   ]
  },
  {
   "cell_type": "code",
   "execution_count": 3,
   "id": "4f403832-b442-4109-994a-3209d27208f6",
   "metadata": {},
   "outputs": [
    {
     "data": {
      "text/html": [
       "<div><img onload=\"(function(div, url){\n",
       "if (typeof require !== 'undefined') {\n",
       "    var baseURL = require.toUrl('').split('/').slice(0, -2).join('/');\n",
       "} else {\n",
       "    var baseURL = JSON.parse(\n",
       "        document.getElementById('jupyter-config-data').innerHTML\n",
       "    ).baseUrl.slice(0, -1);\n",
       "}\n",
       "url = baseURL + url;\n",
       "fetch(url).then(function(res) {\n",
       "    if (res.status === 404) {\n",
       "        div.innerHTML = 'Install QIIME 2 Jupyter extension with:<br />' +\n",
       "                        '<code>jupyter serverextension enable --py qiime2' +\n",
       "                        ' --sys-prefix</code><br />then restart your server.' +\n",
       "                        '<br /><br />(Interactive output not available on ' +\n",
       "                        'static notebook viewer services like nbviewer.)';\n",
       "    } else if (res.status === 409) {\n",
       "        div.innerHTML = 'Visualization no longer in scope. Re-run this cell' +\n",
       "                        ' to see the visualization.';\n",
       "    } else if (res.ok) {\n",
       "        url = res.url;\n",
       "        div.innerHTML = '<iframe src=\\'' + url + '\\' style=\\'' +\n",
       "                        'width: 100%; height: 700px; border: 0;\\'>' +\n",
       "                        '</iframe><hr />Open in a: <a href=\\'' + url + '\\'' +\n",
       "                        ' target=\\'_blank\\'>new window</a>'\n",
       "    } else {\n",
       "        div.innerHTML = 'Something has gone wrong. Check notebook server for' +\n",
       "                        ' errors.';\n",
       "    }\n",
       "});\n",
       "})(this.parentElement, '/qiime2/redirect?location=/tmp/qiime2-archive-3_6zextm')\" src=\"data:image/gif;base64,R0lGODlhAQABAIAAAP///wAAACH5BAEAAAAALAAAAAABAAEAAAICRAEAOw==\" /></div>"
      ],
      "text/plain": [
       "<visualization: Visualization uuid: 9af9495a-bebe-48e9-ba04-9d63b8573773>"
      ]
     },
     "execution_count": 3,
     "metadata": {},
     "output_type": "execute_result"
    }
   ],
   "source": [
    "Visualization.load(f'{data_dir}/core-metrics-results/unweighted_unifrac_emperor.qzv')"
   ]
  },
  {
   "cell_type": "code",
   "execution_count": 5,
   "id": "6940e2c8-814e-44cf-9b26-1846ef030711",
   "metadata": {},
   "outputs": [
    {
     "data": {
      "text/html": [
       "<div><img onload=\"(function(div, url){\n",
       "if (typeof require !== 'undefined') {\n",
       "    var baseURL = require.toUrl('').split('/').slice(0, -2).join('/');\n",
       "} else {\n",
       "    var baseURL = JSON.parse(\n",
       "        document.getElementById('jupyter-config-data').innerHTML\n",
       "    ).baseUrl.slice(0, -1);\n",
       "}\n",
       "url = baseURL + url;\n",
       "fetch(url).then(function(res) {\n",
       "    if (res.status === 404) {\n",
       "        div.innerHTML = 'Install QIIME 2 Jupyter extension with:<br />' +\n",
       "                        '<code>jupyter serverextension enable --py qiime2' +\n",
       "                        ' --sys-prefix</code><br />then restart your server.' +\n",
       "                        '<br /><br />(Interactive output not available on ' +\n",
       "                        'static notebook viewer services like nbviewer.)';\n",
       "    } else if (res.status === 409) {\n",
       "        div.innerHTML = 'Visualization no longer in scope. Re-run this cell' +\n",
       "                        ' to see the visualization.';\n",
       "    } else if (res.ok) {\n",
       "        url = res.url;\n",
       "        div.innerHTML = '<iframe src=\\'' + url + '\\' style=\\'' +\n",
       "                        'width: 100%; height: 700px; border: 0;\\'>' +\n",
       "                        '</iframe><hr />Open in a: <a href=\\'' + url + '\\'' +\n",
       "                        ' target=\\'_blank\\'>new window</a>'\n",
       "    } else {\n",
       "        div.innerHTML = 'Something has gone wrong. Check notebook server for' +\n",
       "                        ' errors.';\n",
       "    }\n",
       "});\n",
       "})(this.parentElement, '/qiime2/redirect?location=/tmp/qiime2-archive-6g1p32m_')\" src=\"data:image/gif;base64,R0lGODlhAQABAIAAAP///wAAACH5BAEAAAAALAAAAAABAAEAAAICRAEAOw==\" /></div>"
      ],
      "text/plain": [
       "<visualization: Visualization uuid: ec3e4248-8607-45f6-b88a-f0ea3c5378d9>"
      ]
     },
     "execution_count": 5,
     "metadata": {},
     "output_type": "execute_result"
    }
   ],
   "source": [
    "Visualization.load(f'{data_dir}/core-metrics-results/weighted_unifrac_emperor.qzv')"
   ]
  },
  {
   "cell_type": "markdown",
   "id": "5ba34ae6-5f2f-4a04-80b7-289089803283",
   "metadata": {},
   "source": [
    "Even though no absolute clear distinction between age groups (month or month_category variables) could be seen in either weighted or unweighted beta diversity metrics PCoA plots, the start of a segregation pattern is qualitatively clearer in unweighed metrics.\n",
    "Interestingly, this would mean that weighting the beta diversity metrics by feature abundance tend to blur the age distinctions. In the unweighted PCoA plot, we can notably observe that the older age groups are, the better defined and circumscribed they are (resilience after different types of birth/diet ?). In the oposite, younger age groups are the most unpredictable and scattered on the plot. One could be tempted to conclude that there is a greater homogeneity in the diversity of the samples of children aged one year and over than in the new / non-borns. However, it also seems that there are many more samples of children under 6 months old than others age groups. We could then safely interepret that due to the pool of samples at our disposal, younger age groups are more represented and seem to have greater beta-diversity dispersion, than weighting beta diversity metrics by feature abundance would be no help in observing differences."
   ]
  },
  {
   "cell_type": "code",
   "execution_count": 6,
   "id": "a3faf5b5-fcbe-42ba-aaa6-26e8ec300fcc",
   "metadata": {},
   "outputs": [
    {
     "name": "stdout",
     "output_type": "stream",
     "text": [
      "\u001b[32mSaved Visualization to: w10_data/AD-unweighted-mdd.qzv\u001b[0m\n",
      "\u001b[0m"
     ]
    }
   ],
   "source": [
    "! qiime diversity adonis \\\n",
    "    --i-distance-matrix $data_dir/core-metrics-results/unweighted_unifrac_distance_matrix.qza\\\n",
    "    --m-metadata-file $data_dir/metadata.tsv \\\n",
    "    --p-formula 'month*delivery*diet' \\\n",
    "    --o-visualization $data_dir/AD-unweighted-mdd.qzv"
   ]
  },
  {
   "cell_type": "code",
   "execution_count": 7,
   "id": "3a85bd70-dc8e-416a-a35a-2a094d3649c0",
   "metadata": {},
   "outputs": [
    {
     "data": {
      "text/html": [
       "<div><img onload=\"(function(div, url){\n",
       "if (typeof require !== 'undefined') {\n",
       "    var baseURL = require.toUrl('').split('/').slice(0, -2).join('/');\n",
       "} else {\n",
       "    var baseURL = JSON.parse(\n",
       "        document.getElementById('jupyter-config-data').innerHTML\n",
       "    ).baseUrl.slice(0, -1);\n",
       "}\n",
       "url = baseURL + url;\n",
       "fetch(url).then(function(res) {\n",
       "    if (res.status === 404) {\n",
       "        div.innerHTML = 'Install QIIME 2 Jupyter extension with:<br />' +\n",
       "                        '<code>jupyter serverextension enable --py qiime2' +\n",
       "                        ' --sys-prefix</code><br />then restart your server.' +\n",
       "                        '<br /><br />(Interactive output not available on ' +\n",
       "                        'static notebook viewer services like nbviewer.)';\n",
       "    } else if (res.status === 409) {\n",
       "        div.innerHTML = 'Visualization no longer in scope. Re-run this cell' +\n",
       "                        ' to see the visualization.';\n",
       "    } else if (res.ok) {\n",
       "        url = res.url;\n",
       "        div.innerHTML = '<iframe src=\\'' + url + '\\' style=\\'' +\n",
       "                        'width: 100%; height: 700px; border: 0;\\'>' +\n",
       "                        '</iframe><hr />Open in a: <a href=\\'' + url + '\\'' +\n",
       "                        ' target=\\'_blank\\'>new window</a>'\n",
       "    } else {\n",
       "        div.innerHTML = 'Something has gone wrong. Check notebook server for' +\n",
       "                        ' errors.';\n",
       "    }\n",
       "});\n",
       "})(this.parentElement, '/qiime2/redirect?location=/tmp/qiime2-archive-fhj6kdq0')\" src=\"data:image/gif;base64,R0lGODlhAQABAIAAAP///wAAACH5BAEAAAAALAAAAAABAAEAAAICRAEAOw==\" /></div>"
      ],
      "text/plain": [
       "<visualization: Visualization uuid: bf84a98c-4aca-4530-b24c-be15a05a0cdf>"
      ]
     },
     "execution_count": 7,
     "metadata": {},
     "output_type": "execute_result"
    }
   ],
   "source": [
    "Visualization.load(f'{data_dir}/AD-unweighted-mdd.qzv')"
   ]
  },
  {
   "cell_type": "markdown",
   "id": "7adb26fa-0d61-4dfd-8b0b-0e551f18ff52",
   "metadata": {},
   "source": [
    "The p-value for month:delivery:diet test is 0.394>0.05 so there is no significant difference in diet and delivery mode groups over time. I would interpret that with time, diet and delivery mode tend to have less influence on microbial diversity sine the child is exposed to multiple other sources of contaminations. month:diet is significant, which make sense since some childreen diet are often ajusted over time of growth.  month:delivery is almost significant (pvalue=0.05) but it makes no sense to me. \n",
    "Greater R2 values are observed for the 'Month' variable, as we observed sooner. Otherwise, residuals (that is to say, none of the tested variables) explain 87% of the distances."
   ]
  },
  {
   "cell_type": "markdown",
   "id": "c86eb265",
   "metadata": {},
   "source": [
    "<a id='function'></a>\n",
    "## 3. Functional redundancy\n",
    "\n",
    "**Note:** *from this point on I have entered all of the commands for you, as many of the commands will be new to you. Run all cells below this point and inspect the outputs; if you did everything above correctly (e.g., setting filepaths), the commands below should run. Your job will be to (a) interpret the outputs and discuss as a group in class; and (b) study these commands to understand what I have done and how you can use these in your group projects.*"
   ]
  },
  {
   "cell_type": "markdown",
   "id": "054f87e2",
   "metadata": {},
   "source": [
    "Next we will look at predicted gene pathway information to compare taxonomic vs. functional diversity patterns. This time we have samples from both the infants and their mothers, but we will examine the infants' microbiota first; in section 4 we will compare them to their mothers.\n",
    "\n",
    "We will use the `core-metrics` pipeline on the `pathway_abundance.qza` table, which consists of PICRUST2-predicted gene pathway counts. Why don't we input a phylogeny and calculate phylogenetic metrics?\n",
    "\n",
    "Run the commands below to examine functional diversity patterns across the infants only (we will compare to their mothers later). **Do you see the same relationships between diet, age, and beta diversity that you observed based on sequence variant abundances? Why or why not?**"
   ]
  },
  {
   "cell_type": "markdown",
   "id": "6d975cb3-125f-462c-9775-a10c27f2e0ab",
   "metadata": {},
   "source": [
    "By using PICRUST2-predicted gene pathway counts (instead of philogeny), we can directly access bioactivity data, which is our main focus here (functional perspective of samples)."
   ]
  },
  {
   "cell_type": "code",
   "execution_count": 4,
   "id": "523c8dcc",
   "metadata": {},
   "outputs": [
    {
     "name": "stdout",
     "output_type": "stream",
     "text": [
      "\u001b[32mSaved FeatureTable[Frequency] to: w10_data/pathway_abundance_child.qza\u001b[0m\n",
      "\u001b[0m\u001b[32mSaved FeatureTable[Frequency] to: w10_data/core-metrics-picrust2/rarefied_table.qza\u001b[0m\n",
      "\u001b[32mSaved SampleData[AlphaDiversity] to: w10_data/core-metrics-picrust2/observed_features_vector.qza\u001b[0m\n",
      "\u001b[32mSaved SampleData[AlphaDiversity] to: w10_data/core-metrics-picrust2/shannon_vector.qza\u001b[0m\n",
      "\u001b[32mSaved SampleData[AlphaDiversity] to: w10_data/core-metrics-picrust2/evenness_vector.qza\u001b[0m\n",
      "\u001b[32mSaved DistanceMatrix to: w10_data/core-metrics-picrust2/jaccard_distance_matrix.qza\u001b[0m\n",
      "\u001b[32mSaved DistanceMatrix to: w10_data/core-metrics-picrust2/bray_curtis_distance_matrix.qza\u001b[0m\n",
      "\u001b[32mSaved PCoAResults to: w10_data/core-metrics-picrust2/jaccard_pcoa_results.qza\u001b[0m\n",
      "\u001b[32mSaved PCoAResults to: w10_data/core-metrics-picrust2/bray_curtis_pcoa_results.qza\u001b[0m\n",
      "\u001b[32mSaved Visualization to: w10_data/core-metrics-picrust2/jaccard_emperor.qzv\u001b[0m\n",
      "\u001b[32mSaved Visualization to: w10_data/core-metrics-picrust2/bray_curtis_emperor.qzv\u001b[0m\n",
      "\u001b[0m\u001b[32mSaved Visualization to: w10_data/core-metrics-picrust2/adonis-results.qzv\u001b[0m\n",
      "\u001b[0m"
     ]
    }
   ],
   "source": [
    "# We will look first at only the infants, not their mothers!\n",
    "! qiime feature-table filter-samples \\\n",
    "    --i-table $data_dir/pathway_abundance.qza \\\n",
    "    --m-metadata-file $data_dir/metadata.tsv \\\n",
    "    --p-where \"[mom_or_child]='C'\" \\\n",
    "    --o-filtered-table $data_dir/pathway_abundance_child.qza\n",
    "\n",
    "! qiime diversity core-metrics \\\n",
    "  --i-table $data_dir/pathway_abundance_child.qza \\\n",
    "  --m-metadata-file $data_dir/metadata.tsv \\\n",
    "  --p-sampling-depth 100000 \\\n",
    "  --p-n-jobs $n_jobs \\\n",
    "  --output-dir $data_dir/core-metrics-picrust2\n",
    "\n",
    "! qiime diversity adonis \\\n",
    "  --i-distance-matrix $data_dir/core-metrics-picrust2/jaccard_distance_matrix.qza \\\n",
    "  --m-metadata-file $data_dir/metadata.tsv \\\n",
    "  --p-formula 'month*diet*delivery' \\\n",
    "  --o-visualization $data_dir/core-metrics-picrust2/adonis-results.qzv"
   ]
  },
  {
   "cell_type": "code",
   "execution_count": 4,
   "id": "1ec9b14c",
   "metadata": {},
   "outputs": [
    {
     "data": {
      "text/html": [
       "<div><img onload=\"(function(div, url){\n",
       "if (typeof require !== 'undefined') {\n",
       "    var baseURL = require.toUrl('').split('/').slice(0, -2).join('/');\n",
       "} else {\n",
       "    var baseURL = JSON.parse(\n",
       "        document.getElementById('jupyter-config-data').innerHTML\n",
       "    ).baseUrl.slice(0, -1);\n",
       "}\n",
       "url = baseURL + url;\n",
       "fetch(url).then(function(res) {\n",
       "    if (res.status === 404) {\n",
       "        div.innerHTML = 'Install QIIME 2 Jupyter extension with:<br />' +\n",
       "                        '<code>jupyter serverextension enable --py qiime2' +\n",
       "                        ' --sys-prefix</code><br />then restart your server.' +\n",
       "                        '<br /><br />(Interactive output not available on ' +\n",
       "                        'static notebook viewer services like nbviewer.)';\n",
       "    } else if (res.status === 409) {\n",
       "        div.innerHTML = 'Visualization no longer in scope. Re-run this cell' +\n",
       "                        ' to see the visualization.';\n",
       "    } else if (res.ok) {\n",
       "        url = res.url;\n",
       "        div.innerHTML = '<iframe src=\\'' + url + '\\' style=\\'' +\n",
       "                        'width: 100%; height: 700px; border: 0;\\'>' +\n",
       "                        '</iframe><hr />Open in a: <a href=\\'' + url + '\\'' +\n",
       "                        ' target=\\'_blank\\'>new window</a>'\n",
       "    } else {\n",
       "        div.innerHTML = 'Something has gone wrong. Check notebook server for' +\n",
       "                        ' errors.';\n",
       "    }\n",
       "});\n",
       "})(this.parentElement, '/qiime2/redirect?location=/tmp/qiime2-archive-x4c0a4v0')\" src=\"data:image/gif;base64,R0lGODlhAQABAIAAAP///wAAACH5BAEAAAAALAAAAAABAAEAAAICRAEAOw==\" /></div>"
      ],
      "text/plain": [
       "<visualization: Visualization uuid: d5d8b9e9-e46b-4367-8f85-4ce0adcd9278>"
      ]
     },
     "execution_count": 4,
     "metadata": {},
     "output_type": "execute_result"
    }
   ],
   "source": [
    "Visualization.load(f'{data_dir}/core-metrics-picrust2/jaccard_emperor.qzv')"
   ]
  },
  {
   "cell_type": "code",
   "execution_count": 5,
   "id": "814fd73c",
   "metadata": {},
   "outputs": [
    {
     "data": {
      "text/html": [
       "<div><img onload=\"(function(div, url){\n",
       "if (typeof require !== 'undefined') {\n",
       "    var baseURL = require.toUrl('').split('/').slice(0, -2).join('/');\n",
       "} else {\n",
       "    var baseURL = JSON.parse(\n",
       "        document.getElementById('jupyter-config-data').innerHTML\n",
       "    ).baseUrl.slice(0, -1);\n",
       "}\n",
       "url = baseURL + url;\n",
       "fetch(url).then(function(res) {\n",
       "    if (res.status === 404) {\n",
       "        div.innerHTML = 'Install QIIME 2 Jupyter extension with:<br />' +\n",
       "                        '<code>jupyter serverextension enable --py qiime2' +\n",
       "                        ' --sys-prefix</code><br />then restart your server.' +\n",
       "                        '<br /><br />(Interactive output not available on ' +\n",
       "                        'static notebook viewer services like nbviewer.)';\n",
       "    } else if (res.status === 409) {\n",
       "        div.innerHTML = 'Visualization no longer in scope. Re-run this cell' +\n",
       "                        ' to see the visualization.';\n",
       "    } else if (res.ok) {\n",
       "        url = res.url;\n",
       "        div.innerHTML = '<iframe src=\\'' + url + '\\' style=\\'' +\n",
       "                        'width: 100%; height: 700px; border: 0;\\'>' +\n",
       "                        '</iframe><hr />Open in a: <a href=\\'' + url + '\\'' +\n",
       "                        ' target=\\'_blank\\'>new window</a>'\n",
       "    } else {\n",
       "        div.innerHTML = 'Something has gone wrong. Check notebook server for' +\n",
       "                        ' errors.';\n",
       "    }\n",
       "});\n",
       "})(this.parentElement, '/qiime2/redirect?location=/tmp/qiime2-archive-rknwquq2')\" src=\"data:image/gif;base64,R0lGODlhAQABAIAAAP///wAAACH5BAEAAAAALAAAAAABAAEAAAICRAEAOw==\" /></div>"
      ],
      "text/plain": [
       "<visualization: Visualization uuid: 744c0d6c-044a-48ad-88a9-b59b8ba15216>"
      ]
     },
     "execution_count": 5,
     "metadata": {},
     "output_type": "execute_result"
    }
   ],
   "source": [
    "Visualization.load(f'{data_dir}/core-metrics-picrust2/bray_curtis_emperor.qzv')"
   ]
  },
  {
   "cell_type": "code",
   "execution_count": 6,
   "id": "0d19df19-313d-40be-9b75-d889ea079283",
   "metadata": {},
   "outputs": [
    {
     "data": {
      "text/html": [
       "<div><img onload=\"(function(div, url){\n",
       "if (typeof require !== 'undefined') {\n",
       "    var baseURL = require.toUrl('').split('/').slice(0, -2).join('/');\n",
       "} else {\n",
       "    var baseURL = JSON.parse(\n",
       "        document.getElementById('jupyter-config-data').innerHTML\n",
       "    ).baseUrl.slice(0, -1);\n",
       "}\n",
       "url = baseURL + url;\n",
       "fetch(url).then(function(res) {\n",
       "    if (res.status === 404) {\n",
       "        div.innerHTML = 'Install QIIME 2 Jupyter extension with:<br />' +\n",
       "                        '<code>jupyter serverextension enable --py qiime2' +\n",
       "                        ' --sys-prefix</code><br />then restart your server.' +\n",
       "                        '<br /><br />(Interactive output not available on ' +\n",
       "                        'static notebook viewer services like nbviewer.)';\n",
       "    } else if (res.status === 409) {\n",
       "        div.innerHTML = 'Visualization no longer in scope. Re-run this cell' +\n",
       "                        ' to see the visualization.';\n",
       "    } else if (res.ok) {\n",
       "        url = res.url;\n",
       "        div.innerHTML = '<iframe src=\\'' + url + '\\' style=\\'' +\n",
       "                        'width: 100%; height: 700px; border: 0;\\'>' +\n",
       "                        '</iframe><hr />Open in a: <a href=\\'' + url + '\\'' +\n",
       "                        ' target=\\'_blank\\'>new window</a>'\n",
       "    } else {\n",
       "        div.innerHTML = 'Something has gone wrong. Check notebook server for' +\n",
       "                        ' errors.';\n",
       "    }\n",
       "});\n",
       "})(this.parentElement, '/qiime2/redirect?location=/tmp/qiime2-archive-7bhealkh')\" src=\"data:image/gif;base64,R0lGODlhAQABAIAAAP///wAAACH5BAEAAAAALAAAAAABAAEAAAICRAEAOw==\" /></div>"
      ],
      "text/plain": [
       "<visualization: Visualization uuid: 9a4fc867-66b9-476d-8852-018d3d59566f>"
      ]
     },
     "execution_count": 6,
     "metadata": {},
     "output_type": "execute_result"
    }
   ],
   "source": [
    "Visualization.load(f'{data_dir}/core-metrics-picrust2/adonis-results.qzv')"
   ]
  },
  {
   "cell_type": "markdown",
   "id": "05345556-799f-4bd4-b4ff-77e80f16caf7",
   "metadata": {},
   "source": [
    "Results are very similar do what we prevously got : PCoA plots could help foreseeing distinctions in group ages, but no totally clear differences, with clearer space definition of older age groups compared no youngers). The adonis tests show similar results with p-values for month and month:diet being <0.05. This time month:delivery is totally unsignificant (0.244) which matches my previous lack of understanding of this result.\n",
    "We could except a relationship between beta diversity in sequence variant abundances and functional redundancy so there is no surprise in seing similar yet not identical results."
   ]
  },
  {
   "cell_type": "markdown",
   "id": "7a9d49a8",
   "metadata": {},
   "source": [
    "<a id='procrustes'></a>\n",
    "## 3.1 Comparing ordinations\n",
    "\n",
    "One way to compare beta diversity ordination results directly is with [Procrustes analysis](https://en.wikipedia.org/wiki/Procrustes_analysis). This method rotates and scales two ordinations to align them as best as possible. We can view the transformed PCoA coordinates together in a single plot to visually compare the ordinations. Run the code block to view the visualization and answer the following question:\n",
    "\n",
    "1. How good does this fit look to you? Do you think that this indicates that ASV and pathway abundances are very similar or dissimilar?"
   ]
  },
  {
   "cell_type": "code",
   "execution_count": 6,
   "id": "b3e492f2",
   "metadata": {},
   "outputs": [
    {
     "name": "stdout",
     "output_type": "stream",
     "text": [
      "\u001b[32mSaved PCoAResults to: w10_data/core-metrics-picrust2/procrustes/transformed_reference.qza\u001b[0m\n",
      "\u001b[32mSaved PCoAResults to: w10_data/core-metrics-picrust2/procrustes/transformed_other.qza\u001b[0m\n",
      "\u001b[32mSaved ProcrustesStatistics to: w10_data/core-metrics-picrust2/procrustes/disparity_results.qza\u001b[0m\n",
      "\u001b[0m\u001b[32mSaved Visualization to: w10_data/core-metrics-picrust2/procrustes-pcoa-plot.qzv\u001b[0m\n",
      "\u001b[0m"
     ]
    },
    {
     "data": {
      "text/html": [
       "<div><img onload=\"(function(div, url){\n",
       "if (typeof require !== 'undefined') {\n",
       "    var baseURL = require.toUrl('').split('/').slice(0, -2).join('/');\n",
       "} else {\n",
       "    var baseURL = JSON.parse(\n",
       "        document.getElementById('jupyter-config-data').innerHTML\n",
       "    ).baseUrl.slice(0, -1);\n",
       "}\n",
       "url = baseURL + url;\n",
       "fetch(url).then(function(res) {\n",
       "    if (res.status === 404) {\n",
       "        div.innerHTML = 'Install QIIME 2 Jupyter extension with:<br />' +\n",
       "                        '<code>jupyter serverextension enable --py qiime2' +\n",
       "                        ' --sys-prefix</code><br />then restart your server.' +\n",
       "                        '<br /><br />(Interactive output not available on ' +\n",
       "                        'static notebook viewer services like nbviewer.)';\n",
       "    } else if (res.status === 409) {\n",
       "        div.innerHTML = 'Visualization no longer in scope. Re-run this cell' +\n",
       "                        ' to see the visualization.';\n",
       "    } else if (res.ok) {\n",
       "        url = res.url;\n",
       "        div.innerHTML = '<iframe src=\\'' + url + '\\' style=\\'' +\n",
       "                        'width: 100%; height: 700px; border: 0;\\'>' +\n",
       "                        '</iframe><hr />Open in a: <a href=\\'' + url + '\\'' +\n",
       "                        ' target=\\'_blank\\'>new window</a>'\n",
       "    } else {\n",
       "        div.innerHTML = 'Something has gone wrong. Check notebook server for' +\n",
       "                        ' errors.';\n",
       "    }\n",
       "});\n",
       "})(this.parentElement, '/qiime2/redirect?location=/tmp/qiime2-archive-xlzj3kma')\" src=\"data:image/gif;base64,R0lGODlhAQABAIAAAP///wAAACH5BAEAAAAALAAAAAABAAEAAAICRAEAOw==\" /></div>"
      ],
      "text/plain": [
       "<visualization: Visualization uuid: 3cb6d75f-052e-42e7-896a-ca8366370364>"
      ]
     },
     "execution_count": 6,
     "metadata": {},
     "output_type": "execute_result"
    }
   ],
   "source": [
    "# NOTE: you might need to change the \"reference\" filepath name in the first command,\n",
    "# depending on the name of the output directory that you used for the core-metrics\n",
    "# pipeline in Section 2.\n",
    "\n",
    "! qiime diversity procrustes-analysis \\\n",
    "  --i-reference $data_dir/core-metrics-results1500/jaccard_pcoa_results.qza \\\n",
    "  --i-other $data_dir/core-metrics-picrust2/jaccard_pcoa_results.qza \\\n",
    "  --output-dir $data_dir/core-metrics-picrust2/procrustes/\n",
    "\n",
    "! qiime emperor procrustes-plot \\\n",
    "  --i-reference-pcoa $data_dir/core-metrics-picrust2/procrustes/transformed_reference.qza \\\n",
    "  --i-other-pcoa $data_dir/core-metrics-picrust2/procrustes/transformed_other.qza \\\n",
    "  --m-metadata-file $data_dir/metadata.tsv \\\n",
    "  --o-visualization $data_dir/core-metrics-picrust2/procrustes-pcoa-plot.qzv"
   ]
  },
  {
   "cell_type": "markdown",
   "id": "7622b3ef-7ca1-4bc8-a9b9-9acc8c7de70c",
   "metadata": {},
   "source": [
    "I would say that the fit look pretty ok because the general distribution (like the 'shape' of the PCoA plot) looks conserved and, even though there is a lot of plotted samples, I don't think this is very hard to look at each differences in ordinations in this plot (I can imagine plots of comparison being way harder to understand, like messy, with lines everywhere). For some ages categories like 24months old babies, all the data even seem to follow the same pattern.\n",
    "Yet, it could still have been gloablly clearer. I think this indicates that ASV and pathway abundances are globally quite similar, and tend to get better as the age of the child increases."
   ]
  },
  {
   "cell_type": "code",
   "execution_count": 7,
   "id": "4e9e5c4a-d495-4326-b569-b4e13f00c04f",
   "metadata": {},
   "outputs": [
    {
     "data": {
      "text/html": [
       "<div><img onload=\"(function(div, url){\n",
       "if (typeof require !== 'undefined') {\n",
       "    var baseURL = require.toUrl('').split('/').slice(0, -2).join('/');\n",
       "} else {\n",
       "    var baseURL = JSON.parse(\n",
       "        document.getElementById('jupyter-config-data').innerHTML\n",
       "    ).baseUrl.slice(0, -1);\n",
       "}\n",
       "url = baseURL + url;\n",
       "fetch(url).then(function(res) {\n",
       "    if (res.status === 404) {\n",
       "        div.innerHTML = 'Install QIIME 2 Jupyter extension with:<br />' +\n",
       "                        '<code>jupyter serverextension enable --py qiime2' +\n",
       "                        ' --sys-prefix</code><br />then restart your server.' +\n",
       "                        '<br /><br />(Interactive output not available on ' +\n",
       "                        'static notebook viewer services like nbviewer.)';\n",
       "    } else if (res.status === 409) {\n",
       "        div.innerHTML = 'Visualization no longer in scope. Re-run this cell' +\n",
       "                        ' to see the visualization.';\n",
       "    } else if (res.ok) {\n",
       "        url = res.url;\n",
       "        div.innerHTML = '<iframe src=\\'' + url + '\\' style=\\'' +\n",
       "                        'width: 100%; height: 700px; border: 0;\\'>' +\n",
       "                        '</iframe><hr />Open in a: <a href=\\'' + url + '\\'' +\n",
       "                        ' target=\\'_blank\\'>new window</a>'\n",
       "    } else {\n",
       "        div.innerHTML = 'Something has gone wrong. Check notebook server for' +\n",
       "                        ' errors.';\n",
       "    }\n",
       "});\n",
       "})(this.parentElement, '/qiime2/redirect?location=/tmp/qiime2-archive-m7rovq41')\" src=\"data:image/gif;base64,R0lGODlhAQABAIAAAP///wAAACH5BAEAAAAALAAAAAABAAEAAAICRAEAOw==\" /></div>"
      ],
      "text/plain": [
       "<visualization: Visualization uuid: 3cb6d75f-052e-42e7-896a-ca8366370364>"
      ]
     },
     "execution_count": 7,
     "metadata": {},
     "output_type": "execute_result"
    }
   ],
   "source": [
    "Visualization.load(f'{data_dir}/core-metrics-picrust2/procrustes-pcoa-plot.qzv')"
   ]
  },
  {
   "cell_type": "markdown",
   "id": "fdce8403",
   "metadata": {},
   "source": [
    "<a id='longitudinal'></a>\n",
    "## 4. Longitudinal resilience analysis"
   ]
  },
  {
   "cell_type": "markdown",
   "id": "ed2d4647",
   "metadata": {},
   "source": [
    "Now let's examine resilience. As you learned from your reading, resilience measures the ability of an ecosystem to recover from disturbance, e.g., by repopulation of the species and ecosystem functions necessary in that system.\n",
    "\n",
    "The ECAM dataset does not explicitly look at ecological disturbance, but we can examine the rate of microbial colonization after birth in different infants, as a phenomenon similar to resilience (i.e., how quickly the microbiome can stabilize after colonizing a new ecosystem, as opposed to re-stabilize in a disturbed ecosystem).\n",
    "\n",
    "We will use the `q2-longitudinal` plugin to examine temporal dynamics in the ECAM infants, in relation to the mothers of those same infants. The mothers' microbiota serve as a baseline of stabilized adult microbiota to which the infant microbiota can be compared (to measure resilience as the rate of (re-)stabilization).\n",
    "\n",
    "You have not used this plugin before! So I have given you the commands below, and run them for you. Your job is to inspect the output visualizations to answer the following questions. (use the `--help` option to read documentation inline.)\n",
    "\n",
    "**Note**: Mothers can be distinguished from their children by the `mom_or_child` metadata column. Additionally, the value assiged to all mothers for `month` is `-1.0` (because their stool samples were collected shortly pre-partum) and can be used to distinguish maternal samples when looking at PCoA or line pltos.\n",
    "\n",
    "The diet metadata are interpreted as follows: `bd` means \"breastmilk-dominant\" and `fd` means \"formula-dominant\".\n",
    "\n",
    "Run the commands below and then answer the following questions about the outputs.\n",
    "\n",
    "**Questions:**\n",
    "1. Inspect the `jaccard_emperor.qzv` plot and color points according to the `month` category. Do you see a clear pattern/trend?\n",
    "2. Look at the `volatility.qzv` line plot. Do you see (qualitative) differences in observed features, Shannon diversity, and Jaccard distance PCoA `Axis 1` between `diet` groups or `delivery` groups over time? \n",
    "3. If yes, are these differences consistent over time?"
   ]
  },
  {
   "cell_type": "code",
   "execution_count": 38,
   "id": "6242b396",
   "metadata": {},
   "outputs": [
    {
     "name": "stdout",
     "output_type": "stream",
     "text": [
      "\u001b[32mSaved FeatureTable[Frequency] to: w10_data/filtered-table-deblur-with-mothers.qza\u001b[0m\n",
      "\u001b[0m\u001b[32mSaved FeatureTable[Frequency] to: w10_data/core-metrics-with-mothers/rarefied_table.qza\u001b[0m\n",
      "\u001b[32mSaved SampleData[AlphaDiversity] to: w10_data/core-metrics-with-mothers/observed_features_vector.qza\u001b[0m\n",
      "\u001b[32mSaved SampleData[AlphaDiversity] to: w10_data/core-metrics-with-mothers/shannon_vector.qza\u001b[0m\n",
      "\u001b[32mSaved SampleData[AlphaDiversity] to: w10_data/core-metrics-with-mothers/evenness_vector.qza\u001b[0m\n",
      "\u001b[32mSaved DistanceMatrix to: w10_data/core-metrics-with-mothers/jaccard_distance_matrix.qza\u001b[0m\n",
      "\u001b[32mSaved DistanceMatrix to: w10_data/core-metrics-with-mothers/bray_curtis_distance_matrix.qza\u001b[0m\n",
      "\u001b[32mSaved PCoAResults to: w10_data/core-metrics-with-mothers/jaccard_pcoa_results.qza\u001b[0m\n",
      "\u001b[32mSaved PCoAResults to: w10_data/core-metrics-with-mothers/bray_curtis_pcoa_results.qza\u001b[0m\n",
      "\u001b[32mSaved Visualization to: w10_data/core-metrics-with-mothers/jaccard_emperor.qzv\u001b[0m\n",
      "\u001b[32mSaved Visualization to: w10_data/core-metrics-with-mothers/bray_curtis_emperor.qzv\u001b[0m\n",
      "\u001b[0m\u001b[32mSaved Visualization to: w10_data/core-metrics-with-mothers/volatility.qzv\u001b[0m\n",
      "\u001b[0m"
     ]
    },
    {
     "data": {
      "text/html": [
       "<div><img onload=\"(function(div, url){\n",
       "if (typeof require !== 'undefined') {\n",
       "    var baseURL = require.toUrl('').split('/').slice(0, -2).join('/');\n",
       "} else {\n",
       "    var baseURL = JSON.parse(\n",
       "        document.getElementById('jupyter-config-data').innerHTML\n",
       "    ).baseUrl.slice(0, -1);\n",
       "}\n",
       "url = baseURL + url;\n",
       "fetch(url).then(function(res) {\n",
       "    if (res.status === 404) {\n",
       "        div.innerHTML = 'Install QIIME 2 Jupyter extension with:<br />' +\n",
       "                        '<code>jupyter serverextension enable --py qiime2' +\n",
       "                        ' --sys-prefix</code><br />then restart your server.' +\n",
       "                        '<br /><br />(Interactive output not available on ' +\n",
       "                        'static notebook viewer services like nbviewer.)';\n",
       "    } else if (res.status === 409) {\n",
       "        div.innerHTML = 'Visualization no longer in scope. Re-run this cell' +\n",
       "                        ' to see the visualization.';\n",
       "    } else if (res.ok) {\n",
       "        url = res.url;\n",
       "        div.innerHTML = '<iframe src=\\'' + url + '\\' style=\\'' +\n",
       "                        'width: 100%; height: 700px; border: 0;\\'>' +\n",
       "                        '</iframe><hr />Open in a: <a href=\\'' + url + '\\'' +\n",
       "                        ' target=\\'_blank\\'>new window</a>'\n",
       "    } else {\n",
       "        div.innerHTML = 'Something has gone wrong. Check notebook server for' +\n",
       "                        ' errors.';\n",
       "    }\n",
       "});\n",
       "})(this.parentElement, '/qiime2/redirect?location=/tmp/qiime2-archive-y6da5psu')\" src=\"data:image/gif;base64,R0lGODlhAQABAIAAAP///wAAACH5BAEAAAAALAAAAAABAAEAAAICRAEAOw==\" /></div>"
      ],
      "text/plain": [
       "<visualization: Visualization uuid: 5974ff5d-88bc-4001-9227-e74b7a199d66>"
      ]
     },
     "execution_count": 38,
     "metadata": {},
     "output_type": "execute_result"
    }
   ],
   "source": [
    "# Run the following commands and inspect the results.\n",
    "# We will look at infants and their mothers' microbiota just prior to birth\n",
    "! qiime feature-table filter-samples \\\n",
    "    --i-table $data_dir/filtered-table-deblur.qza \\\n",
    "    --m-metadata-file $data_dir/metadata.tsv \\\n",
    "    --o-filtered-table $data_dir/filtered-table-deblur-with-mothers.qza\n",
    "\n",
    "# Repeat our core-metrics diversity analysis from before, this time with mothers\n",
    "! qiime diversity core-metrics \\\n",
    "  --i-table $data_dir/filtered-table-deblur-with-mothers.qza \\\n",
    "  --m-metadata-file $data_dir/metadata.tsv \\\n",
    "  --p-sampling-depth 1800 \\\n",
    "  --p-n-jobs $n_jobs \\\n",
    "  --output-dir $data_dir/core-metrics-with-mothers\n",
    "\n",
    "# this creates an interactive line plot — useful for looking at changes in alpha and beta diversity across time\n",
    "! qiime longitudinal volatility \\\n",
    "  --m-metadata-file $data_dir/metadata.tsv \\\n",
    "  --m-metadata-file $data_dir/core-metrics-with-mothers/observed_features_vector.qza \\\n",
    "  --m-metadata-file $data_dir/core-metrics-with-mothers/shannon_vector.qza \\\n",
    "  --m-metadata-file $data_dir/core-metrics-with-mothers/jaccard_pcoa_results.qza \\\n",
    "  --p-default-group-column 'diet'\\\n",
    "  --p-default-metric 'observed_features' \\\n",
    "  --p-state-column 'month' \\\n",
    "  --p-individual-id-column 'host_subject_id' \\\n",
    "  --o-visualization $data_dir/core-metrics-with-mothers/volatility.qzv"
   ]
  },
  {
   "cell_type": "markdown",
   "id": "a1588ed0-b040-4290-a29a-d2b84aff274d",
   "metadata": {},
   "source": [
    "Visualization.load(f'{data_dir}/core-metrics-with-mothers/jaccard_emperor.qzv')"
   ]
  },
  {
   "cell_type": "markdown",
   "id": "8bc02b6c-f93d-416b-9f1c-3f4d084451ba",
   "metadata": {},
   "source": [
    "**1)** Yes, this time we can see a very clear pattern of teh different age groups with Jaccard diversity metrics PCoA plot."
   ]
  },
  {
   "cell_type": "code",
   "execution_count": 9,
   "id": "513f0ee9",
   "metadata": {
    "scrolled": true
   },
   "outputs": [
    {
     "data": {
      "text/html": [
       "<div><img onload=\"(function(div, url){\n",
       "if (typeof require !== 'undefined') {\n",
       "    var baseURL = require.toUrl('').split('/').slice(0, -2).join('/');\n",
       "} else {\n",
       "    var baseURL = JSON.parse(\n",
       "        document.getElementById('jupyter-config-data').innerHTML\n",
       "    ).baseUrl.slice(0, -1);\n",
       "}\n",
       "url = baseURL + url;\n",
       "fetch(url).then(function(res) {\n",
       "    if (res.status === 404) {\n",
       "        div.innerHTML = 'Install QIIME 2 Jupyter extension with:<br />' +\n",
       "                        '<code>jupyter serverextension enable --py qiime2' +\n",
       "                        ' --sys-prefix</code><br />then restart your server.' +\n",
       "                        '<br /><br />(Interactive output not available on ' +\n",
       "                        'static notebook viewer services like nbviewer.)';\n",
       "    } else if (res.status === 409) {\n",
       "        div.innerHTML = 'Visualization no longer in scope. Re-run this cell' +\n",
       "                        ' to see the visualization.';\n",
       "    } else if (res.ok) {\n",
       "        url = res.url;\n",
       "        div.innerHTML = '<iframe src=\\'' + url + '\\' style=\\'' +\n",
       "                        'width: 100%; height: 700px; border: 0;\\'>' +\n",
       "                        '</iframe><hr />Open in a: <a href=\\'' + url + '\\'' +\n",
       "                        ' target=\\'_blank\\'>new window</a>'\n",
       "    } else {\n",
       "        div.innerHTML = 'Something has gone wrong. Check notebook server for' +\n",
       "                        ' errors.';\n",
       "    }\n",
       "});\n",
       "})(this.parentElement, '/qiime2/redirect?location=/tmp/qiime2-archive-hlhz37qm')\" src=\"data:image/gif;base64,R0lGODlhAQABAIAAAP///wAAACH5BAEAAAAALAAAAAABAAEAAAICRAEAOw==\" /></div>"
      ],
      "text/plain": [
       "<visualization: Visualization uuid: 456e2353-a44d-48f9-8f43-496c7976f127>"
      ]
     },
     "execution_count": 9,
     "metadata": {},
     "output_type": "execute_result"
    }
   ],
   "source": [
    "Visualization.load(f'{data_dir}/core-metrics-with-mothers/volatility.qzv')"
   ]
  },
  {
   "cell_type": "markdown",
   "id": "62d5fbc0-63d5-47e6-867a-b1aad8eff4ac",
   "metadata": {},
   "source": [
    "**2)** Yes, there are differences in these metrics and variable groups over time."
   ]
  },
  {
   "cell_type": "markdown",
   "id": "4e1dac21-45f6-4328-a6fd-05873ef24eb9",
   "metadata": {},
   "source": [
    "**3)** This differences fluctuate with time. Even if there are differences during the first month of birth, the group lines eventually cross after several months, indicating that Egality in every metrics columns for differents diet groups is reached between 11 and 13 months of age.\n",
    "Egality in every metrics columns for differents delivery mode groups is reached betzeen 3 and 8 months of age."
   ]
  },
  {
   "cell_type": "markdown",
   "id": "d871b895",
   "metadata": {},
   "source": [
    "<a id='lme'></a>\n",
    "## 4.1 applying a statistical test to longitudinal data\n",
    "\n",
    "We will probably not get to this in class, but this section will show you how to apply a statistical test to quantitatively answer some of the questions posed above regarding longitudinal variation and resilience. You only need to run the code below and examine the results; there are no questions for you to answer.\n",
    "\n",
    "From our analysis above, it looks like there is an initial \"disruption\" in the composition of the microbiota following birth (i.e., the microbiota of infants are very dissimilar to their mothers during an initial chaotic period), and an eventual \"return\" to normalcy (i.e., the microbiota form a stable community that better resembles an adult gut). However, the rate of return differs between some groups, which we can view here as an indication that some groups are more \"resilient\" than others (or more properly they develop an adult-like microbiome and stabilize more quickly). \n",
    "\n",
    "Here we will use a [linear mixed effects model](https://en.wikipedia.org/wiki/Mixed_model) as a statistical test to examine individual infants' trajectories of development as a comparison of resilience. We will examine developmental trajectories in infants only, not in their mothers, so will use our initial `core-metrics` results. We specify a formula consisting of a dependent variable (here `observed_features`, i.e., ASV richness) and several independent variables and their interactions (`month*diet*delivery`) to test their association with variation in the dependent variable. We also specify random effects to incorporate in the model to account for individual variation in baseline and slope: a random intercept for each individual is included by default, and we specify `month` to include a random slope for each individual. \n",
    "\n",
    "You can read more about the QIIME 2 implementation of this test, and its interpretation, [here](https://docs.qiime2.org/2022.8/tutorials/longitudinal/#linear-mixed-effect-models).\n",
    "\n",
    "Run the code below. The results should indicate that delivery mode has a significant impact on Shannon diversity (see the `delivery[T.Vaginal]` row in the model results section), and that there is a signficant interaction between delivery mode and age on Shannon diversity (see the `month:delivery[T.Vaginal]` row in the model results).\n"
   ]
  },
  {
   "cell_type": "code",
   "execution_count": 40,
   "id": "bbe0b6f1",
   "metadata": {},
   "outputs": [
    {
     "name": "stdout",
     "output_type": "stream",
     "text": [
      "\u001b[32mSaved Visualization to: w10_data/core-metrics-results1000/lme-shannon.qzv\u001b[0m\n",
      "\u001b[0m"
     ]
    },
    {
     "data": {
      "text/html": [
       "<div><img onload=\"(function(div, url){\n",
       "if (typeof require !== 'undefined') {\n",
       "    var baseURL = require.toUrl('').split('/').slice(0, -2).join('/');\n",
       "} else {\n",
       "    var baseURL = JSON.parse(\n",
       "        document.getElementById('jupyter-config-data').innerHTML\n",
       "    ).baseUrl.slice(0, -1);\n",
       "}\n",
       "url = baseURL + url;\n",
       "fetch(url).then(function(res) {\n",
       "    if (res.status === 404) {\n",
       "        div.innerHTML = 'Install QIIME 2 Jupyter extension with:<br />' +\n",
       "                        '<code>jupyter serverextension enable --py qiime2' +\n",
       "                        ' --sys-prefix</code><br />then restart your server.' +\n",
       "                        '<br /><br />(Interactive output not available on ' +\n",
       "                        'static notebook viewer services like nbviewer.)';\n",
       "    } else if (res.status === 409) {\n",
       "        div.innerHTML = 'Visualization no longer in scope. Re-run this cell' +\n",
       "                        ' to see the visualization.';\n",
       "    } else if (res.ok) {\n",
       "        url = res.url;\n",
       "        div.innerHTML = '<iframe src=\\'' + url + '\\' style=\\'' +\n",
       "                        'width: 100%; height: 700px; border: 0;\\'>' +\n",
       "                        '</iframe><hr />Open in a: <a href=\\'' + url + '\\'' +\n",
       "                        ' target=\\'_blank\\'>new window</a>'\n",
       "    } else {\n",
       "        div.innerHTML = 'Something has gone wrong. Check notebook server for' +\n",
       "                        ' errors.';\n",
       "    }\n",
       "});\n",
       "})(this.parentElement, '/qiime2/redirect?location=/tmp/qiime2-archive-sf0tl8g1')\" src=\"data:image/gif;base64,R0lGODlhAQABAIAAAP///wAAACH5BAEAAAAALAAAAAABAAEAAAICRAEAOw==\" /></div>"
      ],
      "text/plain": [
       "<visualization: Visualization uuid: 1dd084cc-34c8-42d9-9eb7-c0e1306ca6d5>"
      ]
     },
     "execution_count": 40,
     "metadata": {},
     "output_type": "execute_result"
    }
   ],
   "source": [
    "# NOTE: you might need to change the filepaths below, depending on the name of the\n",
    "# output directory that you used for the core-metrics pipeline in Section 2. The\n",
    "# filepaths to change will be the directory name `core-metrics-results`.\n",
    "\n",
    "! qiime longitudinal linear-mixed-effects \\\n",
    "  --m-metadata-file $data_dir/metadata.tsv \\\n",
    "  --m-metadata-file $data_dir/core-metrics-results1000/shannon_vector.qza \\\n",
    "  --p-random-effects 'month'\\\n",
    "  --p-formula 'shannon_entropy~month*diet*delivery' \\\n",
    "  --p-state-column 'month' \\\n",
    "  --p-individual-id-column 'host_subject_id' \\\n",
    "  --o-visualization $data_dir/core-metrics-results1000/lme-shannon.qzv"
   ]
  },
  {
   "cell_type": "code",
   "execution_count": 9,
   "id": "9f1e54b9-9431-45f7-a3bf-e716276a2ea7",
   "metadata": {},
   "outputs": [
    {
     "data": {
      "text/html": [
       "<div><img onload=\"(function(div, url){\n",
       "if (typeof require !== 'undefined') {\n",
       "    var baseURL = require.toUrl('').split('/').slice(0, -2).join('/');\n",
       "} else {\n",
       "    var baseURL = JSON.parse(\n",
       "        document.getElementById('jupyter-config-data').innerHTML\n",
       "    ).baseUrl.slice(0, -1);\n",
       "}\n",
       "url = baseURL + url;\n",
       "fetch(url).then(function(res) {\n",
       "    if (res.status === 404) {\n",
       "        div.innerHTML = 'Install QIIME 2 Jupyter extension with:<br />' +\n",
       "                        '<code>jupyter serverextension enable --py qiime2' +\n",
       "                        ' --sys-prefix</code><br />then restart your server.' +\n",
       "                        '<br /><br />(Interactive output not available on ' +\n",
       "                        'static notebook viewer services like nbviewer.)';\n",
       "    } else if (res.status === 409) {\n",
       "        div.innerHTML = 'Visualization no longer in scope. Re-run this cell' +\n",
       "                        ' to see the visualization.';\n",
       "    } else if (res.ok) {\n",
       "        url = res.url;\n",
       "        div.innerHTML = '<iframe src=\\'' + url + '\\' style=\\'' +\n",
       "                        'width: 100%; height: 700px; border: 0;\\'>' +\n",
       "                        '</iframe><hr />Open in a: <a href=\\'' + url + '\\'' +\n",
       "                        ' target=\\'_blank\\'>new window</a>'\n",
       "    } else {\n",
       "        div.innerHTML = 'Something has gone wrong. Check notebook server for' +\n",
       "                        ' errors.';\n",
       "    }\n",
       "});\n",
       "})(this.parentElement, '/qiime2/redirect?location=/tmp/qiime2-archive-18y9rejb')\" src=\"data:image/gif;base64,R0lGODlhAQABAIAAAP///wAAACH5BAEAAAAALAAAAAABAAEAAAICRAEAOw==\" /></div>"
      ],
      "text/plain": [
       "<visualization: Visualization uuid: 1dd084cc-34c8-42d9-9eb7-c0e1306ca6d5>"
      ]
     },
     "execution_count": 9,
     "metadata": {},
     "output_type": "execute_result"
    }
   ],
   "source": [
    "Visualization.load(f'{data_dir}/core-metrics-results1000/lme-shannon.qzv')"
   ]
  }
 ],
 "metadata": {
  "kernelspec": {
   "display_name": "Python 3 (ipykernel)",
   "language": "python",
   "name": "python3"
  },
  "language_info": {
   "codemirror_mode": {
    "name": "ipython",
    "version": 3
   },
   "file_extension": ".py",
   "mimetype": "text/x-python",
   "name": "python",
   "nbconvert_exporter": "python",
   "pygments_lexer": "ipython3",
   "version": "3.8.13"
  }
 },
 "nbformat": 4,
 "nbformat_minor": 5
}
