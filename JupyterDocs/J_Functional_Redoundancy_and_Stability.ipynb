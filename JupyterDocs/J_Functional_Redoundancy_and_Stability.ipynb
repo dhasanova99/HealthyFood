{
 "cells": [
  {
   "cell_type": "markdown",
   "id": "e4782066",
   "metadata": {},
   "source": [
    "**Functional redundancy and resilience**\n",
    "\n",
    "Examination of functional redundancy and reslience in the context of microbial biodiversity measurements.\n",
    "1. compare taxonomic and functional diversity in these same samples to evaluate _functional redundancy_ in microbial communities.\n",
    "2. examine longitudinal change in these biodiversity metrics to measure _resilience_ in microbial communities\n",
    "\n",
    "- Metadata : sample_meta_data (done in A)\n",
    "- Diversity analysis : alpha = core-metrics-results (done in F), beta = core-metrics-results-bd (done in G)\n",
    "- Metagenome content predicted by PICRUST2 : (done in I)\n"
   ]
  },
  {
   "cell_type": "markdown",
   "id": "8ed4345f",
   "metadata": {},
   "source": [
    "<a id='setup'></a>\n",
    "## 0. Setup"
   ]
  },
  {
   "cell_type": "code",
   "execution_count": 3,
   "id": "f9365fb9",
   "metadata": {},
   "outputs": [],
   "source": [
    "import os\n",
    "import qiime2 as q2\n",
    "import pandas as pd\n",
    "from qiime2 import Visualization\n",
    "\n",
    "\n",
    "\n",
    "# do not increase this value!\n",
    "n_jobs = 3\n",
    "    \n",
    "%matplotlib inline"
   ]
  },
  {
   "cell_type": "code",
   "execution_count": 4,
   "id": "3de3d3cb",
   "metadata": {},
   "outputs": [],
   "source": [
    "data_dir ='project_data'"
   ]
  },
  {
   "cell_type": "code",
   "execution_count": 11,
   "id": "d5b6e523",
   "metadata": {},
   "outputs": [
    {
     "data": {
      "text/html": [
       "<div>\n",
       "<style scoped>\n",
       "    .dataframe tbody tr th:only-of-type {\n",
       "        vertical-align: middle;\n",
       "    }\n",
       "\n",
       "    .dataframe tbody tr th {\n",
       "        vertical-align: top;\n",
       "    }\n",
       "\n",
       "    .dataframe thead th {\n",
       "        text-align: right;\n",
       "    }\n",
       "</style>\n",
       "<table border=\"1\" class=\"dataframe\">\n",
       "  <thead>\n",
       "    <tr style=\"text-align: right;\">\n",
       "      <th></th>\n",
       "      <th>Values</th>\n",
       "    </tr>\n",
       "    <tr>\n",
       "      <th>Column</th>\n",
       "      <th></th>\n",
       "    </tr>\n",
       "  </thead>\n",
       "  <tbody>\n",
       "    <tr>\n",
       "      <th>GEN_age_cat</th>\n",
       "      <td>['20s', '30s', '40s', '50s', '60s', '70+', 'No...</td>\n",
       "    </tr>\n",
       "    <tr>\n",
       "      <th>GEN_age_corrected</th>\n",
       "      <td>['11.0', '14.0', '15.0', '16.0', '17.0', '18.0...</td>\n",
       "    </tr>\n",
       "    <tr>\n",
       "      <th>GEN_bmi_cat</th>\n",
       "      <td>['Normal', 'Not provided', 'Obese', 'Overweigh...</td>\n",
       "    </tr>\n",
       "    <tr>\n",
       "      <th>GEN_bmi_corrected</th>\n",
       "      <td>['11.2', '11.57', '14.34', '14.62', '14.79', '...</td>\n",
       "    </tr>\n",
       "    <tr>\n",
       "      <th>GEN_cat</th>\n",
       "      <td>['False', 'True']</td>\n",
       "    </tr>\n",
       "    <tr>\n",
       "      <th>GEN_collection_timestamp</th>\n",
       "      <td>['2014-05-10 12:00:00', '2015-01-01 09:00:00',...</td>\n",
       "    </tr>\n",
       "    <tr>\n",
       "      <th>GEN_country</th>\n",
       "      <td>['Australia', 'Belgium', 'Canada', 'Georgia', ...</td>\n",
       "    </tr>\n",
       "    <tr>\n",
       "      <th>GEN_dog</th>\n",
       "      <td>['False', 'True']</td>\n",
       "    </tr>\n",
       "    <tr>\n",
       "      <th>GEN_elevation</th>\n",
       "      <td>['-0.9', '0.0', '1.4', '10.4', '10.8', '10.9',...</td>\n",
       "    </tr>\n",
       "    <tr>\n",
       "      <th>GEN_geo_loc_name</th>\n",
       "      <td>['Australia:ACT', 'Australia:QLD', 'Australia:...</td>\n",
       "    </tr>\n",
       "    <tr>\n",
       "      <th>GEN_height_cm</th>\n",
       "      <td>['110.0', '111.0', '114.0', '121.0', '122.0', ...</td>\n",
       "    </tr>\n",
       "    <tr>\n",
       "      <th>GEN_host_common_name</th>\n",
       "      <td>['human']</td>\n",
       "    </tr>\n",
       "    <tr>\n",
       "      <th>GEN_last_move</th>\n",
       "      <td>['I have lived in my current state of residenc...</td>\n",
       "    </tr>\n",
       "    <tr>\n",
       "      <th>GEN_last_travel</th>\n",
       "      <td>['1 year', '3 months', '6 months', 'I have not...</td>\n",
       "    </tr>\n",
       "    <tr>\n",
       "      <th>GEN_latitude</th>\n",
       "      <td>['-27.5', '-35.3', '-43.0', '21.3', '25.7', '2...</td>\n",
       "    </tr>\n",
       "    <tr>\n",
       "      <th>GEN_level_of_education</th>\n",
       "      <td>[\"Associate's degree\", \"Bachelor's degree\", 'D...</td>\n",
       "    </tr>\n",
       "    <tr>\n",
       "      <th>GEN_longitude</th>\n",
       "      <td>['-0.1', '-0.2', '-0.3', '-0.4', '-0.5', '-0.6...</td>\n",
       "    </tr>\n",
       "    <tr>\n",
       "      <th>GEN_race</th>\n",
       "      <td>['African American', 'Asian or Pacific Islande...</td>\n",
       "    </tr>\n",
       "    <tr>\n",
       "      <th>GEN_sample_type</th>\n",
       "      <td>['Stool']</td>\n",
       "    </tr>\n",
       "    <tr>\n",
       "      <th>GEN_sex</th>\n",
       "      <td>['Not provided', 'female', 'male', 'other']</td>\n",
       "    </tr>\n",
       "    <tr>\n",
       "      <th>GEN_weight_kg</th>\n",
       "      <td>['10.0', '100.0', '101.0', '102.0', '103.0', '...</td>\n",
       "    </tr>\n",
       "    <tr>\n",
       "      <th>NUT_alcohol_consumption</th>\n",
       "      <td>['False', 'True']</td>\n",
       "    </tr>\n",
       "    <tr>\n",
       "      <th>NUT_alcohol_frequency</th>\n",
       "      <td>['Daily', 'Never', 'Not provided', 'Occasional...</td>\n",
       "    </tr>\n",
       "    <tr>\n",
       "      <th>NUT_alcohol_types_beercider</th>\n",
       "      <td>['False', 'True']</td>\n",
       "    </tr>\n",
       "    <tr>\n",
       "      <th>NUT_alcohol_types_red_wine</th>\n",
       "      <td>['False', 'True']</td>\n",
       "    </tr>\n",
       "    <tr>\n",
       "      <th>NUT_alcohol_types_sour_beers</th>\n",
       "      <td>['False', 'True']</td>\n",
       "    </tr>\n",
       "    <tr>\n",
       "      <th>NUT_alcohol_types_spiritshard_alcohol</th>\n",
       "      <td>['False', 'True']</td>\n",
       "    </tr>\n",
       "    <tr>\n",
       "      <th>NUT_alcohol_types_unspecified</th>\n",
       "      <td>['False', 'True']</td>\n",
       "    </tr>\n",
       "    <tr>\n",
       "      <th>NUT_alcohol_types_white_wine</th>\n",
       "      <td>['False', 'True']</td>\n",
       "    </tr>\n",
       "    <tr>\n",
       "      <th>NUT_artificial_sweeteners</th>\n",
       "      <td>['Daily', 'Never', 'Not provided', 'Occasional...</td>\n",
       "    </tr>\n",
       "    <tr>\n",
       "      <th>NUT_diet_type</th>\n",
       "      <td>['Not provided', 'Omnivore', 'Omnivore but do ...</td>\n",
       "    </tr>\n",
       "    <tr>\n",
       "      <th>NUT_drinks_per_session</th>\n",
       "      <td>['1', '1-2', '2-3', '3-4', '4+', \"I don't drin...</td>\n",
       "    </tr>\n",
       "    <tr>\n",
       "      <th>NUT_fed_as_infant</th>\n",
       "      <td>['A mixture of breast milk and formula', 'Not ...</td>\n",
       "    </tr>\n",
       "    <tr>\n",
       "      <th>NUT_fermented_plant_frequency</th>\n",
       "      <td>['Daily', 'Never', 'Not provided', 'Occasional...</td>\n",
       "    </tr>\n",
       "    <tr>\n",
       "      <th>NUT_frozen_dessert_frequency</th>\n",
       "      <td>['Daily', 'Never', 'Not provided', 'Occasional...</td>\n",
       "    </tr>\n",
       "    <tr>\n",
       "      <th>NUT_fruit_frequency</th>\n",
       "      <td>['Daily', 'Never', 'Not provided', 'Occasional...</td>\n",
       "    </tr>\n",
       "    <tr>\n",
       "      <th>NUT_gluten</th>\n",
       "      <td>['I do not eat gluten because it makes me feel...</td>\n",
       "    </tr>\n",
       "    <tr>\n",
       "      <th>NUT_high_fat_red_meat_frequency</th>\n",
       "      <td>['Daily', 'Never', 'Not provided', 'Occasional...</td>\n",
       "    </tr>\n",
       "    <tr>\n",
       "      <th>NUT_homecooked_meals_frequency</th>\n",
       "      <td>['Daily', 'Never', 'Not provided', 'Occasional...</td>\n",
       "    </tr>\n",
       "    <tr>\n",
       "      <th>NUT_lowgrain_diet_type</th>\n",
       "      <td>['False', 'True']</td>\n",
       "    </tr>\n",
       "    <tr>\n",
       "      <th>NUT_meat_eggs_frequency</th>\n",
       "      <td>['Daily', 'Never', 'Not provided', 'Occasional...</td>\n",
       "    </tr>\n",
       "    <tr>\n",
       "      <th>NUT_milk_cheese_frequency</th>\n",
       "      <td>['Daily', 'Never', 'Not provided', 'Occasional...</td>\n",
       "    </tr>\n",
       "    <tr>\n",
       "      <th>NUT_milk_substitute_frequency</th>\n",
       "      <td>['Daily', 'Never', 'Not provided', 'Occasional...</td>\n",
       "    </tr>\n",
       "    <tr>\n",
       "      <th>NUT_olive_oil</th>\n",
       "      <td>['Daily', 'Never', 'Not provided', 'Occasional...</td>\n",
       "    </tr>\n",
       "    <tr>\n",
       "      <th>NUT_poultry_frequency</th>\n",
       "      <td>['Daily', 'Never', 'Not provided', 'Occasional...</td>\n",
       "    </tr>\n",
       "    <tr>\n",
       "      <th>NUT_prepared_meals_frequency</th>\n",
       "      <td>['Daily', 'Never', 'Not provided', 'Occasional...</td>\n",
       "    </tr>\n",
       "    <tr>\n",
       "      <th>NUT_probiotic_frequency</th>\n",
       "      <td>['Daily', 'Never', 'Not provided', 'Occasional...</td>\n",
       "    </tr>\n",
       "    <tr>\n",
       "      <th>NUT_red_meat_frequency</th>\n",
       "      <td>['Daily', 'Never', 'Not provided', 'Occasional...</td>\n",
       "    </tr>\n",
       "    <tr>\n",
       "      <th>NUT_salted_snacks_frequency</th>\n",
       "      <td>['Daily', 'Never', 'Not provided', 'Occasional...</td>\n",
       "    </tr>\n",
       "    <tr>\n",
       "      <th>NUT_seafood_frequency</th>\n",
       "      <td>['Daily', 'Never', 'Not provided', 'Occasional...</td>\n",
       "    </tr>\n",
       "    <tr>\n",
       "      <th>NUT_sugary_sweets_frequency</th>\n",
       "      <td>['Daily', 'Never', 'Not provided', 'Occasional...</td>\n",
       "    </tr>\n",
       "    <tr>\n",
       "      <th>NUT_vegetable_frequency</th>\n",
       "      <td>['Daily', 'Never', 'Not provided', 'Occasional...</td>\n",
       "    </tr>\n",
       "    <tr>\n",
       "      <th>NUT_vitamin_b_supplement_frequency</th>\n",
       "      <td>['Daily', 'Never', 'Not provided', 'Occasional...</td>\n",
       "    </tr>\n",
       "    <tr>\n",
       "      <th>NUT_vitamin_d_supplement_frequency</th>\n",
       "      <td>['Daily', 'Never', 'Not provided', 'Occasional...</td>\n",
       "    </tr>\n",
       "    <tr>\n",
       "      <th>NUT_whole_eggs</th>\n",
       "      <td>['Daily', 'Never', 'Not provided', 'Occasional...</td>\n",
       "    </tr>\n",
       "    <tr>\n",
       "      <th>NUT_whole_grain_frequency</th>\n",
       "      <td>['Daily', 'Never', 'Not provided', 'Occasional...</td>\n",
       "    </tr>\n",
       "  </tbody>\n",
       "</table>\n",
       "</div>"
      ],
      "text/plain": [
       "                                                                                  Values\n",
       "Column                                                                                  \n",
       "GEN_age_cat                            ['20s', '30s', '40s', '50s', '60s', '70+', 'No...\n",
       "GEN_age_corrected                      ['11.0', '14.0', '15.0', '16.0', '17.0', '18.0...\n",
       "GEN_bmi_cat                            ['Normal', 'Not provided', 'Obese', 'Overweigh...\n",
       "GEN_bmi_corrected                      ['11.2', '11.57', '14.34', '14.62', '14.79', '...\n",
       "GEN_cat                                                                ['False', 'True']\n",
       "GEN_collection_timestamp               ['2014-05-10 12:00:00', '2015-01-01 09:00:00',...\n",
       "GEN_country                            ['Australia', 'Belgium', 'Canada', 'Georgia', ...\n",
       "GEN_dog                                                                ['False', 'True']\n",
       "GEN_elevation                          ['-0.9', '0.0', '1.4', '10.4', '10.8', '10.9',...\n",
       "GEN_geo_loc_name                       ['Australia:ACT', 'Australia:QLD', 'Australia:...\n",
       "GEN_height_cm                          ['110.0', '111.0', '114.0', '121.0', '122.0', ...\n",
       "GEN_host_common_name                                                           ['human']\n",
       "GEN_last_move                          ['I have lived in my current state of residenc...\n",
       "GEN_last_travel                        ['1 year', '3 months', '6 months', 'I have not...\n",
       "GEN_latitude                           ['-27.5', '-35.3', '-43.0', '21.3', '25.7', '2...\n",
       "GEN_level_of_education                 [\"Associate's degree\", \"Bachelor's degree\", 'D...\n",
       "GEN_longitude                          ['-0.1', '-0.2', '-0.3', '-0.4', '-0.5', '-0.6...\n",
       "GEN_race                               ['African American', 'Asian or Pacific Islande...\n",
       "GEN_sample_type                                                                ['Stool']\n",
       "GEN_sex                                      ['Not provided', 'female', 'male', 'other']\n",
       "GEN_weight_kg                          ['10.0', '100.0', '101.0', '102.0', '103.0', '...\n",
       "NUT_alcohol_consumption                                                ['False', 'True']\n",
       "NUT_alcohol_frequency                  ['Daily', 'Never', 'Not provided', 'Occasional...\n",
       "NUT_alcohol_types_beercider                                            ['False', 'True']\n",
       "NUT_alcohol_types_red_wine                                             ['False', 'True']\n",
       "NUT_alcohol_types_sour_beers                                           ['False', 'True']\n",
       "NUT_alcohol_types_spiritshard_alcohol                                  ['False', 'True']\n",
       "NUT_alcohol_types_unspecified                                          ['False', 'True']\n",
       "NUT_alcohol_types_white_wine                                           ['False', 'True']\n",
       "NUT_artificial_sweeteners              ['Daily', 'Never', 'Not provided', 'Occasional...\n",
       "NUT_diet_type                          ['Not provided', 'Omnivore', 'Omnivore but do ...\n",
       "NUT_drinks_per_session                 ['1', '1-2', '2-3', '3-4', '4+', \"I don't drin...\n",
       "NUT_fed_as_infant                      ['A mixture of breast milk and formula', 'Not ...\n",
       "NUT_fermented_plant_frequency          ['Daily', 'Never', 'Not provided', 'Occasional...\n",
       "NUT_frozen_dessert_frequency           ['Daily', 'Never', 'Not provided', 'Occasional...\n",
       "NUT_fruit_frequency                    ['Daily', 'Never', 'Not provided', 'Occasional...\n",
       "NUT_gluten                             ['I do not eat gluten because it makes me feel...\n",
       "NUT_high_fat_red_meat_frequency        ['Daily', 'Never', 'Not provided', 'Occasional...\n",
       "NUT_homecooked_meals_frequency         ['Daily', 'Never', 'Not provided', 'Occasional...\n",
       "NUT_lowgrain_diet_type                                                 ['False', 'True']\n",
       "NUT_meat_eggs_frequency                ['Daily', 'Never', 'Not provided', 'Occasional...\n",
       "NUT_milk_cheese_frequency              ['Daily', 'Never', 'Not provided', 'Occasional...\n",
       "NUT_milk_substitute_frequency          ['Daily', 'Never', 'Not provided', 'Occasional...\n",
       "NUT_olive_oil                          ['Daily', 'Never', 'Not provided', 'Occasional...\n",
       "NUT_poultry_frequency                  ['Daily', 'Never', 'Not provided', 'Occasional...\n",
       "NUT_prepared_meals_frequency           ['Daily', 'Never', 'Not provided', 'Occasional...\n",
       "NUT_probiotic_frequency                ['Daily', 'Never', 'Not provided', 'Occasional...\n",
       "NUT_red_meat_frequency                 ['Daily', 'Never', 'Not provided', 'Occasional...\n",
       "NUT_salted_snacks_frequency            ['Daily', 'Never', 'Not provided', 'Occasional...\n",
       "NUT_seafood_frequency                  ['Daily', 'Never', 'Not provided', 'Occasional...\n",
       "NUT_sugary_sweets_frequency            ['Daily', 'Never', 'Not provided', 'Occasional...\n",
       "NUT_vegetable_frequency                ['Daily', 'Never', 'Not provided', 'Occasional...\n",
       "NUT_vitamin_b_supplement_frequency     ['Daily', 'Never', 'Not provided', 'Occasional...\n",
       "NUT_vitamin_d_supplement_frequency     ['Daily', 'Never', 'Not provided', 'Occasional...\n",
       "NUT_whole_eggs                         ['Daily', 'Never', 'Not provided', 'Occasional...\n",
       "NUT_whole_grain_frequency              ['Daily', 'Never', 'Not provided', 'Occasional..."
      ]
     },
     "execution_count": 11,
     "metadata": {},
     "output_type": "execute_result"
    }
   ],
   "source": [
    "md = q2.Metadata.load(data_dir + '/sample_meta_data.tsv').to_dataframe()\n",
    "pd.DataFrame([str(sorted(md[col].astype(str).unique())) for col in md.columns],\n",
    "             index=pd.Index(md.columns, name='Column'), columns=['Values'])"
   ]
  },
  {
   "cell_type": "markdown",
   "id": "c86eb265",
   "metadata": {},
   "source": [
    "<a id='function'></a>\n",
    "## 1.a Functional redundancy calculation"
   ]
  },
  {
   "cell_type": "markdown",
   "id": "054f87e2",
   "metadata": {},
   "source": [
    "Next we will look at predicted gene pathway information to compare taxonomic vs. functional diversity patterns. \n",
    "We will use the `core-metrics` pipeline on the `pathway_abundance.qza` table, which consists of PICRUST2-predicted gene pathway counts. "
   ]
  },
  {
   "cell_type": "code",
   "execution_count": 5,
   "id": "2de6d20e-8229-4c9e-9f36-79dd746389e0",
   "metadata": {},
   "outputs": [
    {
     "name": "stdout",
     "output_type": "stream",
     "text": [
      "\u001b[32mSaved FeatureTable[Frequency] to: project_data/core-metrics-picrust2/rarefied_table.qza\u001b[0m\n",
      "\u001b[32mSaved SampleData[AlphaDiversity] to: project_data/core-metrics-picrust2/observed_features_vector.qza\u001b[0m\n",
      "\u001b[32mSaved SampleData[AlphaDiversity] to: project_data/core-metrics-picrust2/shannon_vector.qza\u001b[0m\n",
      "\u001b[32mSaved SampleData[AlphaDiversity] to: project_data/core-metrics-picrust2/evenness_vector.qza\u001b[0m\n",
      "\u001b[32mSaved DistanceMatrix to: project_data/core-metrics-picrust2/jaccard_distance_matrix.qza\u001b[0m\n",
      "\u001b[32mSaved DistanceMatrix to: project_data/core-metrics-picrust2/bray_curtis_distance_matrix.qza\u001b[0m\n",
      "\u001b[32mSaved PCoAResults to: project_data/core-metrics-picrust2/jaccard_pcoa_results.qza\u001b[0m\n",
      "\u001b[32mSaved PCoAResults to: project_data/core-metrics-picrust2/bray_curtis_pcoa_results.qza\u001b[0m\n",
      "\u001b[32mSaved Visualization to: project_data/core-metrics-picrust2/jaccard_emperor.qzv\u001b[0m\n",
      "\u001b[32mSaved Visualization to: project_data/core-metrics-picrust2/bray_curtis_emperor.qzv\u001b[0m\n",
      "\u001b[0m"
     ]
    }
   ],
   "source": [
    "! qiime diversity core-metrics \\\n",
    "  --i-table $data_dir/pathway_abundance.qza \\\n",
    "  --m-metadata-file $data_dir/sample_meta_data.tsv \\\n",
    "  --p-sampling-depth 100000 \\\n",
    "  --p-n-jobs $n_jobs \\\n",
    "  --output-dir $data_dir/core-metrics-picrust2  "
   ]
  },
  {
   "cell_type": "markdown",
   "id": "7b443810-54c5-4c9a-8a45-dca18c6f41ca",
   "metadata": {},
   "source": [
    "## Hypothesis 1 : Drinks"
   ]
  },
  {
   "cell_type": "code",
   "execution_count": 5,
   "id": "a8a619a6-f87e-47fb-898f-e7c074b43fdb",
   "metadata": {},
   "outputs": [
    {
     "name": "stdout",
     "output_type": "stream",
     "text": [
      "\u001b[32mSaved Visualization to: project_data/core-metrics-picrust2/adonis-bc-h1.qzv\u001b[0m\n",
      "\u001b[0m"
     ]
    }
   ],
   "source": [
    "! qiime diversity adonis \\\n",
    "  --i-distance-matrix $data_dir/core-metrics-picrust2/bray_curtis_distance_matrix.qza \\\n",
    "  --m-metadata-file $data_dir/sample_meta_data.tsv \\\n",
    "  --p-formula \"NUT_alcohol_frequency*NUT_drinks_per_session\" \\\n",
    "--o-visualization $data_dir/core-metrics-picrust2/adonis-bc-h1.qzv"
   ]
  },
  {
   "cell_type": "code",
   "execution_count": 6,
   "id": "48e434ec-2a73-4f7a-9231-e844ff589b04",
   "metadata": {},
   "outputs": [
    {
     "data": {
      "text/html": [
       "<div><img onload=\"(function(div, url){\n",
       "if (typeof require !== 'undefined') {\n",
       "    var baseURL = require.toUrl('').split('/').slice(0, -2).join('/');\n",
       "} else {\n",
       "    var baseURL = JSON.parse(\n",
       "        document.getElementById('jupyter-config-data').innerHTML\n",
       "    ).baseUrl.slice(0, -1);\n",
       "}\n",
       "url = baseURL + url;\n",
       "fetch(url).then(function(res) {\n",
       "    if (res.status === 404) {\n",
       "        div.innerHTML = 'Install QIIME 2 Jupyter extension with:<br />' +\n",
       "                        '<code>jupyter serverextension enable --py qiime2' +\n",
       "                        ' --sys-prefix</code><br />then restart your server.' +\n",
       "                        '<br /><br />(Interactive output not available on ' +\n",
       "                        'static notebook viewer services like nbviewer.)';\n",
       "    } else if (res.status === 409) {\n",
       "        div.innerHTML = 'Visualization no longer in scope. Re-run this cell' +\n",
       "                        ' to see the visualization.';\n",
       "    } else if (res.ok) {\n",
       "        url = res.url;\n",
       "        div.innerHTML = '<iframe src=\\'' + url + '\\' style=\\'' +\n",
       "                        'width: 100%; height: 700px; border: 0;\\'>' +\n",
       "                        '</iframe><hr />Open in a: <a href=\\'' + url + '\\'' +\n",
       "                        ' target=\\'_blank\\'>new window</a>'\n",
       "    } else {\n",
       "        div.innerHTML = 'Something has gone wrong. Check notebook server for' +\n",
       "                        ' errors.';\n",
       "    }\n",
       "});\n",
       "})(this.parentElement, '/qiime2/redirect?location=/tmp/qiime2-archive-esc84u9i')\" src=\"data:image/gif;base64,R0lGODlhAQABAIAAAP///wAAACH5BAEAAAAALAAAAAABAAEAAAICRAEAOw==\" /></div>"
      ],
      "text/plain": [
       "<visualization: Visualization uuid: c1ed3309-a9a3-42aa-b7bd-4fea8827bfd1>"
      ]
     },
     "execution_count": 6,
     "metadata": {},
     "output_type": "execute_result"
    }
   ],
   "source": [
    "Visualization.load(f'{data_dir}/core-metrics-picrust2/adonis-bc-h1.qzv')"
   ]
  },
  {
   "cell_type": "markdown",
   "id": "d7dac685-0eaf-48be-9ddc-9696b6d05706",
   "metadata": {},
   "source": [
    "## Hypothesis 2 : Milk products"
   ]
  },
  {
   "cell_type": "code",
   "execution_count": 7,
   "id": "a77cdeb1-50da-49fc-82ae-f4001aa30e84",
   "metadata": {},
   "outputs": [
    {
     "name": "stdout",
     "output_type": "stream",
     "text": [
      "\u001b[32mSaved Visualization to: project_data/core-metrics-picrust2/adonis-bc-h2.qzv\u001b[0m\n",
      "\u001b[0m"
     ]
    }
   ],
   "source": [
    "! qiime diversity adonis \\\n",
    "  --i-distance-matrix $data_dir/core-metrics-picrust2/bray_curtis_distance_matrix.qza \\\n",
    "  --m-metadata-file $data_dir/sample_meta_data.tsv \\\n",
    "  --p-formula \"NUT_milk_cheese_frequency*NUT_milk_substitute_frequency*NUT_vitamin_d_supplement_frequency\" \\\n",
    "--o-visualization $data_dir/core-metrics-picrust2/adonis-bc-h2.qzv"
   ]
  },
  {
   "cell_type": "code",
   "execution_count": 8,
   "id": "814fd73c",
   "metadata": {},
   "outputs": [
    {
     "data": {
      "text/html": [
       "<div><img onload=\"(function(div, url){\n",
       "if (typeof require !== 'undefined') {\n",
       "    var baseURL = require.toUrl('').split('/').slice(0, -2).join('/');\n",
       "} else {\n",
       "    var baseURL = JSON.parse(\n",
       "        document.getElementById('jupyter-config-data').innerHTML\n",
       "    ).baseUrl.slice(0, -1);\n",
       "}\n",
       "url = baseURL + url;\n",
       "fetch(url).then(function(res) {\n",
       "    if (res.status === 404) {\n",
       "        div.innerHTML = 'Install QIIME 2 Jupyter extension with:<br />' +\n",
       "                        '<code>jupyter serverextension enable --py qiime2' +\n",
       "                        ' --sys-prefix</code><br />then restart your server.' +\n",
       "                        '<br /><br />(Interactive output not available on ' +\n",
       "                        'static notebook viewer services like nbviewer.)';\n",
       "    } else if (res.status === 409) {\n",
       "        div.innerHTML = 'Visualization no longer in scope. Re-run this cell' +\n",
       "                        ' to see the visualization.';\n",
       "    } else if (res.ok) {\n",
       "        url = res.url;\n",
       "        div.innerHTML = '<iframe src=\\'' + url + '\\' style=\\'' +\n",
       "                        'width: 100%; height: 700px; border: 0;\\'>' +\n",
       "                        '</iframe><hr />Open in a: <a href=\\'' + url + '\\'' +\n",
       "                        ' target=\\'_blank\\'>new window</a>'\n",
       "    } else {\n",
       "        div.innerHTML = 'Something has gone wrong. Check notebook server for' +\n",
       "                        ' errors.';\n",
       "    }\n",
       "});\n",
       "})(this.parentElement, '/qiime2/redirect?location=/tmp/qiime2-archive-tpucbtc0')\" src=\"data:image/gif;base64,R0lGODlhAQABAIAAAP///wAAACH5BAEAAAAALAAAAAABAAEAAAICRAEAOw==\" /></div>"
      ],
      "text/plain": [
       "<visualization: Visualization uuid: c08c71aa-2647-43ad-87d8-316acc42f62f>"
      ]
     },
     "execution_count": 8,
     "metadata": {},
     "output_type": "execute_result"
    }
   ],
   "source": [
    "Visualization.load(f'{data_dir}/core-metrics-picrust2/adonis-bc-h2.qzv')"
   ]
  },
  {
   "cell_type": "markdown",
   "id": "4b07ebe4-bdfb-4b0d-a217-c6ab5987af5b",
   "metadata": {},
   "source": [
    "## Hypothesis 3 : Mediterranean"
   ]
  },
  {
   "cell_type": "code",
   "execution_count": 9,
   "id": "4da6692d-ec15-4ce4-8af3-67551117e0e0",
   "metadata": {},
   "outputs": [
    {
     "name": "stdout",
     "output_type": "stream",
     "text": [
      "\u001b[32mSaved Visualization to: project_data/core-metrics-picrust2/adonis-bc-h3.qzv\u001b[0m\n",
      "\u001b[0m"
     ]
    }
   ],
   "source": [
    "! qiime diversity adonis \\\n",
    "  --i-distance-matrix $data_dir/core-metrics-picrust2/bray_curtis_distance_matrix.qza \\\n",
    "  --m-metadata-file $data_dir/sample_meta_data.tsv \\\n",
    "  --p-formula \"NUT_olive_oil*NUT_seafood_frequency*NUT_vegetable_frequency*NUT_fruit_frequency*NUT_whole_grain_frequency\" \\\n",
    "--o-visualization $data_dir/core-metrics-picrust2/adonis-bc-h3.qzv"
   ]
  },
  {
   "cell_type": "code",
   "execution_count": 10,
   "id": "0d19df19-313d-40be-9b75-d889ea079283",
   "metadata": {},
   "outputs": [
    {
     "data": {
      "text/html": [
       "<div><img onload=\"(function(div, url){\n",
       "if (typeof require !== 'undefined') {\n",
       "    var baseURL = require.toUrl('').split('/').slice(0, -2).join('/');\n",
       "} else {\n",
       "    var baseURL = JSON.parse(\n",
       "        document.getElementById('jupyter-config-data').innerHTML\n",
       "    ).baseUrl.slice(0, -1);\n",
       "}\n",
       "url = baseURL + url;\n",
       "fetch(url).then(function(res) {\n",
       "    if (res.status === 404) {\n",
       "        div.innerHTML = 'Install QIIME 2 Jupyter extension with:<br />' +\n",
       "                        '<code>jupyter serverextension enable --py qiime2' +\n",
       "                        ' --sys-prefix</code><br />then restart your server.' +\n",
       "                        '<br /><br />(Interactive output not available on ' +\n",
       "                        'static notebook viewer services like nbviewer.)';\n",
       "    } else if (res.status === 409) {\n",
       "        div.innerHTML = 'Visualization no longer in scope. Re-run this cell' +\n",
       "                        ' to see the visualization.';\n",
       "    } else if (res.ok) {\n",
       "        url = res.url;\n",
       "        div.innerHTML = '<iframe src=\\'' + url + '\\' style=\\'' +\n",
       "                        'width: 100%; height: 700px; border: 0;\\'>' +\n",
       "                        '</iframe><hr />Open in a: <a href=\\'' + url + '\\'' +\n",
       "                        ' target=\\'_blank\\'>new window</a>'\n",
       "    } else {\n",
       "        div.innerHTML = 'Something has gone wrong. Check notebook server for' +\n",
       "                        ' errors.';\n",
       "    }\n",
       "});\n",
       "})(this.parentElement, '/qiime2/redirect?location=/tmp/qiime2-archive-thikk7cb')\" src=\"data:image/gif;base64,R0lGODlhAQABAIAAAP///wAAACH5BAEAAAAALAAAAAABAAEAAAICRAEAOw==\" /></div>"
      ],
      "text/plain": [
       "<visualization: Visualization uuid: 744446ff-8f61-4d5f-8775-ef42c5e756ca>"
      ]
     },
     "execution_count": 10,
     "metadata": {},
     "output_type": "execute_result"
    }
   ],
   "source": [
    "Visualization.load(f'{data_dir}/core-metrics-picrust2/adonis-bc-h3.qzv')"
   ]
  },
  {
   "cell_type": "markdown",
   "id": "dab7f2f5-47f2-403e-9ee4-b586cbac8524",
   "metadata": {},
   "source": [
    "## Hypothesis 4 : Poultry & Meat"
   ]
  },
  {
   "cell_type": "code",
   "execution_count": 11,
   "id": "ef0cf6e2-e791-4caa-ad68-2bf883d320ff",
   "metadata": {},
   "outputs": [
    {
     "name": "stdout",
     "output_type": "stream",
     "text": [
      "\u001b[31m\u001b[1mPlugin error from diversity:\n",
      "\n",
      "  'NUT_poultry_frequencyNUT_high_fat_red_meat_frequency' is not a column in the metadata. Available columns: 'GEN_age_cat', 'GEN_age_corrected', 'GEN_bmi_cat', 'GEN_bmi_corrected', 'GEN_cat', 'GEN_collection_timestamp', 'GEN_country', 'GEN_dog', 'GEN_elevation', 'GEN_geo_loc_name', 'GEN_height_cm', 'GEN_host_common_name', 'GEN_last_move', 'GEN_last_travel', 'GEN_latitude', 'GEN_level_of_education', 'GEN_longitude', 'GEN_race', 'GEN_sample_type', 'GEN_sex', 'GEN_weight_kg', 'NUT_alcohol_consumption', 'NUT_alcohol_frequency', 'NUT_alcohol_types_beercider', 'NUT_alcohol_types_red_wine', 'NUT_alcohol_types_sour_beers', 'NUT_alcohol_types_spiritshard_alcohol', 'NUT_alcohol_types_unspecified', 'NUT_alcohol_types_white_wine', 'NUT_artificial_sweeteners', 'NUT_diet_type', 'NUT_drinks_per_session', 'NUT_fed_as_infant', 'NUT_fermented_plant_frequency', 'NUT_frozen_dessert_frequency', 'NUT_fruit_frequency', 'NUT_gluten', 'NUT_high_fat_red_meat_frequency', 'NUT_homecooked_meals_frequency', 'NUT_lowgrain_diet_type', 'NUT_meat_eggs_frequency', 'NUT_milk_cheese_frequency', 'NUT_milk_substitute_frequency', 'NUT_olive_oil', 'NUT_poultry_frequency', 'NUT_prepared_meals_frequency', 'NUT_probiotic_frequency', 'NUT_red_meat_frequency', 'NUT_salted_snacks_frequency', 'NUT_seafood_frequency', 'NUT_sugary_sweets_frequency', 'NUT_vegetable_frequency', 'NUT_vitamin_b_supplement_frequency', 'NUT_vitamin_d_supplement_frequency', 'NUT_whole_eggs', 'NUT_whole_grain_frequency'\n",
      "\n",
      "Debug info has been saved to /tmp/qiime2-q2cli-err-nzguh7r3.log\u001b[0m\n",
      "\u001b[0m"
     ]
    }
   ],
   "source": [
    "! qiime diversity adonis \\\n",
    "  --i-distance-matrix $data_dir/core-metrics-picrust2/bray_curtis_distance_matrix.qza \\\n",
    "  --m-metadata-file $data_dir/sample_meta_data.tsv \\\n",
    "  --p-formula \"NUT_whole_eggs*NUT_poultry_frequencyNUT_high_fat_red_meat_frequency*NUT_meat_eggs_frequency*NUT_red_meat_frequency*NUT_vitamin_b_supplement_frequency\" \\\n",
    "--o-visualization $data_dir/core-metrics-picrust2/adonis-bc-h4.qzv"
   ]
  },
  {
   "cell_type": "code",
   "execution_count": 12,
   "id": "a88ce591-35e2-4e66-9126-26682334d898",
   "metadata": {},
   "outputs": [
    {
     "data": {
      "text/html": [
       "<div><img onload=\"(function(div, url){\n",
       "if (typeof require !== 'undefined') {\n",
       "    var baseURL = require.toUrl('').split('/').slice(0, -2).join('/');\n",
       "} else {\n",
       "    var baseURL = JSON.parse(\n",
       "        document.getElementById('jupyter-config-data').innerHTML\n",
       "    ).baseUrl.slice(0, -1);\n",
       "}\n",
       "url = baseURL + url;\n",
       "fetch(url).then(function(res) {\n",
       "    if (res.status === 404) {\n",
       "        div.innerHTML = 'Install QIIME 2 Jupyter extension with:<br />' +\n",
       "                        '<code>jupyter serverextension enable --py qiime2' +\n",
       "                        ' --sys-prefix</code><br />then restart your server.' +\n",
       "                        '<br /><br />(Interactive output not available on ' +\n",
       "                        'static notebook viewer services like nbviewer.)';\n",
       "    } else if (res.status === 409) {\n",
       "        div.innerHTML = 'Visualization no longer in scope. Re-run this cell' +\n",
       "                        ' to see the visualization.';\n",
       "    } else if (res.ok) {\n",
       "        url = res.url;\n",
       "        div.innerHTML = '<iframe src=\\'' + url + '\\' style=\\'' +\n",
       "                        'width: 100%; height: 700px; border: 0;\\'>' +\n",
       "                        '</iframe><hr />Open in a: <a href=\\'' + url + '\\'' +\n",
       "                        ' target=\\'_blank\\'>new window</a>'\n",
       "    } else {\n",
       "        div.innerHTML = 'Something has gone wrong. Check notebook server for' +\n",
       "                        ' errors.';\n",
       "    }\n",
       "});\n",
       "})(this.parentElement, '/qiime2/redirect?location=/tmp/qiime2-archive-lj0416vk')\" src=\"data:image/gif;base64,R0lGODlhAQABAIAAAP///wAAACH5BAEAAAAALAAAAAABAAEAAAICRAEAOw==\" /></div>"
      ],
      "text/plain": [
       "<visualization: Visualization uuid: d11b9012-6396-4187-adcd-c9f0e15c7b2e>"
      ]
     },
     "execution_count": 12,
     "metadata": {},
     "output_type": "execute_result"
    }
   ],
   "source": [
    "Visualization.load(f'{data_dir}/core-metrics-picrust2/adonis-bc-h4.qzv')"
   ]
  }
 ],
 "metadata": {
  "kernelspec": {
   "display_name": "Python 3 (ipykernel)",
   "language": "python",
   "name": "python3"
  },
  "language_info": {
   "codemirror_mode": {
    "name": "ipython",
    "version": 3
   },
   "file_extension": ".py",
   "mimetype": "text/x-python",
   "name": "python",
   "nbconvert_exporter": "python",
   "pygments_lexer": "ipython3",
   "version": "3.8.13"
  }
 },
 "nbformat": 4,
 "nbformat_minor": 5
}
