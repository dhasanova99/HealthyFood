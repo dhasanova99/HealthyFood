{
 "cells": [
  {
   "cell_type": "markdown",
   "id": "a1ae87a9-eee0-4e80-83e6-4b51bec64e28",
   "metadata": {},
   "source": [
    "# First Look at the Data"
   ]
  },
  {
   "cell_type": "markdown",
   "id": "e9fbf438-0cea-462f-9ef8-36517565b4e0",
   "metadata": {},
   "source": [
    "### 1. Set up"
   ]
  },
  {
   "cell_type": "markdown",
   "id": "7b814f8c-e35e-413a-9bc0-7e6eca54b58a",
   "metadata": {},
   "source": [
    "The cell below will import all the packages required in the downstream analyses as well as set all the necessary variables and data paths."
   ]
  },
  {
   "cell_type": "code",
   "execution_count": 7,
   "id": "98ad2d26-cce9-45fe-b2fc-876164027345",
   "metadata": {},
   "outputs": [],
   "source": [
    "import os\n",
    "import pandas as pd\n",
    "from qiime2 import Visualization\n",
    "import matplotlib.pyplot as plt\n",
    "import numpy as np\n",
    "\n",
    "import qiime2 as q2\n",
    "\n",
    "%matplotlib inline\n",
    "\n",
    "# location of this week's data and all the results produced by this notebook \n",
    "# - this should be a path relative to your working directory\n",
    "data_dir = 'project_data'\n",
    "\n",
    "if not os.path.isdir(data_dir):\n",
    "    os.makedirs(data_dir)"
   ]
  },
  {
   "cell_type": "markdown",
   "id": "73e90c34-6969-4f76-9c22-fd79e8e875b0",
   "metadata": {},
   "source": [
    "To get the dataset required for the poject run the cell below:\n",
    "\n",
    "Sequence:"
   ]
  },
  {
   "cell_type": "code",
   "execution_count": 8,
   "id": "7c3d7813-0380-430d-9733-9290688f3b5e",
   "metadata": {},
   "outputs": [
    {
     "name": "stdout",
     "output_type": "stream",
     "text": [
      "2022-10-06 16:48:01 URL:https://polybox.ethz.ch/index.php/s/AsLORlvUbwgBWTq/download [1506379068/1506379068] -> \"project_data/sequence_data.qza\" [1]\n"
     ]
    }
   ],
   "source": [
    "! wget -nv -O $data_dir/sequence_data.qza 'https://polybox.ethz.ch/index.php/s/AsLORlvUbwgBWTq/download'"
   ]
  },
  {
   "cell_type": "code",
   "execution_count": null,
   "id": "8ff45098-bc1a-4930-9c3b-c159241d3b02",
   "metadata": {},
   "outputs": [],
   "source": []
  },
  {
   "cell_type": "markdown",
   "id": "a7f8e7b8-ce8e-436b-8b31-312938652845",
   "metadata": {},
   "source": [
    "Sample metadata:"
   ]
  },
  {
   "cell_type": "code",
   "execution_count": 9,
   "id": "6f74f19c-2906-4506-b03e-ec487acb7d8e",
   "metadata": {},
   "outputs": [
    {
     "name": "stdout",
     "output_type": "stream",
     "text": [
      "2022-10-06 16:48:04 URL:https://polybox.ethz.ch/index.php/s/QqbHeUIpIR0okB8/download [300302/300302] -> \"project_data/sample_meta_data.tsv\" [1]\n"
     ]
    }
   ],
   "source": [
    "! wget -nv -O $data_dir/sample_meta_data.tsv 'https://polybox.ethz.ch/index.php/s/QqbHeUIpIR0okB8/download'"
   ]
  },
  {
   "cell_type": "code",
   "execution_count": null,
   "id": "45ed3d44-cdc8-461d-bd85-ca5182085993",
   "metadata": {},
   "outputs": [],
   "source": []
  }
 ],
 "metadata": {
  "kernelspec": {
   "display_name": "Python 3 (ipykernel)",
   "language": "python",
   "name": "python3"
  },
  "language_info": {
   "codemirror_mode": {
    "name": "ipython",
    "version": 3
   },
   "file_extension": ".py",
   "mimetype": "text/x-python",
   "name": "python",
   "nbconvert_exporter": "python",
   "pygments_lexer": "ipython3",
   "version": "3.8.13"
  }
 },
 "nbformat": 4,
 "nbformat_minor": 5
}
