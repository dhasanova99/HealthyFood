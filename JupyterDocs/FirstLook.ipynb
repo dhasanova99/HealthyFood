{
 "cells": [
  {
   "cell_type": "markdown",
   "id": "a1ae87a9-eee0-4e80-83e6-4b51bec64e28",
   "metadata": {},
   "source": [
    "# First Look at the Data"
   ]
  },
  {
   "cell_type": "markdown",
   "id": "e9fbf438-0cea-462f-9ef8-36517565b4e0",
   "metadata": {},
   "source": [
    "### 1. Set up"
   ]
  },
  {
   "cell_type": "markdown",
   "id": "7b814f8c-e35e-413a-9bc0-7e6eca54b58a",
   "metadata": {},
   "source": [
    "The cell below will import all the packages required in the downstream analyses as well as set all the necessary variables and data paths."
   ]
  },
  {
   "cell_type": "code",
   "execution_count": 2,
   "id": "98ad2d26-cce9-45fe-b2fc-876164027345",
   "metadata": {},
   "outputs": [],
   "source": [
    "import os\n",
    "import pandas as pd\n",
    "from qiime2 import Visualization\n",
    "import matplotlib.pyplot as plt\n",
    "import numpy as np\n",
    "\n",
    "import qiime2 as q2\n",
    "\n",
    "%matplotlib inline\n",
    "\n",
    "# location of this week's data and all the results produced by this notebook \n",
    "# - this should be a path relative to your working directory\n",
    "data_dir = 'project_data'\n",
    "\n",
    "if not os.path.isdir(data_dir):\n",
    "    os.makedirs(data_dir)"
   ]
  },
  {
   "cell_type": "markdown",
   "id": "73e90c34-6969-4f76-9c22-fd79e8e875b0",
   "metadata": {},
   "source": [
    "To get the dataset required for the poject run the cell below:\n",
    "\n",
    "Sequence:"
   ]
  },
  {
   "cell_type": "markdown",
   "id": "bfd90299-7a5f-4c54-b939-6c4434682e72",
   "metadata": {},
   "source": [
    "Do not run this code it will bring you in trouble!"
   ]
  },
  {
   "cell_type": "code",
   "execution_count": 8,
   "id": "7c3d7813-0380-430d-9733-9290688f3b5e",
   "metadata": {},
   "outputs": [
    {
     "name": "stdout",
     "output_type": "stream",
     "text": [
      "2022-10-06 16:48:01 URL:https://polybox.ethz.ch/index.php/s/AsLORlvUbwgBWTq/download [1506379068/1506379068] -> \"project_data/sequence_data.qza\" [1]\n"
     ]
    }
   ],
   "source": [
    "#! wget -nv -O $data_dir/sequence_data.qza 'https://polybox.ethz.ch/index.php/s/AsLORlvUbwgBWTq/download'"
   ]
  },
  {
   "cell_type": "code",
   "execution_count": null,
   "id": "8ff45098-bc1a-4930-9c3b-c159241d3b02",
   "metadata": {},
   "outputs": [],
   "source": []
  },
  {
   "cell_type": "markdown",
   "id": "a7f8e7b8-ce8e-436b-8b31-312938652845",
   "metadata": {},
   "source": [
    "Sample metadata:"
   ]
  },
  {
   "cell_type": "code",
   "execution_count": 15,
   "id": "6f74f19c-2906-4506-b03e-ec487acb7d8e",
   "metadata": {},
   "outputs": [
    {
     "name": "stdout",
     "output_type": "stream",
     "text": [
      "2022-10-06 17:00:27 URL:https://polybox.ethz.ch/index.php/s/QqbHeUIpIR0okB8/download [300302/300302] -> \"project_data/sample_meta_data.tsv\" [1]\n"
     ]
    }
   ],
   "source": [
    "! wget -nv -O $data_dir/sample_meta_data.tsv 'https://polybox.ethz.ch/index.php/s/QqbHeUIpIR0okB8/download'"
   ]
  },
  {
   "cell_type": "code",
   "execution_count": 3,
   "id": "45ed3d44-cdc8-461d-bd85-ca5182085993",
   "metadata": {},
   "outputs": [
    {
     "data": {
      "text/plain": [
       "(523, 57)"
      ]
     },
     "execution_count": 3,
     "metadata": {},
     "output_type": "execute_result"
    }
   ],
   "source": [
    "df_meta = pd.read_csv(f'{data_dir}/sample_meta_data.tsv', sep='\\t')\n",
    "df_meta.shape"
   ]
  },
  {
   "cell_type": "code",
   "execution_count": 4,
   "id": "35151536-b9aa-4357-83db-c7bace75d85a",
   "metadata": {},
   "outputs": [
    {
     "data": {
      "text/html": [
       "<div>\n",
       "<style scoped>\n",
       "    .dataframe tbody tr th:only-of-type {\n",
       "        vertical-align: middle;\n",
       "    }\n",
       "\n",
       "    .dataframe tbody tr th {\n",
       "        vertical-align: top;\n",
       "    }\n",
       "\n",
       "    .dataframe thead th {\n",
       "        text-align: right;\n",
       "    }\n",
       "</style>\n",
       "<table border=\"1\" class=\"dataframe\">\n",
       "  <thead>\n",
       "    <tr style=\"text-align: right;\">\n",
       "      <th></th>\n",
       "      <th>sampleid</th>\n",
       "      <th>GEN_age_cat</th>\n",
       "      <th>GEN_age_corrected</th>\n",
       "      <th>GEN_bmi_cat</th>\n",
       "      <th>GEN_bmi_corrected</th>\n",
       "      <th>GEN_cat</th>\n",
       "      <th>GEN_collection_timestamp</th>\n",
       "      <th>GEN_country</th>\n",
       "      <th>GEN_dog</th>\n",
       "      <th>GEN_elevation</th>\n",
       "      <th>...</th>\n",
       "      <th>NUT_probiotic_frequency</th>\n",
       "      <th>NUT_red_meat_frequency</th>\n",
       "      <th>NUT_salted_snacks_frequency</th>\n",
       "      <th>NUT_seafood_frequency</th>\n",
       "      <th>NUT_sugary_sweets_frequency</th>\n",
       "      <th>NUT_vegetable_frequency</th>\n",
       "      <th>NUT_vitamin_b_supplement_frequency</th>\n",
       "      <th>NUT_vitamin_d_supplement_frequency</th>\n",
       "      <th>NUT_whole_eggs</th>\n",
       "      <th>NUT_whole_grain_frequency</th>\n",
       "    </tr>\n",
       "  </thead>\n",
       "  <tbody>\n",
       "    <tr>\n",
       "      <th>0</th>\n",
       "      <td>10317.000046</td>\n",
       "      <td>20s</td>\n",
       "      <td>20.0</td>\n",
       "      <td>Normal</td>\n",
       "      <td>23.75</td>\n",
       "      <td>False</td>\n",
       "      <td>2016-08-25 18:30:00</td>\n",
       "      <td>USA</td>\n",
       "      <td>True</td>\n",
       "      <td>1919.3</td>\n",
       "      <td>...</td>\n",
       "      <td>Rarely</td>\n",
       "      <td>Regularly</td>\n",
       "      <td>Occasionally</td>\n",
       "      <td>Rarely</td>\n",
       "      <td>Occasionally</td>\n",
       "      <td>Occasionally</td>\n",
       "      <td>Never</td>\n",
       "      <td>Never</td>\n",
       "      <td>Daily</td>\n",
       "      <td>Daily</td>\n",
       "    </tr>\n",
       "    <tr>\n",
       "      <th>1</th>\n",
       "      <td>10317.000050</td>\n",
       "      <td>Not provided</td>\n",
       "      <td>NaN</td>\n",
       "      <td>Overweight</td>\n",
       "      <td>25.61</td>\n",
       "      <td>False</td>\n",
       "      <td>2016-07-06 09:00:00</td>\n",
       "      <td>United Kingdom</td>\n",
       "      <td>False</td>\n",
       "      <td>65.5</td>\n",
       "      <td>...</td>\n",
       "      <td>Rarely</td>\n",
       "      <td>Rarely</td>\n",
       "      <td>Regularly</td>\n",
       "      <td>Occasionally</td>\n",
       "      <td>Regularly</td>\n",
       "      <td>Regularly</td>\n",
       "      <td>Never</td>\n",
       "      <td>Never</td>\n",
       "      <td>Rarely</td>\n",
       "      <td>Occasionally</td>\n",
       "    </tr>\n",
       "    <tr>\n",
       "      <th>2</th>\n",
       "      <td>10317.000038</td>\n",
       "      <td>30s</td>\n",
       "      <td>39.0</td>\n",
       "      <td>Overweight</td>\n",
       "      <td>27.67</td>\n",
       "      <td>False</td>\n",
       "      <td>2016-06-29 09:30:00</td>\n",
       "      <td>United Kingdom</td>\n",
       "      <td>False</td>\n",
       "      <td>44.5</td>\n",
       "      <td>...</td>\n",
       "      <td>Never</td>\n",
       "      <td>Occasionally</td>\n",
       "      <td>Daily</td>\n",
       "      <td>Occasionally</td>\n",
       "      <td>Rarely</td>\n",
       "      <td>Occasionally</td>\n",
       "      <td>Never</td>\n",
       "      <td>Never</td>\n",
       "      <td>Regularly</td>\n",
       "      <td>Occasionally</td>\n",
       "    </tr>\n",
       "    <tr>\n",
       "      <th>3</th>\n",
       "      <td>10317.000047</td>\n",
       "      <td>50s</td>\n",
       "      <td>56.0</td>\n",
       "      <td>Normal</td>\n",
       "      <td>19.71</td>\n",
       "      <td>False</td>\n",
       "      <td>2016-07-12 17:30:00</td>\n",
       "      <td>Germany</td>\n",
       "      <td>False</td>\n",
       "      <td>8.7</td>\n",
       "      <td>...</td>\n",
       "      <td>Daily</td>\n",
       "      <td>Occasionally</td>\n",
       "      <td>Rarely</td>\n",
       "      <td>Not provided</td>\n",
       "      <td>Rarely</td>\n",
       "      <td>Regularly</td>\n",
       "      <td>Daily</td>\n",
       "      <td>Daily</td>\n",
       "      <td>Rarely</td>\n",
       "      <td>Regularly</td>\n",
       "    </tr>\n",
       "    <tr>\n",
       "      <th>4</th>\n",
       "      <td>10317.000046</td>\n",
       "      <td>40s</td>\n",
       "      <td>45.0</td>\n",
       "      <td>Normal</td>\n",
       "      <td>23.15</td>\n",
       "      <td>False</td>\n",
       "      <td>2016-05-24 19:00:00</td>\n",
       "      <td>United Kingdom</td>\n",
       "      <td>True</td>\n",
       "      <td>68.8</td>\n",
       "      <td>...</td>\n",
       "      <td>Regularly</td>\n",
       "      <td>Never</td>\n",
       "      <td>Never</td>\n",
       "      <td>Occasionally</td>\n",
       "      <td>Never</td>\n",
       "      <td>Daily</td>\n",
       "      <td>Rarely</td>\n",
       "      <td>Occasionally</td>\n",
       "      <td>Regularly</td>\n",
       "      <td>Daily</td>\n",
       "    </tr>\n",
       "    <tr>\n",
       "      <th>...</th>\n",
       "      <td>...</td>\n",
       "      <td>...</td>\n",
       "      <td>...</td>\n",
       "      <td>...</td>\n",
       "      <td>...</td>\n",
       "      <td>...</td>\n",
       "      <td>...</td>\n",
       "      <td>...</td>\n",
       "      <td>...</td>\n",
       "      <td>...</td>\n",
       "      <td>...</td>\n",
       "      <td>...</td>\n",
       "      <td>...</td>\n",
       "      <td>...</td>\n",
       "      <td>...</td>\n",
       "      <td>...</td>\n",
       "      <td>...</td>\n",
       "      <td>...</td>\n",
       "      <td>...</td>\n",
       "      <td>...</td>\n",
       "      <td>...</td>\n",
       "    </tr>\n",
       "    <tr>\n",
       "      <th>518</th>\n",
       "      <td>10317.000050</td>\n",
       "      <td>60s</td>\n",
       "      <td>65.0</td>\n",
       "      <td>Normal</td>\n",
       "      <td>22.48</td>\n",
       "      <td>False</td>\n",
       "      <td>2016-07-26 09:00:00</td>\n",
       "      <td>United Kingdom</td>\n",
       "      <td>False</td>\n",
       "      <td>41.4</td>\n",
       "      <td>...</td>\n",
       "      <td>Daily</td>\n",
       "      <td>Regularly</td>\n",
       "      <td>Not provided</td>\n",
       "      <td>Occasionally</td>\n",
       "      <td>Rarely</td>\n",
       "      <td>Daily</td>\n",
       "      <td>Never</td>\n",
       "      <td>Daily</td>\n",
       "      <td>Regularly</td>\n",
       "      <td>Never</td>\n",
       "    </tr>\n",
       "    <tr>\n",
       "      <th>519</th>\n",
       "      <td>10317.000046</td>\n",
       "      <td>20s</td>\n",
       "      <td>22.0</td>\n",
       "      <td>Normal</td>\n",
       "      <td>19.04</td>\n",
       "      <td>True</td>\n",
       "      <td>2016-05-17 18:45:00</td>\n",
       "      <td>Canada</td>\n",
       "      <td>True</td>\n",
       "      <td>NaN</td>\n",
       "      <td>...</td>\n",
       "      <td>Never</td>\n",
       "      <td>Never</td>\n",
       "      <td>Rarely</td>\n",
       "      <td>Never</td>\n",
       "      <td>Occasionally</td>\n",
       "      <td>Daily</td>\n",
       "      <td>Never</td>\n",
       "      <td>Never</td>\n",
       "      <td>Occasionally</td>\n",
       "      <td>Occasionally</td>\n",
       "    </tr>\n",
       "    <tr>\n",
       "      <th>520</th>\n",
       "      <td>10317.000053</td>\n",
       "      <td>60s</td>\n",
       "      <td>63.0</td>\n",
       "      <td>Normal</td>\n",
       "      <td>21.87</td>\n",
       "      <td>False</td>\n",
       "      <td>2016-08-02 20:00:00</td>\n",
       "      <td>United Kingdom</td>\n",
       "      <td>False</td>\n",
       "      <td>17.8</td>\n",
       "      <td>...</td>\n",
       "      <td>Occasionally</td>\n",
       "      <td>Occasionally</td>\n",
       "      <td>Rarely</td>\n",
       "      <td>Occasionally</td>\n",
       "      <td>Rarely</td>\n",
       "      <td>Daily</td>\n",
       "      <td>Never</td>\n",
       "      <td>Never</td>\n",
       "      <td>Occasionally</td>\n",
       "      <td>Occasionally</td>\n",
       "    </tr>\n",
       "    <tr>\n",
       "      <th>521</th>\n",
       "      <td>10317.000053</td>\n",
       "      <td>40s</td>\n",
       "      <td>49.0</td>\n",
       "      <td>Normal</td>\n",
       "      <td>18.84</td>\n",
       "      <td>False</td>\n",
       "      <td>2016-07-24 07:15:00</td>\n",
       "      <td>United Kingdom</td>\n",
       "      <td>False</td>\n",
       "      <td>69.9</td>\n",
       "      <td>...</td>\n",
       "      <td>Daily</td>\n",
       "      <td>Rarely</td>\n",
       "      <td>Never</td>\n",
       "      <td>Daily</td>\n",
       "      <td>Never</td>\n",
       "      <td>Daily</td>\n",
       "      <td>Never</td>\n",
       "      <td>Never</td>\n",
       "      <td>Daily</td>\n",
       "      <td>Never</td>\n",
       "    </tr>\n",
       "    <tr>\n",
       "      <th>522</th>\n",
       "      <td>10317.000038</td>\n",
       "      <td>60s</td>\n",
       "      <td>63.0</td>\n",
       "      <td>Obese</td>\n",
       "      <td>35.12</td>\n",
       "      <td>False</td>\n",
       "      <td>2016-05-15 13:20:00</td>\n",
       "      <td>United Kingdom</td>\n",
       "      <td>False</td>\n",
       "      <td>37.7</td>\n",
       "      <td>...</td>\n",
       "      <td>Daily</td>\n",
       "      <td>Occasionally</td>\n",
       "      <td>Regularly</td>\n",
       "      <td>Rarely</td>\n",
       "      <td>Regularly</td>\n",
       "      <td>Occasionally</td>\n",
       "      <td>Never</td>\n",
       "      <td>Daily</td>\n",
       "      <td>Rarely</td>\n",
       "      <td>Occasionally</td>\n",
       "    </tr>\n",
       "  </tbody>\n",
       "</table>\n",
       "<p>523 rows × 57 columns</p>\n",
       "</div>"
      ],
      "text/plain": [
       "         sampleid   GEN_age_cat  GEN_age_corrected GEN_bmi_cat  \\\n",
       "0    10317.000046           20s               20.0      Normal   \n",
       "1    10317.000050  Not provided                NaN  Overweight   \n",
       "2    10317.000038           30s               39.0  Overweight   \n",
       "3    10317.000047           50s               56.0      Normal   \n",
       "4    10317.000046           40s               45.0      Normal   \n",
       "..            ...           ...                ...         ...   \n",
       "518  10317.000050           60s               65.0      Normal   \n",
       "519  10317.000046           20s               22.0      Normal   \n",
       "520  10317.000053           60s               63.0      Normal   \n",
       "521  10317.000053           40s               49.0      Normal   \n",
       "522  10317.000038           60s               63.0       Obese   \n",
       "\n",
       "     GEN_bmi_corrected  GEN_cat GEN_collection_timestamp     GEN_country  \\\n",
       "0                23.75    False      2016-08-25 18:30:00             USA   \n",
       "1                25.61    False      2016-07-06 09:00:00  United Kingdom   \n",
       "2                27.67    False      2016-06-29 09:30:00  United Kingdom   \n",
       "3                19.71    False      2016-07-12 17:30:00         Germany   \n",
       "4                23.15    False      2016-05-24 19:00:00  United Kingdom   \n",
       "..                 ...      ...                      ...             ...   \n",
       "518              22.48    False      2016-07-26 09:00:00  United Kingdom   \n",
       "519              19.04     True      2016-05-17 18:45:00          Canada   \n",
       "520              21.87    False      2016-08-02 20:00:00  United Kingdom   \n",
       "521              18.84    False      2016-07-24 07:15:00  United Kingdom   \n",
       "522              35.12    False      2016-05-15 13:20:00  United Kingdom   \n",
       "\n",
       "     GEN_dog  GEN_elevation  ... NUT_probiotic_frequency  \\\n",
       "0       True         1919.3  ...                  Rarely   \n",
       "1      False           65.5  ...                  Rarely   \n",
       "2      False           44.5  ...                   Never   \n",
       "3      False            8.7  ...                   Daily   \n",
       "4       True           68.8  ...               Regularly   \n",
       "..       ...            ...  ...                     ...   \n",
       "518    False           41.4  ...                   Daily   \n",
       "519     True            NaN  ...                   Never   \n",
       "520    False           17.8  ...            Occasionally   \n",
       "521    False           69.9  ...                   Daily   \n",
       "522    False           37.7  ...                   Daily   \n",
       "\n",
       "     NUT_red_meat_frequency NUT_salted_snacks_frequency NUT_seafood_frequency  \\\n",
       "0                 Regularly                Occasionally                Rarely   \n",
       "1                    Rarely                   Regularly          Occasionally   \n",
       "2              Occasionally                       Daily          Occasionally   \n",
       "3              Occasionally                      Rarely          Not provided   \n",
       "4                     Never                       Never          Occasionally   \n",
       "..                      ...                         ...                   ...   \n",
       "518               Regularly                Not provided          Occasionally   \n",
       "519                   Never                      Rarely                 Never   \n",
       "520            Occasionally                      Rarely          Occasionally   \n",
       "521                  Rarely                       Never                 Daily   \n",
       "522            Occasionally                   Regularly                Rarely   \n",
       "\n",
       "    NUT_sugary_sweets_frequency  NUT_vegetable_frequency  \\\n",
       "0                  Occasionally             Occasionally   \n",
       "1                     Regularly                Regularly   \n",
       "2                        Rarely             Occasionally   \n",
       "3                        Rarely                Regularly   \n",
       "4                         Never                    Daily   \n",
       "..                          ...                      ...   \n",
       "518                      Rarely                    Daily   \n",
       "519                Occasionally                    Daily   \n",
       "520                      Rarely                    Daily   \n",
       "521                       Never                    Daily   \n",
       "522                   Regularly             Occasionally   \n",
       "\n",
       "    NUT_vitamin_b_supplement_frequency  NUT_vitamin_d_supplement_frequency  \\\n",
       "0                                Never                               Never   \n",
       "1                                Never                               Never   \n",
       "2                                Never                               Never   \n",
       "3                                Daily                               Daily   \n",
       "4                               Rarely                        Occasionally   \n",
       "..                                 ...                                 ...   \n",
       "518                              Never                               Daily   \n",
       "519                              Never                               Never   \n",
       "520                              Never                               Never   \n",
       "521                              Never                               Never   \n",
       "522                              Never                               Daily   \n",
       "\n",
       "    NUT_whole_eggs NUT_whole_grain_frequency  \n",
       "0            Daily                     Daily  \n",
       "1           Rarely              Occasionally  \n",
       "2        Regularly              Occasionally  \n",
       "3           Rarely                 Regularly  \n",
       "4        Regularly                     Daily  \n",
       "..             ...                       ...  \n",
       "518      Regularly                     Never  \n",
       "519   Occasionally              Occasionally  \n",
       "520   Occasionally              Occasionally  \n",
       "521          Daily                     Never  \n",
       "522         Rarely              Occasionally  \n",
       "\n",
       "[523 rows x 57 columns]"
      ]
     },
     "execution_count": 4,
     "metadata": {},
     "output_type": "execute_result"
    }
   ],
   "source": [
    "df_meta"
   ]
  },
  {
   "cell_type": "markdown",
   "id": "d6516826-70c2-4df0-91e5-efba5fa69d19",
   "metadata": {},
   "source": [
    "Show all columns we have in our metadata:"
   ]
  },
  {
   "cell_type": "code",
   "execution_count": 5,
   "id": "4868a7f7-f746-4789-874d-203e7cbab25d",
   "metadata": {},
   "outputs": [
    {
     "data": {
      "text/plain": [
       "['sampleid',\n",
       " 'GEN_age_cat',\n",
       " 'GEN_age_corrected',\n",
       " 'GEN_bmi_cat',\n",
       " 'GEN_bmi_corrected',\n",
       " 'GEN_cat',\n",
       " 'GEN_collection_timestamp',\n",
       " 'GEN_country',\n",
       " 'GEN_dog',\n",
       " 'GEN_elevation',\n",
       " 'GEN_geo_loc_name',\n",
       " 'GEN_height_cm',\n",
       " 'GEN_host_common_name',\n",
       " 'GEN_last_move',\n",
       " 'GEN_last_travel',\n",
       " 'GEN_latitude',\n",
       " 'GEN_level_of_education',\n",
       " 'GEN_longitude',\n",
       " 'GEN_race',\n",
       " 'GEN_sample_type',\n",
       " 'GEN_sex',\n",
       " 'GEN_weight_kg',\n",
       " 'NUT_alcohol_consumption',\n",
       " 'NUT_alcohol_frequency',\n",
       " 'NUT_alcohol_types_beercider',\n",
       " 'NUT_alcohol_types_red_wine',\n",
       " 'NUT_alcohol_types_sour_beers',\n",
       " 'NUT_alcohol_types_spiritshard_alcohol',\n",
       " 'NUT_alcohol_types_unspecified',\n",
       " 'NUT_alcohol_types_white_wine',\n",
       " 'NUT_artificial_sweeteners',\n",
       " 'NUT_diet_type',\n",
       " 'NUT_drinks_per_session',\n",
       " 'NUT_fed_as_infant',\n",
       " 'NUT_fermented_plant_frequency',\n",
       " 'NUT_frozen_dessert_frequency',\n",
       " 'NUT_fruit_frequency',\n",
       " 'NUT_gluten',\n",
       " 'NUT_high_fat_red_meat_frequency',\n",
       " 'NUT_homecooked_meals_frequency',\n",
       " 'NUT_lowgrain_diet_type',\n",
       " 'NUT_meat_eggs_frequency',\n",
       " 'NUT_milk_cheese_frequency',\n",
       " 'NUT_milk_substitute_frequency',\n",
       " 'NUT_olive_oil',\n",
       " 'NUT_poultry_frequency',\n",
       " 'NUT_prepared_meals_frequency',\n",
       " 'NUT_probiotic_frequency',\n",
       " 'NUT_red_meat_frequency',\n",
       " 'NUT_salted_snacks_frequency',\n",
       " 'NUT_seafood_frequency',\n",
       " 'NUT_sugary_sweets_frequency',\n",
       " 'NUT_vegetable_frequency',\n",
       " 'NUT_vitamin_b_supplement_frequency',\n",
       " 'NUT_vitamin_d_supplement_frequency',\n",
       " 'NUT_whole_eggs',\n",
       " 'NUT_whole_grain_frequency']"
      ]
     },
     "execution_count": 5,
     "metadata": {},
     "output_type": "execute_result"
    }
   ],
   "source": [
    "df_meta.columns.tolist()"
   ]
  },
  {
   "cell_type": "code",
   "execution_count": 6,
   "id": "3e1efbc2-0005-45a9-9f21-b134e585cb5b",
   "metadata": {},
   "outputs": [
    {
     "data": {
      "text/plain": [
       "523"
      ]
     },
     "execution_count": 6,
     "metadata": {},
     "output_type": "execute_result"
    }
   ],
   "source": [
    "# check if we have replicates\n",
    "len(df_meta['sampleid'].unique())"
   ]
  },
  {
   "cell_type": "code",
   "execution_count": 7,
   "id": "966a81f9-dd0c-4135-8a81-c6423c2684d0",
   "metadata": {},
   "outputs": [],
   "source": [
    "# if we want sampleid as our index: \n",
    "#df_meta = pd.read_csv(f'{data_dir}/sample_meta_data.tsv', sep='\\t', index_col=0)"
   ]
  },
  {
   "cell_type": "markdown",
   "id": "37c27859-dda1-488a-9402-7ceb6361a4e1",
   "metadata": {},
   "source": [
    "We want to know what kind of samples we have:\n"
   ]
  },
  {
   "cell_type": "code",
   "execution_count": 8,
   "id": "3ba4ae2b-ce94-4ab4-92ad-b246a0eb38ff",
   "metadata": {},
   "outputs": [
    {
     "data": {
      "text/plain": [
       "Stool    523\n",
       "Name: GEN_sample_type, dtype: int64"
      ]
     },
     "execution_count": 8,
     "metadata": {},
     "output_type": "execute_result"
    }
   ],
   "source": [
    "df_meta['GEN_sample_type'].value_counts()"
   ]
  },
  {
   "cell_type": "markdown",
   "id": "b3895777-e419-4bf7-8c03-a0d496bf2736",
   "metadata": {},
   "source": [
    "From the column names we can see that there must be stool from cats and dogs:\n"
   ]
  },
  {
   "cell_type": "code",
   "execution_count": 9,
   "id": "69f6ab9c-f1fd-427e-ab33-179818117f98",
   "metadata": {},
   "outputs": [
    {
     "data": {
      "image/png": "[encoded data removed]",
      "text/plain": [
       "<Figure size 432x288 with 1 Axes>"
      ]
     },
     "metadata": {
      "needs_background": "light"
     },
     "output_type": "display_data"
    }
   ],
   "source": [
    "df_meta['GEN_cat'].value_counts().plot(kind='bar')\n",
    "plt.ylabel('Number of samples')\n",
    "plt.title('Frequency of Cat stool')\n",
    "plt.show()"
   ]
  },
  {
   "cell_type": "code",
   "execution_count": 10,
   "id": "3dff1f7a-e403-4db0-a3fe-d3aa89017439",
   "metadata": {},
   "outputs": [
    {
     "data": {
      "image/png": "[encoded data removed]",
      "text/plain": [
       "<Figure size 432x288 with 1 Axes>"
      ]
     },
     "metadata": {
      "needs_background": "light"
     },
     "output_type": "display_data"
    }
   ],
   "source": [
    "df_meta['GEN_dog'].value_counts().plot(kind='bar')\n",
    "plt.ylabel('Number of samples')\n",
    "plt.title('Frequency of Dog stool')\n",
    "plt.show()"
   ]
  },
  {
   "cell_type": "markdown",
   "id": "34be4b4d-370c-41b2-857e-fff470a894d6",
   "metadata": {},
   "source": [
    "We clean our data from cat and dog stool:"
   ]
  },
  {
   "cell_type": "code",
   "execution_count": 11,
   "id": "b1653781-6fe7-4a4a-a286-a640d18ff84a",
   "metadata": {},
   "outputs": [],
   "source": [
    "df_meta_cleaned = df_meta[df_meta['GEN_cat']==False]\n",
    "df_meta_clean = df_meta_cleaned[df_meta_cleaned['GEN_dog']==False]\n",
    "\n",
    "# maybe we want to remove as well the columns: 'GEN_cat','GEN_dog', 'GEN_age_cat',  'GEN_bmi_cat',"
   ]
  },
  {
   "cell_type": "code",
   "execution_count": 36,
   "id": "f6447d60-fcf4-4b6b-80e7-06ec15525b47",
   "metadata": {},
   "outputs": [
    {
     "data": {
      "text/plain": [
       "sampleid                                  0\n",
       "GEN_age_cat                               0\n",
       "GEN_age_corrected                        17\n",
       "GEN_bmi_cat                               0\n",
       "GEN_bmi_corrected                         9\n",
       "GEN_cat                                   0\n",
       "GEN_collection_timestamp                  0\n",
       "GEN_country                               0\n",
       "GEN_dog                                   0\n",
       "GEN_elevation                            19\n",
       "GEN_geo_loc_name                          0\n",
       "GEN_height_cm                             3\n",
       "GEN_host_common_name                      0\n",
       "GEN_last_move                             0\n",
       "GEN_last_travel                           0\n",
       "GEN_latitude                             19\n",
       "GEN_level_of_education                    0\n",
       "GEN_longitude                            19\n",
       "GEN_race                                  0\n",
       "GEN_sample_type                           0\n",
       "GEN_sex                                   0\n",
       "GEN_weight_kg                             2\n",
       "NUT_alcohol_consumption                   0\n",
       "NUT_alcohol_frequency                     0\n",
       "NUT_alcohol_types_beercider               0\n",
       "NUT_alcohol_types_red_wine                0\n",
       "NUT_alcohol_types_sour_beers              0\n",
       "NUT_alcohol_types_spiritshard_alcohol     0\n",
       "NUT_alcohol_types_unspecified             0\n",
       "NUT_alcohol_types_white_wine              0\n",
       "NUT_artificial_sweeteners                 0\n",
       "NUT_diet_type                             0\n",
       "NUT_drinks_per_session                    0\n",
       "NUT_fed_as_infant                         0\n",
       "NUT_fermented_plant_frequency             0\n",
       "NUT_frozen_dessert_frequency              0\n",
       "NUT_fruit_frequency                       0\n",
       "NUT_gluten                                0\n",
       "NUT_high_fat_red_meat_frequency           0\n",
       "NUT_homecooked_meals_frequency            0\n",
       "NUT_lowgrain_diet_type                    0\n",
       "NUT_meat_eggs_frequency                   0\n",
       "NUT_milk_cheese_frequency                 0\n",
       "NUT_milk_substitute_frequency             0\n",
       "NUT_olive_oil                             0\n",
       "NUT_poultry_frequency                     0\n",
       "NUT_prepared_meals_frequency              0\n",
       "NUT_probiotic_frequency                   0\n",
       "NUT_red_meat_frequency                    0\n",
       "NUT_salted_snacks_frequency               0\n",
       "NUT_seafood_frequency                     0\n",
       "NUT_sugary_sweets_frequency               0\n",
       "NUT_vegetable_frequency                   0\n",
       "NUT_vitamin_b_supplement_frequency        0\n",
       "NUT_vitamin_d_supplement_frequency        0\n",
       "NUT_whole_eggs                            0\n",
       "NUT_whole_grain_frequency                 0\n",
       "dtype: int64"
      ]
     },
     "execution_count": 36,
     "metadata": {},
     "output_type": "execute_result"
    }
   ],
   "source": [
    "#Maybe also remove rows NaN:\n",
    "\n",
    "#df_meta[df_meta.isna().any(axis=1)]\n",
    "#df.dropna()\n",
    "\n",
    "# Check for missing data\n",
    "df_meta_clean.isnull().sum()"
   ]
  },
  {
   "cell_type": "markdown",
   "id": "bd1cce18-2e46-48ea-a9e2-b9def865ab64",
   "metadata": {},
   "source": [
    "We check:"
   ]
  },
  {
   "cell_type": "code",
   "execution_count": 13,
   "id": "1dfcd310-97ae-4725-860e-4c25b0c6735b",
   "metadata": {},
   "outputs": [
    {
     "data": {
      "image/png": "[encoded data removed]",
      "text/plain": [
       "<Figure size 432x288 with 1 Axes>"
      ]
     },
     "metadata": {
      "needs_background": "light"
     },
     "output_type": "display_data"
    },
    {
     "data": {
      "image/png": "[encoded data removed]",
      "text/plain": [
       "<Figure size 432x288 with 1 Axes>"
      ]
     },
     "metadata": {
      "needs_background": "light"
     },
     "output_type": "display_data"
    }
   ],
   "source": [
    "df_meta_clean['GEN_dog'].value_counts().plot(kind='bar')\n",
    "plt.ylabel('Number of samples')\n",
    "plt.title('Frequency of Dog stool')\n",
    "plt.show()\n",
    "df_meta_clean['GEN_cat'].value_counts().plot(kind='bar')\n",
    "plt.ylabel('Number of samples')\n",
    "plt.title('Frequency of Cat stool')\n",
    "plt.show()"
   ]
  },
  {
   "cell_type": "markdown",
   "id": "86e12c3a-de5c-4b8a-be3d-5cd11fd75a16",
   "metadata": {},
   "source": [
    "We are now working with the \"clean data\" and explore it:\n",
    "\n",
    "Check how many samples are left"
   ]
  },
  {
   "cell_type": "code",
   "execution_count": 14,
   "id": "737f77ea-b13f-4efc-9235-de4c3d499476",
   "metadata": {},
   "outputs": [
    {
     "data": {
      "text/plain": [
       "283"
      ]
     },
     "execution_count": 14,
     "metadata": {},
     "output_type": "execute_result"
    }
   ],
   "source": [
    "len(df_meta_clean['sampleid'].unique())"
   ]
  },
  {
   "cell_type": "code",
   "execution_count": 15,
   "id": "dbf48ef3-fa21-4b7d-8980-bebb33c778b3",
   "metadata": {},
   "outputs": [
    {
     "data": {
      "text/plain": [
       "female          145\n",
       "male            136\n",
       "Not provided      2\n",
       "Name: GEN_sex, dtype: int64"
      ]
     },
     "execution_count": 15,
     "metadata": {},
     "output_type": "execute_result"
    }
   ],
   "source": [
    "df_meta_clean['GEN_sex'].value_counts()"
   ]
  },
  {
   "cell_type": "code",
   "execution_count": 16,
   "id": "56571aae-25fb-4f5b-a8be-7dc938e62a61",
   "metadata": {},
   "outputs": [
    {
     "data": {
      "image/png": "[encoded data removed]",
      "text/plain": [
       "<Figure size 432x288 with 1 Axes>"
      ]
     },
     "metadata": {
      "needs_background": "light"
     },
     "output_type": "display_data"
    }
   ],
   "source": [
    "df_meta_clean['GEN_sex'].value_counts().plot(kind='bar')\n",
    "plt.ylabel('Number of samples')\n",
    "plt.title('Frequency of sex')\n",
    "plt.show()"
   ]
  },
  {
   "cell_type": "code",
   "execution_count": 17,
   "id": "3ffa3481-9d86-45c0-808c-567133f995f8",
   "metadata": {},
   "outputs": [
    {
     "data": {
      "text/plain": [
       "human    283\n",
       "Name: GEN_host_common_name, dtype: int64"
      ]
     },
     "execution_count": 17,
     "metadata": {},
     "output_type": "execute_result"
    }
   ],
   "source": [
    "df_meta_clean['GEN_host_common_name'].value_counts()"
   ]
  },
  {
   "cell_type": "code",
   "execution_count": 18,
   "id": "af51ebb6-8cfb-4742-83a6-b2af4bfb1717",
   "metadata": {},
   "outputs": [
    {
     "data": {
      "text/plain": [
       "Text(0.5, 1.0, 'Race')"
      ]
     },
     "execution_count": 18,
     "metadata": {},
     "output_type": "execute_result"
    },
    {
     "data": {
      "image/png": "[encoded data removed]",
      "text/plain": [
       "<Figure size 432x288 with 1 Axes>"
      ]
     },
     "metadata": {
      "needs_background": "light"
     },
     "output_type": "display_data"
    }
   ],
   "source": [
    "df_meta_clean['GEN_race'].hist(orientation='horizontal' )\n",
    "plt.title('Race')"
   ]
  },
  {
   "cell_type": "code",
   "execution_count": 19,
   "id": "1f0c7343-19b3-451a-b8c8-3ee72a165f2a",
   "metadata": {},
   "outputs": [
    {
     "data": {
      "image/png": "[encoded data removed]",
      "text/plain": [
       "<Figure size 432x288 with 1 Axes>"
      ]
     },
     "metadata": {
      "needs_background": "light"
     },
     "output_type": "display_data"
    }
   ],
   "source": [
    "plt.hist('GEN_country', data=df_meta_clean, orientation='horizontal')\n",
    "plt.ylabel('Count')\n",
    "plt.xlabel('Country')\n",
    "plt.title('Country')\n",
    "plt.grid(True)\n",
    "plt.show()"
   ]
  },
  {
   "cell_type": "code",
   "execution_count": 30,
   "id": "6cf5a9b3-4d77-42be-b2e2-9cdb945c0bf6",
   "metadata": {},
   "outputs": [
    {
     "data": {
      "image/png": "[encoded data removed]",
      "text/plain": [
       "<Figure size 432x288 with 1 Axes>"
      ]
     },
     "metadata": {
      "needs_background": "light"
     },
     "output_type": "display_data"
    }
   ],
   "source": [
    "plt.hist('GEN_elevation', data=df_meta_clean)\n",
    "plt.ylabel('Count')\n",
    "plt.xlabel('Elevation')\n",
    "plt.title('Elevation Distribution')\n",
    "plt.grid(True)\n",
    "plt.show()"
   ]
  },
  {
   "cell_type": "code",
   "execution_count": 33,
   "id": "6d3fb917-301c-4cea-b19c-f1826814a9a7",
   "metadata": {},
   "outputs": [
    {
     "data": {
      "image/png": "[encoded data removed]",
      "text/plain": [
       "<Figure size 432x288 with 1 Axes>"
      ]
     },
     "metadata": {
      "needs_background": "light"
     },
     "output_type": "display_data"
    }
   ],
   "source": [
    "df_meta_clean.plot(x='GEN_latitude', y='GEN_longitude', style='o')\n",
    "plt.ylabel('Longitude')\n",
    "plt.xlabel('Latitude')\n",
    "plt.title('Longitude - Latitude')\n",
    "plt.show()"
   ]
  },
  {
   "cell_type": "markdown",
   "id": "7d008199-934c-4b31-a09a-d4c789741b13",
   "metadata": {},
   "source": [
    "We note that most samples come from caucasians. Fruthermore, there are almost no samples from Switzerland which we should keep in mind when we aim to give suggestions to the ETH mensa chefs. Most of the samples come from USA, Germany and United Kingdom."
   ]
  },
  {
   "cell_type": "code",
   "execution_count": 20,
   "id": "36dd2d0b-86bd-4d63-a2e8-c65656ac88ec",
   "metadata": {},
   "outputs": [
    {
     "data": {
      "image/png": "[encoded data removed]",
      "text/plain": [
       "<Figure size 432x288 with 1 Axes>"
      ]
     },
     "metadata": {
      "needs_background": "light"
     },
     "output_type": "display_data"
    }
   ],
   "source": [
    "plt.hist('GEN_age_corrected', data=df_meta_clean)\n",
    "plt.ylabel('Count')\n",
    "plt.xlabel('Age')\n",
    "plt.title('Age distribution')\n",
    "plt.grid(True)\n",
    "plt.show()"
   ]
  },
  {
   "cell_type": "code",
   "execution_count": 21,
   "id": "8d527a3a-66e8-437e-870b-1115558ca2b1",
   "metadata": {},
   "outputs": [
    {
     "data": {
      "image/png": "[encoded data removed]",
      "text/plain": [
       "<Figure size 432x288 with 1 Axes>"
      ]
     },
     "metadata": {
      "needs_background": "light"
     },
     "output_type": "display_data"
    }
   ],
   "source": [
    "plt.hist('GEN_bmi_corrected', data=df_meta_clean)\n",
    "plt.ylabel('Count')\n",
    "plt.xlabel('BMI')\n",
    "plt.title('BMI distribution')\n",
    "plt.grid(True)\n",
    "plt.show()"
   ]
  },
  {
   "cell_type": "code",
   "execution_count": 34,
   "id": "10d7bd37-2df3-4b9f-b95a-29f7a480046c",
   "metadata": {},
   "outputs": [
    {
     "data": {
      "image/png": "[encoded data removed]",
      "text/plain": [
       "<Figure size 432x288 with 1 Axes>"
      ]
     },
     "metadata": {
      "needs_background": "light"
     },
     "output_type": "display_data"
    }
   ],
   "source": [
    "plt.hist('GEN_height_cm', data=df_meta_clean)\n",
    "plt.ylabel('Count')\n",
    "plt.xlabel('Height_cm')\n",
    "plt.title('Height Distribution')\n",
    "plt.grid(True)\n",
    "plt.show()"
   ]
  },
  {
   "cell_type": "code",
   "execution_count": 35,
   "id": "bca4c7b7-e8c1-405e-b5ca-4dd5e78796e3",
   "metadata": {},
   "outputs": [
    {
     "data": {
      "image/png": "[encoded data removed]",
      "text/plain": [
       "<Figure size 432x288 with 1 Axes>"
      ]
     },
     "metadata": {
      "needs_background": "light"
     },
     "output_type": "display_data"
    }
   ],
   "source": [
    "plt.hist('GEN_weight_kg', data=df_meta_clean)\n",
    "plt.ylabel('Count')\n",
    "plt.xlabel('Weight_kg')\n",
    "plt.title('Weight Distribution')\n",
    "plt.grid(True)\n",
    "plt.show()"
   ]
  },
  {
   "cell_type": "code",
   "execution_count": 22,
   "id": "d50f5410-f033-4452-bdbb-00d71fa09c9a",
   "metadata": {},
   "outputs": [
    {
     "data": {
      "text/plain": [
       "Graduate or Professional degree         132\n",
       "Bachelor's degree                        70\n",
       "Some college or technical school         38\n",
       "Some graduate school or professional     14\n",
       "High School or GED equilivant            12\n",
       "Did not complete high school              7\n",
       "Not provided                              7\n",
       "Associate's degree                        3\n",
       "Name: GEN_level_of_education, dtype: int64"
      ]
     },
     "execution_count": 22,
     "metadata": {},
     "output_type": "execute_result"
    }
   ],
   "source": [
    "df_meta_clean['GEN_level_of_education'].value_counts()"
   ]
  },
  {
   "cell_type": "markdown",
   "id": "4ee90985-b9d9-4590-8b58-ccada0293744",
   "metadata": {},
   "source": [
    "Save cleaned Data in CSV to be able to reload it in next tasks:"
   ]
  },
  {
   "cell_type": "code",
   "execution_count": 23,
   "id": "fe387a4d-67a4-4dfa-af2a-4f91a51990d2",
   "metadata": {},
   "outputs": [],
   "source": [
    "#df_meta_clean.to_csv(f'{data_dir}/cleaned_sample_meta_data.tsv', sep='\\t')"
   ]
  },
  {
   "cell_type": "markdown",
   "id": "2975007c-0ba2-44ef-b86d-c112b2c1f01e",
   "metadata": {},
   "source": [
    "### Check correlations\n",
    "\n",
    "Work only with GEN data, NUT data is explored in Eating_hbits file"
   ]
  },
  {
   "cell_type": "code",
   "execution_count": 24,
   "id": "53a07204-ce70-420e-bda5-e012cca0558e",
   "metadata": {},
   "outputs": [
    {
     "data": {
      "text/html": [
       "<div>\n",
       "<style scoped>\n",
       "    .dataframe tbody tr th:only-of-type {\n",
       "        vertical-align: middle;\n",
       "    }\n",
       "\n",
       "    .dataframe tbody tr th {\n",
       "        vertical-align: top;\n",
       "    }\n",
       "\n",
       "    .dataframe thead th {\n",
       "        text-align: right;\n",
       "    }\n",
       "</style>\n",
       "<table border=\"1\" class=\"dataframe\">\n",
       "  <thead>\n",
       "    <tr style=\"text-align: right;\">\n",
       "      <th></th>\n",
       "      <th>GEN_age_cat</th>\n",
       "      <th>GEN_age_corrected</th>\n",
       "      <th>GEN_bmi_cat</th>\n",
       "      <th>GEN_bmi_corrected</th>\n",
       "      <th>GEN_cat</th>\n",
       "      <th>GEN_collection_timestamp</th>\n",
       "      <th>GEN_country</th>\n",
       "      <th>GEN_dog</th>\n",
       "      <th>GEN_elevation</th>\n",
       "      <th>GEN_geo_loc_name</th>\n",
       "      <th>...</th>\n",
       "      <th>GEN_host_common_name</th>\n",
       "      <th>GEN_last_move</th>\n",
       "      <th>GEN_last_travel</th>\n",
       "      <th>GEN_latitude</th>\n",
       "      <th>GEN_level_of_education</th>\n",
       "      <th>GEN_longitude</th>\n",
       "      <th>GEN_race</th>\n",
       "      <th>GEN_sample_type</th>\n",
       "      <th>GEN_sex</th>\n",
       "      <th>GEN_weight_kg</th>\n",
       "    </tr>\n",
       "  </thead>\n",
       "  <tbody>\n",
       "    <tr>\n",
       "      <th>1</th>\n",
       "      <td>Not provided</td>\n",
       "      <td>NaN</td>\n",
       "      <td>Overweight</td>\n",
       "      <td>25.61</td>\n",
       "      <td>False</td>\n",
       "      <td>2016-07-06 09:00:00</td>\n",
       "      <td>United Kingdom</td>\n",
       "      <td>False</td>\n",
       "      <td>65.5</td>\n",
       "      <td>United Kingdom:England</td>\n",
       "      <td>...</td>\n",
       "      <td>human</td>\n",
       "      <td>I have lived in my current state of residence ...</td>\n",
       "      <td>1 year</td>\n",
       "      <td>50.2</td>\n",
       "      <td>Some graduate school or professional</td>\n",
       "      <td>-5.5</td>\n",
       "      <td>Caucasian</td>\n",
       "      <td>Stool</td>\n",
       "      <td>female</td>\n",
       "      <td>63.0</td>\n",
       "    </tr>\n",
       "    <tr>\n",
       "      <th>2</th>\n",
       "      <td>30s</td>\n",
       "      <td>39.0</td>\n",
       "      <td>Overweight</td>\n",
       "      <td>27.67</td>\n",
       "      <td>False</td>\n",
       "      <td>2016-06-29 09:30:00</td>\n",
       "      <td>United Kingdom</td>\n",
       "      <td>False</td>\n",
       "      <td>44.5</td>\n",
       "      <td>United Kingdom:England</td>\n",
       "      <td>...</td>\n",
       "      <td>human</td>\n",
       "      <td>I have lived in my current state of residence ...</td>\n",
       "      <td>Month</td>\n",
       "      <td>53.4</td>\n",
       "      <td>Not provided</td>\n",
       "      <td>-2.3</td>\n",
       "      <td>Caucasian</td>\n",
       "      <td>Stool</td>\n",
       "      <td>male</td>\n",
       "      <td>90.0</td>\n",
       "    </tr>\n",
       "    <tr>\n",
       "      <th>3</th>\n",
       "      <td>50s</td>\n",
       "      <td>56.0</td>\n",
       "      <td>Normal</td>\n",
       "      <td>19.71</td>\n",
       "      <td>False</td>\n",
       "      <td>2016-07-12 17:30:00</td>\n",
       "      <td>Germany</td>\n",
       "      <td>False</td>\n",
       "      <td>8.7</td>\n",
       "      <td>Germany:HH</td>\n",
       "      <td>...</td>\n",
       "      <td>human</td>\n",
       "      <td>I have lived in my current state of residence ...</td>\n",
       "      <td>1 year</td>\n",
       "      <td>53.6</td>\n",
       "      <td>Graduate or Professional degree</td>\n",
       "      <td>10.0</td>\n",
       "      <td>Caucasian</td>\n",
       "      <td>Stool</td>\n",
       "      <td>female</td>\n",
       "      <td>53.0</td>\n",
       "    </tr>\n",
       "    <tr>\n",
       "      <th>6</th>\n",
       "      <td>60s</td>\n",
       "      <td>68.0</td>\n",
       "      <td>Normal</td>\n",
       "      <td>24.12</td>\n",
       "      <td>False</td>\n",
       "      <td>2016-05-10 10:00:00</td>\n",
       "      <td>United Kingdom</td>\n",
       "      <td>False</td>\n",
       "      <td>22.9</td>\n",
       "      <td>United Kingdom:Unspecified</td>\n",
       "      <td>...</td>\n",
       "      <td>human</td>\n",
       "      <td>I have lived in my current state of residence ...</td>\n",
       "      <td>3 months</td>\n",
       "      <td>53.6</td>\n",
       "      <td>Some college or technical school</td>\n",
       "      <td>-0.6</td>\n",
       "      <td>Caucasian</td>\n",
       "      <td>Stool</td>\n",
       "      <td>male</td>\n",
       "      <td>69.0</td>\n",
       "    </tr>\n",
       "    <tr>\n",
       "      <th>9</th>\n",
       "      <td>40s</td>\n",
       "      <td>46.0</td>\n",
       "      <td>Normal</td>\n",
       "      <td>22.60</td>\n",
       "      <td>False</td>\n",
       "      <td>2016-05-23 10:05:00</td>\n",
       "      <td>USA</td>\n",
       "      <td>False</td>\n",
       "      <td>261.1</td>\n",
       "      <td>USA:MI</td>\n",
       "      <td>...</td>\n",
       "      <td>human</td>\n",
       "      <td>I have lived in my current state of residence ...</td>\n",
       "      <td>3 months</td>\n",
       "      <td>42.4</td>\n",
       "      <td>Graduate or Professional degree</td>\n",
       "      <td>-83.5</td>\n",
       "      <td>Caucasian</td>\n",
       "      <td>Stool</td>\n",
       "      <td>male</td>\n",
       "      <td>82.0</td>\n",
       "    </tr>\n",
       "  </tbody>\n",
       "</table>\n",
       "<p>5 rows × 21 columns</p>\n",
       "</div>"
      ],
      "text/plain": [
       "    GEN_age_cat  GEN_age_corrected GEN_bmi_cat  GEN_bmi_corrected  GEN_cat  \\\n",
       "1  Not provided                NaN  Overweight              25.61    False   \n",
       "2           30s               39.0  Overweight              27.67    False   \n",
       "3           50s               56.0      Normal              19.71    False   \n",
       "6           60s               68.0      Normal              24.12    False   \n",
       "9           40s               46.0      Normal              22.60    False   \n",
       "\n",
       "  GEN_collection_timestamp     GEN_country  GEN_dog  GEN_elevation  \\\n",
       "1      2016-07-06 09:00:00  United Kingdom    False           65.5   \n",
       "2      2016-06-29 09:30:00  United Kingdom    False           44.5   \n",
       "3      2016-07-12 17:30:00         Germany    False            8.7   \n",
       "6      2016-05-10 10:00:00  United Kingdom    False           22.9   \n",
       "9      2016-05-23 10:05:00             USA    False          261.1   \n",
       "\n",
       "             GEN_geo_loc_name  ...  GEN_host_common_name  \\\n",
       "1      United Kingdom:England  ...                 human   \n",
       "2      United Kingdom:England  ...                 human   \n",
       "3                  Germany:HH  ...                 human   \n",
       "6  United Kingdom:Unspecified  ...                 human   \n",
       "9                      USA:MI  ...                 human   \n",
       "\n",
       "                                       GEN_last_move GEN_last_travel  \\\n",
       "1  I have lived in my current state of residence ...          1 year   \n",
       "2  I have lived in my current state of residence ...           Month   \n",
       "3  I have lived in my current state of residence ...          1 year   \n",
       "6  I have lived in my current state of residence ...        3 months   \n",
       "9  I have lived in my current state of residence ...        3 months   \n",
       "\n",
       "  GEN_latitude                GEN_level_of_education GEN_longitude   GEN_race  \\\n",
       "1         50.2  Some graduate school or professional          -5.5  Caucasian   \n",
       "2         53.4                          Not provided          -2.3  Caucasian   \n",
       "3         53.6       Graduate or Professional degree          10.0  Caucasian   \n",
       "6         53.6      Some college or technical school          -0.6  Caucasian   \n",
       "9         42.4       Graduate or Professional degree         -83.5  Caucasian   \n",
       "\n",
       "  GEN_sample_type GEN_sex GEN_weight_kg  \n",
       "1           Stool  female          63.0  \n",
       "2           Stool    male          90.0  \n",
       "3           Stool  female          53.0  \n",
       "6           Stool    male          69.0  \n",
       "9           Stool    male          82.0  \n",
       "\n",
       "[5 rows x 21 columns]"
      ]
     },
     "execution_count": 24,
     "metadata": {},
     "output_type": "execute_result"
    }
   ],
   "source": [
    "names=df_meta_clean.columns\n",
    "GEN_INDEX = names[df_meta_clean.columns.str.contains('GEN')]\n",
    "\n",
    "df_GEN = df_meta_clean[GEN_INDEX]\n",
    "df_GEN.head()"
   ]
  },
  {
   "cell_type": "code",
   "execution_count": 44,
   "id": "d8519b60-41ca-4b49-8b16-4429fd229382",
   "metadata": {},
   "outputs": [
    {
     "data": {
      "text/plain": [
       "(283, 21)"
      ]
     },
     "execution_count": 44,
     "metadata": {},
     "output_type": "execute_result"
    }
   ],
   "source": [
    "df_GEN.shape"
   ]
  },
  {
   "cell_type": "code",
   "execution_count": 28,
   "id": "a051401b-2b77-41f5-8986-7bddf7e0627e",
   "metadata": {},
   "outputs": [
    {
     "data": {
      "text/plain": [
       "['GEN_age_cat',\n",
       " 'GEN_age_corrected',\n",
       " 'GEN_bmi_cat',\n",
       " 'GEN_bmi_corrected',\n",
       " 'GEN_cat',\n",
       " 'GEN_collection_timestamp',\n",
       " 'GEN_country',\n",
       " 'GEN_dog',\n",
       " 'GEN_elevation',\n",
       " 'GEN_geo_loc_name',\n",
       " 'GEN_height_cm',\n",
       " 'GEN_host_common_name',\n",
       " 'GEN_last_move',\n",
       " 'GEN_last_travel',\n",
       " 'GEN_latitude',\n",
       " 'GEN_level_of_education',\n",
       " 'GEN_longitude',\n",
       " 'GEN_race',\n",
       " 'GEN_sample_type',\n",
       " 'GEN_sex',\n",
       " 'GEN_weight_kg']"
      ]
     },
     "execution_count": 28,
     "metadata": {},
     "output_type": "execute_result"
    }
   ],
   "source": [
    "df_GEN.columns.tolist()"
   ]
  },
  {
   "cell_type": "code",
   "execution_count": 29,
   "id": "255c5637-3040-4e27-a7c1-34927fdc2624",
   "metadata": {},
   "outputs": [
    {
     "data": {
      "text/plain": [
       "GEN_age_cat                  object\n",
       "GEN_age_corrected           float64\n",
       "GEN_bmi_cat                  object\n",
       "GEN_bmi_corrected           float64\n",
       "GEN_cat                        bool\n",
       "GEN_collection_timestamp     object\n",
       "GEN_country                  object\n",
       "GEN_dog                        bool\n",
       "GEN_elevation               float64\n",
       "GEN_geo_loc_name             object\n",
       "GEN_height_cm               float64\n",
       "GEN_host_common_name         object\n",
       "GEN_last_move                object\n",
       "GEN_last_travel              object\n",
       "GEN_latitude                float64\n",
       "GEN_level_of_education       object\n",
       "GEN_longitude               float64\n",
       "GEN_race                     object\n",
       "GEN_sample_type              object\n",
       "GEN_sex                      object\n",
       "GEN_weight_kg               float64\n",
       "dtype: object"
      ]
     },
     "execution_count": 29,
     "metadata": {},
     "output_type": "execute_result"
    }
   ],
   "source": [
    "df_GEN.dtypes"
   ]
  },
  {
   "cell_type": "code",
   "execution_count": 41,
   "id": "b6f0c137-e89f-4b20-a773-4de55aee8120",
   "metadata": {},
   "outputs": [],
   "source": [
    "df_GEN_cont = df_GEN.select_dtypes(include=['float64'])\n",
    "df_GEN_cat = df_GEN.select_dtypes(include=['object'])"
   ]
  },
  {
   "cell_type": "code",
   "execution_count": 42,
   "id": "5c29399f-2ac0-4637-8044-88c375bdd7bd",
   "metadata": {},
   "outputs": [
    {
     "data": {
      "text/html": [
       "<div>\n",
       "<style scoped>\n",
       "    .dataframe tbody tr th:only-of-type {\n",
       "        vertical-align: middle;\n",
       "    }\n",
       "\n",
       "    .dataframe tbody tr th {\n",
       "        vertical-align: top;\n",
       "    }\n",
       "\n",
       "    .dataframe thead th {\n",
       "        text-align: right;\n",
       "    }\n",
       "</style>\n",
       "<table border=\"1\" class=\"dataframe\">\n",
       "  <thead>\n",
       "    <tr style=\"text-align: right;\">\n",
       "      <th></th>\n",
       "      <th>GEN_age_corrected</th>\n",
       "      <th>GEN_bmi_corrected</th>\n",
       "      <th>GEN_elevation</th>\n",
       "      <th>GEN_height_cm</th>\n",
       "      <th>GEN_latitude</th>\n",
       "      <th>GEN_longitude</th>\n",
       "      <th>GEN_weight_kg</th>\n",
       "    </tr>\n",
       "  </thead>\n",
       "  <tbody>\n",
       "    <tr>\n",
       "      <th>count</th>\n",
       "      <td>266.000000</td>\n",
       "      <td>274.000000</td>\n",
       "      <td>264.000000</td>\n",
       "      <td>280.000000</td>\n",
       "      <td>264.000000</td>\n",
       "      <td>264.000000</td>\n",
       "      <td>281.000000</td>\n",
       "    </tr>\n",
       "    <tr>\n",
       "      <th>mean</th>\n",
       "      <td>47.609023</td>\n",
       "      <td>23.880693</td>\n",
       "      <td>109.800758</td>\n",
       "      <td>180.371429</td>\n",
       "      <td>45.996970</td>\n",
       "      <td>-40.177652</td>\n",
       "      <td>70.092527</td>\n",
       "    </tr>\n",
       "    <tr>\n",
       "      <th>std</th>\n",
       "      <td>16.124204</td>\n",
       "      <td>4.490600</td>\n",
       "      <td>231.276037</td>\n",
       "      <td>133.355339</td>\n",
       "      <td>8.909617</td>\n",
       "      <td>52.445656</td>\n",
       "      <td>19.743136</td>\n",
       "    </tr>\n",
       "    <tr>\n",
       "      <th>min</th>\n",
       "      <td>3.000000</td>\n",
       "      <td>11.570000</td>\n",
       "      <td>-0.900000</td>\n",
       "      <td>15.000000</td>\n",
       "      <td>-27.500000</td>\n",
       "      <td>-157.800000</td>\n",
       "      <td>7.000000</td>\n",
       "    </tr>\n",
       "    <tr>\n",
       "      <th>25%</th>\n",
       "      <td>36.000000</td>\n",
       "      <td>20.770000</td>\n",
       "      <td>20.475000</td>\n",
       "      <td>162.000000</td>\n",
       "      <td>40.575000</td>\n",
       "      <td>-84.425000</td>\n",
       "      <td>58.000000</td>\n",
       "    </tr>\n",
       "    <tr>\n",
       "      <th>50%</th>\n",
       "      <td>49.000000</td>\n",
       "      <td>23.410000</td>\n",
       "      <td>42.900000</td>\n",
       "      <td>170.000000</td>\n",
       "      <td>50.950000</td>\n",
       "      <td>-3.100000</td>\n",
       "      <td>69.000000</td>\n",
       "    </tr>\n",
       "    <tr>\n",
       "      <th>75%</th>\n",
       "      <td>60.000000</td>\n",
       "      <td>26.310000</td>\n",
       "      <td>101.225000</td>\n",
       "      <td>180.000000</td>\n",
       "      <td>51.600000</td>\n",
       "      <td>-0.300000</td>\n",
       "      <td>82.000000</td>\n",
       "    </tr>\n",
       "    <tr>\n",
       "      <th>max</th>\n",
       "      <td>81.000000</td>\n",
       "      <td>42.440000</td>\n",
       "      <td>2295.200000</td>\n",
       "      <td>1800.000000</td>\n",
       "      <td>57.200000</td>\n",
       "      <td>153.000000</td>\n",
       "      <td>175.000000</td>\n",
       "    </tr>\n",
       "  </tbody>\n",
       "</table>\n",
       "</div>"
      ],
      "text/plain": [
       "       GEN_age_corrected  GEN_bmi_corrected  GEN_elevation  GEN_height_cm  \\\n",
       "count         266.000000         274.000000     264.000000     280.000000   \n",
       "mean           47.609023          23.880693     109.800758     180.371429   \n",
       "std            16.124204           4.490600     231.276037     133.355339   \n",
       "min             3.000000          11.570000      -0.900000      15.000000   \n",
       "25%            36.000000          20.770000      20.475000     162.000000   \n",
       "50%            49.000000          23.410000      42.900000     170.000000   \n",
       "75%            60.000000          26.310000     101.225000     180.000000   \n",
       "max            81.000000          42.440000    2295.200000    1800.000000   \n",
       "\n",
       "       GEN_latitude  GEN_longitude  GEN_weight_kg  \n",
       "count    264.000000     264.000000     281.000000  \n",
       "mean      45.996970     -40.177652      70.092527  \n",
       "std        8.909617      52.445656      19.743136  \n",
       "min      -27.500000    -157.800000       7.000000  \n",
       "25%       40.575000     -84.425000      58.000000  \n",
       "50%       50.950000      -3.100000      69.000000  \n",
       "75%       51.600000      -0.300000      82.000000  \n",
       "max       57.200000     153.000000     175.000000  "
      ]
     },
     "execution_count": 42,
     "metadata": {},
     "output_type": "execute_result"
    }
   ],
   "source": [
    "df_GEN_cont.describe()"
   ]
  },
  {
   "cell_type": "code",
   "execution_count": 45,
   "id": "675cab1b-4719-406c-967f-0b2c6e341263",
   "metadata": {},
   "outputs": [
    {
     "data": {
      "text/html": [
       "<div>\n",
       "<style scoped>\n",
       "    .dataframe tbody tr th:only-of-type {\n",
       "        vertical-align: middle;\n",
       "    }\n",
       "\n",
       "    .dataframe tbody tr th {\n",
       "        vertical-align: top;\n",
       "    }\n",
       "\n",
       "    .dataframe thead th {\n",
       "        text-align: right;\n",
       "    }\n",
       "</style>\n",
       "<table border=\"1\" class=\"dataframe\">\n",
       "  <thead>\n",
       "    <tr style=\"text-align: right;\">\n",
       "      <th></th>\n",
       "      <th>GEN_age_cat</th>\n",
       "      <th>GEN_bmi_cat</th>\n",
       "      <th>GEN_collection_timestamp</th>\n",
       "      <th>GEN_country</th>\n",
       "      <th>GEN_geo_loc_name</th>\n",
       "      <th>GEN_host_common_name</th>\n",
       "      <th>GEN_last_move</th>\n",
       "      <th>GEN_last_travel</th>\n",
       "      <th>GEN_level_of_education</th>\n",
       "      <th>GEN_race</th>\n",
       "      <th>GEN_sample_type</th>\n",
       "      <th>GEN_sex</th>\n",
       "    </tr>\n",
       "  </thead>\n",
       "  <tbody>\n",
       "    <tr>\n",
       "      <th>count</th>\n",
       "      <td>283</td>\n",
       "      <td>283</td>\n",
       "      <td>283</td>\n",
       "      <td>283</td>\n",
       "      <td>283</td>\n",
       "      <td>283</td>\n",
       "      <td>283</td>\n",
       "      <td>283</td>\n",
       "      <td>283</td>\n",
       "      <td>283</td>\n",
       "      <td>283</td>\n",
       "      <td>283</td>\n",
       "    </tr>\n",
       "    <tr>\n",
       "      <th>unique</th>\n",
       "      <td>9</td>\n",
       "      <td>5</td>\n",
       "      <td>278</td>\n",
       "      <td>15</td>\n",
       "      <td>44</td>\n",
       "      <td>1</td>\n",
       "      <td>6</td>\n",
       "      <td>6</td>\n",
       "      <td>8</td>\n",
       "      <td>6</td>\n",
       "      <td>1</td>\n",
       "      <td>3</td>\n",
       "    </tr>\n",
       "    <tr>\n",
       "      <th>top</th>\n",
       "      <td>50s</td>\n",
       "      <td>Normal</td>\n",
       "      <td>2016-08-01 08:00:00</td>\n",
       "      <td>United Kingdom</td>\n",
       "      <td>United Kingdom:England</td>\n",
       "      <td>human</td>\n",
       "      <td>I have lived in my current state of residence ...</td>\n",
       "      <td>I have not been outside of my country of resid...</td>\n",
       "      <td>Graduate or Professional degree</td>\n",
       "      <td>Caucasian</td>\n",
       "      <td>Stool</td>\n",
       "      <td>female</td>\n",
       "    </tr>\n",
       "    <tr>\n",
       "      <th>freq</th>\n",
       "      <td>58</td>\n",
       "      <td>155</td>\n",
       "      <td>3</td>\n",
       "      <td>155</td>\n",
       "      <td>101</td>\n",
       "      <td>283</td>\n",
       "      <td>255</td>\n",
       "      <td>95</td>\n",
       "      <td>132</td>\n",
       "      <td>254</td>\n",
       "      <td>283</td>\n",
       "      <td>145</td>\n",
       "    </tr>\n",
       "  </tbody>\n",
       "</table>\n",
       "</div>"
      ],
      "text/plain": [
       "       GEN_age_cat GEN_bmi_cat GEN_collection_timestamp     GEN_country  \\\n",
       "count          283         283                      283             283   \n",
       "unique           9           5                      278              15   \n",
       "top            50s      Normal      2016-08-01 08:00:00  United Kingdom   \n",
       "freq            58         155                        3             155   \n",
       "\n",
       "              GEN_geo_loc_name GEN_host_common_name  \\\n",
       "count                      283                  283   \n",
       "unique                      44                    1   \n",
       "top     United Kingdom:England                human   \n",
       "freq                       101                  283   \n",
       "\n",
       "                                            GEN_last_move  \\\n",
       "count                                                 283   \n",
       "unique                                                  6   \n",
       "top     I have lived in my current state of residence ...   \n",
       "freq                                                  255   \n",
       "\n",
       "                                          GEN_last_travel  \\\n",
       "count                                                 283   \n",
       "unique                                                  6   \n",
       "top     I have not been outside of my country of resid...   \n",
       "freq                                                   95   \n",
       "\n",
       "                 GEN_level_of_education   GEN_race GEN_sample_type GEN_sex  \n",
       "count                               283        283             283     283  \n",
       "unique                                8          6               1       3  \n",
       "top     Graduate or Professional degree  Caucasian           Stool  female  \n",
       "freq                                132        254             283     145  "
      ]
     },
     "execution_count": 45,
     "metadata": {},
     "output_type": "execute_result"
    }
   ],
   "source": [
    "df_GEN_cat.describe()"
   ]
  },
  {
   "cell_type": "code",
   "execution_count": null,
   "id": "93ed94c5-318b-49fc-86bb-36aef1ea7dc0",
   "metadata": {},
   "outputs": [],
   "source": []
  }
 ],
 "metadata": {
  "kernelspec": {
   "display_name": "Python 3 (ipykernel)",
   "language": "python",
   "name": "python3"
  },
  "language_info": {
   "codemirror_mode": {
    "name": "ipython",
    "version": 3
   },
   "file_extension": ".py",
   "mimetype": "text/x-python",
   "name": "python",
   "nbconvert_exporter": "python",
   "pygments_lexer": "ipython3",
   "version": "3.8.13"
  }
 },
 "nbformat": 4,
 "nbformat_minor": 5
}
