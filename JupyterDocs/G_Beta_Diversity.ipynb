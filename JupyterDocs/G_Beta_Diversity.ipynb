{
 "cells": [
  {
   "cell_type": "markdown",
   "id": "8f6c8e78",
   "metadata": {},
   "source": [
    "# Beta Diversity Analysis, Rarefaction and Significance Tests\n",
    "\n",
    "        "
   ]
  },
  {
   "cell_type": "markdown",
   "id": "c361e07e-334a-4423-a396-4bd5b4f48eb8",
   "metadata": {},
   "source": [
    "#### Notebook overview \n",
    "\n",
    "[1. Setup](#sus)<br>\n",
    "[2. Metadata](#mdata)<br>\n",
    "&nbsp;&nbsp;&nbsp;&nbsp;[2.1 _Importing metadata in panda_](#import)<br>\n",
    "&nbsp;&nbsp;&nbsp;&nbsp;[2.2 _Selection of categorical variables of interest_](#selcatvar)<br>\n",
    "[3. Visual inspection](#visui)<br>\n",
    "&nbsp;&nbsp;&nbsp;&nbsp;[3.1 _3D PCoA plots inspection_](#3d)<br>\n",
    "&nbsp;&nbsp;&nbsp;&nbsp;[3.2 _2D plot of main PCoA axis_](#2d)<br>\n",
    "[4. Statistical analysis](#statistics)<br>\n",
    "&nbsp;&nbsp;&nbsp;&nbsp;[4.1 _Non-parametric multivariate analysis of variance : PERMANOVA testing of variable_](#permanova)<br>\n",
    "&nbsp;&nbsp;&nbsp;&nbsp;[4.2 _Adonis implementation of PERMANOVA tests : Multfactor testing_](#adonis)<br>"
   ]
  },
  {
   "cell_type": "markdown",
   "id": "e36dd16b-51d2-41ca-a5e6-524ec2062002",
   "metadata": {},
   "source": [
    "<a id='sus'></a>\n",
    "## 1. Set_up"
   ]
  },
  {
   "cell_type": "code",
   "execution_count": null,
   "id": "b94119c8-bd2f-4b1f-80d9-0b2118b76141",
   "metadata": {},
   "outputs": [],
   "source": [
    "import os\n",
    "import math\n",
    "import matplotlib.pyplot as plt\n",
    "import numpy as np\n",
    "import pandas as pd\n",
    "import qiime2 as q2\n",
    "import seaborn as sns\n",
    "from skbio import OrdinationResults\n",
    "from qiime2 import Visualization\n",
    "import matplotlib.pyplot as plt\n",
    "from seaborn import scatterplot\n",
    "from matplotlib.patches import Ellipse\n",
    "import matplotlib.transforms as transforms\n",
    "\n",
    "%matplotlib inline"
   ]
  },
  {
   "cell_type": "code",
   "execution_count": null,
   "id": "51b45c82",
   "metadata": {},
   "outputs": [],
   "source": [
    "data_dir ='project_data'"
   ]
  },
  {
   "cell_type": "code",
   "execution_count": null,
   "id": "5f2c6c4b-3eba-40f6-873c-877e8e90b4c7",
   "metadata": {},
   "outputs": [],
   "source": [
    "def confidence_ellipse(x, y, ax, n_std=3.0, facecolor='none', **kwargs):\n",
    "    \"\"\"\n",
    "    Create a plot of the covariance confidence ellipse of *x* and *y*.\n",
    "\n",
    "    Parameters\n",
    "    ----------\n",
    "    x, y : array-like, shape (n, )\n",
    "        Input data.\n",
    "\n",
    "    ax : matplotlib.axes.Axes\n",
    "        The axes object to draw the ellipse into.\n",
    "\n",
    "    n_std : float\n",
    "        The number of standard deviations to determine the ellipse's radiuses.\n",
    "\n",
    "    **kwargs\n",
    "        Forwarded to `~matplotlib.patches.Ellipse`\n",
    "\n",
    "    Returns\n",
    "    -------\n",
    "    matplotlib.patches.Ellipse\n",
    "    \"\"\"\n",
    "    if x.size != y.size:\n",
    "        raise ValueError(\"x and y must be the same size\")\n",
    "\n",
    "    cov = np.cov(x, y)\n",
    "    pearson = cov[0, 1]/np.sqrt(cov[0, 0] * cov[1, 1])\n",
    "    # Using a special case to obtain the eigenvalues of this\n",
    "    # two-dimensional dataset.\n",
    "    ell_radius_x = np.sqrt(1 + pearson)\n",
    "    ell_radius_y = np.sqrt(1 - pearson)\n",
    "    ellipse = Ellipse((0, 0), width=ell_radius_x * 2, height=ell_radius_y * 2,\n",
    "                      facecolor=facecolor, **kwargs)\n",
    "\n",
    "    # Calculating the standard deviation of x from\n",
    "    # the squareroot of the variance and multiplying\n",
    "    # with the given number of standard deviations.\n",
    "    scale_x = np.sqrt(cov[0, 0]) * n_std\n",
    "    mean_x = np.mean(x)\n",
    "\n",
    "    # calculating the standard deviation of y ...\n",
    "    scale_y = np.sqrt(cov[1, 1]) * n_std\n",
    "    mean_y = np.mean(y)\n",
    "\n",
    "    transf = transforms.Affine2D() \\\n",
    "        .rotate_deg(45) \\\n",
    "        .scale(scale_x, scale_y) \\\n",
    "        .translate(mean_x, mean_y)\n",
    "\n",
    "    ellipse.set_transform(transf + ax.transData)\n",
    "    return ax.add_patch(ellipse)"
   ]
  },
  {
   "cell_type": "markdown",
   "id": "8dd57045-52e8-42eb-bbd9-911a5d716fb8",
   "metadata": {},
   "source": [
    "In order to run this code, you need results of functions done on previous file : \n",
    "- `metadata` gathering is done in file A\n",
    "- `diversity computation` is done in file F"
   ]
  },
  {
   "cell_type": "markdown",
   "id": "645c6adf",
   "metadata": {},
   "source": [
    "<a id='sec1'></a>"
   ]
  },
  {
   "cell_type": "markdown",
   "id": "771f38bf",
   "metadata": {},
   "source": [
    "<a id='mdata'></a>\n",
    "## 2. Metadata"
   ]
  },
  {
   "cell_type": "markdown",
   "id": "0cbcb879-3a1a-46a9-8fcf-b1db5aa0c2fe",
   "metadata": {},
   "source": [
    "<a id='import'></a>\n",
    "### 2.1. Importing metadata in panda"
   ]
  },
  {
   "cell_type": "markdown",
   "id": "e3de97f4",
   "metadata": {},
   "source": [
    "Metadata of refers to students additional informations we collected into the file \"sample_meta_data.tsv\"."
   ]
  },
  {
   "cell_type": "code",
   "execution_count": null,
   "id": "d088f4e3",
   "metadata": {},
   "outputs": [],
   "source": [
    "df_meta = pd.read_csv(f'{data_dir}/sample_meta_data.tsv', sep='\\t')"
   ]
  },
  {
   "cell_type": "markdown",
   "id": "536ab82e-6cf1-463b-aa54-931da67744dc",
   "metadata": {},
   "source": [
    "<a id='selcatvar'></a>\n",
    "### 2.2. Selection of categorical variables of interest"
   ]
  },
  {
   "cell_type": "code",
   "execution_count": null,
   "id": "d8a79f44-05b0-45db-af32-8a9edbe41412",
   "metadata": {},
   "outputs": [],
   "source": [
    "df_cat = df_meta.select_dtypes(include=['object'])\n",
    "df_cat.describe()"
   ]
  },
  {
   "cell_type": "code",
   "execution_count": null,
   "id": "9b8b55dc-b193-425d-bcde-569fa6d80e10",
   "metadata": {},
   "outputs": [],
   "source": [
    "for col in df_cat.columns:\n",
    "    print(col)"
   ]
  },
  {
   "cell_type": "code",
   "execution_count": null,
   "id": "58ee098c-a7c4-4885-af9b-8be06d25510d",
   "metadata": {},
   "outputs": [],
   "source": [
    "md = q2.Metadata.load(data_dir + '/sample_meta_data.tsv').to_dataframe()\n",
    "pd.DataFrame([str(sorted(md[col].astype(str).unique())) for col in md.columns],\n",
    "             index=pd.Index(md.columns, name='Column'), columns=['Values'])"
   ]
  },
  {
   "cell_type": "markdown",
   "id": "d3be345f-f8b7-453e-932c-e2690af96ef8",
   "metadata": {},
   "source": [
    "Almost all the variables present in the dataframe df_cat can be interesting to test for beta-analysis. However, for the purpose of our research goals here, we will focus on data about age, BMI, country, level of education"
   ]
  },
  {
   "cell_type": "markdown",
   "id": "bc53eeae-719b-478d-ade3-c242ea69a41f",
   "metadata": {},
   "source": [
    "<a id='visui'></a>\n",
    "## 3. Visual inspection"
   ]
  },
  {
   "cell_type": "markdown",
   "id": "ab2d7889",
   "metadata": {
    "tags": []
   },
   "source": [
    "Beta diversity measures the similarity between samples or groups of samples.        \n",
    "To inspect groupings of beta diversity metrics across metadata categories, we will start by inspecting the principal coordinates (PCoA) plots created with the `qiime diversity core-metrics-phylogenetic` method in file F (directory core-metrics-results)"
   ]
  },
  {
   "cell_type": "markdown",
   "id": "82125c07-39b5-48cc-a229-bf08eecd3925",
   "metadata": {},
   "source": [
    "<a id='3d'></a>\n",
    "### 3.1. 3D PCoA plots inspection"
   ]
  },
  {
   "cell_type": "code",
   "execution_count": null,
   "id": "18b3928c-4a9d-4597-a27f-c364aa983fce",
   "metadata": {},
   "outputs": [],
   "source": [
    "Visualization.load(f'{data_dir}/core-metrics-results/weighted_unifrac_emperor.qzv')"
   ]
  },
  {
   "cell_type": "code",
   "execution_count": null,
   "id": "bf16a980-5075-479e-a76b-c3de173701f5",
   "metadata": {},
   "outputs": [],
   "source": [
    "Visualization.load(f'{data_dir}/core-metrics-results/bray_curtis_emperor.qzv')"
   ]
  },
  {
   "cell_type": "markdown",
   "id": "809151d2-2dc9-4b6e-a35e-e31929b18aff",
   "metadata": {},
   "source": [
    "<a id='2d'></a>\n",
    "### 3.2. 2D plot of main PCoA axis"
   ]
  },
  {
   "cell_type": "code",
   "execution_count": null,
   "id": "d156fe69-fb01-4c85-a7c7-153d9a346a47",
   "metadata": {},
   "outputs": [],
   "source": [
    "pcs = q2.Artifact.load(os.path.join(data_dir, 'core-metrics-results/bray_curtis_pcoa_results.qza'))\n",
    "pcs = pcs.view(OrdinationResults)\n",
    "pcs_data = pcs.samples.iloc[:,:3]\n",
    "pcs_data.columns = ['Axis 1', 'Axis 2', 'Axis 3']"
   ]
  },
  {
   "cell_type": "code",
   "execution_count": null,
   "id": "8fc785eb-baee-471e-bc2f-a1751c441815",
   "metadata": {},
   "outputs": [],
   "source": [
    "pcs_data.head()"
   ]
  },
  {
   "cell_type": "code",
   "execution_count": null,
   "id": "31d43673-c039-4a19-a6a1-a60cc0d4f082",
   "metadata": {},
   "outputs": [],
   "source": [
    "pcs_data_with_md = pcs_data.join(md['NUT_vegetable_frequency'])"
   ]
  },
  {
   "cell_type": "code",
   "execution_count": null,
   "id": "18e7a924-a064-47ca-81ba-ebd99cc5ec12",
   "metadata": {},
   "outputs": [],
   "source": [
    "selNe= pcs_data_with_md.loc[pcs_data_with_md['NUT_vegetable_frequency']=='Never']\n",
    "selRa= pcs_data_with_md.loc[pcs_data_with_md['NUT_vegetable_frequency']=='Rarely']\n",
    "selO= pcs_data_with_md.loc[pcs_data_with_md['NUT_vegetable_frequency']=='Occasionally']\n",
    "selRe= pcs_data_with_md.loc[pcs_data_with_md['NUT_vegetable_frequency']=='Regularly']\n",
    "selD= pcs_data_with_md.loc[pcs_data_with_md['NUT_vegetable_frequency']=='Daily']\n",
    "selNp= pcs_data_with_md.loc[pcs_data_with_md['NUT_vegetable_frequency']=='Not provided']\n",
    "\n",
    "pcs_data_with_md['NUT_vegetable_frequency'] = pd.Categorical(pcs_data_with_md['NUT_vegetable_frequency'], \n",
    "                      categories=[\"Never\", \"Rarely\", \"Occasionally\", \"Regularly\", \"Daily\", 'Not provided'],\n",
    "                      ordered=True)\n",
    "\n",
    "\n",
    "with sns.axes_style(\"whitegrid\"):\n",
    "    fig, ax = plt.subplots()\n",
    "    sns.set(rc={'figure.figsize':(10,10)}, style='white')\n",
    "    sns.scatterplot(data=pcs_data_with_md, x='Axis 1', y='Axis 2', ax=ax, hue=pcs_data_with_md['NUT_vegetable_frequency'],palette='rocket')\n",
    "        \n",
    "    ax.legend(loc='center left', bbox_to_anchor=(1, 0.5), fontsize=14, title_fontsize=14)\n",
    "    legend = ax.get_legend()\n",
    "    legend.set_title('NUT_vegetable_frequency')\n",
    "    \n",
    "\n",
    "    ax.tick_params(axis='x', which='major', bottom=True) \n",
    "    ax.tick_params(axis='y', which='major', left=True)\n",
    "\n",
    "    confidence_ellipse(selRe['Axis 2'], selRe['Axis 1'], ax, edgecolor='red')\n",
    "    confidence_ellipse(selNp['Axis 2'], selNp['Axis 1'], ax, edgecolor='lightsalmon')\n",
    "    confidence_ellipse(selD['Axis 2'], selD['Axis 1'], ax, edgecolor='orangered')\n",
    "    confidence_ellipse(selNe['Axis 2'], selNe['Axis 1'], ax, edgecolor='black')\n",
    "    confidence_ellipse(selO['Axis 2'], selO['Axis 1'], ax, edgecolor='mediumvioletred')\n",
    "    confidence_ellipse(selRa['Axis 2'], selRa['Axis 1'], ax, edgecolor='purple')\n",
    "    \n",
    "    \n",
    "    plt.savefig('spveg2.png',bbox_inches='tight', dpi=300)\n"
   ]
  },
  {
   "cell_type": "markdown",
   "id": "9c86cacf-4b51-4727-8484-19a08f9c408d",
   "metadata": {},
   "source": [
    "<a id='statistics'></a>\n",
    "## 4.Statistical analysis"
   ]
  },
  {
   "cell_type": "markdown",
   "id": "3788956f",
   "metadata": {},
   "source": [
    "<a id='permanova'></a>\n",
    "### 4.1. Non-parametric multivariate analysis of variance : PERMANOVA testing of variable\n",
    "\n",
    "Associations between beta diversity and categorical variables can be statistically tested using a PERMANOVA test. This is a non-parametric statistical test that checks the null hypothesis that the distances between samples of one group are equivalent to distances to samples of another group. If this null hypothesis is rejected, we can infer that the distances between samples of one group differ significantly from the distances to samples in at least one other group. We can perform a PERMANOVA test checking whether the observed categories are significantly grouped in QIIME 2 with the `qiime diversity beta-group-significance` method: "
   ]
  },
  {
   "cell_type": "code",
   "execution_count": null,
   "id": "48ada391-3c1c-49cb-b760-3caf34868dff",
   "metadata": {},
   "outputs": [],
   "source": [
    "os.mkdir('/home/jovyan/HealthyFood/JupyterDocs/project_data/core-metrics-results-bd')"
   ]
  },
  {
   "cell_type": "markdown",
   "id": "aa0a9d90-b619-47a3-93e9-50db33544f41",
   "metadata": {},
   "source": [
    "**a)** Example : variable \"NUT_prepared_meals_frequency\""
   ]
  },
  {
   "cell_type": "markdown",
   "id": "5f1872a8-7e3b-46b3-9b30-fd37aaf3e256",
   "metadata": {},
   "source": [
    "##### *with  weighted UniFrac distance matrix*"
   ]
  },
  {
   "cell_type": "code",
   "execution_count": null,
   "id": "b4fbd761-5c4c-4145-be40-a068226b79df",
   "metadata": {},
   "outputs": [],
   "source": [
    "! qiime diversity beta-group-significance \\\n",
    "    --i-distance-matrix $data_dir/core-metrics-results/weighted_unifrac_distance_matrix.qza \\\n",
    "    --m-metadata-file $data_dir/sample_meta_data.tsv \\\n",
    "    --m-metadata-column NUT_prepared_meals_frequency \\\n",
    "--p-pairwise \\\n",
    "--o-visualization $data_dir/core-metrics-results-bd/wu_pmf-significance.qzv"
   ]
  },
  {
   "cell_type": "code",
   "execution_count": null,
   "id": "264bb20d-e5ac-4687-a507-e4d020d00822",
   "metadata": {},
   "outputs": [],
   "source": [
    "Visualization.load(f'{data_dir}/core-metrics-results-bd/wu_vf-significance.qzv')"
   ]
  },
  {
   "cell_type": "markdown",
   "id": "3e81dc5c-c4bd-44ad-928f-49698d731cd1",
   "metadata": {},
   "source": [
    "##### *with Bray curtis distance matrix*"
   ]
  },
  {
   "cell_type": "code",
   "execution_count": null,
   "id": "bf1faed0-e102-45b8-b90d-f0375cc3ee96",
   "metadata": {},
   "outputs": [],
   "source": [
    "! qiime diversity beta-group-significance \\\n",
    "    --i-distance-matrix $data_dir/core-metrics-results/bray_curtis_distance_matrix.qza \\\n",
    "    --m-metadata-file $data_dir/sample_meta_data.tsv \\\n",
    "    --m-metadata-column GEN_sex\\\n",
    "--p-pairwise \\\n",
    "--o-visualization $data_dir/core-metrics-results-bd/bc_sex-significance.qzv"
   ]
  },
  {
   "cell_type": "code",
   "execution_count": null,
   "id": "d8e7c9eb-bea1-429f-b1d1-4762ccd44710",
   "metadata": {},
   "outputs": [],
   "source": [
    "Visualization.load(f'{data_dir}/core-metrics-results-bd/bc_sex-significance.qzv')"
   ]
  },
  {
   "cell_type": "markdown",
   "id": "1fe2a3cb",
   "metadata": {},
   "source": [
    "<a id='adonis'></a>\n",
    "### 4.2. Adonis implementation of PERMANOVA tests : Multfactor testing\n",
    "\n",
    "The `adonis` implementation of PERMANOVA (part of the r-vegan package) accepts a formula as input, which can consist of one or more independent terms. This might be useful for testing which covariates explain the most variation in our datasets."
   ]
  },
  {
   "cell_type": "markdown",
   "id": "d6464cf2-504a-4290-83bf-2f2c952d470b",
   "metadata": {},
   "source": [
    "##### Hypothesis 1 : Milk products "
   ]
  },
  {
   "cell_type": "code",
   "execution_count": null,
   "id": "595750d1-2eba-4bbb-8f62-8dc4874e0aed",
   "metadata": {},
   "outputs": [],
   "source": [
    "# testing with bray curtis matrix\n",
    "! qiime diversity adonis \\\n",
    "    --i-distance-matrix $data_dir/core-metrics-results/bray_curtis_distance_matrix.qza \\\n",
    "    --m-metadata-file $data_dir/sample_meta_data.tsv \\\n",
    "    --p-formula \"NUT_milk_cheese_frequency*NUT_milk_substitute_frequency*NUT_vitamin_d_supplement_frequency\" \\\n",
    "    --o-visualization $data_dir/core-metrics-results-bd/adonis-bc-H1.qzv\n",
    "Visualization.load(f'{data_dir}/core-metrics-results-bd/adonis-bc-H1.qzv')"
   ]
  },
  {
   "cell_type": "code",
   "execution_count": null,
   "id": "9745ae97-8391-417f-bdd9-4b26aa896117",
   "metadata": {},
   "outputs": [],
   "source": [
    "# testing with weighted UniFrac matrix\n",
    "! qiime diversity adonis \\\n",
    "    --i-distance-matrix $data_dir/core-metrics-results/weighted_unifrac_distance_matrix.qza \\\n",
    "    --m-metadata-file $data_dir/sample_meta_data.tsv \\\n",
    "    --p-formula \"NUT_milk_cheese_frequency*NUT_milk_substitute_frequency*NUT_vitamin_d_supplement_frequency\" \\\n",
    "    --o-visualization $data_dir/core-metrics-results-bd/adonis-wu-H1.qzv\n",
    "Visualization.load(f'{data_dir}/core-metrics-results-bd/adonis-wu-H1.qzv')"
   ]
  },
  {
   "cell_type": "markdown",
   "id": "3fc489ae-3728-4edf-8037-1de18816d4f2",
   "metadata": {},
   "source": [
    "#####  Hypothesis 2 : Mediterranean diet"
   ]
  },
  {
   "cell_type": "code",
   "execution_count": null,
   "id": "3cc89274-7780-4226-a7b6-1fe57fcb076e",
   "metadata": {},
   "outputs": [],
   "source": [
    "# testing with bray curtis matrix\n",
    "! qiime diversity adonis \\\n",
    "    --i-distance-matrix $data_dir/core-metrics-results/bray_curtis_distance_matrix.qza \\\n",
    "    --m-metadata-file $data_dir/sample_meta_data.tsv \\\n",
    "    --p-formula \"NUT_olive_oil*NUT_seafood_frequency*NUT_vegetable_frequency*NUT_fruit_frequency*NUT_whole_grain_frequency\" \\\n",
    "    --o-visualization $data_dir/core-metrics-results-bd/adonis-bc-H2.qzv\n",
    "Visualization.load(f'{data_dir}/core-metrics-results-bd/adonis-bc-H2.qzv')"
   ]
  },
  {
   "cell_type": "code",
   "execution_count": null,
   "id": "5298a93f-ec7d-402b-81af-dbf7c5368025",
   "metadata": {},
   "outputs": [],
   "source": [
    "# testing with weighted unifrac matrix\n",
    "! qiime diversity adonis \\\n",
    "    --i-distance-matrix $data_dir/core-metrics-results/weighted_unifrac_distance_matrix.qza \\\n",
    "    --m-metadata-file $data_dir/sample_meta_data.tsv \\\n",
    "    --p-formula \"NUT_olive_oil*NUT_seafood_frequency*NUT_vegetable_frequency*NUT_fruit_frequency*NUT_whole_grain_frequency\" \\\n",
    "    --o-visualization $data_dir/core-metrics-results-bd/adonis-wu-H2.qzv\n",
    "Visualization.load(f'{data_dir}/core-metrics-results-bd/adonis-wu-H2.qzv')"
   ]
  },
  {
   "cell_type": "markdown",
   "id": "cf946a47-a5c2-48a3-8577-d34ffdd87584",
   "metadata": {},
   "source": [
    "#####  Hypothesis 3 : Poultry and Meat"
   ]
  },
  {
   "cell_type": "code",
   "execution_count": null,
   "id": "337a7a37-600e-435f-8a2b-cc2eace15a7b",
   "metadata": {},
   "outputs": [],
   "source": [
    "# testing with bray curtis matrix\n",
    "! qiime diversity adonis \\\n",
    "    --i-distance-matrix $data_dir/core-metrics-results/bray_curtis_distance_matrix.qza \\\n",
    "    --m-metadata-file $data_dir/sample_meta_data.tsv \\\n",
    "    --p-formula \"NUT_whole_eggs*NUT_poultry_frequency*NUT_high_fat_red_meat_frequency*NUT_meat_eggs_frequency*NUT_red_meat_frequency*NUT_vitamin_b_supplement_frequency\" \\\n",
    "    --o-visualization $data_dir/core-metrics-results-bd/adonis-bc-H3.qzv\n",
    "Visualization.load(f'{data_dir}/core-metrics-results-bd/adonis-bc-H3.qzv')"
   ]
  },
  {
   "cell_type": "code",
   "execution_count": null,
   "id": "6d1734d8-1c91-4c53-af83-98a113914e2b",
   "metadata": {},
   "outputs": [],
   "source": [
    "# testing with weighted unifrac matrix\n",
    "! qiime diversity adonis \\\n",
    "    --i-distance-matrix $data_dir/core-metrics-results/weighted_unifrac_distance_matrix.qza \\\n",
    "    --m-metadata-file $data_dir/sample_meta_data.tsv \\\n",
    "    --p-formula \"NUT_whole_eggs*NUT_poultry_frequency*NUT_high_fat_red_meat_frequency*NUT_meat_eggs_frequency*NUT_red_meat_frequency*NUT_vitamin_b_supplement_frequency\" \\\n",
    "    --o-visualization $data_dir/core-metrics-results-bd/adonis-wu-H3.qzv\n",
    "Visualization.load(f'{data_dir}/core-metrics-results-bd/adonis-wu-H3.qzv')"
   ]
  },
  {
   "cell_type": "code",
   "execution_count": null,
   "id": "ca02061a-f7c7-4243-9932-c401b485e435",
   "metadata": {},
   "outputs": [],
   "source": [
    "# testing with bray curtis matrix\n",
    "! qiime diversity adonis \\\n",
    "    --i-distance-matrix $data_dir/core-metrics-results/bray_curtis_distance_matrix.qza \\\n",
    "    --m-metadata-file $data_dir/sample_meta_data.tsv \\\n",
    "    --p-formula \"NUT_alcohol_frequency*NUT_drinks_per_session\" \\\n",
    "    --o-visualization $data_dir/core-metrics-results-bd/adonis-bc-H4.qzv\n",
    "Visualization.load(f'{data_dir}/core-metrics-results-bd/adonis-bc-H4.qzv')"
   ]
  },
  {
   "cell_type": "code",
   "execution_count": null,
   "id": "9d2ca2ab-bdef-400c-ab2e-9b00a351e643",
   "metadata": {},
   "outputs": [],
   "source": [
    "# testing with weighted unifrac matrix\n",
    "! qiime diversity adonis \\\n",
    "    --i-distance-matrix $data_dir/core-metrics-results/weighted_unifrac_distance_matrix.qza \\\n",
    "    --m-metadata-file $data_dir/sample_meta_data.tsv \\\n",
    "    --p-formula \"NUT_alcohol_frequency*NUT_drinks_per_session\" \\\n",
    "    --o-visualization $data_dir/core-metrics-results-bd/adonis-wu-H4.qzv\n",
    "Visualization.load(f'{data_dir}/core-metrics-results-bd/adonis-wu-H4.qzv')"
   ]
  }
 ],
 "metadata": {
  "kernelspec": {
   "display_name": "Python 3 (ipykernel)",
   "language": "python",
   "name": "python3"
  },
  "language_info": {
   "codemirror_mode": {
    "name": "ipython",
    "version": 3
   },
   "file_extension": ".py",
   "mimetype": "text/x-python",
   "name": "python",
   "nbconvert_exporter": "python",
   "pygments_lexer": "ipython3",
   "version": "3.8.13"
  },
  "toc": {
   "base_numbering": 1,
   "nav_menu": {},
   "number_sections": true,
   "sideBar": true,
   "skip_h1_title": false,
   "title_cell": "Table of Contents",
   "title_sidebar": "Contents",
   "toc_cell": false,
   "toc_position": {},
   "toc_section_display": true,
   "toc_window_display": false
  }
 },
 "nbformat": 4,
 "nbformat_minor": 5
}
