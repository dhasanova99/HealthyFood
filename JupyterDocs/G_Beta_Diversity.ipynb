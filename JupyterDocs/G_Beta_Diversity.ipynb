{
 "cells": [
  {
   "cell_type": "markdown",
   "id": "8f6c8e78",
   "metadata": {},
   "source": [
    "# Beta Diversity Analysis, Rarefaction and Significance Tests\n",
    "\n",
    "        "
   ]
  },
  {
   "cell_type": "markdown",
   "id": "e36dd16b-51d2-41ca-a5e6-524ec2062002",
   "metadata": {},
   "source": [
    "## 0. Set_up"
   ]
  },
  {
   "cell_type": "code",
   "execution_count": 22,
   "id": "b94119c8-bd2f-4b1f-80d9-0b2118b76141",
   "metadata": {},
   "outputs": [],
   "source": [
    "import os\n",
    "import pandas as pd\n",
    "import qiime2 as q2\n",
    "from skbio import OrdinationResults\n",
    "from qiime2 import Visualization\n",
    "import matplotlib.pyplot as plt\n",
    "from seaborn import scatterplot\n",
    "\n",
    "%matplotlib inline"
   ]
  },
  {
   "cell_type": "code",
   "execution_count": 4,
   "id": "51b45c82",
   "metadata": {},
   "outputs": [],
   "source": [
    "data_dir ='project_data'"
   ]
  },
  {
   "cell_type": "code",
   "execution_count": 3,
   "id": "adc8de48-a8bf-4772-8eb2-1ad895608711",
   "metadata": {},
   "outputs": [
    {
     "name": "stdout",
     "output_type": "stream",
     "text": [
      "A_FirstLook.ipynb                \u001b[0m\u001b[01;34mfigures\u001b[0m/\n",
      "B_Eating_habits.ipynb            G_Beta_Diversity.ipynb\n",
      "C_Sequence_import.ipynb          H_DifferentialAbundance.ipynb\n",
      "D_Taxonomy_NCBI.ipynb            I_Metagenomics.ipynb\n",
      "D_Taxonomy_pre-classifier.ipynb  J_Functional_Redoundancy_and_Stability.ipynb\n",
      "D_Taxonomy_SILVA.ipynb           \u001b[01;34mproject_data\u001b[0m/\n",
      "E_Phylogeny.ipynb                Z_GanttChart.ipynb\n",
      "F_Alpha_Diversity.ipynb\n"
     ]
    }
   ],
   "source": [
    "ls"
   ]
  },
  {
   "cell_type": "markdown",
   "id": "8dd57045-52e8-42eb-bbd9-911a5d716fb8",
   "metadata": {},
   "source": [
    "In order to run this code, you need results of functions done on previous file : \n",
    "- `metadata` gathering is done in file A\n",
    "- `diversity computation` is done in file F"
   ]
  },
  {
   "cell_type": "markdown",
   "id": "645c6adf",
   "metadata": {},
   "source": [
    "<a id='sec1'></a>"
   ]
  },
  {
   "cell_type": "markdown",
   "id": "771f38bf",
   "metadata": {},
   "source": [
    "## 1. Import metadata"
   ]
  },
  {
   "cell_type": "markdown",
   "id": "e3de97f4",
   "metadata": {},
   "source": [
    "Metadata of refers to students additional informations we collected into the file \"cleaned_sample_meta_data.tsv\"."
   ]
  },
  {
   "cell_type": "code",
   "execution_count": 14,
   "id": "d088f4e3",
   "metadata": {},
   "outputs": [],
   "source": [
    "df_meta = pd.read_csv(f'{data_dir}/sample_meta_data.tsv', sep='\\t')"
   ]
  },
  {
   "cell_type": "markdown",
   "id": "7302c11f",
   "metadata": {},
   "source": [
    "## 2.Compute diversity"
   ]
  },
  {
   "cell_type": "markdown",
   "id": "ab2d7889",
   "metadata": {
    "tags": []
   },
   "source": [
    "Beta diversity measures the similarity between samples or groups of samples.        \n",
    "To inspect groupings of beta diversity metrics across metadata categories, we will start by inspecting the principal coordinates (PCoA) plots created with the `qiime diversity core-metrics-phylogenetic` method in file F (directory core-metrics-results)"
   ]
  },
  {
   "cell_type": "markdown",
   "id": "ae903eef-8740-4c6b-883c-36f6f96e317f",
   "metadata": {},
   "source": [
    "#### **Selection of categorical variables of interest**"
   ]
  },
  {
   "cell_type": "code",
   "execution_count": 23,
   "id": "d8a79f44-05b0-45db-af32-8a9edbe41412",
   "metadata": {},
   "outputs": [
    {
     "data": {
      "text/html": [
       "<div>\n",
       "<style scoped>\n",
       "    .dataframe tbody tr th:only-of-type {\n",
       "        vertical-align: middle;\n",
       "    }\n",
       "\n",
       "    .dataframe tbody tr th {\n",
       "        vertical-align: top;\n",
       "    }\n",
       "\n",
       "    .dataframe thead th {\n",
       "        text-align: right;\n",
       "    }\n",
       "</style>\n",
       "<table border=\"1\" class=\"dataframe\">\n",
       "  <thead>\n",
       "    <tr style=\"text-align: right;\">\n",
       "      <th></th>\n",
       "      <th>GEN_age_cat</th>\n",
       "      <th>GEN_bmi_cat</th>\n",
       "      <th>GEN_collection_timestamp</th>\n",
       "      <th>GEN_country</th>\n",
       "      <th>GEN_geo_loc_name</th>\n",
       "      <th>GEN_host_common_name</th>\n",
       "      <th>GEN_last_move</th>\n",
       "      <th>GEN_last_travel</th>\n",
       "      <th>GEN_level_of_education</th>\n",
       "      <th>GEN_race</th>\n",
       "      <th>...</th>\n",
       "      <th>NUT_probiotic_frequency</th>\n",
       "      <th>NUT_red_meat_frequency</th>\n",
       "      <th>NUT_salted_snacks_frequency</th>\n",
       "      <th>NUT_seafood_frequency</th>\n",
       "      <th>NUT_sugary_sweets_frequency</th>\n",
       "      <th>NUT_vegetable_frequency</th>\n",
       "      <th>NUT_vitamin_b_supplement_frequency</th>\n",
       "      <th>NUT_vitamin_d_supplement_frequency</th>\n",
       "      <th>NUT_whole_eggs</th>\n",
       "      <th>NUT_whole_grain_frequency</th>\n",
       "    </tr>\n",
       "  </thead>\n",
       "  <tbody>\n",
       "    <tr>\n",
       "      <th>count</th>\n",
       "      <td>523</td>\n",
       "      <td>523</td>\n",
       "      <td>523</td>\n",
       "      <td>523</td>\n",
       "      <td>523</td>\n",
       "      <td>523</td>\n",
       "      <td>523</td>\n",
       "      <td>523</td>\n",
       "      <td>523</td>\n",
       "      <td>523</td>\n",
       "      <td>...</td>\n",
       "      <td>523</td>\n",
       "      <td>523</td>\n",
       "      <td>523</td>\n",
       "      <td>523</td>\n",
       "      <td>523</td>\n",
       "      <td>523</td>\n",
       "      <td>523</td>\n",
       "      <td>523</td>\n",
       "      <td>523</td>\n",
       "      <td>523</td>\n",
       "    </tr>\n",
       "    <tr>\n",
       "      <th>unique</th>\n",
       "      <td>9</td>\n",
       "      <td>5</td>\n",
       "      <td>505</td>\n",
       "      <td>17</td>\n",
       "      <td>62</td>\n",
       "      <td>1</td>\n",
       "      <td>6</td>\n",
       "      <td>6</td>\n",
       "      <td>8</td>\n",
       "      <td>6</td>\n",
       "      <td>...</td>\n",
       "      <td>6</td>\n",
       "      <td>6</td>\n",
       "      <td>6</td>\n",
       "      <td>6</td>\n",
       "      <td>6</td>\n",
       "      <td>6</td>\n",
       "      <td>6</td>\n",
       "      <td>6</td>\n",
       "      <td>6</td>\n",
       "      <td>6</td>\n",
       "    </tr>\n",
       "    <tr>\n",
       "      <th>top</th>\n",
       "      <td>50s</td>\n",
       "      <td>Normal</td>\n",
       "      <td>2016-08-01 08:00:00</td>\n",
       "      <td>United Kingdom</td>\n",
       "      <td>United Kingdom:England</td>\n",
       "      <td>human</td>\n",
       "      <td>I have lived in my current state of residence ...</td>\n",
       "      <td>I have not been outside of my country of resid...</td>\n",
       "      <td>Graduate or Professional degree</td>\n",
       "      <td>Caucasian</td>\n",
       "      <td>...</td>\n",
       "      <td>Never</td>\n",
       "      <td>Occasionally</td>\n",
       "      <td>Rarely</td>\n",
       "      <td>Occasionally</td>\n",
       "      <td>Rarely</td>\n",
       "      <td>Daily</td>\n",
       "      <td>Never</td>\n",
       "      <td>Never</td>\n",
       "      <td>Occasionally</td>\n",
       "      <td>Regularly</td>\n",
       "    </tr>\n",
       "    <tr>\n",
       "      <th>freq</th>\n",
       "      <td>121</td>\n",
       "      <td>274</td>\n",
       "      <td>5</td>\n",
       "      <td>255</td>\n",
       "      <td>169</td>\n",
       "      <td>523</td>\n",
       "      <td>475</td>\n",
       "      <td>168</td>\n",
       "      <td>232</td>\n",
       "      <td>474</td>\n",
       "      <td>...</td>\n",
       "      <td>216</td>\n",
       "      <td>200</td>\n",
       "      <td>198</td>\n",
       "      <td>232</td>\n",
       "      <td>150</td>\n",
       "      <td>260</td>\n",
       "      <td>328</td>\n",
       "      <td>268</td>\n",
       "      <td>215</td>\n",
       "      <td>147</td>\n",
       "    </tr>\n",
       "  </tbody>\n",
       "</table>\n",
       "<p>4 rows × 39 columns</p>\n",
       "</div>"
      ],
      "text/plain": [
       "       GEN_age_cat GEN_bmi_cat GEN_collection_timestamp     GEN_country  \\\n",
       "count          523         523                      523             523   \n",
       "unique           9           5                      505              17   \n",
       "top            50s      Normal      2016-08-01 08:00:00  United Kingdom   \n",
       "freq           121         274                        5             255   \n",
       "\n",
       "              GEN_geo_loc_name GEN_host_common_name  \\\n",
       "count                      523                  523   \n",
       "unique                      62                    1   \n",
       "top     United Kingdom:England                human   \n",
       "freq                       169                  523   \n",
       "\n",
       "                                            GEN_last_move  \\\n",
       "count                                                 523   \n",
       "unique                                                  6   \n",
       "top     I have lived in my current state of residence ...   \n",
       "freq                                                  475   \n",
       "\n",
       "                                          GEN_last_travel  \\\n",
       "count                                                 523   \n",
       "unique                                                  6   \n",
       "top     I have not been outside of my country of resid...   \n",
       "freq                                                  168   \n",
       "\n",
       "                 GEN_level_of_education   GEN_race  ...  \\\n",
       "count                               523        523  ...   \n",
       "unique                                8          6  ...   \n",
       "top     Graduate or Professional degree  Caucasian  ...   \n",
       "freq                                232        474  ...   \n",
       "\n",
       "       NUT_probiotic_frequency NUT_red_meat_frequency  \\\n",
       "count                      523                    523   \n",
       "unique                       6                      6   \n",
       "top                      Never           Occasionally   \n",
       "freq                       216                    200   \n",
       "\n",
       "       NUT_salted_snacks_frequency NUT_seafood_frequency  \\\n",
       "count                          523                   523   \n",
       "unique                           6                     6   \n",
       "top                         Rarely          Occasionally   \n",
       "freq                           198                   232   \n",
       "\n",
       "       NUT_sugary_sweets_frequency NUT_vegetable_frequency  \\\n",
       "count                          523                     523   \n",
       "unique                           6                       6   \n",
       "top                         Rarely                   Daily   \n",
       "freq                           150                     260   \n",
       "\n",
       "       NUT_vitamin_b_supplement_frequency NUT_vitamin_d_supplement_frequency  \\\n",
       "count                                 523                                523   \n",
       "unique                                  6                                  6   \n",
       "top                                 Never                              Never   \n",
       "freq                                  328                                268   \n",
       "\n",
       "       NUT_whole_eggs NUT_whole_grain_frequency  \n",
       "count             523                       523  \n",
       "unique              6                         6  \n",
       "top      Occasionally                 Regularly  \n",
       "freq              215                       147  \n",
       "\n",
       "[4 rows x 39 columns]"
      ]
     },
     "execution_count": 23,
     "metadata": {},
     "output_type": "execute_result"
    }
   ],
   "source": [
    "df_cat = df_meta.select_dtypes(include=['object'])\n",
    "df_cat.describe()"
   ]
  },
  {
   "cell_type": "code",
   "execution_count": 26,
   "id": "9b8b55dc-b193-425d-bcde-569fa6d80e10",
   "metadata": {},
   "outputs": [
    {
     "name": "stdout",
     "output_type": "stream",
     "text": [
      "GEN_age_cat\n",
      "GEN_bmi_cat\n",
      "GEN_collection_timestamp\n",
      "GEN_country\n",
      "GEN_geo_loc_name\n",
      "GEN_host_common_name\n",
      "GEN_last_move\n",
      "GEN_last_travel\n",
      "GEN_level_of_education\n",
      "GEN_race\n",
      "GEN_sample_type\n",
      "GEN_sex\n",
      "NUT_alcohol_frequency\n",
      "NUT_artificial_sweeteners\n",
      "NUT_diet_type\n",
      "NUT_drinks_per_session\n",
      "NUT_fed_as_infant\n",
      "NUT_fermented_plant_frequency\n",
      "NUT_frozen_dessert_frequency\n",
      "NUT_fruit_frequency\n",
      "NUT_gluten\n",
      "NUT_high_fat_red_meat_frequency\n",
      "NUT_homecooked_meals_frequency\n",
      "NUT_meat_eggs_frequency\n",
      "NUT_milk_cheese_frequency\n",
      "NUT_milk_substitute_frequency\n",
      "NUT_olive_oil\n",
      "NUT_poultry_frequency\n",
      "NUT_prepared_meals_frequency\n",
      "NUT_probiotic_frequency\n",
      "NUT_red_meat_frequency\n",
      "NUT_salted_snacks_frequency\n",
      "NUT_seafood_frequency\n",
      "NUT_sugary_sweets_frequency\n",
      "NUT_vegetable_frequency\n",
      "NUT_vitamin_b_supplement_frequency\n",
      "NUT_vitamin_d_supplement_frequency\n",
      "NUT_whole_eggs\n",
      "NUT_whole_grain_frequency\n"
     ]
    }
   ],
   "source": [
    "for col in df_cat.columns:\n",
    "    print(col)"
   ]
  },
  {
   "cell_type": "markdown",
   "id": "d3be345f-f8b7-453e-932c-e2690af96ef8",
   "metadata": {},
   "source": [
    "Almost all the variables present in the dataframe df_cat can be interesting to test for beta-analysis. However, for the purpose of our research goals here, we will focus on data about age, BMI, country, level of education"
   ]
  },
  {
   "cell_type": "markdown",
   "id": "3788956f",
   "metadata": {},
   "source": [
    "#### **Permanova testing of categorical variables associations**\n",
    "\n",
    "Associations between beta diversity and categorical variables can be statistically tested using a PERMANOVA test. This is a non-parametric statistical test that checks the null hypothesis that the distances between samples of one group are equivalent to distances to samples of another group. If this null hypothesis is rejected, we can infer that the distances between samples of one group differ significantly from the distances to samples in at least one other group. We can perform a PERMANOVA test checking whether the observed categories are significantly grouped in QIIME 2 with the `qiime diversity beta-group-significance` method: "
   ]
  },
  {
   "cell_type": "code",
   "execution_count": 40,
   "id": "48ada391-3c1c-49cb-b760-3caf34868dff",
   "metadata": {},
   "outputs": [],
   "source": [
    "os.mkdir('/home/jovyan/HealthyFood/JupyterDocs/project_data/core-metrics-results-bd')"
   ]
  },
  {
   "cell_type": "markdown",
   "id": "69c1f0ca-0352-4bc1-9036-4cc9d43a18e2",
   "metadata": {},
   "source": [
    "**Bray curtis emperor**"
   ]
  },
  {
   "cell_type": "code",
   "execution_count": 53,
   "id": "13b4adaf",
   "metadata": {},
   "outputs": [
    {
     "name": "stdout",
     "output_type": "stream",
     "text": [
      "\u001b[32mSaved Visualization to: project_data/core-metrics-results-bd/bc-age-significance.qzv\u001b[0m\n",
      "\u001b[0m"
     ]
    }
   ],
   "source": [
    "! qiime diversity beta-group-significance \\\n",
    "    --i-distance-matrix $data_dir/core-metrics-results/bray_curtis_distance_matrix.qza \\\n",
    "    --m-metadata-file $data_dir/sample_meta_data.tsv \\\n",
    "    --m-metadata-column GEN_age_cat \\\n",
    "--p-pairwise\\\n",
    "--o-visualization $data_dir/core-metrics-results-bd/bc-age-significance.qzv"
   ]
  },
  {
   "cell_type": "code",
   "execution_count": 54,
   "id": "c656240d",
   "metadata": {},
   "outputs": [
    {
     "data": {
      "text/html": [
       "<div><img onload=\"(function(div, url){\n",
       "if (typeof require !== 'undefined') {\n",
       "    var baseURL = require.toUrl('').split('/').slice(0, -2).join('/');\n",
       "} else {\n",
       "    var baseURL = JSON.parse(\n",
       "        document.getElementById('jupyter-config-data').innerHTML\n",
       "    ).baseUrl.slice(0, -1);\n",
       "}\n",
       "url = baseURL + url;\n",
       "fetch(url).then(function(res) {\n",
       "    if (res.status === 404) {\n",
       "        div.innerHTML = 'Install QIIME 2 Jupyter extension with:<br />' +\n",
       "                        '<code>jupyter serverextension enable --py qiime2' +\n",
       "                        ' --sys-prefix</code><br />then restart your server.' +\n",
       "                        '<br /><br />(Interactive output not available on ' +\n",
       "                        'static notebook viewer services like nbviewer.)';\n",
       "    } else if (res.status === 409) {\n",
       "        div.innerHTML = 'Visualization no longer in scope. Re-run this cell' +\n",
       "                        ' to see the visualization.';\n",
       "    } else if (res.ok) {\n",
       "        url = res.url;\n",
       "        div.innerHTML = '<iframe src=\\'' + url + '\\' style=\\'' +\n",
       "                        'width: 100%; height: 700px; border: 0;\\'>' +\n",
       "                        '</iframe><hr />Open in a: <a href=\\'' + url + '\\'' +\n",
       "                        ' target=\\'_blank\\'>new window</a>'\n",
       "    } else {\n",
       "        div.innerHTML = 'Something has gone wrong. Check notebook server for' +\n",
       "                        ' errors.';\n",
       "    }\n",
       "});\n",
       "})(this.parentElement, '/qiime2/redirect?location=/tmp/qiime2-archive-hs4b9apv')\" src=\"data:image/gif;base64,R0lGODlhAQABAIAAAP///wAAACH5BAEAAAAALAAAAAABAAEAAAICRAEAOw==\" /></div>"
      ],
      "text/plain": [
       "<visualization: Visualization uuid: 0472624f-796b-4cda-91a7-6afcb78559dc>"
      ]
     },
     "execution_count": 54,
     "metadata": {},
     "output_type": "execute_result"
    }
   ],
   "source": [
    "Visualization.load(f'{data_dir}/core-metrics-results-bd/bc-age-significance.qzv')"
   ]
  },
  {
   "cell_type": "markdown",
   "id": "f8cad0e9-82e3-41d1-b4e5-0cfaa0bb29f3",
   "metadata": {},
   "source": [
    "**Weighted unifrac emperor**"
   ]
  },
  {
   "cell_type": "code",
   "execution_count": 55,
   "id": "b4fbd761-5c4c-4145-be40-a068226b79df",
   "metadata": {},
   "outputs": [
    {
     "name": "stdout",
     "output_type": "stream",
     "text": [
      "\u001b[32mSaved Visualization to: project_data/core-metrics-results-bd/wu_age-significance.qzv\u001b[0m\n",
      "\u001b[0m"
     ]
    }
   ],
   "source": [
    "! qiime diversity beta-group-significance \\\n",
    "    --i-distance-matrix $data_dir/core-metrics-results/weighted_unifrac_distance_matrix.qza \\\n",
    "    --m-metadata-file $data_dir/sample_meta_data.tsv \\\n",
    "    --m-metadata-column GEN_age_cat \\\n",
    "--p-pairwise \\\n",
    "--o-visualization $data_dir/core-metrics-results-bd/wu_age-significance.qzv"
   ]
  },
  {
   "cell_type": "code",
   "execution_count": 57,
   "id": "264bb20d-e5ac-4687-a507-e4d020d00822",
   "metadata": {},
   "outputs": [
    {
     "data": {
      "text/html": [
       "<div><img onload=\"(function(div, url){\n",
       "if (typeof require !== 'undefined') {\n",
       "    var baseURL = require.toUrl('').split('/').slice(0, -2).join('/');\n",
       "} else {\n",
       "    var baseURL = JSON.parse(\n",
       "        document.getElementById('jupyter-config-data').innerHTML\n",
       "    ).baseUrl.slice(0, -1);\n",
       "}\n",
       "url = baseURL + url;\n",
       "fetch(url).then(function(res) {\n",
       "    if (res.status === 404) {\n",
       "        div.innerHTML = 'Install QIIME 2 Jupyter extension with:<br />' +\n",
       "                        '<code>jupyter serverextension enable --py qiime2' +\n",
       "                        ' --sys-prefix</code><br />then restart your server.' +\n",
       "                        '<br /><br />(Interactive output not available on ' +\n",
       "                        'static notebook viewer services like nbviewer.)';\n",
       "    } else if (res.status === 409) {\n",
       "        div.innerHTML = 'Visualization no longer in scope. Re-run this cell' +\n",
       "                        ' to see the visualization.';\n",
       "    } else if (res.ok) {\n",
       "        url = res.url;\n",
       "        div.innerHTML = '<iframe src=\\'' + url + '\\' style=\\'' +\n",
       "                        'width: 100%; height: 700px; border: 0;\\'>' +\n",
       "                        '</iframe><hr />Open in a: <a href=\\'' + url + '\\'' +\n",
       "                        ' target=\\'_blank\\'>new window</a>'\n",
       "    } else {\n",
       "        div.innerHTML = 'Something has gone wrong. Check notebook server for' +\n",
       "                        ' errors.';\n",
       "    }\n",
       "});\n",
       "})(this.parentElement, '/qiime2/redirect?location=/tmp/qiime2-archive-zquy20k9')\" src=\"data:image/gif;base64,R0lGODlhAQABAIAAAP///wAAACH5BAEAAAAALAAAAAABAAEAAAICRAEAOw==\" /></div>"
      ],
      "text/plain": [
       "<visualization: Visualization uuid: 0d0360c7-e4ec-4417-9db6-788ffba9e581>"
      ]
     },
     "execution_count": 57,
     "metadata": {},
     "output_type": "execute_result"
    }
   ],
   "source": [
    "Visualization.load(f'{data_dir}/core-metrics-results-bd/wu_age-significance.qzv')"
   ]
  },
  {
   "cell_type": "markdown",
   "id": "1fe2a3cb",
   "metadata": {},
   "source": [
    "#### **c)** Adonis implementation pf PERMANOVA tests \n",
    "\n",
    "The `adonis` implementation of PERMANOVA (part of the r-vegan package) accepts a formula as input, which can consist of one or more independent terms. This might be useful for testing which covariates explain the most variation in our datasets."
   ]
  },
  {
   "cell_type": "code",
   "execution_count": 7,
   "id": "080f8551",
   "metadata": {
    "tags": []
   },
   "outputs": [
    {
     "name": "stdout",
     "output_type": "stream",
     "text": [
      "Usage: \u001b[94mqiime diversity adonis\u001b[0m [OPTIONS]\n",
      "\n",
      "  Determine whether groups of samples are significantly different from one\n",
      "  another using the ADONIS permutation-based statistical test in vegan-R.\n",
      "  The function partitions sums of squares of a multivariate data set, and is\n",
      "  directly analogous to MANOVA (multivariate analysis of variance). This\n",
      "  action differs from beta_group_significance in that it accepts R formulae\n",
      "  to perform multi-way ADONIS tests; beta_group_signficance only performs\n",
      "  one-way tests. For more details, consult the reference manual available on\n",
      "  the CRAN vegan page: https://CRAN.R-project.org/package=vegan\n",
      "\n",
      "\u001b[1mInputs\u001b[0m:\n",
      "  \u001b[94m\u001b[4m--i-distance-matrix\u001b[0m ARTIFACT\n",
      "    \u001b[32mDistanceMatrix\u001b[0m     Matrix of distances between pairs of samples.\n",
      "                                                                    \u001b[35m[required]\u001b[0m\n",
      "\u001b[1mParameters\u001b[0m:\n",
      "  \u001b[94m\u001b[4m--m-metadata-file\u001b[0m METADATA...\n",
      "    (multiple          Sample metadata containing formula terms.\n",
      "     arguments will    \n",
      "     be merged)                                                     \u001b[35m[required]\u001b[0m\n",
      "  \u001b[94m\u001b[4m--p-formula\u001b[0m TEXT     Model formula containing only independent terms\n",
      "                       contained in the sample metadata. These can be\n",
      "                       continuous variables or factors, and they can have\n",
      "                       interactions as in a typical R formula. E.g., the\n",
      "                       formula \"treatment+block\" would test whether the input\n",
      "                       distance matrix partitions based on \"treatment\" and\n",
      "                       \"block\" sample metadata. The formula \"treatment*block\"\n",
      "                       would test both of those effects as well as their\n",
      "                       interaction. Enclose formulae in quotes to avoid\n",
      "                       unpleasant surprises.                        \u001b[35m[required]\u001b[0m\n",
      "  \u001b[94m--p-permutations\u001b[0m INTEGER\n",
      "    \u001b[32mRange(1, None)\u001b[0m     The number of permutations to be run when computing\n",
      "                       p-values.                                \u001b[35m[default: 999]\u001b[0m\n",
      "  \u001b[94m--p-n-jobs\u001b[0m INTEGER   Number of parallel processes to run.\n",
      "    \u001b[32mRange(1, None)\u001b[0m                                                \u001b[35m[default: 1]\u001b[0m\n",
      "\u001b[1mOutputs\u001b[0m:\n",
      "  \u001b[94m\u001b[4m--o-visualization\u001b[0m VISUALIZATION\n",
      "                                                                    \u001b[35m[required]\u001b[0m\n",
      "\u001b[1mMiscellaneous\u001b[0m:\n",
      "  \u001b[94m--output-dir\u001b[0m PATH    Output unspecified results to a directory\n",
      "  \u001b[94m--verbose\u001b[0m / \u001b[94m--quiet\u001b[0m  Display verbose output to stdout and/or stderr during\n",
      "                       execution of this action. Or silence output if\n",
      "                       execution is successful (silence is golden).\n",
      "  \u001b[94m--example-data\u001b[0m PATH  Write example data and exit.\n",
      "  \u001b[94m--citations\u001b[0m          Show citations and exit.\n",
      "  \u001b[94m--help\u001b[0m               Show this message and exit.\n"
     ]
    }
   ],
   "source": [
    "! qiime diversity adonis \\\n",
    "    --i-distance-matrix $data_dir/core-metrics-results/jaccard_distance_matrix.qza \\ #change distance matrix\n",
    "    --m-metadata-file $data_dir/cleaned_sample_meta_data.tsv \\\n",
    "    --p-formula \"treatment*block\" \\ # change variables as well as + or *\n",
    "    --o-visualization $data_dir/core-metrics-results/AD-jaccard-treatXbloc.qzv"
   ]
  },
  {
   "cell_type": "markdown",
   "id": "02962025",
   "metadata": {},
   "source": [
    "<a id='sec3'></a>"
   ]
  }
 ],
 "metadata": {
  "kernelspec": {
   "display_name": "Python 3 (ipykernel)",
   "language": "python",
   "name": "python3"
  },
  "language_info": {
   "codemirror_mode": {
    "name": "ipython",
    "version": 3
   },
   "file_extension": ".py",
   "mimetype": "text/x-python",
   "name": "python",
   "nbconvert_exporter": "python",
   "pygments_lexer": "ipython3",
   "version": "3.8.13"
  },
  "toc": {
   "base_numbering": 1,
   "nav_menu": {},
   "number_sections": true,
   "sideBar": true,
   "skip_h1_title": false,
   "title_cell": "Table of Contents",
   "title_sidebar": "Contents",
   "toc_cell": false,
   "toc_position": {},
   "toc_section_display": true,
   "toc_window_display": false
  }
 },
 "nbformat": 4,
 "nbformat_minor": 5
}
