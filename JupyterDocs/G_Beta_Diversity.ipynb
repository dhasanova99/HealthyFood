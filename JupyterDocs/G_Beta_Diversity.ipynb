{
 "cells": [
  {
   "cell_type": "markdown",
   "id": "8f6c8e78",
   "metadata": {},
   "source": [
    "# Beta Diversity Analysis, Rarefaction and Significance Tests\n",
    "\n",
    "        "
   ]
  },
  {
   "cell_type": "markdown",
   "id": "e36dd16b-51d2-41ca-a5e6-524ec2062002",
   "metadata": {},
   "source": [
    "## 0. Set_up"
   ]
  },
  {
   "cell_type": "code",
   "execution_count": 3,
   "id": "b94119c8-bd2f-4b1f-80d9-0b2118b76141",
   "metadata": {},
   "outputs": [],
   "source": [
    "import os\n",
    "import pandas as pd\n",
    "import qiime2 as q2\n",
    "from skbio import OrdinationResults\n",
    "from qiime2 import Visualization\n",
    "import matplotlib.pyplot as plt\n",
    "from seaborn import scatterplot\n",
    "\n",
    "%matplotlib inline"
   ]
  },
  {
   "cell_type": "code",
   "execution_count": 4,
   "id": "51b45c82",
   "metadata": {},
   "outputs": [],
   "source": [
    "data_dir ='project_data'"
   ]
  },
  {
   "cell_type": "code",
   "execution_count": 3,
   "id": "adc8de48-a8bf-4772-8eb2-1ad895608711",
   "metadata": {},
   "outputs": [
    {
     "name": "stdout",
     "output_type": "stream",
     "text": [
      "A_FirstLook.ipynb                \u001b[0m\u001b[01;34mfigures\u001b[0m/\n",
      "B_Eating_habits.ipynb            G_Beta_Diversity.ipynb\n",
      "C_Sequence_import.ipynb          H_DifferentialAbundance.ipynb\n",
      "D_Taxonomy_NCBI.ipynb            I_Metagenomics.ipynb\n",
      "D_Taxonomy_pre-classifier.ipynb  J_Functional_Redoundancy_and_Stability.ipynb\n",
      "D_Taxonomy_SILVA.ipynb           \u001b[01;34mproject_data\u001b[0m/\n",
      "E_Phylogeny.ipynb                Z_GanttChart.ipynb\n",
      "F_Alpha_Diversity.ipynb\n"
     ]
    }
   ],
   "source": [
    "ls"
   ]
  },
  {
   "cell_type": "markdown",
   "id": "8dd57045-52e8-42eb-bbd9-911a5d716fb8",
   "metadata": {},
   "source": [
    "In order to run this code, you need results of functions done on previous file : \n",
    "- `metadata` gathering is done in file A\n",
    "- `diversity computation` is done in file F"
   ]
  },
  {
   "cell_type": "markdown",
   "id": "645c6adf",
   "metadata": {},
   "source": [
    "<a id='sec1'></a>"
   ]
  },
  {
   "cell_type": "markdown",
   "id": "771f38bf",
   "metadata": {},
   "source": [
    "## 1. Import metadata"
   ]
  },
  {
   "cell_type": "markdown",
   "id": "e3de97f4",
   "metadata": {},
   "source": [
    "Metadata of refers to students additional informations we collected into the file \"sample_meta_data.tsv\"."
   ]
  },
  {
   "cell_type": "code",
   "execution_count": 14,
   "id": "d088f4e3",
   "metadata": {},
   "outputs": [],
   "source": [
    "df_meta = pd.read_csv(f'{data_dir}/sample_meta_data.tsv', sep='\\t')"
   ]
  },
  {
   "cell_type": "markdown",
   "id": "7302c11f",
   "metadata": {},
   "source": [
    "## 2.Compute diversity"
   ]
  },
  {
   "cell_type": "markdown",
   "id": "ab2d7889",
   "metadata": {
    "tags": []
   },
   "source": [
    "Beta diversity measures the similarity between samples or groups of samples.        \n",
    "To inspect groupings of beta diversity metrics across metadata categories, we will start by inspecting the principal coordinates (PCoA) plots created with the `qiime diversity core-metrics-phylogenetic` method in file F (directory core-metrics-results)"
   ]
  },
  {
   "cell_type": "markdown",
   "id": "ae903eef-8740-4c6b-883c-36f6f96e317f",
   "metadata": {},
   "source": [
    "#### **Selection of categorical variables of interest**"
   ]
  },
  {
   "cell_type": "code",
   "execution_count": 23,
   "id": "d8a79f44-05b0-45db-af32-8a9edbe41412",
   "metadata": {},
   "outputs": [
    {
     "data": {
      "text/html": [
       "<div>\n",
       "<style scoped>\n",
       "    .dataframe tbody tr th:only-of-type {\n",
       "        vertical-align: middle;\n",
       "    }\n",
       "\n",
       "    .dataframe tbody tr th {\n",
       "        vertical-align: top;\n",
       "    }\n",
       "\n",
       "    .dataframe thead th {\n",
       "        text-align: right;\n",
       "    }\n",
       "</style>\n",
       "<table border=\"1\" class=\"dataframe\">\n",
       "  <thead>\n",
       "    <tr style=\"text-align: right;\">\n",
       "      <th></th>\n",
       "      <th>GEN_age_cat</th>\n",
       "      <th>GEN_bmi_cat</th>\n",
       "      <th>GEN_collection_timestamp</th>\n",
       "      <th>GEN_country</th>\n",
       "      <th>GEN_geo_loc_name</th>\n",
       "      <th>GEN_host_common_name</th>\n",
       "      <th>GEN_last_move</th>\n",
       "      <th>GEN_last_travel</th>\n",
       "      <th>GEN_level_of_education</th>\n",
       "      <th>GEN_race</th>\n",
       "      <th>...</th>\n",
       "      <th>NUT_probiotic_frequency</th>\n",
       "      <th>NUT_red_meat_frequency</th>\n",
       "      <th>NUT_salted_snacks_frequency</th>\n",
       "      <th>NUT_seafood_frequency</th>\n",
       "      <th>NUT_sugary_sweets_frequency</th>\n",
       "      <th>NUT_vegetable_frequency</th>\n",
       "      <th>NUT_vitamin_b_supplement_frequency</th>\n",
       "      <th>NUT_vitamin_d_supplement_frequency</th>\n",
       "      <th>NUT_whole_eggs</th>\n",
       "      <th>NUT_whole_grain_frequency</th>\n",
       "    </tr>\n",
       "  </thead>\n",
       "  <tbody>\n",
       "    <tr>\n",
       "      <th>count</th>\n",
       "      <td>523</td>\n",
       "      <td>523</td>\n",
       "      <td>523</td>\n",
       "      <td>523</td>\n",
       "      <td>523</td>\n",
       "      <td>523</td>\n",
       "      <td>523</td>\n",
       "      <td>523</td>\n",
       "      <td>523</td>\n",
       "      <td>523</td>\n",
       "      <td>...</td>\n",
       "      <td>523</td>\n",
       "      <td>523</td>\n",
       "      <td>523</td>\n",
       "      <td>523</td>\n",
       "      <td>523</td>\n",
       "      <td>523</td>\n",
       "      <td>523</td>\n",
       "      <td>523</td>\n",
       "      <td>523</td>\n",
       "      <td>523</td>\n",
       "    </tr>\n",
       "    <tr>\n",
       "      <th>unique</th>\n",
       "      <td>9</td>\n",
       "      <td>5</td>\n",
       "      <td>505</td>\n",
       "      <td>17</td>\n",
       "      <td>62</td>\n",
       "      <td>1</td>\n",
       "      <td>6</td>\n",
       "      <td>6</td>\n",
       "      <td>8</td>\n",
       "      <td>6</td>\n",
       "      <td>...</td>\n",
       "      <td>6</td>\n",
       "      <td>6</td>\n",
       "      <td>6</td>\n",
       "      <td>6</td>\n",
       "      <td>6</td>\n",
       "      <td>6</td>\n",
       "      <td>6</td>\n",
       "      <td>6</td>\n",
       "      <td>6</td>\n",
       "      <td>6</td>\n",
       "    </tr>\n",
       "    <tr>\n",
       "      <th>top</th>\n",
       "      <td>50s</td>\n",
       "      <td>Normal</td>\n",
       "      <td>2016-08-01 08:00:00</td>\n",
       "      <td>United Kingdom</td>\n",
       "      <td>United Kingdom:England</td>\n",
       "      <td>human</td>\n",
       "      <td>I have lived in my current state of residence ...</td>\n",
       "      <td>I have not been outside of my country of resid...</td>\n",
       "      <td>Graduate or Professional degree</td>\n",
       "      <td>Caucasian</td>\n",
       "      <td>...</td>\n",
       "      <td>Never</td>\n",
       "      <td>Occasionally</td>\n",
       "      <td>Rarely</td>\n",
       "      <td>Occasionally</td>\n",
       "      <td>Rarely</td>\n",
       "      <td>Daily</td>\n",
       "      <td>Never</td>\n",
       "      <td>Never</td>\n",
       "      <td>Occasionally</td>\n",
       "      <td>Regularly</td>\n",
       "    </tr>\n",
       "    <tr>\n",
       "      <th>freq</th>\n",
       "      <td>121</td>\n",
       "      <td>274</td>\n",
       "      <td>5</td>\n",
       "      <td>255</td>\n",
       "      <td>169</td>\n",
       "      <td>523</td>\n",
       "      <td>475</td>\n",
       "      <td>168</td>\n",
       "      <td>232</td>\n",
       "      <td>474</td>\n",
       "      <td>...</td>\n",
       "      <td>216</td>\n",
       "      <td>200</td>\n",
       "      <td>198</td>\n",
       "      <td>232</td>\n",
       "      <td>150</td>\n",
       "      <td>260</td>\n",
       "      <td>328</td>\n",
       "      <td>268</td>\n",
       "      <td>215</td>\n",
       "      <td>147</td>\n",
       "    </tr>\n",
       "  </tbody>\n",
       "</table>\n",
       "<p>4 rows × 39 columns</p>\n",
       "</div>"
      ],
      "text/plain": [
       "       GEN_age_cat GEN_bmi_cat GEN_collection_timestamp     GEN_country  \\\n",
       "count          523         523                      523             523   \n",
       "unique           9           5                      505              17   \n",
       "top            50s      Normal      2016-08-01 08:00:00  United Kingdom   \n",
       "freq           121         274                        5             255   \n",
       "\n",
       "              GEN_geo_loc_name GEN_host_common_name  \\\n",
       "count                      523                  523   \n",
       "unique                      62                    1   \n",
       "top     United Kingdom:England                human   \n",
       "freq                       169                  523   \n",
       "\n",
       "                                            GEN_last_move  \\\n",
       "count                                                 523   \n",
       "unique                                                  6   \n",
       "top     I have lived in my current state of residence ...   \n",
       "freq                                                  475   \n",
       "\n",
       "                                          GEN_last_travel  \\\n",
       "count                                                 523   \n",
       "unique                                                  6   \n",
       "top     I have not been outside of my country of resid...   \n",
       "freq                                                  168   \n",
       "\n",
       "                 GEN_level_of_education   GEN_race  ...  \\\n",
       "count                               523        523  ...   \n",
       "unique                                8          6  ...   \n",
       "top     Graduate or Professional degree  Caucasian  ...   \n",
       "freq                                232        474  ...   \n",
       "\n",
       "       NUT_probiotic_frequency NUT_red_meat_frequency  \\\n",
       "count                      523                    523   \n",
       "unique                       6                      6   \n",
       "top                      Never           Occasionally   \n",
       "freq                       216                    200   \n",
       "\n",
       "       NUT_salted_snacks_frequency NUT_seafood_frequency  \\\n",
       "count                          523                   523   \n",
       "unique                           6                     6   \n",
       "top                         Rarely          Occasionally   \n",
       "freq                           198                   232   \n",
       "\n",
       "       NUT_sugary_sweets_frequency NUT_vegetable_frequency  \\\n",
       "count                          523                     523   \n",
       "unique                           6                       6   \n",
       "top                         Rarely                   Daily   \n",
       "freq                           150                     260   \n",
       "\n",
       "       NUT_vitamin_b_supplement_frequency NUT_vitamin_d_supplement_frequency  \\\n",
       "count                                 523                                523   \n",
       "unique                                  6                                  6   \n",
       "top                                 Never                              Never   \n",
       "freq                                  328                                268   \n",
       "\n",
       "       NUT_whole_eggs NUT_whole_grain_frequency  \n",
       "count             523                       523  \n",
       "unique              6                         6  \n",
       "top      Occasionally                 Regularly  \n",
       "freq              215                       147  \n",
       "\n",
       "[4 rows x 39 columns]"
      ]
     },
     "execution_count": 23,
     "metadata": {},
     "output_type": "execute_result"
    }
   ],
   "source": [
    "df_cat = df_meta.select_dtypes(include=['object'])\n",
    "df_cat.describe()"
   ]
  },
  {
   "cell_type": "code",
   "execution_count": 26,
   "id": "9b8b55dc-b193-425d-bcde-569fa6d80e10",
   "metadata": {},
   "outputs": [
    {
     "name": "stdout",
     "output_type": "stream",
     "text": [
      "GEN_age_cat\n",
      "GEN_bmi_cat\n",
      "GEN_collection_timestamp\n",
      "GEN_country\n",
      "GEN_geo_loc_name\n",
      "GEN_host_common_name\n",
      "GEN_last_move\n",
      "GEN_last_travel\n",
      "GEN_level_of_education\n",
      "GEN_race\n",
      "GEN_sample_type\n",
      "GEN_sex\n",
      "NUT_alcohol_frequency\n",
      "NUT_artificial_sweeteners\n",
      "NUT_diet_type\n",
      "NUT_drinks_per_session\n",
      "NUT_fed_as_infant\n",
      "NUT_fermented_plant_frequency\n",
      "NUT_frozen_dessert_frequency\n",
      "NUT_fruit_frequency\n",
      "NUT_gluten\n",
      "NUT_high_fat_red_meat_frequency\n",
      "NUT_homecooked_meals_frequency\n",
      "NUT_meat_eggs_frequency\n",
      "NUT_milk_cheese_frequency\n",
      "NUT_milk_substitute_frequency\n",
      "NUT_olive_oil\n",
      "NUT_poultry_frequency\n",
      "NUT_prepared_meals_frequency\n",
      "NUT_probiotic_frequency\n",
      "NUT_red_meat_frequency\n",
      "NUT_salted_snacks_frequency\n",
      "NUT_seafood_frequency\n",
      "NUT_sugary_sweets_frequency\n",
      "NUT_vegetable_frequency\n",
      "NUT_vitamin_b_supplement_frequency\n",
      "NUT_vitamin_d_supplement_frequency\n",
      "NUT_whole_eggs\n",
      "NUT_whole_grain_frequency\n"
     ]
    }
   ],
   "source": [
    "for col in df_cat.columns:\n",
    "    print(col)"
   ]
  },
  {
   "cell_type": "code",
   "execution_count": 73,
   "id": "58ee098c-a7c4-4885-af9b-8be06d25510d",
   "metadata": {},
   "outputs": [
    {
     "data": {
      "text/html": [
       "<div>\n",
       "<style scoped>\n",
       "    .dataframe tbody tr th:only-of-type {\n",
       "        vertical-align: middle;\n",
       "    }\n",
       "\n",
       "    .dataframe tbody tr th {\n",
       "        vertical-align: top;\n",
       "    }\n",
       "\n",
       "    .dataframe thead th {\n",
       "        text-align: right;\n",
       "    }\n",
       "</style>\n",
       "<table border=\"1\" class=\"dataframe\">\n",
       "  <thead>\n",
       "    <tr style=\"text-align: right;\">\n",
       "      <th></th>\n",
       "      <th>Values</th>\n",
       "    </tr>\n",
       "    <tr>\n",
       "      <th>Column</th>\n",
       "      <th></th>\n",
       "    </tr>\n",
       "  </thead>\n",
       "  <tbody>\n",
       "    <tr>\n",
       "      <th>GEN_age_cat</th>\n",
       "      <td>['20s', '30s', '40s', '50s', '60s', '70+', 'No...</td>\n",
       "    </tr>\n",
       "    <tr>\n",
       "      <th>GEN_age_corrected</th>\n",
       "      <td>['11.0', '14.0', '15.0', '16.0', '17.0', '18.0...</td>\n",
       "    </tr>\n",
       "    <tr>\n",
       "      <th>GEN_bmi_cat</th>\n",
       "      <td>['Normal', 'Not provided', 'Obese', 'Overweigh...</td>\n",
       "    </tr>\n",
       "    <tr>\n",
       "      <th>GEN_bmi_corrected</th>\n",
       "      <td>['11.2', '11.57', '14.34', '14.62', '14.79', '...</td>\n",
       "    </tr>\n",
       "    <tr>\n",
       "      <th>GEN_cat</th>\n",
       "      <td>['False', 'True']</td>\n",
       "    </tr>\n",
       "    <tr>\n",
       "      <th>GEN_collection_timestamp</th>\n",
       "      <td>['2014-05-10 12:00:00', '2015-01-01 09:00:00',...</td>\n",
       "    </tr>\n",
       "    <tr>\n",
       "      <th>GEN_country</th>\n",
       "      <td>['Australia', 'Belgium', 'Canada', 'Georgia', ...</td>\n",
       "    </tr>\n",
       "    <tr>\n",
       "      <th>GEN_dog</th>\n",
       "      <td>['False', 'True']</td>\n",
       "    </tr>\n",
       "    <tr>\n",
       "      <th>GEN_elevation</th>\n",
       "      <td>['-0.9', '0.0', '1.4', '10.4', '10.8', '10.9',...</td>\n",
       "    </tr>\n",
       "    <tr>\n",
       "      <th>GEN_geo_loc_name</th>\n",
       "      <td>['Australia:ACT', 'Australia:QLD', 'Australia:...</td>\n",
       "    </tr>\n",
       "    <tr>\n",
       "      <th>GEN_height_cm</th>\n",
       "      <td>['110.0', '111.0', '114.0', '121.0', '122.0', ...</td>\n",
       "    </tr>\n",
       "    <tr>\n",
       "      <th>GEN_host_common_name</th>\n",
       "      <td>['human']</td>\n",
       "    </tr>\n",
       "    <tr>\n",
       "      <th>GEN_last_move</th>\n",
       "      <td>['I have lived in my current state of residenc...</td>\n",
       "    </tr>\n",
       "    <tr>\n",
       "      <th>GEN_last_travel</th>\n",
       "      <td>['1 year', '3 months', '6 months', 'I have not...</td>\n",
       "    </tr>\n",
       "    <tr>\n",
       "      <th>GEN_latitude</th>\n",
       "      <td>['-27.5', '-35.3', '-43.0', '21.3', '25.7', '2...</td>\n",
       "    </tr>\n",
       "    <tr>\n",
       "      <th>GEN_level_of_education</th>\n",
       "      <td>[\"Associate's degree\", \"Bachelor's degree\", 'D...</td>\n",
       "    </tr>\n",
       "    <tr>\n",
       "      <th>GEN_longitude</th>\n",
       "      <td>['-0.1', '-0.2', '-0.3', '-0.4', '-0.5', '-0.6...</td>\n",
       "    </tr>\n",
       "    <tr>\n",
       "      <th>GEN_race</th>\n",
       "      <td>['African American', 'Asian or Pacific Islande...</td>\n",
       "    </tr>\n",
       "    <tr>\n",
       "      <th>GEN_sample_type</th>\n",
       "      <td>['Stool']</td>\n",
       "    </tr>\n",
       "    <tr>\n",
       "      <th>GEN_sex</th>\n",
       "      <td>['Not provided', 'female', 'male', 'other']</td>\n",
       "    </tr>\n",
       "    <tr>\n",
       "      <th>GEN_weight_kg</th>\n",
       "      <td>['10.0', '100.0', '101.0', '102.0', '103.0', '...</td>\n",
       "    </tr>\n",
       "    <tr>\n",
       "      <th>NUT_alcohol_consumption</th>\n",
       "      <td>['False', 'True']</td>\n",
       "    </tr>\n",
       "    <tr>\n",
       "      <th>NUT_alcohol_frequency</th>\n",
       "      <td>['Daily', 'Never', 'Not provided', 'Occasional...</td>\n",
       "    </tr>\n",
       "    <tr>\n",
       "      <th>NUT_alcohol_types_beercider</th>\n",
       "      <td>['False', 'True']</td>\n",
       "    </tr>\n",
       "    <tr>\n",
       "      <th>NUT_alcohol_types_red_wine</th>\n",
       "      <td>['False', 'True']</td>\n",
       "    </tr>\n",
       "    <tr>\n",
       "      <th>NUT_alcohol_types_sour_beers</th>\n",
       "      <td>['False', 'True']</td>\n",
       "    </tr>\n",
       "    <tr>\n",
       "      <th>NUT_alcohol_types_spiritshard_alcohol</th>\n",
       "      <td>['False', 'True']</td>\n",
       "    </tr>\n",
       "    <tr>\n",
       "      <th>NUT_alcohol_types_unspecified</th>\n",
       "      <td>['False', 'True']</td>\n",
       "    </tr>\n",
       "    <tr>\n",
       "      <th>NUT_alcohol_types_white_wine</th>\n",
       "      <td>['False', 'True']</td>\n",
       "    </tr>\n",
       "    <tr>\n",
       "      <th>NUT_artificial_sweeteners</th>\n",
       "      <td>['Daily', 'Never', 'Not provided', 'Occasional...</td>\n",
       "    </tr>\n",
       "    <tr>\n",
       "      <th>NUT_diet_type</th>\n",
       "      <td>['Not provided', 'Omnivore', 'Omnivore but do ...</td>\n",
       "    </tr>\n",
       "    <tr>\n",
       "      <th>NUT_drinks_per_session</th>\n",
       "      <td>['1', '1-2', '2-3', '3-4', '4+', \"I don't drin...</td>\n",
       "    </tr>\n",
       "    <tr>\n",
       "      <th>NUT_fed_as_infant</th>\n",
       "      <td>['A mixture of breast milk and formula', 'Not ...</td>\n",
       "    </tr>\n",
       "    <tr>\n",
       "      <th>NUT_fermented_plant_frequency</th>\n",
       "      <td>['Daily', 'Never', 'Not provided', 'Occasional...</td>\n",
       "    </tr>\n",
       "    <tr>\n",
       "      <th>NUT_frozen_dessert_frequency</th>\n",
       "      <td>['Daily', 'Never', 'Not provided', 'Occasional...</td>\n",
       "    </tr>\n",
       "    <tr>\n",
       "      <th>NUT_fruit_frequency</th>\n",
       "      <td>['Daily', 'Never', 'Not provided', 'Occasional...</td>\n",
       "    </tr>\n",
       "    <tr>\n",
       "      <th>NUT_gluten</th>\n",
       "      <td>['I do not eat gluten because it makes me feel...</td>\n",
       "    </tr>\n",
       "    <tr>\n",
       "      <th>NUT_high_fat_red_meat_frequency</th>\n",
       "      <td>['Daily', 'Never', 'Not provided', 'Occasional...</td>\n",
       "    </tr>\n",
       "    <tr>\n",
       "      <th>NUT_homecooked_meals_frequency</th>\n",
       "      <td>['Daily', 'Never', 'Not provided', 'Occasional...</td>\n",
       "    </tr>\n",
       "    <tr>\n",
       "      <th>NUT_lowgrain_diet_type</th>\n",
       "      <td>['False', 'True']</td>\n",
       "    </tr>\n",
       "    <tr>\n",
       "      <th>NUT_meat_eggs_frequency</th>\n",
       "      <td>['Daily', 'Never', 'Not provided', 'Occasional...</td>\n",
       "    </tr>\n",
       "    <tr>\n",
       "      <th>NUT_milk_cheese_frequency</th>\n",
       "      <td>['Daily', 'Never', 'Not provided', 'Occasional...</td>\n",
       "    </tr>\n",
       "    <tr>\n",
       "      <th>NUT_milk_substitute_frequency</th>\n",
       "      <td>['Daily', 'Never', 'Not provided', 'Occasional...</td>\n",
       "    </tr>\n",
       "    <tr>\n",
       "      <th>NUT_olive_oil</th>\n",
       "      <td>['Daily', 'Never', 'Not provided', 'Occasional...</td>\n",
       "    </tr>\n",
       "    <tr>\n",
       "      <th>NUT_poultry_frequency</th>\n",
       "      <td>['Daily', 'Never', 'Not provided', 'Occasional...</td>\n",
       "    </tr>\n",
       "    <tr>\n",
       "      <th>NUT_prepared_meals_frequency</th>\n",
       "      <td>['Daily', 'Never', 'Not provided', 'Occasional...</td>\n",
       "    </tr>\n",
       "    <tr>\n",
       "      <th>NUT_probiotic_frequency</th>\n",
       "      <td>['Daily', 'Never', 'Not provided', 'Occasional...</td>\n",
       "    </tr>\n",
       "    <tr>\n",
       "      <th>NUT_red_meat_frequency</th>\n",
       "      <td>['Daily', 'Never', 'Not provided', 'Occasional...</td>\n",
       "    </tr>\n",
       "    <tr>\n",
       "      <th>NUT_salted_snacks_frequency</th>\n",
       "      <td>['Daily', 'Never', 'Not provided', 'Occasional...</td>\n",
       "    </tr>\n",
       "    <tr>\n",
       "      <th>NUT_seafood_frequency</th>\n",
       "      <td>['Daily', 'Never', 'Not provided', 'Occasional...</td>\n",
       "    </tr>\n",
       "    <tr>\n",
       "      <th>NUT_sugary_sweets_frequency</th>\n",
       "      <td>['Daily', 'Never', 'Not provided', 'Occasional...</td>\n",
       "    </tr>\n",
       "    <tr>\n",
       "      <th>NUT_vegetable_frequency</th>\n",
       "      <td>['Daily', 'Never', 'Not provided', 'Occasional...</td>\n",
       "    </tr>\n",
       "    <tr>\n",
       "      <th>NUT_vitamin_b_supplement_frequency</th>\n",
       "      <td>['Daily', 'Never', 'Not provided', 'Occasional...</td>\n",
       "    </tr>\n",
       "    <tr>\n",
       "      <th>NUT_vitamin_d_supplement_frequency</th>\n",
       "      <td>['Daily', 'Never', 'Not provided', 'Occasional...</td>\n",
       "    </tr>\n",
       "    <tr>\n",
       "      <th>NUT_whole_eggs</th>\n",
       "      <td>['Daily', 'Never', 'Not provided', 'Occasional...</td>\n",
       "    </tr>\n",
       "    <tr>\n",
       "      <th>NUT_whole_grain_frequency</th>\n",
       "      <td>['Daily', 'Never', 'Not provided', 'Occasional...</td>\n",
       "    </tr>\n",
       "  </tbody>\n",
       "</table>\n",
       "</div>"
      ],
      "text/plain": [
       "                                                                                  Values\n",
       "Column                                                                                  \n",
       "GEN_age_cat                            ['20s', '30s', '40s', '50s', '60s', '70+', 'No...\n",
       "GEN_age_corrected                      ['11.0', '14.0', '15.0', '16.0', '17.0', '18.0...\n",
       "GEN_bmi_cat                            ['Normal', 'Not provided', 'Obese', 'Overweigh...\n",
       "GEN_bmi_corrected                      ['11.2', '11.57', '14.34', '14.62', '14.79', '...\n",
       "GEN_cat                                                                ['False', 'True']\n",
       "GEN_collection_timestamp               ['2014-05-10 12:00:00', '2015-01-01 09:00:00',...\n",
       "GEN_country                            ['Australia', 'Belgium', 'Canada', 'Georgia', ...\n",
       "GEN_dog                                                                ['False', 'True']\n",
       "GEN_elevation                          ['-0.9', '0.0', '1.4', '10.4', '10.8', '10.9',...\n",
       "GEN_geo_loc_name                       ['Australia:ACT', 'Australia:QLD', 'Australia:...\n",
       "GEN_height_cm                          ['110.0', '111.0', '114.0', '121.0', '122.0', ...\n",
       "GEN_host_common_name                                                           ['human']\n",
       "GEN_last_move                          ['I have lived in my current state of residenc...\n",
       "GEN_last_travel                        ['1 year', '3 months', '6 months', 'I have not...\n",
       "GEN_latitude                           ['-27.5', '-35.3', '-43.0', '21.3', '25.7', '2...\n",
       "GEN_level_of_education                 [\"Associate's degree\", \"Bachelor's degree\", 'D...\n",
       "GEN_longitude                          ['-0.1', '-0.2', '-0.3', '-0.4', '-0.5', '-0.6...\n",
       "GEN_race                               ['African American', 'Asian or Pacific Islande...\n",
       "GEN_sample_type                                                                ['Stool']\n",
       "GEN_sex                                      ['Not provided', 'female', 'male', 'other']\n",
       "GEN_weight_kg                          ['10.0', '100.0', '101.0', '102.0', '103.0', '...\n",
       "NUT_alcohol_consumption                                                ['False', 'True']\n",
       "NUT_alcohol_frequency                  ['Daily', 'Never', 'Not provided', 'Occasional...\n",
       "NUT_alcohol_types_beercider                                            ['False', 'True']\n",
       "NUT_alcohol_types_red_wine                                             ['False', 'True']\n",
       "NUT_alcohol_types_sour_beers                                           ['False', 'True']\n",
       "NUT_alcohol_types_spiritshard_alcohol                                  ['False', 'True']\n",
       "NUT_alcohol_types_unspecified                                          ['False', 'True']\n",
       "NUT_alcohol_types_white_wine                                           ['False', 'True']\n",
       "NUT_artificial_sweeteners              ['Daily', 'Never', 'Not provided', 'Occasional...\n",
       "NUT_diet_type                          ['Not provided', 'Omnivore', 'Omnivore but do ...\n",
       "NUT_drinks_per_session                 ['1', '1-2', '2-3', '3-4', '4+', \"I don't drin...\n",
       "NUT_fed_as_infant                      ['A mixture of breast milk and formula', 'Not ...\n",
       "NUT_fermented_plant_frequency          ['Daily', 'Never', 'Not provided', 'Occasional...\n",
       "NUT_frozen_dessert_frequency           ['Daily', 'Never', 'Not provided', 'Occasional...\n",
       "NUT_fruit_frequency                    ['Daily', 'Never', 'Not provided', 'Occasional...\n",
       "NUT_gluten                             ['I do not eat gluten because it makes me feel...\n",
       "NUT_high_fat_red_meat_frequency        ['Daily', 'Never', 'Not provided', 'Occasional...\n",
       "NUT_homecooked_meals_frequency         ['Daily', 'Never', 'Not provided', 'Occasional...\n",
       "NUT_lowgrain_diet_type                                                 ['False', 'True']\n",
       "NUT_meat_eggs_frequency                ['Daily', 'Never', 'Not provided', 'Occasional...\n",
       "NUT_milk_cheese_frequency              ['Daily', 'Never', 'Not provided', 'Occasional...\n",
       "NUT_milk_substitute_frequency          ['Daily', 'Never', 'Not provided', 'Occasional...\n",
       "NUT_olive_oil                          ['Daily', 'Never', 'Not provided', 'Occasional...\n",
       "NUT_poultry_frequency                  ['Daily', 'Never', 'Not provided', 'Occasional...\n",
       "NUT_prepared_meals_frequency           ['Daily', 'Never', 'Not provided', 'Occasional...\n",
       "NUT_probiotic_frequency                ['Daily', 'Never', 'Not provided', 'Occasional...\n",
       "NUT_red_meat_frequency                 ['Daily', 'Never', 'Not provided', 'Occasional...\n",
       "NUT_salted_snacks_frequency            ['Daily', 'Never', 'Not provided', 'Occasional...\n",
       "NUT_seafood_frequency                  ['Daily', 'Never', 'Not provided', 'Occasional...\n",
       "NUT_sugary_sweets_frequency            ['Daily', 'Never', 'Not provided', 'Occasional...\n",
       "NUT_vegetable_frequency                ['Daily', 'Never', 'Not provided', 'Occasional...\n",
       "NUT_vitamin_b_supplement_frequency     ['Daily', 'Never', 'Not provided', 'Occasional...\n",
       "NUT_vitamin_d_supplement_frequency     ['Daily', 'Never', 'Not provided', 'Occasional...\n",
       "NUT_whole_eggs                         ['Daily', 'Never', 'Not provided', 'Occasional...\n",
       "NUT_whole_grain_frequency              ['Daily', 'Never', 'Not provided', 'Occasional..."
      ]
     },
     "execution_count": 73,
     "metadata": {},
     "output_type": "execute_result"
    }
   ],
   "source": [
    "md = q2.Metadata.load(data_dir + '/sample_meta_data.tsv').to_dataframe()\n",
    "pd.DataFrame([str(sorted(md[col].astype(str).unique())) for col in md.columns],\n",
    "             index=pd.Index(md.columns, name='Column'), columns=['Values'])"
   ]
  },
  {
   "cell_type": "markdown",
   "id": "d3be345f-f8b7-453e-932c-e2690af96ef8",
   "metadata": {},
   "source": [
    "Almost all the variables present in the dataframe df_cat can be interesting to test for beta-analysis. However, for the purpose of our research goals here, we will focus on data about age, BMI, country, level of education"
   ]
  },
  {
   "cell_type": "markdown",
   "id": "3788956f",
   "metadata": {},
   "source": [
    "#### **Permanova testing of categorical variables associations**\n",
    "\n",
    "Associations between beta diversity and categorical variables can be statistically tested using a PERMANOVA test. This is a non-parametric statistical test that checks the null hypothesis that the distances between samples of one group are equivalent to distances to samples of another group. If this null hypothesis is rejected, we can infer that the distances between samples of one group differ significantly from the distances to samples in at least one other group. We can perform a PERMANOVA test checking whether the observed categories are significantly grouped in QIIME 2 with the `qiime diversity beta-group-significance` method: "
   ]
  },
  {
   "cell_type": "code",
   "execution_count": 40,
   "id": "48ada391-3c1c-49cb-b760-3caf34868dff",
   "metadata": {},
   "outputs": [],
   "source": [
    "os.mkdir('/home/jovyan/HealthyFood/JupyterDocs/project_data/core-metrics-results-bd')"
   ]
  },
  {
   "cell_type": "markdown",
   "id": "69c1f0ca-0352-4bc1-9036-4cc9d43a18e2",
   "metadata": {},
   "source": [
    "**Testing differences between samples according to bmi = unsignificant**"
   ]
  },
  {
   "cell_type": "markdown",
   "id": "ce7de02f-62ab-4c84-bde8-a279299027cb",
   "metadata": {},
   "source": [
    "**Testing differences between samples according to age = significant**"
   ]
  },
  {
   "cell_type": "code",
   "execution_count": 101,
   "id": "13b4adaf",
   "metadata": {},
   "outputs": [
    {
     "name": "stdout",
     "output_type": "stream",
     "text": [
      "\u001b[31m\u001b[1mPlugin error from diversity:\n",
      "\n",
      "  All values in the grouping vector are the same. This method cannot operate on a grouping vector with only a single group of objects (e.g., there are no 'between' distances because there is only a single group).\n",
      "\n",
      "Debug info has been saved to /tmp/qiime2-q2cli-err-oztv_vrd.log\u001b[0m\n",
      "\u001b[0m"
     ]
    }
   ],
   "source": [
    "! qiime diversity beta-group-significance \\\n",
    "    --i-distance-matrix $data_dir/core-metrics-results/bray_curtis_distance_matrix.qza \\\n",
    "    --m-metadata-file $data_dir/sample_meta_data.tsv \\\n",
    "    --m-metadata-column GEN_host_common_name\\\n",
    "--p-pairwise\\\n",
    "--o-visualization $data_dir/core-metrics-results-bd/bc-hcn-significance.qzv"
   ]
  },
  {
   "cell_type": "code",
   "execution_count": 102,
   "id": "c656240d",
   "metadata": {},
   "outputs": [
    {
     "ename": "ValueError",
     "evalue": "project_data/core-metrics-results-bd/bc-hcn-significance.qzv does not exist.",
     "output_type": "error",
     "traceback": [
      "\u001b[0;31m---------------------------------------------------------------------------\u001b[0m",
      "\u001b[0;31mValueError\u001b[0m                                Traceback (most recent call last)",
      "Input \u001b[0;32mIn [102]\u001b[0m, in \u001b[0;36m<cell line: 1>\u001b[0;34m()\u001b[0m\n\u001b[0;32m----> 1\u001b[0m \u001b[43mVisualization\u001b[49m\u001b[38;5;241;43m.\u001b[39;49m\u001b[43mload\u001b[49m\u001b[43m(\u001b[49m\u001b[38;5;124;43mf\u001b[39;49m\u001b[38;5;124;43m'\u001b[39;49m\u001b[38;5;132;43;01m{\u001b[39;49;00m\u001b[43mdata_dir\u001b[49m\u001b[38;5;132;43;01m}\u001b[39;49;00m\u001b[38;5;124;43m/core-metrics-results-bd/bc-hcn-significance.qzv\u001b[39;49m\u001b[38;5;124;43m'\u001b[39;49m\u001b[43m)\u001b[49m\n",
      "File \u001b[0;32m/opt/conda/lib/python3.8/site-packages/qiime2/sdk/result.py:66\u001b[0m, in \u001b[0;36mResult.load\u001b[0;34m(cls, filepath)\u001b[0m\n\u001b[1;32m     63\u001b[0m \u001b[38;5;129m@classmethod\u001b[39m\n\u001b[1;32m     64\u001b[0m \u001b[38;5;28;01mdef\u001b[39;00m \u001b[38;5;21mload\u001b[39m(\u001b[38;5;28mcls\u001b[39m, filepath):\n\u001b[1;32m     65\u001b[0m     \u001b[38;5;124;03m\"\"\"Factory for loading Artifacts and Visualizations.\"\"\"\u001b[39;00m\n\u001b[0;32m---> 66\u001b[0m     archiver \u001b[38;5;241m=\u001b[39m \u001b[43marchive\u001b[49m\u001b[38;5;241;43m.\u001b[39;49m\u001b[43mArchiver\u001b[49m\u001b[38;5;241;43m.\u001b[39;49m\u001b[43mload\u001b[49m\u001b[43m(\u001b[49m\u001b[43mfilepath\u001b[49m\u001b[43m)\u001b[49m\n\u001b[1;32m     68\u001b[0m     \u001b[38;5;28;01mif\u001b[39;00m Artifact\u001b[38;5;241m.\u001b[39m_is_valid_type(archiver\u001b[38;5;241m.\u001b[39mtype):\n\u001b[1;32m     69\u001b[0m         result \u001b[38;5;241m=\u001b[39m Artifact\u001b[38;5;241m.\u001b[39m\u001b[38;5;21m__new__\u001b[39m(Artifact)\n",
      "File \u001b[0;32m/opt/conda/lib/python3.8/site-packages/qiime2/core/archive/archiver.py:299\u001b[0m, in \u001b[0;36mArchiver.load\u001b[0;34m(cls, filepath)\u001b[0m\n\u001b[1;32m    297\u001b[0m \u001b[38;5;129m@classmethod\u001b[39m\n\u001b[1;32m    298\u001b[0m \u001b[38;5;28;01mdef\u001b[39;00m \u001b[38;5;21mload\u001b[39m(\u001b[38;5;28mcls\u001b[39m, filepath):\n\u001b[0;32m--> 299\u001b[0m     archive \u001b[38;5;241m=\u001b[39m \u001b[38;5;28;43mcls\u001b[39;49m\u001b[38;5;241;43m.\u001b[39;49m\u001b[43mget_archive\u001b[49m\u001b[43m(\u001b[49m\u001b[43mfilepath\u001b[49m\u001b[43m)\u001b[49m\n\u001b[1;32m    300\u001b[0m     Format \u001b[38;5;241m=\u001b[39m \u001b[38;5;28mcls\u001b[39m\u001b[38;5;241m.\u001b[39mget_format_class(archive\u001b[38;5;241m.\u001b[39mversion)\n\u001b[1;32m    301\u001b[0m     \u001b[38;5;28;01mif\u001b[39;00m Format \u001b[38;5;129;01mis\u001b[39;00m \u001b[38;5;28;01mNone\u001b[39;00m:\n",
      "File \u001b[0;32m/opt/conda/lib/python3.8/site-packages/qiime2/core/archive/archiver.py:259\u001b[0m, in \u001b[0;36mArchiver.get_archive\u001b[0;34m(cls, filepath)\u001b[0m\n\u001b[1;32m    257\u001b[0m filepath \u001b[38;5;241m=\u001b[39m pathlib\u001b[38;5;241m.\u001b[39mPath(filepath)\n\u001b[1;32m    258\u001b[0m \u001b[38;5;28;01mif\u001b[39;00m \u001b[38;5;129;01mnot\u001b[39;00m filepath\u001b[38;5;241m.\u001b[39mexists():\n\u001b[0;32m--> 259\u001b[0m     \u001b[38;5;28;01mraise\u001b[39;00m \u001b[38;5;167;01mValueError\u001b[39;00m(\u001b[38;5;124m\"\u001b[39m\u001b[38;5;132;01m%s\u001b[39;00m\u001b[38;5;124m does not exist.\u001b[39m\u001b[38;5;124m\"\u001b[39m \u001b[38;5;241m%\u001b[39m filepath)\n\u001b[1;32m    261\u001b[0m \u001b[38;5;28;01mif\u001b[39;00m _ZipArchive\u001b[38;5;241m.\u001b[39mis_archive_type(filepath):\n\u001b[1;32m    262\u001b[0m     archive \u001b[38;5;241m=\u001b[39m _ZipArchive(filepath)\n",
      "\u001b[0;31mValueError\u001b[0m: project_data/core-metrics-results-bd/bc-hcn-significance.qzv does not exist."
     ]
    }
   ],
   "source": [
    "Visualization.load(f'{data_dir}/core-metrics-results-bd/bc-hcn-significance.qzv')"
   ]
  },
  {
   "cell_type": "code",
   "execution_count": 124,
   "id": "b4fbd761-5c4c-4145-be40-a068226b79df",
   "metadata": {},
   "outputs": [
    {
     "name": "stdout",
     "output_type": "stream",
     "text": [
      "\u001b[32mSaved Visualization to: project_data/core-metrics-results-bd/wu_pmf-significance.qzv\u001b[0m\n",
      "\u001b[0m"
     ]
    }
   ],
   "source": [
    "! qiime diversity beta-group-significance \\\n",
    "    --i-distance-matrix $data_dir/core-metrics-results/weighted_unifrac_distance_matrix.qza \\\n",
    "    --m-metadata-file $data_dir/sample_meta_data.tsv \\\n",
    "    --m-metadata-column NUT_prepared_meals_frequency \\\n",
    "--p-pairwise \\\n",
    "--o-visualization $data_dir/core-metrics-results-bd/wu_pmf-significance.qzv"
   ]
  },
  {
   "cell_type": "code",
   "execution_count": 125,
   "id": "264bb20d-e5ac-4687-a507-e4d020d00822",
   "metadata": {},
   "outputs": [
    {
     "data": {
      "text/html": [
       "<div><img onload=\"(function(div, url){\n",
       "if (typeof require !== 'undefined') {\n",
       "    var baseURL = require.toUrl('').split('/').slice(0, -2).join('/');\n",
       "} else {\n",
       "    var baseURL = JSON.parse(\n",
       "        document.getElementById('jupyter-config-data').innerHTML\n",
       "    ).baseUrl.slice(0, -1);\n",
       "}\n",
       "url = baseURL + url;\n",
       "fetch(url).then(function(res) {\n",
       "    if (res.status === 404) {\n",
       "        div.innerHTML = 'Install QIIME 2 Jupyter extension with:<br />' +\n",
       "                        '<code>jupyter serverextension enable --py qiime2' +\n",
       "                        ' --sys-prefix</code><br />then restart your server.' +\n",
       "                        '<br /><br />(Interactive output not available on ' +\n",
       "                        'static notebook viewer services like nbviewer.)';\n",
       "    } else if (res.status === 409) {\n",
       "        div.innerHTML = 'Visualization no longer in scope. Re-run this cell' +\n",
       "                        ' to see the visualization.';\n",
       "    } else if (res.ok) {\n",
       "        url = res.url;\n",
       "        div.innerHTML = '<iframe src=\\'' + url + '\\' style=\\'' +\n",
       "                        'width: 100%; height: 700px; border: 0;\\'>' +\n",
       "                        '</iframe><hr />Open in a: <a href=\\'' + url + '\\'' +\n",
       "                        ' target=\\'_blank\\'>new window</a>'\n",
       "    } else {\n",
       "        div.innerHTML = 'Something has gone wrong. Check notebook server for' +\n",
       "                        ' errors.';\n",
       "    }\n",
       "});\n",
       "})(this.parentElement, '/qiime2/redirect?location=/tmp/qiime2-archive-_t7jvlsa')\" src=\"data:image/gif;base64,R0lGODlhAQABAIAAAP///wAAACH5BAEAAAAALAAAAAABAAEAAAICRAEAOw==\" /></div>"
      ],
      "text/plain": [
       "<visualization: Visualization uuid: c4d03365-0fd8-4fcc-a12b-be094d273ebb>"
      ]
     },
     "execution_count": 125,
     "metadata": {},
     "output_type": "execute_result"
    }
   ],
   "source": [
    "Visualization.load(f'{data_dir}/core-metrics-results-bd/wu_pmf-significance.qzv')"
   ]
  },
  {
   "cell_type": "code",
   "execution_count": 111,
   "id": "bf1faed0-e102-45b8-b90d-f0375cc3ee96",
   "metadata": {},
   "outputs": [
    {
     "name": "stdout",
     "output_type": "stream",
     "text": [
      "\u001b[32mSaved Visualization to: project_data/core-metrics-results-bd/wu_race-significance.qzv\u001b[0m\n",
      "\u001b[0m"
     ]
    }
   ],
   "source": [
    "! qiime diversity beta-group-significance \\\n",
    "    --i-distance-matrix $data_dir/core-metrics-results/weighted_unifrac_distance_matrix.qza \\\n",
    "    --m-metadata-file $data_dir/sample_meta_data.tsv \\\n",
    "    --m-metadata-column GEN_race\\\n",
    "--p-pairwise \\\n",
    "--o-visualization $data_dir/core-metrics-results-bd/wu_race-significance.qzv"
   ]
  },
  {
   "cell_type": "code",
   "execution_count": 112,
   "id": "a9aea616-76b4-4148-91df-aa7d58f5e55c",
   "metadata": {},
   "outputs": [
    {
     "data": {
      "text/html": [
       "<div><img onload=\"(function(div, url){\n",
       "if (typeof require !== 'undefined') {\n",
       "    var baseURL = require.toUrl('').split('/').slice(0, -2).join('/');\n",
       "} else {\n",
       "    var baseURL = JSON.parse(\n",
       "        document.getElementById('jupyter-config-data').innerHTML\n",
       "    ).baseUrl.slice(0, -1);\n",
       "}\n",
       "url = baseURL + url;\n",
       "fetch(url).then(function(res) {\n",
       "    if (res.status === 404) {\n",
       "        div.innerHTML = 'Install QIIME 2 Jupyter extension with:<br />' +\n",
       "                        '<code>jupyter serverextension enable --py qiime2' +\n",
       "                        ' --sys-prefix</code><br />then restart your server.' +\n",
       "                        '<br /><br />(Interactive output not available on ' +\n",
       "                        'static notebook viewer services like nbviewer.)';\n",
       "    } else if (res.status === 409) {\n",
       "        div.innerHTML = 'Visualization no longer in scope. Re-run this cell' +\n",
       "                        ' to see the visualization.';\n",
       "    } else if (res.ok) {\n",
       "        url = res.url;\n",
       "        div.innerHTML = '<iframe src=\\'' + url + '\\' style=\\'' +\n",
       "                        'width: 100%; height: 700px; border: 0;\\'>' +\n",
       "                        '</iframe><hr />Open in a: <a href=\\'' + url + '\\'' +\n",
       "                        ' target=\\'_blank\\'>new window</a>'\n",
       "    } else {\n",
       "        div.innerHTML = 'Something has gone wrong. Check notebook server for' +\n",
       "                        ' errors.';\n",
       "    }\n",
       "});\n",
       "})(this.parentElement, '/qiime2/redirect?location=/tmp/qiime2-archive-suqhp4g5')\" src=\"data:image/gif;base64,R0lGODlhAQABAIAAAP///wAAACH5BAEAAAAALAAAAAABAAEAAAICRAEAOw==\" /></div>"
      ],
      "text/plain": [
       "<visualization: Visualization uuid: c9fbc42a-525f-40e4-a969-8128ba6f9f7b>"
      ]
     },
     "execution_count": 112,
     "metadata": {},
     "output_type": "execute_result"
    }
   ],
   "source": [
    "Visualization.load(f'{data_dir}/core-metrics-results-bd/wu_race-significance.qzv')"
   ]
  },
  {
   "cell_type": "markdown",
   "id": "6f52650d-1a31-424d-9ee7-5f263c729cc6",
   "metadata": {},
   "source": [
    "**Testing differences between samples according to race = significant**"
   ]
  },
  {
   "cell_type": "code",
   "execution_count": 60,
   "id": "fa914077-9a8e-4365-8852-c9a8e0714e83",
   "metadata": {},
   "outputs": [
    {
     "name": "stdout",
     "output_type": "stream",
     "text": [
      "\u001b[32mSaved Visualization to: project_data/core-metrics-results-bd/bc-race-significance.qzv\u001b[0m\n",
      "\u001b[0m"
     ]
    }
   ],
   "source": [
    "! qiime diversity beta-group-significance \\\n",
    "    --i-distance-matrix $data_dir/core-metrics-results/bray_curtis_distance_matrix.qza \\\n",
    "    --m-metadata-file $data_dir/sample_meta_data.tsv \\\n",
    "    --m-metadata-column GEN_race \\\n",
    "--p-pairwise\\\n",
    "--o-visualization $data_dir/core-metrics-results-bd/bc-race-significance.qzv"
   ]
  },
  {
   "cell_type": "code",
   "execution_count": 4,
   "id": "7b8f5f7f-f550-4d9e-b3d6-02f208ce1535",
   "metadata": {},
   "outputs": [
    {
     "data": {
      "text/html": [
       "<div><img onload=\"(function(div, url){\n",
       "if (typeof require !== 'undefined') {\n",
       "    var baseURL = require.toUrl('').split('/').slice(0, -2).join('/');\n",
       "} else {\n",
       "    var baseURL = JSON.parse(\n",
       "        document.getElementById('jupyter-config-data').innerHTML\n",
       "    ).baseUrl.slice(0, -1);\n",
       "}\n",
       "url = baseURL + url;\n",
       "fetch(url).then(function(res) {\n",
       "    if (res.status === 404) {\n",
       "        div.innerHTML = 'Install QIIME 2 Jupyter extension with:<br />' +\n",
       "                        '<code>jupyter serverextension enable --py qiime2' +\n",
       "                        ' --sys-prefix</code><br />then restart your server.' +\n",
       "                        '<br /><br />(Interactive output not available on ' +\n",
       "                        'static notebook viewer services like nbviewer.)';\n",
       "    } else if (res.status === 409) {\n",
       "        div.innerHTML = 'Visualization no longer in scope. Re-run this cell' +\n",
       "                        ' to see the visualization.';\n",
       "    } else if (res.ok) {\n",
       "        url = res.url;\n",
       "        div.innerHTML = '<iframe src=\\'' + url + '\\' style=\\'' +\n",
       "                        'width: 100%; height: 700px; border: 0;\\'>' +\n",
       "                        '</iframe><hr />Open in a: <a href=\\'' + url + '\\'' +\n",
       "                        ' target=\\'_blank\\'>new window</a>'\n",
       "    } else {\n",
       "        div.innerHTML = 'Something has gone wrong. Check notebook server for' +\n",
       "                        ' errors.';\n",
       "    }\n",
       "});\n",
       "})(this.parentElement, '/qiime2/redirect?location=/tmp/qiime2-archive-1jzmm8y9')\" src=\"data:image/gif;base64,R0lGODlhAQABAIAAAP///wAAACH5BAEAAAAALAAAAAABAAEAAAICRAEAOw==\" /></div>"
      ],
      "text/plain": [
       "<visualization: Visualization uuid: 3c74f105-f319-46ee-86a0-b63176dff570>"
      ]
     },
     "execution_count": 4,
     "metadata": {},
     "output_type": "execute_result"
    }
   ],
   "source": [
    "Visualization.load(f'{data_dir}/core-metrics-results-bd/bc-race-significance.qzv')"
   ]
  },
  {
   "cell_type": "markdown",
   "id": "3bd24778-70bd-4e7a-a160-67be6d7effd6",
   "metadata": {},
   "source": [
    "**Testing differences between samples according to level of education = unsignificant**"
   ]
  },
  {
   "cell_type": "code",
   "execution_count": 62,
   "id": "f14eadf8-1a10-4595-ab34-72a12b0a834e",
   "metadata": {},
   "outputs": [
    {
     "name": "stdout",
     "output_type": "stream",
     "text": [
      "\u001b[32mSaved Visualization to: project_data/core-metrics-results-bd/bc-loe-significance.qzv\u001b[0m\n",
      "\u001b[0m"
     ]
    }
   ],
   "source": [
    "! qiime diversity beta-group-significance \\\n",
    "    --i-distance-matrix $data_dir/core-metrics-results/bray_curtis_distance_matrix.qza \\\n",
    "    --m-metadata-file $data_dir/sample_meta_data.tsv \\\n",
    "    --m-metadata-column GEN_level_of_education \\\n",
    "--p-pairwise\\\n",
    "--o-visualization $data_dir/core-metrics-results-bd/bc-loe-significance.qzv"
   ]
  },
  {
   "cell_type": "code",
   "execution_count": 63,
   "id": "085d7b97-2e7b-43ca-80f9-9ef5f436cc16",
   "metadata": {},
   "outputs": [
    {
     "data": {
      "text/html": [
       "<div><img onload=\"(function(div, url){\n",
       "if (typeof require !== 'undefined') {\n",
       "    var baseURL = require.toUrl('').split('/').slice(0, -2).join('/');\n",
       "} else {\n",
       "    var baseURL = JSON.parse(\n",
       "        document.getElementById('jupyter-config-data').innerHTML\n",
       "    ).baseUrl.slice(0, -1);\n",
       "}\n",
       "url = baseURL + url;\n",
       "fetch(url).then(function(res) {\n",
       "    if (res.status === 404) {\n",
       "        div.innerHTML = 'Install QIIME 2 Jupyter extension with:<br />' +\n",
       "                        '<code>jupyter serverextension enable --py qiime2' +\n",
       "                        ' --sys-prefix</code><br />then restart your server.' +\n",
       "                        '<br /><br />(Interactive output not available on ' +\n",
       "                        'static notebook viewer services like nbviewer.)';\n",
       "    } else if (res.status === 409) {\n",
       "        div.innerHTML = 'Visualization no longer in scope. Re-run this cell' +\n",
       "                        ' to see the visualization.';\n",
       "    } else if (res.ok) {\n",
       "        url = res.url;\n",
       "        div.innerHTML = '<iframe src=\\'' + url + '\\' style=\\'' +\n",
       "                        'width: 100%; height: 700px; border: 0;\\'>' +\n",
       "                        '</iframe><hr />Open in a: <a href=\\'' + url + '\\'' +\n",
       "                        ' target=\\'_blank\\'>new window</a>'\n",
       "    } else {\n",
       "        div.innerHTML = 'Something has gone wrong. Check notebook server for' +\n",
       "                        ' errors.';\n",
       "    }\n",
       "});\n",
       "})(this.parentElement, '/qiime2/redirect?location=/tmp/qiime2-archive-459tzro8')\" src=\"data:image/gif;base64,R0lGODlhAQABAIAAAP///wAAACH5BAEAAAAALAAAAAABAAEAAAICRAEAOw==\" /></div>"
      ],
      "text/plain": [
       "<visualization: Visualization uuid: 0c1e7e19-bb79-42e5-9de9-3d75962fd9f8>"
      ]
     },
     "execution_count": 63,
     "metadata": {},
     "output_type": "execute_result"
    }
   ],
   "source": [
    "Visualization.load(f'{data_dir}/core-metrics-results-bd/bc-loe-significance.qzv')"
   ]
  },
  {
   "cell_type": "markdown",
   "id": "1fe2a3cb",
   "metadata": {},
   "source": [
    "#### **Adonis implementation pf PERMANOVA tests**\n",
    "\n",
    "The `adonis` implementation of PERMANOVA (part of the r-vegan package) accepts a formula as input, which can consist of one or more independent terms. This might be useful for testing which covariates explain the most variation in our datasets."
   ]
  },
  {
   "cell_type": "code",
   "execution_count": 71,
   "id": "080f8551",
   "metadata": {
    "tags": []
   },
   "outputs": [
    {
     "name": "stdout",
     "output_type": "stream",
     "text": [
      "\u001b[32mSaved Visualization to: project_data/core-metrics-results-bd/adonis-bc-bmiageraceloe.qzv\u001b[0m\n",
      "\u001b[0m"
     ]
    }
   ],
   "source": [
    "! qiime diversity adonis \\\n",
    "    --i-distance-matrix $data_dir/core-metrics-results/bray_curtis_distance_matrix.qza \\\n",
    "    --m-metadata-file $data_dir/sample_meta_data.tsv \\\n",
    "    --p-formula \"GEN_bmi_cat*GEN_age_cat*GEN_race*GEN_level_of_education\" \\\n",
    "    --o-visualization $data_dir/core-metrics-results-bd/adonis-bc-bmiageraceloe.qzv"
   ]
  },
  {
   "cell_type": "markdown",
   "id": "02962025",
   "metadata": {},
   "source": [
    "<a id='sec3'></a>"
   ]
  },
  {
   "cell_type": "code",
   "execution_count": 3,
   "id": "18a68c0c-3b3c-4665-b72a-b0a4713d1d13",
   "metadata": {},
   "outputs": [
    {
     "data": {
      "text/html": [
       "<div><img onload=\"(function(div, url){\n",
       "if (typeof require !== 'undefined') {\n",
       "    var baseURL = require.toUrl('').split('/').slice(0, -2).join('/');\n",
       "} else {\n",
       "    var baseURL = JSON.parse(\n",
       "        document.getElementById('jupyter-config-data').innerHTML\n",
       "    ).baseUrl.slice(0, -1);\n",
       "}\n",
       "url = baseURL + url;\n",
       "fetch(url).then(function(res) {\n",
       "    if (res.status === 404) {\n",
       "        div.innerHTML = 'Install QIIME 2 Jupyter extension with:<br />' +\n",
       "                        '<code>jupyter serverextension enable --py qiime2' +\n",
       "                        ' --sys-prefix</code><br />then restart your server.' +\n",
       "                        '<br /><br />(Interactive output not available on ' +\n",
       "                        'static notebook viewer services like nbviewer.)';\n",
       "    } else if (res.status === 409) {\n",
       "        div.innerHTML = 'Visualization no longer in scope. Re-run this cell' +\n",
       "                        ' to see the visualization.';\n",
       "    } else if (res.ok) {\n",
       "        url = res.url;\n",
       "        div.innerHTML = '<iframe src=\\'' + url + '\\' style=\\'' +\n",
       "                        'width: 100%; height: 700px; border: 0;\\'>' +\n",
       "                        '</iframe><hr />Open in a: <a href=\\'' + url + '\\'' +\n",
       "                        ' target=\\'_blank\\'>new window</a>'\n",
       "    } else {\n",
       "        div.innerHTML = 'Something has gone wrong. Check notebook server for' +\n",
       "                        ' errors.';\n",
       "    }\n",
       "});\n",
       "})(this.parentElement, '/qiime2/redirect?location=/tmp/qiime2-archive-dxmv40__')\" src=\"data:image/gif;base64,R0lGODlhAQABAIAAAP///wAAACH5BAEAAAAALAAAAAABAAEAAAICRAEAOw==\" /></div>"
      ],
      "text/plain": [
       "<visualization: Visualization uuid: a49cf481-65b6-446f-9dee-7da0d9ead84c>"
      ]
     },
     "execution_count": 3,
     "metadata": {},
     "output_type": "execute_result"
    }
   ],
   "source": [
    "Visualization.load(f'{data_dir}/core-metrics-results-bd/adonis-bc-bmiageraceloe.qzv')"
   ]
  },
  {
   "cell_type": "markdown",
   "id": "068af5fd-07ee-4f4e-a411-7324ee1ff2bb",
   "metadata": {},
   "source": [
    "Reste à faire : génèrer automatiquement la liste des catégories que l'on pense d'intérêt (voir avec les filles si elles veulent garder toutes les catégories mais proposer avant), comme ça on fait qu'un seul test adonis pour tout et on screen juste ce qui ets inférieur à 0.05 et on aura rien oublié"
   ]
  },
  {
   "cell_type": "code",
   "execution_count": 4,
   "id": "8d74aeee-6204-4bcf-ae60-bdbb6ae3a85e",
   "metadata": {},
   "outputs": [],
   "source": [
    "! qiime diversity adonis \\\n",
    "    --i-distance-matrix $data_dir/core-metrics-results/weighted_unifrac_distance_matrix.qza \\\n",
    "    --m-metadata-file $data_dir/sample_meta_data.tsv \\\n",
    "    --p-formula \"NUT_alcohol_frequency*NUT_artificial_sweeteners*NUT_diet_type*NUT_drinks_per_session*NUT_fed_as_infant*NUT_fermented_plant_frequency*NUT_frozen_dessert_frequency*NUT_fruit_frequency*NUT_gluten*NUT_high_fat_red_meat_frequency*NUT_homecooked_meals_frequency*NUT_meat_eggs_frequency*NUT_milk_cheese_frequency*NUT_milk_substitute_frequency*NUT_olive_oil*NUT_poultry_frequency*NUT_prepared_meals_frequency*NUT_probiotic_frequency*NUT_red_meat_frequency*NUT_salted_snacks_frequency*NUT_seafood_frequency*NUT_sugary_sweets_frequency*NUT_vegetable_frequency*NUT_vitamin_b_supplement_frequency*NUT_vitamin_d_supplement_frequency*NUT_whole_eggs*NUT_whole_grain_frequency\" \\\n",
    "    --o-visualization $data_dir/core-metrics-results-bd/adonis-bc-todo.qzv"
   ]
  },
  {
   "cell_type": "code",
   "execution_count": 5,
   "id": "15f2163a-5404-4cef-a678-cd54b5d562cf",
   "metadata": {},
   "outputs": [
    {
     "ename": "ValueError",
     "evalue": "project_data/core-metrics-results-bd/adonis-bc-todo.qzv does not exist.",
     "output_type": "error",
     "traceback": [
      "\u001b[0;31m---------------------------------------------------------------------------\u001b[0m",
      "\u001b[0;31mValueError\u001b[0m                                Traceback (most recent call last)",
      "Input \u001b[0;32mIn [5]\u001b[0m, in \u001b[0;36m<cell line: 1>\u001b[0;34m()\u001b[0m\n\u001b[0;32m----> 1\u001b[0m \u001b[43mVisualization\u001b[49m\u001b[38;5;241;43m.\u001b[39;49m\u001b[43mload\u001b[49m\u001b[43m(\u001b[49m\u001b[38;5;124;43mf\u001b[39;49m\u001b[38;5;124;43m'\u001b[39;49m\u001b[38;5;132;43;01m{\u001b[39;49;00m\u001b[43mdata_dir\u001b[49m\u001b[38;5;132;43;01m}\u001b[39;49;00m\u001b[38;5;124;43m/core-metrics-results-bd/adonis-bc-todo.qzv\u001b[39;49m\u001b[38;5;124;43m'\u001b[39;49m\u001b[43m)\u001b[49m\n",
      "File \u001b[0;32m/opt/conda/lib/python3.8/site-packages/qiime2/sdk/result.py:66\u001b[0m, in \u001b[0;36mResult.load\u001b[0;34m(cls, filepath)\u001b[0m\n\u001b[1;32m     63\u001b[0m \u001b[38;5;129m@classmethod\u001b[39m\n\u001b[1;32m     64\u001b[0m \u001b[38;5;28;01mdef\u001b[39;00m \u001b[38;5;21mload\u001b[39m(\u001b[38;5;28mcls\u001b[39m, filepath):\n\u001b[1;32m     65\u001b[0m     \u001b[38;5;124;03m\"\"\"Factory for loading Artifacts and Visualizations.\"\"\"\u001b[39;00m\n\u001b[0;32m---> 66\u001b[0m     archiver \u001b[38;5;241m=\u001b[39m \u001b[43marchive\u001b[49m\u001b[38;5;241;43m.\u001b[39;49m\u001b[43mArchiver\u001b[49m\u001b[38;5;241;43m.\u001b[39;49m\u001b[43mload\u001b[49m\u001b[43m(\u001b[49m\u001b[43mfilepath\u001b[49m\u001b[43m)\u001b[49m\n\u001b[1;32m     68\u001b[0m     \u001b[38;5;28;01mif\u001b[39;00m Artifact\u001b[38;5;241m.\u001b[39m_is_valid_type(archiver\u001b[38;5;241m.\u001b[39mtype):\n\u001b[1;32m     69\u001b[0m         result \u001b[38;5;241m=\u001b[39m Artifact\u001b[38;5;241m.\u001b[39m\u001b[38;5;21m__new__\u001b[39m(Artifact)\n",
      "File \u001b[0;32m/opt/conda/lib/python3.8/site-packages/qiime2/core/archive/archiver.py:299\u001b[0m, in \u001b[0;36mArchiver.load\u001b[0;34m(cls, filepath)\u001b[0m\n\u001b[1;32m    297\u001b[0m \u001b[38;5;129m@classmethod\u001b[39m\n\u001b[1;32m    298\u001b[0m \u001b[38;5;28;01mdef\u001b[39;00m \u001b[38;5;21mload\u001b[39m(\u001b[38;5;28mcls\u001b[39m, filepath):\n\u001b[0;32m--> 299\u001b[0m     archive \u001b[38;5;241m=\u001b[39m \u001b[38;5;28;43mcls\u001b[39;49m\u001b[38;5;241;43m.\u001b[39;49m\u001b[43mget_archive\u001b[49m\u001b[43m(\u001b[49m\u001b[43mfilepath\u001b[49m\u001b[43m)\u001b[49m\n\u001b[1;32m    300\u001b[0m     Format \u001b[38;5;241m=\u001b[39m \u001b[38;5;28mcls\u001b[39m\u001b[38;5;241m.\u001b[39mget_format_class(archive\u001b[38;5;241m.\u001b[39mversion)\n\u001b[1;32m    301\u001b[0m     \u001b[38;5;28;01mif\u001b[39;00m Format \u001b[38;5;129;01mis\u001b[39;00m \u001b[38;5;28;01mNone\u001b[39;00m:\n",
      "File \u001b[0;32m/opt/conda/lib/python3.8/site-packages/qiime2/core/archive/archiver.py:259\u001b[0m, in \u001b[0;36mArchiver.get_archive\u001b[0;34m(cls, filepath)\u001b[0m\n\u001b[1;32m    257\u001b[0m filepath \u001b[38;5;241m=\u001b[39m pathlib\u001b[38;5;241m.\u001b[39mPath(filepath)\n\u001b[1;32m    258\u001b[0m \u001b[38;5;28;01mif\u001b[39;00m \u001b[38;5;129;01mnot\u001b[39;00m filepath\u001b[38;5;241m.\u001b[39mexists():\n\u001b[0;32m--> 259\u001b[0m     \u001b[38;5;28;01mraise\u001b[39;00m \u001b[38;5;167;01mValueError\u001b[39;00m(\u001b[38;5;124m\"\u001b[39m\u001b[38;5;132;01m%s\u001b[39;00m\u001b[38;5;124m does not exist.\u001b[39m\u001b[38;5;124m\"\u001b[39m \u001b[38;5;241m%\u001b[39m filepath)\n\u001b[1;32m    261\u001b[0m \u001b[38;5;28;01mif\u001b[39;00m _ZipArchive\u001b[38;5;241m.\u001b[39mis_archive_type(filepath):\n\u001b[1;32m    262\u001b[0m     archive \u001b[38;5;241m=\u001b[39m _ZipArchive(filepath)\n",
      "\u001b[0;31mValueError\u001b[0m: project_data/core-metrics-results-bd/adonis-bc-todo.qzv does not exist."
     ]
    }
   ],
   "source": [
    "Visualization.load(f'{data_dir}/core-metrics-results-bd/adonis-bc-todo.qzv')"
   ]
  },
  {
   "cell_type": "markdown",
   "id": "d6464cf2-504a-4290-83bf-2f2c952d470b",
   "metadata": {},
   "source": [
    "### Hypothesis 1 : alcool"
   ]
  },
  {
   "cell_type": "code",
   "execution_count": 7,
   "id": "d653ca5e-c1d6-4883-920c-2a616336f790",
   "metadata": {},
   "outputs": [
    {
     "name": "stdout",
     "output_type": "stream",
     "text": [
      "\u001b[32mSaved Visualization to: project_data/core-metrics-results-bd/adonis-wuc-H1alcooldiet.qzv\u001b[0m\n",
      "\u001b[0m"
     ]
    }
   ],
   "source": [
    "! qiime diversity adonis \\\n",
    "    --i-distance-matrix $data_dir/core-metrics-results/weighted_unifrac_distance_matrix.qza \\\n",
    "    --m-metadata-file $data_dir/sample_meta_data.tsv \\\n",
    "    --p-formula \"NUT_alcohol_frequency*NUT_alcohol_consumption\" \\\n",
    "    --o-visualization $data_dir/core-metrics-results-bd/adonis-wuc-H1alcool.qzv"
   ]
  },
  {
   "cell_type": "code",
   "execution_count": 9,
   "id": "a67604a2-b563-4dd7-a9e0-b63fd883239e",
   "metadata": {},
   "outputs": [
    {
     "data": {
      "text/html": [
       "<div><img onload=\"(function(div, url){\n",
       "if (typeof require !== 'undefined') {\n",
       "    var baseURL = require.toUrl('').split('/').slice(0, -2).join('/');\n",
       "} else {\n",
       "    var baseURL = JSON.parse(\n",
       "        document.getElementById('jupyter-config-data').innerHTML\n",
       "    ).baseUrl.slice(0, -1);\n",
       "}\n",
       "url = baseURL + url;\n",
       "fetch(url).then(function(res) {\n",
       "    if (res.status === 404) {\n",
       "        div.innerHTML = 'Install QIIME 2 Jupyter extension with:<br />' +\n",
       "                        '<code>jupyter serverextension enable --py qiime2' +\n",
       "                        ' --sys-prefix</code><br />then restart your server.' +\n",
       "                        '<br /><br />(Interactive output not available on ' +\n",
       "                        'static notebook viewer services like nbviewer.)';\n",
       "    } else if (res.status === 409) {\n",
       "        div.innerHTML = 'Visualization no longer in scope. Re-run this cell' +\n",
       "                        ' to see the visualization.';\n",
       "    } else if (res.ok) {\n",
       "        url = res.url;\n",
       "        div.innerHTML = '<iframe src=\\'' + url + '\\' style=\\'' +\n",
       "                        'width: 100%; height: 700px; border: 0;\\'>' +\n",
       "                        '</iframe><hr />Open in a: <a href=\\'' + url + '\\'' +\n",
       "                        ' target=\\'_blank\\'>new window</a>'\n",
       "    } else {\n",
       "        div.innerHTML = 'Something has gone wrong. Check notebook server for' +\n",
       "                        ' errors.';\n",
       "    }\n",
       "});\n",
       "})(this.parentElement, '/qiime2/redirect?location=/tmp/qiime2-archive-umpxnjgv')\" src=\"data:image/gif;base64,R0lGODlhAQABAIAAAP///wAAACH5BAEAAAAALAAAAAABAAEAAAICRAEAOw==\" /></div>"
      ],
      "text/plain": [
       "<visualization: Visualization uuid: 6d6399e1-bcfd-4451-b1ec-3e32c56d7f65>"
      ]
     },
     "execution_count": 9,
     "metadata": {},
     "output_type": "execute_result"
    }
   ],
   "source": [
    "Visualization.load(f'{data_dir}/core-metrics-results-bd/adonis-wuc-H1alcool.qzv')"
   ]
  },
  {
   "cell_type": "markdown",
   "id": "b5016f5c-3e16-42b9-8109-17519d7d5b13",
   "metadata": {},
   "source": [
    "### Hypothesis 2 : Milk products"
   ]
  },
  {
   "cell_type": "code",
   "execution_count": 10,
   "id": "595750d1-2eba-4bbb-8f62-8dc4874e0aed",
   "metadata": {},
   "outputs": [
    {
     "name": "stdout",
     "output_type": "stream",
     "text": [
      "\u001b[32mSaved Visualization to: project_data/core-metrics-results-bd/adonis-wu-H2milkp.qzv\u001b[0m\n",
      "\u001b[0m"
     ]
    }
   ],
   "source": [
    "! qiime diversity adonis \\\n",
    "    --i-distance-matrix $data_dir/core-metrics-results/weighted_unifrac_distance_matrix.qza \\\n",
    "    --m-metadata-file $data_dir/sample_meta_data.tsv \\\n",
    "    --p-formula \"NUT_milk_cheese_frequency*NUT_milk_substitute_frequency*NUT_vitamin_d_supplement_frequency\" \\\n",
    "    --o-visualization $data_dir/core-metrics-results-bd/adonis-wu-H2milkp.qzv"
   ]
  },
  {
   "cell_type": "code",
   "execution_count": 11,
   "id": "9745ae97-8391-417f-bdd9-4b26aa896117",
   "metadata": {},
   "outputs": [
    {
     "data": {
      "text/html": [
       "<div><img onload=\"(function(div, url){\n",
       "if (typeof require !== 'undefined') {\n",
       "    var baseURL = require.toUrl('').split('/').slice(0, -2).join('/');\n",
       "} else {\n",
       "    var baseURL = JSON.parse(\n",
       "        document.getElementById('jupyter-config-data').innerHTML\n",
       "    ).baseUrl.slice(0, -1);\n",
       "}\n",
       "url = baseURL + url;\n",
       "fetch(url).then(function(res) {\n",
       "    if (res.status === 404) {\n",
       "        div.innerHTML = 'Install QIIME 2 Jupyter extension with:<br />' +\n",
       "                        '<code>jupyter serverextension enable --py qiime2' +\n",
       "                        ' --sys-prefix</code><br />then restart your server.' +\n",
       "                        '<br /><br />(Interactive output not available on ' +\n",
       "                        'static notebook viewer services like nbviewer.)';\n",
       "    } else if (res.status === 409) {\n",
       "        div.innerHTML = 'Visualization no longer in scope. Re-run this cell' +\n",
       "                        ' to see the visualization.';\n",
       "    } else if (res.ok) {\n",
       "        url = res.url;\n",
       "        div.innerHTML = '<iframe src=\\'' + url + '\\' style=\\'' +\n",
       "                        'width: 100%; height: 700px; border: 0;\\'>' +\n",
       "                        '</iframe><hr />Open in a: <a href=\\'' + url + '\\'' +\n",
       "                        ' target=\\'_blank\\'>new window</a>'\n",
       "    } else {\n",
       "        div.innerHTML = 'Something has gone wrong. Check notebook server for' +\n",
       "                        ' errors.';\n",
       "    }\n",
       "});\n",
       "})(this.parentElement, '/qiime2/redirect?location=/tmp/qiime2-archive-sn39thlz')\" src=\"data:image/gif;base64,R0lGODlhAQABAIAAAP///wAAACH5BAEAAAAALAAAAAABAAEAAAICRAEAOw==\" /></div>"
      ],
      "text/plain": [
       "<visualization: Visualization uuid: 89def620-4fc3-4cfc-bea1-83454f0a062b>"
      ]
     },
     "execution_count": 11,
     "metadata": {},
     "output_type": "execute_result"
    }
   ],
   "source": [
    "Visualization.load(f'{data_dir}/core-metrics-results-bd/adonis-wu-H2milkp.qzv')"
   ]
  },
  {
   "cell_type": "markdown",
   "id": "3fc489ae-3728-4edf-8037-1de18816d4f2",
   "metadata": {},
   "source": [
    "### Hypothesis 3 : Mediterranean diet"
   ]
  },
  {
   "cell_type": "code",
   "execution_count": null,
   "id": "3cc89274-7780-4226-a7b6-1fe57fcb076e",
   "metadata": {},
   "outputs": [],
   "source": [
    "! qiime diversity adonis \\\n",
    "    --i-distance-matrix $data_dir/core-metrics-results/weighted_unifrac_distance_matrix.qza \\\n",
    "    --m-metadata-file $data_dir/sample_meta_data.tsv \\\n",
    "    --p-formula \"NUT_olive_oil*NUT_seafood_frequency*NUT_vegetable_frequency*NUT_fruit_frequency*NUT_whole_grain_frequency\" \\\n",
    "    --o-visualization $data_dir/core-metrics-results-bd/adonis-wu-H3med.qzv"
   ]
  },
  {
   "cell_type": "code",
   "execution_count": null,
   "id": "5298a93f-ec7d-402b-81af-dbf7c5368025",
   "metadata": {},
   "outputs": [],
   "source": [
    "Visualization.load(f'{data_dir}/core-metrics-results-bd/adonis-wu-H3med.qzv')"
   ]
  },
  {
   "cell_type": "markdown",
   "id": "cf946a47-a5c2-48a3-8577-d34ffdd87584",
   "metadata": {},
   "source": [
    "### Hypothesis 4 : Poultry"
   ]
  },
  {
   "cell_type": "code",
   "execution_count": null,
   "id": "337a7a37-600e-435f-8a2b-cc2eace15a7b",
   "metadata": {},
   "outputs": [],
   "source": [
    "! qiime diversity adonis \\\n",
    "    --i-distance-matrix $data_dir/core-metrics-results/weighted_unifrac_distance_matrix.qza \\\n",
    "    --m-metadata-file $data_dir/sample_meta_data.tsv \\\n",
    "    --p-formula \"NUT_whole_eggs*NUT_poultry_frequency\" \\\n",
    "    --o-visualization $data_dir/core-metrics-results-bd/adonis-wu-H4poultry.qzv"
   ]
  },
  {
   "cell_type": "code",
   "execution_count": null,
   "id": "6d1734d8-1c91-4c53-af83-98a113914e2b",
   "metadata": {},
   "outputs": [],
   "source": [
    "Visualization.load(f'{data_dir}/core-metrics-results-bd/adonis-wu-H4poultry.qzv')"
   ]
  },
  {
   "cell_type": "code",
   "execution_count": null,
   "id": "1d53e1de-d573-410b-b98e-798350e3218d",
   "metadata": {},
   "outputs": [],
   "source": []
  },
  {
   "cell_type": "code",
   "execution_count": null,
   "id": "090f493c-a74b-40cf-8118-e921fe95168d",
   "metadata": {},
   "outputs": [],
   "source": [
    "! qiime diversity adonis \\\n",
    "    --i-distance-matrix $data_dir/core-metrics-results/weighted_unifrac_distance_matrix.qza \\\n",
    "    --m-metadata-file $data_dir/sample_meta_data.tsv \\\n",
    "    --p-formula \"NUT_olive_oil*NUT_seafood_frequency*NUT_vegetable_frequency*NUT_fruit_frequency*NUT_whole_grain_frequency\" \\\n",
    "    --o-visualization $data_dir/core-metrics-results-bd/adonis-wu-H3med.qzv"
   ]
  },
  {
   "cell_type": "code",
   "execution_count": null,
   "id": "f92cee14-dc87-4063-8cba-51a4c81ab3c1",
   "metadata": {},
   "outputs": [],
   "source": []
  }
 ],
 "metadata": {
  "kernelspec": {
   "display_name": "Python 3 (ipykernel)",
   "language": "python",
   "name": "python3"
  },
  "language_info": {
   "codemirror_mode": {
    "name": "ipython",
    "version": 3
   },
   "file_extension": ".py",
   "mimetype": "text/x-python",
   "name": "python",
   "nbconvert_exporter": "python",
   "pygments_lexer": "ipython3",
   "version": "3.8.13"
  },
  "toc": {
   "base_numbering": 1,
   "nav_menu": {},
   "number_sections": true,
   "sideBar": true,
   "skip_h1_title": false,
   "title_cell": "Table of Contents",
   "title_sidebar": "Contents",
   "toc_cell": false,
   "toc_position": {},
   "toc_section_display": true,
   "toc_window_display": false
  }
 },
 "nbformat": 4,
 "nbformat_minor": 5
}
