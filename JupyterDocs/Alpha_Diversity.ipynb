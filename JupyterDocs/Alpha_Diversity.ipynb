{
 "cells": [
  {
   "cell_type": "markdown",
   "id": "46b98064-bf49-4594-a5d0-40298a10b3b8",
   "metadata": {},
   "source": [
    "# Alpha Diversity Analysis"
   ]
  },
  {
   "cell_type": "markdown",
   "id": "59f4146e-ea7d-4747-9c42-d5621cd06404",
   "metadata": {},
   "source": [
    "Measurement of within sample diversity."
   ]
  },
  {
   "cell_type": "code",
   "execution_count": 1,
   "id": "c14d59d4-cd33-4392-9e15-4a6af5425149",
   "metadata": {},
   "outputs": [],
   "source": [
    "import os\n",
    "import pandas as pd\n",
    "import qiime2 as q2\n",
    "from qiime2 import Visualization\n",
    "\n",
    "%matplotlib inline"
   ]
  },
  {
   "cell_type": "code",
   "execution_count": 2,
   "id": "b5bce7f0-d71e-408e-b3f8-df2888cd0640",
   "metadata": {},
   "outputs": [],
   "source": [
    "# location of the data and all the results produced by this notebook \n",
    "\n",
    "data_dir = 'seq_data_new'"
   ]
  },
  {
   "cell_type": "markdown",
   "id": "da32f927-3207-4e57-b126-c89ab16f4cb4",
   "metadata": {},
   "source": [
    "# 1. Data import"
   ]
  },
  {
   "cell_type": "markdown",
   "id": "a9e827e1-7d34-4b83-a326-62ddea7e5ac4",
   "metadata": {},
   "source": [
    "### 1.1 Metadata"
   ]
  },
  {
   "cell_type": "code",
   "execution_count": 3,
   "id": "8ea5d597-ccee-4175-b3c7-f48ffd79ab40",
   "metadata": {},
   "outputs": [],
   "source": [
    "metadata_df = pd.read_csv(f'project_data/sample_meta_data.tsv', sep='\\t', index_col=0)"
   ]
  },
  {
   "cell_type": "code",
   "execution_count": 11,
   "id": "ce9e8f26-e50e-4326-b3a6-e4fb5e6a2268",
   "metadata": {},
   "outputs": [
    {
     "data": {
      "text/plain": [
       "(523, 56)"
      ]
     },
     "execution_count": 11,
     "metadata": {},
     "output_type": "execute_result"
    }
   ],
   "source": [
    "metadata_df.shape"
   ]
  },
  {
   "cell_type": "markdown",
   "id": "f40af6ce-87fa-4a89-9454-1218edb938ed",
   "metadata": {},
   "source": [
    "### 1.2 Feature Table"
   ]
  },
  {
   "cell_type": "markdown",
   "id": "6e514905-ca02-4885-ac7a-08af58553e14",
   "metadata": {},
   "source": [
    "Load feature table visulaisation produced in Sequence_import script:"
   ]
  },
  {
   "cell_type": "code",
   "execution_count": 5,
   "id": "ee0d6d0d-6d82-41b5-8c86-876bdd7937b7",
   "metadata": {},
   "outputs": [
    {
     "data": {
      "text/html": [
       "<div><img onload=\"(function(div, url){\n",
       "if (typeof require !== 'undefined') {\n",
       "    var baseURL = require.toUrl('').split('/').slice(0, -2).join('/');\n",
       "} else {\n",
       "    var baseURL = JSON.parse(\n",
       "        document.getElementById('jupyter-config-data').innerHTML\n",
       "    ).baseUrl.slice(0, -1);\n",
       "}\n",
       "url = baseURL + url;\n",
       "fetch(url).then(function(res) {\n",
       "    if (res.status === 404) {\n",
       "        div.innerHTML = 'Install QIIME 2 Jupyter extension with:<br />' +\n",
       "                        '<code>jupyter serverextension enable --py qiime2' +\n",
       "                        ' --sys-prefix</code><br />then restart your server.' +\n",
       "                        '<br /><br />(Interactive output not available on ' +\n",
       "                        'static notebook viewer services like nbviewer.)';\n",
       "    } else if (res.status === 409) {\n",
       "        div.innerHTML = 'Visualization no longer in scope. Re-run this cell' +\n",
       "                        ' to see the visualization.';\n",
       "    } else if (res.ok) {\n",
       "        url = res.url;\n",
       "        div.innerHTML = '<iframe src=\\'' + url + '\\' style=\\'' +\n",
       "                        'width: 100%; height: 700px; border: 0;\\'>' +\n",
       "                        '</iframe><hr />Open in a: <a href=\\'' + url + '\\'' +\n",
       "                        ' target=\\'_blank\\'>new window</a>'\n",
       "    } else {\n",
       "        div.innerHTML = 'Something has gone wrong. Check notebook server for' +\n",
       "                        ' errors.';\n",
       "    }\n",
       "});\n",
       "})(this.parentElement, '/qiime2/redirect?location=/tmp/qiime2-archive-g8y97q3w')\" src=\"data:image/gif;base64,R0lGODlhAQABAIAAAP///wAAACH5BAEAAAAALAAAAAABAAEAAAICRAEAOw==\" /></div>"
      ],
      "text/plain": [
       "<visualization: Visualization uuid: ee815b15-bd34-4f09-b5e3-b4a6a9131396>"
      ]
     },
     "execution_count": 5,
     "metadata": {},
     "output_type": "execute_result"
    }
   ],
   "source": [
    "Visualization.load(f'seq_data_new/dada2_table.qzv')"
   ]
  },
  {
   "cell_type": "markdown",
   "id": "e4a4e414-0547-4f1a-b313-c5acf8f8a52d",
   "metadata": {},
   "source": [
    "### 1.3 Pre created phylogenetic tree"
   ]
  },
  {
   "cell_type": "markdown",
   "id": "0c23e873-8d17-4951-8a35-e42a9cb8dd31",
   "metadata": {},
   "source": [
    "Load created phylogenetic tree _____ made in workbook XXX for our dataset. We need a pre-created phylogenetic tree for our dataset as some diversity metrics in our further analysis need to know the relatedness between sequences."
   ]
  },
  {
   "cell_type": "markdown",
   "id": "0fc08175-0d29-4483-9163-64e240f4c908",
   "metadata": {},
   "source": [
    "### here load the tree we make from HW 5!"
   ]
  },
  {
   "cell_type": "code",
   "execution_count": 6,
   "id": "fd28786b-ad6d-4d60-a306-3cbf43fa898a",
   "metadata": {},
   "outputs": [
    {
     "name": "stdout",
     "output_type": "stream",
     "text": [
      "\u001b[32mSaved Visualization to: seq_data_new/insertion-tree.qzv\u001b[0m\n",
      "\u001b[0m"
     ]
    }
   ],
   "source": [
    "! qiime empress tree-plot \\\n",
    "    --i-tree project_data/alpha-diversity-insertion-tree.qza \\\n",
    "    --o-visualization $data_dir/insertion-tree.qzv"
   ]
  },
  {
   "cell_type": "code",
   "execution_count": 7,
   "id": "878d2d23-0b93-440b-b812-bbef869ef5a2",
   "metadata": {},
   "outputs": [
    {
     "data": {
      "text/html": [
       "<div><img onload=\"(function(div, url){\n",
       "if (typeof require !== 'undefined') {\n",
       "    var baseURL = require.toUrl('').split('/').slice(0, -2).join('/');\n",
       "} else {\n",
       "    var baseURL = JSON.parse(\n",
       "        document.getElementById('jupyter-config-data').innerHTML\n",
       "    ).baseUrl.slice(0, -1);\n",
       "}\n",
       "url = baseURL + url;\n",
       "fetch(url).then(function(res) {\n",
       "    if (res.status === 404) {\n",
       "        div.innerHTML = 'Install QIIME 2 Jupyter extension with:<br />' +\n",
       "                        '<code>jupyter serverextension enable --py qiime2' +\n",
       "                        ' --sys-prefix</code><br />then restart your server.' +\n",
       "                        '<br /><br />(Interactive output not available on ' +\n",
       "                        'static notebook viewer services like nbviewer.)';\n",
       "    } else if (res.status === 409) {\n",
       "        div.innerHTML = 'Visualization no longer in scope. Re-run this cell' +\n",
       "                        ' to see the visualization.';\n",
       "    } else if (res.ok) {\n",
       "        url = res.url;\n",
       "        div.innerHTML = '<iframe src=\\'' + url + '\\' style=\\'' +\n",
       "                        'width: 100%; height: 700px; border: 0;\\'>' +\n",
       "                        '</iframe><hr />Open in a: <a href=\\'' + url + '\\'' +\n",
       "                        ' target=\\'_blank\\'>new window</a>'\n",
       "    } else {\n",
       "        div.innerHTML = 'Something has gone wrong. Check notebook server for' +\n",
       "                        ' errors.';\n",
       "    }\n",
       "});\n",
       "})(this.parentElement, '/qiime2/redirect?location=/tmp/qiime2-archive-8989rpno')\" src=\"data:image/gif;base64,R0lGODlhAQABAIAAAP///wAAACH5BAEAAAAALAAAAAABAAEAAAICRAEAOw==\" /></div>"
      ],
      "text/plain": [
       "<visualization: Visualization uuid: 04f24759-f5b2-468a-92bf-acedb8e3807e>"
      ]
     },
     "execution_count": 7,
     "metadata": {},
     "output_type": "execute_result"
    }
   ],
   "source": [
    "Visualization.load(f'{data_dir}/insertion-tree.qzv')"
   ]
  },
  {
   "cell_type": "markdown",
   "id": "0ade31f3-03c1-4acd-a221-09dc4fe80a38",
   "metadata": {},
   "source": [
    "# 2. Alpha rarefaction"
   ]
  },
  {
   "cell_type": "markdown",
   "id": "eae5e6aa-744d-4969-8f94-923dafe56eec",
   "metadata": {},
   "source": [
    "To decide the threshold for rarefying interactive alpha rarefaction curves are produced with the alpha-rarefaction action."
   ]
  },
  {
   "cell_type": "code",
   "execution_count": 13,
   "id": "cfe89ed5-ffb0-4ffb-8eb5-afadc483b8d3",
   "metadata": {},
   "outputs": [
    {
     "ename": "IndentationError",
     "evalue": "unexpected indent (3134595576.py, line 2)",
     "output_type": "error",
     "traceback": [
      "\u001b[0;36m  Input \u001b[0;32mIn [13]\u001b[0;36m\u001b[0m\n\u001b[0;31m    --i-phylogeny project_data/alpha-diversity-insertion-tree.qza \\  #Here insert our created tree from our dataset\u001b[0m\n\u001b[0m    ^\u001b[0m\n\u001b[0;31mIndentationError\u001b[0m\u001b[0;31m:\u001b[0m unexpected indent\n"
     ]
    }
   ],
   "source": [
    "! qiime diversity alpha-rarefaction \\\n",
    "    --i-table $data_dir/dada2_table.qza \\ #here insert the feature table from the sequence import script\n",
    "    --i-phylogeny project_data/alpha-diversity-insertion-tree.qza \\  #Here insert our created tree from our dataset\n",
    "    --p-max-depth 20000 \\ #set the max depth to a reasonable value so not too much data gets lost\n",
    "    --m-metadata-file project_data/sample_meta_data.tsv \\  #here load the metadata\n",
    "    --o-visualization $data_dir/alpha-rarefaction.qzv"
   ]
  },
  {
   "cell_type": "code",
   "execution_count": 9,
   "id": "5d1969d1-51b8-430a-877d-c4f93c0414f7",
   "metadata": {
    "collapsed": true,
    "jupyter": {
     "outputs_hidden": true
    },
    "tags": []
   },
   "outputs": [
    {
     "ename": "ValueError",
     "evalue": "seq_data_new/alpha-rarefaction.qzv does not exist.",
     "output_type": "error",
     "traceback": [
      "\u001b[0;31m---------------------------------------------------------------------------\u001b[0m",
      "\u001b[0;31mValueError\u001b[0m                                Traceback (most recent call last)",
      "Input \u001b[0;32mIn [9]\u001b[0m, in \u001b[0;36m<cell line: 1>\u001b[0;34m()\u001b[0m\n\u001b[0;32m----> 1\u001b[0m \u001b[43mVisualization\u001b[49m\u001b[38;5;241;43m.\u001b[39;49m\u001b[43mload\u001b[49m\u001b[43m(\u001b[49m\u001b[38;5;124;43mf\u001b[39;49m\u001b[38;5;124;43m'\u001b[39;49m\u001b[38;5;132;43;01m{\u001b[39;49;00m\u001b[43mdata_dir\u001b[49m\u001b[38;5;132;43;01m}\u001b[39;49;00m\u001b[38;5;124;43m/alpha-rarefaction.qzv\u001b[39;49m\u001b[38;5;124;43m'\u001b[39;49m\u001b[43m)\u001b[49m\n",
      "File \u001b[0;32m/opt/conda/lib/python3.8/site-packages/qiime2/sdk/result.py:66\u001b[0m, in \u001b[0;36mResult.load\u001b[0;34m(cls, filepath)\u001b[0m\n\u001b[1;32m     63\u001b[0m \u001b[38;5;129m@classmethod\u001b[39m\n\u001b[1;32m     64\u001b[0m \u001b[38;5;28;01mdef\u001b[39;00m \u001b[38;5;21mload\u001b[39m(\u001b[38;5;28mcls\u001b[39m, filepath):\n\u001b[1;32m     65\u001b[0m     \u001b[38;5;124;03m\"\"\"Factory for loading Artifacts and Visualizations.\"\"\"\u001b[39;00m\n\u001b[0;32m---> 66\u001b[0m     archiver \u001b[38;5;241m=\u001b[39m \u001b[43marchive\u001b[49m\u001b[38;5;241;43m.\u001b[39;49m\u001b[43mArchiver\u001b[49m\u001b[38;5;241;43m.\u001b[39;49m\u001b[43mload\u001b[49m\u001b[43m(\u001b[49m\u001b[43mfilepath\u001b[49m\u001b[43m)\u001b[49m\n\u001b[1;32m     68\u001b[0m     \u001b[38;5;28;01mif\u001b[39;00m Artifact\u001b[38;5;241m.\u001b[39m_is_valid_type(archiver\u001b[38;5;241m.\u001b[39mtype):\n\u001b[1;32m     69\u001b[0m         result \u001b[38;5;241m=\u001b[39m Artifact\u001b[38;5;241m.\u001b[39m\u001b[38;5;21m__new__\u001b[39m(Artifact)\n",
      "File \u001b[0;32m/opt/conda/lib/python3.8/site-packages/qiime2/core/archive/archiver.py:299\u001b[0m, in \u001b[0;36mArchiver.load\u001b[0;34m(cls, filepath)\u001b[0m\n\u001b[1;32m    297\u001b[0m \u001b[38;5;129m@classmethod\u001b[39m\n\u001b[1;32m    298\u001b[0m \u001b[38;5;28;01mdef\u001b[39;00m \u001b[38;5;21mload\u001b[39m(\u001b[38;5;28mcls\u001b[39m, filepath):\n\u001b[0;32m--> 299\u001b[0m     archive \u001b[38;5;241m=\u001b[39m \u001b[38;5;28;43mcls\u001b[39;49m\u001b[38;5;241;43m.\u001b[39;49m\u001b[43mget_archive\u001b[49m\u001b[43m(\u001b[49m\u001b[43mfilepath\u001b[49m\u001b[43m)\u001b[49m\n\u001b[1;32m    300\u001b[0m     Format \u001b[38;5;241m=\u001b[39m \u001b[38;5;28mcls\u001b[39m\u001b[38;5;241m.\u001b[39mget_format_class(archive\u001b[38;5;241m.\u001b[39mversion)\n\u001b[1;32m    301\u001b[0m     \u001b[38;5;28;01mif\u001b[39;00m Format \u001b[38;5;129;01mis\u001b[39;00m \u001b[38;5;28;01mNone\u001b[39;00m:\n",
      "File \u001b[0;32m/opt/conda/lib/python3.8/site-packages/qiime2/core/archive/archiver.py:259\u001b[0m, in \u001b[0;36mArchiver.get_archive\u001b[0;34m(cls, filepath)\u001b[0m\n\u001b[1;32m    257\u001b[0m filepath \u001b[38;5;241m=\u001b[39m pathlib\u001b[38;5;241m.\u001b[39mPath(filepath)\n\u001b[1;32m    258\u001b[0m \u001b[38;5;28;01mif\u001b[39;00m \u001b[38;5;129;01mnot\u001b[39;00m filepath\u001b[38;5;241m.\u001b[39mexists():\n\u001b[0;32m--> 259\u001b[0m     \u001b[38;5;28;01mraise\u001b[39;00m \u001b[38;5;167;01mValueError\u001b[39;00m(\u001b[38;5;124m\"\u001b[39m\u001b[38;5;132;01m%s\u001b[39;00m\u001b[38;5;124m does not exist.\u001b[39m\u001b[38;5;124m\"\u001b[39m \u001b[38;5;241m%\u001b[39m filepath)\n\u001b[1;32m    261\u001b[0m \u001b[38;5;28;01mif\u001b[39;00m _ZipArchive\u001b[38;5;241m.\u001b[39mis_archive_type(filepath):\n\u001b[1;32m    262\u001b[0m     archive \u001b[38;5;241m=\u001b[39m _ZipArchive(filepath)\n",
      "\u001b[0;31mValueError\u001b[0m: seq_data_new/alpha-rarefaction.qzv does not exist."
     ]
    }
   ],
   "source": [
    "Visualization.load(f'{data_dir}/alpha-rarefaction.qzv')"
   ]
  },
  {
   "cell_type": "markdown",
   "id": "35922ef1-0ccc-4118-be99-8c4addc48452",
   "metadata": {},
   "source": [
    "The top plot in the visulaization shows the alpha diversity over different sequencing depth in our data. When teh curve reaches a plateau, higher sequencing depth would not result in a different estimated sample diversity metric.\n",
    "The bottom plot visualized the remaining sample count, when the feature table is rarefied to the specific sample depth shown on the x-axis.\n",
    "The goal is to select a sequencing depth for rarefaction at which sample loss is minimized while alpha diversity is maximized. This serves as rarefying threshold in the folowing step.\n",
    "\n",
    "Here sample depht ___ is choosen as at this depth it reaches the plateau in alphadiversity while not too many samples are lost. By investigating the above created featrue table, ___ percent of the samples are lost at this sequencing depth. The main lost lies in group ____.\n"
   ]
  },
  {
   "cell_type": "markdown",
   "id": "cdd750ec-06af-4a72-a7bb-09972d30044e",
   "metadata": {},
   "source": [
    "# 3. Diversity Analysis"
   ]
  },
  {
   "cell_type": "markdown",
   "id": "f49c621b-563b-4e80-ba20-76df57b50043",
   "metadata": {},
   "source": [
    "Now the various diversity metrics at choosen raarefaction depth are outputted with the core-metrics-phylogenetic function. This function rarefies the feature table and at the same time calculated diversity metrics for it."
   ]
  },
  {
   "cell_type": "code",
   "execution_count": null,
   "id": "7c8c49a7-f02c-49cc-a6ce-43e75c14960e",
   "metadata": {},
   "outputs": [],
   "source": [
    "! qiime diversity core-metrics-phylogenetic \\\n",
    "  --i-table $data_dir/feature-table.qza \\\n",
    "  --i-phylogeny $data_dir/insertion-tree.qza \\\n",
    "  --m-metadata-file project_data/sample_meta_data.tsv \\\n",
    "  --p-sampling-depth 1500 \\  #insert the choosen sequencing depth\n",
    "  --output-dir $data_dir/core-metrics-results"
   ]
  },
  {
   "cell_type": "markdown",
   "id": "6b529e06-4dcd-42db-b3b1-2c9901799c50",
   "metadata": {},
   "source": [
    "## 3.1 Alpha diversity"
   ]
  },
  {
   "cell_type": "markdown",
   "id": "ef064978-df0f-445b-a683-ce5887db0423",
   "metadata": {},
   "source": [
    "### Association with categorical valiables"
   ]
  },
  {
   "cell_type": "markdown",
   "id": "d6259f86-ed0d-40e8-99e1-11b95dc69755",
   "metadata": {},
   "source": [
    "To test for significant differenced of alpha diversity we run the Kruskal-Wallis test to check which categorial valiebles form the metadata are strongly associated with the within sample diversity. (With the  `qiime diversity alpha-group-significance` function)"
   ]
  },
  {
   "cell_type": "code",
   "execution_count": null,
   "id": "daa30e83-1ff7-45d8-96c4-8a374f21df83",
   "metadata": {},
   "outputs": [],
   "source": [
    "! qiime diversity alpha-group-significance \\\n",
    "  --i-alpha-diversity $data_dir/core-metrics-results/faith_pd_vector.qza \\\n",
    "  --m-metadata-file $data_dir/metadata_proc.tsv \\\n",
    "  --o-visualization $data_dir/core-metrics-results/faith-pd-group-significance.qzv"
   ]
  },
  {
   "cell_type": "code",
   "execution_count": null,
   "id": "fbee159b-d5ff-429a-812f-89d0b1f38e59",
   "metadata": {},
   "outputs": [],
   "source": [
    "Visualization.load(f'{data_dir}/core-metrics-results/faith-pd-group-significance.qzv')"
   ]
  },
  {
   "cell_type": "markdown",
   "id": "2385d1d4-12a3-4fba-833d-1aaf0de9f5d6",
   "metadata": {},
   "source": [
    "As per definition \"the null hypothesis is that the medians of all groups are equal, and the alternative hypothesis is that at least one population median of one group is different from the population median of at least one other group. A significant Kruskal–Wallis test indicates that at least one sample stochastically dominates one other sample.\" (Wikipedia). As the columns ______ have a significant p-value, they are all associated with differences in microbial community richness."
   ]
  },
  {
   "cell_type": "markdown",
   "id": "49681541-e4bb-4afb-9f10-0e08df42e257",
   "metadata": {},
   "source": [
    "### Association with numerical valiables"
   ]
  },
  {
   "cell_type": "markdown",
   "id": "980d17a7-f1ff-499c-831b-324b389c0b35",
   "metadata": {},
   "source": [
    "To make an additional test for significant differenced of alpha diversity we run the Spearman correlation test to check which numerical valiebles form the metadata are strongly associated with the within sample diversity. (with the `qiime diversity alpha-correlation` function)"
   ]
  },
  {
   "cell_type": "code",
   "execution_count": null,
   "id": "20a419c5-5031-465c-ab95-e2d6d29b3c5d",
   "metadata": {},
   "outputs": [],
   "source": [
    "! qiime diversity alpha-correlation \\\n",
    "  --i-alpha-diversity $data_dir/core-metrics-results/faith_pd_vector.qza \\\n",
    "  --m-metadata-file $data_dir/metadata_proc.tsv \\\n",
    "  --o-visualization $data_dir/core-metrics-results/faith-pd-group-significance-numeric.qzv"
   ]
  },
  {
   "cell_type": "code",
   "execution_count": null,
   "id": "03569e2e-710c-428f-bb8c-ff059b655da4",
   "metadata": {},
   "outputs": [],
   "source": [
    "Visualization.load(f'{data_dir}/core-metrics-results/faith-pd-group-significance-numeric.qzv')"
   ]
  },
  {
   "cell_type": "markdown",
   "id": "28caff4f-f627-4f21-b2fc-50791cfb4500",
   "metadata": {},
   "source": [
    "### ANOVA test"
   ]
  },
  {
   "cell_type": "raw",
   "id": "3feb3c27-80f3-4937-846d-381b0a63fd27",
   "metadata": {},
   "source": [
    "Instead of running one-way Kruskal Wallis tests, an ANOVA test can also be used to compare alpha diversity values between groups, provided that the other assumptions of ANOVA are correct (such as normal distribution; alpha diversity values often are, but it depends). We do not have time in class this week to use it, but the `q2-longitudinal` plugin has an `anova` action."
   ]
  }
 ],
 "metadata": {
  "kernelspec": {
   "display_name": "Python 3 (ipykernel)",
   "language": "python",
   "name": "python3"
  },
  "language_info": {
   "codemirror_mode": {
    "name": "ipython",
    "version": 3
   },
   "file_extension": ".py",
   "mimetype": "text/x-python",
   "name": "python",
   "nbconvert_exporter": "python",
   "pygments_lexer": "ipython3",
   "version": "3.8.13"
  }
 },
 "nbformat": 4,
 "nbformat_minor": 5
}
