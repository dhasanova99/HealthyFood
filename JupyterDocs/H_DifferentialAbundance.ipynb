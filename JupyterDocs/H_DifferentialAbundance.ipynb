{
 "cells": [
  {
   "cell_type": "markdown",
   "id": "869f9005-9996-4196-b102-289e4106d5be",
   "metadata": {},
   "source": [
    "#  Differential abundance analysis"
   ]
  },
  {
   "cell_type": "markdown",
   "id": "b0ac3649-fec7-49ea-9810-839424705e36",
   "metadata": {},
   "source": [
    "### 0. Setup"
   ]
  },
  {
   "cell_type": "code",
   "execution_count": 1,
   "id": "8ca0958b-8ba3-446d-af87-ab352c774027",
   "metadata": {},
   "outputs": [],
   "source": [
    "import os\n",
    "import matplotlib.pyplot as plt\n",
    "import pandas as pd\n",
    "import qiime2 as q2\n",
    "from qiime2 import Visualization\n",
    "import seaborn as sns\n",
    "from scipy.stats import shapiro, kruskal, f_oneway\n",
    "\n",
    "%matplotlib inline"
   ]
  },
  {
   "cell_type": "code",
   "execution_count": 2,
   "id": "87d2cb1a-e8f1-411d-ac92-e2b796ee76aa",
   "metadata": {},
   "outputs": [],
   "source": [
    "# location of the data and all the results produced by this notebook \n",
    "data_dir = 'project_data'\n",
    "\n",
    "\n",
    "if not os.path.isdir(data_dir):\n",
    "    os.makedirs(data_dir) "
   ]
  },
  {
   "cell_type": "markdown",
   "id": "e8cd144e-436b-4138-ad8f-095d2a61fec0",
   "metadata": {},
   "source": [
    "# 1. Data import"
   ]
  },
  {
   "cell_type": "code",
   "execution_count": 6,
   "id": "08116e38-5c1f-4c2e-8176-a3798cf4c577",
   "metadata": {},
   "outputs": [
    {
     "name": "stdout",
     "output_type": "stream",
     "text": [
      "2022-12-11 21:29:02 URL:https://polybox.ethz.ch/index.php/s/MBLSUQXzglnn66u/download?path=%2F&files=Sequences_rep_set.qza [390624/390624] -> \"project_data/rep-seqs.qza\" [1]\n",
      "2022-12-11 21:29:03 URL:https://polybox.ethz.ch/index.php/s/MBLSUQXzglnn66u/download?path=%2F&files=Feature_table.qza [504534/504534] -> \"project_data/table.qza\" [1]\n",
      "2022-12-11 21:29:03 URL:https://polybox.ethz.ch/index.php/s/MBLSUQXzglnn66u/download?path=%2F&files=taxonomy_1.qza [303165/303165] -> \"project_data/taxonomy_1.qza\" [1]\n",
      "2022-12-11 21:29:03 URL:https://polybox.ethz.ch/index.php/s/MBLSUQXzglnn66u/download?path=%2F&files=fasttree-tree-rooted.qza [249852/249852] -> \"project_data/fasttree-tree-rooted.qza\" [1]\n",
      "2022-12-11 21:29:04 URL:https://polybox.ethz.ch/index.php/s/MBLSUQXzglnn66u/download?path=%2F&files=metadata-nutrition.tsv [300302/300302] -> \"project_data/sample_metadata.tsv\" [1]\n"
     ]
    }
   ],
   "source": [
    "#filtered sequence\n",
    "! wget -nv -O $data_dir/rep-seqs.qza 'https://polybox.ethz.ch/index.php/s/MBLSUQXzglnn66u/download?path=%2F&files=Sequences_rep_set.qza'\n",
    "\n",
    "# Cleaned Feature Table\n",
    "! wget -nv -O $data_dir/table.qza 'https://polybox.ethz.ch/index.php/s/MBLSUQXzglnn66u/download?path=%2F&files=Feature_table.qza'\n",
    "\n",
    "# Taxonomy file generate from silva\n",
    "! wget -nv -O $data_dir/taxonomy_1.qza 'https://polybox.ethz.ch/index.php/s/MBLSUQXzglnn66u/download?path=%2F&files=taxonomy_1.qza'\n",
    "\n",
    "# Phylogeny file \n",
    "! wget -nv -O $data_dir/fasttree-tree-rooted.qza 'https://polybox.ethz.ch/index.php/s/MBLSUQXzglnn66u/download?path=%2F&files=fasttree-tree-rooted.qza'\n",
    "\n",
    "# Metadata\n",
    "! wget -nv -O $data_dir/sample_metadata.tsv 'https://polybox.ethz.ch/index.php/s/MBLSUQXzglnn66u/download?path=%2F&files=metadata-nutrition.tsv'"
   ]
  },
  {
   "cell_type": "markdown",
   "id": "14113120-7ec8-4c8d-8243-0508d0fc31bc",
   "metadata": {},
   "source": [
    "### Metadata"
   ]
  },
  {
   "cell_type": "code",
   "execution_count": 3,
   "id": "704b05d3-479b-486f-9e08-471897b334cd",
   "metadata": {},
   "outputs": [
    {
     "data": {
      "text/html": [
       "<div>\n",
       "<style scoped>\n",
       "    .dataframe tbody tr th:only-of-type {\n",
       "        vertical-align: middle;\n",
       "    }\n",
       "\n",
       "    .dataframe tbody tr th {\n",
       "        vertical-align: top;\n",
       "    }\n",
       "\n",
       "    .dataframe thead th {\n",
       "        text-align: right;\n",
       "    }\n",
       "</style>\n",
       "<table border=\"1\" class=\"dataframe\">\n",
       "  <thead>\n",
       "    <tr style=\"text-align: right;\">\n",
       "      <th></th>\n",
       "      <th>GEN_age_cat</th>\n",
       "      <th>GEN_age_corrected</th>\n",
       "      <th>GEN_bmi_cat</th>\n",
       "      <th>GEN_bmi_corrected</th>\n",
       "      <th>GEN_cat</th>\n",
       "      <th>GEN_collection_timestamp</th>\n",
       "      <th>GEN_country</th>\n",
       "      <th>GEN_dog</th>\n",
       "      <th>GEN_elevation</th>\n",
       "      <th>GEN_geo_loc_name</th>\n",
       "      <th>...</th>\n",
       "      <th>NUT_probiotic_frequency</th>\n",
       "      <th>NUT_red_meat_frequency</th>\n",
       "      <th>NUT_salted_snacks_frequency</th>\n",
       "      <th>NUT_seafood_frequency</th>\n",
       "      <th>NUT_sugary_sweets_frequency</th>\n",
       "      <th>NUT_vegetable_frequency</th>\n",
       "      <th>NUT_vitamin_b_supplement_frequency</th>\n",
       "      <th>NUT_vitamin_d_supplement_frequency</th>\n",
       "      <th>NUT_whole_eggs</th>\n",
       "      <th>NUT_whole_grain_frequency</th>\n",
       "    </tr>\n",
       "    <tr>\n",
       "      <th>sampleid</th>\n",
       "      <th></th>\n",
       "      <th></th>\n",
       "      <th></th>\n",
       "      <th></th>\n",
       "      <th></th>\n",
       "      <th></th>\n",
       "      <th></th>\n",
       "      <th></th>\n",
       "      <th></th>\n",
       "      <th></th>\n",
       "      <th></th>\n",
       "      <th></th>\n",
       "      <th></th>\n",
       "      <th></th>\n",
       "      <th></th>\n",
       "      <th></th>\n",
       "      <th></th>\n",
       "      <th></th>\n",
       "      <th></th>\n",
       "      <th></th>\n",
       "      <th></th>\n",
       "    </tr>\n",
       "  </thead>\n",
       "  <tbody>\n",
       "    <tr>\n",
       "      <th>10317.000046</th>\n",
       "      <td>20s</td>\n",
       "      <td>20.0</td>\n",
       "      <td>Normal</td>\n",
       "      <td>23.75</td>\n",
       "      <td>False</td>\n",
       "      <td>2016-08-25 18:30:00</td>\n",
       "      <td>USA</td>\n",
       "      <td>True</td>\n",
       "      <td>1919.3</td>\n",
       "      <td>USA:CO</td>\n",
       "      <td>...</td>\n",
       "      <td>Rarely</td>\n",
       "      <td>Regularly</td>\n",
       "      <td>Occasionally</td>\n",
       "      <td>Rarely</td>\n",
       "      <td>Occasionally</td>\n",
       "      <td>Occasionally</td>\n",
       "      <td>Never</td>\n",
       "      <td>Never</td>\n",
       "      <td>Daily</td>\n",
       "      <td>Daily</td>\n",
       "    </tr>\n",
       "    <tr>\n",
       "      <th>10317.000050</th>\n",
       "      <td>Not provided</td>\n",
       "      <td>NaN</td>\n",
       "      <td>Overweight</td>\n",
       "      <td>25.61</td>\n",
       "      <td>False</td>\n",
       "      <td>2016-07-06 09:00:00</td>\n",
       "      <td>United Kingdom</td>\n",
       "      <td>False</td>\n",
       "      <td>65.5</td>\n",
       "      <td>United Kingdom:England</td>\n",
       "      <td>...</td>\n",
       "      <td>Rarely</td>\n",
       "      <td>Rarely</td>\n",
       "      <td>Regularly</td>\n",
       "      <td>Occasionally</td>\n",
       "      <td>Regularly</td>\n",
       "      <td>Regularly</td>\n",
       "      <td>Never</td>\n",
       "      <td>Never</td>\n",
       "      <td>Rarely</td>\n",
       "      <td>Occasionally</td>\n",
       "    </tr>\n",
       "    <tr>\n",
       "      <th>10317.000038</th>\n",
       "      <td>30s</td>\n",
       "      <td>39.0</td>\n",
       "      <td>Overweight</td>\n",
       "      <td>27.67</td>\n",
       "      <td>False</td>\n",
       "      <td>2016-06-29 09:30:00</td>\n",
       "      <td>United Kingdom</td>\n",
       "      <td>False</td>\n",
       "      <td>44.5</td>\n",
       "      <td>United Kingdom:England</td>\n",
       "      <td>...</td>\n",
       "      <td>Never</td>\n",
       "      <td>Occasionally</td>\n",
       "      <td>Daily</td>\n",
       "      <td>Occasionally</td>\n",
       "      <td>Rarely</td>\n",
       "      <td>Occasionally</td>\n",
       "      <td>Never</td>\n",
       "      <td>Never</td>\n",
       "      <td>Regularly</td>\n",
       "      <td>Occasionally</td>\n",
       "    </tr>\n",
       "    <tr>\n",
       "      <th>10317.000047</th>\n",
       "      <td>50s</td>\n",
       "      <td>56.0</td>\n",
       "      <td>Normal</td>\n",
       "      <td>19.71</td>\n",
       "      <td>False</td>\n",
       "      <td>2016-07-12 17:30:00</td>\n",
       "      <td>Germany</td>\n",
       "      <td>False</td>\n",
       "      <td>8.7</td>\n",
       "      <td>Germany:HH</td>\n",
       "      <td>...</td>\n",
       "      <td>Daily</td>\n",
       "      <td>Occasionally</td>\n",
       "      <td>Rarely</td>\n",
       "      <td>Not provided</td>\n",
       "      <td>Rarely</td>\n",
       "      <td>Regularly</td>\n",
       "      <td>Daily</td>\n",
       "      <td>Daily</td>\n",
       "      <td>Rarely</td>\n",
       "      <td>Regularly</td>\n",
       "    </tr>\n",
       "    <tr>\n",
       "      <th>10317.000046</th>\n",
       "      <td>40s</td>\n",
       "      <td>45.0</td>\n",
       "      <td>Normal</td>\n",
       "      <td>23.15</td>\n",
       "      <td>False</td>\n",
       "      <td>2016-05-24 19:00:00</td>\n",
       "      <td>United Kingdom</td>\n",
       "      <td>True</td>\n",
       "      <td>68.8</td>\n",
       "      <td>United Kingdom:Unspecified</td>\n",
       "      <td>...</td>\n",
       "      <td>Regularly</td>\n",
       "      <td>Never</td>\n",
       "      <td>Never</td>\n",
       "      <td>Occasionally</td>\n",
       "      <td>Never</td>\n",
       "      <td>Daily</td>\n",
       "      <td>Rarely</td>\n",
       "      <td>Occasionally</td>\n",
       "      <td>Regularly</td>\n",
       "      <td>Daily</td>\n",
       "    </tr>\n",
       "  </tbody>\n",
       "</table>\n",
       "<p>5 rows × 56 columns</p>\n",
       "</div>"
      ],
      "text/plain": [
       "               GEN_age_cat  GEN_age_corrected GEN_bmi_cat  GEN_bmi_corrected  \\\n",
       "sampleid                                                                       \n",
       "10317.000046           20s               20.0      Normal              23.75   \n",
       "10317.000050  Not provided                NaN  Overweight              25.61   \n",
       "10317.000038           30s               39.0  Overweight              27.67   \n",
       "10317.000047           50s               56.0      Normal              19.71   \n",
       "10317.000046           40s               45.0      Normal              23.15   \n",
       "\n",
       "              GEN_cat GEN_collection_timestamp     GEN_country  GEN_dog  \\\n",
       "sampleid                                                                  \n",
       "10317.000046    False      2016-08-25 18:30:00             USA     True   \n",
       "10317.000050    False      2016-07-06 09:00:00  United Kingdom    False   \n",
       "10317.000038    False      2016-06-29 09:30:00  United Kingdom    False   \n",
       "10317.000047    False      2016-07-12 17:30:00         Germany    False   \n",
       "10317.000046    False      2016-05-24 19:00:00  United Kingdom     True   \n",
       "\n",
       "              GEN_elevation            GEN_geo_loc_name  ...  \\\n",
       "sampleid                                                 ...   \n",
       "10317.000046         1919.3                      USA:CO  ...   \n",
       "10317.000050           65.5      United Kingdom:England  ...   \n",
       "10317.000038           44.5      United Kingdom:England  ...   \n",
       "10317.000047            8.7                  Germany:HH  ...   \n",
       "10317.000046           68.8  United Kingdom:Unspecified  ...   \n",
       "\n",
       "              NUT_probiotic_frequency NUT_red_meat_frequency  \\\n",
       "sampleid                                                       \n",
       "10317.000046                   Rarely              Regularly   \n",
       "10317.000050                   Rarely                 Rarely   \n",
       "10317.000038                    Never           Occasionally   \n",
       "10317.000047                    Daily           Occasionally   \n",
       "10317.000046                Regularly                  Never   \n",
       "\n",
       "             NUT_salted_snacks_frequency NUT_seafood_frequency  \\\n",
       "sampleid                                                         \n",
       "10317.000046                Occasionally                Rarely   \n",
       "10317.000050                   Regularly          Occasionally   \n",
       "10317.000038                       Daily          Occasionally   \n",
       "10317.000047                      Rarely          Not provided   \n",
       "10317.000046                       Never          Occasionally   \n",
       "\n",
       "              NUT_sugary_sweets_frequency NUT_vegetable_frequency  \\\n",
       "sampleid                                                            \n",
       "10317.000046                 Occasionally            Occasionally   \n",
       "10317.000050                    Regularly               Regularly   \n",
       "10317.000038                       Rarely            Occasionally   \n",
       "10317.000047                       Rarely               Regularly   \n",
       "10317.000046                        Never                   Daily   \n",
       "\n",
       "              NUT_vitamin_b_supplement_frequency  \\\n",
       "sampleid                                           \n",
       "10317.000046                               Never   \n",
       "10317.000050                               Never   \n",
       "10317.000038                               Never   \n",
       "10317.000047                               Daily   \n",
       "10317.000046                              Rarely   \n",
       "\n",
       "             NUT_vitamin_d_supplement_frequency NUT_whole_eggs  \\\n",
       "sampleid                                                         \n",
       "10317.000046                              Never          Daily   \n",
       "10317.000050                              Never         Rarely   \n",
       "10317.000038                              Never      Regularly   \n",
       "10317.000047                              Daily         Rarely   \n",
       "10317.000046                       Occasionally      Regularly   \n",
       "\n",
       "             NUT_whole_grain_frequency  \n",
       "sampleid                                \n",
       "10317.000046                     Daily  \n",
       "10317.000050              Occasionally  \n",
       "10317.000038              Occasionally  \n",
       "10317.000047                 Regularly  \n",
       "10317.000046                     Daily  \n",
       "\n",
       "[5 rows x 56 columns]"
      ]
     },
     "execution_count": 3,
     "metadata": {},
     "output_type": "execute_result"
    }
   ],
   "source": [
    "metadata_df = pd.read_csv(f'project_data/sample_metadata.tsv', sep='\\t', index_col=0)\n",
    "metadata_df.head()"
   ]
  },
  {
   "cell_type": "markdown",
   "id": "0d23c8c0-f289-4306-a1fa-eb0181d39c70",
   "metadata": {},
   "source": [
    "### Feature Table"
   ]
  },
  {
   "cell_type": "code",
   "execution_count": 5,
   "id": "31e19cb6-e3b3-45cc-80d0-81a102642cf4",
   "metadata": {},
   "outputs": [],
   "source": [
    "data = q2.Artifact.load(f'{data_dir}/table.qza').view(pd.DataFrame)"
   ]
  },
  {
   "cell_type": "code",
   "execution_count": 6,
   "id": "56dd4383-a947-498c-90e2-1357c153325b",
   "metadata": {},
   "outputs": [
    {
     "data": {
      "text/html": [
       "<div>\n",
       "<style scoped>\n",
       "    .dataframe tbody tr th:only-of-type {\n",
       "        vertical-align: middle;\n",
       "    }\n",
       "\n",
       "    .dataframe tbody tr th {\n",
       "        vertical-align: top;\n",
       "    }\n",
       "\n",
       "    .dataframe thead th {\n",
       "        text-align: right;\n",
       "    }\n",
       "</style>\n",
       "<table border=\"1\" class=\"dataframe\">\n",
       "  <thead>\n",
       "    <tr style=\"text-align: right;\">\n",
       "      <th></th>\n",
       "      <th>d46e2205f0c6ecf67b51f83d111c509c</th>\n",
       "      <th>99deb3c5ecb022ec05609ebd1112a557</th>\n",
       "      <th>f5f5e0da89730462abaf6301a9557193</th>\n",
       "      <th>fd44d4cb468fd7dc9b3227867714ed87</th>\n",
       "      <th>945184b6386c192c0066e0a98a154780</th>\n",
       "      <th>59777186ad2e0947e97615b5d6225136</th>\n",
       "      <th>263e41ea2c25dc87bd2ff5910cf30d40</th>\n",
       "      <th>4d72007c70f4abc0bf9e8fe8b826d07d</th>\n",
       "      <th>675c847bccbc53942ebb7b8cbb4efc4d</th>\n",
       "      <th>b15193fce14759d1c06728933e044af6</th>\n",
       "      <th>...</th>\n",
       "      <th>507785cd038a4e0650f1844606f53ad1</th>\n",
       "      <th>c06962c02c12a6b0dd56cb66968d827e</th>\n",
       "      <th>ab8ebba691837ccf95875676c927469c</th>\n",
       "      <th>5e21e17b7c13cac116ba54cd3b845500</th>\n",
       "      <th>2312c3c203a8fd2790dad9758c619811</th>\n",
       "      <th>dc7a907070fd0d2fdbf8b6276cce63df</th>\n",
       "      <th>1bcc579a1539b94b47ce334f316858bf</th>\n",
       "      <th>e22361cd76edf4fd1c6b4d3c37de84a8</th>\n",
       "      <th>b609812bad30be7d797121140a222bc3</th>\n",
       "      <th>9acfceacf67f31dbde50e1c671a06b19</th>\n",
       "    </tr>\n",
       "  </thead>\n",
       "  <tbody>\n",
       "    <tr>\n",
       "      <th>10317.000002929</th>\n",
       "      <td>0.0</td>\n",
       "      <td>1877.0</td>\n",
       "      <td>1082.0</td>\n",
       "      <td>0.0</td>\n",
       "      <td>0.0</td>\n",
       "      <td>134.0</td>\n",
       "      <td>1336.0</td>\n",
       "      <td>0.0</td>\n",
       "      <td>0.0</td>\n",
       "      <td>513.0</td>\n",
       "      <td>...</td>\n",
       "      <td>0.0</td>\n",
       "      <td>1.0</td>\n",
       "      <td>0.0</td>\n",
       "      <td>0.0</td>\n",
       "      <td>0.0</td>\n",
       "      <td>0.0</td>\n",
       "      <td>0.0</td>\n",
       "      <td>0.0</td>\n",
       "      <td>0.0</td>\n",
       "      <td>0.0</td>\n",
       "    </tr>\n",
       "    <tr>\n",
       "      <th>10317.000002930</th>\n",
       "      <td>0.0</td>\n",
       "      <td>179.0</td>\n",
       "      <td>86.0</td>\n",
       "      <td>212.0</td>\n",
       "      <td>19.0</td>\n",
       "      <td>233.0</td>\n",
       "      <td>275.0</td>\n",
       "      <td>0.0</td>\n",
       "      <td>2348.0</td>\n",
       "      <td>0.0</td>\n",
       "      <td>...</td>\n",
       "      <td>0.0</td>\n",
       "      <td>0.0</td>\n",
       "      <td>0.0</td>\n",
       "      <td>0.0</td>\n",
       "      <td>0.0</td>\n",
       "      <td>0.0</td>\n",
       "      <td>0.0</td>\n",
       "      <td>0.0</td>\n",
       "      <td>0.0</td>\n",
       "      <td>0.0</td>\n",
       "    </tr>\n",
       "    <tr>\n",
       "      <th>10317.000003283</th>\n",
       "      <td>4625.0</td>\n",
       "      <td>1875.0</td>\n",
       "      <td>305.0</td>\n",
       "      <td>0.0</td>\n",
       "      <td>0.0</td>\n",
       "      <td>482.0</td>\n",
       "      <td>43.0</td>\n",
       "      <td>0.0</td>\n",
       "      <td>49.0</td>\n",
       "      <td>392.0</td>\n",
       "      <td>...</td>\n",
       "      <td>0.0</td>\n",
       "      <td>0.0</td>\n",
       "      <td>0.0</td>\n",
       "      <td>0.0</td>\n",
       "      <td>0.0</td>\n",
       "      <td>0.0</td>\n",
       "      <td>0.0</td>\n",
       "      <td>0.0</td>\n",
       "      <td>0.0</td>\n",
       "      <td>0.0</td>\n",
       "    </tr>\n",
       "    <tr>\n",
       "      <th>10317.000004079</th>\n",
       "      <td>6.0</td>\n",
       "      <td>1719.0</td>\n",
       "      <td>106.0</td>\n",
       "      <td>0.0</td>\n",
       "      <td>0.0</td>\n",
       "      <td>1981.0</td>\n",
       "      <td>0.0</td>\n",
       "      <td>0.0</td>\n",
       "      <td>0.0</td>\n",
       "      <td>350.0</td>\n",
       "      <td>...</td>\n",
       "      <td>0.0</td>\n",
       "      <td>0.0</td>\n",
       "      <td>0.0</td>\n",
       "      <td>0.0</td>\n",
       "      <td>0.0</td>\n",
       "      <td>0.0</td>\n",
       "      <td>0.0</td>\n",
       "      <td>0.0</td>\n",
       "      <td>0.0</td>\n",
       "      <td>0.0</td>\n",
       "    </tr>\n",
       "    <tr>\n",
       "      <th>10317.000016169</th>\n",
       "      <td>600.0</td>\n",
       "      <td>395.0</td>\n",
       "      <td>534.0</td>\n",
       "      <td>0.0</td>\n",
       "      <td>0.0</td>\n",
       "      <td>181.0</td>\n",
       "      <td>192.0</td>\n",
       "      <td>0.0</td>\n",
       "      <td>22.0</td>\n",
       "      <td>312.0</td>\n",
       "      <td>...</td>\n",
       "      <td>0.0</td>\n",
       "      <td>0.0</td>\n",
       "      <td>0.0</td>\n",
       "      <td>0.0</td>\n",
       "      <td>0.0</td>\n",
       "      <td>0.0</td>\n",
       "      <td>0.0</td>\n",
       "      <td>0.0</td>\n",
       "      <td>0.0</td>\n",
       "      <td>0.0</td>\n",
       "    </tr>\n",
       "  </tbody>\n",
       "</table>\n",
       "<p>5 rows × 5066 columns</p>\n",
       "</div>"
      ],
      "text/plain": [
       "                 d46e2205f0c6ecf67b51f83d111c509c  \\\n",
       "10317.000002929                               0.0   \n",
       "10317.000002930                               0.0   \n",
       "10317.000003283                            4625.0   \n",
       "10317.000004079                               6.0   \n",
       "10317.000016169                             600.0   \n",
       "\n",
       "                 99deb3c5ecb022ec05609ebd1112a557  \\\n",
       "10317.000002929                            1877.0   \n",
       "10317.000002930                             179.0   \n",
       "10317.000003283                            1875.0   \n",
       "10317.000004079                            1719.0   \n",
       "10317.000016169                             395.0   \n",
       "\n",
       "                 f5f5e0da89730462abaf6301a9557193  \\\n",
       "10317.000002929                            1082.0   \n",
       "10317.000002930                              86.0   \n",
       "10317.000003283                             305.0   \n",
       "10317.000004079                             106.0   \n",
       "10317.000016169                             534.0   \n",
       "\n",
       "                 fd44d4cb468fd7dc9b3227867714ed87  \\\n",
       "10317.000002929                               0.0   \n",
       "10317.000002930                             212.0   \n",
       "10317.000003283                               0.0   \n",
       "10317.000004079                               0.0   \n",
       "10317.000016169                               0.0   \n",
       "\n",
       "                 945184b6386c192c0066e0a98a154780  \\\n",
       "10317.000002929                               0.0   \n",
       "10317.000002930                              19.0   \n",
       "10317.000003283                               0.0   \n",
       "10317.000004079                               0.0   \n",
       "10317.000016169                               0.0   \n",
       "\n",
       "                 59777186ad2e0947e97615b5d6225136  \\\n",
       "10317.000002929                             134.0   \n",
       "10317.000002930                             233.0   \n",
       "10317.000003283                             482.0   \n",
       "10317.000004079                            1981.0   \n",
       "10317.000016169                             181.0   \n",
       "\n",
       "                 263e41ea2c25dc87bd2ff5910cf30d40  \\\n",
       "10317.000002929                            1336.0   \n",
       "10317.000002930                             275.0   \n",
       "10317.000003283                              43.0   \n",
       "10317.000004079                               0.0   \n",
       "10317.000016169                             192.0   \n",
       "\n",
       "                 4d72007c70f4abc0bf9e8fe8b826d07d  \\\n",
       "10317.000002929                               0.0   \n",
       "10317.000002930                               0.0   \n",
       "10317.000003283                               0.0   \n",
       "10317.000004079                               0.0   \n",
       "10317.000016169                               0.0   \n",
       "\n",
       "                 675c847bccbc53942ebb7b8cbb4efc4d  \\\n",
       "10317.000002929                               0.0   \n",
       "10317.000002930                            2348.0   \n",
       "10317.000003283                              49.0   \n",
       "10317.000004079                               0.0   \n",
       "10317.000016169                              22.0   \n",
       "\n",
       "                 b15193fce14759d1c06728933e044af6  ...  \\\n",
       "10317.000002929                             513.0  ...   \n",
       "10317.000002930                               0.0  ...   \n",
       "10317.000003283                             392.0  ...   \n",
       "10317.000004079                             350.0  ...   \n",
       "10317.000016169                             312.0  ...   \n",
       "\n",
       "                 507785cd038a4e0650f1844606f53ad1  \\\n",
       "10317.000002929                               0.0   \n",
       "10317.000002930                               0.0   \n",
       "10317.000003283                               0.0   \n",
       "10317.000004079                               0.0   \n",
       "10317.000016169                               0.0   \n",
       "\n",
       "                 c06962c02c12a6b0dd56cb66968d827e  \\\n",
       "10317.000002929                               1.0   \n",
       "10317.000002930                               0.0   \n",
       "10317.000003283                               0.0   \n",
       "10317.000004079                               0.0   \n",
       "10317.000016169                               0.0   \n",
       "\n",
       "                 ab8ebba691837ccf95875676c927469c  \\\n",
       "10317.000002929                               0.0   \n",
       "10317.000002930                               0.0   \n",
       "10317.000003283                               0.0   \n",
       "10317.000004079                               0.0   \n",
       "10317.000016169                               0.0   \n",
       "\n",
       "                 5e21e17b7c13cac116ba54cd3b845500  \\\n",
       "10317.000002929                               0.0   \n",
       "10317.000002930                               0.0   \n",
       "10317.000003283                               0.0   \n",
       "10317.000004079                               0.0   \n",
       "10317.000016169                               0.0   \n",
       "\n",
       "                 2312c3c203a8fd2790dad9758c619811  \\\n",
       "10317.000002929                               0.0   \n",
       "10317.000002930                               0.0   \n",
       "10317.000003283                               0.0   \n",
       "10317.000004079                               0.0   \n",
       "10317.000016169                               0.0   \n",
       "\n",
       "                 dc7a907070fd0d2fdbf8b6276cce63df  \\\n",
       "10317.000002929                               0.0   \n",
       "10317.000002930                               0.0   \n",
       "10317.000003283                               0.0   \n",
       "10317.000004079                               0.0   \n",
       "10317.000016169                               0.0   \n",
       "\n",
       "                 1bcc579a1539b94b47ce334f316858bf  \\\n",
       "10317.000002929                               0.0   \n",
       "10317.000002930                               0.0   \n",
       "10317.000003283                               0.0   \n",
       "10317.000004079                               0.0   \n",
       "10317.000016169                               0.0   \n",
       "\n",
       "                 e22361cd76edf4fd1c6b4d3c37de84a8  \\\n",
       "10317.000002929                               0.0   \n",
       "10317.000002930                               0.0   \n",
       "10317.000003283                               0.0   \n",
       "10317.000004079                               0.0   \n",
       "10317.000016169                               0.0   \n",
       "\n",
       "                 b609812bad30be7d797121140a222bc3  \\\n",
       "10317.000002929                               0.0   \n",
       "10317.000002930                               0.0   \n",
       "10317.000003283                               0.0   \n",
       "10317.000004079                               0.0   \n",
       "10317.000016169                               0.0   \n",
       "\n",
       "                 9acfceacf67f31dbde50e1c671a06b19  \n",
       "10317.000002929                               0.0  \n",
       "10317.000002930                               0.0  \n",
       "10317.000003283                               0.0  \n",
       "10317.000004079                               0.0  \n",
       "10317.000016169                               0.0  \n",
       "\n",
       "[5 rows x 5066 columns]"
      ]
     },
     "execution_count": 6,
     "metadata": {},
     "output_type": "execute_result"
    }
   ],
   "source": [
    "data.head()"
   ]
  },
  {
   "cell_type": "markdown",
   "id": "b5ddfdbe-0ee0-4460-91f8-7b416ab4594c",
   "metadata": {},
   "source": [
    "Our Feature Table looks sparse and non normal. In the following this will be further investigated."
   ]
  },
  {
   "cell_type": "markdown",
   "id": "e78d3241-9a19-4897-8f1a-ad189a604dd2",
   "metadata": {},
   "source": [
    "# 1. Check for data normality and sparsity"
   ]
  },
  {
   "cell_type": "markdown",
   "id": "f269ea80-e567-4f74-889a-9399f311ebd0",
   "metadata": {},
   "source": [
    "Before a statistical test is applied to investigate differential abundance, the data is closely examined. In order to select a suitable statistical test, both data structure and sparsity must be examined."
   ]
  },
  {
   "cell_type": "code",
   "execution_count": 7,
   "id": "9e7e5ce2-cf8a-4d56-93c4-4d31d288ac79",
   "metadata": {},
   "outputs": [
    {
     "data": {
      "image/png": "[encoded data removed]",
      "text/plain": [
       "<Figure size 432x576 with 3 Axes>"
      ]
     },
     "metadata": {
      "needs_background": "light"
     },
     "output_type": "display_data"
    }
   ],
   "source": [
    "I = data.sum()[0:3].index\n",
    "most_abuns = data[I]\n",
    "h = most_abuns.hist(layout=(3,1), figsize=(6, 8), sharex=True)\n",
    "plt.xlabel('Counts')\n",
    "h = [ax[0].set_ylabel('Number of Samples') for ax in h]\n"
   ]
  },
  {
   "cell_type": "markdown",
   "id": "25f60133-63c2-40af-98ff-ec1ecc3cedf8",
   "metadata": {},
   "source": [
    "After plotting the 3 most abundant ASV, it is cleat that the ASV's are not normal distributed!\n",
    "Let's look at the violin plot to check for sparsity of our data. For this we reshuffle the data and randomly choose 20 examples out of the data. "
   ]
  },
  {
   "cell_type": "code",
   "execution_count": 8,
   "id": "9ff158fe-6bac-44ae-9dae-b5f6462a7841",
   "metadata": {},
   "outputs": [
    {
     "data": {
      "text/html": [
       "<div>\n",
       "<style scoped>\n",
       "    .dataframe tbody tr th:only-of-type {\n",
       "        vertical-align: middle;\n",
       "    }\n",
       "\n",
       "    .dataframe tbody tr th {\n",
       "        vertical-align: top;\n",
       "    }\n",
       "\n",
       "    .dataframe thead th {\n",
       "        text-align: right;\n",
       "    }\n",
       "</style>\n",
       "<table border=\"1\" class=\"dataframe\">\n",
       "  <thead>\n",
       "    <tr style=\"text-align: right;\">\n",
       "      <th></th>\n",
       "      <th>sample</th>\n",
       "      <th>asv</th>\n",
       "      <th>count</th>\n",
       "    </tr>\n",
       "  </thead>\n",
       "  <tbody>\n",
       "    <tr>\n",
       "      <th>0</th>\n",
       "      <td>10317.000002929</td>\n",
       "      <td>72843ab08016c07e44b3f7a148157ffc</td>\n",
       "      <td>0.0</td>\n",
       "    </tr>\n",
       "    <tr>\n",
       "      <th>1</th>\n",
       "      <td>10317.000002929</td>\n",
       "      <td>d53e2ad7162860b80a16b636ab59a039</td>\n",
       "      <td>0.0</td>\n",
       "    </tr>\n",
       "    <tr>\n",
       "      <th>2</th>\n",
       "      <td>10317.000002929</td>\n",
       "      <td>7759604db6eb1f89e430cab74dcbc5df</td>\n",
       "      <td>0.0</td>\n",
       "    </tr>\n",
       "    <tr>\n",
       "      <th>3</th>\n",
       "      <td>10317.000002929</td>\n",
       "      <td>a09ceaed5bdfdef2d6ee2b723513e355</td>\n",
       "      <td>0.0</td>\n",
       "    </tr>\n",
       "    <tr>\n",
       "      <th>4</th>\n",
       "      <td>10317.000002929</td>\n",
       "      <td>a28399a8ab7348fdce49e6dbc01348a0</td>\n",
       "      <td>0.0</td>\n",
       "    </tr>\n",
       "  </tbody>\n",
       "</table>\n",
       "</div>"
      ],
      "text/plain": [
       "            sample                               asv  count\n",
       "0  10317.000002929  72843ab08016c07e44b3f7a148157ffc    0.0\n",
       "1  10317.000002929  d53e2ad7162860b80a16b636ab59a039    0.0\n",
       "2  10317.000002929  7759604db6eb1f89e430cab74dcbc5df    0.0\n",
       "3  10317.000002929  a09ceaed5bdfdef2d6ee2b723513e355    0.0\n",
       "4  10317.000002929  a28399a8ab7348fdce49e6dbc01348a0    0.0"
      ]
     },
     "execution_count": 8,
     "metadata": {},
     "output_type": "execute_result"
    }
   ],
   "source": [
    "n = 20\n",
    "\n",
    "# draw n ASVs out of the original DataFrame\n",
    "data_samp = data.sample(n=n, axis=1, random_state=1414)\n",
    "\n",
    "# create a new DataFrame with three columns (sample, ASV, abundance)\n",
    "col_names = {'level_0': 'sample', 'level_1': 'asv', 0: 'count'}\n",
    "data_plot = data_samp.stack().reset_index().rename(columns=col_names)\n",
    "\n",
    "# make sure the shape is correct (no. of rows should be equal to the size of our random \n",
    "# sample multiplied by number of samples)\n",
    "assert data_plot.shape[0] == n * data_samp.shape[0], 'The new DataFrame has an incorrect no. of rows.'\n",
    "data_plot.head()"
   ]
  },
  {
   "cell_type": "code",
   "execution_count": 9,
   "id": "a4db43a9-bfe6-4ab6-a0c8-493f1323fb75",
   "metadata": {},
   "outputs": [
    {
     "data": {
      "image/png": "[encoded data removed]",
      "text/plain": [
       "<Figure size 1080x540 with 1 Axes>"
      ]
     },
     "metadata": {},
     "output_type": "display_data"
    }
   ],
   "source": [
    "with sns.axes_style('white'), sns.color_palette('Set1'):\n",
    "    fig, ax = plt.subplots()\n",
    "    fig.set_size_inches(15, 7.5)\n",
    "    \n",
    "    sns.violinplot(data=data_plot, x='asv', y='count', ax=ax)\n",
    "    sns.despine(left=True)\n",
    "    \n",
    "    # adjust tick labels and axes titles\n",
    "    ax.tick_params(axis='x', rotation=90, labelsize=11)\n",
    "    ax.tick_params(axis='y', labelsize=11)\n",
    "    ax.set_xlabel('ASV', fontsize=14)\n",
    "    ax.set_ylabel('Count', fontsize=14)"
   ]
  },
  {
   "cell_type": "markdown",
   "id": "2af52351-9692-4add-9cd8-d091768a8c7a",
   "metadata": {},
   "source": [
    "Almost all of the randomly choosen ASV have thir mean at 0. Thus, our data is sparse.\n",
    "To quantitativle prove that our data is most likely not normal distributed we perform the Shapiro-Wilk test for normality. \n",
    "The Shapiro-Wilk test assumes the null-hypothesis that the data is normally distributed. Resulting in rejection of this hypothesis if the p-value is <0.05. This means that a p-value on <0.05 suggests that the data is not normaly distributed."
   ]
  },
  {
   "cell_type": "code",
   "execution_count": 10,
   "id": "1aa52e1b-ca2b-40a9-8d0b-cc069069385e",
   "metadata": {},
   "outputs": [
    {
     "name": "stdout",
     "output_type": "stream",
     "text": [
      "Number of ASVs with normal distribution: 0\n"
     ]
    }
   ],
   "source": [
    "alpha = 0.05\n",
    "results = {}\n",
    "\n",
    "# iterate through rows (samples) and test each of them for normality\n",
    "for asv_name, asv_values in data.iteritems():\n",
    "    stat, p = shapiro(asv_values)\n",
    "    results[asv_name] = p\n",
    "\n",
    "# convert test results into a DataFrame\n",
    "results_df = pd.DataFrame(data=results.values(), index=results.keys(), columns=['p'])\n",
    "\n",
    "# add a new column with a descriptive test result\n",
    "results_df['is_normal'] = results_df['p'] > alpha\n",
    "print('Number of ASVs with normal distribution:', results_df['is_normal'].sum())"
   ]
  },
  {
   "cell_type": "markdown",
   "id": "c5d9a2b2-c19d-4b32-8009-078e7606cda1",
   "metadata": {},
   "source": [
    "The test now finally revealed that our data is not gaussian distributed. This means that normal tests for differential abundance such as ANOVA can not be applied to the data as they would result in misleading test results. To avoid this we choose ANCOM statistics (Analysis of composition of microbiomes) which is specifically developed for this data type we encounter here. \n",
    "ANCOM takes into account the underlying data structure and can be used to compare the composition of microbiomes in two or more samples. ANCOM makes no distributional assumptions and can be implemented in a linear model framework to account for covariates. ANCOM also easily can be scaled up to compare samples with thousands of taxa. (https://pubmed.ncbi.nlm.nih.gov/26028277/)"
   ]
  },
  {
   "cell_type": "markdown",
   "id": "1eec4a24-19b5-49ee-ad57-1454304166d8",
   "metadata": {},
   "source": [
    "# 1. ANCOM"
   ]
  },
  {
   "cell_type": "markdown",
   "id": "69f0f8df-cc1c-4b4a-8a34-33d0592a9d74",
   "metadata": {},
   "source": [
    "To improve the resolution and limit the FDR (false discovery rate), one filters the feature table to ASVs that have a frequency of at least 25 and occur in at least 5 samples. Features that do not occur frequently could be caused by noise in the data and would thus increase the FDR penalty. ANCOM cannot tolerate 0 as an ASV frequency because the method uses a log transformation or log ratio. Since the log of 0 is not defined, one must take this into account. To get around this obstacle, one can insert a pseudo-count into the frequency table. The result is a table in the format `FeatureTable[Composition]`."
   ]
  },
  {
   "cell_type": "markdown",
   "id": "fd3936c8-56a2-4e0d-b867-a188b26ee2e2",
   "metadata": {},
   "source": [
    "### 1.1 Frequency filtering"
   ]
  },
  {
   "cell_type": "code",
   "execution_count": 11,
   "id": "ef298602-9f3c-461a-a764-eb5f965c5646",
   "metadata": {},
   "outputs": [
    {
     "name": "stdout",
     "output_type": "stream",
     "text": [
      "\u001b[32mSaved FeatureTable[Frequency] to: project_data/table_abund.qza\u001b[0m\n",
      "\u001b[0m"
     ]
    }
   ],
   "source": [
    "! qiime feature-table filter-features \\\n",
    "    --i-table $data_dir/table.qza \\\n",
    "    --p-min-frequency 25 \\\n",
    "    --p-min-samples 5 \\\n",
    "    --o-filtered-table $data_dir/table_abund.qza"
   ]
  },
  {
   "cell_type": "code",
   "execution_count": 12,
   "id": "00ff9394-ab04-45e2-8fbc-f8b18e0a5943",
   "metadata": {},
   "outputs": [
    {
     "data": {
      "text/html": [
       "<div>\n",
       "<style scoped>\n",
       "    .dataframe tbody tr th:only-of-type {\n",
       "        vertical-align: middle;\n",
       "    }\n",
       "\n",
       "    .dataframe tbody tr th {\n",
       "        vertical-align: top;\n",
       "    }\n",
       "\n",
       "    .dataframe thead th {\n",
       "        text-align: right;\n",
       "    }\n",
       "</style>\n",
       "<table border=\"1\" class=\"dataframe\">\n",
       "  <thead>\n",
       "    <tr style=\"text-align: right;\">\n",
       "      <th></th>\n",
       "      <th>d46e2205f0c6ecf67b51f83d111c509c</th>\n",
       "      <th>99deb3c5ecb022ec05609ebd1112a557</th>\n",
       "      <th>f5f5e0da89730462abaf6301a9557193</th>\n",
       "      <th>fd44d4cb468fd7dc9b3227867714ed87</th>\n",
       "      <th>945184b6386c192c0066e0a98a154780</th>\n",
       "      <th>59777186ad2e0947e97615b5d6225136</th>\n",
       "      <th>263e41ea2c25dc87bd2ff5910cf30d40</th>\n",
       "      <th>4d72007c70f4abc0bf9e8fe8b826d07d</th>\n",
       "      <th>675c847bccbc53942ebb7b8cbb4efc4d</th>\n",
       "      <th>b15193fce14759d1c06728933e044af6</th>\n",
       "      <th>...</th>\n",
       "      <th>6e129c93672f058c66c7090dbf93dbdf</th>\n",
       "      <th>9e0326554068ca2dfdaf5f8ab043fea8</th>\n",
       "      <th>422443b7e46f6631c5a7cc89316be0d0</th>\n",
       "      <th>5a995ef0ef454381562fe4d6909fa8d4</th>\n",
       "      <th>da3d66136d172ba73195d7c6629399df</th>\n",
       "      <th>70c0d497b59c83efba188e9cf1a99902</th>\n",
       "      <th>5443a3f15cad4117ecbc72bfd4de8f25</th>\n",
       "      <th>2dbaf07cdc2dece27cda9675d3850efe</th>\n",
       "      <th>b6ed1fda48450bc73938e1aad922a581</th>\n",
       "      <th>b22201b7fed31c775a16f6e9a498903e</th>\n",
       "    </tr>\n",
       "  </thead>\n",
       "  <tbody>\n",
       "    <tr>\n",
       "      <th>10317.000002929</th>\n",
       "      <td>0.0</td>\n",
       "      <td>1877.0</td>\n",
       "      <td>1082.0</td>\n",
       "      <td>0.0</td>\n",
       "      <td>0.0</td>\n",
       "      <td>134.0</td>\n",
       "      <td>1336.0</td>\n",
       "      <td>0.0</td>\n",
       "      <td>0.0</td>\n",
       "      <td>513.0</td>\n",
       "      <td>...</td>\n",
       "      <td>0.0</td>\n",
       "      <td>0.0</td>\n",
       "      <td>0.0</td>\n",
       "      <td>0.0</td>\n",
       "      <td>0.0</td>\n",
       "      <td>0.0</td>\n",
       "      <td>0.0</td>\n",
       "      <td>0.0</td>\n",
       "      <td>0.0</td>\n",
       "      <td>0.0</td>\n",
       "    </tr>\n",
       "    <tr>\n",
       "      <th>10317.000002930</th>\n",
       "      <td>0.0</td>\n",
       "      <td>179.0</td>\n",
       "      <td>86.0</td>\n",
       "      <td>212.0</td>\n",
       "      <td>19.0</td>\n",
       "      <td>233.0</td>\n",
       "      <td>275.0</td>\n",
       "      <td>0.0</td>\n",
       "      <td>2348.0</td>\n",
       "      <td>0.0</td>\n",
       "      <td>...</td>\n",
       "      <td>0.0</td>\n",
       "      <td>0.0</td>\n",
       "      <td>0.0</td>\n",
       "      <td>0.0</td>\n",
       "      <td>0.0</td>\n",
       "      <td>0.0</td>\n",
       "      <td>0.0</td>\n",
       "      <td>0.0</td>\n",
       "      <td>0.0</td>\n",
       "      <td>0.0</td>\n",
       "    </tr>\n",
       "    <tr>\n",
       "      <th>10317.000003283</th>\n",
       "      <td>4625.0</td>\n",
       "      <td>1875.0</td>\n",
       "      <td>305.0</td>\n",
       "      <td>0.0</td>\n",
       "      <td>0.0</td>\n",
       "      <td>482.0</td>\n",
       "      <td>43.0</td>\n",
       "      <td>0.0</td>\n",
       "      <td>49.0</td>\n",
       "      <td>392.0</td>\n",
       "      <td>...</td>\n",
       "      <td>0.0</td>\n",
       "      <td>0.0</td>\n",
       "      <td>0.0</td>\n",
       "      <td>0.0</td>\n",
       "      <td>0.0</td>\n",
       "      <td>0.0</td>\n",
       "      <td>0.0</td>\n",
       "      <td>0.0</td>\n",
       "      <td>0.0</td>\n",
       "      <td>0.0</td>\n",
       "    </tr>\n",
       "    <tr>\n",
       "      <th>10317.000004079</th>\n",
       "      <td>6.0</td>\n",
       "      <td>1719.0</td>\n",
       "      <td>106.0</td>\n",
       "      <td>0.0</td>\n",
       "      <td>0.0</td>\n",
       "      <td>1981.0</td>\n",
       "      <td>0.0</td>\n",
       "      <td>0.0</td>\n",
       "      <td>0.0</td>\n",
       "      <td>350.0</td>\n",
       "      <td>...</td>\n",
       "      <td>0.0</td>\n",
       "      <td>0.0</td>\n",
       "      <td>0.0</td>\n",
       "      <td>0.0</td>\n",
       "      <td>0.0</td>\n",
       "      <td>0.0</td>\n",
       "      <td>0.0</td>\n",
       "      <td>0.0</td>\n",
       "      <td>0.0</td>\n",
       "      <td>0.0</td>\n",
       "    </tr>\n",
       "    <tr>\n",
       "      <th>10317.000016169</th>\n",
       "      <td>600.0</td>\n",
       "      <td>395.0</td>\n",
       "      <td>534.0</td>\n",
       "      <td>0.0</td>\n",
       "      <td>0.0</td>\n",
       "      <td>181.0</td>\n",
       "      <td>192.0</td>\n",
       "      <td>0.0</td>\n",
       "      <td>22.0</td>\n",
       "      <td>312.0</td>\n",
       "      <td>...</td>\n",
       "      <td>0.0</td>\n",
       "      <td>0.0</td>\n",
       "      <td>0.0</td>\n",
       "      <td>0.0</td>\n",
       "      <td>0.0</td>\n",
       "      <td>0.0</td>\n",
       "      <td>0.0</td>\n",
       "      <td>0.0</td>\n",
       "      <td>0.0</td>\n",
       "      <td>0.0</td>\n",
       "    </tr>\n",
       "  </tbody>\n",
       "</table>\n",
       "<p>5 rows × 951 columns</p>\n",
       "</div>"
      ],
      "text/plain": [
       "                 d46e2205f0c6ecf67b51f83d111c509c  \\\n",
       "10317.000002929                               0.0   \n",
       "10317.000002930                               0.0   \n",
       "10317.000003283                            4625.0   \n",
       "10317.000004079                               6.0   \n",
       "10317.000016169                             600.0   \n",
       "\n",
       "                 99deb3c5ecb022ec05609ebd1112a557  \\\n",
       "10317.000002929                            1877.0   \n",
       "10317.000002930                             179.0   \n",
       "10317.000003283                            1875.0   \n",
       "10317.000004079                            1719.0   \n",
       "10317.000016169                             395.0   \n",
       "\n",
       "                 f5f5e0da89730462abaf6301a9557193  \\\n",
       "10317.000002929                            1082.0   \n",
       "10317.000002930                              86.0   \n",
       "10317.000003283                             305.0   \n",
       "10317.000004079                             106.0   \n",
       "10317.000016169                             534.0   \n",
       "\n",
       "                 fd44d4cb468fd7dc9b3227867714ed87  \\\n",
       "10317.000002929                               0.0   \n",
       "10317.000002930                             212.0   \n",
       "10317.000003283                               0.0   \n",
       "10317.000004079                               0.0   \n",
       "10317.000016169                               0.0   \n",
       "\n",
       "                 945184b6386c192c0066e0a98a154780  \\\n",
       "10317.000002929                               0.0   \n",
       "10317.000002930                              19.0   \n",
       "10317.000003283                               0.0   \n",
       "10317.000004079                               0.0   \n",
       "10317.000016169                               0.0   \n",
       "\n",
       "                 59777186ad2e0947e97615b5d6225136  \\\n",
       "10317.000002929                             134.0   \n",
       "10317.000002930                             233.0   \n",
       "10317.000003283                             482.0   \n",
       "10317.000004079                            1981.0   \n",
       "10317.000016169                             181.0   \n",
       "\n",
       "                 263e41ea2c25dc87bd2ff5910cf30d40  \\\n",
       "10317.000002929                            1336.0   \n",
       "10317.000002930                             275.0   \n",
       "10317.000003283                              43.0   \n",
       "10317.000004079                               0.0   \n",
       "10317.000016169                             192.0   \n",
       "\n",
       "                 4d72007c70f4abc0bf9e8fe8b826d07d  \\\n",
       "10317.000002929                               0.0   \n",
       "10317.000002930                               0.0   \n",
       "10317.000003283                               0.0   \n",
       "10317.000004079                               0.0   \n",
       "10317.000016169                               0.0   \n",
       "\n",
       "                 675c847bccbc53942ebb7b8cbb4efc4d  \\\n",
       "10317.000002929                               0.0   \n",
       "10317.000002930                            2348.0   \n",
       "10317.000003283                              49.0   \n",
       "10317.000004079                               0.0   \n",
       "10317.000016169                              22.0   \n",
       "\n",
       "                 b15193fce14759d1c06728933e044af6  ...  \\\n",
       "10317.000002929                             513.0  ...   \n",
       "10317.000002930                               0.0  ...   \n",
       "10317.000003283                             392.0  ...   \n",
       "10317.000004079                             350.0  ...   \n",
       "10317.000016169                             312.0  ...   \n",
       "\n",
       "                 6e129c93672f058c66c7090dbf93dbdf  \\\n",
       "10317.000002929                               0.0   \n",
       "10317.000002930                               0.0   \n",
       "10317.000003283                               0.0   \n",
       "10317.000004079                               0.0   \n",
       "10317.000016169                               0.0   \n",
       "\n",
       "                 9e0326554068ca2dfdaf5f8ab043fea8  \\\n",
       "10317.000002929                               0.0   \n",
       "10317.000002930                               0.0   \n",
       "10317.000003283                               0.0   \n",
       "10317.000004079                               0.0   \n",
       "10317.000016169                               0.0   \n",
       "\n",
       "                 422443b7e46f6631c5a7cc89316be0d0  \\\n",
       "10317.000002929                               0.0   \n",
       "10317.000002930                               0.0   \n",
       "10317.000003283                               0.0   \n",
       "10317.000004079                               0.0   \n",
       "10317.000016169                               0.0   \n",
       "\n",
       "                 5a995ef0ef454381562fe4d6909fa8d4  \\\n",
       "10317.000002929                               0.0   \n",
       "10317.000002930                               0.0   \n",
       "10317.000003283                               0.0   \n",
       "10317.000004079                               0.0   \n",
       "10317.000016169                               0.0   \n",
       "\n",
       "                 da3d66136d172ba73195d7c6629399df  \\\n",
       "10317.000002929                               0.0   \n",
       "10317.000002930                               0.0   \n",
       "10317.000003283                               0.0   \n",
       "10317.000004079                               0.0   \n",
       "10317.000016169                               0.0   \n",
       "\n",
       "                 70c0d497b59c83efba188e9cf1a99902  \\\n",
       "10317.000002929                               0.0   \n",
       "10317.000002930                               0.0   \n",
       "10317.000003283                               0.0   \n",
       "10317.000004079                               0.0   \n",
       "10317.000016169                               0.0   \n",
       "\n",
       "                 5443a3f15cad4117ecbc72bfd4de8f25  \\\n",
       "10317.000002929                               0.0   \n",
       "10317.000002930                               0.0   \n",
       "10317.000003283                               0.0   \n",
       "10317.000004079                               0.0   \n",
       "10317.000016169                               0.0   \n",
       "\n",
       "                 2dbaf07cdc2dece27cda9675d3850efe  \\\n",
       "10317.000002929                               0.0   \n",
       "10317.000002930                               0.0   \n",
       "10317.000003283                               0.0   \n",
       "10317.000004079                               0.0   \n",
       "10317.000016169                               0.0   \n",
       "\n",
       "                 b6ed1fda48450bc73938e1aad922a581  \\\n",
       "10317.000002929                               0.0   \n",
       "10317.000002930                               0.0   \n",
       "10317.000003283                               0.0   \n",
       "10317.000004079                               0.0   \n",
       "10317.000016169                               0.0   \n",
       "\n",
       "                 b22201b7fed31c775a16f6e9a498903e  \n",
       "10317.000002929                               0.0  \n",
       "10317.000002930                               0.0  \n",
       "10317.000003283                               0.0  \n",
       "10317.000004079                               0.0  \n",
       "10317.000016169                               0.0  \n",
       "\n",
       "[5 rows x 951 columns]"
      ]
     },
     "execution_count": 12,
     "metadata": {},
     "output_type": "execute_result"
    }
   ],
   "source": [
    "abund_data = q2.Artifact.load(f'{data_dir}/table_abund.qza').view(pd.DataFrame)\n",
    "abund_data.head(5)"
   ]
  },
  {
   "cell_type": "markdown",
   "id": "923ced37-c1df-4612-9854-f571a9c83a93",
   "metadata": {},
   "source": [
    "Form the initial 5066 ASV's only 951 are left after this filtering step."
   ]
  },
  {
   "cell_type": "markdown",
   "id": "bcf78735-fcd3-4e48-91f8-a3dd050eeda7",
   "metadata": {},
   "source": [
    "### 1.2 Inserting pseudo-count"
   ]
  },
  {
   "cell_type": "code",
   "execution_count": 13,
   "id": "ecfc833b-dd9a-480c-9420-12b391c46602",
   "metadata": {},
   "outputs": [
    {
     "name": "stdout",
     "output_type": "stream",
     "text": [
      "\u001b[32mSaved FeatureTable[Composition] to: project_data/pseud_table_abund.qza\u001b[0m\n",
      "\u001b[0m"
     ]
    }
   ],
   "source": [
    "! qiime composition add-pseudocount \\\n",
    "    --i-table $data_dir/table_abund.qza \\\n",
    "    --o-composition-table $data_dir/pseud_table_abund.qza"
   ]
  },
  {
   "cell_type": "code",
   "execution_count": 14,
   "id": "5aa21684-021c-4316-bf1b-9040f0e0d392",
   "metadata": {},
   "outputs": [
    {
     "data": {
      "text/plain": [
       "False"
      ]
     },
     "execution_count": 14,
     "metadata": {},
     "output_type": "execute_result"
    }
   ],
   "source": [
    "abund_data = q2.Artifact.load(f'{data_dir}/pseud_table_abund.qza').view(pd.DataFrame)\n",
    "0 in abund_data"
   ]
  },
  {
   "cell_type": "markdown",
   "id": "001da1c6-a1a1-4ff1-a4dd-161f3fee2b9b",
   "metadata": {},
   "source": [
    "The data does not contain any zeros anymore."
   ]
  },
  {
   "cell_type": "markdown",
   "id": "79d95052-760c-4617-aa2e-6fb4e8cfc2b8",
   "metadata": {},
   "source": [
    "### 1.3 ANCOM: Analysis"
   ]
  },
  {
   "cell_type": "markdown",
   "id": "da8a9651-d16b-476b-8ffa-acce4ba970a2",
   "metadata": {},
   "source": [
    "The categories form Alpha and beta diversity analysis which showed significance in addition to the different defined meal types were choosen to further investigate with the ANCOM analysis."
   ]
  },
  {
   "cell_type": "code",
   "execution_count": 22,
   "id": "761ed72e-88e2-4e8f-b5da-827063752269",
   "metadata": {},
   "outputs": [],
   "source": [
    "# location of the data and all the results produced by this notebook \n",
    "ANCOM_Res = 'project_data/ANCOM_results'\n",
    "\n",
    "\n",
    "if not os.path.isdir(ANCOM_Res):\n",
    "    os.makedirs(ANCOM_Res) "
   ]
  },
  {
   "cell_type": "code",
   "execution_count": 58,
   "id": "1efc61f2-2235-499a-992e-c8b15f1bb326",
   "metadata": {
    "collapsed": true,
    "jupyter": {
     "outputs_hidden": true
    },
    "tags": []
   },
   "outputs": [
    {
     "data": {
      "text/plain": [
       "['GEN_age_cat',\n",
       " 'GEN_age_corrected',\n",
       " 'GEN_bmi_cat',\n",
       " 'GEN_bmi_corrected',\n",
       " 'GEN_cat',\n",
       " 'GEN_collection_timestamp',\n",
       " 'GEN_country',\n",
       " 'GEN_dog',\n",
       " 'GEN_elevation',\n",
       " 'GEN_geo_loc_name',\n",
       " 'GEN_height_cm',\n",
       " 'GEN_host_common_name',\n",
       " 'GEN_last_move',\n",
       " 'GEN_last_travel',\n",
       " 'GEN_latitude',\n",
       " 'GEN_level_of_education',\n",
       " 'GEN_longitude',\n",
       " 'GEN_race',\n",
       " 'GEN_sample_type',\n",
       " 'GEN_sex',\n",
       " 'GEN_weight_kg',\n",
       " 'NUT_alcohol_consumption',\n",
       " 'NUT_alcohol_frequency',\n",
       " 'NUT_alcohol_types_beercider',\n",
       " 'NUT_alcohol_types_red_wine',\n",
       " 'NUT_alcohol_types_sour_beers',\n",
       " 'NUT_alcohol_types_spiritshard_alcohol',\n",
       " 'NUT_alcohol_types_unspecified',\n",
       " 'NUT_alcohol_types_white_wine',\n",
       " 'NUT_artificial_sweeteners',\n",
       " 'NUT_diet_type',\n",
       " 'NUT_drinks_per_session',\n",
       " 'NUT_fed_as_infant',\n",
       " 'NUT_fermented_plant_frequency',\n",
       " 'NUT_frozen_dessert_frequency',\n",
       " 'NUT_fruit_frequency',\n",
       " 'NUT_gluten',\n",
       " 'NUT_high_fat_red_meat_frequency',\n",
       " 'NUT_homecooked_meals_frequency',\n",
       " 'NUT_lowgrain_diet_type',\n",
       " 'NUT_meat_eggs_frequency',\n",
       " 'NUT_milk_cheese_frequency',\n",
       " 'NUT_milk_substitute_frequency',\n",
       " 'NUT_olive_oil',\n",
       " 'NUT_poultry_frequency',\n",
       " 'NUT_prepared_meals_frequency',\n",
       " 'NUT_probiotic_frequency',\n",
       " 'NUT_red_meat_frequency',\n",
       " 'NUT_salted_snacks_frequency',\n",
       " 'NUT_seafood_frequency',\n",
       " 'NUT_sugary_sweets_frequency',\n",
       " 'NUT_vegetable_frequency',\n",
       " 'NUT_vitamin_b_supplement_frequency',\n",
       " 'NUT_vitamin_d_supplement_frequency',\n",
       " 'NUT_whole_eggs',\n",
       " 'NUT_whole_grain_frequency']"
      ]
     },
     "execution_count": 58,
     "metadata": {},
     "output_type": "execute_result"
    }
   ],
   "source": [
    "metadata_df.columns.tolist()"
   ]
  },
  {
   "cell_type": "code",
   "execution_count": 15,
   "id": "2b1fd4ae-f2bd-4682-bc1e-60aae9591a8d",
   "metadata": {
    "collapsed": true,
    "jupyter": {
     "outputs_hidden": true
    },
    "tags": []
   },
   "outputs": [
    {
     "data": {
      "text/html": [
       "<div>\n",
       "<style scoped>\n",
       "    .dataframe tbody tr th:only-of-type {\n",
       "        vertical-align: middle;\n",
       "    }\n",
       "\n",
       "    .dataframe tbody tr th {\n",
       "        vertical-align: top;\n",
       "    }\n",
       "\n",
       "    .dataframe thead th {\n",
       "        text-align: right;\n",
       "    }\n",
       "</style>\n",
       "<table border=\"1\" class=\"dataframe\">\n",
       "  <thead>\n",
       "    <tr style=\"text-align: right;\">\n",
       "      <th></th>\n",
       "      <th>Values</th>\n",
       "    </tr>\n",
       "    <tr>\n",
       "      <th>Column</th>\n",
       "      <th></th>\n",
       "    </tr>\n",
       "  </thead>\n",
       "  <tbody>\n",
       "    <tr>\n",
       "      <th>GEN_age_cat</th>\n",
       "      <td>['20s', '30s', '40s', '50s', '60s', '70+', 'No...</td>\n",
       "    </tr>\n",
       "    <tr>\n",
       "      <th>GEN_age_corrected</th>\n",
       "      <td>['11.0', '14.0', '15.0', '16.0', '17.0', '18.0...</td>\n",
       "    </tr>\n",
       "    <tr>\n",
       "      <th>GEN_bmi_cat</th>\n",
       "      <td>['Normal', 'Not provided', 'Obese', 'Overweigh...</td>\n",
       "    </tr>\n",
       "    <tr>\n",
       "      <th>GEN_bmi_corrected</th>\n",
       "      <td>['11.2', '11.57', '14.34', '14.62', '14.79', '...</td>\n",
       "    </tr>\n",
       "    <tr>\n",
       "      <th>GEN_cat</th>\n",
       "      <td>['False', 'True']</td>\n",
       "    </tr>\n",
       "    <tr>\n",
       "      <th>GEN_collection_timestamp</th>\n",
       "      <td>['2014-05-10 12:00:00', '2015-01-01 09:00:00',...</td>\n",
       "    </tr>\n",
       "    <tr>\n",
       "      <th>GEN_country</th>\n",
       "      <td>['Australia', 'Belgium', 'Canada', 'Georgia', ...</td>\n",
       "    </tr>\n",
       "    <tr>\n",
       "      <th>GEN_dog</th>\n",
       "      <td>['False', 'True']</td>\n",
       "    </tr>\n",
       "    <tr>\n",
       "      <th>GEN_elevation</th>\n",
       "      <td>['-0.9', '0.0', '1.4', '10.4', '10.8', '10.9',...</td>\n",
       "    </tr>\n",
       "    <tr>\n",
       "      <th>GEN_geo_loc_name</th>\n",
       "      <td>['Australia:ACT', 'Australia:QLD', 'Australia:...</td>\n",
       "    </tr>\n",
       "    <tr>\n",
       "      <th>GEN_height_cm</th>\n",
       "      <td>['110.0', '111.0', '114.0', '121.0', '122.0', ...</td>\n",
       "    </tr>\n",
       "    <tr>\n",
       "      <th>GEN_host_common_name</th>\n",
       "      <td>['human']</td>\n",
       "    </tr>\n",
       "    <tr>\n",
       "      <th>GEN_last_move</th>\n",
       "      <td>['I have lived in my current state of residenc...</td>\n",
       "    </tr>\n",
       "    <tr>\n",
       "      <th>GEN_last_travel</th>\n",
       "      <td>['1 year', '3 months', '6 months', 'I have not...</td>\n",
       "    </tr>\n",
       "    <tr>\n",
       "      <th>GEN_latitude</th>\n",
       "      <td>['-27.5', '-35.3', '-43.0', '21.3', '25.7', '2...</td>\n",
       "    </tr>\n",
       "    <tr>\n",
       "      <th>GEN_level_of_education</th>\n",
       "      <td>[\"Associate's degree\", \"Bachelor's degree\", 'D...</td>\n",
       "    </tr>\n",
       "    <tr>\n",
       "      <th>GEN_longitude</th>\n",
       "      <td>['-0.1', '-0.2', '-0.3', '-0.4', '-0.5', '-0.6...</td>\n",
       "    </tr>\n",
       "    <tr>\n",
       "      <th>GEN_race</th>\n",
       "      <td>['African American', 'Asian or Pacific Islande...</td>\n",
       "    </tr>\n",
       "    <tr>\n",
       "      <th>GEN_sample_type</th>\n",
       "      <td>['Stool']</td>\n",
       "    </tr>\n",
       "    <tr>\n",
       "      <th>GEN_sex</th>\n",
       "      <td>['Not provided', 'female', 'male', 'other']</td>\n",
       "    </tr>\n",
       "    <tr>\n",
       "      <th>GEN_weight_kg</th>\n",
       "      <td>['10.0', '100.0', '101.0', '102.0', '103.0', '...</td>\n",
       "    </tr>\n",
       "    <tr>\n",
       "      <th>NUT_alcohol_consumption</th>\n",
       "      <td>['False', 'True']</td>\n",
       "    </tr>\n",
       "    <tr>\n",
       "      <th>NUT_alcohol_frequency</th>\n",
       "      <td>['Daily', 'Never', 'Not provided', 'Occasional...</td>\n",
       "    </tr>\n",
       "    <tr>\n",
       "      <th>NUT_alcohol_types_beercider</th>\n",
       "      <td>['False', 'True']</td>\n",
       "    </tr>\n",
       "    <tr>\n",
       "      <th>NUT_alcohol_types_red_wine</th>\n",
       "      <td>['False', 'True']</td>\n",
       "    </tr>\n",
       "    <tr>\n",
       "      <th>NUT_alcohol_types_sour_beers</th>\n",
       "      <td>['False', 'True']</td>\n",
       "    </tr>\n",
       "    <tr>\n",
       "      <th>NUT_alcohol_types_spiritshard_alcohol</th>\n",
       "      <td>['False', 'True']</td>\n",
       "    </tr>\n",
       "    <tr>\n",
       "      <th>NUT_alcohol_types_unspecified</th>\n",
       "      <td>['False', 'True']</td>\n",
       "    </tr>\n",
       "    <tr>\n",
       "      <th>NUT_alcohol_types_white_wine</th>\n",
       "      <td>['False', 'True']</td>\n",
       "    </tr>\n",
       "    <tr>\n",
       "      <th>NUT_artificial_sweeteners</th>\n",
       "      <td>['Daily', 'Never', 'Not provided', 'Occasional...</td>\n",
       "    </tr>\n",
       "    <tr>\n",
       "      <th>NUT_diet_type</th>\n",
       "      <td>['Not provided', 'Omnivore', 'Omnivore but do ...</td>\n",
       "    </tr>\n",
       "    <tr>\n",
       "      <th>NUT_drinks_per_session</th>\n",
       "      <td>['1', '1-2', '2-3', '3-4', '4+', \"I don't drin...</td>\n",
       "    </tr>\n",
       "    <tr>\n",
       "      <th>NUT_fed_as_infant</th>\n",
       "      <td>['A mixture of breast milk and formula', 'Not ...</td>\n",
       "    </tr>\n",
       "    <tr>\n",
       "      <th>NUT_fermented_plant_frequency</th>\n",
       "      <td>['Daily', 'Never', 'Not provided', 'Occasional...</td>\n",
       "    </tr>\n",
       "    <tr>\n",
       "      <th>NUT_frozen_dessert_frequency</th>\n",
       "      <td>['Daily', 'Never', 'Not provided', 'Occasional...</td>\n",
       "    </tr>\n",
       "    <tr>\n",
       "      <th>NUT_fruit_frequency</th>\n",
       "      <td>['Daily', 'Never', 'Not provided', 'Occasional...</td>\n",
       "    </tr>\n",
       "    <tr>\n",
       "      <th>NUT_gluten</th>\n",
       "      <td>['I do not eat gluten because it makes me feel...</td>\n",
       "    </tr>\n",
       "    <tr>\n",
       "      <th>NUT_high_fat_red_meat_frequency</th>\n",
       "      <td>['Daily', 'Never', 'Not provided', 'Occasional...</td>\n",
       "    </tr>\n",
       "    <tr>\n",
       "      <th>NUT_homecooked_meals_frequency</th>\n",
       "      <td>['Daily', 'Never', 'Not provided', 'Occasional...</td>\n",
       "    </tr>\n",
       "    <tr>\n",
       "      <th>NUT_lowgrain_diet_type</th>\n",
       "      <td>['False', 'True']</td>\n",
       "    </tr>\n",
       "    <tr>\n",
       "      <th>NUT_meat_eggs_frequency</th>\n",
       "      <td>['Daily', 'Never', 'Not provided', 'Occasional...</td>\n",
       "    </tr>\n",
       "    <tr>\n",
       "      <th>NUT_milk_cheese_frequency</th>\n",
       "      <td>['Daily', 'Never', 'Not provided', 'Occasional...</td>\n",
       "    </tr>\n",
       "    <tr>\n",
       "      <th>NUT_milk_substitute_frequency</th>\n",
       "      <td>['Daily', 'Never', 'Not provided', 'Occasional...</td>\n",
       "    </tr>\n",
       "    <tr>\n",
       "      <th>NUT_olive_oil</th>\n",
       "      <td>['Daily', 'Never', 'Not provided', 'Occasional...</td>\n",
       "    </tr>\n",
       "    <tr>\n",
       "      <th>NUT_poultry_frequency</th>\n",
       "      <td>['Daily', 'Never', 'Not provided', 'Occasional...</td>\n",
       "    </tr>\n",
       "    <tr>\n",
       "      <th>NUT_prepared_meals_frequency</th>\n",
       "      <td>['Daily', 'Never', 'Not provided', 'Occasional...</td>\n",
       "    </tr>\n",
       "    <tr>\n",
       "      <th>NUT_probiotic_frequency</th>\n",
       "      <td>['Daily', 'Never', 'Not provided', 'Occasional...</td>\n",
       "    </tr>\n",
       "    <tr>\n",
       "      <th>NUT_red_meat_frequency</th>\n",
       "      <td>['Daily', 'Never', 'Not provided', 'Occasional...</td>\n",
       "    </tr>\n",
       "    <tr>\n",
       "      <th>NUT_salted_snacks_frequency</th>\n",
       "      <td>['Daily', 'Never', 'Not provided', 'Occasional...</td>\n",
       "    </tr>\n",
       "    <tr>\n",
       "      <th>NUT_seafood_frequency</th>\n",
       "      <td>['Daily', 'Never', 'Not provided', 'Occasional...</td>\n",
       "    </tr>\n",
       "    <tr>\n",
       "      <th>NUT_sugary_sweets_frequency</th>\n",
       "      <td>['Daily', 'Never', 'Not provided', 'Occasional...</td>\n",
       "    </tr>\n",
       "    <tr>\n",
       "      <th>NUT_vegetable_frequency</th>\n",
       "      <td>['Daily', 'Never', 'Not provided', 'Occasional...</td>\n",
       "    </tr>\n",
       "    <tr>\n",
       "      <th>NUT_vitamin_b_supplement_frequency</th>\n",
       "      <td>['Daily', 'Never', 'Not provided', 'Occasional...</td>\n",
       "    </tr>\n",
       "    <tr>\n",
       "      <th>NUT_vitamin_d_supplement_frequency</th>\n",
       "      <td>['Daily', 'Never', 'Not provided', 'Occasional...</td>\n",
       "    </tr>\n",
       "    <tr>\n",
       "      <th>NUT_whole_eggs</th>\n",
       "      <td>['Daily', 'Never', 'Not provided', 'Occasional...</td>\n",
       "    </tr>\n",
       "    <tr>\n",
       "      <th>NUT_whole_grain_frequency</th>\n",
       "      <td>['Daily', 'Never', 'Not provided', 'Occasional...</td>\n",
       "    </tr>\n",
       "  </tbody>\n",
       "</table>\n",
       "</div>"
      ],
      "text/plain": [
       "                                                                                  Values\n",
       "Column                                                                                  \n",
       "GEN_age_cat                            ['20s', '30s', '40s', '50s', '60s', '70+', 'No...\n",
       "GEN_age_corrected                      ['11.0', '14.0', '15.0', '16.0', '17.0', '18.0...\n",
       "GEN_bmi_cat                            ['Normal', 'Not provided', 'Obese', 'Overweigh...\n",
       "GEN_bmi_corrected                      ['11.2', '11.57', '14.34', '14.62', '14.79', '...\n",
       "GEN_cat                                                                ['False', 'True']\n",
       "GEN_collection_timestamp               ['2014-05-10 12:00:00', '2015-01-01 09:00:00',...\n",
       "GEN_country                            ['Australia', 'Belgium', 'Canada', 'Georgia', ...\n",
       "GEN_dog                                                                ['False', 'True']\n",
       "GEN_elevation                          ['-0.9', '0.0', '1.4', '10.4', '10.8', '10.9',...\n",
       "GEN_geo_loc_name                       ['Australia:ACT', 'Australia:QLD', 'Australia:...\n",
       "GEN_height_cm                          ['110.0', '111.0', '114.0', '121.0', '122.0', ...\n",
       "GEN_host_common_name                                                           ['human']\n",
       "GEN_last_move                          ['I have lived in my current state of residenc...\n",
       "GEN_last_travel                        ['1 year', '3 months', '6 months', 'I have not...\n",
       "GEN_latitude                           ['-27.5', '-35.3', '-43.0', '21.3', '25.7', '2...\n",
       "GEN_level_of_education                 [\"Associate's degree\", \"Bachelor's degree\", 'D...\n",
       "GEN_longitude                          ['-0.1', '-0.2', '-0.3', '-0.4', '-0.5', '-0.6...\n",
       "GEN_race                               ['African American', 'Asian or Pacific Islande...\n",
       "GEN_sample_type                                                                ['Stool']\n",
       "GEN_sex                                      ['Not provided', 'female', 'male', 'other']\n",
       "GEN_weight_kg                          ['10.0', '100.0', '101.0', '102.0', '103.0', '...\n",
       "NUT_alcohol_consumption                                                ['False', 'True']\n",
       "NUT_alcohol_frequency                  ['Daily', 'Never', 'Not provided', 'Occasional...\n",
       "NUT_alcohol_types_beercider                                            ['False', 'True']\n",
       "NUT_alcohol_types_red_wine                                             ['False', 'True']\n",
       "NUT_alcohol_types_sour_beers                                           ['False', 'True']\n",
       "NUT_alcohol_types_spiritshard_alcohol                                  ['False', 'True']\n",
       "NUT_alcohol_types_unspecified                                          ['False', 'True']\n",
       "NUT_alcohol_types_white_wine                                           ['False', 'True']\n",
       "NUT_artificial_sweeteners              ['Daily', 'Never', 'Not provided', 'Occasional...\n",
       "NUT_diet_type                          ['Not provided', 'Omnivore', 'Omnivore but do ...\n",
       "NUT_drinks_per_session                 ['1', '1-2', '2-3', '3-4', '4+', \"I don't drin...\n",
       "NUT_fed_as_infant                      ['A mixture of breast milk and formula', 'Not ...\n",
       "NUT_fermented_plant_frequency          ['Daily', 'Never', 'Not provided', 'Occasional...\n",
       "NUT_frozen_dessert_frequency           ['Daily', 'Never', 'Not provided', 'Occasional...\n",
       "NUT_fruit_frequency                    ['Daily', 'Never', 'Not provided', 'Occasional...\n",
       "NUT_gluten                             ['I do not eat gluten because it makes me feel...\n",
       "NUT_high_fat_red_meat_frequency        ['Daily', 'Never', 'Not provided', 'Occasional...\n",
       "NUT_homecooked_meals_frequency         ['Daily', 'Never', 'Not provided', 'Occasional...\n",
       "NUT_lowgrain_diet_type                                                 ['False', 'True']\n",
       "NUT_meat_eggs_frequency                ['Daily', 'Never', 'Not provided', 'Occasional...\n",
       "NUT_milk_cheese_frequency              ['Daily', 'Never', 'Not provided', 'Occasional...\n",
       "NUT_milk_substitute_frequency          ['Daily', 'Never', 'Not provided', 'Occasional...\n",
       "NUT_olive_oil                          ['Daily', 'Never', 'Not provided', 'Occasional...\n",
       "NUT_poultry_frequency                  ['Daily', 'Never', 'Not provided', 'Occasional...\n",
       "NUT_prepared_meals_frequency           ['Daily', 'Never', 'Not provided', 'Occasional...\n",
       "NUT_probiotic_frequency                ['Daily', 'Never', 'Not provided', 'Occasional...\n",
       "NUT_red_meat_frequency                 ['Daily', 'Never', 'Not provided', 'Occasional...\n",
       "NUT_salted_snacks_frequency            ['Daily', 'Never', 'Not provided', 'Occasional...\n",
       "NUT_seafood_frequency                  ['Daily', 'Never', 'Not provided', 'Occasional...\n",
       "NUT_sugary_sweets_frequency            ['Daily', 'Never', 'Not provided', 'Occasional...\n",
       "NUT_vegetable_frequency                ['Daily', 'Never', 'Not provided', 'Occasional...\n",
       "NUT_vitamin_b_supplement_frequency     ['Daily', 'Never', 'Not provided', 'Occasional...\n",
       "NUT_vitamin_d_supplement_frequency     ['Daily', 'Never', 'Not provided', 'Occasional...\n",
       "NUT_whole_eggs                         ['Daily', 'Never', 'Not provided', 'Occasional...\n",
       "NUT_whole_grain_frequency              ['Daily', 'Never', 'Not provided', 'Occasional..."
      ]
     },
     "execution_count": 15,
     "metadata": {},
     "output_type": "execute_result"
    }
   ],
   "source": [
    "pd.DataFrame([str(sorted(metadata_df[col].astype(str).unique())) for col in metadata_df.columns],\n",
    "             index=pd.Index(metadata_df.columns, name='Column'), columns=['Values'])"
   ]
  },
  {
   "cell_type": "code",
   "execution_count": 1,
   "id": "9d8348c6-26c6-435f-85f6-36478232a75b",
   "metadata": {
    "collapsed": true,
    "jupyter": {
     "outputs_hidden": true
    },
    "tags": []
   },
   "outputs": [
    {
     "name": "stdout",
     "output_type": "stream",
     "text": [
      "Usage: \u001b[94mqiime composition ancom\u001b[0m [OPTIONS]\n",
      "\n",
      "  Apply Analysis of Composition of Microbiomes (ANCOM) to identify features\n",
      "  that are differentially abundant across groups.\n",
      "\n",
      "\u001b[1mInputs\u001b[0m:\n",
      "  \u001b[94m\u001b[4m--i-table\u001b[0m ARTIFACT \u001b[32mFeatureTable[Composition]\u001b[0m\n",
      "                       The feature table to be used for ANCOM computation.\n",
      "                                                                    \u001b[35m[required]\u001b[0m\n",
      "\u001b[1mParameters\u001b[0m:\n",
      "  \u001b[94m\u001b[4m--m-metadata-file\u001b[0m METADATA\n",
      "  \u001b[94m\u001b[4m--m-metadata-column\u001b[0m COLUMN  \u001b[32mMetadataColumn[Categorical]\u001b[0m\n",
      "                       The categorical sample metadata column to test for\n",
      "                       differential abundance across.               \u001b[35m[required]\u001b[0m\n",
      "  \u001b[94m--p-transform-function\u001b[0m TEXT \u001b[32mChoices('sqrt', 'log', 'clr')\u001b[0m\n",
      "                       The method applied to transform feature values before\n",
      "                       generating volcano plots.              \u001b[35m[default: 'clr']\u001b[0m\n",
      "  \u001b[94m--p-difference-function\u001b[0m TEXT \u001b[32mChoices('mean_difference', 'f_statistic')\u001b[0m\n",
      "                       The method applied to visualize fold difference in\n",
      "                       feature abundances across groups for volcano plots.\n",
      "                                                                    \u001b[35m[optional]\u001b[0m\n",
      "\u001b[1mOutputs\u001b[0m:\n",
      "  \u001b[94m\u001b[4m--o-visualization\u001b[0m VISUALIZATION\n",
      "                                                                    \u001b[35m[required]\u001b[0m\n",
      "\u001b[1mMiscellaneous\u001b[0m:\n",
      "  \u001b[94m--output-dir\u001b[0m PATH    Output unspecified results to a directory\n",
      "  \u001b[94m--verbose\u001b[0m / \u001b[94m--quiet\u001b[0m  Display verbose output to stdout and/or stderr during\n",
      "                       execution of this action. Or silence output if\n",
      "                       execution is successful (silence is golden).\n",
      "  \u001b[94m--example-data\u001b[0m PATH  Write example data and exit.\n",
      "  \u001b[94m--citations\u001b[0m          Show citations and exit.\n",
      "  \u001b[94m--help\u001b[0m               Show this message and exit.\n"
     ]
    }
   ],
   "source": [
    "! qiime composition ancom --help"
   ]
  },
  {
   "cell_type": "markdown",
   "id": "e18769d0-4dc4-4028-b11a-f398508db799",
   "metadata": {},
   "source": [
    "Transformation methods:  --p-transform-function TEXT Choices('sqrt', 'log', 'clr')"
   ]
  },
  {
   "cell_type": "markdown",
   "id": "ed3df698-1603-442c-8e92-835dd0dc0069",
   "metadata": {},
   "source": [
    "### Check for differential abundance in the alcohol consumption category -- log transormation"
   ]
  },
  {
   "cell_type": "code",
   "execution_count": 20,
   "id": "43b588dc-a79e-4058-9771-5a50d3664515",
   "metadata": {},
   "outputs": [
    {
     "name": "stdout",
     "output_type": "stream",
     "text": [
      "\u001b[32mSaved Visualization to: project_data/ANCOM_results/ancom_NUT_alcohol_consumption.qzv\u001b[0m\n",
      "\u001b[0m"
     ]
    }
   ],
   "source": [
    "! qiime composition ancom \\\n",
    "    --i-table $data_dir/pseud_table_abund.qza \\\n",
    "    --m-metadata-file $data_dir/sample_metadata.tsv \\\n",
    "    --m-metadata-column NUT_alcohol_consumption \\\n",
    "    --p-transform-function log \\\n",
    "    --o-visualization $data_dir/ANCOM_results/ancom_NUT_alcohol_consumption.qzv"
   ]
  },
  {
   "cell_type": "code",
   "execution_count": 4,
   "id": "62ef3f5f-bee8-4e69-9abb-41c1cddd2b44",
   "metadata": {
    "collapsed": true,
    "jupyter": {
     "outputs_hidden": true
    },
    "tags": []
   },
   "outputs": [
    {
     "data": {
      "text/html": [
       "<div><img onload=\"(function(div, url){\n",
       "if (typeof require !== 'undefined') {\n",
       "    var baseURL = require.toUrl('').split('/').slice(0, -2).join('/');\n",
       "} else {\n",
       "    var baseURL = JSON.parse(\n",
       "        document.getElementById('jupyter-config-data').innerHTML\n",
       "    ).baseUrl.slice(0, -1);\n",
       "}\n",
       "url = baseURL + url;\n",
       "fetch(url).then(function(res) {\n",
       "    if (res.status === 404) {\n",
       "        div.innerHTML = 'Install QIIME 2 Jupyter extension with:<br />' +\n",
       "                        '<code>jupyter serverextension enable --py qiime2' +\n",
       "                        ' --sys-prefix</code><br />then restart your server.' +\n",
       "                        '<br /><br />(Interactive output not available on ' +\n",
       "                        'static notebook viewer services like nbviewer.)';\n",
       "    } else if (res.status === 409) {\n",
       "        div.innerHTML = 'Visualization no longer in scope. Re-run this cell' +\n",
       "                        ' to see the visualization.';\n",
       "    } else if (res.ok) {\n",
       "        url = res.url;\n",
       "        div.innerHTML = '<iframe src=\\'' + url + '\\' style=\\'' +\n",
       "                        'width: 100%; height: 700px; border: 0;\\'>' +\n",
       "                        '</iframe><hr />Open in a: <a href=\\'' + url + '\\'' +\n",
       "                        ' target=\\'_blank\\'>new window</a>'\n",
       "    } else {\n",
       "        div.innerHTML = 'Something has gone wrong. Check notebook server for' +\n",
       "                        ' errors.';\n",
       "    }\n",
       "});\n",
       "})(this.parentElement, '/qiime2/redirect?location=/tmp/qiime2-archive-dyozivjx')\" src=\"data:image/gif;base64,R0lGODlhAQABAIAAAP///wAAACH5BAEAAAAALAAAAAABAAEAAAICRAEAOw==\" /></div>"
      ],
      "text/plain": [
       "<visualization: Visualization uuid: 55fc20e2-e9a7-44f3-a1d8-0a508adbc914>"
      ]
     },
     "execution_count": 4,
     "metadata": {},
     "output_type": "execute_result"
    }
   ],
   "source": [
    "Visualization.load(f'{data_dir}/ANCOM_results/ancom_NUT_alcohol_consumption.qzv')"
   ]
  },
  {
   "cell_type": "markdown",
   "id": "687af07c-9bff-4aea-a814-cf2943b713ea",
   "metadata": {},
   "source": [
    "differential ASV's: (top 3)\n",
    "\n",
    "dcba105f35d8ebc9e22269c7491ad3a7 --> k__Bacteria; p__Proteobacteria; c__Gammaproteobacteria; o__Xanthomonadales; f__Xanthomonadaceae; g__Stenotrophomonas; s__geniculata --> Conf: 0.7288359940778949\n",
    "\n",
    "ec6732c2e0d4cf64b3d0350e7fe3defb --> k__Bacteria; p__Firmicutes; c__Clostridia; o__Clostridiales; f__Lachnospiraceae; g__Roseburia; s__inulinivorans --> Conf: 0.7465821860521127\n",
    "\n",
    "5a6c87d6a4eb5e114959f6192f29b641 --> k__Bacteria; p__Actinobacteria; c__Actinobacteria; o__Bifidobacteriales; f__Bifidobacteriaceae; g__Bifidobacterium; s__adolescentis --> Conf: 0.9143623365632302"
   ]
  },
  {
   "cell_type": "markdown",
   "id": "c26840a2-da31-4a2a-9da9-5c637348cc8f",
   "metadata": {},
   "source": [
    "### Check for differential abundance in the alcohol consumption category -- crl transformation"
   ]
  },
  {
   "cell_type": "code",
   "execution_count": 26,
   "id": "b89dfa1d-6597-4ddb-a59b-0964e443deb8",
   "metadata": {},
   "outputs": [
    {
     "name": "stdout",
     "output_type": "stream",
     "text": [
      "\u001b[32mSaved Visualization to: project_data/ANCOM_results/ancom_NUT_alcohol_consumption-transform.qzv\u001b[0m\n",
      "\u001b[0m"
     ]
    }
   ],
   "source": [
    "! qiime composition ancom \\\n",
    "    --i-table $data_dir/pseud_table_abund.qza \\\n",
    "    --m-metadata-file $data_dir/sample_metadata.tsv \\\n",
    "    --m-metadata-column NUT_alcohol_consumption \\\n",
    "    --o-visualization $data_dir/ANCOM_results/ancom_NUT_alcohol_consumption-transform.qzv"
   ]
  },
  {
   "cell_type": "code",
   "execution_count": 27,
   "id": "ed70c967-b78c-445f-a663-f93b6c75d005",
   "metadata": {
    "collapsed": true,
    "jupyter": {
     "outputs_hidden": true
    },
    "tags": []
   },
   "outputs": [
    {
     "data": {
      "text/html": [
       "<div><img onload=\"(function(div, url){\n",
       "if (typeof require !== 'undefined') {\n",
       "    var baseURL = require.toUrl('').split('/').slice(0, -2).join('/');\n",
       "} else {\n",
       "    var baseURL = JSON.parse(\n",
       "        document.getElementById('jupyter-config-data').innerHTML\n",
       "    ).baseUrl.slice(0, -1);\n",
       "}\n",
       "url = baseURL + url;\n",
       "fetch(url).then(function(res) {\n",
       "    if (res.status === 404) {\n",
       "        div.innerHTML = 'Install QIIME 2 Jupyter extension with:<br />' +\n",
       "                        '<code>jupyter serverextension enable --py qiime2' +\n",
       "                        ' --sys-prefix</code><br />then restart your server.' +\n",
       "                        '<br /><br />(Interactive output not available on ' +\n",
       "                        'static notebook viewer services like nbviewer.)';\n",
       "    } else if (res.status === 409) {\n",
       "        div.innerHTML = 'Visualization no longer in scope. Re-run this cell' +\n",
       "                        ' to see the visualization.';\n",
       "    } else if (res.ok) {\n",
       "        url = res.url;\n",
       "        div.innerHTML = '<iframe src=\\'' + url + '\\' style=\\'' +\n",
       "                        'width: 100%; height: 700px; border: 0;\\'>' +\n",
       "                        '</iframe><hr />Open in a: <a href=\\'' + url + '\\'' +\n",
       "                        ' target=\\'_blank\\'>new window</a>'\n",
       "    } else {\n",
       "        div.innerHTML = 'Something has gone wrong. Check notebook server for' +\n",
       "                        ' errors.';\n",
       "    }\n",
       "});\n",
       "})(this.parentElement, '/qiime2/redirect?location=/tmp/qiime2-archive-5mh2l6rx')\" src=\"data:image/gif;base64,R0lGODlhAQABAIAAAP///wAAACH5BAEAAAAALAAAAAABAAEAAAICRAEAOw==\" /></div>"
      ],
      "text/plain": [
       "<visualization: Visualization uuid: a5bdcaf5-49fe-48e0-bce3-ccdfd9d7feab>"
      ]
     },
     "execution_count": 27,
     "metadata": {},
     "output_type": "execute_result"
    }
   ],
   "source": [
    "Visualization.load(f'{data_dir}/ANCOM_results/ancom_NUT_alcohol_consumption-transform.qzv')"
   ]
  },
  {
   "cell_type": "markdown",
   "id": "aad6da11-e36b-4798-a899-297f46e61996",
   "metadata": {},
   "source": [
    "### Check for differential abundance in the alcohol consumption category -- sqrt transformation"
   ]
  },
  {
   "cell_type": "code",
   "execution_count": 28,
   "id": "0a012c1d-5685-43c4-8b7c-4c8d506e6785",
   "metadata": {},
   "outputs": [
    {
     "name": "stdout",
     "output_type": "stream",
     "text": [
      "\u001b[32mSaved Visualization to: project_data/ANCOM_results/ancom_NUT_alcohol_consumption-sqrt.qzv\u001b[0m\n",
      "\u001b[0m"
     ]
    }
   ],
   "source": [
    "! qiime composition ancom \\\n",
    "    --i-table $data_dir/pseud_table_abund.qza \\\n",
    "    --m-metadata-file $data_dir/sample_metadata.tsv \\\n",
    "    --m-metadata-column NUT_alcohol_consumption \\\n",
    "    --p-transform-function sqrt \\\n",
    "    --o-visualization $data_dir/ANCOM_results/ancom_NUT_alcohol_consumption-sqrt.qzv"
   ]
  },
  {
   "cell_type": "code",
   "execution_count": 3,
   "id": "cc6ba9e0-7141-4d5d-97dd-2b22450dbda4",
   "metadata": {
    "collapsed": true,
    "jupyter": {
     "outputs_hidden": true
    },
    "tags": []
   },
   "outputs": [
    {
     "data": {
      "text/html": [
       "<div><img onload=\"(function(div, url){\n",
       "if (typeof require !== 'undefined') {\n",
       "    var baseURL = require.toUrl('').split('/').slice(0, -2).join('/');\n",
       "} else {\n",
       "    var baseURL = JSON.parse(\n",
       "        document.getElementById('jupyter-config-data').innerHTML\n",
       "    ).baseUrl.slice(0, -1);\n",
       "}\n",
       "url = baseURL + url;\n",
       "fetch(url).then(function(res) {\n",
       "    if (res.status === 404) {\n",
       "        div.innerHTML = 'Install QIIME 2 Jupyter extension with:<br />' +\n",
       "                        '<code>jupyter serverextension enable --py qiime2' +\n",
       "                        ' --sys-prefix</code><br />then restart your server.' +\n",
       "                        '<br /><br />(Interactive output not available on ' +\n",
       "                        'static notebook viewer services like nbviewer.)';\n",
       "    } else if (res.status === 409) {\n",
       "        div.innerHTML = 'Visualization no longer in scope. Re-run this cell' +\n",
       "                        ' to see the visualization.';\n",
       "    } else if (res.ok) {\n",
       "        url = res.url;\n",
       "        div.innerHTML = '<iframe src=\\'' + url + '\\' style=\\'' +\n",
       "                        'width: 100%; height: 700px; border: 0;\\'>' +\n",
       "                        '</iframe><hr />Open in a: <a href=\\'' + url + '\\'' +\n",
       "                        ' target=\\'_blank\\'>new window</a>'\n",
       "    } else {\n",
       "        div.innerHTML = 'Something has gone wrong. Check notebook server for' +\n",
       "                        ' errors.';\n",
       "    }\n",
       "});\n",
       "})(this.parentElement, '/qiime2/redirect?location=/tmp/qiime2-archive-iz7jmqks')\" src=\"data:image/gif;base64,R0lGODlhAQABAIAAAP///wAAACH5BAEAAAAALAAAAAABAAEAAAICRAEAOw==\" /></div>"
      ],
      "text/plain": [
       "<visualization: Visualization uuid: 5eb11e4f-fbd5-4ea9-b5aa-706c6c32bbdf>"
      ]
     },
     "execution_count": 3,
     "metadata": {},
     "output_type": "execute_result"
    }
   ],
   "source": [
    "Visualization.load(f'{data_dir}/ANCOM_results/ancom_NUT_alcohol_consumption-sqrt.qzv')"
   ]
  },
  {
   "cell_type": "markdown",
   "id": "fa589d2b-ecdb-4a1a-9fd9-2d5d97c1337d",
   "metadata": {},
   "source": [
    "As the different transformations do not drastically change the Volcano plot, we choose to stick with the log-transformation for the following analysis."
   ]
  },
  {
   "cell_type": "markdown",
   "id": "78a92a3b-d63f-4c95-ba62-93dc69bb1935",
   "metadata": {},
   "source": [
    "### Check for differntial abundance in NUT_alcohol_frequency"
   ]
  },
  {
   "cell_type": "code",
   "execution_count": 23,
   "id": "019580c3-2ee2-4904-be61-8ca8b69c8791",
   "metadata": {},
   "outputs": [
    {
     "name": "stdout",
     "output_type": "stream",
     "text": [
      "\u001b[32mSaved Visualization to: project_data/ANCOM_results/ancom_NUT_alcohol_frequency.qzv\u001b[0m\n",
      "\u001b[0m"
     ]
    }
   ],
   "source": [
    "! qiime composition ancom \\\n",
    "    --i-table $data_dir/pseud_table_abund.qza \\\n",
    "    --m-metadata-file $data_dir/sample_metadata.tsv \\\n",
    "    --m-metadata-column NUT_alcohol_frequency \\\n",
    "    --p-transform-function log \\\n",
    "    --o-visualization $data_dir/ANCOM_results/ancom_NUT_alcohol_frequency.qzv"
   ]
  },
  {
   "cell_type": "code",
   "execution_count": 11,
   "id": "9956c750-6a17-4645-b123-8fe409d1d3fb",
   "metadata": {
    "collapsed": true,
    "jupyter": {
     "outputs_hidden": true
    },
    "tags": []
   },
   "outputs": [
    {
     "data": {
      "text/html": [
       "<div><img onload=\"(function(div, url){\n",
       "if (typeof require !== 'undefined') {\n",
       "    var baseURL = require.toUrl('').split('/').slice(0, -2).join('/');\n",
       "} else {\n",
       "    var baseURL = JSON.parse(\n",
       "        document.getElementById('jupyter-config-data').innerHTML\n",
       "    ).baseUrl.slice(0, -1);\n",
       "}\n",
       "url = baseURL + url;\n",
       "fetch(url).then(function(res) {\n",
       "    if (res.status === 404) {\n",
       "        div.innerHTML = 'Install QIIME 2 Jupyter extension with:<br />' +\n",
       "                        '<code>jupyter serverextension enable --py qiime2' +\n",
       "                        ' --sys-prefix</code><br />then restart your server.' +\n",
       "                        '<br /><br />(Interactive output not available on ' +\n",
       "                        'static notebook viewer services like nbviewer.)';\n",
       "    } else if (res.status === 409) {\n",
       "        div.innerHTML = 'Visualization no longer in scope. Re-run this cell' +\n",
       "                        ' to see the visualization.';\n",
       "    } else if (res.ok) {\n",
       "        url = res.url;\n",
       "        div.innerHTML = '<iframe src=\\'' + url + '\\' style=\\'' +\n",
       "                        'width: 100%; height: 700px; border: 0;\\'>' +\n",
       "                        '</iframe><hr />Open in a: <a href=\\'' + url + '\\'' +\n",
       "                        ' target=\\'_blank\\'>new window</a>'\n",
       "    } else {\n",
       "        div.innerHTML = 'Something has gone wrong. Check notebook server for' +\n",
       "                        ' errors.';\n",
       "    }\n",
       "});\n",
       "})(this.parentElement, '/qiime2/redirect?location=/tmp/qiime2-archive-amhrr_gn')\" src=\"data:image/gif;base64,R0lGODlhAQABAIAAAP///wAAACH5BAEAAAAALAAAAAABAAEAAAICRAEAOw==\" /></div>"
      ],
      "text/plain": [
       "<visualization: Visualization uuid: a9e16a45-4f4a-440d-b621-0266daff73ce>"
      ]
     },
     "execution_count": 11,
     "metadata": {},
     "output_type": "execute_result"
    }
   ],
   "source": [
    "Visualization.load(f'{data_dir}/ANCOM_results/ancom_NUT_alcohol_frequency.qzv')"
   ]
  },
  {
   "cell_type": "markdown",
   "id": "a5cded1c-ad82-43d4-a0df-19c13241d9fb",
   "metadata": {},
   "source": [
    "differential ASV's:\n",
    "\n",
    "d1b9cd324ba837bb9f2e780dc1116882 --> k__Bacteria; p__Firmicutes; c__Clostridia; o__Clostridiales; f__Christensenellaceae; g__; s__ --> Conf: 0.9999435810436742"
   ]
  },
  {
   "cell_type": "markdown",
   "id": "66a2f18d-1110-483b-a4db-da788191d5b2",
   "metadata": {},
   "source": [
    "### Check for differntial abundance in NUT_alcohol_types_red_wine"
   ]
  },
  {
   "cell_type": "code",
   "execution_count": 30,
   "id": "0a937960-de37-4d64-9744-046ee684200d",
   "metadata": {},
   "outputs": [
    {
     "name": "stdout",
     "output_type": "stream",
     "text": [
      "\u001b[32mSaved Visualization to: project_data/ANCOM_results/ancom_NUT_alcohol_types_red_wine.qzv\u001b[0m\n",
      "\u001b[0m"
     ]
    }
   ],
   "source": [
    "! qiime composition ancom \\\n",
    "    --i-table $data_dir/pseud_table_abund.qza \\\n",
    "    --m-metadata-file $data_dir/sample_metadata.tsv \\\n",
    "    --m-metadata-column NUT_alcohol_types_red_wine \\\n",
    "    --p-transform-function log \\\n",
    "    --o-visualization $data_dir/ANCOM_results/ancom_NUT_alcohol_types_red_wine.qzv"
   ]
  },
  {
   "cell_type": "code",
   "execution_count": 6,
   "id": "aeddd756-3215-45ee-a164-55bf4bab9b39",
   "metadata": {
    "collapsed": true,
    "jupyter": {
     "outputs_hidden": true
    },
    "tags": []
   },
   "outputs": [
    {
     "data": {
      "text/html": [
       "<div><img onload=\"(function(div, url){\n",
       "if (typeof require !== 'undefined') {\n",
       "    var baseURL = require.toUrl('').split('/').slice(0, -2).join('/');\n",
       "} else {\n",
       "    var baseURL = JSON.parse(\n",
       "        document.getElementById('jupyter-config-data').innerHTML\n",
       "    ).baseUrl.slice(0, -1);\n",
       "}\n",
       "url = baseURL + url;\n",
       "fetch(url).then(function(res) {\n",
       "    if (res.status === 404) {\n",
       "        div.innerHTML = 'Install QIIME 2 Jupyter extension with:<br />' +\n",
       "                        '<code>jupyter serverextension enable --py qiime2' +\n",
       "                        ' --sys-prefix</code><br />then restart your server.' +\n",
       "                        '<br /><br />(Interactive output not available on ' +\n",
       "                        'static notebook viewer services like nbviewer.)';\n",
       "    } else if (res.status === 409) {\n",
       "        div.innerHTML = 'Visualization no longer in scope. Re-run this cell' +\n",
       "                        ' to see the visualization.';\n",
       "    } else if (res.ok) {\n",
       "        url = res.url;\n",
       "        div.innerHTML = '<iframe src=\\'' + url + '\\' style=\\'' +\n",
       "                        'width: 100%; height: 700px; border: 0;\\'>' +\n",
       "                        '</iframe><hr />Open in a: <a href=\\'' + url + '\\'' +\n",
       "                        ' target=\\'_blank\\'>new window</a>'\n",
       "    } else {\n",
       "        div.innerHTML = 'Something has gone wrong. Check notebook server for' +\n",
       "                        ' errors.';\n",
       "    }\n",
       "});\n",
       "})(this.parentElement, '/qiime2/redirect?location=/tmp/qiime2-archive-njvf39og')\" src=\"data:image/gif;base64,R0lGODlhAQABAIAAAP///wAAACH5BAEAAAAALAAAAAABAAEAAAICRAEAOw==\" /></div>"
      ],
      "text/plain": [
       "<visualization: Visualization uuid: ac05947a-5214-4f35-8410-09782b5bf68e>"
      ]
     },
     "execution_count": 6,
     "metadata": {},
     "output_type": "execute_result"
    }
   ],
   "source": [
    "Visualization.load(f'{data_dir}/ANCOM_results/ancom_NUT_alcohol_types_red_wine.qzv')"
   ]
  },
  {
   "cell_type": "markdown",
   "id": "bdfa25a9-61c6-443e-88fa-c82135c3714a",
   "metadata": {},
   "source": [
    "differential ASV's: none"
   ]
  },
  {
   "cell_type": "markdown",
   "id": "bda96c2e-c7a2-4817-a404-eda29df2303a",
   "metadata": {},
   "source": [
    "### Check for differntial abundance in NUT_alcohol_types_unspecified"
   ]
  },
  {
   "cell_type": "code",
   "execution_count": 32,
   "id": "0033f390-8527-4380-b5a6-d026ac02c8fb",
   "metadata": {},
   "outputs": [
    {
     "name": "stdout",
     "output_type": "stream",
     "text": [
      "\u001b[32mSaved Visualization to: project_data/ANCOM_results/ancom_NUT_alcohol_types_unspecified.qzv\u001b[0m\n",
      "\u001b[0m"
     ]
    }
   ],
   "source": [
    "! qiime composition ancom \\\n",
    "    --i-table $data_dir/pseud_table_abund.qza \\\n",
    "    --m-metadata-file $data_dir/sample_metadata.tsv \\\n",
    "    --m-metadata-column NUT_alcohol_types_unspecified \\\n",
    "    --p-transform-function log \\\n",
    "    --o-visualization $data_dir/ANCOM_results/ancom_NUT_alcohol_types_unspecified.qzv"
   ]
  },
  {
   "cell_type": "code",
   "execution_count": 7,
   "id": "57019a6e-74ef-4d7a-a552-a38fce828f39",
   "metadata": {
    "collapsed": true,
    "jupyter": {
     "outputs_hidden": true
    },
    "tags": []
   },
   "outputs": [
    {
     "data": {
      "text/html": [
       "<div><img onload=\"(function(div, url){\n",
       "if (typeof require !== 'undefined') {\n",
       "    var baseURL = require.toUrl('').split('/').slice(0, -2).join('/');\n",
       "} else {\n",
       "    var baseURL = JSON.parse(\n",
       "        document.getElementById('jupyter-config-data').innerHTML\n",
       "    ).baseUrl.slice(0, -1);\n",
       "}\n",
       "url = baseURL + url;\n",
       "fetch(url).then(function(res) {\n",
       "    if (res.status === 404) {\n",
       "        div.innerHTML = 'Install QIIME 2 Jupyter extension with:<br />' +\n",
       "                        '<code>jupyter serverextension enable --py qiime2' +\n",
       "                        ' --sys-prefix</code><br />then restart your server.' +\n",
       "                        '<br /><br />(Interactive output not available on ' +\n",
       "                        'static notebook viewer services like nbviewer.)';\n",
       "    } else if (res.status === 409) {\n",
       "        div.innerHTML = 'Visualization no longer in scope. Re-run this cell' +\n",
       "                        ' to see the visualization.';\n",
       "    } else if (res.ok) {\n",
       "        url = res.url;\n",
       "        div.innerHTML = '<iframe src=\\'' + url + '\\' style=\\'' +\n",
       "                        'width: 100%; height: 700px; border: 0;\\'>' +\n",
       "                        '</iframe><hr />Open in a: <a href=\\'' + url + '\\'' +\n",
       "                        ' target=\\'_blank\\'>new window</a>'\n",
       "    } else {\n",
       "        div.innerHTML = 'Something has gone wrong. Check notebook server for' +\n",
       "                        ' errors.';\n",
       "    }\n",
       "});\n",
       "})(this.parentElement, '/qiime2/redirect?location=/tmp/qiime2-archive-o3mi63mz')\" src=\"data:image/gif;base64,R0lGODlhAQABAIAAAP///wAAACH5BAEAAAAALAAAAAABAAEAAAICRAEAOw==\" /></div>"
      ],
      "text/plain": [
       "<visualization: Visualization uuid: 18d206c3-f4be-403f-b44a-9ede5dd2ba29>"
      ]
     },
     "execution_count": 7,
     "metadata": {},
     "output_type": "execute_result"
    }
   ],
   "source": [
    "Visualization.load(f'{data_dir}/ANCOM_results/ancom_NUT_alcohol_types_unspecified.qzv')"
   ]
  },
  {
   "cell_type": "markdown",
   "id": "598e2aec-e4a1-4d72-b3eb-1925a3c8a13b",
   "metadata": {},
   "source": [
    "differential ASV's: none"
   ]
  },
  {
   "cell_type": "markdown",
   "id": "5b093171-ab4a-43ea-ac7f-bf2bcd59e77f",
   "metadata": {},
   "source": [
    "### Check for differntial abundance in NUT_olive_oil"
   ]
  },
  {
   "cell_type": "code",
   "execution_count": 34,
   "id": "5e6ebce6-ed7c-448f-83a6-385feb72a7b5",
   "metadata": {},
   "outputs": [
    {
     "name": "stdout",
     "output_type": "stream",
     "text": [
      "\u001b[32mSaved Visualization to: project_data/ANCOM_results/ancom_NUT_olive_oil.qzv\u001b[0m\n",
      "\u001b[0m"
     ]
    }
   ],
   "source": [
    "! qiime composition ancom \\\n",
    "    --i-table $data_dir/pseud_table_abund.qza \\\n",
    "    --m-metadata-file $data_dir/sample_metadata.tsv \\\n",
    "    --m-metadata-column NUT_olive_oil \\\n",
    "    --p-transform-function log \\\n",
    "    --o-visualization $data_dir/ANCOM_results/ancom_NUT_olive_oil.qzv"
   ]
  },
  {
   "cell_type": "code",
   "execution_count": 25,
   "id": "158c6263-5adb-48f4-b238-6d278efb12a3",
   "metadata": {
    "tags": []
   },
   "outputs": [
    {
     "data": {
      "text/html": [
       "<div><img onload=\"(function(div, url){\n",
       "if (typeof require !== 'undefined') {\n",
       "    var baseURL = require.toUrl('').split('/').slice(0, -2).join('/');\n",
       "} else {\n",
       "    var baseURL = JSON.parse(\n",
       "        document.getElementById('jupyter-config-data').innerHTML\n",
       "    ).baseUrl.slice(0, -1);\n",
       "}\n",
       "url = baseURL + url;\n",
       "fetch(url).then(function(res) {\n",
       "    if (res.status === 404) {\n",
       "        div.innerHTML = 'Install QIIME 2 Jupyter extension with:<br />' +\n",
       "                        '<code>jupyter serverextension enable --py qiime2' +\n",
       "                        ' --sys-prefix</code><br />then restart your server.' +\n",
       "                        '<br /><br />(Interactive output not available on ' +\n",
       "                        'static notebook viewer services like nbviewer.)';\n",
       "    } else if (res.status === 409) {\n",
       "        div.innerHTML = 'Visualization no longer in scope. Re-run this cell' +\n",
       "                        ' to see the visualization.';\n",
       "    } else if (res.ok) {\n",
       "        url = res.url;\n",
       "        div.innerHTML = '<iframe src=\\'' + url + '\\' style=\\'' +\n",
       "                        'width: 100%; height: 700px; border: 0;\\'>' +\n",
       "                        '</iframe><hr />Open in a: <a href=\\'' + url + '\\'' +\n",
       "                        ' target=\\'_blank\\'>new window</a>'\n",
       "    } else {\n",
       "        div.innerHTML = 'Something has gone wrong. Check notebook server for' +\n",
       "                        ' errors.';\n",
       "    }\n",
       "});\n",
       "})(this.parentElement, '/qiime2/redirect?location=/tmp/qiime2-archive-_7o3afo7')\" src=\"data:image/gif;base64,R0lGODlhAQABAIAAAP///wAAACH5BAEAAAAALAAAAAABAAEAAAICRAEAOw==\" /></div>"
      ],
      "text/plain": [
       "<visualization: Visualization uuid: 4bc6b7a5-e966-4897-b60f-8ba906494869>"
      ]
     },
     "execution_count": 25,
     "metadata": {},
     "output_type": "execute_result"
    }
   ],
   "source": [
    "Visualization.load(f'{data_dir}/ANCOM_results/ancom_NUT_olive_oil.qzv')"
   ]
  },
  {
   "cell_type": "markdown",
   "id": "2e642906-fabf-4847-813b-4e431b07fa06",
   "metadata": {},
   "source": [
    "differential ASV's:\n",
    "\n",
    "ed8746a919274371bea412882a1c6bb5 --> k__Bacteria; p__Firmicutes; c__Clostridia; o__Clostridiales; f__Lachnospiraceae; g__Dorea; s__ --> Conf: 0.9623306197472182"
   ]
  },
  {
   "cell_type": "code",
   "execution_count": null,
   "id": "514d6411-7038-433c-94a0-09e508711635",
   "metadata": {},
   "outputs": [],
   "source": []
  },
  {
   "cell_type": "markdown",
   "id": "f384850d-b568-4120-ac23-fefdac2f51fc",
   "metadata": {},
   "source": [
    "### Check for differntial abundance in NUT_prepared_meals_frequency"
   ]
  },
  {
   "cell_type": "code",
   "execution_count": 16,
   "id": "a4fc932f-62a9-4450-9621-885807adb03e",
   "metadata": {},
   "outputs": [
    {
     "name": "stdout",
     "output_type": "stream",
     "text": [
      "^C\n",
      "\n",
      "Aborted!\n",
      "\u001b[0m"
     ]
    }
   ],
   "source": [
    "! qiime composition ancom \\\n",
    "    --i-table $data_dir/pseud_table_abund.qza \\\n",
    "    --m-metadata-file $data_dir/sample_metadata.tsv \\\n",
    "    --m-metadata-column NUT_prepared_meals_frequency \\\n",
    "    --p-transform-function log \\\n",
    "    --o-visualization $data_dir/ANCOM_results/ancom_NUT_prepared_meals_frequency.qzv"
   ]
  },
  {
   "cell_type": "code",
   "execution_count": 9,
   "id": "83f72271-e98c-4899-a8b8-9633723eb6ca",
   "metadata": {
    "collapsed": true,
    "jupyter": {
     "outputs_hidden": true
    },
    "tags": []
   },
   "outputs": [
    {
     "data": {
      "text/html": [
       "<div><img onload=\"(function(div, url){\n",
       "if (typeof require !== 'undefined') {\n",
       "    var baseURL = require.toUrl('').split('/').slice(0, -2).join('/');\n",
       "} else {\n",
       "    var baseURL = JSON.parse(\n",
       "        document.getElementById('jupyter-config-data').innerHTML\n",
       "    ).baseUrl.slice(0, -1);\n",
       "}\n",
       "url = baseURL + url;\n",
       "fetch(url).then(function(res) {\n",
       "    if (res.status === 404) {\n",
       "        div.innerHTML = 'Install QIIME 2 Jupyter extension with:<br />' +\n",
       "                        '<code>jupyter serverextension enable --py qiime2' +\n",
       "                        ' --sys-prefix</code><br />then restart your server.' +\n",
       "                        '<br /><br />(Interactive output not available on ' +\n",
       "                        'static notebook viewer services like nbviewer.)';\n",
       "    } else if (res.status === 409) {\n",
       "        div.innerHTML = 'Visualization no longer in scope. Re-run this cell' +\n",
       "                        ' to see the visualization.';\n",
       "    } else if (res.ok) {\n",
       "        url = res.url;\n",
       "        div.innerHTML = '<iframe src=\\'' + url + '\\' style=\\'' +\n",
       "                        'width: 100%; height: 700px; border: 0;\\'>' +\n",
       "                        '</iframe><hr />Open in a: <a href=\\'' + url + '\\'' +\n",
       "                        ' target=\\'_blank\\'>new window</a>'\n",
       "    } else {\n",
       "        div.innerHTML = 'Something has gone wrong. Check notebook server for' +\n",
       "                        ' errors.';\n",
       "    }\n",
       "});\n",
       "})(this.parentElement, '/qiime2/redirect?location=/tmp/qiime2-archive-m0hjya3e')\" src=\"data:image/gif;base64,R0lGODlhAQABAIAAAP///wAAACH5BAEAAAAALAAAAAABAAEAAAICRAEAOw==\" /></div>"
      ],
      "text/plain": [
       "<visualization: Visualization uuid: 27f8ff6c-4556-4e63-bcbb-ebfdb367661b>"
      ]
     },
     "execution_count": 9,
     "metadata": {},
     "output_type": "execute_result"
    }
   ],
   "source": [
    "Visualization.load(f'{data_dir}/ANCOM_results/ancom_NUT_prepared_meals_frequency.qzv')"
   ]
  },
  {
   "cell_type": "markdown",
   "id": "43b6023b-1fd0-4037-a6dc-0e3b600aeecd",
   "metadata": {},
   "source": [
    "differential ASV's:\n",
    "\n",
    "ed8746a919274371bea412882a1c6bb5"
   ]
  },
  {
   "cell_type": "markdown",
   "id": "c39e2aa8-35ad-4c05-a14a-e4e4f9436455",
   "metadata": {},
   "source": [
    "### Check for differntial abundance in NUT_salted_snacks_frequency"
   ]
  },
  {
   "cell_type": "code",
   "execution_count": 38,
   "id": "c17c2dfa-a1d3-4352-bca0-f7fdb2bfe942",
   "metadata": {},
   "outputs": [
    {
     "name": "stdout",
     "output_type": "stream",
     "text": [
      "\u001b[32mSaved Visualization to: project_data/ANCOM_results/ancom_NUT_salted_snacks_frequency.qzv\u001b[0m\n",
      "\u001b[0m"
     ]
    }
   ],
   "source": [
    "! qiime composition ancom \\\n",
    "    --i-table $data_dir/pseud_table_abund.qza \\\n",
    "    --m-metadata-file $data_dir/sample_metadata.tsv \\\n",
    "    --m-metadata-column NUT_salted_snacks_frequency \\\n",
    "    --p-transform-function log \\\n",
    "    --o-visualization $data_dir/ANCOM_results/ancom_NUT_salted_snacks_frequency.qzv"
   ]
  },
  {
   "cell_type": "code",
   "execution_count": 10,
   "id": "389132cc-66b4-47cf-ba94-038eca520371",
   "metadata": {
    "collapsed": true,
    "jupyter": {
     "outputs_hidden": true
    },
    "tags": []
   },
   "outputs": [
    {
     "data": {
      "text/html": [
       "<div><img onload=\"(function(div, url){\n",
       "if (typeof require !== 'undefined') {\n",
       "    var baseURL = require.toUrl('').split('/').slice(0, -2).join('/');\n",
       "} else {\n",
       "    var baseURL = JSON.parse(\n",
       "        document.getElementById('jupyter-config-data').innerHTML\n",
       "    ).baseUrl.slice(0, -1);\n",
       "}\n",
       "url = baseURL + url;\n",
       "fetch(url).then(function(res) {\n",
       "    if (res.status === 404) {\n",
       "        div.innerHTML = 'Install QIIME 2 Jupyter extension with:<br />' +\n",
       "                        '<code>jupyter serverextension enable --py qiime2' +\n",
       "                        ' --sys-prefix</code><br />then restart your server.' +\n",
       "                        '<br /><br />(Interactive output not available on ' +\n",
       "                        'static notebook viewer services like nbviewer.)';\n",
       "    } else if (res.status === 409) {\n",
       "        div.innerHTML = 'Visualization no longer in scope. Re-run this cell' +\n",
       "                        ' to see the visualization.';\n",
       "    } else if (res.ok) {\n",
       "        url = res.url;\n",
       "        div.innerHTML = '<iframe src=\\'' + url + '\\' style=\\'' +\n",
       "                        'width: 100%; height: 700px; border: 0;\\'>' +\n",
       "                        '</iframe><hr />Open in a: <a href=\\'' + url + '\\'' +\n",
       "                        ' target=\\'_blank\\'>new window</a>'\n",
       "    } else {\n",
       "        div.innerHTML = 'Something has gone wrong. Check notebook server for' +\n",
       "                        ' errors.';\n",
       "    }\n",
       "});\n",
       "})(this.parentElement, '/qiime2/redirect?location=/tmp/qiime2-archive-hovp21oa')\" src=\"data:image/gif;base64,R0lGODlhAQABAIAAAP///wAAACH5BAEAAAAALAAAAAABAAEAAAICRAEAOw==\" /></div>"
      ],
      "text/plain": [
       "<visualization: Visualization uuid: d70a59e5-6c7f-4c64-8c9b-2e52d6ccfb2c>"
      ]
     },
     "execution_count": 10,
     "metadata": {},
     "output_type": "execute_result"
    }
   ],
   "source": [
    "Visualization.load(f'{data_dir}/ANCOM_results/ancom_NUT_salted_snacks_frequency.qzv')"
   ]
  },
  {
   "cell_type": "markdown",
   "id": "983f0981-38e3-4b3e-9a48-e38e289bb96d",
   "metadata": {},
   "source": [
    "differential ASV's:\n",
    "\n",
    "ed8746a919274371bea412882a1c6bb5"
   ]
  },
  {
   "cell_type": "markdown",
   "id": "eae46cf0-d12b-4049-b3a7-03ac5ba16048",
   "metadata": {},
   "source": [
    "### Check for differntial abundance in NUT_vegetable_frequency"
   ]
  },
  {
   "cell_type": "code",
   "execution_count": 40,
   "id": "bef04e98-645b-4c89-b788-2a1da95cf70f",
   "metadata": {},
   "outputs": [
    {
     "name": "stdout",
     "output_type": "stream",
     "text": [
      "\u001b[32mSaved Visualization to: project_data/ANCOM_results/ancom_NUT_vegetable_frequency.qzv\u001b[0m\n",
      "\u001b[0m"
     ]
    }
   ],
   "source": [
    "! qiime composition ancom \\\n",
    "    --i-table $data_dir/pseud_table_abund.qza \\\n",
    "    --m-metadata-file $data_dir/sample_metadata.tsv \\\n",
    "    --m-metadata-column NUT_vegetable_frequency \\\n",
    "    --p-transform-function log \\\n",
    "    --o-visualization $data_dir/ANCOM_results/ancom_NUT_vegetable_frequency.qzv"
   ]
  },
  {
   "cell_type": "code",
   "execution_count": 13,
   "id": "984bf7f6-417a-4ccf-9025-48e599b15c18",
   "metadata": {
    "collapsed": true,
    "jupyter": {
     "outputs_hidden": true
    },
    "tags": []
   },
   "outputs": [
    {
     "data": {
      "text/html": [
       "<div><img onload=\"(function(div, url){\n",
       "if (typeof require !== 'undefined') {\n",
       "    var baseURL = require.toUrl('').split('/').slice(0, -2).join('/');\n",
       "} else {\n",
       "    var baseURL = JSON.parse(\n",
       "        document.getElementById('jupyter-config-data').innerHTML\n",
       "    ).baseUrl.slice(0, -1);\n",
       "}\n",
       "url = baseURL + url;\n",
       "fetch(url).then(function(res) {\n",
       "    if (res.status === 404) {\n",
       "        div.innerHTML = 'Install QIIME 2 Jupyter extension with:<br />' +\n",
       "                        '<code>jupyter serverextension enable --py qiime2' +\n",
       "                        ' --sys-prefix</code><br />then restart your server.' +\n",
       "                        '<br /><br />(Interactive output not available on ' +\n",
       "                        'static notebook viewer services like nbviewer.)';\n",
       "    } else if (res.status === 409) {\n",
       "        div.innerHTML = 'Visualization no longer in scope. Re-run this cell' +\n",
       "                        ' to see the visualization.';\n",
       "    } else if (res.ok) {\n",
       "        url = res.url;\n",
       "        div.innerHTML = '<iframe src=\\'' + url + '\\' style=\\'' +\n",
       "                        'width: 100%; height: 700px; border: 0;\\'>' +\n",
       "                        '</iframe><hr />Open in a: <a href=\\'' + url + '\\'' +\n",
       "                        ' target=\\'_blank\\'>new window</a>'\n",
       "    } else {\n",
       "        div.innerHTML = 'Something has gone wrong. Check notebook server for' +\n",
       "                        ' errors.';\n",
       "    }\n",
       "});\n",
       "})(this.parentElement, '/qiime2/redirect?location=/tmp/qiime2-archive-hhfiu3b0')\" src=\"data:image/gif;base64,R0lGODlhAQABAIAAAP///wAAACH5BAEAAAAALAAAAAABAAEAAAICRAEAOw==\" /></div>"
      ],
      "text/plain": [
       "<visualization: Visualization uuid: 1f31d82d-0671-4ab1-9636-13b5f6996dfd>"
      ]
     },
     "execution_count": 13,
     "metadata": {},
     "output_type": "execute_result"
    }
   ],
   "source": [
    "Visualization.load(f'{data_dir}/ANCOM_results/ancom_NUT_vegetable_frequency.qzv')"
   ]
  },
  {
   "cell_type": "markdown",
   "id": "93a69ffc-cfc2-41f8-8cc2-15bb84fb3d01",
   "metadata": {},
   "source": [
    "differential ASV's:\n",
    "\n",
    "c66ec67719e54d2cb0afc3154b3c23af --> k__Bacteria; p__Firmicutes; c__Clostridia; o__Clostridiales; f__; g__; s__ --> Conf: 0.9998984336568779\n",
    "\n",
    "96cf4779be686036f92ee15e58b72d52 --> k__Bacteria; p__Firmicutes; c__Clostridia; o__Clostridiales; f__Veillonellaceae; g__Phascolarctobacterium; s__ --> Conf: 0.9999997694577"
   ]
  },
  {
   "cell_type": "markdown",
   "id": "f8d92c17-ddbc-4a1a-b690-26afb1312049",
   "metadata": {},
   "source": [
    "# Check for differential abundance in significant variables in beta diversity"
   ]
  },
  {
   "cell_type": "markdown",
   "id": "eae4fb50-16bf-4688-9634-6d38b793b3fd",
   "metadata": {},
   "source": [
    "### Check for differntial abundance in NUT_lowgrain_diet_type"
   ]
  },
  {
   "cell_type": "code",
   "execution_count": 4,
   "id": "ff39f420-86eb-42f1-8d61-bbf333db7458",
   "metadata": {},
   "outputs": [
    {
     "name": "stdout",
     "output_type": "stream",
     "text": [
      "\u001b[32mSaved Visualization to: project_data/ANCOM_results/ancom_NUT_lowgrain_diet_type.qzv\u001b[0m\n",
      "\u001b[0m"
     ]
    }
   ],
   "source": [
    "! qiime composition ancom \\\n",
    "    --i-table $data_dir/pseud_table_abund.qza \\\n",
    "    --m-metadata-file $data_dir/sample_metadata.tsv \\\n",
    "    --m-metadata-column NUT_lowgrain_diet_type \\\n",
    "    --p-transform-function log \\\n",
    "    --o-visualization $data_dir/ANCOM_results/ancom_NUT_lowgrain_diet_type.qzv"
   ]
  },
  {
   "cell_type": "code",
   "execution_count": 5,
   "id": "e9b56817-6fa9-4dd2-9e15-cf37f96dbcd3",
   "metadata": {},
   "outputs": [
    {
     "data": {
      "text/html": [
       "<div><img onload=\"(function(div, url){\n",
       "if (typeof require !== 'undefined') {\n",
       "    var baseURL = require.toUrl('').split('/').slice(0, -2).join('/');\n",
       "} else {\n",
       "    var baseURL = JSON.parse(\n",
       "        document.getElementById('jupyter-config-data').innerHTML\n",
       "    ).baseUrl.slice(0, -1);\n",
       "}\n",
       "url = baseURL + url;\n",
       "fetch(url).then(function(res) {\n",
       "    if (res.status === 404) {\n",
       "        div.innerHTML = 'Install QIIME 2 Jupyter extension with:<br />' +\n",
       "                        '<code>jupyter serverextension enable --py qiime2' +\n",
       "                        ' --sys-prefix</code><br />then restart your server.' +\n",
       "                        '<br /><br />(Interactive output not available on ' +\n",
       "                        'static notebook viewer services like nbviewer.)';\n",
       "    } else if (res.status === 409) {\n",
       "        div.innerHTML = 'Visualization no longer in scope. Re-run this cell' +\n",
       "                        ' to see the visualization.';\n",
       "    } else if (res.ok) {\n",
       "        url = res.url;\n",
       "        div.innerHTML = '<iframe src=\\'' + url + '\\' style=\\'' +\n",
       "                        'width: 100%; height: 700px; border: 0;\\'>' +\n",
       "                        '</iframe><hr />Open in a: <a href=\\'' + url + '\\'' +\n",
       "                        ' target=\\'_blank\\'>new window</a>'\n",
       "    } else {\n",
       "        div.innerHTML = 'Something has gone wrong. Check notebook server for' +\n",
       "                        ' errors.';\n",
       "    }\n",
       "});\n",
       "})(this.parentElement, '/qiime2/redirect?location=/tmp/qiime2-archive-4pnktzjf')\" src=\"data:image/gif;base64,R0lGODlhAQABAIAAAP///wAAACH5BAEAAAAALAAAAAABAAEAAAICRAEAOw==\" /></div>"
      ],
      "text/plain": [
       "<visualization: Visualization uuid: dd6aca2a-3b4e-4017-9945-c8615fe398a9>"
      ]
     },
     "execution_count": 5,
     "metadata": {},
     "output_type": "execute_result"
    }
   ],
   "source": [
    "Visualization.load(f'{data_dir}/ANCOM_results/ancom_NUT_lowgrain_diet_type.qzv')"
   ]
  },
  {
   "cell_type": "markdown",
   "id": "aa95d3eb-53cc-4faa-9d80-e6b7edb2d40c",
   "metadata": {},
   "source": [
    "Differental ASV: 5a6c87d6a4eb5e114959f6192f29b641 most abundant in False"
   ]
  },
  {
   "cell_type": "markdown",
   "id": "ef6375ba-e9b4-4048-9378-3c6341eaf56a",
   "metadata": {
    "tags": []
   },
   "source": [
    "### Check for differntial abundance in NUT_probiotic_frequency"
   ]
  },
  {
   "cell_type": "code",
   "execution_count": 6,
   "id": "7ca42b55-7967-4ffc-b249-5dd51f74b8be",
   "metadata": {},
   "outputs": [
    {
     "name": "stdout",
     "output_type": "stream",
     "text": [
      "\u001b[32mSaved Visualization to: project_data/ANCOM_results/ancom_NUT_probiotic_frequency.qzv\u001b[0m\n",
      "\u001b[0m"
     ]
    }
   ],
   "source": [
    "! qiime composition ancom \\\n",
    "    --i-table $data_dir/pseud_table_abund.qza \\\n",
    "    --m-metadata-file $data_dir/sample_metadata.tsv \\\n",
    "    --m-metadata-column NUT_probiotic_frequency \\\n",
    "    --p-transform-function log \\\n",
    "    --o-visualization $data_dir/ANCOM_results/ancom_NUT_probiotic_frequency.qzv"
   ]
  },
  {
   "cell_type": "code",
   "execution_count": 7,
   "id": "6d097267-96b7-41c3-86c7-ce4782055ee1",
   "metadata": {
    "jupyter": {
     "source_hidden": true
    },
    "tags": []
   },
   "outputs": [
    {
     "data": {
      "text/html": [
       "<div><img onload=\"(function(div, url){\n",
       "if (typeof require !== 'undefined') {\n",
       "    var baseURL = require.toUrl('').split('/').slice(0, -2).join('/');\n",
       "} else {\n",
       "    var baseURL = JSON.parse(\n",
       "        document.getElementById('jupyter-config-data').innerHTML\n",
       "    ).baseUrl.slice(0, -1);\n",
       "}\n",
       "url = baseURL + url;\n",
       "fetch(url).then(function(res) {\n",
       "    if (res.status === 404) {\n",
       "        div.innerHTML = 'Install QIIME 2 Jupyter extension with:<br />' +\n",
       "                        '<code>jupyter serverextension enable --py qiime2' +\n",
       "                        ' --sys-prefix</code><br />then restart your server.' +\n",
       "                        '<br /><br />(Interactive output not available on ' +\n",
       "                        'static notebook viewer services like nbviewer.)';\n",
       "    } else if (res.status === 409) {\n",
       "        div.innerHTML = 'Visualization no longer in scope. Re-run this cell' +\n",
       "                        ' to see the visualization.';\n",
       "    } else if (res.ok) {\n",
       "        url = res.url;\n",
       "        div.innerHTML = '<iframe src=\\'' + url + '\\' style=\\'' +\n",
       "                        'width: 100%; height: 700px; border: 0;\\'>' +\n",
       "                        '</iframe><hr />Open in a: <a href=\\'' + url + '\\'' +\n",
       "                        ' target=\\'_blank\\'>new window</a>'\n",
       "    } else {\n",
       "        div.innerHTML = 'Something has gone wrong. Check notebook server for' +\n",
       "                        ' errors.';\n",
       "    }\n",
       "});\n",
       "})(this.parentElement, '/qiime2/redirect?location=/tmp/qiime2-archive-dsqftcpa')\" src=\"data:image/gif;base64,R0lGODlhAQABAIAAAP///wAAACH5BAEAAAAALAAAAAABAAEAAAICRAEAOw==\" /></div>"
      ],
      "text/plain": [
       "<visualization: Visualization uuid: b87368b3-aaa1-400c-8179-1cadb4500989>"
      ]
     },
     "execution_count": 7,
     "metadata": {},
     "output_type": "execute_result"
    }
   ],
   "source": [
    "Visualization.load(f'{data_dir}/ANCOM_results/ancom_NUT_probiotic_frequency.qzv')"
   ]
  },
  {
   "cell_type": "markdown",
   "id": "6ffbe8b1-9d04-4ba0-8fd8-d3263629754e",
   "metadata": {},
   "source": [
    "# Taxonomy"
   ]
  },
  {
   "cell_type": "markdown",
   "id": "46d08739-459a-4f47-b3b4-e20c99d42aaf",
   "metadata": {},
   "source": [
    "Differerential ASV: 6420671c26eef32065e0275c8cd6701e most abundant in never"
   ]
  },
  {
   "cell_type": "markdown",
   "id": "ea0c7dde-0007-4b4a-b832-a29319cf3267",
   "metadata": {},
   "source": [
    "### indentify taxonomy of differential ASV's"
   ]
  },
  {
   "cell_type": "code",
   "execution_count": 3,
   "id": "9b1e4a21-e059-4243-82ae-343350e95abe",
   "metadata": {},
   "outputs": [
    {
     "name": "stdout",
     "output_type": "stream",
     "text": [
      "\u001b[32mSaved Visualization to: project_data/taxonomy_1.qzv\u001b[0m\n",
      "\u001b[0m"
     ]
    }
   ],
   "source": [
    "! qiime metadata tabulate \\\n",
    "    --m-input-file $data_dir/taxonomy_1.qza \\\n",
    "    --o-visualization $data_dir/taxonomy_1.qzv"
   ]
  },
  {
   "cell_type": "code",
   "execution_count": 4,
   "id": "e57d6c65-3ab2-495d-ace7-4930c54980c8",
   "metadata": {
    "collapsed": true,
    "jupyter": {
     "outputs_hidden": true
    },
    "tags": []
   },
   "outputs": [
    {
     "data": {
      "text/html": [
       "<div><img onload=\"(function(div, url){\n",
       "if (typeof require !== 'undefined') {\n",
       "    var baseURL = require.toUrl('').split('/').slice(0, -2).join('/');\n",
       "} else {\n",
       "    var baseURL = JSON.parse(\n",
       "        document.getElementById('jupyter-config-data').innerHTML\n",
       "    ).baseUrl.slice(0, -1);\n",
       "}\n",
       "url = baseURL + url;\n",
       "fetch(url).then(function(res) {\n",
       "    if (res.status === 404) {\n",
       "        div.innerHTML = 'Install QIIME 2 Jupyter extension with:<br />' +\n",
       "                        '<code>jupyter serverextension enable --py qiime2' +\n",
       "                        ' --sys-prefix</code><br />then restart your server.' +\n",
       "                        '<br /><br />(Interactive output not available on ' +\n",
       "                        'static notebook viewer services like nbviewer.)';\n",
       "    } else if (res.status === 409) {\n",
       "        div.innerHTML = 'Visualization no longer in scope. Re-run this cell' +\n",
       "                        ' to see the visualization.';\n",
       "    } else if (res.ok) {\n",
       "        url = res.url;\n",
       "        div.innerHTML = '<iframe src=\\'' + url + '\\' style=\\'' +\n",
       "                        'width: 100%; height: 700px; border: 0;\\'>' +\n",
       "                        '</iframe><hr />Open in a: <a href=\\'' + url + '\\'' +\n",
       "                        ' target=\\'_blank\\'>new window</a>'\n",
       "    } else {\n",
       "        div.innerHTML = 'Something has gone wrong. Check notebook server for' +\n",
       "                        ' errors.';\n",
       "    }\n",
       "});\n",
       "})(this.parentElement, '/qiime2/redirect?location=/tmp/qiime2-archive-kp7kxwhn')\" src=\"data:image/gif;base64,R0lGODlhAQABAIAAAP///wAAACH5BAEAAAAALAAAAAABAAEAAAICRAEAOw==\" /></div>"
      ],
      "text/plain": [
       "<visualization: Visualization uuid: 007e6139-4228-446d-9d21-9f28b15f9e8d>"
      ]
     },
     "execution_count": 4,
     "metadata": {},
     "output_type": "execute_result"
    }
   ],
   "source": [
    "Visualization.load(f'{data_dir}/taxonomy_1.qzv')"
   ]
  },
  {
   "cell_type": "markdown",
   "id": "b1c611b9-3548-4e39-8a56-e17bf34c942e",
   "metadata": {},
   "source": [
    "# Check for differential abundance in different diet types"
   ]
  },
  {
   "cell_type": "markdown",
   "id": "072abe33-7634-49de-a4d8-30e4b67039a3",
   "metadata": {},
   "source": [
    "## Milk Products"
   ]
  },
  {
   "cell_type": "markdown",
   "id": "2ec22b87-24e6-4104-bdce-abe607c6e4da",
   "metadata": {
    "tags": []
   },
   "source": [
    "### Check for differntial abundance in NUT_milk_cheese_frequency"
   ]
  },
  {
   "cell_type": "code",
   "execution_count": 7,
   "id": "c5072333-9072-4a2b-8388-d8bd93419f79",
   "metadata": {},
   "outputs": [
    {
     "name": "stdout",
     "output_type": "stream",
     "text": [
      "\u001b[32mSaved Visualization to: project_data/ANCOM_results/ancom_NUT_milk_cheese_frequency.qzv\u001b[0m\n",
      "\u001b[0m"
     ]
    }
   ],
   "source": [
    "! qiime composition ancom \\\n",
    "    --i-table $data_dir/pseud_table_abund.qza \\\n",
    "    --m-metadata-file $data_dir/sample_metadata.tsv \\\n",
    "    --m-metadata-column NUT_milk_cheese_frequency \\\n",
    "    --p-transform-function log \\\n",
    "    --o-visualization $data_dir/ANCOM_results/ancom_NUT_milk_cheese_frequency.qzv"
   ]
  },
  {
   "cell_type": "code",
   "execution_count": 8,
   "id": "2052cef2-a48d-4556-8a2b-2d809ec27eab",
   "metadata": {
    "collapsed": true,
    "jupyter": {
     "outputs_hidden": true
    },
    "tags": []
   },
   "outputs": [
    {
     "data": {
      "text/html": [
       "<div><img onload=\"(function(div, url){\n",
       "if (typeof require !== 'undefined') {\n",
       "    var baseURL = require.toUrl('').split('/').slice(0, -2).join('/');\n",
       "} else {\n",
       "    var baseURL = JSON.parse(\n",
       "        document.getElementById('jupyter-config-data').innerHTML\n",
       "    ).baseUrl.slice(0, -1);\n",
       "}\n",
       "url = baseURL + url;\n",
       "fetch(url).then(function(res) {\n",
       "    if (res.status === 404) {\n",
       "        div.innerHTML = 'Install QIIME 2 Jupyter extension with:<br />' +\n",
       "                        '<code>jupyter serverextension enable --py qiime2' +\n",
       "                        ' --sys-prefix</code><br />then restart your server.' +\n",
       "                        '<br /><br />(Interactive output not available on ' +\n",
       "                        'static notebook viewer services like nbviewer.)';\n",
       "    } else if (res.status === 409) {\n",
       "        div.innerHTML = 'Visualization no longer in scope. Re-run this cell' +\n",
       "                        ' to see the visualization.';\n",
       "    } else if (res.ok) {\n",
       "        url = res.url;\n",
       "        div.innerHTML = '<iframe src=\\'' + url + '\\' style=\\'' +\n",
       "                        'width: 100%; height: 700px; border: 0;\\'>' +\n",
       "                        '</iframe><hr />Open in a: <a href=\\'' + url + '\\'' +\n",
       "                        ' target=\\'_blank\\'>new window</a>'\n",
       "    } else {\n",
       "        div.innerHTML = 'Something has gone wrong. Check notebook server for' +\n",
       "                        ' errors.';\n",
       "    }\n",
       "});\n",
       "})(this.parentElement, '/qiime2/redirect?location=/tmp/qiime2-archive-srqrbjb_')\" src=\"data:image/gif;base64,R0lGODlhAQABAIAAAP///wAAACH5BAEAAAAALAAAAAABAAEAAAICRAEAOw==\" /></div>"
      ],
      "text/plain": [
       "<visualization: Visualization uuid: 34a0af94-e3b3-4ef6-9f21-42b3fa5ef6f8>"
      ]
     },
     "execution_count": 8,
     "metadata": {},
     "output_type": "execute_result"
    }
   ],
   "source": [
    "Visualization.load(f'{data_dir}/ANCOM_results/ancom_NUT_milk_cheese_frequency.qzv')"
   ]
  },
  {
   "cell_type": "markdown",
   "id": "5dd2220c-83d5-44c1-9d44-964d819ec47c",
   "metadata": {
    "tags": []
   },
   "source": [
    "### Check for differntial abundance inNUT_milk_substitute_frequency"
   ]
  },
  {
   "cell_type": "code",
   "execution_count": 9,
   "id": "fa99f5a5-87fb-4b93-accd-920f13d2d3cd",
   "metadata": {},
   "outputs": [
    {
     "name": "stdout",
     "output_type": "stream",
     "text": [
      "\u001b[32mSaved Visualization to: project_data/ANCOM_results/ancom_NUT_milk_substitute_frequency.qzv\u001b[0m\n",
      "\u001b[0m"
     ]
    }
   ],
   "source": [
    "! qiime composition ancom \\\n",
    "    --i-table $data_dir/pseud_table_abund.qza \\\n",
    "    --m-metadata-file $data_dir/sample_metadata.tsv \\\n",
    "    --m-metadata-column NUT_milk_substitute_frequency \\\n",
    "    --p-transform-function log \\\n",
    "    --o-visualization $data_dir/ANCOM_results/ancom_NUT_milk_substitute_frequency.qzv"
   ]
  },
  {
   "cell_type": "code",
   "execution_count": 10,
   "id": "c264d37e-ed1c-410c-aab6-7eab5ec5f2d2",
   "metadata": {
    "collapsed": true,
    "jupyter": {
     "outputs_hidden": true
    },
    "tags": []
   },
   "outputs": [
    {
     "data": {
      "text/html": [
       "<div><img onload=\"(function(div, url){\n",
       "if (typeof require !== 'undefined') {\n",
       "    var baseURL = require.toUrl('').split('/').slice(0, -2).join('/');\n",
       "} else {\n",
       "    var baseURL = JSON.parse(\n",
       "        document.getElementById('jupyter-config-data').innerHTML\n",
       "    ).baseUrl.slice(0, -1);\n",
       "}\n",
       "url = baseURL + url;\n",
       "fetch(url).then(function(res) {\n",
       "    if (res.status === 404) {\n",
       "        div.innerHTML = 'Install QIIME 2 Jupyter extension with:<br />' +\n",
       "                        '<code>jupyter serverextension enable --py qiime2' +\n",
       "                        ' --sys-prefix</code><br />then restart your server.' +\n",
       "                        '<br /><br />(Interactive output not available on ' +\n",
       "                        'static notebook viewer services like nbviewer.)';\n",
       "    } else if (res.status === 409) {\n",
       "        div.innerHTML = 'Visualization no longer in scope. Re-run this cell' +\n",
       "                        ' to see the visualization.';\n",
       "    } else if (res.ok) {\n",
       "        url = res.url;\n",
       "        div.innerHTML = '<iframe src=\\'' + url + '\\' style=\\'' +\n",
       "                        'width: 100%; height: 700px; border: 0;\\'>' +\n",
       "                        '</iframe><hr />Open in a: <a href=\\'' + url + '\\'' +\n",
       "                        ' target=\\'_blank\\'>new window</a>'\n",
       "    } else {\n",
       "        div.innerHTML = 'Something has gone wrong. Check notebook server for' +\n",
       "                        ' errors.';\n",
       "    }\n",
       "});\n",
       "})(this.parentElement, '/qiime2/redirect?location=/tmp/qiime2-archive-1tywkjb8')\" src=\"data:image/gif;base64,R0lGODlhAQABAIAAAP///wAAACH5BAEAAAAALAAAAAABAAEAAAICRAEAOw==\" /></div>"
      ],
      "text/plain": [
       "<visualization: Visualization uuid: cd0b797c-3b3f-4e48-b4e4-6506ed1c3cc6>"
      ]
     },
     "execution_count": 10,
     "metadata": {},
     "output_type": "execute_result"
    }
   ],
   "source": [
    "Visualization.load(f'{data_dir}/ANCOM_results/ancom_NUT_milk_substitute_frequency.qzv')"
   ]
  },
  {
   "cell_type": "markdown",
   "id": "dccc11ae-b06f-4fc4-ab7d-a5997702cc59",
   "metadata": {
    "tags": []
   },
   "source": [
    "### Check for differntial abundance in NUT_vitamin_d_supplement_frequency"
   ]
  },
  {
   "cell_type": "code",
   "execution_count": 11,
   "id": "689190cf-42c9-4ce7-83ea-6cb0f1ca881e",
   "metadata": {},
   "outputs": [
    {
     "name": "stdout",
     "output_type": "stream",
     "text": [
      "\u001b[32mSaved Visualization to: project_data/ANCOM_results/ancom_NUT_vitamin_d_supplement_frequency.qzv\u001b[0m\n",
      "\u001b[0m"
     ]
    }
   ],
   "source": [
    "! qiime composition ancom \\\n",
    "    --i-table $data_dir/pseud_table_abund.qza \\\n",
    "    --m-metadata-file $data_dir/sample_metadata.tsv \\\n",
    "    --m-metadata-column NUT_vitamin_d_supplement_frequency \\\n",
    "    --p-transform-function log \\\n",
    "    --o-visualization $data_dir/ANCOM_results/ancom_NUT_vitamin_d_supplement_frequency.qzv"
   ]
  },
  {
   "cell_type": "code",
   "execution_count": 12,
   "id": "ed67de11-92d5-4274-9bef-3787e03a853a",
   "metadata": {
    "collapsed": true,
    "jupyter": {
     "outputs_hidden": true
    },
    "tags": []
   },
   "outputs": [
    {
     "data": {
      "text/html": [
       "<div><img onload=\"(function(div, url){\n",
       "if (typeof require !== 'undefined') {\n",
       "    var baseURL = require.toUrl('').split('/').slice(0, -2).join('/');\n",
       "} else {\n",
       "    var baseURL = JSON.parse(\n",
       "        document.getElementById('jupyter-config-data').innerHTML\n",
       "    ).baseUrl.slice(0, -1);\n",
       "}\n",
       "url = baseURL + url;\n",
       "fetch(url).then(function(res) {\n",
       "    if (res.status === 404) {\n",
       "        div.innerHTML = 'Install QIIME 2 Jupyter extension with:<br />' +\n",
       "                        '<code>jupyter serverextension enable --py qiime2' +\n",
       "                        ' --sys-prefix</code><br />then restart your server.' +\n",
       "                        '<br /><br />(Interactive output not available on ' +\n",
       "                        'static notebook viewer services like nbviewer.)';\n",
       "    } else if (res.status === 409) {\n",
       "        div.innerHTML = 'Visualization no longer in scope. Re-run this cell' +\n",
       "                        ' to see the visualization.';\n",
       "    } else if (res.ok) {\n",
       "        url = res.url;\n",
       "        div.innerHTML = '<iframe src=\\'' + url + '\\' style=\\'' +\n",
       "                        'width: 100%; height: 700px; border: 0;\\'>' +\n",
       "                        '</iframe><hr />Open in a: <a href=\\'' + url + '\\'' +\n",
       "                        ' target=\\'_blank\\'>new window</a>'\n",
       "    } else {\n",
       "        div.innerHTML = 'Something has gone wrong. Check notebook server for' +\n",
       "                        ' errors.';\n",
       "    }\n",
       "});\n",
       "})(this.parentElement, '/qiime2/redirect?location=/tmp/qiime2-archive-_pnh8z17')\" src=\"data:image/gif;base64,R0lGODlhAQABAIAAAP///wAAACH5BAEAAAAALAAAAAABAAEAAAICRAEAOw==\" /></div>"
      ],
      "text/plain": [
       "<visualization: Visualization uuid: 76df5bf5-db35-4140-be8f-80556391113d>"
      ]
     },
     "execution_count": 12,
     "metadata": {},
     "output_type": "execute_result"
    }
   ],
   "source": [
    "Visualization.load(f'{data_dir}/ANCOM_results/ancom_NUT_vitamin_d_supplement_frequency.qzv')"
   ]
  },
  {
   "cell_type": "markdown",
   "id": "5b3313c6-d008-4520-82fa-3fc31fc5b77d",
   "metadata": {},
   "source": [
    "## Mediteranian"
   ]
  },
  {
   "cell_type": "markdown",
   "id": "08b62016-6c7b-49e5-932d-ea1fc8bd4c0d",
   "metadata": {
    "tags": []
   },
   "source": [
    "### Check for differntial abundance in NUT_whole_grain_frequency"
   ]
  },
  {
   "cell_type": "code",
   "execution_count": 13,
   "id": "92ab749f-3090-4696-ab71-423a96ca87af",
   "metadata": {},
   "outputs": [
    {
     "name": "stdout",
     "output_type": "stream",
     "text": [
      "\u001b[32mSaved Visualization to: project_data/ANCOM_results/ancom_NUT_whole_grain_frequency.qzv\u001b[0m\n",
      "\u001b[0m"
     ]
    }
   ],
   "source": [
    "! qiime composition ancom \\\n",
    "    --i-table $data_dir/pseud_table_abund.qza \\\n",
    "    --m-metadata-file $data_dir/sample_metadata.tsv \\\n",
    "    --m-metadata-column NUT_whole_grain_frequency \\\n",
    "    --p-transform-function log \\\n",
    "    --o-visualization $data_dir/ANCOM_results/ancom_NUT_whole_grain_frequency.qzv"
   ]
  },
  {
   "cell_type": "code",
   "execution_count": 14,
   "id": "751dba7a-5018-4295-95ac-ffe8bdfead2c",
   "metadata": {
    "collapsed": true,
    "jupyter": {
     "outputs_hidden": true
    },
    "tags": []
   },
   "outputs": [
    {
     "data": {
      "text/html": [
       "<div><img onload=\"(function(div, url){\n",
       "if (typeof require !== 'undefined') {\n",
       "    var baseURL = require.toUrl('').split('/').slice(0, -2).join('/');\n",
       "} else {\n",
       "    var baseURL = JSON.parse(\n",
       "        document.getElementById('jupyter-config-data').innerHTML\n",
       "    ).baseUrl.slice(0, -1);\n",
       "}\n",
       "url = baseURL + url;\n",
       "fetch(url).then(function(res) {\n",
       "    if (res.status === 404) {\n",
       "        div.innerHTML = 'Install QIIME 2 Jupyter extension with:<br />' +\n",
       "                        '<code>jupyter serverextension enable --py qiime2' +\n",
       "                        ' --sys-prefix</code><br />then restart your server.' +\n",
       "                        '<br /><br />(Interactive output not available on ' +\n",
       "                        'static notebook viewer services like nbviewer.)';\n",
       "    } else if (res.status === 409) {\n",
       "        div.innerHTML = 'Visualization no longer in scope. Re-run this cell' +\n",
       "                        ' to see the visualization.';\n",
       "    } else if (res.ok) {\n",
       "        url = res.url;\n",
       "        div.innerHTML = '<iframe src=\\'' + url + '\\' style=\\'' +\n",
       "                        'width: 100%; height: 700px; border: 0;\\'>' +\n",
       "                        '</iframe><hr />Open in a: <a href=\\'' + url + '\\'' +\n",
       "                        ' target=\\'_blank\\'>new window</a>'\n",
       "    } else {\n",
       "        div.innerHTML = 'Something has gone wrong. Check notebook server for' +\n",
       "                        ' errors.';\n",
       "    }\n",
       "});\n",
       "})(this.parentElement, '/qiime2/redirect?location=/tmp/qiime2-archive-szv84goc')\" src=\"data:image/gif;base64,R0lGODlhAQABAIAAAP///wAAACH5BAEAAAAALAAAAAABAAEAAAICRAEAOw==\" /></div>"
      ],
      "text/plain": [
       "<visualization: Visualization uuid: fd7e8cd1-e56b-4c65-8a5d-d811a4e5ad7f>"
      ]
     },
     "execution_count": 14,
     "metadata": {},
     "output_type": "execute_result"
    }
   ],
   "source": [
    "Visualization.load(f'{data_dir}/ANCOM_results/ancom_NUT_whole_grain_frequency.qzv')"
   ]
  },
  {
   "cell_type": "markdown",
   "id": "6e4f9d4f-388a-4094-b225-ddcd5ae2df9c",
   "metadata": {
    "tags": []
   },
   "source": [
    "### Check for differntial abundance in NUT_seafood_frequency"
   ]
  },
  {
   "cell_type": "code",
   "execution_count": 26,
   "id": "0720392b-b519-4f84-80ee-b51b0f3f9390",
   "metadata": {},
   "outputs": [
    {
     "name": "stdout",
     "output_type": "stream",
     "text": [
      "\u001b[32mSaved Visualization to: project_data/ANCOM_results/ancom_NUT_seafood_frequency.qzv\u001b[0m\n",
      "\u001b[0m"
     ]
    }
   ],
   "source": [
    "! qiime composition ancom \\\n",
    "    --i-table $data_dir/pseud_table_abund.qza \\\n",
    "    --m-metadata-file $data_dir/sample_metadata.tsv \\\n",
    "    --m-metadata-column NUT_seafood_frequency \\\n",
    "    --p-transform-function log \\\n",
    "    --o-visualization $data_dir/ANCOM_results/ancom_NUT_seafood_frequency.qzv"
   ]
  },
  {
   "cell_type": "code",
   "execution_count": 27,
   "id": "d0f275a3-774c-469a-8aac-412c6d111bd6",
   "metadata": {
    "collapsed": true,
    "jupyter": {
     "outputs_hidden": true
    },
    "tags": []
   },
   "outputs": [
    {
     "data": {
      "text/html": [
       "<div><img onload=\"(function(div, url){\n",
       "if (typeof require !== 'undefined') {\n",
       "    var baseURL = require.toUrl('').split('/').slice(0, -2).join('/');\n",
       "} else {\n",
       "    var baseURL = JSON.parse(\n",
       "        document.getElementById('jupyter-config-data').innerHTML\n",
       "    ).baseUrl.slice(0, -1);\n",
       "}\n",
       "url = baseURL + url;\n",
       "fetch(url).then(function(res) {\n",
       "    if (res.status === 404) {\n",
       "        div.innerHTML = 'Install QIIME 2 Jupyter extension with:<br />' +\n",
       "                        '<code>jupyter serverextension enable --py qiime2' +\n",
       "                        ' --sys-prefix</code><br />then restart your server.' +\n",
       "                        '<br /><br />(Interactive output not available on ' +\n",
       "                        'static notebook viewer services like nbviewer.)';\n",
       "    } else if (res.status === 409) {\n",
       "        div.innerHTML = 'Visualization no longer in scope. Re-run this cell' +\n",
       "                        ' to see the visualization.';\n",
       "    } else if (res.ok) {\n",
       "        url = res.url;\n",
       "        div.innerHTML = '<iframe src=\\'' + url + '\\' style=\\'' +\n",
       "                        'width: 100%; height: 700px; border: 0;\\'>' +\n",
       "                        '</iframe><hr />Open in a: <a href=\\'' + url + '\\'' +\n",
       "                        ' target=\\'_blank\\'>new window</a>'\n",
       "    } else {\n",
       "        div.innerHTML = 'Something has gone wrong. Check notebook server for' +\n",
       "                        ' errors.';\n",
       "    }\n",
       "});\n",
       "})(this.parentElement, '/qiime2/redirect?location=/tmp/qiime2-archive-zg7mxswj')\" src=\"data:image/gif;base64,R0lGODlhAQABAIAAAP///wAAACH5BAEAAAAALAAAAAABAAEAAAICRAEAOw==\" /></div>"
      ],
      "text/plain": [
       "<visualization: Visualization uuid: f4a91373-baa6-4f9c-b006-3e1b4d4363d2>"
      ]
     },
     "execution_count": 27,
     "metadata": {},
     "output_type": "execute_result"
    }
   ],
   "source": [
    "Visualization.load(f'{data_dir}/ANCOM_results/ancom_NUT_seafood_frequency.qzv')"
   ]
  },
  {
   "cell_type": "markdown",
   "id": "7002bb8b-65fd-49dc-8ead-93816a6b0285",
   "metadata": {
    "tags": []
   },
   "source": [
    "### Check for differntial abundance in fruit"
   ]
  },
  {
   "cell_type": "code",
   "execution_count": 15,
   "id": "fb7bdc59-6c0d-4b68-927f-533558c6477f",
   "metadata": {},
   "outputs": [
    {
     "name": "stdout",
     "output_type": "stream",
     "text": [
      "\u001b[32mSaved Visualization to: project_data/ANCOM_results/ancom_NUT_fruit_frequency.qzv\u001b[0m\n",
      "\u001b[0m"
     ]
    }
   ],
   "source": [
    "! qiime composition ancom \\\n",
    "    --i-table $data_dir/pseud_table_abund.qza \\\n",
    "    --m-metadata-file $data_dir/sample_metadata.tsv \\\n",
    "    --m-metadata-column NUT_fruit_frequency \\\n",
    "    --p-transform-function log \\\n",
    "    --o-visualization $data_dir/ANCOM_results/ancom_NUT_fruit_frequency.qzv"
   ]
  },
  {
   "cell_type": "code",
   "execution_count": 16,
   "id": "b7bf63ce-c0eb-4cae-bc0c-bd7c7af8c8bc",
   "metadata": {
    "collapsed": true,
    "jupyter": {
     "outputs_hidden": true
    },
    "tags": []
   },
   "outputs": [
    {
     "data": {
      "text/html": [
       "<div><img onload=\"(function(div, url){\n",
       "if (typeof require !== 'undefined') {\n",
       "    var baseURL = require.toUrl('').split('/').slice(0, -2).join('/');\n",
       "} else {\n",
       "    var baseURL = JSON.parse(\n",
       "        document.getElementById('jupyter-config-data').innerHTML\n",
       "    ).baseUrl.slice(0, -1);\n",
       "}\n",
       "url = baseURL + url;\n",
       "fetch(url).then(function(res) {\n",
       "    if (res.status === 404) {\n",
       "        div.innerHTML = 'Install QIIME 2 Jupyter extension with:<br />' +\n",
       "                        '<code>jupyter serverextension enable --py qiime2' +\n",
       "                        ' --sys-prefix</code><br />then restart your server.' +\n",
       "                        '<br /><br />(Interactive output not available on ' +\n",
       "                        'static notebook viewer services like nbviewer.)';\n",
       "    } else if (res.status === 409) {\n",
       "        div.innerHTML = 'Visualization no longer in scope. Re-run this cell' +\n",
       "                        ' to see the visualization.';\n",
       "    } else if (res.ok) {\n",
       "        url = res.url;\n",
       "        div.innerHTML = '<iframe src=\\'' + url + '\\' style=\\'' +\n",
       "                        'width: 100%; height: 700px; border: 0;\\'>' +\n",
       "                        '</iframe><hr />Open in a: <a href=\\'' + url + '\\'' +\n",
       "                        ' target=\\'_blank\\'>new window</a>'\n",
       "    } else {\n",
       "        div.innerHTML = 'Something has gone wrong. Check notebook server for' +\n",
       "                        ' errors.';\n",
       "    }\n",
       "});\n",
       "})(this.parentElement, '/qiime2/redirect?location=/tmp/qiime2-archive-uca4fcju')\" src=\"data:image/gif;base64,R0lGODlhAQABAIAAAP///wAAACH5BAEAAAAALAAAAAABAAEAAAICRAEAOw==\" /></div>"
      ],
      "text/plain": [
       "<visualization: Visualization uuid: ef31b684-03e9-48a6-8b9c-19857629e29c>"
      ]
     },
     "execution_count": 16,
     "metadata": {},
     "output_type": "execute_result"
    }
   ],
   "source": [
    "Visualization.load(f'{data_dir}/ANCOM_results/ancom_NUT_fruit_frequency.qzv')"
   ]
  },
  {
   "cell_type": "markdown",
   "id": "ee56d340-32d7-4cc0-9682-af07d89bf843",
   "metadata": {},
   "source": [
    "## Meat"
   ]
  },
  {
   "cell_type": "markdown",
   "id": "06ce9233-1527-4240-a461-93e38ae9c3fb",
   "metadata": {
    "tags": []
   },
   "source": [
    "### Check for differntial abundance in NUT_poultry_frequency"
   ]
  },
  {
   "cell_type": "code",
   "execution_count": 19,
   "id": "a13eab07-1950-4afe-93cd-3ddc9fe563bc",
   "metadata": {},
   "outputs": [
    {
     "name": "stdout",
     "output_type": "stream",
     "text": [
      "\u001b[32mSaved Visualization to: project_data/ANCOM_results/ancom_NUT_poultry_frequency.qzv\u001b[0m\n",
      "\u001b[0m"
     ]
    }
   ],
   "source": [
    "! qiime composition ancom \\\n",
    "    --i-table $data_dir/pseud_table_abund.qza \\\n",
    "    --m-metadata-file $data_dir/sample_metadata.tsv \\\n",
    "    --m-metadata-column NUT_poultry_frequency \\\n",
    "    --p-transform-function log \\\n",
    "    --o-visualization $data_dir/ANCOM_results/ancom_NUT_poultry_frequency.qzv"
   ]
  },
  {
   "cell_type": "code",
   "execution_count": 20,
   "id": "4a0ff7e5-5dd1-483a-9fc0-2798e771b4bf",
   "metadata": {
    "collapsed": true,
    "jupyter": {
     "outputs_hidden": true
    },
    "tags": []
   },
   "outputs": [
    {
     "data": {
      "text/html": [
       "<div><img onload=\"(function(div, url){\n",
       "if (typeof require !== 'undefined') {\n",
       "    var baseURL = require.toUrl('').split('/').slice(0, -2).join('/');\n",
       "} else {\n",
       "    var baseURL = JSON.parse(\n",
       "        document.getElementById('jupyter-config-data').innerHTML\n",
       "    ).baseUrl.slice(0, -1);\n",
       "}\n",
       "url = baseURL + url;\n",
       "fetch(url).then(function(res) {\n",
       "    if (res.status === 404) {\n",
       "        div.innerHTML = 'Install QIIME 2 Jupyter extension with:<br />' +\n",
       "                        '<code>jupyter serverextension enable --py qiime2' +\n",
       "                        ' --sys-prefix</code><br />then restart your server.' +\n",
       "                        '<br /><br />(Interactive output not available on ' +\n",
       "                        'static notebook viewer services like nbviewer.)';\n",
       "    } else if (res.status === 409) {\n",
       "        div.innerHTML = 'Visualization no longer in scope. Re-run this cell' +\n",
       "                        ' to see the visualization.';\n",
       "    } else if (res.ok) {\n",
       "        url = res.url;\n",
       "        div.innerHTML = '<iframe src=\\'' + url + '\\' style=\\'' +\n",
       "                        'width: 100%; height: 700px; border: 0;\\'>' +\n",
       "                        '</iframe><hr />Open in a: <a href=\\'' + url + '\\'' +\n",
       "                        ' target=\\'_blank\\'>new window</a>'\n",
       "    } else {\n",
       "        div.innerHTML = 'Something has gone wrong. Check notebook server for' +\n",
       "                        ' errors.';\n",
       "    }\n",
       "});\n",
       "})(this.parentElement, '/qiime2/redirect?location=/tmp/qiime2-archive-7j20zln8')\" src=\"data:image/gif;base64,R0lGODlhAQABAIAAAP///wAAACH5BAEAAAAALAAAAAABAAEAAAICRAEAOw==\" /></div>"
      ],
      "text/plain": [
       "<visualization: Visualization uuid: 981da2ea-f67e-41a5-9ebe-8a19949277be>"
      ]
     },
     "execution_count": 20,
     "metadata": {},
     "output_type": "execute_result"
    }
   ],
   "source": [
    "Visualization.load(f'{data_dir}/ANCOM_results/ancom_NUT_poultry_frequency.qzv')"
   ]
  },
  {
   "cell_type": "markdown",
   "id": "792650a0-b195-491f-aa3b-99cb1dd0200a",
   "metadata": {
    "tags": []
   },
   "source": [
    "### Check for differntial abundance in high fat red meat"
   ]
  },
  {
   "cell_type": "code",
   "execution_count": 17,
   "id": "e2f6df1b-a313-4774-9373-a6fb16a9923f",
   "metadata": {},
   "outputs": [
    {
     "name": "stdout",
     "output_type": "stream",
     "text": [
      "\u001b[32mSaved Visualization to: project_data/ANCOM_results/ancom_NUT_high_fat_red_meat_frequency.qzv\u001b[0m\n",
      "\u001b[0m"
     ]
    }
   ],
   "source": [
    "! qiime composition ancom \\\n",
    "    --i-table $data_dir/pseud_table_abund.qza \\\n",
    "    --m-metadata-file $data_dir/sample_metadata.tsv \\\n",
    "    --m-metadata-column NUT_high_fat_red_meat_frequency \\\n",
    "    --p-transform-function log \\\n",
    "    --o-visualization $data_dir/ANCOM_results/ancom_NUT_high_fat_red_meat_frequency.qzv"
   ]
  },
  {
   "cell_type": "code",
   "execution_count": 18,
   "id": "e6cd3adf-de47-4c89-8344-6138820234af",
   "metadata": {
    "collapsed": true,
    "jupyter": {
     "outputs_hidden": true
    },
    "tags": []
   },
   "outputs": [
    {
     "data": {
      "text/html": [
       "<div><img onload=\"(function(div, url){\n",
       "if (typeof require !== 'undefined') {\n",
       "    var baseURL = require.toUrl('').split('/').slice(0, -2).join('/');\n",
       "} else {\n",
       "    var baseURL = JSON.parse(\n",
       "        document.getElementById('jupyter-config-data').innerHTML\n",
       "    ).baseUrl.slice(0, -1);\n",
       "}\n",
       "url = baseURL + url;\n",
       "fetch(url).then(function(res) {\n",
       "    if (res.status === 404) {\n",
       "        div.innerHTML = 'Install QIIME 2 Jupyter extension with:<br />' +\n",
       "                        '<code>jupyter serverextension enable --py qiime2' +\n",
       "                        ' --sys-prefix</code><br />then restart your server.' +\n",
       "                        '<br /><br />(Interactive output not available on ' +\n",
       "                        'static notebook viewer services like nbviewer.)';\n",
       "    } else if (res.status === 409) {\n",
       "        div.innerHTML = 'Visualization no longer in scope. Re-run this cell' +\n",
       "                        ' to see the visualization.';\n",
       "    } else if (res.ok) {\n",
       "        url = res.url;\n",
       "        div.innerHTML = '<iframe src=\\'' + url + '\\' style=\\'' +\n",
       "                        'width: 100%; height: 700px; border: 0;\\'>' +\n",
       "                        '</iframe><hr />Open in a: <a href=\\'' + url + '\\'' +\n",
       "                        ' target=\\'_blank\\'>new window</a>'\n",
       "    } else {\n",
       "        div.innerHTML = 'Something has gone wrong. Check notebook server for' +\n",
       "                        ' errors.';\n",
       "    }\n",
       "});\n",
       "})(this.parentElement, '/qiime2/redirect?location=/tmp/qiime2-archive-9qfkozlf')\" src=\"data:image/gif;base64,R0lGODlhAQABAIAAAP///wAAACH5BAEAAAAALAAAAAABAAEAAAICRAEAOw==\" /></div>"
      ],
      "text/plain": [
       "<visualization: Visualization uuid: 0724e678-9231-4b50-a756-a14400b52612>"
      ]
     },
     "execution_count": 18,
     "metadata": {},
     "output_type": "execute_result"
    }
   ],
   "source": [
    "Visualization.load(f'{data_dir}/ANCOM_results/ancom_NUT_high_fat_red_meat_frequency.qzv')"
   ]
  },
  {
   "cell_type": "markdown",
   "id": "6a7cef64-def5-4bc9-a027-1bca55e1b674",
   "metadata": {
    "tags": []
   },
   "source": [
    "### Check for differntial abundance in NUT_red_meat_frequency"
   ]
  },
  {
   "cell_type": "code",
   "execution_count": 21,
   "id": "bf177447-d013-4efc-a77b-d24dc276d752",
   "metadata": {},
   "outputs": [
    {
     "name": "stdout",
     "output_type": "stream",
     "text": [
      "\u001b[32mSaved Visualization to: project_data/ANCOM_results/ancom_NUT_red_meat_frequency.qzv\u001b[0m\n",
      "\u001b[0m"
     ]
    }
   ],
   "source": [
    "! qiime composition ancom \\\n",
    "    --i-table $data_dir/pseud_table_abund.qza \\\n",
    "    --m-metadata-file $data_dir/sample_metadata.tsv \\\n",
    "    --m-metadata-column NUT_red_meat_frequency \\\n",
    "    --p-transform-function log \\\n",
    "    --o-visualization $data_dir/ANCOM_results/ancom_NUT_red_meat_frequency.qzv"
   ]
  },
  {
   "cell_type": "code",
   "execution_count": 22,
   "id": "04dba55b-cb81-481c-a6da-5653988fce12",
   "metadata": {
    "collapsed": true,
    "jupyter": {
     "outputs_hidden": true
    },
    "tags": []
   },
   "outputs": [
    {
     "data": {
      "text/html": [
       "<div><img onload=\"(function(div, url){\n",
       "if (typeof require !== 'undefined') {\n",
       "    var baseURL = require.toUrl('').split('/').slice(0, -2).join('/');\n",
       "} else {\n",
       "    var baseURL = JSON.parse(\n",
       "        document.getElementById('jupyter-config-data').innerHTML\n",
       "    ).baseUrl.slice(0, -1);\n",
       "}\n",
       "url = baseURL + url;\n",
       "fetch(url).then(function(res) {\n",
       "    if (res.status === 404) {\n",
       "        div.innerHTML = 'Install QIIME 2 Jupyter extension with:<br />' +\n",
       "                        '<code>jupyter serverextension enable --py qiime2' +\n",
       "                        ' --sys-prefix</code><br />then restart your server.' +\n",
       "                        '<br /><br />(Interactive output not available on ' +\n",
       "                        'static notebook viewer services like nbviewer.)';\n",
       "    } else if (res.status === 409) {\n",
       "        div.innerHTML = 'Visualization no longer in scope. Re-run this cell' +\n",
       "                        ' to see the visualization.';\n",
       "    } else if (res.ok) {\n",
       "        url = res.url;\n",
       "        div.innerHTML = '<iframe src=\\'' + url + '\\' style=\\'' +\n",
       "                        'width: 100%; height: 700px; border: 0;\\'>' +\n",
       "                        '</iframe><hr />Open in a: <a href=\\'' + url + '\\'' +\n",
       "                        ' target=\\'_blank\\'>new window</a>'\n",
       "    } else {\n",
       "        div.innerHTML = 'Something has gone wrong. Check notebook server for' +\n",
       "                        ' errors.';\n",
       "    }\n",
       "});\n",
       "})(this.parentElement, '/qiime2/redirect?location=/tmp/qiime2-archive-pr2jhmfe')\" src=\"data:image/gif;base64,R0lGODlhAQABAIAAAP///wAAACH5BAEAAAAALAAAAAABAAEAAAICRAEAOw==\" /></div>"
      ],
      "text/plain": [
       "<visualization: Visualization uuid: e32c2b4f-3ad5-4c69-bb70-1b5e50ad4461>"
      ]
     },
     "execution_count": 22,
     "metadata": {},
     "output_type": "execute_result"
    }
   ],
   "source": [
    "Visualization.load(f'{data_dir}/ANCOM_results/ancom_NUT_red_meat_frequency.qzv')"
   ]
  },
  {
   "cell_type": "markdown",
   "id": "e0e2e7b7-959b-409e-a74a-48e06ba151ee",
   "metadata": {
    "tags": []
   },
   "source": [
    "### Check for differntial abundance in NUT_vitamin_b_supplement_frequency"
   ]
  },
  {
   "cell_type": "code",
   "execution_count": 23,
   "id": "2551db77-7478-4254-b71a-b2e3090df5ac",
   "metadata": {},
   "outputs": [
    {
     "name": "stdout",
     "output_type": "stream",
     "text": [
      "\u001b[32mSaved Visualization to: project_data/ANCOM_results/ancom_NUT_vitamin_b_supplement_frequency.qzv\u001b[0m\n",
      "\u001b[0m"
     ]
    }
   ],
   "source": [
    "! qiime composition ancom \\\n",
    "    --i-table $data_dir/pseud_table_abund.qza \\\n",
    "    --m-metadata-file $data_dir/sample_metadata.tsv \\\n",
    "    --m-metadata-column NUT_vitamin_b_supplement_frequency \\\n",
    "    --p-transform-function log \\\n",
    "    --o-visualization $data_dir/ANCOM_results/ancom_NUT_vitamin_b_supplement_frequency.qzv"
   ]
  },
  {
   "cell_type": "code",
   "execution_count": 24,
   "id": "e22253e7-1e8d-4c13-8741-9950b59a0b43",
   "metadata": {
    "collapsed": true,
    "jupyter": {
     "outputs_hidden": true
    },
    "tags": []
   },
   "outputs": [
    {
     "data": {
      "text/html": [
       "<div><img onload=\"(function(div, url){\n",
       "if (typeof require !== 'undefined') {\n",
       "    var baseURL = require.toUrl('').split('/').slice(0, -2).join('/');\n",
       "} else {\n",
       "    var baseURL = JSON.parse(\n",
       "        document.getElementById('jupyter-config-data').innerHTML\n",
       "    ).baseUrl.slice(0, -1);\n",
       "}\n",
       "url = baseURL + url;\n",
       "fetch(url).then(function(res) {\n",
       "    if (res.status === 404) {\n",
       "        div.innerHTML = 'Install QIIME 2 Jupyter extension with:<br />' +\n",
       "                        '<code>jupyter serverextension enable --py qiime2' +\n",
       "                        ' --sys-prefix</code><br />then restart your server.' +\n",
       "                        '<br /><br />(Interactive output not available on ' +\n",
       "                        'static notebook viewer services like nbviewer.)';\n",
       "    } else if (res.status === 409) {\n",
       "        div.innerHTML = 'Visualization no longer in scope. Re-run this cell' +\n",
       "                        ' to see the visualization.';\n",
       "    } else if (res.ok) {\n",
       "        url = res.url;\n",
       "        div.innerHTML = '<iframe src=\\'' + url + '\\' style=\\'' +\n",
       "                        'width: 100%; height: 700px; border: 0;\\'>' +\n",
       "                        '</iframe><hr />Open in a: <a href=\\'' + url + '\\'' +\n",
       "                        ' target=\\'_blank\\'>new window</a>'\n",
       "    } else {\n",
       "        div.innerHTML = 'Something has gone wrong. Check notebook server for' +\n",
       "                        ' errors.';\n",
       "    }\n",
       "});\n",
       "})(this.parentElement, '/qiime2/redirect?location=/tmp/qiime2-archive-xsr6ql3a')\" src=\"data:image/gif;base64,R0lGODlhAQABAIAAAP///wAAACH5BAEAAAAALAAAAAABAAEAAAICRAEAOw==\" /></div>"
      ],
      "text/plain": [
       "<visualization: Visualization uuid: 6f2141de-b823-4c20-8edc-08f71f428267>"
      ]
     },
     "execution_count": 24,
     "metadata": {},
     "output_type": "execute_result"
    }
   ],
   "source": [
    "Visualization.load(f'{data_dir}/ANCOM_results/ancom_NUT_vitamin_b_supplement_frequency.qzv')"
   ]
  },
  {
   "cell_type": "markdown",
   "id": "bac59e8c-6d13-4f58-a1a3-b71395a6685b",
   "metadata": {
    "tags": []
   },
   "source": [
    "### Check for differntial abundance in NUT_meat_eggs_frequency"
   ]
  },
  {
   "cell_type": "code",
   "execution_count": 28,
   "id": "49c23c6a-0409-495c-87ed-e7eb468fd464",
   "metadata": {},
   "outputs": [
    {
     "name": "stdout",
     "output_type": "stream",
     "text": [
      "\u001b[32mSaved Visualization to: project_data/ANCOM_results/ancom_NUT_meat_eggs_frequency.qzv\u001b[0m\n",
      "\u001b[0m"
     ]
    }
   ],
   "source": [
    "! qiime composition ancom \\\n",
    "    --i-table $data_dir/pseud_table_abund.qza \\\n",
    "    --m-metadata-file $data_dir/sample_metadata.tsv \\\n",
    "    --m-metadata-column NUT_meat_eggs_frequency \\\n",
    "    --p-transform-function log \\\n",
    "    --o-visualization $data_dir/ANCOM_results/ancom_NUT_meat_eggs_frequency.qzv"
   ]
  },
  {
   "cell_type": "code",
   "execution_count": 29,
   "id": "8cbb1bf2-dad1-43c9-b84e-87c648c78f3b",
   "metadata": {
    "tags": []
   },
   "outputs": [
    {
     "data": {
      "text/html": [
       "<div><img onload=\"(function(div, url){\n",
       "if (typeof require !== 'undefined') {\n",
       "    var baseURL = require.toUrl('').split('/').slice(0, -2).join('/');\n",
       "} else {\n",
       "    var baseURL = JSON.parse(\n",
       "        document.getElementById('jupyter-config-data').innerHTML\n",
       "    ).baseUrl.slice(0, -1);\n",
       "}\n",
       "url = baseURL + url;\n",
       "fetch(url).then(function(res) {\n",
       "    if (res.status === 404) {\n",
       "        div.innerHTML = 'Install QIIME 2 Jupyter extension with:<br />' +\n",
       "                        '<code>jupyter serverextension enable --py qiime2' +\n",
       "                        ' --sys-prefix</code><br />then restart your server.' +\n",
       "                        '<br /><br />(Interactive output not available on ' +\n",
       "                        'static notebook viewer services like nbviewer.)';\n",
       "    } else if (res.status === 409) {\n",
       "        div.innerHTML = 'Visualization no longer in scope. Re-run this cell' +\n",
       "                        ' to see the visualization.';\n",
       "    } else if (res.ok) {\n",
       "        url = res.url;\n",
       "        div.innerHTML = '<iframe src=\\'' + url + '\\' style=\\'' +\n",
       "                        'width: 100%; height: 700px; border: 0;\\'>' +\n",
       "                        '</iframe><hr />Open in a: <a href=\\'' + url + '\\'' +\n",
       "                        ' target=\\'_blank\\'>new window</a>'\n",
       "    } else {\n",
       "        div.innerHTML = 'Something has gone wrong. Check notebook server for' +\n",
       "                        ' errors.';\n",
       "    }\n",
       "});\n",
       "})(this.parentElement, '/qiime2/redirect?location=/tmp/qiime2-archive-1aaf0a8x')\" src=\"data:image/gif;base64,R0lGODlhAQABAIAAAP///wAAACH5BAEAAAAALAAAAAABAAEAAAICRAEAOw==\" /></div>"
      ],
      "text/plain": [
       "<visualization: Visualization uuid: 9e8dfa56-7922-4d56-a1a8-06c7c9c51875>"
      ]
     },
     "execution_count": 29,
     "metadata": {},
     "output_type": "execute_result"
    }
   ],
   "source": [
    "Visualization.load(f'{data_dir}/ANCOM_results/ancom_NUT_meat_eggs_frequency.qzv')"
   ]
  },
  {
   "cell_type": "markdown",
   "id": "7b9db136-d4f1-4504-81af-48765dbc3faa",
   "metadata": {},
   "source": [
    "### Check for differntial abundance in NUT_diet_type"
   ]
  },
  {
   "cell_type": "code",
   "execution_count": 5,
   "id": "09b47964-75c0-4f4e-b66a-f09ad3e441e2",
   "metadata": {},
   "outputs": [
    {
     "name": "stdout",
     "output_type": "stream",
     "text": [
      "\u001b[32mSaved Visualization to: project_data/ANCOM_results/ancom_NUT_diet_type.qzv\u001b[0m\n",
      "\u001b[0m"
     ]
    }
   ],
   "source": [
    "! qiime composition ancom \\\n",
    "    --i-table $data_dir/pseud_table_abund.qza \\\n",
    "    --m-metadata-file $data_dir/sample_metadata.tsv \\\n",
    "    --m-metadata-column NUT_diet_type \\\n",
    "    --p-transform-function log \\\n",
    "    --o-visualization $data_dir/ANCOM_results/ancom_NUT_diet_type.qzv"
   ]
  },
  {
   "cell_type": "code",
   "execution_count": 6,
   "id": "f600d988-ae53-4733-8647-b4800f209767",
   "metadata": {
    "collapsed": true,
    "jupyter": {
     "outputs_hidden": true
    },
    "tags": []
   },
   "outputs": [
    {
     "data": {
      "text/html": [
       "<div><img onload=\"(function(div, url){\n",
       "if (typeof require !== 'undefined') {\n",
       "    var baseURL = require.toUrl('').split('/').slice(0, -2).join('/');\n",
       "} else {\n",
       "    var baseURL = JSON.parse(\n",
       "        document.getElementById('jupyter-config-data').innerHTML\n",
       "    ).baseUrl.slice(0, -1);\n",
       "}\n",
       "url = baseURL + url;\n",
       "fetch(url).then(function(res) {\n",
       "    if (res.status === 404) {\n",
       "        div.innerHTML = 'Install QIIME 2 Jupyter extension with:<br />' +\n",
       "                        '<code>jupyter serverextension enable --py qiime2' +\n",
       "                        ' --sys-prefix</code><br />then restart your server.' +\n",
       "                        '<br /><br />(Interactive output not available on ' +\n",
       "                        'static notebook viewer services like nbviewer.)';\n",
       "    } else if (res.status === 409) {\n",
       "        div.innerHTML = 'Visualization no longer in scope. Re-run this cell' +\n",
       "                        ' to see the visualization.';\n",
       "    } else if (res.ok) {\n",
       "        url = res.url;\n",
       "        div.innerHTML = '<iframe src=\\'' + url + '\\' style=\\'' +\n",
       "                        'width: 100%; height: 700px; border: 0;\\'>' +\n",
       "                        '</iframe><hr />Open in a: <a href=\\'' + url + '\\'' +\n",
       "                        ' target=\\'_blank\\'>new window</a>'\n",
       "    } else {\n",
       "        div.innerHTML = 'Something has gone wrong. Check notebook server for' +\n",
       "                        ' errors.';\n",
       "    }\n",
       "});\n",
       "})(this.parentElement, '/qiime2/redirect?location=/tmp/qiime2-archive-q13w5i8k')\" src=\"data:image/gif;base64,R0lGODlhAQABAIAAAP///wAAACH5BAEAAAAALAAAAAABAAEAAAICRAEAOw==\" /></div>"
      ],
      "text/plain": [
       "<visualization: Visualization uuid: 804e918e-db90-4a06-a95d-ebfe53d3e416>"
      ]
     },
     "execution_count": 6,
     "metadata": {},
     "output_type": "execute_result"
    }
   ],
   "source": [
    "Visualization.load(f'{data_dir}/ANCOM_results/ancom_NUT_diet_type.qzv')"
   ]
  }
 ],
 "metadata": {
  "kernelspec": {
   "display_name": "Python 3 (ipykernel)",
   "language": "python",
   "name": "python3"
  },
  "language_info": {
   "codemirror_mode": {
    "name": "ipython",
    "version": 3
   },
   "file_extension": ".py",
   "mimetype": "text/x-python",
   "name": "python",
   "nbconvert_exporter": "python",
   "pygments_lexer": "ipython3",
   "version": "3.8.13"
  }
 },
 "nbformat": 4,
 "nbformat_minor": 5
}
