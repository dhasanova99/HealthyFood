{
 "cells": [
  {
   "cell_type": "markdown",
   "id": "e550c2dd",
   "metadata": {},
   "source": [
    "# Taxonomy classification"
   ]
  },
  {
   "cell_type": "markdown",
   "id": "2c037e47",
   "metadata": {},
   "source": [
    "**Overview:**<br>\n",
    "[1. Setup](#setup)<br>\n",
    "[2. Taxonomy assignment](#tax_assignment_main)<br>\n",
    "&nbsp;&nbsp;&nbsp;&nbsp;[2.1 Taxonomy assignment](#tax_assignment)<br>\n",
    "&nbsp;&nbsp;&nbsp;&nbsp;[2.2 Taxonomy visualization](#tax_visualization)<br>"
   ]
  },
  {
   "cell_type": "markdown",
   "id": "a18e8b06",
   "metadata": {},
   "source": [
    "<a id='setup'></a>\n",
    "\n",
    "## 1. Setup"
   ]
  },
  {
   "cell_type": "code",
   "execution_count": 23,
   "id": "72951683",
   "metadata": {
    "tags": []
   },
   "outputs": [],
   "source": [
    "import os\n",
    "import pandas as pd\n",
    "from qiime2 import Visualization\n",
    "import matplotlib.pyplot as plt\n",
    "import numpy as np\n",
    "import math\n",
    "import seaborn as sns\n",
    "\n",
    "from scipy import stats\n",
    "import qiime2 as q2\n",
    "\n",
    "%matplotlib inline\n",
    "\n",
    "# location of the data and all the results produced by this notebook \n",
    "data_dir = 'project_data'\n",
    "\n",
    "if not os.path.isdir(data_dir):\n",
    "    os.makedirs(data_dir)"
   ]
  },
  {
   "cell_type": "markdown",
   "id": "21b67c44-b4d5-4df8-8b9d-05356f748176",
   "metadata": {},
   "source": [
    "Download the `FeatureData[Sequence]` from our data which was made in the FirstLook.ipynb:"
   ]
  },
  {
   "cell_type": "code",
   "execution_count": null,
   "id": "5e3fdc0c-5bb2-44c0-aa2c-8d454e3284fe",
   "metadata": {},
   "outputs": [],
   "source": [
    "! wget -nv -O $data_dir/rep-seqs.qza 'https://polybox.ethz.ch/index.php/s/MBLSUQXzglnn66u/download?path=%2F&files=Sequences_rep_set.qza'"
   ]
  },
  {
   "cell_type": "markdown",
   "id": "465796e0-7a29-4223-be66-9fbd4e7d90df",
   "metadata": {},
   "source": [
    "Download the `FeatureTable[Frequency]` containing a mapping of the dereplicated sequences to samples from our data which was made in the FirstLook.ipynb:\n",
    "\n"
   ]
  },
  {
   "cell_type": "code",
   "execution_count": null,
   "id": "38e6082c-9901-45ae-9c25-0505183feb8c",
   "metadata": {},
   "outputs": [],
   "source": [
    "! wget -nv -O $data_dir/table.qza 'https://polybox.ethz.ch/index.php/s/MBLSUQXzglnn66u/download?path=%2F&files=Feature_table.qza'"
   ]
  },
  {
   "cell_type": "code",
   "execution_count": null,
   "id": "6c71d244-4447-46d9-9f40-420f2b69f9b9",
   "metadata": {},
   "outputs": [],
   "source": [
    "#! wget -nv -O $data_dir/cleaned_sample_meta_data.tsv 'https://polybox.ethz.ch/index.php/s/MBLSUQXzglnn66u/download?path=%2F&files=cleaned_sample_meta_data.tsv'"
   ]
  },
  {
   "cell_type": "code",
   "execution_count": null,
   "id": "15d4af84-2074-4227-b9f2-7a65bfbb692d",
   "metadata": {},
   "outputs": [],
   "source": [
    "! wget -nv -O $data_dir/metadata.tsv 'https://polybox.ethz.ch/index.php/s/QqbHeUIpIR0okB8/download'"
   ]
  },
  {
   "cell_type": "markdown",
   "id": "d93d188a",
   "metadata": {},
   "source": [
    "<a id='tax_assignment_main'></a>\n",
    "\n",
    "## 2. Taxonomy assignment\n",
    "\n",
    "To classify the sequences into bacterial species, the assignment can be done with BLAST search of the sequences against a data base of known sequence. The methode used here is a machine learning classifier which is trained on a reference database to recognize the bacterial species in the samples.  \n"
   ]
  },
  {
   "cell_type": "markdown",
   "id": "01cf20b0-dc03-49e5-85f3-9e60ae96b982",
   "metadata": {},
   "source": [
    "In the following cell the classifier which we already used in class is downloaded. \n",
    "(The Greengenes database is comprised of 16S rRNA genes)"
   ]
  },
  {
   "cell_type": "code",
   "execution_count": null,
   "id": "058db38d-c6f0-4fbb-9b62-58d954b84215",
   "metadata": {},
   "outputs": [],
   "source": [
    "! wget -nv -O $data_dir/515f-806r-classifier.qza https://data.qiime2.org/2021.4/common/gg-13-8-99-515-806-nb-classifier.qza"
   ]
  },
  {
   "cell_type": "markdown",
   "id": "c5bdfea7-a461-4e0f-b8c4-425b46f3069f",
   "metadata": {},
   "source": [
    "<a id='tax_assignment'></a>\n",
    "\n",
    "### 2.1 Taxonomy assignment\n"
   ]
  },
  {
   "cell_type": "markdown",
   "id": "d1b3bba0",
   "metadata": {},
   "source": [
    "After downloading the classifier we can assign taxonomy labels to the ASVs from the project data. The `classify-sklearn` action from the `feature-classifier` plugin needs two things: \n",
    "- the classifier which was trained the previous step\n",
    "- the sequences to be classified\n",
    "\n",
    "This step will require the `FeatureData[Sequence]` artifact (containing our ASVs) that were generated beforhand.\n"
   ]
  },
  {
   "cell_type": "code",
   "execution_count": null,
   "id": "572b7633",
   "metadata": {},
   "outputs": [],
   "source": [
    "! qiime feature-classifier classify-sklearn \\\n",
    "    --i-classifier $data_dir/515f-806r-classifier.qza \\\n",
    "    --i-reads $data_dir/rep-seqs.qza \\\n",
    "    --o-classification $data_dir/taxonomy_1.qza"
   ]
  },
  {
   "cell_type": "markdown",
   "id": "1f334078",
   "metadata": {},
   "source": [
    "A new `FeatureData[Taxonomy]` artifact should be created, containing our taxonomic assignments per feature."
   ]
  },
  {
   "cell_type": "code",
   "execution_count": null,
   "id": "0d5b35e0",
   "metadata": {},
   "outputs": [],
   "source": [
    "! qiime tools peek $data_dir/taxonomy_1.qza"
   ]
  },
  {
   "cell_type": "markdown",
   "id": "17d2cc7b",
   "metadata": {},
   "source": [
    "<a id='tax_visualization'></a>\n",
    "\n",
    "### 2.4 Taxonomy visualization\n",
    "\n",
    "The composition of the project samples is in the coming section analyzed . A tabular representation of all the features labeled with their corresponding taxonomy is created:"
   ]
  },
  {
   "cell_type": "code",
   "execution_count": null,
   "id": "e884adc6",
   "metadata": {},
   "outputs": [],
   "source": [
    "! qiime metadata tabulate \\\n",
    "    --m-input-file $data_dir/taxonomy_1.qza \\\n",
    "    --o-visualization $data_dir/taxonomy_1.qzv"
   ]
  },
  {
   "cell_type": "markdown",
   "id": "34d3a945",
   "metadata": {},
   "source": [
    "In the table an ID of every ASV is asigned with its corresponding taxonomic assignment and the prediction confidence."
   ]
  },
  {
   "cell_type": "code",
   "execution_count": 10,
   "id": "b1128729",
   "metadata": {
    "tags": []
   },
   "outputs": [
    {
     "data": {
      "text/html": [
       "<div><img onload=\"(function(div, url){\n",
       "if (typeof require !== 'undefined') {\n",
       "    var baseURL = require.toUrl('').split('/').slice(0, -2).join('/');\n",
       "} else {\n",
       "    var baseURL = JSON.parse(\n",
       "        document.getElementById('jupyter-config-data').innerHTML\n",
       "    ).baseUrl.slice(0, -1);\n",
       "}\n",
       "url = baseURL + url;\n",
       "fetch(url).then(function(res) {\n",
       "    if (res.status === 404) {\n",
       "        div.innerHTML = 'Install QIIME 2 Jupyter extension with:<br />' +\n",
       "                        '<code>jupyter serverextension enable --py qiime2' +\n",
       "                        ' --sys-prefix</code><br />then restart your server.' +\n",
       "                        '<br /><br />(Interactive output not available on ' +\n",
       "                        'static notebook viewer services like nbviewer.)';\n",
       "    } else if (res.status === 409) {\n",
       "        div.innerHTML = 'Visualization no longer in scope. Re-run this cell' +\n",
       "                        ' to see the visualization.';\n",
       "    } else if (res.ok) {\n",
       "        url = res.url;\n",
       "        div.innerHTML = '<iframe src=\\'' + url + '\\' style=\\'' +\n",
       "                        'width: 100%; height: 700px; border: 0;\\'>' +\n",
       "                        '</iframe><hr />Open in a: <a href=\\'' + url + '\\'' +\n",
       "                        ' target=\\'_blank\\'>new window</a>'\n",
       "    } else {\n",
       "        div.innerHTML = 'Something has gone wrong. Check notebook server for' +\n",
       "                        ' errors.';\n",
       "    }\n",
       "});\n",
       "})(this.parentElement, '/qiime2/redirect?location=/tmp/qiime2-archive-7lme8ofd')\" src=\"data:image/gif;base64,R0lGODlhAQABAIAAAP///wAAACH5BAEAAAAALAAAAAABAAEAAAICRAEAOw==\" /></div>"
      ],
      "text/plain": [
       "<visualization: Visualization uuid: 443f1676-7952-4738-a603-96ed7e6aef7f>"
      ]
     },
     "execution_count": 10,
     "metadata": {},
     "output_type": "execute_result"
    }
   ],
   "source": [
    "Visualization.load(f'{data_dir}/taxonomy_1.qzv')"
   ]
  },
  {
   "cell_type": "code",
   "execution_count": null,
   "id": "55539c34-4fe5-4d9b-947d-7533ac3f6d56",
   "metadata": {},
   "outputs": [],
   "source": []
  },
  {
   "cell_type": "markdown",
   "id": "ffb437fe",
   "metadata": {},
   "source": [
    "The taxonomic information per feature can be combined with the information about the samples to get an idea of the taxonomic distribution of species is in the different samples. The data can be visualized in a bar plot. Each bar represents a single sample and is broken down proportionally to counts of every taxon."
   ]
  },
  {
   "cell_type": "code",
   "execution_count": null,
   "id": "c499a004",
   "metadata": {
    "tags": []
   },
   "outputs": [],
   "source": [
    "Visualization.load(f'{data_dir}/rep-seqs.qzv')"
   ]
  },
  {
   "cell_type": "code",
   "execution_count": null,
   "id": "3dd7ce00-227d-4551-9712-c2b45176c600",
   "metadata": {},
   "outputs": [],
   "source": [
    "! qiime taxa barplot \\\n",
    "    --i-table $data_dir/table.qza \\\n",
    "    --i-taxonomy $data_dir/taxonomy_1.qza \\\n",
    "    --m-metadata-file $data_dir/metadata.tsv \\\n",
    "    --o-visualization $data_dir/taxa-bar-plots.qzv"
   ]
  },
  {
   "cell_type": "code",
   "execution_count": 9,
   "id": "50dc69fe-96e6-419b-8ebe-ff1515ebdd62",
   "metadata": {
    "collapsed": true,
    "jupyter": {
     "outputs_hidden": true
    },
    "tags": []
   },
   "outputs": [
    {
     "data": {
      "text/html": [
       "<div><img onload=\"(function(div, url){\n",
       "if (typeof require !== 'undefined') {\n",
       "    var baseURL = require.toUrl('').split('/').slice(0, -2).join('/');\n",
       "} else {\n",
       "    var baseURL = JSON.parse(\n",
       "        document.getElementById('jupyter-config-data').innerHTML\n",
       "    ).baseUrl.slice(0, -1);\n",
       "}\n",
       "url = baseURL + url;\n",
       "fetch(url).then(function(res) {\n",
       "    if (res.status === 404) {\n",
       "        div.innerHTML = 'Install QIIME 2 Jupyter extension with:<br />' +\n",
       "                        '<code>jupyter serverextension enable --py qiime2' +\n",
       "                        ' --sys-prefix</code><br />then restart your server.' +\n",
       "                        '<br /><br />(Interactive output not available on ' +\n",
       "                        'static notebook viewer services like nbviewer.)';\n",
       "    } else if (res.status === 409) {\n",
       "        div.innerHTML = 'Visualization no longer in scope. Re-run this cell' +\n",
       "                        ' to see the visualization.';\n",
       "    } else if (res.ok) {\n",
       "        url = res.url;\n",
       "        div.innerHTML = '<iframe src=\\'' + url + '\\' style=\\'' +\n",
       "                        'width: 100%; height: 700px; border: 0;\\'>' +\n",
       "                        '</iframe><hr />Open in a: <a href=\\'' + url + '\\'' +\n",
       "                        ' target=\\'_blank\\'>new window</a>'\n",
       "    } else {\n",
       "        div.innerHTML = 'Something has gone wrong. Check notebook server for' +\n",
       "                        ' errors.';\n",
       "    }\n",
       "});\n",
       "})(this.parentElement, '/qiime2/redirect?location=/tmp/qiime2-archive-bn_65qes')\" src=\"data:image/gif;base64,R0lGODlhAQABAIAAAP///wAAACH5BAEAAAAALAAAAAABAAEAAAICRAEAOw==\" /></div>"
      ],
      "text/plain": [
       "<visualization: Visualization uuid: 95ab3576-640d-4240-8d4f-cefde1ae3635>"
      ]
     },
     "execution_count": 9,
     "metadata": {},
     "output_type": "execute_result"
    }
   ],
   "source": [
    "Visualization.load(f'{data_dir}/taxa-bar-plots.qzv')"
   ]
  },
  {
   "cell_type": "code",
   "execution_count": 41,
   "id": "0c1b562d-b745-4b1f-9c9c-1ab121de8911",
   "metadata": {},
   "outputs": [
    {
     "data": {
      "text/plain": [
       "Feature ID\n",
       "e77da968091341d724c9ba6100ef1bd6    0.700526\n",
       "3cdd5aad050b728ee09ba86a9f57e411    0.701296\n",
       "0add8206b1eabc1b07426b22fda10148    0.701587\n",
       "b6b61068ccc8902684b801017a0eb368    0.702097\n",
       "f663dd604f793f22ce20452b09494608    0.702593\n",
       "                                      ...   \n",
       "c2e60172ca7c7e2c7340979355f5b72e    1.000000\n",
       "85787097eb7bb567fd2468eb4d8bf935    1.000000\n",
       "3eb7d15a2507bc677303e1cf8ef8a555    1.000000\n",
       "9e3e61ab8f8501e49dfd6f9a0af91d14    1.000000\n",
       "8f6a251366404ebc907e9cb404c07ffe    1.000000\n",
       "Name: Confidence, Length: 5066, dtype: float64"
      ]
     },
     "execution_count": 41,
     "metadata": {},
     "output_type": "execute_result"
    }
   ],
   "source": [
    "taxonomy_artifact = q2.Artifact.load(f'{data_dir}/taxonomy_1.qza')\n",
    "taxonomy_df = taxonomy_artifact.view(pd.DataFrame)\n",
    "tax = taxonomy_df.sort_values(by=['Confidence'])"
   ]
  },
  {
   "cell_type": "code",
   "execution_count": 54,
   "id": "e1c1ce30-d391-4a45-afb7-5d1d494e916b",
   "metadata": {},
   "outputs": [
    {
     "data": {
      "image/png": "[encoded data removed]",
      "text/plain": [
       "<Figure size 504x360 with 1 Axes>"
      ]
     },
     "metadata": {},
     "output_type": "display_data"
    }
   ],
   "source": [
    "tax['Confidence'] = tax['Confidence'].astype(float)\n",
    "selection = tax\n",
    "\n",
    "sns.set(rc={'figure.figsize': (7, 5)}, style='white')\n",
    "with sns.plotting_context(\"notebook\", font_scale=1.3):\n",
    "    # seaborn's barplot\n",
    "    ax = sns.lineplot(x=range(0, len(tax)), y=selection['Confidence'])\n",
    "    \n",
    "    # matplotlib's customization\n",
    "    ax.set_title('Confidence of taxon assignement')\n"
   ]
  }
 ],
 "metadata": {
  "interpreter": {
   "hash": "91041748b0590ab7efbd5530941c47612a12accc8fae155050a565e1194f2150"
  },
  "kernelspec": {
   "display_name": "Python 3 (ipykernel)",
   "language": "python",
   "name": "python3"
  },
  "language_info": {
   "codemirror_mode": {
    "name": "ipython",
    "version": 3
   },
   "file_extension": ".py",
   "mimetype": "text/x-python",
   "name": "python",
   "nbconvert_exporter": "python",
   "pygments_lexer": "ipython3",
   "version": "3.8.13"
  }
 },
 "nbformat": 4,
 "nbformat_minor": 5
}
