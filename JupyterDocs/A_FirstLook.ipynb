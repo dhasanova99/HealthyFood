{
 "cells": [
  {
   "cell_type": "markdown",
   "id": "a1ae87a9-eee0-4e80-83e6-4b51bec64e28",
   "metadata": {},
   "source": [
    "# First Look at the Data"
   ]
  },
  {
   "cell_type": "markdown",
   "id": "a0585377-a046-4d89-8dea-88c4b4f57571",
   "metadata": {},
   "source": [
    "#### Notebook overview \n",
    "\n",
    "[1. Setup](#setup)<br>\n",
    "&nbsp;&nbsp;&nbsp;&nbsp;[1.1 _Data Import_](#import_data)<br>\n",
    "[2. Investigate Data](#investigate_data)<br>\n",
    "&nbsp;&nbsp;&nbsp;&nbsp;[2.1 _Generate Plots_](#generate_plots)<br>\n",
    "[3. Clean data](#clean_data)<br>\n",
    "[4. Generate Statistics](#statistics)<br>\n",
    "[Note](#note)<br>\n",
    "\n"
   ]
  },
  {
   "cell_type": "markdown",
   "id": "e9fbf438-0cea-462f-9ef8-36517565b4e0",
   "metadata": {},
   "source": [
    "<a id='setup'></a>\n",
    "## 1. Set up"
   ]
  },
  {
   "cell_type": "markdown",
   "id": "7b814f8c-e35e-413a-9bc0-7e6eca54b58a",
   "metadata": {},
   "source": [
    "The cell below will import all the packages required in the downstream analyses as well as set all the necessary variables and data paths."
   ]
  },
  {
   "cell_type": "code",
   "execution_count": 1,
   "id": "98ad2d26-cce9-45fe-b2fc-876164027345",
   "metadata": {},
   "outputs": [],
   "source": [
    "import os\n",
    "import pandas as pd\n",
    "from qiime2 import Visualization\n",
    "import matplotlib.pyplot as plt\n",
    "import numpy as np\n",
    "import seaborn as sns\n",
    "from scipy import stats\n",
    "\n",
    "import qiime2 as q2\n",
    "\n",
    "%matplotlib inline\n",
    "\n",
    "data_dir = 'project_data'\n",
    "\n",
    "if not os.path.isdir(data_dir):\n",
    "    os.makedirs(data_dir)"
   ]
  },
  {
   "cell_type": "markdown",
   "id": "888a9b07-611c-4aa1-9abc-311365c19e9f",
   "metadata": {},
   "source": [
    "<a id='import_data'></a>\n",
    "### 1.1 Import data"
   ]
  },
  {
   "cell_type": "markdown",
   "id": "a7f8e7b8-ce8e-436b-8b31-312938652845",
   "metadata": {},
   "source": [
    "#### Sample metadata:"
   ]
  },
  {
   "cell_type": "code",
   "execution_count": 2,
   "id": "6f74f19c-2906-4506-b03e-ec487acb7d8e",
   "metadata": {},
   "outputs": [
    {
     "name": "stdout",
     "output_type": "stream",
     "text": [
      "2022-12-23 10:13:11 URL:https://polybox.ethz.ch/index.php/s/QqbHeUIpIR0okB8/download [300302/300302] -> \"project_data/sample_meta_data.tsv\" [1]\n"
     ]
    }
   ],
   "source": [
    "! wget -nv -O $data_dir/sample_meta_data.tsv 'https://polybox.ethz.ch/index.php/s/QqbHeUIpIR0okB8/download'"
   ]
  },
  {
   "cell_type": "code",
   "execution_count": 3,
   "id": "45ed3d44-cdc8-461d-bd85-ca5182085993",
   "metadata": {},
   "outputs": [
    {
     "data": {
      "text/plain": [
       "(523, 57)"
      ]
     },
     "execution_count": 3,
     "metadata": {},
     "output_type": "execute_result"
    }
   ],
   "source": [
    "df_meta = pd.read_csv(f'{data_dir}/sample_meta_data.tsv', sep='\\t')\n",
    "df_meta.shape"
   ]
  },
  {
   "cell_type": "markdown",
   "id": "6272b419-3945-4cc1-afe0-0dac5a6bcb4a",
   "metadata": {},
   "source": [
    "<a id='investigate_data'></a>\n",
    "## 2. Investigate Data"
   ]
  },
  {
   "cell_type": "code",
   "execution_count": 4,
   "id": "35151536-b9aa-4357-83db-c7bace75d85a",
   "metadata": {},
   "outputs": [
    {
     "data": {
      "text/html": [
       "<div>\n",
       "<style scoped>\n",
       "    .dataframe tbody tr th:only-of-type {\n",
       "        vertical-align: middle;\n",
       "    }\n",
       "\n",
       "    .dataframe tbody tr th {\n",
       "        vertical-align: top;\n",
       "    }\n",
       "\n",
       "    .dataframe thead th {\n",
       "        text-align: right;\n",
       "    }\n",
       "</style>\n",
       "<table border=\"1\" class=\"dataframe\">\n",
       "  <thead>\n",
       "    <tr style=\"text-align: right;\">\n",
       "      <th></th>\n",
       "      <th>sampleid</th>\n",
       "      <th>GEN_age_cat</th>\n",
       "      <th>GEN_age_corrected</th>\n",
       "      <th>GEN_bmi_cat</th>\n",
       "      <th>GEN_bmi_corrected</th>\n",
       "      <th>GEN_cat</th>\n",
       "      <th>GEN_collection_timestamp</th>\n",
       "      <th>GEN_country</th>\n",
       "      <th>GEN_dog</th>\n",
       "      <th>GEN_elevation</th>\n",
       "      <th>...</th>\n",
       "      <th>NUT_probiotic_frequency</th>\n",
       "      <th>NUT_red_meat_frequency</th>\n",
       "      <th>NUT_salted_snacks_frequency</th>\n",
       "      <th>NUT_seafood_frequency</th>\n",
       "      <th>NUT_sugary_sweets_frequency</th>\n",
       "      <th>NUT_vegetable_frequency</th>\n",
       "      <th>NUT_vitamin_b_supplement_frequency</th>\n",
       "      <th>NUT_vitamin_d_supplement_frequency</th>\n",
       "      <th>NUT_whole_eggs</th>\n",
       "      <th>NUT_whole_grain_frequency</th>\n",
       "    </tr>\n",
       "  </thead>\n",
       "  <tbody>\n",
       "    <tr>\n",
       "      <th>0</th>\n",
       "      <td>10317.000046</td>\n",
       "      <td>20s</td>\n",
       "      <td>20.0</td>\n",
       "      <td>Normal</td>\n",
       "      <td>23.75</td>\n",
       "      <td>False</td>\n",
       "      <td>2016-08-25 18:30:00</td>\n",
       "      <td>USA</td>\n",
       "      <td>True</td>\n",
       "      <td>1919.3</td>\n",
       "      <td>...</td>\n",
       "      <td>Rarely</td>\n",
       "      <td>Regularly</td>\n",
       "      <td>Occasionally</td>\n",
       "      <td>Rarely</td>\n",
       "      <td>Occasionally</td>\n",
       "      <td>Occasionally</td>\n",
       "      <td>Never</td>\n",
       "      <td>Never</td>\n",
       "      <td>Daily</td>\n",
       "      <td>Daily</td>\n",
       "    </tr>\n",
       "    <tr>\n",
       "      <th>1</th>\n",
       "      <td>10317.000050</td>\n",
       "      <td>Not provided</td>\n",
       "      <td>NaN</td>\n",
       "      <td>Overweight</td>\n",
       "      <td>25.61</td>\n",
       "      <td>False</td>\n",
       "      <td>2016-07-06 09:00:00</td>\n",
       "      <td>United Kingdom</td>\n",
       "      <td>False</td>\n",
       "      <td>65.5</td>\n",
       "      <td>...</td>\n",
       "      <td>Rarely</td>\n",
       "      <td>Rarely</td>\n",
       "      <td>Regularly</td>\n",
       "      <td>Occasionally</td>\n",
       "      <td>Regularly</td>\n",
       "      <td>Regularly</td>\n",
       "      <td>Never</td>\n",
       "      <td>Never</td>\n",
       "      <td>Rarely</td>\n",
       "      <td>Occasionally</td>\n",
       "    </tr>\n",
       "    <tr>\n",
       "      <th>2</th>\n",
       "      <td>10317.000038</td>\n",
       "      <td>30s</td>\n",
       "      <td>39.0</td>\n",
       "      <td>Overweight</td>\n",
       "      <td>27.67</td>\n",
       "      <td>False</td>\n",
       "      <td>2016-06-29 09:30:00</td>\n",
       "      <td>United Kingdom</td>\n",
       "      <td>False</td>\n",
       "      <td>44.5</td>\n",
       "      <td>...</td>\n",
       "      <td>Never</td>\n",
       "      <td>Occasionally</td>\n",
       "      <td>Daily</td>\n",
       "      <td>Occasionally</td>\n",
       "      <td>Rarely</td>\n",
       "      <td>Occasionally</td>\n",
       "      <td>Never</td>\n",
       "      <td>Never</td>\n",
       "      <td>Regularly</td>\n",
       "      <td>Occasionally</td>\n",
       "    </tr>\n",
       "    <tr>\n",
       "      <th>3</th>\n",
       "      <td>10317.000047</td>\n",
       "      <td>50s</td>\n",
       "      <td>56.0</td>\n",
       "      <td>Normal</td>\n",
       "      <td>19.71</td>\n",
       "      <td>False</td>\n",
       "      <td>2016-07-12 17:30:00</td>\n",
       "      <td>Germany</td>\n",
       "      <td>False</td>\n",
       "      <td>8.7</td>\n",
       "      <td>...</td>\n",
       "      <td>Daily</td>\n",
       "      <td>Occasionally</td>\n",
       "      <td>Rarely</td>\n",
       "      <td>Not provided</td>\n",
       "      <td>Rarely</td>\n",
       "      <td>Regularly</td>\n",
       "      <td>Daily</td>\n",
       "      <td>Daily</td>\n",
       "      <td>Rarely</td>\n",
       "      <td>Regularly</td>\n",
       "    </tr>\n",
       "    <tr>\n",
       "      <th>4</th>\n",
       "      <td>10317.000046</td>\n",
       "      <td>40s</td>\n",
       "      <td>45.0</td>\n",
       "      <td>Normal</td>\n",
       "      <td>23.15</td>\n",
       "      <td>False</td>\n",
       "      <td>2016-05-24 19:00:00</td>\n",
       "      <td>United Kingdom</td>\n",
       "      <td>True</td>\n",
       "      <td>68.8</td>\n",
       "      <td>...</td>\n",
       "      <td>Regularly</td>\n",
       "      <td>Never</td>\n",
       "      <td>Never</td>\n",
       "      <td>Occasionally</td>\n",
       "      <td>Never</td>\n",
       "      <td>Daily</td>\n",
       "      <td>Rarely</td>\n",
       "      <td>Occasionally</td>\n",
       "      <td>Regularly</td>\n",
       "      <td>Daily</td>\n",
       "    </tr>\n",
       "    <tr>\n",
       "      <th>...</th>\n",
       "      <td>...</td>\n",
       "      <td>...</td>\n",
       "      <td>...</td>\n",
       "      <td>...</td>\n",
       "      <td>...</td>\n",
       "      <td>...</td>\n",
       "      <td>...</td>\n",
       "      <td>...</td>\n",
       "      <td>...</td>\n",
       "      <td>...</td>\n",
       "      <td>...</td>\n",
       "      <td>...</td>\n",
       "      <td>...</td>\n",
       "      <td>...</td>\n",
       "      <td>...</td>\n",
       "      <td>...</td>\n",
       "      <td>...</td>\n",
       "      <td>...</td>\n",
       "      <td>...</td>\n",
       "      <td>...</td>\n",
       "      <td>...</td>\n",
       "    </tr>\n",
       "    <tr>\n",
       "      <th>518</th>\n",
       "      <td>10317.000050</td>\n",
       "      <td>60s</td>\n",
       "      <td>65.0</td>\n",
       "      <td>Normal</td>\n",
       "      <td>22.48</td>\n",
       "      <td>False</td>\n",
       "      <td>2016-07-26 09:00:00</td>\n",
       "      <td>United Kingdom</td>\n",
       "      <td>False</td>\n",
       "      <td>41.4</td>\n",
       "      <td>...</td>\n",
       "      <td>Daily</td>\n",
       "      <td>Regularly</td>\n",
       "      <td>Not provided</td>\n",
       "      <td>Occasionally</td>\n",
       "      <td>Rarely</td>\n",
       "      <td>Daily</td>\n",
       "      <td>Never</td>\n",
       "      <td>Daily</td>\n",
       "      <td>Regularly</td>\n",
       "      <td>Never</td>\n",
       "    </tr>\n",
       "    <tr>\n",
       "      <th>519</th>\n",
       "      <td>10317.000046</td>\n",
       "      <td>20s</td>\n",
       "      <td>22.0</td>\n",
       "      <td>Normal</td>\n",
       "      <td>19.04</td>\n",
       "      <td>True</td>\n",
       "      <td>2016-05-17 18:45:00</td>\n",
       "      <td>Canada</td>\n",
       "      <td>True</td>\n",
       "      <td>NaN</td>\n",
       "      <td>...</td>\n",
       "      <td>Never</td>\n",
       "      <td>Never</td>\n",
       "      <td>Rarely</td>\n",
       "      <td>Never</td>\n",
       "      <td>Occasionally</td>\n",
       "      <td>Daily</td>\n",
       "      <td>Never</td>\n",
       "      <td>Never</td>\n",
       "      <td>Occasionally</td>\n",
       "      <td>Occasionally</td>\n",
       "    </tr>\n",
       "    <tr>\n",
       "      <th>520</th>\n",
       "      <td>10317.000053</td>\n",
       "      <td>60s</td>\n",
       "      <td>63.0</td>\n",
       "      <td>Normal</td>\n",
       "      <td>21.87</td>\n",
       "      <td>False</td>\n",
       "      <td>2016-08-02 20:00:00</td>\n",
       "      <td>United Kingdom</td>\n",
       "      <td>False</td>\n",
       "      <td>17.8</td>\n",
       "      <td>...</td>\n",
       "      <td>Occasionally</td>\n",
       "      <td>Occasionally</td>\n",
       "      <td>Rarely</td>\n",
       "      <td>Occasionally</td>\n",
       "      <td>Rarely</td>\n",
       "      <td>Daily</td>\n",
       "      <td>Never</td>\n",
       "      <td>Never</td>\n",
       "      <td>Occasionally</td>\n",
       "      <td>Occasionally</td>\n",
       "    </tr>\n",
       "    <tr>\n",
       "      <th>521</th>\n",
       "      <td>10317.000053</td>\n",
       "      <td>40s</td>\n",
       "      <td>49.0</td>\n",
       "      <td>Normal</td>\n",
       "      <td>18.84</td>\n",
       "      <td>False</td>\n",
       "      <td>2016-07-24 07:15:00</td>\n",
       "      <td>United Kingdom</td>\n",
       "      <td>False</td>\n",
       "      <td>69.9</td>\n",
       "      <td>...</td>\n",
       "      <td>Daily</td>\n",
       "      <td>Rarely</td>\n",
       "      <td>Never</td>\n",
       "      <td>Daily</td>\n",
       "      <td>Never</td>\n",
       "      <td>Daily</td>\n",
       "      <td>Never</td>\n",
       "      <td>Never</td>\n",
       "      <td>Daily</td>\n",
       "      <td>Never</td>\n",
       "    </tr>\n",
       "    <tr>\n",
       "      <th>522</th>\n",
       "      <td>10317.000038</td>\n",
       "      <td>60s</td>\n",
       "      <td>63.0</td>\n",
       "      <td>Obese</td>\n",
       "      <td>35.12</td>\n",
       "      <td>False</td>\n",
       "      <td>2016-05-15 13:20:00</td>\n",
       "      <td>United Kingdom</td>\n",
       "      <td>False</td>\n",
       "      <td>37.7</td>\n",
       "      <td>...</td>\n",
       "      <td>Daily</td>\n",
       "      <td>Occasionally</td>\n",
       "      <td>Regularly</td>\n",
       "      <td>Rarely</td>\n",
       "      <td>Regularly</td>\n",
       "      <td>Occasionally</td>\n",
       "      <td>Never</td>\n",
       "      <td>Daily</td>\n",
       "      <td>Rarely</td>\n",
       "      <td>Occasionally</td>\n",
       "    </tr>\n",
       "  </tbody>\n",
       "</table>\n",
       "<p>523 rows × 57 columns</p>\n",
       "</div>"
      ],
      "text/plain": [
       "         sampleid   GEN_age_cat  GEN_age_corrected GEN_bmi_cat  \\\n",
       "0    10317.000046           20s               20.0      Normal   \n",
       "1    10317.000050  Not provided                NaN  Overweight   \n",
       "2    10317.000038           30s               39.0  Overweight   \n",
       "3    10317.000047           50s               56.0      Normal   \n",
       "4    10317.000046           40s               45.0      Normal   \n",
       "..            ...           ...                ...         ...   \n",
       "518  10317.000050           60s               65.0      Normal   \n",
       "519  10317.000046           20s               22.0      Normal   \n",
       "520  10317.000053           60s               63.0      Normal   \n",
       "521  10317.000053           40s               49.0      Normal   \n",
       "522  10317.000038           60s               63.0       Obese   \n",
       "\n",
       "     GEN_bmi_corrected  GEN_cat GEN_collection_timestamp     GEN_country  \\\n",
       "0                23.75    False      2016-08-25 18:30:00             USA   \n",
       "1                25.61    False      2016-07-06 09:00:00  United Kingdom   \n",
       "2                27.67    False      2016-06-29 09:30:00  United Kingdom   \n",
       "3                19.71    False      2016-07-12 17:30:00         Germany   \n",
       "4                23.15    False      2016-05-24 19:00:00  United Kingdom   \n",
       "..                 ...      ...                      ...             ...   \n",
       "518              22.48    False      2016-07-26 09:00:00  United Kingdom   \n",
       "519              19.04     True      2016-05-17 18:45:00          Canada   \n",
       "520              21.87    False      2016-08-02 20:00:00  United Kingdom   \n",
       "521              18.84    False      2016-07-24 07:15:00  United Kingdom   \n",
       "522              35.12    False      2016-05-15 13:20:00  United Kingdom   \n",
       "\n",
       "     GEN_dog  GEN_elevation  ... NUT_probiotic_frequency  \\\n",
       "0       True         1919.3  ...                  Rarely   \n",
       "1      False           65.5  ...                  Rarely   \n",
       "2      False           44.5  ...                   Never   \n",
       "3      False            8.7  ...                   Daily   \n",
       "4       True           68.8  ...               Regularly   \n",
       "..       ...            ...  ...                     ...   \n",
       "518    False           41.4  ...                   Daily   \n",
       "519     True            NaN  ...                   Never   \n",
       "520    False           17.8  ...            Occasionally   \n",
       "521    False           69.9  ...                   Daily   \n",
       "522    False           37.7  ...                   Daily   \n",
       "\n",
       "     NUT_red_meat_frequency NUT_salted_snacks_frequency NUT_seafood_frequency  \\\n",
       "0                 Regularly                Occasionally                Rarely   \n",
       "1                    Rarely                   Regularly          Occasionally   \n",
       "2              Occasionally                       Daily          Occasionally   \n",
       "3              Occasionally                      Rarely          Not provided   \n",
       "4                     Never                       Never          Occasionally   \n",
       "..                      ...                         ...                   ...   \n",
       "518               Regularly                Not provided          Occasionally   \n",
       "519                   Never                      Rarely                 Never   \n",
       "520            Occasionally                      Rarely          Occasionally   \n",
       "521                  Rarely                       Never                 Daily   \n",
       "522            Occasionally                   Regularly                Rarely   \n",
       "\n",
       "    NUT_sugary_sweets_frequency  NUT_vegetable_frequency  \\\n",
       "0                  Occasionally             Occasionally   \n",
       "1                     Regularly                Regularly   \n",
       "2                        Rarely             Occasionally   \n",
       "3                        Rarely                Regularly   \n",
       "4                         Never                    Daily   \n",
       "..                          ...                      ...   \n",
       "518                      Rarely                    Daily   \n",
       "519                Occasionally                    Daily   \n",
       "520                      Rarely                    Daily   \n",
       "521                       Never                    Daily   \n",
       "522                   Regularly             Occasionally   \n",
       "\n",
       "    NUT_vitamin_b_supplement_frequency  NUT_vitamin_d_supplement_frequency  \\\n",
       "0                                Never                               Never   \n",
       "1                                Never                               Never   \n",
       "2                                Never                               Never   \n",
       "3                                Daily                               Daily   \n",
       "4                               Rarely                        Occasionally   \n",
       "..                                 ...                                 ...   \n",
       "518                              Never                               Daily   \n",
       "519                              Never                               Never   \n",
       "520                              Never                               Never   \n",
       "521                              Never                               Never   \n",
       "522                              Never                               Daily   \n",
       "\n",
       "    NUT_whole_eggs NUT_whole_grain_frequency  \n",
       "0            Daily                     Daily  \n",
       "1           Rarely              Occasionally  \n",
       "2        Regularly              Occasionally  \n",
       "3           Rarely                 Regularly  \n",
       "4        Regularly                     Daily  \n",
       "..             ...                       ...  \n",
       "518      Regularly                     Never  \n",
       "519   Occasionally              Occasionally  \n",
       "520   Occasionally              Occasionally  \n",
       "521          Daily                     Never  \n",
       "522         Rarely              Occasionally  \n",
       "\n",
       "[523 rows x 57 columns]"
      ]
     },
     "execution_count": 4,
     "metadata": {},
     "output_type": "execute_result"
    }
   ],
   "source": [
    "df_meta"
   ]
  },
  {
   "cell_type": "markdown",
   "id": "d6516826-70c2-4df0-91e5-efba5fa69d19",
   "metadata": {},
   "source": [
    "Show all columns we have in our metadata:"
   ]
  },
  {
   "cell_type": "code",
   "execution_count": 5,
   "id": "4868a7f7-f746-4789-874d-203e7cbab25d",
   "metadata": {},
   "outputs": [
    {
     "data": {
      "text/plain": [
       "['sampleid',\n",
       " 'GEN_age_cat',\n",
       " 'GEN_age_corrected',\n",
       " 'GEN_bmi_cat',\n",
       " 'GEN_bmi_corrected',\n",
       " 'GEN_cat',\n",
       " 'GEN_collection_timestamp',\n",
       " 'GEN_country',\n",
       " 'GEN_dog',\n",
       " 'GEN_elevation',\n",
       " 'GEN_geo_loc_name',\n",
       " 'GEN_height_cm',\n",
       " 'GEN_host_common_name',\n",
       " 'GEN_last_move',\n",
       " 'GEN_last_travel',\n",
       " 'GEN_latitude',\n",
       " 'GEN_level_of_education',\n",
       " 'GEN_longitude',\n",
       " 'GEN_race',\n",
       " 'GEN_sample_type',\n",
       " 'GEN_sex',\n",
       " 'GEN_weight_kg',\n",
       " 'NUT_alcohol_consumption',\n",
       " 'NUT_alcohol_frequency',\n",
       " 'NUT_alcohol_types_beercider',\n",
       " 'NUT_alcohol_types_red_wine',\n",
       " 'NUT_alcohol_types_sour_beers',\n",
       " 'NUT_alcohol_types_spiritshard_alcohol',\n",
       " 'NUT_alcohol_types_unspecified',\n",
       " 'NUT_alcohol_types_white_wine',\n",
       " 'NUT_artificial_sweeteners',\n",
       " 'NUT_diet_type',\n",
       " 'NUT_drinks_per_session',\n",
       " 'NUT_fed_as_infant',\n",
       " 'NUT_fermented_plant_frequency',\n",
       " 'NUT_frozen_dessert_frequency',\n",
       " 'NUT_fruit_frequency',\n",
       " 'NUT_gluten',\n",
       " 'NUT_high_fat_red_meat_frequency',\n",
       " 'NUT_homecooked_meals_frequency',\n",
       " 'NUT_lowgrain_diet_type',\n",
       " 'NUT_meat_eggs_frequency',\n",
       " 'NUT_milk_cheese_frequency',\n",
       " 'NUT_milk_substitute_frequency',\n",
       " 'NUT_olive_oil',\n",
       " 'NUT_poultry_frequency',\n",
       " 'NUT_prepared_meals_frequency',\n",
       " 'NUT_probiotic_frequency',\n",
       " 'NUT_red_meat_frequency',\n",
       " 'NUT_salted_snacks_frequency',\n",
       " 'NUT_seafood_frequency',\n",
       " 'NUT_sugary_sweets_frequency',\n",
       " 'NUT_vegetable_frequency',\n",
       " 'NUT_vitamin_b_supplement_frequency',\n",
       " 'NUT_vitamin_d_supplement_frequency',\n",
       " 'NUT_whole_eggs',\n",
       " 'NUT_whole_grain_frequency']"
      ]
     },
     "execution_count": 5,
     "metadata": {},
     "output_type": "execute_result"
    }
   ],
   "source": [
    "df_meta.columns.tolist()"
   ]
  },
  {
   "cell_type": "markdown",
   "id": "38cb33c2-f260-4814-b3c5-54d532c8a698",
   "metadata": {},
   "source": [
    "check for replicates"
   ]
  },
  {
   "cell_type": "code",
   "execution_count": 6,
   "id": "3e1efbc2-0005-45a9-9f21-b134e585cb5b",
   "metadata": {},
   "outputs": [
    {
     "data": {
      "text/plain": [
       "523"
      ]
     },
     "execution_count": 6,
     "metadata": {},
     "output_type": "execute_result"
    }
   ],
   "source": [
    "len(df_meta['sampleid'].unique())"
   ]
  },
  {
   "cell_type": "code",
   "execution_count": 7,
   "id": "966a81f9-dd0c-4135-8a81-c6423c2684d0",
   "metadata": {},
   "outputs": [],
   "source": [
    "# if we want sampleid as our index: \n",
    "#df_meta = pd.read_csv(f'{data_dir}/sample_meta_data.tsv', sep='\\t', index_col=0)"
   ]
  },
  {
   "cell_type": "markdown",
   "id": "37c27859-dda1-488a-9402-7ceb6361a4e1",
   "metadata": {},
   "source": [
    "We want to know what kind of samples we have:\n"
   ]
  },
  {
   "cell_type": "code",
   "execution_count": 8,
   "id": "3ba4ae2b-ce94-4ab4-92ad-b246a0eb38ff",
   "metadata": {},
   "outputs": [
    {
     "data": {
      "text/plain": [
       "Stool    523\n",
       "Name: GEN_sample_type, dtype: int64"
      ]
     },
     "execution_count": 8,
     "metadata": {},
     "output_type": "execute_result"
    }
   ],
   "source": [
    "df_meta['GEN_sample_type'].value_counts()"
   ]
  },
  {
   "cell_type": "markdown",
   "id": "5da5670e-239c-49bb-a0a0-a6fab2830211",
   "metadata": {},
   "source": [
    "<a id='generate_plots'></a>\n",
    "### 2.1 Generate plots from meta data to investigate general chraracteristics of individuals/samples"
   ]
  },
  {
   "cell_type": "markdown",
   "id": "b3895777-e419-4bf7-8c03-a0d496bf2736",
   "metadata": {},
   "source": [
    "How many participants have cats or dogs?\n"
   ]
  },
  {
   "cell_type": "code",
   "execution_count": 9,
   "id": "69f6ab9c-f1fd-427e-ab33-179818117f98",
   "metadata": {},
   "outputs": [
    {
     "data": {
      "image/png": "[encoded data removed]",
      "text/plain": [
       "<Figure size 432x288 with 1 Axes>"
      ]
     },
     "metadata": {
      "needs_background": "light"
     },
     "output_type": "display_data"
    }
   ],
   "source": [
    "df_meta['GEN_cat'].value_counts().plot(kind='bar')\n",
    "plt.ylabel('Number of samples')\n",
    "plt.title('Cat owner')\n",
    "plt.show()"
   ]
  },
  {
   "cell_type": "code",
   "execution_count": 10,
   "id": "3dff1f7a-e403-4db0-a3fe-d3aa89017439",
   "metadata": {},
   "outputs": [
    {
     "data": {
      "image/png": "[encoded data removed]",
      "text/plain": [
       "<Figure size 432x288 with 1 Axes>"
      ]
     },
     "metadata": {
      "needs_background": "light"
     },
     "output_type": "display_data"
    }
   ],
   "source": [
    "df_meta['GEN_dog'].value_counts().plot(kind='bar')\n",
    "plt.ylabel('Number of samples')\n",
    "plt.title('Dog owner')\n",
    "plt.show()"
   ]
  },
  {
   "cell_type": "code",
   "execution_count": 11,
   "id": "f6447d60-fcf4-4b6b-80e7-06ec15525b47",
   "metadata": {},
   "outputs": [
    {
     "data": {
      "text/plain": [
       "sampleid                                  0\n",
       "GEN_age_cat                               0\n",
       "GEN_age_corrected                        31\n",
       "GEN_bmi_cat                               0\n",
       "GEN_bmi_corrected                        15\n",
       "GEN_cat                                   0\n",
       "GEN_collection_timestamp                  0\n",
       "GEN_country                               0\n",
       "GEN_dog                                   0\n",
       "GEN_elevation                            35\n",
       "GEN_geo_loc_name                          0\n",
       "GEN_height_cm                             6\n",
       "GEN_host_common_name                      0\n",
       "GEN_last_move                             0\n",
       "GEN_last_travel                           0\n",
       "GEN_latitude                             35\n",
       "GEN_level_of_education                    0\n",
       "GEN_longitude                            35\n",
       "GEN_race                                  0\n",
       "GEN_sample_type                           0\n",
       "GEN_sex                                   0\n",
       "GEN_weight_kg                             5\n",
       "NUT_alcohol_consumption                   0\n",
       "NUT_alcohol_frequency                     0\n",
       "NUT_alcohol_types_beercider               0\n",
       "NUT_alcohol_types_red_wine                0\n",
       "NUT_alcohol_types_sour_beers              0\n",
       "NUT_alcohol_types_spiritshard_alcohol     0\n",
       "NUT_alcohol_types_unspecified             0\n",
       "NUT_alcohol_types_white_wine              0\n",
       "NUT_artificial_sweeteners                 0\n",
       "NUT_diet_type                             0\n",
       "NUT_drinks_per_session                    0\n",
       "NUT_fed_as_infant                         0\n",
       "NUT_fermented_plant_frequency             0\n",
       "NUT_frozen_dessert_frequency              0\n",
       "NUT_fruit_frequency                       0\n",
       "NUT_gluten                                0\n",
       "NUT_high_fat_red_meat_frequency           0\n",
       "NUT_homecooked_meals_frequency            0\n",
       "NUT_lowgrain_diet_type                    0\n",
       "NUT_meat_eggs_frequency                   0\n",
       "NUT_milk_cheese_frequency                 0\n",
       "NUT_milk_substitute_frequency             0\n",
       "NUT_olive_oil                             0\n",
       "NUT_poultry_frequency                     0\n",
       "NUT_prepared_meals_frequency              0\n",
       "NUT_probiotic_frequency                   0\n",
       "NUT_red_meat_frequency                    0\n",
       "NUT_salted_snacks_frequency               0\n",
       "NUT_seafood_frequency                     0\n",
       "NUT_sugary_sweets_frequency               0\n",
       "NUT_vegetable_frequency                   0\n",
       "NUT_vitamin_b_supplement_frequency        0\n",
       "NUT_vitamin_d_supplement_frequency        0\n",
       "NUT_whole_eggs                            0\n",
       "NUT_whole_grain_frequency                 0\n",
       "dtype: int64"
      ]
     },
     "execution_count": 11,
     "metadata": {},
     "output_type": "execute_result"
    }
   ],
   "source": [
    "#Maybe also remove rows NaN:\n",
    "\n",
    "#df_meta[df_meta.isna().any(axis=1)]\n",
    "#df.dropna()\n",
    "\n",
    "# Check for missing data\n",
    "df_meta.isnull().sum()"
   ]
  },
  {
   "cell_type": "code",
   "execution_count": 12,
   "id": "590b8e64-28b4-4013-9f44-86dc388bbaaf",
   "metadata": {},
   "outputs": [],
   "source": [
    "df_meta = df_meta.replace(['female'], 'Female')\n",
    "df_meta = df_meta.replace(['male'], 'Male')\n",
    "df_meta = df_meta.replace(['other'], 'Other')"
   ]
  },
  {
   "cell_type": "code",
   "execution_count": 13,
   "id": "289c5530-abfd-4f40-9a11-4503028a7799",
   "metadata": {},
   "outputs": [
    {
     "data": {
      "text/html": [
       "<div>\n",
       "<style scoped>\n",
       "    .dataframe tbody tr th:only-of-type {\n",
       "        vertical-align: middle;\n",
       "    }\n",
       "\n",
       "    .dataframe tbody tr th {\n",
       "        vertical-align: top;\n",
       "    }\n",
       "\n",
       "    .dataframe thead th {\n",
       "        text-align: right;\n",
       "    }\n",
       "</style>\n",
       "<table border=\"1\" class=\"dataframe\">\n",
       "  <thead>\n",
       "    <tr style=\"text-align: right;\">\n",
       "      <th></th>\n",
       "      <th>sampleid</th>\n",
       "      <th>GEN_age_cat</th>\n",
       "      <th>GEN_age_corrected</th>\n",
       "      <th>GEN_bmi_cat</th>\n",
       "      <th>GEN_bmi_corrected</th>\n",
       "      <th>GEN_cat</th>\n",
       "      <th>GEN_collection_timestamp</th>\n",
       "      <th>GEN_country</th>\n",
       "      <th>GEN_dog</th>\n",
       "      <th>GEN_elevation</th>\n",
       "      <th>...</th>\n",
       "      <th>NUT_probiotic_frequency</th>\n",
       "      <th>NUT_red_meat_frequency</th>\n",
       "      <th>NUT_salted_snacks_frequency</th>\n",
       "      <th>NUT_seafood_frequency</th>\n",
       "      <th>NUT_sugary_sweets_frequency</th>\n",
       "      <th>NUT_vegetable_frequency</th>\n",
       "      <th>NUT_vitamin_b_supplement_frequency</th>\n",
       "      <th>NUT_vitamin_d_supplement_frequency</th>\n",
       "      <th>NUT_whole_eggs</th>\n",
       "      <th>NUT_whole_grain_frequency</th>\n",
       "    </tr>\n",
       "  </thead>\n",
       "  <tbody>\n",
       "    <tr>\n",
       "      <th>0</th>\n",
       "      <td>10317.000046</td>\n",
       "      <td>20s</td>\n",
       "      <td>20.0</td>\n",
       "      <td>Normal</td>\n",
       "      <td>23.75</td>\n",
       "      <td>False</td>\n",
       "      <td>2016-08-25 18:30:00</td>\n",
       "      <td>USA</td>\n",
       "      <td>True</td>\n",
       "      <td>1919.3</td>\n",
       "      <td>...</td>\n",
       "      <td>Rarely</td>\n",
       "      <td>Regularly</td>\n",
       "      <td>Occasionally</td>\n",
       "      <td>Rarely</td>\n",
       "      <td>Occasionally</td>\n",
       "      <td>Occasionally</td>\n",
       "      <td>Never</td>\n",
       "      <td>Never</td>\n",
       "      <td>Daily</td>\n",
       "      <td>Daily</td>\n",
       "    </tr>\n",
       "    <tr>\n",
       "      <th>1</th>\n",
       "      <td>10317.000050</td>\n",
       "      <td>Not provided</td>\n",
       "      <td>NaN</td>\n",
       "      <td>Overweight</td>\n",
       "      <td>25.61</td>\n",
       "      <td>False</td>\n",
       "      <td>2016-07-06 09:00:00</td>\n",
       "      <td>United Kingdom</td>\n",
       "      <td>False</td>\n",
       "      <td>65.5</td>\n",
       "      <td>...</td>\n",
       "      <td>Rarely</td>\n",
       "      <td>Rarely</td>\n",
       "      <td>Regularly</td>\n",
       "      <td>Occasionally</td>\n",
       "      <td>Regularly</td>\n",
       "      <td>Regularly</td>\n",
       "      <td>Never</td>\n",
       "      <td>Never</td>\n",
       "      <td>Rarely</td>\n",
       "      <td>Occasionally</td>\n",
       "    </tr>\n",
       "    <tr>\n",
       "      <th>2</th>\n",
       "      <td>10317.000038</td>\n",
       "      <td>30s</td>\n",
       "      <td>39.0</td>\n",
       "      <td>Overweight</td>\n",
       "      <td>27.67</td>\n",
       "      <td>False</td>\n",
       "      <td>2016-06-29 09:30:00</td>\n",
       "      <td>United Kingdom</td>\n",
       "      <td>False</td>\n",
       "      <td>44.5</td>\n",
       "      <td>...</td>\n",
       "      <td>Never</td>\n",
       "      <td>Occasionally</td>\n",
       "      <td>Daily</td>\n",
       "      <td>Occasionally</td>\n",
       "      <td>Rarely</td>\n",
       "      <td>Occasionally</td>\n",
       "      <td>Never</td>\n",
       "      <td>Never</td>\n",
       "      <td>Regularly</td>\n",
       "      <td>Occasionally</td>\n",
       "    </tr>\n",
       "    <tr>\n",
       "      <th>3</th>\n",
       "      <td>10317.000047</td>\n",
       "      <td>50s</td>\n",
       "      <td>56.0</td>\n",
       "      <td>Normal</td>\n",
       "      <td>19.71</td>\n",
       "      <td>False</td>\n",
       "      <td>2016-07-12 17:30:00</td>\n",
       "      <td>Germany</td>\n",
       "      <td>False</td>\n",
       "      <td>8.7</td>\n",
       "      <td>...</td>\n",
       "      <td>Daily</td>\n",
       "      <td>Occasionally</td>\n",
       "      <td>Rarely</td>\n",
       "      <td>Not provided</td>\n",
       "      <td>Rarely</td>\n",
       "      <td>Regularly</td>\n",
       "      <td>Daily</td>\n",
       "      <td>Daily</td>\n",
       "      <td>Rarely</td>\n",
       "      <td>Regularly</td>\n",
       "    </tr>\n",
       "    <tr>\n",
       "      <th>4</th>\n",
       "      <td>10317.000046</td>\n",
       "      <td>40s</td>\n",
       "      <td>45.0</td>\n",
       "      <td>Normal</td>\n",
       "      <td>23.15</td>\n",
       "      <td>False</td>\n",
       "      <td>2016-05-24 19:00:00</td>\n",
       "      <td>United Kingdom</td>\n",
       "      <td>True</td>\n",
       "      <td>68.8</td>\n",
       "      <td>...</td>\n",
       "      <td>Regularly</td>\n",
       "      <td>Never</td>\n",
       "      <td>Never</td>\n",
       "      <td>Occasionally</td>\n",
       "      <td>Never</td>\n",
       "      <td>Daily</td>\n",
       "      <td>Rarely</td>\n",
       "      <td>Occasionally</td>\n",
       "      <td>Regularly</td>\n",
       "      <td>Daily</td>\n",
       "    </tr>\n",
       "  </tbody>\n",
       "</table>\n",
       "<p>5 rows × 57 columns</p>\n",
       "</div>"
      ],
      "text/plain": [
       "       sampleid   GEN_age_cat  GEN_age_corrected GEN_bmi_cat  \\\n",
       "0  10317.000046           20s               20.0      Normal   \n",
       "1  10317.000050  Not provided                NaN  Overweight   \n",
       "2  10317.000038           30s               39.0  Overweight   \n",
       "3  10317.000047           50s               56.0      Normal   \n",
       "4  10317.000046           40s               45.0      Normal   \n",
       "\n",
       "   GEN_bmi_corrected  GEN_cat GEN_collection_timestamp     GEN_country  \\\n",
       "0              23.75    False      2016-08-25 18:30:00             USA   \n",
       "1              25.61    False      2016-07-06 09:00:00  United Kingdom   \n",
       "2              27.67    False      2016-06-29 09:30:00  United Kingdom   \n",
       "3              19.71    False      2016-07-12 17:30:00         Germany   \n",
       "4              23.15    False      2016-05-24 19:00:00  United Kingdom   \n",
       "\n",
       "   GEN_dog  GEN_elevation  ... NUT_probiotic_frequency  \\\n",
       "0     True         1919.3  ...                  Rarely   \n",
       "1    False           65.5  ...                  Rarely   \n",
       "2    False           44.5  ...                   Never   \n",
       "3    False            8.7  ...                   Daily   \n",
       "4     True           68.8  ...               Regularly   \n",
       "\n",
       "   NUT_red_meat_frequency NUT_salted_snacks_frequency NUT_seafood_frequency  \\\n",
       "0               Regularly                Occasionally                Rarely   \n",
       "1                  Rarely                   Regularly          Occasionally   \n",
       "2            Occasionally                       Daily          Occasionally   \n",
       "3            Occasionally                      Rarely          Not provided   \n",
       "4                   Never                       Never          Occasionally   \n",
       "\n",
       "  NUT_sugary_sweets_frequency  NUT_vegetable_frequency  \\\n",
       "0                Occasionally             Occasionally   \n",
       "1                   Regularly                Regularly   \n",
       "2                      Rarely             Occasionally   \n",
       "3                      Rarely                Regularly   \n",
       "4                       Never                    Daily   \n",
       "\n",
       "  NUT_vitamin_b_supplement_frequency  NUT_vitamin_d_supplement_frequency  \\\n",
       "0                              Never                               Never   \n",
       "1                              Never                               Never   \n",
       "2                              Never                               Never   \n",
       "3                              Daily                               Daily   \n",
       "4                             Rarely                        Occasionally   \n",
       "\n",
       "  NUT_whole_eggs NUT_whole_grain_frequency  \n",
       "0          Daily                     Daily  \n",
       "1         Rarely              Occasionally  \n",
       "2      Regularly              Occasionally  \n",
       "3         Rarely                 Regularly  \n",
       "4      Regularly                     Daily  \n",
       "\n",
       "[5 rows x 57 columns]"
      ]
     },
     "execution_count": 13,
     "metadata": {},
     "output_type": "execute_result"
    }
   ],
   "source": [
    "df_meta.head()"
   ]
  },
  {
   "cell_type": "markdown",
   "id": "b0148879-31db-41a2-9c0d-6e46d09c461f",
   "metadata": {},
   "source": [
    "##### Plot frequency of sex"
   ]
  },
  {
   "cell_type": "code",
   "execution_count": 14,
   "id": "dbf48ef3-fa21-4b7d-8980-bebb33c778b3",
   "metadata": {},
   "outputs": [
    {
     "data": {
      "text/plain": [
       "Female          300\n",
       "Male            219\n",
       "Not provided      3\n",
       "Other             1\n",
       "Name: GEN_sex, dtype: int64"
      ]
     },
     "execution_count": 14,
     "metadata": {},
     "output_type": "execute_result"
    }
   ],
   "source": [
    "df_meta['GEN_sex'].value_counts()"
   ]
  },
  {
   "cell_type": "code",
   "execution_count": 15,
   "id": "ef37ce4c-ba70-499b-9891-ac348a8f909f",
   "metadata": {},
   "outputs": [
    {
     "name": "stderr",
     "output_type": "stream",
     "text": [
      "findfont: Font family ['Helvetica'] not found. Falling back to DejaVu Sans.\n",
      "findfont: Font family ['Helvetica'] not found. Falling back to DejaVu Sans.\n"
     ]
    },
    {
     "data": {
      "image/png": "[encoded data removed]",
      "text/plain": [
       "<Figure size 504x504 with 1 Axes>"
      ]
     },
     "metadata": {},
     "output_type": "display_data"
    }
   ],
   "source": [
    "hue_object = ['Female', 'Male', 'Not provided', 'Other']\n",
    "\n",
    "sns.set(rc={'figure.figsize':(7, 7), 'font.family': ['Helvetica']}, style='white')\n",
    "\n",
    "with sns.plotting_context(\"notebook\", font_scale=1.2):\n",
    "    # seaborn's bar plot\n",
    "    ax = sns.countplot(\n",
    "        x=df_meta['GEN_sex'],\n",
    "        order = hue_object,\n",
    "        color='Chocolate')\n",
    "    \n",
    "    ax.bar_label(ax.containers[0])\n",
    "    ax.set_xlabel('')\n",
    "    ax.set_ylabel('Number of Individuals')\n",
    "    ax.set_title('Frequencies of Sex')\n",
    "\n",
    "    #plt.savefig('project_data/sex_frequencies.png', bbox_inches='tight', dpi=300)"
   ]
  },
  {
   "cell_type": "markdown",
   "id": "fb8c9fc6-c334-4ba5-b80b-220044e0e90c",
   "metadata": {},
   "source": [
    "Check host of the samples"
   ]
  },
  {
   "cell_type": "code",
   "execution_count": 16,
   "id": "3ffa3481-9d86-45c0-808c-567133f995f8",
   "metadata": {},
   "outputs": [
    {
     "data": {
      "text/plain": [
       "human    523\n",
       "Name: GEN_host_common_name, dtype: int64"
      ]
     },
     "execution_count": 16,
     "metadata": {},
     "output_type": "execute_result"
    }
   ],
   "source": [
    "df_meta['GEN_host_common_name'].value_counts()"
   ]
  },
  {
   "cell_type": "markdown",
   "id": "469b33a3-6198-4bb6-9ce1-71517a2bb755",
   "metadata": {},
   "source": [
    "##### Plot race frequencies"
   ]
  },
  {
   "cell_type": "code",
   "execution_count": 17,
   "id": "db981222-f5fc-4ad6-85c3-c8d0cd1165da",
   "metadata": {},
   "outputs": [
    {
     "data": {
      "text/plain": [
       "array(['Caucasian', 'Asian or Pacific Islander', 'Other', 'Not provided',\n",
       "       'Hispanic', 'African American'], dtype=object)"
      ]
     },
     "execution_count": 17,
     "metadata": {},
     "output_type": "execute_result"
    }
   ],
   "source": [
    "df_meta['GEN_race'].unique()"
   ]
  },
  {
   "cell_type": "code",
   "execution_count": 18,
   "id": "7c5feea9-67a9-43ec-97ae-4a14fdbd867d",
   "metadata": {},
   "outputs": [
    {
     "data": {
      "image/png": "[encoded data removed]",
      "text/plain": [
       "<Figure size 504x360 with 1 Axes>"
      ]
     },
     "metadata": {},
     "output_type": "display_data"
    }
   ],
   "source": [
    "hue_object = ['Caucasian', 'Asian or Pacific Islander', 'Hispanic', 'African American', 'Other', 'Not provided',]\n",
    "\n",
    "sns.set(rc={'figure.figsize':(7, 5), 'font.family': ['Helvetica']}, style='white')\n",
    "\n",
    "with sns.plotting_context(\"notebook\", font_scale=1.2):\n",
    "    # seaborn's bar plot\n",
    "    ax = sns.countplot(\n",
    "        y=df_meta['GEN_race'],\n",
    "        order = hue_object,\n",
    "        color='Chocolate')\n",
    "    \n",
    "    ax.set_xlabel('Number of Individuals')\n",
    "    ax.set_ylabel('')\n",
    "    ax.set_title('Race Frequencies')\n",
    "\n",
    "    #plt.savefig('project_data/race_frequencies.png', bbox_inches='tight', dpi=300)"
   ]
  },
  {
   "cell_type": "markdown",
   "id": "83a6682c-0366-4b56-9274-18f4bddc5188",
   "metadata": {},
   "source": [
    "##### Plot country frequiencies"
   ]
  },
  {
   "cell_type": "code",
   "execution_count": 19,
   "id": "b7a2f33d-9fc8-42de-86c9-80a1a73f87d6",
   "metadata": {},
   "outputs": [
    {
     "data": {
      "text/plain": [
       "Index(['United Kingdom', 'USA', 'Italy', 'Ireland', 'Serbia', 'Not provided',\n",
       "       'Australia', 'Germany', 'Hong Kong', 'Netherlands', 'Switzerland',\n",
       "       'Canada', 'United Arab Emirates', 'Belgium', 'Georgia', 'Spain',\n",
       "       'Jersey'],\n",
       "      dtype='object', name='GEN_country')"
      ]
     },
     "execution_count": 19,
     "metadata": {},
     "output_type": "execute_result"
    }
   ],
   "source": [
    "df_meta.groupby(['GEN_country'])['GEN_country'].count().sort_values(ascending = False).index"
   ]
  },
  {
   "cell_type": "code",
   "execution_count": 20,
   "id": "593c644a-00c6-4188-b318-e4e9285bb82c",
   "metadata": {},
   "outputs": [
    {
     "data": {
      "image/png": "[encoded data removed]",
      "text/plain": [
       "<Figure size 576x504 with 1 Axes>"
      ]
     },
     "metadata": {},
     "output_type": "display_data"
    }
   ],
   "source": [
    "hue_object = ['United Kingdom', 'USA', 'Italy', 'Ireland', 'Serbia',\n",
    "       'Australia', 'Germany', 'Hong Kong', 'Netherlands', 'Switzerland',\n",
    "       'Canada', 'United Arab Emirates', 'Belgium', 'Georgia', 'Spain',\n",
    "       'Jersey', 'Not provided',]\n",
    "\n",
    "sns.set(rc={'figure.figsize':(8, 7), 'font.family': ['Helvetica']}, style='white')\n",
    "\n",
    "with sns.plotting_context(\"notebook\", font_scale=1.2):\n",
    "    # seaborn's bar plot\n",
    "    ax = sns.countplot(\n",
    "        y=df_meta['GEN_country'],\n",
    "        order = hue_object,\n",
    "        color='Chocolate')\n",
    "    \n",
    "    ax.set_xlabel('Number of Individuals')\n",
    "    ax.set_ylabel('')\n",
    "    ax.set_title('Country Frequencies')\n",
    "    \n",
    "    #plt.savefig('project_data/country_frequencies.png', bbox_inches='tight', dpi=300)"
   ]
  },
  {
   "cell_type": "markdown",
   "id": "2afcce03-2325-4c3d-a7c3-84a6e0defbdf",
   "metadata": {},
   "source": [
    "We note that most samples come from caucasians. Fruthermore, there are almost no samples from Switzerland which we should keep in mind when we aim to give suggestions to the ETH mensa chefs. Most of the samples come from USA, Germany and United Kingdom."
   ]
  },
  {
   "cell_type": "markdown",
   "id": "ad0cb096-66cf-424f-8b83-f702d413821c",
   "metadata": {},
   "source": [
    "##### Plot elevation distribution, longitude and latitude"
   ]
  },
  {
   "cell_type": "code",
   "execution_count": 21,
   "id": "6cf5a9b3-4d77-42be-b2e2-9cdb945c0bf6",
   "metadata": {},
   "outputs": [
    {
     "name": "stderr",
     "output_type": "stream",
     "text": [
      "findfont: Font family ['Helvetica'] not found. Falling back to DejaVu Sans.\n",
      "findfont: Font family ['Helvetica'] not found. Falling back to DejaVu Sans.\n"
     ]
    },
    {
     "data": {
      "image/png": "[encoded data removed]",
      "text/plain": [
       "<Figure size 576x504 with 1 Axes>"
      ]
     },
     "metadata": {},
     "output_type": "display_data"
    }
   ],
   "source": [
    "plt.hist('GEN_elevation', data=df_meta)\n",
    "plt.ylabel('Count')\n",
    "plt.xlabel('Elevation')\n",
    "plt.title('Elevation Distribution')\n",
    "plt.grid(True)\n",
    "plt.show()"
   ]
  },
  {
   "cell_type": "code",
   "execution_count": 22,
   "id": "0af0bda1-f536-4195-b6fe-07b4d280d6b8",
   "metadata": {},
   "outputs": [
    {
     "data": {
      "image/png": "[encoded data removed]",
      "text/plain": [
       "<Figure size 360x360 with 1 Axes>"
      ]
     },
     "metadata": {},
     "output_type": "display_data"
    }
   ],
   "source": [
    "sns.set(rc={'figure.figsize':(5, 5), 'font.family': ['Helvetica']}, style='white')\n",
    "\n",
    "with sns.plotting_context(\"notebook\", font_scale=1.2):\n",
    "    # seaborn's bar plot\n",
    "    ax = sns.scatterplot(\n",
    "        data = df_meta,\n",
    "        x = 'GEN_latitude',\n",
    "        y = 'GEN_longitude',\n",
    "        alpha=0.5,\n",
    "        color='Chocolate')\n",
    "    \n",
    "    ax.set_xlabel('Latitude')\n",
    "    ax.set_ylabel('Longitude')\n",
    "  \n",
    "    \n",
    "    #plt.savefig('project_data/longitude_latitude.png', bbox_inches='tight', dpi=300)"
   ]
  },
  {
   "cell_type": "markdown",
   "id": "84e7196a-eda1-44fd-a966-baebb51dcb85",
   "metadata": {},
   "source": [
    "##### Plot age distribution"
   ]
  },
  {
   "cell_type": "code",
   "execution_count": 23,
   "id": "1be2a606-7903-4780-9e2b-fe0ca2da9f60",
   "metadata": {},
   "outputs": [
    {
     "data": {
      "image/png": "[encoded data removed]",
      "text/plain": [
       "<Figure size 432x432 with 1 Axes>"
      ]
     },
     "metadata": {},
     "output_type": "display_data"
    }
   ],
   "source": [
    "sns.set(rc={'figure.figsize':(6, 6), 'font.family': ['Helvetica']}, style='white')\n",
    "\n",
    "with sns.plotting_context(\"notebook\", font_scale=1.2):\n",
    "    # seaborn's bar plot\n",
    "    ax = sns.histplot(\n",
    "        x=df_meta['GEN_age_corrected'],\n",
    "        color='chocolate')\n",
    "    \n",
    "    ax.set_xlabel('Age')\n",
    "    ax.set_ylabel('Number of Individuals')\n",
    "    ax.set_title('Age Distribution')\n",
    "    \n",
    "    #plt.savefig('project_data/age_frequencies.png', bbox_inches='tight', dpi=300)"
   ]
  },
  {
   "cell_type": "markdown",
   "id": "b82991fd-0874-4944-a1f7-a2ee203e3daa",
   "metadata": {},
   "source": [
    "##### Plot BMI, height and weight distribution"
   ]
  },
  {
   "cell_type": "code",
   "execution_count": 24,
   "id": "6d5da4c8-030b-460b-aeac-469df9b1d483",
   "metadata": {},
   "outputs": [
    {
     "data": {
      "image/png": "[encoded data removed]",
      "text/plain": [
       "<Figure size 432x432 with 1 Axes>"
      ]
     },
     "metadata": {},
     "output_type": "display_data"
    }
   ],
   "source": [
    "sns.set(rc={'figure.figsize':(6, 6), 'font.family': ['Helvetica']}, style='white')\n",
    "\n",
    "with sns.plotting_context(\"notebook\", font_scale=1.2):\n",
    "    # seaborn's bar plot\n",
    "    ax = sns.histplot(\n",
    "        x=df_meta['GEN_bmi_corrected'],\n",
    "        color='chocolate')\n",
    "    \n",
    "    ax.set_xlabel('BMI')\n",
    "    ax.set_ylabel('Number of Individuals')\n",
    "    ax.set_title('BMI Distribution')\n",
    "    \n",
    "    #plt.savefig('project_data/bmi_frequencies.png', bbox_inches='tight', dpi=300)"
   ]
  },
  {
   "cell_type": "code",
   "execution_count": 25,
   "id": "10d7bd37-2df3-4b9f-b95a-29f7a480046c",
   "metadata": {},
   "outputs": [
    {
     "data": {
      "image/png": "[encoded data removed]",
      "text/plain": [
       "<Figure size 432x432 with 1 Axes>"
      ]
     },
     "metadata": {},
     "output_type": "display_data"
    }
   ],
   "source": [
    "plt.hist('GEN_height_cm', data=df_meta)\n",
    "plt.ylabel('Count')\n",
    "plt.xlabel('Height_cm')\n",
    "plt.title('Height Distribution')\n",
    "plt.grid(True)\n",
    "plt.show()"
   ]
  },
  {
   "cell_type": "code",
   "execution_count": 26,
   "id": "0b59730c-eeb2-4a36-b332-a2c483a63fe8",
   "metadata": {},
   "outputs": [
    {
     "data": {
      "text/html": [
       "<div>\n",
       "<style scoped>\n",
       "    .dataframe tbody tr th:only-of-type {\n",
       "        vertical-align: middle;\n",
       "    }\n",
       "\n",
       "    .dataframe tbody tr th {\n",
       "        vertical-align: top;\n",
       "    }\n",
       "\n",
       "    .dataframe thead th {\n",
       "        text-align: right;\n",
       "    }\n",
       "</style>\n",
       "<table border=\"1\" class=\"dataframe\">\n",
       "  <thead>\n",
       "    <tr style=\"text-align: right;\">\n",
       "      <th></th>\n",
       "      <th>72</th>\n",
       "    </tr>\n",
       "  </thead>\n",
       "  <tbody>\n",
       "    <tr>\n",
       "      <th>sampleid</th>\n",
       "      <td>10317.000053</td>\n",
       "    </tr>\n",
       "    <tr>\n",
       "      <th>GEN_age_cat</th>\n",
       "      <td>Not provided</td>\n",
       "    </tr>\n",
       "    <tr>\n",
       "      <th>GEN_age_corrected</th>\n",
       "      <td>NaN</td>\n",
       "    </tr>\n",
       "    <tr>\n",
       "      <th>GEN_bmi_cat</th>\n",
       "      <td>Not provided</td>\n",
       "    </tr>\n",
       "    <tr>\n",
       "      <th>GEN_bmi_corrected</th>\n",
       "      <td>NaN</td>\n",
       "    </tr>\n",
       "    <tr>\n",
       "      <th>GEN_cat</th>\n",
       "      <td>False</td>\n",
       "    </tr>\n",
       "    <tr>\n",
       "      <th>GEN_collection_timestamp</th>\n",
       "      <td>2016-07-26 15:30:00</td>\n",
       "    </tr>\n",
       "    <tr>\n",
       "      <th>GEN_country</th>\n",
       "      <td>United Kingdom</td>\n",
       "    </tr>\n",
       "    <tr>\n",
       "      <th>GEN_dog</th>\n",
       "      <td>False</td>\n",
       "    </tr>\n",
       "    <tr>\n",
       "      <th>GEN_elevation</th>\n",
       "      <td>10.8</td>\n",
       "    </tr>\n",
       "    <tr>\n",
       "      <th>GEN_geo_loc_name</th>\n",
       "      <td>United Kingdom:England</td>\n",
       "    </tr>\n",
       "    <tr>\n",
       "      <th>GEN_height_cm</th>\n",
       "      <td>1800.0</td>\n",
       "    </tr>\n",
       "    <tr>\n",
       "      <th>GEN_host_common_name</th>\n",
       "      <td>human</td>\n",
       "    </tr>\n",
       "    <tr>\n",
       "      <th>GEN_last_move</th>\n",
       "      <td>I have lived in my current state of residence ...</td>\n",
       "    </tr>\n",
       "    <tr>\n",
       "      <th>GEN_last_travel</th>\n",
       "      <td>1 year</td>\n",
       "    </tr>\n",
       "    <tr>\n",
       "      <th>GEN_latitude</th>\n",
       "      <td>51.5</td>\n",
       "    </tr>\n",
       "    <tr>\n",
       "      <th>GEN_level_of_education</th>\n",
       "      <td>Graduate or Professional degree</td>\n",
       "    </tr>\n",
       "    <tr>\n",
       "      <th>GEN_longitude</th>\n",
       "      <td>-0.1</td>\n",
       "    </tr>\n",
       "    <tr>\n",
       "      <th>GEN_race</th>\n",
       "      <td>Caucasian</td>\n",
       "    </tr>\n",
       "    <tr>\n",
       "      <th>GEN_sample_type</th>\n",
       "      <td>Stool</td>\n",
       "    </tr>\n",
       "    <tr>\n",
       "      <th>GEN_sex</th>\n",
       "      <td>Male</td>\n",
       "    </tr>\n",
       "    <tr>\n",
       "      <th>GEN_weight_kg</th>\n",
       "      <td>75.0</td>\n",
       "    </tr>\n",
       "    <tr>\n",
       "      <th>NUT_alcohol_consumption</th>\n",
       "      <td>True</td>\n",
       "    </tr>\n",
       "    <tr>\n",
       "      <th>NUT_alcohol_frequency</th>\n",
       "      <td>Regularly</td>\n",
       "    </tr>\n",
       "    <tr>\n",
       "      <th>NUT_alcohol_types_beercider</th>\n",
       "      <td>False</td>\n",
       "    </tr>\n",
       "    <tr>\n",
       "      <th>NUT_alcohol_types_red_wine</th>\n",
       "      <td>True</td>\n",
       "    </tr>\n",
       "    <tr>\n",
       "      <th>NUT_alcohol_types_sour_beers</th>\n",
       "      <td>False</td>\n",
       "    </tr>\n",
       "    <tr>\n",
       "      <th>NUT_alcohol_types_spiritshard_alcohol</th>\n",
       "      <td>False</td>\n",
       "    </tr>\n",
       "    <tr>\n",
       "      <th>NUT_alcohol_types_unspecified</th>\n",
       "      <td>False</td>\n",
       "    </tr>\n",
       "    <tr>\n",
       "      <th>NUT_alcohol_types_white_wine</th>\n",
       "      <td>False</td>\n",
       "    </tr>\n",
       "    <tr>\n",
       "      <th>NUT_artificial_sweeteners</th>\n",
       "      <td>Never</td>\n",
       "    </tr>\n",
       "    <tr>\n",
       "      <th>NUT_diet_type</th>\n",
       "      <td>Omnivore</td>\n",
       "    </tr>\n",
       "    <tr>\n",
       "      <th>NUT_drinks_per_session</th>\n",
       "      <td>Not provided</td>\n",
       "    </tr>\n",
       "    <tr>\n",
       "      <th>NUT_fed_as_infant</th>\n",
       "      <td>A mixture of breast milk and formula</td>\n",
       "    </tr>\n",
       "    <tr>\n",
       "      <th>NUT_fermented_plant_frequency</th>\n",
       "      <td>Never</td>\n",
       "    </tr>\n",
       "    <tr>\n",
       "      <th>NUT_frozen_dessert_frequency</th>\n",
       "      <td>Rarely</td>\n",
       "    </tr>\n",
       "    <tr>\n",
       "      <th>NUT_fruit_frequency</th>\n",
       "      <td>Occasionally</td>\n",
       "    </tr>\n",
       "    <tr>\n",
       "      <th>NUT_gluten</th>\n",
       "      <td>No</td>\n",
       "    </tr>\n",
       "    <tr>\n",
       "      <th>NUT_high_fat_red_meat_frequency</th>\n",
       "      <td>Never</td>\n",
       "    </tr>\n",
       "    <tr>\n",
       "      <th>NUT_homecooked_meals_frequency</th>\n",
       "      <td>Never</td>\n",
       "    </tr>\n",
       "    <tr>\n",
       "      <th>NUT_lowgrain_diet_type</th>\n",
       "      <td>False</td>\n",
       "    </tr>\n",
       "    <tr>\n",
       "      <th>NUT_meat_eggs_frequency</th>\n",
       "      <td>Occasionally</td>\n",
       "    </tr>\n",
       "    <tr>\n",
       "      <th>NUT_milk_cheese_frequency</th>\n",
       "      <td>Occasionally</td>\n",
       "    </tr>\n",
       "    <tr>\n",
       "      <th>NUT_milk_substitute_frequency</th>\n",
       "      <td>Regularly</td>\n",
       "    </tr>\n",
       "    <tr>\n",
       "      <th>NUT_olive_oil</th>\n",
       "      <td>Rarely</td>\n",
       "    </tr>\n",
       "    <tr>\n",
       "      <th>NUT_poultry_frequency</th>\n",
       "      <td>Occasionally</td>\n",
       "    </tr>\n",
       "    <tr>\n",
       "      <th>NUT_prepared_meals_frequency</th>\n",
       "      <td>Regularly</td>\n",
       "    </tr>\n",
       "    <tr>\n",
       "      <th>NUT_probiotic_frequency</th>\n",
       "      <td>Regularly</td>\n",
       "    </tr>\n",
       "    <tr>\n",
       "      <th>NUT_red_meat_frequency</th>\n",
       "      <td>Rarely</td>\n",
       "    </tr>\n",
       "    <tr>\n",
       "      <th>NUT_salted_snacks_frequency</th>\n",
       "      <td>Rarely</td>\n",
       "    </tr>\n",
       "    <tr>\n",
       "      <th>NUT_seafood_frequency</th>\n",
       "      <td>Occasionally</td>\n",
       "    </tr>\n",
       "    <tr>\n",
       "      <th>NUT_sugary_sweets_frequency</th>\n",
       "      <td>Occasionally</td>\n",
       "    </tr>\n",
       "    <tr>\n",
       "      <th>NUT_vegetable_frequency</th>\n",
       "      <td>Occasionally</td>\n",
       "    </tr>\n",
       "    <tr>\n",
       "      <th>NUT_vitamin_b_supplement_frequency</th>\n",
       "      <td>Never</td>\n",
       "    </tr>\n",
       "    <tr>\n",
       "      <th>NUT_vitamin_d_supplement_frequency</th>\n",
       "      <td>Never</td>\n",
       "    </tr>\n",
       "    <tr>\n",
       "      <th>NUT_whole_eggs</th>\n",
       "      <td>Never</td>\n",
       "    </tr>\n",
       "    <tr>\n",
       "      <th>NUT_whole_grain_frequency</th>\n",
       "      <td>Regularly</td>\n",
       "    </tr>\n",
       "  </tbody>\n",
       "</table>\n",
       "</div>"
      ],
      "text/plain": [
       "                                                                                      72\n",
       "sampleid                                                                    10317.000053\n",
       "GEN_age_cat                                                                 Not provided\n",
       "GEN_age_corrected                                                                    NaN\n",
       "GEN_bmi_cat                                                                 Not provided\n",
       "GEN_bmi_corrected                                                                    NaN\n",
       "GEN_cat                                                                            False\n",
       "GEN_collection_timestamp                                             2016-07-26 15:30:00\n",
       "GEN_country                                                               United Kingdom\n",
       "GEN_dog                                                                            False\n",
       "GEN_elevation                                                                       10.8\n",
       "GEN_geo_loc_name                                                  United Kingdom:England\n",
       "GEN_height_cm                                                                     1800.0\n",
       "GEN_host_common_name                                                               human\n",
       "GEN_last_move                          I have lived in my current state of residence ...\n",
       "GEN_last_travel                                                                   1 year\n",
       "GEN_latitude                                                                        51.5\n",
       "GEN_level_of_education                                   Graduate or Professional degree\n",
       "GEN_longitude                                                                       -0.1\n",
       "GEN_race                                                                       Caucasian\n",
       "GEN_sample_type                                                                    Stool\n",
       "GEN_sex                                                                             Male\n",
       "GEN_weight_kg                                                                       75.0\n",
       "NUT_alcohol_consumption                                                             True\n",
       "NUT_alcohol_frequency                                                          Regularly\n",
       "NUT_alcohol_types_beercider                                                        False\n",
       "NUT_alcohol_types_red_wine                                                          True\n",
       "NUT_alcohol_types_sour_beers                                                       False\n",
       "NUT_alcohol_types_spiritshard_alcohol                                              False\n",
       "NUT_alcohol_types_unspecified                                                      False\n",
       "NUT_alcohol_types_white_wine                                                       False\n",
       "NUT_artificial_sweeteners                                                          Never\n",
       "NUT_diet_type                                                                   Omnivore\n",
       "NUT_drinks_per_session                                                      Not provided\n",
       "NUT_fed_as_infant                                   A mixture of breast milk and formula\n",
       "NUT_fermented_plant_frequency                                                      Never\n",
       "NUT_frozen_dessert_frequency                                                      Rarely\n",
       "NUT_fruit_frequency                                                         Occasionally\n",
       "NUT_gluten                                                                            No\n",
       "NUT_high_fat_red_meat_frequency                                                    Never\n",
       "NUT_homecooked_meals_frequency                                                     Never\n",
       "NUT_lowgrain_diet_type                                                             False\n",
       "NUT_meat_eggs_frequency                                                     Occasionally\n",
       "NUT_milk_cheese_frequency                                                   Occasionally\n",
       "NUT_milk_substitute_frequency                                                  Regularly\n",
       "NUT_olive_oil                                                                     Rarely\n",
       "NUT_poultry_frequency                                                       Occasionally\n",
       "NUT_prepared_meals_frequency                                                   Regularly\n",
       "NUT_probiotic_frequency                                                        Regularly\n",
       "NUT_red_meat_frequency                                                            Rarely\n",
       "NUT_salted_snacks_frequency                                                       Rarely\n",
       "NUT_seafood_frequency                                                       Occasionally\n",
       "NUT_sugary_sweets_frequency                                                 Occasionally\n",
       "NUT_vegetable_frequency                                                     Occasionally\n",
       "NUT_vitamin_b_supplement_frequency                                                 Never\n",
       "NUT_vitamin_d_supplement_frequency                                                 Never\n",
       "NUT_whole_eggs                                                                     Never\n",
       "NUT_whole_grain_frequency                                                      Regularly"
      ]
     },
     "execution_count": 26,
     "metadata": {},
     "output_type": "execute_result"
    }
   ],
   "source": [
    "I=df_meta['GEN_height_cm'].max()\n",
    "df_meta.loc[df_meta['GEN_height_cm'] == I].transpose()"
   ]
  },
  {
   "cell_type": "markdown",
   "id": "a0a761c7-9d8a-455c-afbd-fb72c4765b20",
   "metadata": {},
   "source": [
    "<a id='clean_data'></a>\n",
    "## 3. Clean meta data"
   ]
  },
  {
   "cell_type": "markdown",
   "id": "799cd5a6-ce9b-4c26-84d4-572c54e66eff",
   "metadata": {},
   "source": [
    "Sample 10317.000053 is an outlier in the Height Distribution as he is 1800 cm height. (recording error and take out the sample of following analysis?)\n",
    "We filtered out Samples with height larger than 300 cm."
   ]
  },
  {
   "cell_type": "code",
   "execution_count": 27,
   "id": "47d5946a-9bcd-4b1b-bcaa-0d3ffe418860",
   "metadata": {},
   "outputs": [],
   "source": [
    "df_meta_clean = df_meta[df_meta.GEN_height_cm < 300]"
   ]
  },
  {
   "cell_type": "code",
   "execution_count": 28,
   "id": "db48783f-93d0-4dd2-a9ee-5e44e2c1c4d1",
   "metadata": {},
   "outputs": [
    {
     "data": {
      "image/png": "[encoded data removed]",
      "text/plain": [
       "<Figure size 432x432 with 1 Axes>"
      ]
     },
     "metadata": {},
     "output_type": "display_data"
    }
   ],
   "source": [
    "plt.hist('GEN_height_cm', data=df_meta_clean)\n",
    "plt.ylabel('Count')\n",
    "plt.xlabel('Height_cm')\n",
    "plt.title('Height Distribution')\n",
    "plt.grid(True)\n",
    "plt.show()"
   ]
  },
  {
   "cell_type": "code",
   "execution_count": 29,
   "id": "f80ddc23-f94f-4fd6-a2a9-4dbddc83b8fe",
   "metadata": {},
   "outputs": [
    {
     "data": {
      "text/plain": [
       "(514, 57)"
      ]
     },
     "execution_count": 29,
     "metadata": {},
     "output_type": "execute_result"
    }
   ],
   "source": [
    "df_meta_clean.shape"
   ]
  },
  {
   "cell_type": "code",
   "execution_count": 30,
   "id": "bca4c7b7-e8c1-405e-b5ca-4dd5e78796e3",
   "metadata": {},
   "outputs": [
    {
     "data": {
      "image/png": "[encoded data removed]",
      "text/plain": [
       "<Figure size 432x432 with 1 Axes>"
      ]
     },
     "metadata": {},
     "output_type": "display_data"
    }
   ],
   "source": [
    "plt.hist('GEN_weight_kg', data=df_meta_clean)\n",
    "plt.ylabel('Count')\n",
    "plt.xlabel('Weight_kg')\n",
    "plt.title('Weight Distribution')\n",
    "plt.grid(True)\n",
    "plt.show()"
   ]
  },
  {
   "cell_type": "code",
   "execution_count": 31,
   "id": "d50f5410-f033-4452-bdbb-00d71fa09c9a",
   "metadata": {},
   "outputs": [
    {
     "data": {
      "text/plain": [
       "Graduate or Professional degree         229\n",
       "Bachelor's degree                       121\n",
       "Some college or technical school         75\n",
       "Some graduate school or professional     29\n",
       "High School or GED equilivant            20\n",
       "Not provided                             18\n",
       "Did not complete high school             13\n",
       "Associate's degree                        9\n",
       "Name: GEN_level_of_education, dtype: int64"
      ]
     },
     "execution_count": 31,
     "metadata": {},
     "output_type": "execute_result"
    }
   ],
   "source": [
    "df_meta_clean['GEN_level_of_education'].value_counts()"
   ]
  },
  {
   "cell_type": "markdown",
   "id": "2975007c-0ba2-44ef-b86d-c112b2c1f01e",
   "metadata": {},
   "source": [
    "<a id='statistics'></a>\n",
    "## 4. Check statistics of the general data\n",
    "\n",
    "Work only with GEN data, NUT data is explored in Eating_hbits file"
   ]
  },
  {
   "cell_type": "code",
   "execution_count": 32,
   "id": "53a07204-ce70-420e-bda5-e012cca0558e",
   "metadata": {},
   "outputs": [
    {
     "data": {
      "text/html": [
       "<div>\n",
       "<style scoped>\n",
       "    .dataframe tbody tr th:only-of-type {\n",
       "        vertical-align: middle;\n",
       "    }\n",
       "\n",
       "    .dataframe tbody tr th {\n",
       "        vertical-align: top;\n",
       "    }\n",
       "\n",
       "    .dataframe thead th {\n",
       "        text-align: right;\n",
       "    }\n",
       "</style>\n",
       "<table border=\"1\" class=\"dataframe\">\n",
       "  <thead>\n",
       "    <tr style=\"text-align: right;\">\n",
       "      <th></th>\n",
       "      <th>GEN_age_cat</th>\n",
       "      <th>GEN_age_corrected</th>\n",
       "      <th>GEN_bmi_cat</th>\n",
       "      <th>GEN_bmi_corrected</th>\n",
       "      <th>GEN_cat</th>\n",
       "      <th>GEN_collection_timestamp</th>\n",
       "      <th>GEN_country</th>\n",
       "      <th>GEN_dog</th>\n",
       "      <th>GEN_elevation</th>\n",
       "      <th>GEN_geo_loc_name</th>\n",
       "      <th>...</th>\n",
       "      <th>GEN_host_common_name</th>\n",
       "      <th>GEN_last_move</th>\n",
       "      <th>GEN_last_travel</th>\n",
       "      <th>GEN_latitude</th>\n",
       "      <th>GEN_level_of_education</th>\n",
       "      <th>GEN_longitude</th>\n",
       "      <th>GEN_race</th>\n",
       "      <th>GEN_sample_type</th>\n",
       "      <th>GEN_sex</th>\n",
       "      <th>GEN_weight_kg</th>\n",
       "    </tr>\n",
       "  </thead>\n",
       "  <tbody>\n",
       "    <tr>\n",
       "      <th>0</th>\n",
       "      <td>20s</td>\n",
       "      <td>20.0</td>\n",
       "      <td>Normal</td>\n",
       "      <td>23.75</td>\n",
       "      <td>False</td>\n",
       "      <td>2016-08-25 18:30:00</td>\n",
       "      <td>USA</td>\n",
       "      <td>True</td>\n",
       "      <td>1919.3</td>\n",
       "      <td>USA:CO</td>\n",
       "      <td>...</td>\n",
       "      <td>human</td>\n",
       "      <td>I have lived in my current state of residence ...</td>\n",
       "      <td>1 year</td>\n",
       "      <td>39.5</td>\n",
       "      <td>Some college or technical school</td>\n",
       "      <td>-105.1</td>\n",
       "      <td>Caucasian</td>\n",
       "      <td>Stool</td>\n",
       "      <td>Male</td>\n",
       "      <td>86.0</td>\n",
       "    </tr>\n",
       "    <tr>\n",
       "      <th>1</th>\n",
       "      <td>Not provided</td>\n",
       "      <td>NaN</td>\n",
       "      <td>Overweight</td>\n",
       "      <td>25.61</td>\n",
       "      <td>False</td>\n",
       "      <td>2016-07-06 09:00:00</td>\n",
       "      <td>United Kingdom</td>\n",
       "      <td>False</td>\n",
       "      <td>65.5</td>\n",
       "      <td>United Kingdom:England</td>\n",
       "      <td>...</td>\n",
       "      <td>human</td>\n",
       "      <td>I have lived in my current state of residence ...</td>\n",
       "      <td>1 year</td>\n",
       "      <td>50.2</td>\n",
       "      <td>Some graduate school or professional</td>\n",
       "      <td>-5.5</td>\n",
       "      <td>Caucasian</td>\n",
       "      <td>Stool</td>\n",
       "      <td>Female</td>\n",
       "      <td>63.0</td>\n",
       "    </tr>\n",
       "    <tr>\n",
       "      <th>2</th>\n",
       "      <td>30s</td>\n",
       "      <td>39.0</td>\n",
       "      <td>Overweight</td>\n",
       "      <td>27.67</td>\n",
       "      <td>False</td>\n",
       "      <td>2016-06-29 09:30:00</td>\n",
       "      <td>United Kingdom</td>\n",
       "      <td>False</td>\n",
       "      <td>44.5</td>\n",
       "      <td>United Kingdom:England</td>\n",
       "      <td>...</td>\n",
       "      <td>human</td>\n",
       "      <td>I have lived in my current state of residence ...</td>\n",
       "      <td>Month</td>\n",
       "      <td>53.4</td>\n",
       "      <td>Not provided</td>\n",
       "      <td>-2.3</td>\n",
       "      <td>Caucasian</td>\n",
       "      <td>Stool</td>\n",
       "      <td>Male</td>\n",
       "      <td>90.0</td>\n",
       "    </tr>\n",
       "    <tr>\n",
       "      <th>3</th>\n",
       "      <td>50s</td>\n",
       "      <td>56.0</td>\n",
       "      <td>Normal</td>\n",
       "      <td>19.71</td>\n",
       "      <td>False</td>\n",
       "      <td>2016-07-12 17:30:00</td>\n",
       "      <td>Germany</td>\n",
       "      <td>False</td>\n",
       "      <td>8.7</td>\n",
       "      <td>Germany:HH</td>\n",
       "      <td>...</td>\n",
       "      <td>human</td>\n",
       "      <td>I have lived in my current state of residence ...</td>\n",
       "      <td>1 year</td>\n",
       "      <td>53.6</td>\n",
       "      <td>Graduate or Professional degree</td>\n",
       "      <td>10.0</td>\n",
       "      <td>Caucasian</td>\n",
       "      <td>Stool</td>\n",
       "      <td>Female</td>\n",
       "      <td>53.0</td>\n",
       "    </tr>\n",
       "    <tr>\n",
       "      <th>4</th>\n",
       "      <td>40s</td>\n",
       "      <td>45.0</td>\n",
       "      <td>Normal</td>\n",
       "      <td>23.15</td>\n",
       "      <td>False</td>\n",
       "      <td>2016-05-24 19:00:00</td>\n",
       "      <td>United Kingdom</td>\n",
       "      <td>True</td>\n",
       "      <td>68.8</td>\n",
       "      <td>United Kingdom:Unspecified</td>\n",
       "      <td>...</td>\n",
       "      <td>human</td>\n",
       "      <td>I have lived in my current state of residence ...</td>\n",
       "      <td>6 months</td>\n",
       "      <td>52.7</td>\n",
       "      <td>High School or GED equilivant</td>\n",
       "      <td>-1.2</td>\n",
       "      <td>Caucasian</td>\n",
       "      <td>Stool</td>\n",
       "      <td>Female</td>\n",
       "      <td>60.0</td>\n",
       "    </tr>\n",
       "  </tbody>\n",
       "</table>\n",
       "<p>5 rows × 21 columns</p>\n",
       "</div>"
      ],
      "text/plain": [
       "    GEN_age_cat  GEN_age_corrected GEN_bmi_cat  GEN_bmi_corrected  GEN_cat  \\\n",
       "0           20s               20.0      Normal              23.75    False   \n",
       "1  Not provided                NaN  Overweight              25.61    False   \n",
       "2           30s               39.0  Overweight              27.67    False   \n",
       "3           50s               56.0      Normal              19.71    False   \n",
       "4           40s               45.0      Normal              23.15    False   \n",
       "\n",
       "  GEN_collection_timestamp     GEN_country  GEN_dog  GEN_elevation  \\\n",
       "0      2016-08-25 18:30:00             USA     True         1919.3   \n",
       "1      2016-07-06 09:00:00  United Kingdom    False           65.5   \n",
       "2      2016-06-29 09:30:00  United Kingdom    False           44.5   \n",
       "3      2016-07-12 17:30:00         Germany    False            8.7   \n",
       "4      2016-05-24 19:00:00  United Kingdom     True           68.8   \n",
       "\n",
       "             GEN_geo_loc_name  ...  GEN_host_common_name  \\\n",
       "0                      USA:CO  ...                 human   \n",
       "1      United Kingdom:England  ...                 human   \n",
       "2      United Kingdom:England  ...                 human   \n",
       "3                  Germany:HH  ...                 human   \n",
       "4  United Kingdom:Unspecified  ...                 human   \n",
       "\n",
       "                                       GEN_last_move GEN_last_travel  \\\n",
       "0  I have lived in my current state of residence ...          1 year   \n",
       "1  I have lived in my current state of residence ...          1 year   \n",
       "2  I have lived in my current state of residence ...           Month   \n",
       "3  I have lived in my current state of residence ...          1 year   \n",
       "4  I have lived in my current state of residence ...        6 months   \n",
       "\n",
       "  GEN_latitude                GEN_level_of_education GEN_longitude   GEN_race  \\\n",
       "0         39.5      Some college or technical school        -105.1  Caucasian   \n",
       "1         50.2  Some graduate school or professional          -5.5  Caucasian   \n",
       "2         53.4                          Not provided          -2.3  Caucasian   \n",
       "3         53.6       Graduate or Professional degree          10.0  Caucasian   \n",
       "4         52.7         High School or GED equilivant          -1.2  Caucasian   \n",
       "\n",
       "  GEN_sample_type GEN_sex GEN_weight_kg  \n",
       "0           Stool    Male          86.0  \n",
       "1           Stool  Female          63.0  \n",
       "2           Stool    Male          90.0  \n",
       "3           Stool  Female          53.0  \n",
       "4           Stool  Female          60.0  \n",
       "\n",
       "[5 rows x 21 columns]"
      ]
     },
     "execution_count": 32,
     "metadata": {},
     "output_type": "execute_result"
    }
   ],
   "source": [
    "names=df_meta.columns\n",
    "GEN_INDEX = names[df_meta.columns.str.contains('GEN')]\n",
    "\n",
    "df_GEN = df_meta[GEN_INDEX]\n",
    "df_GEN.head()"
   ]
  },
  {
   "cell_type": "code",
   "execution_count": 33,
   "id": "d8519b60-41ca-4b49-8b16-4429fd229382",
   "metadata": {},
   "outputs": [
    {
     "data": {
      "text/plain": [
       "(523, 21)"
      ]
     },
     "execution_count": 33,
     "metadata": {},
     "output_type": "execute_result"
    }
   ],
   "source": [
    "df_GEN.shape"
   ]
  },
  {
   "cell_type": "code",
   "execution_count": 34,
   "id": "a051401b-2b77-41f5-8986-7bddf7e0627e",
   "metadata": {},
   "outputs": [
    {
     "data": {
      "text/plain": [
       "['GEN_age_cat',\n",
       " 'GEN_age_corrected',\n",
       " 'GEN_bmi_cat',\n",
       " 'GEN_bmi_corrected',\n",
       " 'GEN_cat',\n",
       " 'GEN_collection_timestamp',\n",
       " 'GEN_country',\n",
       " 'GEN_dog',\n",
       " 'GEN_elevation',\n",
       " 'GEN_geo_loc_name',\n",
       " 'GEN_height_cm',\n",
       " 'GEN_host_common_name',\n",
       " 'GEN_last_move',\n",
       " 'GEN_last_travel',\n",
       " 'GEN_latitude',\n",
       " 'GEN_level_of_education',\n",
       " 'GEN_longitude',\n",
       " 'GEN_race',\n",
       " 'GEN_sample_type',\n",
       " 'GEN_sex',\n",
       " 'GEN_weight_kg']"
      ]
     },
     "execution_count": 34,
     "metadata": {},
     "output_type": "execute_result"
    }
   ],
   "source": [
    "df_GEN.columns.tolist()"
   ]
  },
  {
   "cell_type": "code",
   "execution_count": 35,
   "id": "255c5637-3040-4e27-a7c1-34927fdc2624",
   "metadata": {},
   "outputs": [
    {
     "data": {
      "text/plain": [
       "GEN_age_cat                  object\n",
       "GEN_age_corrected           float64\n",
       "GEN_bmi_cat                  object\n",
       "GEN_bmi_corrected           float64\n",
       "GEN_cat                        bool\n",
       "GEN_collection_timestamp     object\n",
       "GEN_country                  object\n",
       "GEN_dog                        bool\n",
       "GEN_elevation               float64\n",
       "GEN_geo_loc_name             object\n",
       "GEN_height_cm               float64\n",
       "GEN_host_common_name         object\n",
       "GEN_last_move                object\n",
       "GEN_last_travel              object\n",
       "GEN_latitude                float64\n",
       "GEN_level_of_education       object\n",
       "GEN_longitude               float64\n",
       "GEN_race                     object\n",
       "GEN_sample_type              object\n",
       "GEN_sex                      object\n",
       "GEN_weight_kg               float64\n",
       "dtype: object"
      ]
     },
     "execution_count": 35,
     "metadata": {},
     "output_type": "execute_result"
    }
   ],
   "source": [
    "df_GEN.dtypes"
   ]
  },
  {
   "cell_type": "markdown",
   "id": "74a6adbb-a9c5-43fd-8e02-9c470d910d70",
   "metadata": {},
   "source": [
    "To investigate statistics of the data split the data frame into columns which contain categroical data \"df_GEN_cat\" and continuous data \"df_GEN_cont\"."
   ]
  },
  {
   "cell_type": "code",
   "execution_count": 36,
   "id": "b6f0c137-e89f-4b20-a773-4de55aee8120",
   "metadata": {},
   "outputs": [],
   "source": [
    "df_GEN_cont = df_GEN.select_dtypes(include=['float64'])\n",
    "df_GEN_cat = df_GEN.select_dtypes(include=['object'])"
   ]
  },
  {
   "cell_type": "code",
   "execution_count": 37,
   "id": "5c29399f-2ac0-4637-8044-88c375bdd7bd",
   "metadata": {},
   "outputs": [
    {
     "data": {
      "text/html": [
       "<div>\n",
       "<style scoped>\n",
       "    .dataframe tbody tr th:only-of-type {\n",
       "        vertical-align: middle;\n",
       "    }\n",
       "\n",
       "    .dataframe tbody tr th {\n",
       "        vertical-align: top;\n",
       "    }\n",
       "\n",
       "    .dataframe thead th {\n",
       "        text-align: right;\n",
       "    }\n",
       "</style>\n",
       "<table border=\"1\" class=\"dataframe\">\n",
       "  <thead>\n",
       "    <tr style=\"text-align: right;\">\n",
       "      <th></th>\n",
       "      <th>GEN_age_corrected</th>\n",
       "      <th>GEN_bmi_corrected</th>\n",
       "      <th>GEN_elevation</th>\n",
       "      <th>GEN_height_cm</th>\n",
       "      <th>GEN_latitude</th>\n",
       "      <th>GEN_longitude</th>\n",
       "      <th>GEN_weight_kg</th>\n",
       "    </tr>\n",
       "  </thead>\n",
       "  <tbody>\n",
       "    <tr>\n",
       "      <th>count</th>\n",
       "      <td>492.000000</td>\n",
       "      <td>508.000000</td>\n",
       "      <td>488.000000</td>\n",
       "      <td>517.000000</td>\n",
       "      <td>488.000000</td>\n",
       "      <td>488.000000</td>\n",
       "      <td>518.000000</td>\n",
       "    </tr>\n",
       "    <tr>\n",
       "      <th>mean</th>\n",
       "      <td>47.483740</td>\n",
       "      <td>24.124213</td>\n",
       "      <td>155.914754</td>\n",
       "      <td>174.615087</td>\n",
       "      <td>44.828689</td>\n",
       "      <td>-47.063320</td>\n",
       "      <td>69.685328</td>\n",
       "    </tr>\n",
       "    <tr>\n",
       "      <th>std</th>\n",
       "      <td>15.798816</td>\n",
       "      <td>4.894094</td>\n",
       "      <td>327.503281</td>\n",
       "      <td>98.850353</td>\n",
       "      <td>9.959122</td>\n",
       "      <td>54.179516</td>\n",
       "      <td>19.566368</td>\n",
       "    </tr>\n",
       "    <tr>\n",
       "      <th>min</th>\n",
       "      <td>3.000000</td>\n",
       "      <td>11.200000</td>\n",
       "      <td>-0.900000</td>\n",
       "      <td>15.000000</td>\n",
       "      <td>-43.000000</td>\n",
       "      <td>-157.800000</td>\n",
       "      <td>3.000000</td>\n",
       "    </tr>\n",
       "    <tr>\n",
       "      <th>25%</th>\n",
       "      <td>37.000000</td>\n",
       "      <td>20.800000</td>\n",
       "      <td>25.200000</td>\n",
       "      <td>162.000000</td>\n",
       "      <td>38.900000</td>\n",
       "      <td>-101.100000</td>\n",
       "      <td>58.000000</td>\n",
       "    </tr>\n",
       "    <tr>\n",
       "      <th>50%</th>\n",
       "      <td>49.000000</td>\n",
       "      <td>23.505000</td>\n",
       "      <td>60.100000</td>\n",
       "      <td>170.000000</td>\n",
       "      <td>49.500000</td>\n",
       "      <td>-3.600000</td>\n",
       "      <td>69.000000</td>\n",
       "    </tr>\n",
       "    <tr>\n",
       "      <th>75%</th>\n",
       "      <td>59.000000</td>\n",
       "      <td>26.545000</td>\n",
       "      <td>127.425000</td>\n",
       "      <td>178.000000</td>\n",
       "      <td>51.600000</td>\n",
       "      <td>-0.600000</td>\n",
       "      <td>81.000000</td>\n",
       "    </tr>\n",
       "    <tr>\n",
       "      <th>max</th>\n",
       "      <td>81.000000</td>\n",
       "      <td>49.190000</td>\n",
       "      <td>2864.300000</td>\n",
       "      <td>1800.000000</td>\n",
       "      <td>57.500000</td>\n",
       "      <td>153.000000</td>\n",
       "      <td>175.000000</td>\n",
       "    </tr>\n",
       "  </tbody>\n",
       "</table>\n",
       "</div>"
      ],
      "text/plain": [
       "       GEN_age_corrected  GEN_bmi_corrected  GEN_elevation  GEN_height_cm  \\\n",
       "count         492.000000         508.000000     488.000000     517.000000   \n",
       "mean           47.483740          24.124213     155.914754     174.615087   \n",
       "std            15.798816           4.894094     327.503281      98.850353   \n",
       "min             3.000000          11.200000      -0.900000      15.000000   \n",
       "25%            37.000000          20.800000      25.200000     162.000000   \n",
       "50%            49.000000          23.505000      60.100000     170.000000   \n",
       "75%            59.000000          26.545000     127.425000     178.000000   \n",
       "max            81.000000          49.190000    2864.300000    1800.000000   \n",
       "\n",
       "       GEN_latitude  GEN_longitude  GEN_weight_kg  \n",
       "count    488.000000     488.000000     518.000000  \n",
       "mean      44.828689     -47.063320      69.685328  \n",
       "std        9.959122      54.179516      19.566368  \n",
       "min      -43.000000    -157.800000       3.000000  \n",
       "25%       38.900000    -101.100000      58.000000  \n",
       "50%       49.500000      -3.600000      69.000000  \n",
       "75%       51.600000      -0.600000      81.000000  \n",
       "max       57.500000     153.000000     175.000000  "
      ]
     },
     "execution_count": 37,
     "metadata": {},
     "output_type": "execute_result"
    }
   ],
   "source": [
    "df_GEN_cont.describe()"
   ]
  },
  {
   "cell_type": "code",
   "execution_count": 38,
   "id": "675cab1b-4719-406c-967f-0b2c6e341263",
   "metadata": {},
   "outputs": [
    {
     "data": {
      "text/html": [
       "<div>\n",
       "<style scoped>\n",
       "    .dataframe tbody tr th:only-of-type {\n",
       "        vertical-align: middle;\n",
       "    }\n",
       "\n",
       "    .dataframe tbody tr th {\n",
       "        vertical-align: top;\n",
       "    }\n",
       "\n",
       "    .dataframe thead th {\n",
       "        text-align: right;\n",
       "    }\n",
       "</style>\n",
       "<table border=\"1\" class=\"dataframe\">\n",
       "  <thead>\n",
       "    <tr style=\"text-align: right;\">\n",
       "      <th></th>\n",
       "      <th>GEN_age_cat</th>\n",
       "      <th>GEN_bmi_cat</th>\n",
       "      <th>GEN_collection_timestamp</th>\n",
       "      <th>GEN_country</th>\n",
       "      <th>GEN_geo_loc_name</th>\n",
       "      <th>GEN_host_common_name</th>\n",
       "      <th>GEN_last_move</th>\n",
       "      <th>GEN_last_travel</th>\n",
       "      <th>GEN_level_of_education</th>\n",
       "      <th>GEN_race</th>\n",
       "      <th>GEN_sample_type</th>\n",
       "      <th>GEN_sex</th>\n",
       "    </tr>\n",
       "  </thead>\n",
       "  <tbody>\n",
       "    <tr>\n",
       "      <th>count</th>\n",
       "      <td>523</td>\n",
       "      <td>523</td>\n",
       "      <td>523</td>\n",
       "      <td>523</td>\n",
       "      <td>523</td>\n",
       "      <td>523</td>\n",
       "      <td>523</td>\n",
       "      <td>523</td>\n",
       "      <td>523</td>\n",
       "      <td>523</td>\n",
       "      <td>523</td>\n",
       "      <td>523</td>\n",
       "    </tr>\n",
       "    <tr>\n",
       "      <th>unique</th>\n",
       "      <td>9</td>\n",
       "      <td>5</td>\n",
       "      <td>505</td>\n",
       "      <td>17</td>\n",
       "      <td>62</td>\n",
       "      <td>1</td>\n",
       "      <td>6</td>\n",
       "      <td>6</td>\n",
       "      <td>8</td>\n",
       "      <td>6</td>\n",
       "      <td>1</td>\n",
       "      <td>4</td>\n",
       "    </tr>\n",
       "    <tr>\n",
       "      <th>top</th>\n",
       "      <td>50s</td>\n",
       "      <td>Normal</td>\n",
       "      <td>2016-08-01 08:00:00</td>\n",
       "      <td>United Kingdom</td>\n",
       "      <td>United Kingdom:England</td>\n",
       "      <td>human</td>\n",
       "      <td>I have lived in my current state of residence ...</td>\n",
       "      <td>I have not been outside of my country of resid...</td>\n",
       "      <td>Graduate or Professional degree</td>\n",
       "      <td>Caucasian</td>\n",
       "      <td>Stool</td>\n",
       "      <td>Female</td>\n",
       "    </tr>\n",
       "    <tr>\n",
       "      <th>freq</th>\n",
       "      <td>121</td>\n",
       "      <td>274</td>\n",
       "      <td>5</td>\n",
       "      <td>255</td>\n",
       "      <td>169</td>\n",
       "      <td>523</td>\n",
       "      <td>475</td>\n",
       "      <td>168</td>\n",
       "      <td>232</td>\n",
       "      <td>474</td>\n",
       "      <td>523</td>\n",
       "      <td>300</td>\n",
       "    </tr>\n",
       "  </tbody>\n",
       "</table>\n",
       "</div>"
      ],
      "text/plain": [
       "       GEN_age_cat GEN_bmi_cat GEN_collection_timestamp     GEN_country  \\\n",
       "count          523         523                      523             523   \n",
       "unique           9           5                      505              17   \n",
       "top            50s      Normal      2016-08-01 08:00:00  United Kingdom   \n",
       "freq           121         274                        5             255   \n",
       "\n",
       "              GEN_geo_loc_name GEN_host_common_name  \\\n",
       "count                      523                  523   \n",
       "unique                      62                    1   \n",
       "top     United Kingdom:England                human   \n",
       "freq                       169                  523   \n",
       "\n",
       "                                            GEN_last_move  \\\n",
       "count                                                 523   \n",
       "unique                                                  6   \n",
       "top     I have lived in my current state of residence ...   \n",
       "freq                                                  475   \n",
       "\n",
       "                                          GEN_last_travel  \\\n",
       "count                                                 523   \n",
       "unique                                                  6   \n",
       "top     I have not been outside of my country of resid...   \n",
       "freq                                                  168   \n",
       "\n",
       "                 GEN_level_of_education   GEN_race GEN_sample_type GEN_sex  \n",
       "count                               523        523             523     523  \n",
       "unique                                8          6               1       4  \n",
       "top     Graduate or Professional degree  Caucasian           Stool  Female  \n",
       "freq                                232        474             523     300  "
      ]
     },
     "execution_count": 38,
     "metadata": {},
     "output_type": "execute_result"
    }
   ],
   "source": [
    "df_GEN_cat.describe()"
   ]
  },
  {
   "cell_type": "markdown",
   "id": "4948f5cd-22df-4587-af7f-2b0f991da739",
   "metadata": {},
   "source": [
    "Save the cleaned meta data for furhter data analysis."
   ]
  },
  {
   "cell_type": "code",
   "execution_count": 37,
   "id": "93ed94c5-318b-49fc-86bb-36aef1ea7dc0",
   "metadata": {},
   "outputs": [],
   "source": [
    "#df_meta_clean.to_csv(f'{data_dir}/cleaned_sample_meta_data.tsv', sep='\\t')"
   ]
  },
  {
   "cell_type": "markdown",
   "id": "89044068-b4b7-4332-963c-2554b36c7a45",
   "metadata": {},
   "source": [
    "<a id='note'></a>\n",
    "# Note\n",
    "\n",
    "1. Since we were not able to clean the sequence data we continued working with the orginial metadata and not cleaned meta data. The statistical tests which were chosen for the subsequent analysis are stable against outliers.\n",
    "\n",
    "2. The plot which are to be presented are generated using seaborn, the rest were generated from the matplotlib and pandas package. "
   ]
  }
 ],
 "metadata": {
  "kernelspec": {
   "display_name": "Python 3 (ipykernel)",
   "language": "python",
   "name": "python3"
  },
  "language_info": {
   "codemirror_mode": {
    "name": "ipython",
    "version": 3
   },
   "file_extension": ".py",
   "mimetype": "text/x-python",
   "name": "python",
   "nbconvert_exporter": "python",
   "pygments_lexer": "ipython3",
   "version": "3.8.13"
  }
 },
 "nbformat": 4,
 "nbformat_minor": 5
}
