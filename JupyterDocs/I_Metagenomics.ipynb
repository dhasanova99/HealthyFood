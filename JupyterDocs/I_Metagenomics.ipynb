{
 "cells": [
  {
   "cell_type": "markdown",
   "id": "150d84cf",
   "metadata": {
    "execution": {
     "iopub.execute_input": "2021-10-01T10:31:55.394646Z",
     "iopub.status.busy": "2021-10-01T10:31:55.393848Z",
     "iopub.status.idle": "2021-10-01T10:31:55.402993Z",
     "shell.execute_reply": "2021-10-01T10:31:55.401758Z",
     "shell.execute_reply.started": "2021-10-01T10:31:55.394573Z"
    }
   },
   "source": [
    "# Metagenomics\n",
    "\n",
    "This Jupyternotebook is focusing on the analysis of metagenomics datasets. \n",
    "Metagenomes allow us to get a glimpse into not only composition but also functional potential of microbial communities.\n",
    "\n",
    "We will use the PICRUST2 plugin to *infer metagenomic data* by mapping 16S rRNA gene sequences to their nearest matching whole genome sequences. For this, we will use a 16S rRNA gene dataset from the [ECAM study](https://www.science.org/doi/10.1126/scitranslmed.aad7121). We will then use this data to gain insights into functional potential of our community. PICRUST2 will generate for us feature tables containing abundance information about KEGG orthologs, enzymes and entire pathways which we can later compare between samples and conditions.\n",
    "\n",
    "**Notebook overview:**\n",
    "\n",
    "[0. Setup](#setup)<br>\n",
    "[1. Functional Inference](#picrust)<br>\n",
    "&nbsp;&nbsp;&nbsp;&nbsp;[1.1 Enriched KEGG orthologs](#ipath)<br>\n",
    "&nbsp;&nbsp;&nbsp;&nbsp;[1.2 Enriched pathways](#metacyc)<br>\n",
    "\n",
    "* **Note**: As discussed in class, a complete shotgun metagenome analysis involves many different steps, including genome assembly, binning, functional annotation, taxonomic annotation, *et cetera*. Compressing these steps into a single weekly exercise would not do them justice. Learning about these methods and their practical application would occupy an entire semester-long course! Various plugins in QIIME 2 support upstream analysis of shotgun metagenome data. Additionally, many of the downstream steps of shotgun analysis are the same as for amplicon datasets (e.g., diversity and other analyses). Hence, we use PICRUSt2 in this exercise so that (1) you can learn about inferring metagenome data from amplicon data; (2) add a neat tool to your amplicon sequencing \"toolbelt\" and (3) learn a little bit about the downstream analysis of metagenome data, while skipping many of the upstream steps.\n",
    "\n",
    "You can learn more about PICRUSt2 on its [GitHub wiki](https://github.com/picrust/picrust2/wiki), in [this tutorial](https://github.com/picrust/picrust2/wiki/q2-picrust2-Tutorial) and the [Nature Biotechnology article](https://doi.org/10.1038/s41587-020-0548-6)."
   ]
  },
  {
   "cell_type": "markdown",
   "id": "6ca7c2f6",
   "metadata": {},
   "source": [
    "<a id='setup'></a>\n",
    "## 0. Setup"
   ]
  },
  {
   "cell_type": "code",
   "execution_count": 1,
   "id": "0a3bcc7b",
   "metadata": {
    "tags": []
   },
   "outputs": [],
   "source": [
    "import os\n",
    "import pandas as pd\n",
    "import qiime2 as q2\n",
    "import requests\n",
    "\n",
    "from qiime2 import Visualization\n",
    "\n",
    "data_dir = 'w9_data'\n",
    "    \n",
    "%matplotlib inline"
   ]
  },
  {
   "cell_type": "code",
   "execution_count": 2,
   "id": "210739be",
   "metadata": {},
   "outputs": [],
   "source": [
    "def fetch_ipath(ids: list, img_output_path: str, verbose: bool = False):\n",
    "    \"\"\"Fetches a enriched pathways map from iPATH3 for given IDs.\"\"\"\n",
    "    url = 'https://pathways.embl.de/mapping.cgi'\n",
    "    \n",
    "    # remove colon from EC names\n",
    "    if ':' in ids[0]:\n",
    "        ids = [x.replace(':', '') for x in ids]\n",
    "    \n",
    "    if verbose:\n",
    "        print(f'Fetching iPATH3 diagram for ids: {ids}')\n",
    "    params = {\n",
    "        'default_opacity': 0.6,\n",
    "        'export_type': 'svg',\n",
    "        'selection': '\\n'.join(ids)\n",
    "    }   \n",
    "    response = requests.get(url=url, params=params)\n",
    "    \n",
    "    with open(img_output_path, 'wb') as img:\n",
    "        img.write(response.content)"
   ]
  },
  {
   "cell_type": "code",
   "execution_count": 3,
   "id": "1af03ced-2f86-4f4c-9d9f-09a9ba0a6059",
   "metadata": {},
   "outputs": [],
   "source": [
    "# path to the picrust2 conda environment - do not change!\n",
    "picrust_env = '/opt/conda/envs/picrust2/bin'"
   ]
  },
  {
   "cell_type": "markdown",
   "id": "ed5ba7be",
   "metadata": {},
   "source": [
    "<a id='picrust'></a>\n",
    "## 1. Functional inference\n",
    "\n",
    "As mentioned in the introduction, we are using Picrust 2 to simulate metagenome data from our 16S dataset. Execute the command below to run picrust2 - it will take approximately 30-40 minutes.\n",
    "\n",
    "**NOTE:** picrust2 QIIME 2 plugin is available in the `picrust2` conda environment. In order to use it in the bash cells in this notebook, we need to tell bash where it should look for picrust2's executable (by default it will only look in the default QIIME 2 conda environment). For this purpose we defined a new `picrust_env` variable in the cell above which contains the location of that environment. We can then use the `%%script` IPython magic to pass this variable to the bash commands below. This solution is only needed to run picrust2 in our JupyterHub environment; if running picrust2 anywhere outside of JupyterHub (e.g., locally on your computer), you would construct the command normally, and skip the `%%script` and `export` lines shown here."
   ]
  },
  {
   "cell_type": "code",
   "execution_count": 4,
   "id": "09f86b29",
   "metadata": {},
   "outputs": [
    {
     "name": "stderr",
     "output_type": "stream",
     "text": [
      "QIIME is caching your current deployment for improved performance. This may take a few moments and should only happen once per deployment.\n"
     ]
    },
    {
     "name": "stdout",
     "output_type": "stream",
     "text": [
      "Saved FeatureTable[Frequency] to: w9_data/picrust2_results/ko_metagenome.qza\n",
      "Saved FeatureTable[Frequency] to: w9_data/picrust2_results/ec_metagenome.qza\n",
      "Saved FeatureTable[Frequency] to: w9_data/picrust2_results/pathway_abundance.qza\n"
     ]
    }
   ],
   "source": [
    "%%script env picrust_env=\"$picrust_env\" data_dir=\"$data_dir\" bash\n",
    "\n",
    "# append the env location to PATH so that qiime\n",
    "# can find all required executables\n",
    "export PATH=$picrust_env:$PATH\n",
    "\n",
    "$picrust_env/qiime picrust2 full-pipeline \\\n",
    "    --i-seq $data_dir/rep-seqs.qza \\\n",
    "    --i-table $data_dir/rep-table.qza \\\n",
    "    --output-dir $data_dir/picrust2_results \\\n",
    "    --p-placement-tool sepp \\\n",
    "    --p-threads 2 \\\n",
    "    --p-hsp-method pic \\\n",
    "    --p-max-nsti 2 "
   ]
  },
  {
   "cell_type": "markdown",
   "id": "86634b05",
   "metadata": {},
   "source": [
    "In the `picrust2_results` subdirectory you should see 3 artifacts - all of them are of the `FeatureTable[Frequency]` semantic type and hold abundance information for various functional features:\n",
    "\n",
    "1. KO metagenome - abundances of [KEGG](https://www.kegg.jp) orthologs\n",
    "2. EC metagenome - abundance of enzymes (you could look some of them up [here](https://www.brenda-enzymes.org)\n",
    "3. MetaCyc pathways - abundance of [MetaCyc](https://metacyc.org) pathways\n",
    "\n",
    "These are essentially three different summaries of the same data: Picrust2 maps your amplicon sequences to a full genome reference database to infer metagenome composition of a community, and then summarizes this information according to the estimated abundances of (1) the orthologous genes, (2) the enzymes that they encode, and (3) the metabolic pathways that they belong to.\n",
    "\n",
    "Before we read those artifacts in, let's open the metadata file and have a look at the contents:"
   ]
  },
  {
   "cell_type": "code",
   "execution_count": 5,
   "id": "60ad1e2c",
   "metadata": {},
   "outputs": [],
   "source": [
    "metadata = pd.read_csv(f'{data_dir}/metadata.tsv', sep='\\t', header=0, index_col=0)"
   ]
  },
  {
   "cell_type": "markdown",
   "id": "4c8015c6",
   "metadata": {},
   "source": [
    "Let's look at the metadata briefly to see what kind of categories we have available:"
   ]
  },
  {
   "cell_type": "code",
   "execution_count": 6,
   "id": "efa10199",
   "metadata": {},
   "outputs": [
    {
     "name": "stdout",
     "output_type": "stream",
     "text": [
      "\u001b[33mQIIME is caching your current deployment for improved performance. This may take a few moments and should only happen once per deployment.\u001b[0m\n",
      "\u001b[32mSaved Visualization to: w9_data/metadata.qzv\u001b[0m\n",
      "\u001b[0m"
     ]
    }
   ],
   "source": [
    "! qiime metadata tabulate \\\n",
    "    --m-input-file $data_dir/metadata.tsv \\\n",
    "    --o-visualization $data_dir/metadata.qzv"
   ]
  },
  {
   "cell_type": "code",
   "execution_count": 7,
   "id": "4945c514",
   "metadata": {},
   "outputs": [
    {
     "data": {
      "text/html": [
       "<div><img onload=\"(function(div, url){\n",
       "if (typeof require !== 'undefined') {\n",
       "    var baseURL = require.toUrl('').split('/').slice(0, -2).join('/');\n",
       "} else {\n",
       "    var baseURL = JSON.parse(\n",
       "        document.getElementById('jupyter-config-data').innerHTML\n",
       "    ).baseUrl.slice(0, -1);\n",
       "}\n",
       "url = baseURL + url;\n",
       "fetch(url).then(function(res) {\n",
       "    if (res.status === 404) {\n",
       "        div.innerHTML = 'Install QIIME 2 Jupyter extension with:<br />' +\n",
       "                        '<code>jupyter serverextension enable --py qiime2' +\n",
       "                        ' --sys-prefix</code><br />then restart your server.' +\n",
       "                        '<br /><br />(Interactive output not available on ' +\n",
       "                        'static notebook viewer services like nbviewer.)';\n",
       "    } else if (res.status === 409) {\n",
       "        div.innerHTML = 'Visualization no longer in scope. Re-run this cell' +\n",
       "                        ' to see the visualization.';\n",
       "    } else if (res.ok) {\n",
       "        url = res.url;\n",
       "        div.innerHTML = '<iframe src=\\'' + url + '\\' style=\\'' +\n",
       "                        'width: 100%; height: 700px; border: 0;\\'>' +\n",
       "                        '</iframe><hr />Open in a: <a href=\\'' + url + '\\'' +\n",
       "                        ' target=\\'_blank\\'>new window</a>'\n",
       "    } else {\n",
       "        div.innerHTML = 'Something has gone wrong. Check notebook server for' +\n",
       "                        ' errors.';\n",
       "    }\n",
       "});\n",
       "})(this.parentElement, '/qiime2/redirect?location=/tmp/qiime2-archive-zbg86c7y')\" src=\"data:image/gif;base64,R0lGODlhAQABAIAAAP///wAAACH5BAEAAAAALAAAAAABAAEAAAICRAEAOw==\" /></div>"
      ],
      "text/plain": [
       "<visualization: Visualization uuid: 0747330f-0be2-42fe-950a-f5dccfb7d03b>"
      ]
     },
     "execution_count": 7,
     "metadata": {},
     "output_type": "execute_result"
    }
   ],
   "source": [
    "Visualization.load(f'{data_dir}/metadata.qzv')"
   ]
  },
  {
   "cell_type": "markdown",
   "id": "5990d77d",
   "metadata": {},
   "source": [
    "This dataset contains samples from both, mother and children. Let's first separate child samples based on the metadata column `mom_child` to look only at the samples from children:"
   ]
  },
  {
   "cell_type": "code",
   "execution_count": 8,
   "id": "68bc7b46",
   "metadata": {},
   "outputs": [
    {
     "name": "stdout",
     "output_type": "stream",
     "text": [
      "\u001b[32mSaved FeatureTable[Frequency] to: w9_data/picrust2_results/ko_metagenome_child.qza\u001b[0m\n",
      "\u001b[0m\u001b[32mSaved FeatureTable[Frequency] to: w9_data/picrust2_results/ec_metagenome_child.qza\u001b[0m\n",
      "\u001b[0m\u001b[32mSaved FeatureTable[Frequency] to: w9_data/picrust2_results/pathway_abundance_child.qza\u001b[0m\n",
      "\u001b[0m"
     ]
    }
   ],
   "source": [
    "! qiime feature-table filter-samples \\\n",
    "    --i-table $data_dir/picrust2_results/ko_metagenome.qza \\\n",
    "    --m-metadata-file $data_dir/metadata.tsv \\\n",
    "    --p-where \"[mom_or_child]='C'\" \\\n",
    "    --o-filtered-table $data_dir/picrust2_results/ko_metagenome_child.qza\n",
    "\n",
    "! qiime feature-table filter-samples \\\n",
    "    --i-table $data_dir/picrust2_results/ec_metagenome.qza \\\n",
    "    --m-metadata-file $data_dir/metadata.tsv \\\n",
    "    --p-where \"[mom_or_child]='C'\" \\\n",
    "    --o-filtered-table $data_dir/picrust2_results/ec_metagenome_child.qza\n",
    "\n",
    "! qiime feature-table filter-samples \\\n",
    "    --i-table $data_dir/picrust2_results/pathway_abundance.qza \\\n",
    "    --m-metadata-file $data_dir/metadata.tsv \\\n",
    "    --p-where \"[mom_or_child]='C'\" \\\n",
    "    --o-filtered-table $data_dir/picrust2_results/pathway_abundance_child.qza"
   ]
  },
  {
   "cell_type": "markdown",
   "id": "d27be17e",
   "metadata": {},
   "source": [
    "Now, we can read in all three artifacts using QIIME 2 Python API - we can view them as DataFrames:"
   ]
  },
  {
   "cell_type": "code",
   "execution_count": 9,
   "id": "f211bd88",
   "metadata": {},
   "outputs": [],
   "source": [
    "ko = q2.Artifact.load(f'{data_dir}/picrust2_results/ko_metagenome_child.qza').view(pd.DataFrame)\n",
    "ec = q2.Artifact.load(f'{data_dir}/picrust2_results/ec_metagenome_child.qza').view(pd.DataFrame)\n",
    "pa = q2.Artifact.load(f'{data_dir}/picrust2_results/pathway_abundance_child.qza').view(pd.DataFrame)"
   ]
  },
  {
   "cell_type": "markdown",
   "id": "7d430188",
   "metadata": {},
   "source": [
    "Let's briefly examine the contents of each of those tables:"
   ]
  },
  {
   "cell_type": "code",
   "execution_count": 10,
   "id": "b558937f",
   "metadata": {},
   "outputs": [
    {
     "data": {
      "text/html": [
       "<div>\n",
       "<style scoped>\n",
       "    .dataframe tbody tr th:only-of-type {\n",
       "        vertical-align: middle;\n",
       "    }\n",
       "\n",
       "    .dataframe tbody tr th {\n",
       "        vertical-align: top;\n",
       "    }\n",
       "\n",
       "    .dataframe thead th {\n",
       "        text-align: right;\n",
       "    }\n",
       "</style>\n",
       "<table border=\"1\" class=\"dataframe\">\n",
       "  <thead>\n",
       "    <tr style=\"text-align: right;\">\n",
       "      <th></th>\n",
       "      <th>K00001</th>\n",
       "      <th>K00002</th>\n",
       "      <th>K00003</th>\n",
       "      <th>K00004</th>\n",
       "      <th>K00005</th>\n",
       "      <th>K00006</th>\n",
       "      <th>K00007</th>\n",
       "      <th>K00008</th>\n",
       "      <th>K00009</th>\n",
       "      <th>K00010</th>\n",
       "      <th>...</th>\n",
       "      <th>K19777</th>\n",
       "      <th>K19778</th>\n",
       "      <th>K19779</th>\n",
       "      <th>K19780</th>\n",
       "      <th>K19784</th>\n",
       "      <th>K19785</th>\n",
       "      <th>K19787</th>\n",
       "      <th>K19788</th>\n",
       "      <th>K19789</th>\n",
       "      <th>K19791</th>\n",
       "    </tr>\n",
       "  </thead>\n",
       "  <tbody>\n",
       "    <tr>\n",
       "      <th>12802.10249.C007.08SS</th>\n",
       "      <td>5567.954253</td>\n",
       "      <td>5.019038e-12</td>\n",
       "      <td>2325.866198</td>\n",
       "      <td>38.871277</td>\n",
       "      <td>1285.710309</td>\n",
       "      <td>0.0</td>\n",
       "      <td>0.006192</td>\n",
       "      <td>2528.428697</td>\n",
       "      <td>537.601025</td>\n",
       "      <td>5883.369401</td>\n",
       "      <td>...</td>\n",
       "      <td>1.404900e+02</td>\n",
       "      <td>141.997581</td>\n",
       "      <td>1.281908e+00</td>\n",
       "      <td>1.342215e+00</td>\n",
       "      <td>179.610288</td>\n",
       "      <td>1.690535e-126</td>\n",
       "      <td>0.0</td>\n",
       "      <td>3.126628e-56</td>\n",
       "      <td>628.585652</td>\n",
       "      <td>0.000000</td>\n",
       "    </tr>\n",
       "    <tr>\n",
       "      <th>12802.10249.C047.08SD</th>\n",
       "      <td>11520.033699</td>\n",
       "      <td>4.204540e-02</td>\n",
       "      <td>6935.286082</td>\n",
       "      <td>545.455569</td>\n",
       "      <td>5381.682927</td>\n",
       "      <td>0.0</td>\n",
       "      <td>31.394071</td>\n",
       "      <td>13172.555257</td>\n",
       "      <td>1087.762298</td>\n",
       "      <td>18278.463532</td>\n",
       "      <td>...</td>\n",
       "      <td>7.097400e+02</td>\n",
       "      <td>751.626786</td>\n",
       "      <td>6.476058e+00</td>\n",
       "      <td>6.780721e+00</td>\n",
       "      <td>1015.751728</td>\n",
       "      <td>2.466822e-125</td>\n",
       "      <td>0.0</td>\n",
       "      <td>4.562361e-55</td>\n",
       "      <td>882.029769</td>\n",
       "      <td>0.011715</td>\n",
       "    </tr>\n",
       "    <tr>\n",
       "      <th>12802.10249.C016.09SS</th>\n",
       "      <td>3728.634346</td>\n",
       "      <td>5.609497e-02</td>\n",
       "      <td>1619.580970</td>\n",
       "      <td>50.052374</td>\n",
       "      <td>1339.718791</td>\n",
       "      <td>0.0</td>\n",
       "      <td>0.000525</td>\n",
       "      <td>1541.558854</td>\n",
       "      <td>318.004260</td>\n",
       "      <td>2927.011903</td>\n",
       "      <td>...</td>\n",
       "      <td>1.672600e+02</td>\n",
       "      <td>225.001876</td>\n",
       "      <td>1.526172e+00</td>\n",
       "      <td>1.597970e+00</td>\n",
       "      <td>235.071529</td>\n",
       "      <td>0.000000e+00</td>\n",
       "      <td>0.0</td>\n",
       "      <td>0.000000e+00</td>\n",
       "      <td>647.627117</td>\n",
       "      <td>0.015629</td>\n",
       "    </tr>\n",
       "    <tr>\n",
       "      <th>12802.10249.C023.01SS.r</th>\n",
       "      <td>14171.783597</td>\n",
       "      <td>5.405804e-03</td>\n",
       "      <td>14223.852495</td>\n",
       "      <td>164.773784</td>\n",
       "      <td>20200.554172</td>\n",
       "      <td>0.0</td>\n",
       "      <td>0.198871</td>\n",
       "      <td>15072.763747</td>\n",
       "      <td>11257.782485</td>\n",
       "      <td>10251.098376</td>\n",
       "      <td>...</td>\n",
       "      <td>2.099986e-11</td>\n",
       "      <td>6891.132835</td>\n",
       "      <td>1.089822e-38</td>\n",
       "      <td>1.099425e-38</td>\n",
       "      <td>7056.813543</td>\n",
       "      <td>5.845949e-125</td>\n",
       "      <td>0.0</td>\n",
       "      <td>1.081202e-54</td>\n",
       "      <td>7056.064955</td>\n",
       "      <td>0.000000</td>\n",
       "    </tr>\n",
       "    <tr>\n",
       "      <th>12802.10249.C016.02SS</th>\n",
       "      <td>8978.181164</td>\n",
       "      <td>2.592972e-01</td>\n",
       "      <td>385.169375</td>\n",
       "      <td>76.058317</td>\n",
       "      <td>2169.988374</td>\n",
       "      <td>0.0</td>\n",
       "      <td>0.000001</td>\n",
       "      <td>115.751311</td>\n",
       "      <td>1841.813426</td>\n",
       "      <td>10554.755125</td>\n",
       "      <td>...</td>\n",
       "      <td>4.300000e-01</td>\n",
       "      <td>0.430000</td>\n",
       "      <td>3.923556e-03</td>\n",
       "      <td>4.108138e-03</td>\n",
       "      <td>1883.914364</td>\n",
       "      <td>0.000000e+00</td>\n",
       "      <td>0.0</td>\n",
       "      <td>0.000000e+00</td>\n",
       "      <td>10582.089272</td>\n",
       "      <td>0.072246</td>\n",
       "    </tr>\n",
       "  </tbody>\n",
       "</table>\n",
       "<p>5 rows × 10382 columns</p>\n",
       "</div>"
      ],
      "text/plain": [
       "                               K00001        K00002        K00003      K00004  \\\n",
       "12802.10249.C007.08SS     5567.954253  5.019038e-12   2325.866198   38.871277   \n",
       "12802.10249.C047.08SD    11520.033699  4.204540e-02   6935.286082  545.455569   \n",
       "12802.10249.C016.09SS     3728.634346  5.609497e-02   1619.580970   50.052374   \n",
       "12802.10249.C023.01SS.r  14171.783597  5.405804e-03  14223.852495  164.773784   \n",
       "12802.10249.C016.02SS     8978.181164  2.592972e-01    385.169375   76.058317   \n",
       "\n",
       "                               K00005  K00006     K00007        K00008  \\\n",
       "12802.10249.C007.08SS     1285.710309     0.0   0.006192   2528.428697   \n",
       "12802.10249.C047.08SD     5381.682927     0.0  31.394071  13172.555257   \n",
       "12802.10249.C016.09SS     1339.718791     0.0   0.000525   1541.558854   \n",
       "12802.10249.C023.01SS.r  20200.554172     0.0   0.198871  15072.763747   \n",
       "12802.10249.C016.02SS     2169.988374     0.0   0.000001    115.751311   \n",
       "\n",
       "                               K00009        K00010  ...        K19777  \\\n",
       "12802.10249.C007.08SS      537.601025   5883.369401  ...  1.404900e+02   \n",
       "12802.10249.C047.08SD     1087.762298  18278.463532  ...  7.097400e+02   \n",
       "12802.10249.C016.09SS      318.004260   2927.011903  ...  1.672600e+02   \n",
       "12802.10249.C023.01SS.r  11257.782485  10251.098376  ...  2.099986e-11   \n",
       "12802.10249.C016.02SS     1841.813426  10554.755125  ...  4.300000e-01   \n",
       "\n",
       "                              K19778        K19779        K19780       K19784  \\\n",
       "12802.10249.C007.08SS     141.997581  1.281908e+00  1.342215e+00   179.610288   \n",
       "12802.10249.C047.08SD     751.626786  6.476058e+00  6.780721e+00  1015.751728   \n",
       "12802.10249.C016.09SS     225.001876  1.526172e+00  1.597970e+00   235.071529   \n",
       "12802.10249.C023.01SS.r  6891.132835  1.089822e-38  1.099425e-38  7056.813543   \n",
       "12802.10249.C016.02SS       0.430000  3.923556e-03  4.108138e-03  1883.914364   \n",
       "\n",
       "                                K19785  K19787        K19788        K19789  \\\n",
       "12802.10249.C007.08SS    1.690535e-126     0.0  3.126628e-56    628.585652   \n",
       "12802.10249.C047.08SD    2.466822e-125     0.0  4.562361e-55    882.029769   \n",
       "12802.10249.C016.09SS     0.000000e+00     0.0  0.000000e+00    647.627117   \n",
       "12802.10249.C023.01SS.r  5.845949e-125     0.0  1.081202e-54   7056.064955   \n",
       "12802.10249.C016.02SS     0.000000e+00     0.0  0.000000e+00  10582.089272   \n",
       "\n",
       "                           K19791  \n",
       "12802.10249.C007.08SS    0.000000  \n",
       "12802.10249.C047.08SD    0.011715  \n",
       "12802.10249.C016.09SS    0.015629  \n",
       "12802.10249.C023.01SS.r  0.000000  \n",
       "12802.10249.C016.02SS    0.072246  \n",
       "\n",
       "[5 rows x 10382 columns]"
      ]
     },
     "execution_count": 10,
     "metadata": {},
     "output_type": "execute_result"
    }
   ],
   "source": [
    "ko.head()"
   ]
  },
  {
   "cell_type": "code",
   "execution_count": 11,
   "id": "660cb300",
   "metadata": {},
   "outputs": [
    {
     "data": {
      "text/html": [
       "<div>\n",
       "<style scoped>\n",
       "    .dataframe tbody tr th:only-of-type {\n",
       "        vertical-align: middle;\n",
       "    }\n",
       "\n",
       "    .dataframe tbody tr th {\n",
       "        vertical-align: top;\n",
       "    }\n",
       "\n",
       "    .dataframe thead th {\n",
       "        text-align: right;\n",
       "    }\n",
       "</style>\n",
       "<table border=\"1\" class=\"dataframe\">\n",
       "  <thead>\n",
       "    <tr style=\"text-align: right;\">\n",
       "      <th></th>\n",
       "      <th>EC:1.1.1.1</th>\n",
       "      <th>EC:1.1.1.10</th>\n",
       "      <th>EC:1.1.1.100</th>\n",
       "      <th>EC:1.1.1.101</th>\n",
       "      <th>EC:1.1.1.102</th>\n",
       "      <th>EC:1.1.1.103</th>\n",
       "      <th>EC:1.1.1.105</th>\n",
       "      <th>EC:1.1.1.107</th>\n",
       "      <th>EC:1.1.1.108</th>\n",
       "      <th>EC:1.1.1.11</th>\n",
       "      <th>...</th>\n",
       "      <th>EC:6.4.1.8</th>\n",
       "      <th>EC:6.5.1.1</th>\n",
       "      <th>EC:6.5.1.2</th>\n",
       "      <th>EC:6.5.1.3</th>\n",
       "      <th>EC:6.5.1.4</th>\n",
       "      <th>EC:6.5.1.5</th>\n",
       "      <th>EC:6.5.1.6</th>\n",
       "      <th>EC:6.5.1.7</th>\n",
       "      <th>EC:6.6.1.1</th>\n",
       "      <th>EC:6.6.1.2</th>\n",
       "    </tr>\n",
       "  </thead>\n",
       "  <tbody>\n",
       "    <tr>\n",
       "      <th>12802.10249.C007.08SS</th>\n",
       "      <td>7897.840792</td>\n",
       "      <td>3.369554e-14</td>\n",
       "      <td>12487.424022</td>\n",
       "      <td>3.694045e-21</td>\n",
       "      <td>3.824832e-17</td>\n",
       "      <td>832.898971</td>\n",
       "      <td>7.185326e-58</td>\n",
       "      <td>4.973201e-42</td>\n",
       "      <td>45.125923</td>\n",
       "      <td>0.006192</td>\n",
       "      <td>...</td>\n",
       "      <td>2.454161e-126</td>\n",
       "      <td>2959.472997</td>\n",
       "      <td>5715.377609</td>\n",
       "      <td>735.891880</td>\n",
       "      <td>1.404900e+02</td>\n",
       "      <td>1.744875e-55</td>\n",
       "      <td>592.231351</td>\n",
       "      <td>592.231351</td>\n",
       "      <td>2076.934692</td>\n",
       "      <td>4708.662793</td>\n",
       "    </tr>\n",
       "    <tr>\n",
       "      <th>12802.10249.C047.08SD</th>\n",
       "      <td>24626.037961</td>\n",
       "      <td>2.849515e-12</td>\n",
       "      <td>46312.065076</td>\n",
       "      <td>4.425015e-19</td>\n",
       "      <td>1.434333e+01</td>\n",
       "      <td>5925.578564</td>\n",
       "      <td>3.295164e-03</td>\n",
       "      <td>7.256872e-41</td>\n",
       "      <td>587.540343</td>\n",
       "      <td>31.394071</td>\n",
       "      <td>...</td>\n",
       "      <td>3.581100e-125</td>\n",
       "      <td>17573.928571</td>\n",
       "      <td>8968.238204</td>\n",
       "      <td>6995.542680</td>\n",
       "      <td>7.097400e+02</td>\n",
       "      <td>2.546113e-54</td>\n",
       "      <td>3525.777322</td>\n",
       "      <td>3525.777322</td>\n",
       "      <td>5091.519706</td>\n",
       "      <td>4469.440962</td>\n",
       "    </tr>\n",
       "    <tr>\n",
       "      <th>12802.10249.C016.09SS</th>\n",
       "      <td>5569.431056</td>\n",
       "      <td>0.000000e+00</td>\n",
       "      <td>11419.637939</td>\n",
       "      <td>4.057699e-20</td>\n",
       "      <td>4.723730e-02</td>\n",
       "      <td>733.505382</td>\n",
       "      <td>4.396251e-03</td>\n",
       "      <td>1.575014e-02</td>\n",
       "      <td>3.453316</td>\n",
       "      <td>0.000525</td>\n",
       "      <td>...</td>\n",
       "      <td>8.444625e-01</td>\n",
       "      <td>3414.987321</td>\n",
       "      <td>3564.275490</td>\n",
       "      <td>2095.162792</td>\n",
       "      <td>1.672600e+02</td>\n",
       "      <td>0.000000e+00</td>\n",
       "      <td>684.012633</td>\n",
       "      <td>684.012633</td>\n",
       "      <td>560.375826</td>\n",
       "      <td>3294.987828</td>\n",
       "    </tr>\n",
       "    <tr>\n",
       "      <th>12802.10249.C023.01SS.r</th>\n",
       "      <td>59075.224937</td>\n",
       "      <td>4.626700e-03</td>\n",
       "      <td>41865.923472</td>\n",
       "      <td>3.053311e-59</td>\n",
       "      <td>1.322644e-15</td>\n",
       "      <td>7066.340955</td>\n",
       "      <td>2.484719e-56</td>\n",
       "      <td>1.719756e-40</td>\n",
       "      <td>125.001845</td>\n",
       "      <td>0.198871</td>\n",
       "      <td>...</td>\n",
       "      <td>8.486600e-125</td>\n",
       "      <td>112.160515</td>\n",
       "      <td>34340.856556</td>\n",
       "      <td>20.812133</td>\n",
       "      <td>3.450117e-14</td>\n",
       "      <td>6.033856e-54</td>\n",
       "      <td>50.709452</td>\n",
       "      <td>50.709452</td>\n",
       "      <td>489.074758</td>\n",
       "      <td>254.299332</td>\n",
       "    </tr>\n",
       "    <tr>\n",
       "      <th>12802.10249.C016.02SS</th>\n",
       "      <td>15701.889796</td>\n",
       "      <td>0.000000e+00</td>\n",
       "      <td>39636.042706</td>\n",
       "      <td>0.000000e+00</td>\n",
       "      <td>2.183529e-01</td>\n",
       "      <td>1869.248328</td>\n",
       "      <td>2.032153e-02</td>\n",
       "      <td>0.000000e+00</td>\n",
       "      <td>0.574041</td>\n",
       "      <td>0.000001</td>\n",
       "      <td>...</td>\n",
       "      <td>0.000000e+00</td>\n",
       "      <td>8890.334914</td>\n",
       "      <td>12857.429727</td>\n",
       "      <td>17296.995562</td>\n",
       "      <td>4.300000e-01</td>\n",
       "      <td>0.000000e+00</td>\n",
       "      <td>89.358157</td>\n",
       "      <td>89.358157</td>\n",
       "      <td>161.829800</td>\n",
       "      <td>8875.898259</td>\n",
       "    </tr>\n",
       "  </tbody>\n",
       "</table>\n",
       "<p>5 rows × 2892 columns</p>\n",
       "</div>"
      ],
      "text/plain": [
       "                           EC:1.1.1.1   EC:1.1.1.10  EC:1.1.1.100  \\\n",
       "12802.10249.C007.08SS     7897.840792  3.369554e-14  12487.424022   \n",
       "12802.10249.C047.08SD    24626.037961  2.849515e-12  46312.065076   \n",
       "12802.10249.C016.09SS     5569.431056  0.000000e+00  11419.637939   \n",
       "12802.10249.C023.01SS.r  59075.224937  4.626700e-03  41865.923472   \n",
       "12802.10249.C016.02SS    15701.889796  0.000000e+00  39636.042706   \n",
       "\n",
       "                         EC:1.1.1.101  EC:1.1.1.102  EC:1.1.1.103  \\\n",
       "12802.10249.C007.08SS    3.694045e-21  3.824832e-17    832.898971   \n",
       "12802.10249.C047.08SD    4.425015e-19  1.434333e+01   5925.578564   \n",
       "12802.10249.C016.09SS    4.057699e-20  4.723730e-02    733.505382   \n",
       "12802.10249.C023.01SS.r  3.053311e-59  1.322644e-15   7066.340955   \n",
       "12802.10249.C016.02SS    0.000000e+00  2.183529e-01   1869.248328   \n",
       "\n",
       "                         EC:1.1.1.105  EC:1.1.1.107  EC:1.1.1.108  \\\n",
       "12802.10249.C007.08SS    7.185326e-58  4.973201e-42     45.125923   \n",
       "12802.10249.C047.08SD    3.295164e-03  7.256872e-41    587.540343   \n",
       "12802.10249.C016.09SS    4.396251e-03  1.575014e-02      3.453316   \n",
       "12802.10249.C023.01SS.r  2.484719e-56  1.719756e-40    125.001845   \n",
       "12802.10249.C016.02SS    2.032153e-02  0.000000e+00      0.574041   \n",
       "\n",
       "                         EC:1.1.1.11  ...     EC:6.4.1.8    EC:6.5.1.1  \\\n",
       "12802.10249.C007.08SS       0.006192  ...  2.454161e-126   2959.472997   \n",
       "12802.10249.C047.08SD      31.394071  ...  3.581100e-125  17573.928571   \n",
       "12802.10249.C016.09SS       0.000525  ...   8.444625e-01   3414.987321   \n",
       "12802.10249.C023.01SS.r     0.198871  ...  8.486600e-125    112.160515   \n",
       "12802.10249.C016.02SS       0.000001  ...   0.000000e+00   8890.334914   \n",
       "\n",
       "                           EC:6.5.1.2    EC:6.5.1.3    EC:6.5.1.4  \\\n",
       "12802.10249.C007.08SS     5715.377609    735.891880  1.404900e+02   \n",
       "12802.10249.C047.08SD     8968.238204   6995.542680  7.097400e+02   \n",
       "12802.10249.C016.09SS     3564.275490   2095.162792  1.672600e+02   \n",
       "12802.10249.C023.01SS.r  34340.856556     20.812133  3.450117e-14   \n",
       "12802.10249.C016.02SS    12857.429727  17296.995562  4.300000e-01   \n",
       "\n",
       "                           EC:6.5.1.5   EC:6.5.1.6   EC:6.5.1.7   EC:6.6.1.1  \\\n",
       "12802.10249.C007.08SS    1.744875e-55   592.231351   592.231351  2076.934692   \n",
       "12802.10249.C047.08SD    2.546113e-54  3525.777322  3525.777322  5091.519706   \n",
       "12802.10249.C016.09SS    0.000000e+00   684.012633   684.012633   560.375826   \n",
       "12802.10249.C023.01SS.r  6.033856e-54    50.709452    50.709452   489.074758   \n",
       "12802.10249.C016.02SS    0.000000e+00    89.358157    89.358157   161.829800   \n",
       "\n",
       "                          EC:6.6.1.2  \n",
       "12802.10249.C007.08SS    4708.662793  \n",
       "12802.10249.C047.08SD    4469.440962  \n",
       "12802.10249.C016.09SS    3294.987828  \n",
       "12802.10249.C023.01SS.r   254.299332  \n",
       "12802.10249.C016.02SS    8875.898259  \n",
       "\n",
       "[5 rows x 2892 columns]"
      ]
     },
     "execution_count": 11,
     "metadata": {},
     "output_type": "execute_result"
    }
   ],
   "source": [
    "ec.head()"
   ]
  },
  {
   "cell_type": "code",
   "execution_count": 12,
   "id": "ccecd600",
   "metadata": {},
   "outputs": [
    {
     "data": {
      "text/html": [
       "<div>\n",
       "<style scoped>\n",
       "    .dataframe tbody tr th:only-of-type {\n",
       "        vertical-align: middle;\n",
       "    }\n",
       "\n",
       "    .dataframe tbody tr th {\n",
       "        vertical-align: top;\n",
       "    }\n",
       "\n",
       "    .dataframe thead th {\n",
       "        text-align: right;\n",
       "    }\n",
       "</style>\n",
       "<table border=\"1\" class=\"dataframe\">\n",
       "  <thead>\n",
       "    <tr style=\"text-align: right;\">\n",
       "      <th></th>\n",
       "      <th>1CMET2-PWY</th>\n",
       "      <th>3-HYDROXYPHENYLACETATE-DEGRADATION-PWY</th>\n",
       "      <th>AEROBACTINSYN-PWY</th>\n",
       "      <th>ALL-CHORISMATE-PWY</th>\n",
       "      <th>ANAEROFRUCAT-PWY</th>\n",
       "      <th>ANAGLYCOLYSIS-PWY</th>\n",
       "      <th>ARG+POLYAMINE-SYN</th>\n",
       "      <th>ARGDEG-PWY</th>\n",
       "      <th>ARGORNPROST-PWY</th>\n",
       "      <th>ARGSYN-PWY</th>\n",
       "      <th>...</th>\n",
       "      <th>THISYN-PWY</th>\n",
       "      <th>THREOCAT-PWY</th>\n",
       "      <th>THRESYN-PWY</th>\n",
       "      <th>TRNA-CHARGING-PWY</th>\n",
       "      <th>TRPSYN-PWY</th>\n",
       "      <th>TYRFUMCAT-PWY</th>\n",
       "      <th>UBISYN-PWY</th>\n",
       "      <th>UDPNAGSYN-PWY</th>\n",
       "      <th>VALDEG-PWY</th>\n",
       "      <th>VALSYN-PWY</th>\n",
       "    </tr>\n",
       "  </thead>\n",
       "  <tbody>\n",
       "    <tr>\n",
       "      <th>12802.10249.C007.08SS</th>\n",
       "      <td>5721.150714</td>\n",
       "      <td>40.164924</td>\n",
       "      <td>176.453713</td>\n",
       "      <td>892.067646</td>\n",
       "      <td>5803.184321</td>\n",
       "      <td>8384.533258</td>\n",
       "      <td>1901.871623</td>\n",
       "      <td>170.668432</td>\n",
       "      <td>1459.089747</td>\n",
       "      <td>3832.430825</td>\n",
       "      <td>...</td>\n",
       "      <td>6429.985689</td>\n",
       "      <td>763.496970</td>\n",
       "      <td>7196.812200</td>\n",
       "      <td>5909.850080</td>\n",
       "      <td>5528.434885</td>\n",
       "      <td>655.462302</td>\n",
       "      <td>347.501653</td>\n",
       "      <td>3012.045969</td>\n",
       "      <td>0.000000</td>\n",
       "      <td>7371.406577</td>\n",
       "    </tr>\n",
       "    <tr>\n",
       "      <th>12802.10249.C047.08SD</th>\n",
       "      <td>9745.572172</td>\n",
       "      <td>137.653716</td>\n",
       "      <td>857.836365</td>\n",
       "      <td>3071.566112</td>\n",
       "      <td>8917.890030</td>\n",
       "      <td>10673.304833</td>\n",
       "      <td>3784.762421</td>\n",
       "      <td>805.714267</td>\n",
       "      <td>6379.027453</td>\n",
       "      <td>9081.699754</td>\n",
       "      <td>...</td>\n",
       "      <td>5059.626597</td>\n",
       "      <td>2098.323229</td>\n",
       "      <td>8708.013402</td>\n",
       "      <td>8771.517526</td>\n",
       "      <td>6075.568869</td>\n",
       "      <td>2191.585047</td>\n",
       "      <td>1567.544510</td>\n",
       "      <td>8788.977067</td>\n",
       "      <td>0.000000</td>\n",
       "      <td>15823.803428</td>\n",
       "    </tr>\n",
       "    <tr>\n",
       "      <th>12802.10249.C016.09SS</th>\n",
       "      <td>3796.085925</td>\n",
       "      <td>37.890835</td>\n",
       "      <td>173.726538</td>\n",
       "      <td>799.985385</td>\n",
       "      <td>3861.503242</td>\n",
       "      <td>4267.790142</td>\n",
       "      <td>1605.227150</td>\n",
       "      <td>168.404396</td>\n",
       "      <td>1249.266206</td>\n",
       "      <td>2913.491399</td>\n",
       "      <td>...</td>\n",
       "      <td>3940.863509</td>\n",
       "      <td>730.602581</td>\n",
       "      <td>4423.751005</td>\n",
       "      <td>3789.852193</td>\n",
       "      <td>3625.042844</td>\n",
       "      <td>638.681416</td>\n",
       "      <td>378.810697</td>\n",
       "      <td>2298.307895</td>\n",
       "      <td>0.000000</td>\n",
       "      <td>4896.382036</td>\n",
       "    </tr>\n",
       "    <tr>\n",
       "      <th>12802.10249.C023.01SS.r</th>\n",
       "      <td>16983.970848</td>\n",
       "      <td>9284.275980</td>\n",
       "      <td>124.761968</td>\n",
       "      <td>11415.868042</td>\n",
       "      <td>21557.630448</td>\n",
       "      <td>26461.270880</td>\n",
       "      <td>19870.971022</td>\n",
       "      <td>704.733374</td>\n",
       "      <td>9505.241387</td>\n",
       "      <td>20467.263931</td>\n",
       "      <td>...</td>\n",
       "      <td>20604.338674</td>\n",
       "      <td>12114.138031</td>\n",
       "      <td>22024.507339</td>\n",
       "      <td>23399.016395</td>\n",
       "      <td>14859.738689</td>\n",
       "      <td>84.035307</td>\n",
       "      <td>8529.040805</td>\n",
       "      <td>22072.739664</td>\n",
       "      <td>0.000025</td>\n",
       "      <td>20703.022534</td>\n",
       "    </tr>\n",
       "    <tr>\n",
       "      <th>12802.10249.C016.02SS</th>\n",
       "      <td>11185.554451</td>\n",
       "      <td>2038.145019</td>\n",
       "      <td>1854.101932</td>\n",
       "      <td>4469.036048</td>\n",
       "      <td>7981.193603</td>\n",
       "      <td>14192.080678</td>\n",
       "      <td>3448.809531</td>\n",
       "      <td>2358.772474</td>\n",
       "      <td>817.240354</td>\n",
       "      <td>7305.461791</td>\n",
       "      <td>...</td>\n",
       "      <td>13458.819467</td>\n",
       "      <td>629.375362</td>\n",
       "      <td>13840.200805</td>\n",
       "      <td>11476.898863</td>\n",
       "      <td>12173.033233</td>\n",
       "      <td>87.966574</td>\n",
       "      <td>2856.684365</td>\n",
       "      <td>3267.442875</td>\n",
       "      <td>0.000000</td>\n",
       "      <td>15184.583776</td>\n",
       "    </tr>\n",
       "  </tbody>\n",
       "</table>\n",
       "<p>5 rows × 489 columns</p>\n",
       "</div>"
      ],
      "text/plain": [
       "                           1CMET2-PWY  3-HYDROXYPHENYLACETATE-DEGRADATION-PWY  \\\n",
       "12802.10249.C007.08SS     5721.150714                               40.164924   \n",
       "12802.10249.C047.08SD     9745.572172                              137.653716   \n",
       "12802.10249.C016.09SS     3796.085925                               37.890835   \n",
       "12802.10249.C023.01SS.r  16983.970848                             9284.275980   \n",
       "12802.10249.C016.02SS    11185.554451                             2038.145019   \n",
       "\n",
       "                         AEROBACTINSYN-PWY  ALL-CHORISMATE-PWY  \\\n",
       "12802.10249.C007.08SS           176.453713          892.067646   \n",
       "12802.10249.C047.08SD           857.836365         3071.566112   \n",
       "12802.10249.C016.09SS           173.726538          799.985385   \n",
       "12802.10249.C023.01SS.r         124.761968        11415.868042   \n",
       "12802.10249.C016.02SS          1854.101932         4469.036048   \n",
       "\n",
       "                         ANAEROFRUCAT-PWY  ANAGLYCOLYSIS-PWY  \\\n",
       "12802.10249.C007.08SS         5803.184321        8384.533258   \n",
       "12802.10249.C047.08SD         8917.890030       10673.304833   \n",
       "12802.10249.C016.09SS         3861.503242        4267.790142   \n",
       "12802.10249.C023.01SS.r      21557.630448       26461.270880   \n",
       "12802.10249.C016.02SS         7981.193603       14192.080678   \n",
       "\n",
       "                         ARG+POLYAMINE-SYN   ARGDEG-PWY  ARGORNPROST-PWY  \\\n",
       "12802.10249.C007.08SS          1901.871623   170.668432      1459.089747   \n",
       "12802.10249.C047.08SD          3784.762421   805.714267      6379.027453   \n",
       "12802.10249.C016.09SS          1605.227150   168.404396      1249.266206   \n",
       "12802.10249.C023.01SS.r       19870.971022   704.733374      9505.241387   \n",
       "12802.10249.C016.02SS          3448.809531  2358.772474       817.240354   \n",
       "\n",
       "                           ARGSYN-PWY  ...    THISYN-PWY  THREOCAT-PWY  \\\n",
       "12802.10249.C007.08SS     3832.430825  ...   6429.985689    763.496970   \n",
       "12802.10249.C047.08SD     9081.699754  ...   5059.626597   2098.323229   \n",
       "12802.10249.C016.09SS     2913.491399  ...   3940.863509    730.602581   \n",
       "12802.10249.C023.01SS.r  20467.263931  ...  20604.338674  12114.138031   \n",
       "12802.10249.C016.02SS     7305.461791  ...  13458.819467    629.375362   \n",
       "\n",
       "                          THRESYN-PWY  TRNA-CHARGING-PWY    TRPSYN-PWY  \\\n",
       "12802.10249.C007.08SS     7196.812200        5909.850080   5528.434885   \n",
       "12802.10249.C047.08SD     8708.013402        8771.517526   6075.568869   \n",
       "12802.10249.C016.09SS     4423.751005        3789.852193   3625.042844   \n",
       "12802.10249.C023.01SS.r  22024.507339       23399.016395  14859.738689   \n",
       "12802.10249.C016.02SS    13840.200805       11476.898863  12173.033233   \n",
       "\n",
       "                         TYRFUMCAT-PWY   UBISYN-PWY  UDPNAGSYN-PWY  \\\n",
       "12802.10249.C007.08SS       655.462302   347.501653    3012.045969   \n",
       "12802.10249.C047.08SD      2191.585047  1567.544510    8788.977067   \n",
       "12802.10249.C016.09SS       638.681416   378.810697    2298.307895   \n",
       "12802.10249.C023.01SS.r      84.035307  8529.040805   22072.739664   \n",
       "12802.10249.C016.02SS        87.966574  2856.684365    3267.442875   \n",
       "\n",
       "                         VALDEG-PWY    VALSYN-PWY  \n",
       "12802.10249.C007.08SS      0.000000   7371.406577  \n",
       "12802.10249.C047.08SD      0.000000  15823.803428  \n",
       "12802.10249.C016.09SS      0.000000   4896.382036  \n",
       "12802.10249.C023.01SS.r    0.000025  20703.022534  \n",
       "12802.10249.C016.02SS      0.000000  15184.583776  \n",
       "\n",
       "[5 rows x 489 columns]"
      ]
     },
     "execution_count": 12,
     "metadata": {},
     "output_type": "execute_result"
    }
   ],
   "source": [
    "pa.head()"
   ]
  },
  {
   "cell_type": "markdown",
   "id": "4a329bbe",
   "metadata": {},
   "source": [
    "You can see that they look just like the other feature tables we worked before with. The difference is that now they do not contain information about ASVs but about different levels of the functional profiles:\n",
    "\n",
    "1. `ko` table: columns represent KEGG orthologs, as indicated by their names (e.g., **K**19777)\n",
    "2. `ec` table: columns represent enzymes, as indicated by the Enzyme Commission numbers (e.g., **EC**:1.1.1.108)\n",
    "3. `pa` table: columns represent entire pathways using the MetaCyc classification (e.g., ANAGLYCOLYSIS-PWY)"
   ]
  },
  {
   "cell_type": "markdown",
   "id": "db35c21d",
   "metadata": {},
   "source": [
    "<a id='ipath'></a>\n",
    "### 1.1 Enriched KEGG orthologs visualization\n",
    "\n",
    "Unfortunately, at this point QIIME 2 does not yet support visualizing enriched KO terms and pathways. We can, however, use other tools to visualize those. Let's try to find the most abundant KEGG orthologs and plot them for both, samples where antibiotic treatment was applied and not.\n",
    "\n",
    "We start by merging our feature table with the treatment column (`abx_exposure`) from the metadata:"
   ]
  },
  {
   "cell_type": "code",
   "execution_count": 13,
   "id": "2a0fd440",
   "metadata": {},
   "outputs": [],
   "source": [
    "ko_meta = ko.merge(metadata[['abx_exposure']], left_index=True, right_index=True)\n",
    "ec_meta = ec.merge(metadata[['abx_exposure']], left_index=True, right_index=True)\n",
    "pa_meta = pa.merge(metadata[['abx_exposure']], left_index=True, right_index=True)"
   ]
  },
  {
   "cell_type": "markdown",
   "id": "d0a50441",
   "metadata": {},
   "source": [
    "Next, we will calculate an average abundance of each KO, EC and pathway in each group (treatment vs. no treatment):"
   ]
  },
  {
   "cell_type": "code",
   "execution_count": 14,
   "id": "a56f5bfc",
   "metadata": {},
   "outputs": [],
   "source": [
    "# collapse samples per sample_type - calculate average abundance\n",
    "\n",
    "ko_meta_avg = ko_meta.groupby('abx_exposure').mean()\n",
    "ec_meta_avg = ec_meta.groupby('abx_exposure').mean()\n",
    "pa_meta_avg = pa_meta.groupby('abx_exposure').mean()"
   ]
  },
  {
   "cell_type": "code",
   "execution_count": 15,
   "id": "36830ebe",
   "metadata": {},
   "outputs": [
    {
     "data": {
      "text/html": [
       "<div>\n",
       "<style scoped>\n",
       "    .dataframe tbody tr th:only-of-type {\n",
       "        vertical-align: middle;\n",
       "    }\n",
       "\n",
       "    .dataframe tbody tr th {\n",
       "        vertical-align: top;\n",
       "    }\n",
       "\n",
       "    .dataframe thead th {\n",
       "        text-align: right;\n",
       "    }\n",
       "</style>\n",
       "<table border=\"1\" class=\"dataframe\">\n",
       "  <thead>\n",
       "    <tr style=\"text-align: right;\">\n",
       "      <th></th>\n",
       "      <th>K00001</th>\n",
       "      <th>K00002</th>\n",
       "      <th>K00003</th>\n",
       "      <th>K00004</th>\n",
       "      <th>K00005</th>\n",
       "      <th>K00006</th>\n",
       "      <th>K00007</th>\n",
       "      <th>K00008</th>\n",
       "      <th>K00009</th>\n",
       "      <th>K00010</th>\n",
       "      <th>...</th>\n",
       "      <th>K19777</th>\n",
       "      <th>K19778</th>\n",
       "      <th>K19779</th>\n",
       "      <th>K19780</th>\n",
       "      <th>K19784</th>\n",
       "      <th>K19785</th>\n",
       "      <th>K19787</th>\n",
       "      <th>K19788</th>\n",
       "      <th>K19789</th>\n",
       "      <th>K19791</th>\n",
       "    </tr>\n",
       "    <tr>\n",
       "      <th>abx_exposure</th>\n",
       "      <th></th>\n",
       "      <th></th>\n",
       "      <th></th>\n",
       "      <th></th>\n",
       "      <th></th>\n",
       "      <th></th>\n",
       "      <th></th>\n",
       "      <th></th>\n",
       "      <th></th>\n",
       "      <th></th>\n",
       "      <th></th>\n",
       "      <th></th>\n",
       "      <th></th>\n",
       "      <th></th>\n",
       "      <th></th>\n",
       "      <th></th>\n",
       "      <th></th>\n",
       "      <th></th>\n",
       "      <th></th>\n",
       "      <th></th>\n",
       "      <th></th>\n",
       "    </tr>\n",
       "  </thead>\n",
       "  <tbody>\n",
       "    <tr>\n",
       "      <th>no</th>\n",
       "      <td>5996.952649</td>\n",
       "      <td>64.834454</td>\n",
       "      <td>5597.431270</td>\n",
       "      <td>485.426796</td>\n",
       "      <td>4328.489754</td>\n",
       "      <td>0.084168</td>\n",
       "      <td>78.447254</td>\n",
       "      <td>6670.759135</td>\n",
       "      <td>1663.397132</td>\n",
       "      <td>7293.264250</td>\n",
       "      <td>...</td>\n",
       "      <td>811.272558</td>\n",
       "      <td>824.909331</td>\n",
       "      <td>7.015205</td>\n",
       "      <td>22.286485</td>\n",
       "      <td>1251.160205</td>\n",
       "      <td>0.108677</td>\n",
       "      <td>3.430599e-07</td>\n",
       "      <td>0.073142</td>\n",
       "      <td>1742.536652</td>\n",
       "      <td>0.170580</td>\n",
       "    </tr>\n",
       "    <tr>\n",
       "      <th>yes</th>\n",
       "      <td>5468.855563</td>\n",
       "      <td>22.516847</td>\n",
       "      <td>5780.651032</td>\n",
       "      <td>529.552847</td>\n",
       "      <td>4506.730587</td>\n",
       "      <td>0.091583</td>\n",
       "      <td>111.463141</td>\n",
       "      <td>5782.298698</td>\n",
       "      <td>1706.715201</td>\n",
       "      <td>6230.003595</td>\n",
       "      <td>...</td>\n",
       "      <td>630.139950</td>\n",
       "      <td>722.157928</td>\n",
       "      <td>4.416278</td>\n",
       "      <td>171.639755</td>\n",
       "      <td>1049.364526</td>\n",
       "      <td>0.081240</td>\n",
       "      <td>9.190191e-08</td>\n",
       "      <td>0.011234</td>\n",
       "      <td>1739.239233</td>\n",
       "      <td>0.013455</td>\n",
       "    </tr>\n",
       "  </tbody>\n",
       "</table>\n",
       "<p>2 rows × 10382 columns</p>\n",
       "</div>"
      ],
      "text/plain": [
       "                   K00001     K00002       K00003      K00004       K00005  \\\n",
       "abx_exposure                                                                 \n",
       "no            5996.952649  64.834454  5597.431270  485.426796  4328.489754   \n",
       "yes           5468.855563  22.516847  5780.651032  529.552847  4506.730587   \n",
       "\n",
       "                K00006      K00007       K00008       K00009       K00010  \\\n",
       "abx_exposure                                                                \n",
       "no            0.084168   78.447254  6670.759135  1663.397132  7293.264250   \n",
       "yes           0.091583  111.463141  5782.298698  1706.715201  6230.003595   \n",
       "\n",
       "              ...      K19777      K19778    K19779      K19780       K19784  \\\n",
       "abx_exposure  ...                                                              \n",
       "no            ...  811.272558  824.909331  7.015205   22.286485  1251.160205   \n",
       "yes           ...  630.139950  722.157928  4.416278  171.639755  1049.364526   \n",
       "\n",
       "                K19785        K19787    K19788       K19789    K19791  \n",
       "abx_exposure                                                           \n",
       "no            0.108677  3.430599e-07  0.073142  1742.536652  0.170580  \n",
       "yes           0.081240  9.190191e-08  0.011234  1739.239233  0.013455  \n",
       "\n",
       "[2 rows x 10382 columns]"
      ]
     },
     "execution_count": 15,
     "metadata": {},
     "output_type": "execute_result"
    }
   ],
   "source": [
    "ko_meta_avg.head()"
   ]
  },
  {
   "cell_type": "markdown",
   "id": "f824720a",
   "metadata": {},
   "source": [
    "Finally, let's find the most abundant features in each table:"
   ]
  },
  {
   "cell_type": "code",
   "execution_count": 16,
   "id": "0ed3c104",
   "metadata": {},
   "outputs": [
    {
     "name": "stdout",
     "output_type": "stream",
     "text": [
      "Saving 103 most abundant features...\n",
      "Saving 86 most abundant features...\n",
      "Saving 5 most abundant features...\n"
     ]
    }
   ],
   "source": [
    "# find top x% of the most abundant KOs, ECs and pathways in each sample type\n",
    "\n",
    "def find_most_abundant(df: pd.DataFrame, frac):\n",
    "    if 0 < frac < 1:\n",
    "        frac = int(frac * len(df.columns))\n",
    "    print(f'Saving {frac} most abundant features...')\n",
    "    most_abundant = {\n",
    "        smp: df.loc[smp, :].sort_values(ascending=False)[:frac]\n",
    "        for smp in df.index\n",
    "    }\n",
    "    return most_abundant\n",
    "\n",
    "ko_most_abundant = find_most_abundant(ko_meta_avg, 0.01)\n",
    "ec_most_abundant = find_most_abundant(ec_meta_avg, 0.03)\n",
    "pa_most_abundant = find_most_abundant(pa_meta_avg, 5)"
   ]
  },
  {
   "cell_type": "code",
   "execution_count": 17,
   "id": "fd6c8e96",
   "metadata": {},
   "outputs": [
    {
     "name": "stdout",
     "output_type": "stream",
     "text": [
      "10 most abundant KOs in the treatment group are: ['K03088', 'K02004', 'K01992', 'K01990', 'K06147', 'K02003', 'K02529', 'K02015', 'K07024', 'K02016']\n",
      "10 most abundant KOs in the non-treatment group are: ['K02004', 'K03088', 'K01992', 'K01990', 'K06147', 'K02003', 'K02529', 'K02015', 'K07024', 'K05349']\n",
      "\n"
     ]
    }
   ],
   "source": [
    "print(f'10 most abundant KOs in the treatment group are: {ko_most_abundant[\"yes\"].index[:10].tolist()}\\n'\n",
    "      f'10 most abundant KOs in the non-treatment group are: {ko_most_abundant[\"no\"].index[:10].tolist()}\\n')"
   ]
  },
  {
   "cell_type": "markdown",
   "id": "9dfb00d3",
   "metadata": {},
   "source": [
    "To visualize the KOs and ECs we can use the [Interactive Pathway Explorer](https://pathways.embl.de) (iPath 3). First, we will fetch pathway maps for KOs and ECs per sample group and display them as SVGs. Then, you can try copying some IDs and trying out the interactive pathway map available on the web page linked above - it will allow you to zoom into different areas of the map and look at some more interesting details."
   ]
  },
  {
   "cell_type": "code",
   "execution_count": 18,
   "id": "855955d4",
   "metadata": {},
   "outputs": [],
   "source": [
    "for smp in ko_most_abundant.keys():\n",
    "    fetch_ipath(ko_most_abundant[smp].index.tolist(), f'{data_dir}/kos_{smp}.svg')\n",
    "    fetch_ipath(ec_most_abundant[smp].index.str.replace(':', '').tolist(), f'{data_dir}/ecs_{smp}.svg')"
   ]
  },
  {
   "cell_type": "markdown",
   "id": "954ad5dc",
   "metadata": {},
   "source": [
    "This should have fetched 4 pathway maps: 1 map per sample group (treated vs. non-treated) and 1 map per feature table (KO vs. EC). The are rather large images and so displaying them inline here would make the maps unreadable. Instead, locate those in the folder containing this week's data (`w9_data`) and open them externally.\n",
    "\n",
    "#### 1.1.1 Checkpoint A\n",
    "Qualitatively speaking, do the maps look the same between treated and non-treated samples? Can you identify some enzymes that differ between the two? (you may need to look at the interactive map to find those)\n",
    "\n",
    "**Answer:**\n",
    "ec_yes contains red lines in the area of Glycerolipid metabolism/Glycerophospholipid metabolism for the enzyme 1-acylglycerol-3-phosphate O-acyltransferase, Phenylalanine/ tyrosine and tryptophan biosynthesis for the enzyme 3-deoxy-7-phosphoheptulonate synthase or Cysteine and methionine metabolism for the enzyme DNA (cytosine-5-)-methyltransferase where as they can not be found in the pathwaymap of ec_no (non-treated). \n",
    "\n",
    "Comparing the kos_yes and kos_no, there is a again a read line for the Glycerolipid metabolism/Glycerophospholipid metabolism for the enzyme 1-acylglycerol-3-phosphate O-acyltransferase in the treated but not in the non-treated. The otherway around is it for the Pentose and glucuronate interconversions for the enzyme xylulokinase which is found in the non-treated but not in the treated one. "
   ]
  },
  {
   "cell_type": "markdown",
   "id": "f1aac16b",
   "metadata": {},
   "source": [
    "<a id='metacyc'></a>\n",
    "### 1.2 Enriched pathways\n",
    "\n",
    "To get a bigger picture, we can also look at the most abundant pathways in both sample groups. Use one of the functions defined above to identify the four pathways that are most abundant in the treated and non-treated samples."
   ]
  },
  {
   "cell_type": "code",
   "execution_count": 19,
   "id": "dad015e4",
   "metadata": {},
   "outputs": [
    {
     "name": "stdout",
     "output_type": "stream",
     "text": [
      "4 most abundant pathways in the treatment group are: ['PWY-7111', 'NONOXIPENT-PWY', 'PWY-5101', 'ILEUSYN-PWY']\n",
      "4 most abundant pathways in the non-treatment group are: ['PWY-7111', 'NONOXIPENT-PWY', 'PWY-5101', 'VALSYN-PWY']\n",
      "\n"
     ]
    }
   ],
   "source": [
    "print(f'4 most abundant pathways in the treatment group are: {pa_most_abundant[\"yes\"].index[:4].tolist()}\\n'\n",
    "      f'4 most abundant pathways in the non-treatment group are: {pa_most_abundant[\"no\"].index[:4].tolist()}\\n')"
   ]
  },
  {
   "cell_type": "markdown",
   "id": "93c3252c",
   "metadata": {},
   "source": [
    "Last week we learned how to identify differentially abundant features between samples. Let's use this approach here to find whether there are pathways that differ significantly between samples with and without antibiotic treatment."
   ]
  },
  {
   "cell_type": "code",
   "execution_count": 20,
   "id": "8c635ea4",
   "metadata": {},
   "outputs": [
    {
     "name": "stdout",
     "output_type": "stream",
     "text": [
      "\u001b[32mSaved FeatureTable[Composition] to: w9_data/picrust2_results/pathway_abundance_child_abund.qza\u001b[0m\n",
      "\u001b[0m"
     ]
    }
   ],
   "source": [
    "! qiime composition add-pseudocount \\\n",
    "    --i-table $data_dir/picrust2_results/pathway_abundance_child.qza \\\n",
    "    --o-composition-table $data_dir/picrust2_results/pathway_abundance_child_abund.qza"
   ]
  },
  {
   "cell_type": "code",
   "execution_count": 21,
   "id": "b01e4697",
   "metadata": {},
   "outputs": [
    {
     "name": "stdout",
     "output_type": "stream",
     "text": [
      "\u001b[32mSaved Visualization to: w9_data/pa_ancom_abx.qzv\u001b[0m\n",
      "\u001b[0m"
     ]
    }
   ],
   "source": [
    "! qiime composition ancom \\\n",
    "    --i-table $data_dir/picrust2_results/pathway_abundance_child_abund.qza \\\n",
    "    --m-metadata-file $data_dir/metadata.tsv \\\n",
    "    --m-metadata-column abx_exposure \\\n",
    "    --p-transform-function log \\\n",
    "    --o-visualization $data_dir/pa_ancom_abx.qzv"
   ]
  },
  {
   "cell_type": "code",
   "execution_count": 22,
   "id": "d9a59354",
   "metadata": {},
   "outputs": [
    {
     "data": {
      "text/html": [
       "<div><img onload=\"(function(div, url){\n",
       "if (typeof require !== 'undefined') {\n",
       "    var baseURL = require.toUrl('').split('/').slice(0, -2).join('/');\n",
       "} else {\n",
       "    var baseURL = JSON.parse(\n",
       "        document.getElementById('jupyter-config-data').innerHTML\n",
       "    ).baseUrl.slice(0, -1);\n",
       "}\n",
       "url = baseURL + url;\n",
       "fetch(url).then(function(res) {\n",
       "    if (res.status === 404) {\n",
       "        div.innerHTML = 'Install QIIME 2 Jupyter extension with:<br />' +\n",
       "                        '<code>jupyter serverextension enable --py qiime2' +\n",
       "                        ' --sys-prefix</code><br />then restart your server.' +\n",
       "                        '<br /><br />(Interactive output not available on ' +\n",
       "                        'static notebook viewer services like nbviewer.)';\n",
       "    } else if (res.status === 409) {\n",
       "        div.innerHTML = 'Visualization no longer in scope. Re-run this cell' +\n",
       "                        ' to see the visualization.';\n",
       "    } else if (res.ok) {\n",
       "        url = res.url;\n",
       "        div.innerHTML = '<iframe src=\\'' + url + '\\' style=\\'' +\n",
       "                        'width: 100%; height: 700px; border: 0;\\'>' +\n",
       "                        '</iframe><hr />Open in a: <a href=\\'' + url + '\\'' +\n",
       "                        ' target=\\'_blank\\'>new window</a>'\n",
       "    } else {\n",
       "        div.innerHTML = 'Something has gone wrong. Check notebook server for' +\n",
       "                        ' errors.';\n",
       "    }\n",
       "});\n",
       "})(this.parentElement, '/qiime2/redirect?location=/tmp/qiime2-archive-fxct8zl9')\" src=\"data:image/gif;base64,R0lGODlhAQABAIAAAP///wAAACH5BAEAAAAALAAAAAABAAEAAAICRAEAOw==\" /></div>"
      ],
      "text/plain": [
       "<visualization: Visualization uuid: 817c2924-0e22-41f4-ae38-6a59d1183c9e>"
      ]
     },
     "execution_count": 22,
     "metadata": {},
     "output_type": "execute_result"
    }
   ],
   "source": [
    "Visualization.load(f'{data_dir}/pa_ancom_abx.qzv')"
   ]
  },
  {
   "cell_type": "markdown",
   "id": "a58b1a84",
   "metadata": {},
   "source": [
    "Too bad! No significant differences :(\n",
    "\n",
    "Now repeat these steps but compare mothers and children. We will do the pseudocount addition for you, but you do the rest."
   ]
  },
  {
   "cell_type": "code",
   "execution_count": 25,
   "id": "20d86fd6",
   "metadata": {},
   "outputs": [
    {
     "name": "stdout",
     "output_type": "stream",
     "text": [
      "\u001b[32mSaved FeatureTable[Composition] to: w9_data/picrust2_results/pathway_abundance.qza\u001b[0m\n",
      "\u001b[0m"
     ]
    }
   ],
   "source": [
    "# note: we are going back to the original pathway abundance table, \n",
    "# which contains both mothers and children. We used the filtered table above.\n",
    "! qiime composition add-pseudocount \\\n",
    "    --i-table $data_dir/picrust2_results/pathway_abundance.qza \\\n",
    "    --o-composition-table $data_dir/picrust2_results/pathway_abundance.qza"
   ]
  },
  {
   "cell_type": "code",
   "execution_count": 28,
   "id": "8a93106d",
   "metadata": {},
   "outputs": [
    {
     "name": "stdout",
     "output_type": "stream",
     "text": [
      "\u001b[32mSaved Visualization to: w9_data/pa_ancom_mom_or_child.qzv\u001b[0m\n",
      "\u001b[0m"
     ]
    }
   ],
   "source": [
    "# Your turn! fill in the blanks to run ancom and visualize the results.\n",
    "! qiime composition ancom \\\n",
    "    --i-table $data_dir/picrust2_results/pathway_abundance.qza \\\n",
    "    --m-metadata-file $data_dir/metadata.tsv \\\n",
    "    --m-metadata-column mom_or_child \\\n",
    "    --p-transform-function log \\\n",
    "    --o-visualization $data_dir/pa_ancom_mom_or_child.qzv\n"
   ]
  },
  {
   "cell_type": "code",
   "execution_count": 29,
   "id": "c6c2ed89-abd4-40a5-838a-dbcd355f95b3",
   "metadata": {
    "collapsed": true,
    "jupyter": {
     "outputs_hidden": true
    },
    "tags": []
   },
   "outputs": [
    {
     "data": {
      "text/html": [
       "<div><img onload=\"(function(div, url){\n",
       "if (typeof require !== 'undefined') {\n",
       "    var baseURL = require.toUrl('').split('/').slice(0, -2).join('/');\n",
       "} else {\n",
       "    var baseURL = JSON.parse(\n",
       "        document.getElementById('jupyter-config-data').innerHTML\n",
       "    ).baseUrl.slice(0, -1);\n",
       "}\n",
       "url = baseURL + url;\n",
       "fetch(url).then(function(res) {\n",
       "    if (res.status === 404) {\n",
       "        div.innerHTML = 'Install QIIME 2 Jupyter extension with:<br />' +\n",
       "                        '<code>jupyter serverextension enable --py qiime2' +\n",
       "                        ' --sys-prefix</code><br />then restart your server.' +\n",
       "                        '<br /><br />(Interactive output not available on ' +\n",
       "                        'static notebook viewer services like nbviewer.)';\n",
       "    } else if (res.status === 409) {\n",
       "        div.innerHTML = 'Visualization no longer in scope. Re-run this cell' +\n",
       "                        ' to see the visualization.';\n",
       "    } else if (res.ok) {\n",
       "        url = res.url;\n",
       "        div.innerHTML = '<iframe src=\\'' + url + '\\' style=\\'' +\n",
       "                        'width: 100%; height: 700px; border: 0;\\'>' +\n",
       "                        '</iframe><hr />Open in a: <a href=\\'' + url + '\\'' +\n",
       "                        ' target=\\'_blank\\'>new window</a>'\n",
       "    } else {\n",
       "        div.innerHTML = 'Something has gone wrong. Check notebook server for' +\n",
       "                        ' errors.';\n",
       "    }\n",
       "});\n",
       "})(this.parentElement, '/qiime2/redirect?location=/tmp/qiime2-archive-btlswnky')\" src=\"data:image/gif;base64,R0lGODlhAQABAIAAAP///wAAACH5BAEAAAAALAAAAAABAAEAAAICRAEAOw==\" /></div>"
      ],
      "text/plain": [
       "<visualization: Visualization uuid: f4ac9627-af96-48d3-9c77-6e1279c5ea5f>"
      ]
     },
     "execution_count": 29,
     "metadata": {},
     "output_type": "execute_result"
    }
   ],
   "source": [
    "Visualization.load(f'{data_dir}/pa_ancom_mom_or_child.qzv')"
   ]
  },
  {
   "cell_type": "markdown",
   "id": "8eb513a0",
   "metadata": {
    "tags": []
   },
   "source": [
    "#### 1.2.1 Checkpoint B\n",
    "\n",
    "1. Were any inferred pathways significantly differentially abundant? If so, which pathway had the highest W value? Was this pathway more abundant in mothers or children (in the ancom visualization, scroll down to the table `Percentile abundances of features by group`)"
   ]
  },
  {
   "cell_type": "markdown",
   "id": "9318b2ce-9bf9-41ca-9a31-43c9b1790283",
   "metadata": {},
   "source": [
    "**Answer:** There are many pathways significanlty differntially abundant in mother and child. The highest W value of 488 was found in the VALDEG-PWY Pathway it was more abundant in the mother. "
   ]
  },
  {
   "cell_type": "code",
   "execution_count": null,
   "id": "04bed9ef-4aa1-4196-ad28-d7451cb4d9d5",
   "metadata": {},
   "outputs": [],
   "source": []
  }
 ],
 "metadata": {
  "kernelspec": {
   "display_name": "Python 3 (ipykernel)",
   "language": "python",
   "name": "python3"
  },
  "language_info": {
   "codemirror_mode": {
    "name": "ipython",
    "version": 3
   },
   "file_extension": ".py",
   "mimetype": "text/x-python",
   "name": "python",
   "nbconvert_exporter": "python",
   "pygments_lexer": "ipython3",
   "version": "3.8.13"
  }
 },
 "nbformat": 4,
 "nbformat_minor": 5
}
