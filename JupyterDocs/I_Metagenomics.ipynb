{
 "cells": [
  {
   "cell_type": "markdown",
   "id": "150d84cf",
   "metadata": {
    "execution": {
     "iopub.execute_input": "2021-10-01T10:31:55.394646Z",
     "iopub.status.busy": "2021-10-01T10:31:55.393848Z",
     "iopub.status.idle": "2021-10-01T10:31:55.402993Z",
     "shell.execute_reply": "2021-10-01T10:31:55.401758Z",
     "shell.execute_reply.started": "2021-10-01T10:31:55.394573Z"
    }
   },
   "source": [
    "# Metagenomics\n",
    "\n",
    "This Jupyternotebook is focusing on the analysis of metagenomics datasets. \n",
    "Metagenomes allow us to get a glimpse into not only composition but also functional potential of microbial communities.\n",
    "\n",
    "We will use the PICRUST2 plugin to *infer metagenomic data* by mapping 16S rRNA gene sequences to their nearest matching whole genome sequences. For this, we will use the project datasets with the 16S rRNA genes. We will then use this data to gain insights into functional potential of our community. PICRUST2 will generate for us feature tables containing abundance information about KEGG orthologs, enzymes and entire pathways which we can later compare between samples and conditions.\n",
    "\n",
    "**Notebook overview:**\n",
    "\n",
    "[0. Setup](#setup)<br>\n",
    "[1. Functional Inference](#picrust)<br>\n",
    "&nbsp;&nbsp;&nbsp;&nbsp;[1.1 Enriched KEGG orthologs](#ipath)<br>\n",
    "&nbsp;&nbsp;&nbsp;&nbsp;[1.2 Enriched pathways](#metacyc)<br>\n",
    "\n",
    "\n",
    "Reference: PICRUST2 on its [GitHub wiki](https://github.com/picrust/picrust2/wiki), [this tutorial](https://github.com/picrust/picrust2/wiki/q2-picrust2-Tutorial) and the [Nature Biotechnology article](https://doi.org/10.1038/s41587-020-0548-6)."
   ]
  },
  {
   "cell_type": "markdown",
   "id": "6ca7c2f6",
   "metadata": {},
   "source": [
    "<a id='setup'></a>\n",
    "## 0. Setup"
   ]
  },
  {
   "cell_type": "code",
   "execution_count": 2,
   "id": "0a3bcc7b",
   "metadata": {
    "tags": []
   },
   "outputs": [],
   "source": [
    "import os\n",
    "import pandas as pd\n",
    "import qiime2 as q2\n",
    "import requests\n",
    "import math\n",
    "import matplotlib.pyplot as plt\n",
    "import numpy as np\n",
    "import pandas as pd\n",
    "import seaborn as sns\n",
    "\n",
    "from scipy import stats\n",
    "from qiime2 import Visualization\n",
    "\n",
    "data_dir = 'project_data'\n",
    "    \n",
    "%matplotlib inline"
   ]
  },
  {
   "cell_type": "code",
   "execution_count": 3,
   "id": "210739be",
   "metadata": {},
   "outputs": [],
   "source": [
    "def fetch_ipath(ids: list, img_output_path: str, verbose: bool = False):\n",
    "    \"\"\"Fetches a enriched pathways map from iPATH3 for given IDs.\"\"\"\n",
    "    url = 'https://pathways.embl.de/mapping.cgi'\n",
    "    \n",
    "    # remove colon from EC names\n",
    "    if ':' in ids[0]:\n",
    "        ids = [x.replace(':', '') for x in ids]\n",
    "    \n",
    "    if verbose:\n",
    "        print(f'Fetching iPATH3 diagram for ids: {ids}')\n",
    "    params = {\n",
    "        'default_opacity': 0.6,\n",
    "        'export_type': 'svg',\n",
    "        'selection': '\\n'.join(ids)\n",
    "    }   \n",
    "    response = requests.get(url=url, params=params)\n",
    "    \n",
    "    with open(img_output_path, 'wb') as img:\n",
    "        img.write(response.content)"
   ]
  },
  {
   "cell_type": "code",
   "execution_count": 4,
   "id": "1af03ced-2f86-4f4c-9d9f-09a9ba0a6059",
   "metadata": {},
   "outputs": [],
   "source": [
    "# path to the picrust2 conda environment - do not change!\n",
    "picrust_env = '/opt/conda/envs/picrust2/bin'"
   ]
  },
  {
   "cell_type": "markdown",
   "id": "bac3907b-dc16-4fb2-8e63-f5496d049e8b",
   "metadata": {},
   "source": [
    "Download the `FeatureData[Sequence]` from our data which was made in the FirstLook.ipynb:"
   ]
  },
  {
   "cell_type": "code",
   "execution_count": 4,
   "id": "b48335d0-de2b-458a-9d5f-1889a8df2f5c",
   "metadata": {},
   "outputs": [
    {
     "name": "stdout",
     "output_type": "stream",
     "text": [
      "2022-11-28 15:50:29 URL:https://polybox.ethz.ch/index.php/s/MBLSUQXzglnn66u/download?path=%2F&files=Sequences_rep_set.qza [390624/390624] -> \"project_data/rep-seqs.qza\" [1]\n"
     ]
    }
   ],
   "source": [
    "! wget -nv -O $data_dir/rep-seqs.qza 'https://polybox.ethz.ch/index.php/s/MBLSUQXzglnn66u/download?path=%2F&files=Sequences_rep_set.qza'"
   ]
  },
  {
   "cell_type": "markdown",
   "id": "98a10cbe-725e-4863-b9b6-f63b99ed5539",
   "metadata": {},
   "source": [
    "Download the `FeatureTable[Frequency]` containing a mapping of the dereplicated sequences to samples from our data which was made in the FirstLook.ipynb:"
   ]
  },
  {
   "cell_type": "code",
   "execution_count": 5,
   "id": "3819dc36-ef00-4b67-92fb-0dc9bdb9ecc4",
   "metadata": {},
   "outputs": [
    {
     "name": "stdout",
     "output_type": "stream",
     "text": [
      "\u001b[32mUUID\u001b[0m:        fd06ce7d-7b2d-4485-afda-fa50da61e9f4\n",
      "\u001b[32mType\u001b[0m:        FeatureData[Sequence]\n",
      "\u001b[32mData format\u001b[0m: DNASequencesDirectoryFormat\n"
     ]
    }
   ],
   "source": [
    "! qiime tools peek $data_dir/rep-seqs.qza"
   ]
  },
  {
   "cell_type": "code",
   "execution_count": 6,
   "id": "848936c5-f72c-43d9-b342-7a79bc8f7a76",
   "metadata": {},
   "outputs": [
    {
     "name": "stdout",
     "output_type": "stream",
     "text": [
      "2022-11-28 15:50:34 URL:https://polybox.ethz.ch/index.php/s/MBLSUQXzglnn66u/download?path=%2F&files=Feature_table.qza [504534/504534] -> \"project_data/table.qza\" [1]\n"
     ]
    }
   ],
   "source": [
    "! wget -nv -O $data_dir/table.qza 'https://polybox.ethz.ch/index.php/s/MBLSUQXzglnn66u/download?path=%2F&files=Feature_table.qza'"
   ]
  },
  {
   "cell_type": "markdown",
   "id": "e1e216fc-ab9b-431a-b193-8ba6db2ab890",
   "metadata": {},
   "source": [
    "Download the `Metadata` containing metadata to samples from our data:"
   ]
  },
  {
   "cell_type": "code",
   "execution_count": 7,
   "id": "e40cfa1a-3e1d-4a12-9bb1-13416323ee98",
   "metadata": {},
   "outputs": [
    {
     "name": "stdout",
     "output_type": "stream",
     "text": [
      "2022-11-28 15:50:39 URL:https://polybox.ethz.ch/index.php/s/QqbHeUIpIR0okB8/download [300302/300302] -> \"project_data/metadata.tsv\" [1]\n"
     ]
    }
   ],
   "source": [
    "! wget -nv -O $data_dir/metadata.tsv 'https://polybox.ethz.ch/index.php/s/QqbHeUIpIR0okB8/download'"
   ]
  },
  {
   "cell_type": "markdown",
   "id": "ed5ba7be",
   "metadata": {},
   "source": [
    "<a id='picrust'></a>\n",
    "## 1. Functional inference\n",
    "\n",
    "As mentioned in the introduction, we are using Picrust 2 to simulate metagenome data from our 16S dataset. Execute the command below to run picrust2 - it will take approximately 30-40 minutes."
   ]
  },
  {
   "cell_type": "code",
   "execution_count": 13,
   "id": "09f86b29",
   "metadata": {},
   "outputs": [
    {
     "name": "stdout",
     "output_type": "stream",
     "text": [
      "/opt/conda/envs/picrust2/bin:/opt/conda/bin:/usr/local/sbin:/usr/local/bin:/usr/sbin:/usr/bin:/sbin:/bin\n",
      "/opt/conda/envs/picrust2/bin\n",
      "project_data\n",
      "Saved FeatureTable[Frequency] to: project_data/picrust2_results/ko_metagenome.qza\n",
      "Saved FeatureTable[Frequency] to: project_data/picrust2_results/ec_metagenome.qza\n",
      "Saved FeatureTable[Frequency] to: project_data/picrust2_results/pathway_abundance.qza\n"
     ]
    },
    {
     "name": "stderr",
     "output_type": "stream",
     "text": [
      "Warning - 115 input sequences aligned poorly to reference sequences (--min_align option specified a minimum proportion of 0.8 aligning to reference sequences). These input sequences will not be placed and will be excluded from downstream steps.\n",
      "\n",
      "This is the set of poorly aligned input sequences to be excluded: 13f72db00c0dbaa8958b9f7918f0b374, 07beb5cc8e914bcdb53a22bb47519c6f, 000fa3dd1e0addc3fe1e3b5d1008afe8, 94346c6d9a95d3b3ae8cc5199de67117, 879643dd982eb501f3c81fca990fd518, acb8def29a97a1c91b3fc3a21f2caf2b, b957bbc0b2cf69471ecf66e8ad3e04bc, aff251a2cb898bb774dbdb48905421cb, fbb21b0edc5b0ef81226200b39c869f6, 70e4caa9982037a944a5d98bf98d55f8, 9ce8bef85c4979f8b7bc3cac7ed448c3, b4eb3cde9bea75d4b44aa58ca81582c0, cd4a519b47d3968e0691867615a5c176, 50494e8139cc7865daf756431a9ddbc4, 6b3d79b96bbe4081267cbf253f6acf4a, 2d156bf28e5958f61156702359c1bbc9, d59db3377c485ff138fab36dfff0829a, cd0b6534edf1e39f840043cc9ff16245, b53340e67fe74981e67adddc676e0a70, aaf3da224d70d78e682e45aee3ffdd11, ea8eb3076951ea382ced8d12e64a09b8, b4af13714047999d9c1f412ef2ee40fc, 7c22b912d937a2a56abf575d9a74a926, 800ee92d16f9ed811de6cdcbc6743a02, 1cc76c8348170e893ed906f3887a8e85, a09ceaed5bdfdef2d6ee2b723513e355, 5dcdf86dcd2943dc8f27273f780dd0bf, e892639661f6691b207cc9124e32b97c, 8c30f9f1c5f35d4932a392328dc5c3e1, 4d3e75d60db6a5dc3c25d60bd4ef1f20, 2a91f6790b6602e33be6d578a546f331, ea80cc5219e220a688800c345d9990b9, 844472433034f82ec4ce3a5a8e3e0d3e, e9b38a943a03404e19964181a04d6a1e, 96bff96060f83e1b32d69a589e9a2d0b, 8c4f1f8a04bdbcc6ee3c0b3b7e550091, 426a886660bcd3b450db6349ba191f6e, 4c2e5a570e5e5fb65778c7fa282295f0, 8cfdbef1c119e56a5857594b82040748, e8b30911ccd79e63c9650c0694a03b4c, fd18d3f1d229bf5b7bf04f30d594db19, 78067c0d407a3086e607c56f62c1c4d7, f67f6fde94ade8c1470c16a30f222ef7, 92c0fb83f86d33965f9df31b44c33c28, c24a108e880ac271becfd6140c723780, 0df80b68730c1410b7493f12f11fc0d9, e3dc736235b3eaa2a6dfbcd6064528f3, 85918b59c24b827050c9077964e406c3, ee10b2de2ef2dcef88cd4d669eb87871, bc97febfd92237f4bc8ea3aee36cef49, c8d98618054e86649356a27d6f1d8aae, b92fa34247f65307635ab668cea2e9a1, 0c0c01ea235fe8c660da78fef6cdda0e, 805c6f646fe989084c59b3d14a330b30, 36be65b6e168ec22ea1532871bf84f2b, 18bebd49cf400e8ed6493aa7f2e3196e, 088a0743a98814e2b92bacc2c3fdc3c6, 00f2e2cf98492d2b1bdd34cbefed544d, 15aec6d51f62a60df88b18509edf1c3b, 8a22a55658a1739d893b04aeb107c679, 0919815a0d3419ceef3672072c20cac2, fcaac8ba5c653d422c8ef4d279b5fb0f, af157aa5386f6c5fed0bf06fa8d92700, 3a695c26323c6bcfe24f899a180d7ebe, b5cd915de627a5bb13f4f2495f3b5e2b, 542778fab243d9da8e0e3c57b943a6c7, a67dc2899e69627d2c079848f0ec5baf, 379848b5f3222a7bde94970a35b46c04, 35fa68343224f6dbe97bba42bb5fd30e, 6d9792a1188951d8160c1e3408bc39a7, d991b949f100b592e7986cabaa14e839, c5e1ea6952f65ec5f98b93731249e464, 4fb62a4cdb1ac2087e6fc3903a39309f, 2a15b37fa76eb96b4d089af7d9c3f6a2, 93033ea52aa24b2414fe6321d3f267cb, ed0823621532a81035641c387bc0af31, 25bcb094f3f1309d77abad0030be7173, 51ca4495c2aa7b04050e47eb57e020e4, cecb07d22297a8f49b3ff5b837c9fc93, 45666c4fcd882d4347ca94b9acfa2b6d, 2e5e8d2f2699c45740ddd3b456b2bf29, b478766efccc78ddcb80d815b558be3c, 507785cd038a4e0650f1844606f53ad1, 14c386d07f9d066d210ff8bb3bb62943, ddbc90640fa4d976c16ebf810fb63f4a, bbad69c39941c00c6cc1c8945f0ab75f, a886aeaa2724836213686f674864856e, 83c5c3dc5e9a9324245d4e2b5934d981, c28c89aebe8d9059cac7f4de2169e2af, d24ab3d3256e204995cf2be85cbdbcbe, fcee54aecab1684176a25f60ef7d2ef1, a22558621ee3f3eea357222fecd6ed8f, 299f47039bd2fde20cb3c7cbf75c5df7, 92485a3b8ffb4ff181932654bc541949, d8189e405f77e7881f8b096c09f938e9, 02d5c227773adf1890c6fb2d244bb876, 71e981b051932896d6cffa13fd01b2fd, 9b17f9564274830a979b68267de4a355, 5e2e52ab507ae9dd8dc09df1fd24ec52, f3e3ae97dc0e7c00ab66bc5307d843fe, df485f8d99ef401c56d6405e7ad9dc31, 3c6dfe7643733943a693ab464674eabf, 4068cad43bf2c7093fa2e5742517185d, 8aeb229fb191ab0b48d63f2fd266cdfc, e427d60e96420ec7e0a5ade568119972, 27b9e7f1375b8333aee5c02f360a30af, f5e35fe10645700b42b72921b7a6c9c3, a3ba3f666273f9baf96e1bd002449993, 202526a16a05c25242fd58705ac8f8e3, 59fe9899aa6b4898fb828eeb8bda0e8a, d391c0ec3741f4ce75f992e23185c822, 9a0dfab8cd6ddad145a523ef8fbbfde9, 292390150619abbdc74784a61e1b959b, 76addc8524e10c6faff0161e36a1987a, 88bdbe42fec20bd88752ffdb86836cef\n",
      "\n",
      "\n",
      "\n",
      "\n",
      "\n",
      "20 of 4951 ASVs were above the max NSTI cut-off of 2.0 and were removed from the downstream analyses.\n",
      "\n",
      "20 of 4951 ASVs were above the max NSTI cut-off of 2.0 and were removed from the downstream analyses.\n",
      "\n",
      "\n"
     ]
    }
   ],
   "source": [
    "%%script env picrust_env=\"$picrust_env\" data_dir=\"$data_dir\" bash\n",
    "\n",
    "# append the env location to PATH so that qiime\n",
    "# can find all required executables\n",
    "export PATH=$picrust_env:$PATH\n",
    "\n",
    "\n",
    "$picrust_env/qiime picrust2 full-pipeline \\\n",
    "    --i-seq $data_dir/rep-seqs.qza \\\n",
    "    --i-table $data_dir/table.qza \\\n",
    "    --output-dir $data_dir/picrust2_results \\\n",
    "    --p-placement-tool sepp \\\n",
    "    --p-threads 2 \\\n",
    "    --p-hsp-method pic \\\n",
    "    --p-max-nsti 2 --verbose"
   ]
  },
  {
   "cell_type": "markdown",
   "id": "86634b05",
   "metadata": {},
   "source": [
    "In the `picrust2_results` subdirectory we get 3 artifacts - all of them are of the `FeatureTable[Frequency]` semantic type and hold abundance information for various functional features:\n",
    "\n",
    "1. KO metagenome - abundances of [KEGG](https://www.kegg.jp) orthologs\n",
    "2. EC metagenome - abundance of [enzymes](https://www.brenda-enzymes.org)\n",
    "3. MetaCyc pathways - abundance of [MetaCyc](https://metacyc.org) pathways"
   ]
  },
  {
   "cell_type": "code",
   "execution_count": 23,
   "id": "60ad1e2c",
   "metadata": {},
   "outputs": [],
   "source": [
    "metadata = pd.read_csv(f'{data_dir}/metadata.tsv', sep='\\t', header=0, index_col=0)\n",
    "metadata.index = metadata.index.astype(float)"
   ]
  },
  {
   "cell_type": "code",
   "execution_count": 7,
   "id": "a0cd0db9-eb41-4a0b-8c4e-ad0afc8389cf",
   "metadata": {},
   "outputs": [
    {
     "name": "stdout",
     "output_type": "stream",
     "text": [
      "True     415\n",
      "False    108\n",
      "Name: NUT_alcohol_consumption, dtype: int64\n",
      "Occasionally    124\n",
      "Regularly       122\n",
      "Rarely          117\n",
      "Never           103\n",
      "Daily            52\n",
      "Not provided      5\n",
      "Name: NUT_alcohol_frequency, dtype: int64\n",
      "Omnivore                            429\n",
      "Omnivore but do not eat red meat     29\n",
      "Vegetarian but eat seafood           27\n",
      "Vegetarian                           24\n",
      "Vegan                                 9\n",
      "Not provided                          5\n",
      "Name: NUT_diet_type, dtype: int64\n"
     ]
    }
   ],
   "source": [
    "print(metadata['NUT_alcohol_consumption'].value_counts())\n",
    "print(metadata['NUT_alcohol_frequency'].value_counts())\n",
    "print(metadata['NUT_diet_type'].value_counts())"
   ]
  },
  {
   "cell_type": "markdown",
   "id": "4c8015c6",
   "metadata": {},
   "source": [
    "Let's look at the metadata briefly to see what kind of categories we have available:"
   ]
  },
  {
   "cell_type": "code",
   "execution_count": 9,
   "id": "efa10199",
   "metadata": {},
   "outputs": [
    {
     "name": "stdout",
     "output_type": "stream",
     "text": [
      "\u001b[32mSaved Visualization to: project_data/metadata.qzv\u001b[0m\n",
      "\u001b[0m"
     ]
    }
   ],
   "source": [
    "! qiime metadata tabulate \\\n",
    "    --m-input-file $data_dir/metadata.tsv \\\n",
    "    --o-visualization $data_dir/metadata.qzv"
   ]
  },
  {
   "cell_type": "code",
   "execution_count": 10,
   "id": "4945c514",
   "metadata": {
    "collapsed": true,
    "jupyter": {
     "outputs_hidden": true
    },
    "tags": []
   },
   "outputs": [
    {
     "data": {
      "text/html": [
       "<div><img onload=\"(function(div, url){\n",
       "if (typeof require !== 'undefined') {\n",
       "    var baseURL = require.toUrl('').split('/').slice(0, -2).join('/');\n",
       "} else {\n",
       "    var baseURL = JSON.parse(\n",
       "        document.getElementById('jupyter-config-data').innerHTML\n",
       "    ).baseUrl.slice(0, -1);\n",
       "}\n",
       "url = baseURL + url;\n",
       "fetch(url).then(function(res) {\n",
       "    if (res.status === 404) {\n",
       "        div.innerHTML = 'Install QIIME 2 Jupyter extension with:<br />' +\n",
       "                        '<code>jupyter serverextension enable --py qiime2' +\n",
       "                        ' --sys-prefix</code><br />then restart your server.' +\n",
       "                        '<br /><br />(Interactive output not available on ' +\n",
       "                        'static notebook viewer services like nbviewer.)';\n",
       "    } else if (res.status === 409) {\n",
       "        div.innerHTML = 'Visualization no longer in scope. Re-run this cell' +\n",
       "                        ' to see the visualization.';\n",
       "    } else if (res.ok) {\n",
       "        url = res.url;\n",
       "        div.innerHTML = '<iframe src=\\'' + url + '\\' style=\\'' +\n",
       "                        'width: 100%; height: 700px; border: 0;\\'>' +\n",
       "                        '</iframe><hr />Open in a: <a href=\\'' + url + '\\'' +\n",
       "                        ' target=\\'_blank\\'>new window</a>'\n",
       "    } else {\n",
       "        div.innerHTML = 'Something has gone wrong. Check notebook server for' +\n",
       "                        ' errors.';\n",
       "    }\n",
       "});\n",
       "})(this.parentElement, '/qiime2/redirect?location=/tmp/qiime2-archive-wgahlimv')\" src=\"data:image/gif;base64,R0lGODlhAQABAIAAAP///wAAACH5BAEAAAAALAAAAAABAAEAAAICRAEAOw==\" /></div>"
      ],
      "text/plain": [
       "<visualization: Visualization uuid: da6f7794-fdf5-4c2a-b387-de64278373b4>"
      ]
     },
     "execution_count": 10,
     "metadata": {},
     "output_type": "execute_result"
    }
   ],
   "source": [
    "Visualization.load(f'{data_dir}/metadata.qzv')"
   ]
  },
  {
   "cell_type": "markdown",
   "id": "d27be17e",
   "metadata": {},
   "source": [
    "Now, we can read in all three artifacts using QIIME 2 Python API - we can view them as DataFrames:"
   ]
  },
  {
   "cell_type": "code",
   "execution_count": 24,
   "id": "f211bd88",
   "metadata": {},
   "outputs": [],
   "source": [
    "ko = q2.Artifact.load(f'{data_dir}/picrust2_results/ko_metagenome.qza').view(pd.DataFrame)\n",
    "ec = q2.Artifact.load(f'{data_dir}/picrust2_results/ec_metagenome.qza').view(pd.DataFrame)\n",
    "pa = q2.Artifact.load(f'{data_dir}/picrust2_results/pathway_abundance.qza').view(pd.DataFrame)\n",
    "ko.index = ko.index.astype(float)\n",
    "ec.index = ec.index.astype(float)\n",
    "pa.index = pa.index.astype(float)"
   ]
  },
  {
   "cell_type": "markdown",
   "id": "db35c21d",
   "metadata": {},
   "source": [
    "<a id='ipath'></a>\n",
    "### 1.1 Enriched KEGG orthologs visualization\n",
    "\n",
    "Find the most abundant KEGG orthologs and plot them for both, where the sample alcohol cunsumption is .\n",
    "\n",
    "We start by merging our feature table with the treatment column (`NUT_alcohol_consumption`) from the metadata:"
   ]
  },
  {
   "cell_type": "code",
   "execution_count": 25,
   "id": "2a0fd440",
   "metadata": {
    "tags": []
   },
   "outputs": [],
   "source": [
    "ko_meta = ko.merge(metadata[['NUT_alcohol_consumption']], left_index=True, right_index=True)\n",
    "ec_meta = ec.merge(metadata[['NUT_alcohol_consumption']], left_index=True, right_index=True)\n",
    "pa_meta = pa.merge(metadata[['NUT_alcohol_consumption']], left_index=True, right_index=True)\n"
   ]
  },
  {
   "cell_type": "markdown",
   "id": "d0a50441",
   "metadata": {},
   "source": [
    "Next, we will calculate an average abundance of each KO, EC and pathway in each group (alcohol consumption vs. no alcohol consumption):"
   ]
  },
  {
   "cell_type": "code",
   "execution_count": 27,
   "id": "a56f5bfc",
   "metadata": {},
   "outputs": [],
   "source": [
    "# collapse samples per sample_type - calculate average abundance\n",
    "\n",
    "ko_meta_avg = ko_meta.groupby('NUT_alcohol_consumption').mean()\n",
    "ec_meta_avg = ec_meta.groupby('NUT_alcohol_consumption').mean()\n",
    "pa_meta_avg = pa_meta.groupby('NUT_alcohol_consumption').mean()"
   ]
  },
  {
   "cell_type": "code",
   "execution_count": 28,
   "id": "36830ebe",
   "metadata": {},
   "outputs": [
    {
     "data": {
      "text/html": [
       "<div>\n",
       "<style scoped>\n",
       "    .dataframe tbody tr th:only-of-type {\n",
       "        vertical-align: middle;\n",
       "    }\n",
       "\n",
       "    .dataframe tbody tr th {\n",
       "        vertical-align: top;\n",
       "    }\n",
       "\n",
       "    .dataframe thead th {\n",
       "        text-align: right;\n",
       "    }\n",
       "</style>\n",
       "<table border=\"1\" class=\"dataframe\">\n",
       "  <thead>\n",
       "    <tr style=\"text-align: right;\">\n",
       "      <th></th>\n",
       "      <th>K00001</th>\n",
       "      <th>K00002</th>\n",
       "      <th>K00003</th>\n",
       "      <th>K00004</th>\n",
       "      <th>K00005</th>\n",
       "      <th>K00007</th>\n",
       "      <th>K00008</th>\n",
       "      <th>K00009</th>\n",
       "      <th>K00010</th>\n",
       "      <th>K00011</th>\n",
       "      <th>...</th>\n",
       "      <th>K19776</th>\n",
       "      <th>K19777</th>\n",
       "      <th>K19778</th>\n",
       "      <th>K19779</th>\n",
       "      <th>K19780</th>\n",
       "      <th>K19784</th>\n",
       "      <th>K19785</th>\n",
       "      <th>K19788</th>\n",
       "      <th>K19789</th>\n",
       "      <th>K19791</th>\n",
       "    </tr>\n",
       "    <tr>\n",
       "      <th>NUT_alcohol_consumption</th>\n",
       "      <th></th>\n",
       "      <th></th>\n",
       "      <th></th>\n",
       "      <th></th>\n",
       "      <th></th>\n",
       "      <th></th>\n",
       "      <th></th>\n",
       "      <th></th>\n",
       "      <th></th>\n",
       "      <th></th>\n",
       "      <th></th>\n",
       "      <th></th>\n",
       "      <th></th>\n",
       "      <th></th>\n",
       "      <th></th>\n",
       "      <th></th>\n",
       "      <th></th>\n",
       "      <th></th>\n",
       "      <th></th>\n",
       "      <th></th>\n",
       "      <th></th>\n",
       "    </tr>\n",
       "  </thead>\n",
       "  <tbody>\n",
       "    <tr>\n",
       "      <th>False</th>\n",
       "      <td>3162.421122</td>\n",
       "      <td>68.691026</td>\n",
       "      <td>4796.981177</td>\n",
       "      <td>398.456162</td>\n",
       "      <td>3772.020015</td>\n",
       "      <td>83.825277</td>\n",
       "      <td>4324.14981</td>\n",
       "      <td>1467.899032</td>\n",
       "      <td>2903.594500</td>\n",
       "      <td>0.339969</td>\n",
       "      <td>...</td>\n",
       "      <td>1083.124950</td>\n",
       "      <td>718.306041</td>\n",
       "      <td>573.952036</td>\n",
       "      <td>94.495166</td>\n",
       "      <td>137.206914</td>\n",
       "      <td>1247.168509</td>\n",
       "      <td>3.566936e-127</td>\n",
       "      <td>0.000026</td>\n",
       "      <td>1006.961259</td>\n",
       "      <td>0.006508</td>\n",
       "    </tr>\n",
       "    <tr>\n",
       "      <th>True</th>\n",
       "      <td>3181.198018</td>\n",
       "      <td>73.266389</td>\n",
       "      <td>4909.399083</td>\n",
       "      <td>400.607382</td>\n",
       "      <td>3893.175186</td>\n",
       "      <td>51.285504</td>\n",
       "      <td>4566.19005</td>\n",
       "      <td>1400.650732</td>\n",
       "      <td>2557.094055</td>\n",
       "      <td>0.792130</td>\n",
       "      <td>...</td>\n",
       "      <td>1075.325431</td>\n",
       "      <td>688.104082</td>\n",
       "      <td>612.494259</td>\n",
       "      <td>103.840925</td>\n",
       "      <td>109.865976</td>\n",
       "      <td>1059.402351</td>\n",
       "      <td>7.638711e-06</td>\n",
       "      <td>0.002091</td>\n",
       "      <td>922.806781</td>\n",
       "      <td>0.005347</td>\n",
       "    </tr>\n",
       "  </tbody>\n",
       "</table>\n",
       "<p>2 rows × 10149 columns</p>\n",
       "</div>"
      ],
      "text/plain": [
       "                              K00001     K00002       K00003      K00004  \\\n",
       "NUT_alcohol_consumption                                                    \n",
       "False                    3162.421122  68.691026  4796.981177  398.456162   \n",
       "True                     3181.198018  73.266389  4909.399083  400.607382   \n",
       "\n",
       "                              K00005     K00007      K00008       K00009  \\\n",
       "NUT_alcohol_consumption                                                    \n",
       "False                    3772.020015  83.825277  4324.14981  1467.899032   \n",
       "True                     3893.175186  51.285504  4566.19005  1400.650732   \n",
       "\n",
       "                              K00010    K00011  ...       K19776      K19777  \\\n",
       "NUT_alcohol_consumption                         ...                            \n",
       "False                    2903.594500  0.339969  ...  1083.124950  718.306041   \n",
       "True                     2557.094055  0.792130  ...  1075.325431  688.104082   \n",
       "\n",
       "                             K19778      K19779      K19780       K19784  \\\n",
       "NUT_alcohol_consumption                                                    \n",
       "False                    573.952036   94.495166  137.206914  1247.168509   \n",
       "True                     612.494259  103.840925  109.865976  1059.402351   \n",
       "\n",
       "                                K19785    K19788       K19789    K19791  \n",
       "NUT_alcohol_consumption                                                  \n",
       "False                    3.566936e-127  0.000026  1006.961259  0.006508  \n",
       "True                      7.638711e-06  0.002091   922.806781  0.005347  \n",
       "\n",
       "[2 rows x 10149 columns]"
      ]
     },
     "execution_count": 28,
     "metadata": {},
     "output_type": "execute_result"
    }
   ],
   "source": [
    "ko_meta_avg.head()"
   ]
  },
  {
   "cell_type": "markdown",
   "id": "f824720a",
   "metadata": {},
   "source": [
    "Finally, let's find the most abundant features in each table:"
   ]
  },
  {
   "cell_type": "code",
   "execution_count": 29,
   "id": "0ed3c104",
   "metadata": {},
   "outputs": [
    {
     "name": "stdout",
     "output_type": "stream",
     "text": [
      "Saving 101 most abundant features...\n",
      "Saving 85 most abundant features...\n",
      "Saving 5 most abundant features...\n"
     ]
    }
   ],
   "source": [
    "# find top x% of the most abundant KOs, ECs and pathways in each sample type\n",
    "\n",
    "def find_most_abundant(df: pd.DataFrame, frac):\n",
    "    if 0 < frac < 1:\n",
    "        frac = int(frac * len(df.columns))\n",
    "    print(f'Saving {frac} most abundant features...')\n",
    "    most_abundant = {\n",
    "        smp: df.loc[smp, :].sort_values(ascending=False)[:frac]\n",
    "        for smp in df.index\n",
    "    }\n",
    "    return most_abundant\n",
    "\n",
    "ko_most_abundant = find_most_abundant(ko_meta_avg, 0.01)\n",
    "ec_most_abundant = find_most_abundant(ec_meta_avg, 0.03)\n",
    "pa_most_abundant = find_most_abundant(pa_meta_avg, 5)"
   ]
  },
  {
   "cell_type": "code",
   "execution_count": 34,
   "id": "fd6c8e96",
   "metadata": {},
   "outputs": [
    {
     "name": "stdout",
     "output_type": "stream",
     "text": [
      "10 most abundant KOs in the alcohole consumption group are: ['K03088', 'K01990', 'K02004', 'K06147', 'K01992', 'K02003', 'K02529', 'K07024', 'K03497', 'K02015']\n",
      "10 most abundant KOs in the non-alcohole consumption group are: ['K03088', 'K01990', 'K02004', 'K01992', 'K06147', 'K02003', 'K02529', 'K07024', 'K00059', 'K02015']\n",
      "\n"
     ]
    }
   ],
   "source": [
    "print(f'10 most abundant KOs in the alcohole consumption group are: {ko_most_abundant[True].index[:10].tolist()}\\n'\n",
    "      f'10 most abundant KOs in the non-alcohole consumption group are: {ko_most_abundant[False].index[:10].tolist()}\\n')"
   ]
  },
  {
   "cell_type": "markdown",
   "id": "9dfb00d3",
   "metadata": {},
   "source": [
    "To visualize the KOs and ECs we can use the [Interactive Pathway Explorer](https://pathways.embl.de) (iPath 3). First, we will fetch pathway maps for KOs and ECs per sample group and display them as SVGs. Then, you can try copying some IDs and trying out the interactive pathway map available on the web page linked above - it will allow you to zoom into different areas of the map and look at some more interesting details."
   ]
  },
  {
   "cell_type": "code",
   "execution_count": 35,
   "id": "855955d4",
   "metadata": {},
   "outputs": [],
   "source": [
    "for smp in ko_most_abundant.keys():\n",
    "    fetch_ipath(ko_most_abundant[smp].index.tolist(), f'{data_dir}/picrust2_results/kos_{smp}.svg')\n",
    "    fetch_ipath(ec_most_abundant[smp].index.str.replace(':', '').tolist(), f'{data_dir}/picrust2_results/ecs_{smp}.svg')"
   ]
  },
  {
   "cell_type": "markdown",
   "id": "954ad5dc",
   "metadata": {},
   "source": [
    "This should have fetched 4 pathway maps: 1 map per sample group (alcohol cons vs. non-alcohol cons) and 1 map per feature table (KO vs. EC). The are rather large images and so displaying them inline here would make the maps unreadable."
   ]
  },
  {
   "cell_type": "markdown",
   "id": "f1aac16b",
   "metadata": {},
   "source": [
    "<a id='metacyc'></a>\n",
    "### 1.2 Enriched pathways\n",
    "\n",
    "To get a bigger picture, we can also look at the most abundant pathways in both sample groups. Use one of the functions defined above to identify the four pathways that are most abundant in the alcohole and non-alcohole consumption."
   ]
  },
  {
   "cell_type": "code",
   "execution_count": 40,
   "id": "dad015e4",
   "metadata": {},
   "outputs": [
    {
     "name": "stdout",
     "output_type": "stream",
     "text": [
      "4 most abundant pathways in the treatment group are: ['NONOXIPENT-PWY', 'PWY-7111', 'PWY-5101', 'PWY-7663']\n",
      "4 most abundant pathways in the non-treatment group are: ['NONOXIPENT-PWY', 'PWY-7111', 'PWY-5101', 'PWY-7663']\n",
      "\n"
     ]
    }
   ],
   "source": [
    "print(f'4 most abundant pathways in the alcohol consumption group are: {pa_most_abundant[True].index[:4].tolist()}\\n'\n",
    "      f'4 most abundant pathways in the non-alcohol consumptiopn are: {pa_most_abundant[False].index[:4].tolist()}\\n')"
   ]
  },
  {
   "cell_type": "markdown",
   "id": "93c3252c",
   "metadata": {},
   "source": [
    "Find whether there are pathways that differ significantly between samples with and without alcohol consumption."
   ]
  },
  {
   "cell_type": "code",
   "execution_count": 43,
   "id": "8c635ea4",
   "metadata": {},
   "outputs": [
    {
     "name": "stdout",
     "output_type": "stream",
     "text": [
      "\u001b[32mSaved FeatureTable[Composition] to: project_data/picrust2_results/pathway_abundance_abund.qza\u001b[0m\n",
      "\u001b[0m"
     ]
    }
   ],
   "source": [
    "! qiime composition add-pseudocount \\\n",
    "    --i-table $data_dir/picrust2_results/pathway_abundance.qza \\\n",
    "    --o-composition-table $data_dir/picrust2_results/pathway_abundance_abund.qza"
   ]
  },
  {
   "cell_type": "code",
   "execution_count": 44,
   "id": "b01e4697",
   "metadata": {},
   "outputs": [
    {
     "name": "stdout",
     "output_type": "stream",
     "text": [
      "\u001b[32mSaved Visualization to: project_data/pa_ancom_alc.qzv\u001b[0m\n",
      "\u001b[0m"
     ]
    }
   ],
   "source": [
    "! qiime composition ancom \\\n",
    "    --i-table $data_dir/picrust2_results/pathway_abundance_abund.qza \\\n",
    "    --m-metadata-file $data_dir/metadata.tsv \\\n",
    "    --m-metadata-column 'NUT_alcohol_consumption' \\\n",
    "    --p-transform-function log \\\n",
    "    --o-visualization $data_dir/pa_ancom_alc.qzv"
   ]
  },
  {
   "cell_type": "code",
   "execution_count": 45,
   "id": "d9a59354",
   "metadata": {},
   "outputs": [
    {
     "data": {
      "text/html": [
       "<div><img onload=\"(function(div, url){\n",
       "if (typeof require !== 'undefined') {\n",
       "    var baseURL = require.toUrl('').split('/').slice(0, -2).join('/');\n",
       "} else {\n",
       "    var baseURL = JSON.parse(\n",
       "        document.getElementById('jupyter-config-data').innerHTML\n",
       "    ).baseUrl.slice(0, -1);\n",
       "}\n",
       "url = baseURL + url;\n",
       "fetch(url).then(function(res) {\n",
       "    if (res.status === 404) {\n",
       "        div.innerHTML = 'Install QIIME 2 Jupyter extension with:<br />' +\n",
       "                        '<code>jupyter serverextension enable --py qiime2' +\n",
       "                        ' --sys-prefix</code><br />then restart your server.' +\n",
       "                        '<br /><br />(Interactive output not available on ' +\n",
       "                        'static notebook viewer services like nbviewer.)';\n",
       "    } else if (res.status === 409) {\n",
       "        div.innerHTML = 'Visualization no longer in scope. Re-run this cell' +\n",
       "                        ' to see the visualization.';\n",
       "    } else if (res.ok) {\n",
       "        url = res.url;\n",
       "        div.innerHTML = '<iframe src=\\'' + url + '\\' style=\\'' +\n",
       "                        'width: 100%; height: 700px; border: 0;\\'>' +\n",
       "                        '</iframe><hr />Open in a: <a href=\\'' + url + '\\'' +\n",
       "                        ' target=\\'_blank\\'>new window</a>'\n",
       "    } else {\n",
       "        div.innerHTML = 'Something has gone wrong. Check notebook server for' +\n",
       "                        ' errors.';\n",
       "    }\n",
       "});\n",
       "})(this.parentElement, '/qiime2/redirect?location=/tmp/qiime2-archive-3pkj7cxg')\" src=\"data:image/gif;base64,R0lGODlhAQABAIAAAP///wAAACH5BAEAAAAALAAAAAABAAEAAAICRAEAOw==\" /></div>"
      ],
      "text/plain": [
       "<visualization: Visualization uuid: e6b26a88-53ec-419b-93ed-e70073030e5b>"
      ]
     },
     "execution_count": 45,
     "metadata": {},
     "output_type": "execute_result"
    }
   ],
   "source": [
    "Visualization.load(f'{data_dir}/pa_ancom_alc.qzv')"
   ]
  }
 ],
 "metadata": {
  "kernelspec": {
   "display_name": "Python 3 (ipykernel)",
   "language": "python",
   "name": "python3"
  },
  "language_info": {
   "codemirror_mode": {
    "name": "ipython",
    "version": 3
   },
   "file_extension": ".py",
   "mimetype": "text/x-python",
   "name": "python",
   "nbconvert_exporter": "python",
   "pygments_lexer": "ipython3",
   "version": "3.8.13"
  }
 },
 "nbformat": 4,
 "nbformat_minor": 5
}
