{
 "cells": [
  {
   "cell_type": "markdown",
   "id": "150d84cf",
   "metadata": {
    "execution": {
     "iopub.execute_input": "2021-10-01T10:31:55.394646Z",
     "iopub.status.busy": "2021-10-01T10:31:55.393848Z",
     "iopub.status.idle": "2021-10-01T10:31:55.402993Z",
     "shell.execute_reply": "2021-10-01T10:31:55.401758Z",
     "shell.execute_reply.started": "2021-10-01T10:31:55.394573Z"
    }
   },
   "source": [
    "# Metagenomics\n",
    "\n",
    "This Jupyternotebook is focusing on the analysis of metagenomics datasets, which allow us to get a insight into the composition and the functional potential of microbial communities in our data.\n",
    "\n",
    "PICRUST2  maps 16S rRNA gene sequences to their nearest matching whole genome sequences. The function produces feature tables with the information of KEGG orthologs, enzymes and entire pathways to compare the samples and condition of the metatdata among themselves.\n",
    "\n",
    "**Notebook overview:**\n",
    "\n",
    "[0. Setup](#setup)<br>\n",
    "[1. Functional Inference](#picrust)<br>\n",
    "&nbsp;&nbsp;&nbsp;&nbsp;[1.1 Enriched KEGG orthologs alcohol consumption](#ipath)<br>\n",
    "&nbsp;&nbsp;&nbsp;&nbsp;[1.2 Enriched pathways alcohol consumption](#metacyc)<br>\n",
    "&nbsp;&nbsp;&nbsp;&nbsp;[1.3 Enriched KEGG orthologs alcohol frequency](#metacyc_af)<br>\n",
    "&nbsp;&nbsp;&nbsp;&nbsp;[1.4 Enriched pathways alcohol frequency](#metacyc_af)<br>\n",
    "[2. Milk products](#milk)<br>\n",
    "[3. Mediterranean Diet](#mediterranean)<br>\n",
    "[4. Poultry](#poultry)<br>\n",
    "[5. Meat](#meat)<br>\n",
    "[6. Vegetarian Diet](#vegi)<br>\n",
    "[7. Gluten](#gluten)<br>\n",
    "[8. Sweet Tooth](#sweet)<br>\n",
    "[9. Fermented or Probiotics](#probiotic)<br>\n",
    "[XY. Test for Rest](#rest)<br>\n",
    "\n",
    "Reference: PICRUST2 [GitHub wiki](https://github.com/picrust/picrust2/wiki) and [Nature Biotechnology article](https://doi.org/10.1038/s41587-020-0548-6)."
   ]
  },
  {
   "cell_type": "markdown",
   "id": "6ca7c2f6",
   "metadata": {},
   "source": [
    "<a id='setup'></a>\n",
    "## 0. Setup"
   ]
  },
  {
   "cell_type": "code",
   "execution_count": 155,
   "id": "0a3bcc7b",
   "metadata": {
    "tags": []
   },
   "outputs": [],
   "source": [
    "import os\n",
    "import pandas as pd\n",
    "import qiime2 as q2\n",
    "import requests\n",
    "import math\n",
    "import matplotlib.pyplot as plt\n",
    "import numpy as np\n",
    "import pandas as pd\n",
    "import seaborn as sns\n",
    "\n",
    "from scipy import stats\n",
    "from qiime2 import Visualization\n",
    "\n",
    "data_dir = 'project_data'\n",
    "    \n",
    "%matplotlib inline"
   ]
  },
  {
   "cell_type": "code",
   "execution_count": 2,
   "id": "210739be",
   "metadata": {},
   "outputs": [],
   "source": [
    "def fetch_ipath(ids: list, img_output_path: str, verbose: bool = False):\n",
    "    \"\"\"Fetches a enriched pathways map from iPATH3 for given IDs.\"\"\"\n",
    "    url = 'https://pathways.embl.de/mapping.cgi'\n",
    "    \n",
    "    # remove colon from EC names\n",
    "    if ':' in ids[0]:\n",
    "        ids = [x.replace(':', '') for x in ids]\n",
    "    \n",
    "    if verbose:\n",
    "        print(f'Fetching iPATH3 diagram for ids: {ids}')\n",
    "    params = {\n",
    "        'default_opacity': 0.6,\n",
    "        'export_type': 'svg',\n",
    "        'selection': '\\n'.join(ids)\n",
    "    }   \n",
    "    response = requests.get(url=url, params=params)\n",
    "    \n",
    "    with open(img_output_path, 'wb') as img:\n",
    "        img.write(response.content)"
   ]
  },
  {
   "cell_type": "code",
   "execution_count": 3,
   "id": "1af03ced-2f86-4f4c-9d9f-09a9ba0a6059",
   "metadata": {},
   "outputs": [],
   "source": [
    "# path to the picrust2 conda environment - do not change!\n",
    "picrust_env = '/opt/conda/envs/picrust2/bin'"
   ]
  },
  {
   "cell_type": "markdown",
   "id": "bac3907b-dc16-4fb2-8e63-f5496d049e8b",
   "metadata": {},
   "source": [
    "Download the `FeatureData[Sequence]` from our data which was made in the FirstLook.ipynb:"
   ]
  },
  {
   "cell_type": "code",
   "execution_count": 4,
   "id": "b48335d0-de2b-458a-9d5f-1889a8df2f5c",
   "metadata": {},
   "outputs": [
    {
     "name": "stdout",
     "output_type": "stream",
     "text": [
      "2022-11-28 15:50:29 URL:https://polybox.ethz.ch/index.php/s/MBLSUQXzglnn66u/download?path=%2F&files=Sequences_rep_set.qza [390624/390624] -> \"project_data/rep-seqs.qza\" [1]\n"
     ]
    }
   ],
   "source": [
    "! wget -nv -O $data_dir/rep-seqs.qza 'https://polybox.ethz.ch/index.php/s/MBLSUQXzglnn66u/download?path=%2F&files=Sequences_rep_set.qza'"
   ]
  },
  {
   "cell_type": "markdown",
   "id": "98a10cbe-725e-4863-b9b6-f63b99ed5539",
   "metadata": {},
   "source": [
    "Download the `FeatureTable[Frequency]` containing a mapping of the dereplicated sequences to samples from our data which was made in the FirstLook.ipynb:"
   ]
  },
  {
   "cell_type": "code",
   "execution_count": 5,
   "id": "3819dc36-ef00-4b67-92fb-0dc9bdb9ecc4",
   "metadata": {},
   "outputs": [
    {
     "name": "stdout",
     "output_type": "stream",
     "text": [
      "\u001b[32mUUID\u001b[0m:        fd06ce7d-7b2d-4485-afda-fa50da61e9f4\n",
      "\u001b[32mType\u001b[0m:        FeatureData[Sequence]\n",
      "\u001b[32mData format\u001b[0m: DNASequencesDirectoryFormat\n"
     ]
    }
   ],
   "source": [
    "! qiime tools peek $data_dir/rep-seqs.qza"
   ]
  },
  {
   "cell_type": "code",
   "execution_count": 6,
   "id": "848936c5-f72c-43d9-b342-7a79bc8f7a76",
   "metadata": {},
   "outputs": [
    {
     "name": "stdout",
     "output_type": "stream",
     "text": [
      "2022-11-28 15:50:34 URL:https://polybox.ethz.ch/index.php/s/MBLSUQXzglnn66u/download?path=%2F&files=Feature_table.qza [504534/504534] -> \"project_data/table.qza\" [1]\n"
     ]
    }
   ],
   "source": [
    "! wget -nv -O $data_dir/table.qza 'https://polybox.ethz.ch/index.php/s/MBLSUQXzglnn66u/download?path=%2F&files=Feature_table.qza'"
   ]
  },
  {
   "cell_type": "markdown",
   "id": "e1e216fc-ab9b-431a-b193-8ba6db2ab890",
   "metadata": {},
   "source": [
    "Download the `Metadata` containing metadata to samples from our data:"
   ]
  },
  {
   "cell_type": "code",
   "execution_count": 7,
   "id": "e40cfa1a-3e1d-4a12-9bb1-13416323ee98",
   "metadata": {},
   "outputs": [
    {
     "name": "stdout",
     "output_type": "stream",
     "text": [
      "2022-11-28 15:50:39 URL:https://polybox.ethz.ch/index.php/s/QqbHeUIpIR0okB8/download [300302/300302] -> \"project_data/metadata.tsv\" [1]\n"
     ]
    }
   ],
   "source": [
    "! wget -nv -O $data_dir/metadata.tsv 'https://polybox.ethz.ch/index.php/s/QqbHeUIpIR0okB8/download'"
   ]
  },
  {
   "cell_type": "markdown",
   "id": "ed5ba7be",
   "metadata": {},
   "source": [
    "<a id='picrust'></a>\n",
    "## 1. Functional inference\n",
    "\n",
    "As mentioned in the introduction, we are using Picrust 2 to simulate metagenome data from our 16S dataset. Execute the command below to run picrust2 - it will take approximately 30-40 minutes."
   ]
  },
  {
   "cell_type": "code",
   "execution_count": 13,
   "id": "09f86b29",
   "metadata": {},
   "outputs": [
    {
     "name": "stdout",
     "output_type": "stream",
     "text": [
      "/opt/conda/envs/picrust2/bin:/opt/conda/bin:/usr/local/sbin:/usr/local/bin:/usr/sbin:/usr/bin:/sbin:/bin\n",
      "/opt/conda/envs/picrust2/bin\n",
      "project_data\n",
      "Saved FeatureTable[Frequency] to: project_data/picrust2_results/ko_metagenome.qza\n",
      "Saved FeatureTable[Frequency] to: project_data/picrust2_results/ec_metagenome.qza\n",
      "Saved FeatureTable[Frequency] to: project_data/picrust2_results/pathway_abundance.qza\n"
     ]
    },
    {
     "name": "stderr",
     "output_type": "stream",
     "text": [
      "Warning - 115 input sequences aligned poorly to reference sequences (--min_align option specified a minimum proportion of 0.8 aligning to reference sequences). These input sequences will not be placed and will be excluded from downstream steps.\n",
      "\n",
      "This is the set of poorly aligned input sequences to be excluded: 13f72db00c0dbaa8958b9f7918f0b374, 07beb5cc8e914bcdb53a22bb47519c6f, 000fa3dd1e0addc3fe1e3b5d1008afe8, 94346c6d9a95d3b3ae8cc5199de67117, 879643dd982eb501f3c81fca990fd518, acb8def29a97a1c91b3fc3a21f2caf2b, b957bbc0b2cf69471ecf66e8ad3e04bc, aff251a2cb898bb774dbdb48905421cb, fbb21b0edc5b0ef81226200b39c869f6, 70e4caa9982037a944a5d98bf98d55f8, 9ce8bef85c4979f8b7bc3cac7ed448c3, b4eb3cde9bea75d4b44aa58ca81582c0, cd4a519b47d3968e0691867615a5c176, 50494e8139cc7865daf756431a9ddbc4, 6b3d79b96bbe4081267cbf253f6acf4a, 2d156bf28e5958f61156702359c1bbc9, d59db3377c485ff138fab36dfff0829a, cd0b6534edf1e39f840043cc9ff16245, b53340e67fe74981e67adddc676e0a70, aaf3da224d70d78e682e45aee3ffdd11, ea8eb3076951ea382ced8d12e64a09b8, b4af13714047999d9c1f412ef2ee40fc, 7c22b912d937a2a56abf575d9a74a926, 800ee92d16f9ed811de6cdcbc6743a02, 1cc76c8348170e893ed906f3887a8e85, a09ceaed5bdfdef2d6ee2b723513e355, 5dcdf86dcd2943dc8f27273f780dd0bf, e892639661f6691b207cc9124e32b97c, 8c30f9f1c5f35d4932a392328dc5c3e1, 4d3e75d60db6a5dc3c25d60bd4ef1f20, 2a91f6790b6602e33be6d578a546f331, ea80cc5219e220a688800c345d9990b9, 844472433034f82ec4ce3a5a8e3e0d3e, e9b38a943a03404e19964181a04d6a1e, 96bff96060f83e1b32d69a589e9a2d0b, 8c4f1f8a04bdbcc6ee3c0b3b7e550091, 426a886660bcd3b450db6349ba191f6e, 4c2e5a570e5e5fb65778c7fa282295f0, 8cfdbef1c119e56a5857594b82040748, e8b30911ccd79e63c9650c0694a03b4c, fd18d3f1d229bf5b7bf04f30d594db19, 78067c0d407a3086e607c56f62c1c4d7, f67f6fde94ade8c1470c16a30f222ef7, 92c0fb83f86d33965f9df31b44c33c28, c24a108e880ac271becfd6140c723780, 0df80b68730c1410b7493f12f11fc0d9, e3dc736235b3eaa2a6dfbcd6064528f3, 85918b59c24b827050c9077964e406c3, ee10b2de2ef2dcef88cd4d669eb87871, bc97febfd92237f4bc8ea3aee36cef49, c8d98618054e86649356a27d6f1d8aae, b92fa34247f65307635ab668cea2e9a1, 0c0c01ea235fe8c660da78fef6cdda0e, 805c6f646fe989084c59b3d14a330b30, 36be65b6e168ec22ea1532871bf84f2b, 18bebd49cf400e8ed6493aa7f2e3196e, 088a0743a98814e2b92bacc2c3fdc3c6, 00f2e2cf98492d2b1bdd34cbefed544d, 15aec6d51f62a60df88b18509edf1c3b, 8a22a55658a1739d893b04aeb107c679, 0919815a0d3419ceef3672072c20cac2, fcaac8ba5c653d422c8ef4d279b5fb0f, af157aa5386f6c5fed0bf06fa8d92700, 3a695c26323c6bcfe24f899a180d7ebe, b5cd915de627a5bb13f4f2495f3b5e2b, 542778fab243d9da8e0e3c57b943a6c7, a67dc2899e69627d2c079848f0ec5baf, 379848b5f3222a7bde94970a35b46c04, 35fa68343224f6dbe97bba42bb5fd30e, 6d9792a1188951d8160c1e3408bc39a7, d991b949f100b592e7986cabaa14e839, c5e1ea6952f65ec5f98b93731249e464, 4fb62a4cdb1ac2087e6fc3903a39309f, 2a15b37fa76eb96b4d089af7d9c3f6a2, 93033ea52aa24b2414fe6321d3f267cb, ed0823621532a81035641c387bc0af31, 25bcb094f3f1309d77abad0030be7173, 51ca4495c2aa7b04050e47eb57e020e4, cecb07d22297a8f49b3ff5b837c9fc93, 45666c4fcd882d4347ca94b9acfa2b6d, 2e5e8d2f2699c45740ddd3b456b2bf29, b478766efccc78ddcb80d815b558be3c, 507785cd038a4e0650f1844606f53ad1, 14c386d07f9d066d210ff8bb3bb62943, ddbc90640fa4d976c16ebf810fb63f4a, bbad69c39941c00c6cc1c8945f0ab75f, a886aeaa2724836213686f674864856e, 83c5c3dc5e9a9324245d4e2b5934d981, c28c89aebe8d9059cac7f4de2169e2af, d24ab3d3256e204995cf2be85cbdbcbe, fcee54aecab1684176a25f60ef7d2ef1, a22558621ee3f3eea357222fecd6ed8f, 299f47039bd2fde20cb3c7cbf75c5df7, 92485a3b8ffb4ff181932654bc541949, d8189e405f77e7881f8b096c09f938e9, 02d5c227773adf1890c6fb2d244bb876, 71e981b051932896d6cffa13fd01b2fd, 9b17f9564274830a979b68267de4a355, 5e2e52ab507ae9dd8dc09df1fd24ec52, f3e3ae97dc0e7c00ab66bc5307d843fe, df485f8d99ef401c56d6405e7ad9dc31, 3c6dfe7643733943a693ab464674eabf, 4068cad43bf2c7093fa2e5742517185d, 8aeb229fb191ab0b48d63f2fd266cdfc, e427d60e96420ec7e0a5ade568119972, 27b9e7f1375b8333aee5c02f360a30af, f5e35fe10645700b42b72921b7a6c9c3, a3ba3f666273f9baf96e1bd002449993, 202526a16a05c25242fd58705ac8f8e3, 59fe9899aa6b4898fb828eeb8bda0e8a, d391c0ec3741f4ce75f992e23185c822, 9a0dfab8cd6ddad145a523ef8fbbfde9, 292390150619abbdc74784a61e1b959b, 76addc8524e10c6faff0161e36a1987a, 88bdbe42fec20bd88752ffdb86836cef\n",
      "\n",
      "\n",
      "\n",
      "\n",
      "\n",
      "20 of 4951 ASVs were above the max NSTI cut-off of 2.0 and were removed from the downstream analyses.\n",
      "\n",
      "20 of 4951 ASVs were above the max NSTI cut-off of 2.0 and were removed from the downstream analyses.\n",
      "\n",
      "\n"
     ]
    }
   ],
   "source": [
    "%%script env picrust_env=\"$picrust_env\" data_dir=\"$data_dir\" bash\n",
    "\n",
    "# append the env location to PATH so that qiime\n",
    "# can find all required executables\n",
    "export PATH=$picrust_env:$PATH\n",
    "\n",
    "\n",
    "$picrust_env/qiime picrust2 full-pipeline \\\n",
    "    --i-seq $data_dir/rep-seqs.qza \\\n",
    "    --i-table $data_dir/table.qza \\\n",
    "    --output-dir $data_dir/picrust2_results \\\n",
    "    --p-placement-tool sepp \\\n",
    "    --p-threads 2 \\\n",
    "    --p-hsp-method pic \\\n",
    "    --p-max-nsti 2 --verbose"
   ]
  },
  {
   "cell_type": "markdown",
   "id": "86634b05",
   "metadata": {},
   "source": [
    "tab = q2.Artifact.load('project_data/picrust2_results/pathway_abundance_abund.qza')\n",
    "tab = tab.view(pd.DataFrame)\n",
    "metadata.index = metadata.index.astype(str)In the `picrust2_results` subdirectory we get 3 artifacts - all of them are of the `FeatureTable[Frequency]` semantic type and hold abundance information for various functional features:\n",
    "\n",
    "1. KO metagenome - abundances of [KEGG](https://www.kegg.jp) orthologs\n",
    "2. EC metagenome - abundance of [enzymes](https://www.brenda-enzymes.org)\n",
    "3. MetaCyc pathways - abundance of [MetaCyc](https://metacyc.org) pathways"
   ]
  },
  {
   "cell_type": "markdown",
   "id": "80f1b706-a360-4aa6-a32b-affbbeab657e",
   "metadata": {},
   "source": [
    "Checking for the values of the metadata: "
   ]
  },
  {
   "cell_type": "code",
   "execution_count": 166,
   "id": "60ad1e2c",
   "metadata": {},
   "outputs": [
    {
     "name": "stdout",
     "output_type": "stream",
     "text": [
      "GEN_age_cat\n",
      "GEN_age_corrected\n",
      "GEN_bmi_cat\n",
      "GEN_bmi_corrected\n",
      "GEN_cat\n",
      "GEN_collection_timestamp\n",
      "GEN_country\n",
      "GEN_dog\n",
      "GEN_elevation\n",
      "GEN_geo_loc_name\n",
      "GEN_height_cm\n",
      "GEN_host_common_name\n",
      "GEN_last_move\n",
      "GEN_last_travel\n",
      "GEN_latitude\n",
      "GEN_level_of_education\n",
      "GEN_longitude\n",
      "GEN_race\n",
      "GEN_sample_type\n",
      "GEN_sex\n",
      "GEN_weight_kg\n",
      "NUT_alcohol_consumption\n",
      "NUT_alcohol_frequency\n",
      "NUT_alcohol_types_beercider\n",
      "NUT_alcohol_types_red_wine\n",
      "NUT_alcohol_types_sour_beers\n",
      "NUT_alcohol_types_spiritshard_alcohol\n",
      "NUT_alcohol_types_unspecified\n",
      "NUT_alcohol_types_white_wine\n",
      "NUT_artificial_sweeteners\n",
      "NUT_diet_type\n",
      "NUT_drinks_per_session\n",
      "NUT_fed_as_infant\n",
      "NUT_fermented_plant_frequency\n",
      "NUT_frozen_dessert_frequency\n",
      "NUT_fruit_frequency\n",
      "NUT_gluten\n",
      "NUT_high_fat_red_meat_frequency\n",
      "NUT_homecooked_meals_frequency\n",
      "NUT_lowgrain_diet_type\n",
      "NUT_meat_eggs_frequency\n",
      "NUT_milk_cheese_frequency\n",
      "NUT_milk_substitute_frequency\n",
      "NUT_olive_oil\n",
      "NUT_poultry_frequency\n",
      "NUT_prepared_meals_frequency\n",
      "NUT_probiotic_frequency\n",
      "NUT_red_meat_frequency\n",
      "NUT_salted_snacks_frequency\n",
      "NUT_seafood_frequency\n",
      "NUT_sugary_sweets_frequency\n",
      "NUT_vegetable_frequency\n",
      "NUT_vitamin_b_supplement_frequency\n",
      "NUT_vitamin_d_supplement_frequency\n",
      "NUT_whole_eggs\n",
      "NUT_whole_grain_frequency\n"
     ]
    }
   ],
   "source": [
    "metadata = pd.read_csv(f'{data_dir}/metadata.tsv', sep='\\t', header=0, index_col=0)\n",
    "metadata.index = metadata.index.astype(float)\n",
    "for col in metadata.columns:\n",
    "    print(col)"
   ]
  },
  {
   "cell_type": "markdown",
   "id": "4c8015c6",
   "metadata": {},
   "source": [
    "Let's look at the metadata briefly to see what kind of categories we have available:"
   ]
  },
  {
   "cell_type": "code",
   "execution_count": 9,
   "id": "efa10199",
   "metadata": {},
   "outputs": [
    {
     "name": "stdout",
     "output_type": "stream",
     "text": [
      "\u001b[32mSaved Visualization to: project_data/metadata.qzv\u001b[0m\n",
      "\u001b[0m"
     ]
    }
   ],
   "source": [
    "! qiime metadata tabulate \\\n",
    "    --m-input-file $data_dir/metadata.tsv \\\n",
    "    --o-visualization $data_dir/metadata.qzv"
   ]
  },
  {
   "cell_type": "code",
   "execution_count": 10,
   "id": "4945c514",
   "metadata": {
    "collapsed": true,
    "jupyter": {
     "outputs_hidden": true
    },
    "tags": []
   },
   "outputs": [
    {
     "data": {
      "text/html": [
       "<div><img onload=\"(function(div, url){\n",
       "if (typeof require !== 'undefined') {\n",
       "    var baseURL = require.toUrl('').split('/').slice(0, -2).join('/');\n",
       "} else {\n",
       "    var baseURL = JSON.parse(\n",
       "        document.getElementById('jupyter-config-data').innerHTML\n",
       "    ).baseUrl.slice(0, -1);\n",
       "}\n",
       "url = baseURL + url;\n",
       "fetch(url).then(function(res) {\n",
       "    if (res.status === 404) {\n",
       "        div.innerHTML = 'Install QIIME 2 Jupyter extension with:<br />' +\n",
       "                        '<code>jupyter serverextension enable --py qiime2' +\n",
       "                        ' --sys-prefix</code><br />then restart your server.' +\n",
       "                        '<br /><br />(Interactive output not available on ' +\n",
       "                        'static notebook viewer services like nbviewer.)';\n",
       "    } else if (res.status === 409) {\n",
       "        div.innerHTML = 'Visualization no longer in scope. Re-run this cell' +\n",
       "                        ' to see the visualization.';\n",
       "    } else if (res.ok) {\n",
       "        url = res.url;\n",
       "        div.innerHTML = '<iframe src=\\'' + url + '\\' style=\\'' +\n",
       "                        'width: 100%; height: 700px; border: 0;\\'>' +\n",
       "                        '</iframe><hr />Open in a: <a href=\\'' + url + '\\'' +\n",
       "                        ' target=\\'_blank\\'>new window</a>'\n",
       "    } else {\n",
       "        div.innerHTML = 'Something has gone wrong. Check notebook server for' +\n",
       "                        ' errors.';\n",
       "    }\n",
       "});\n",
       "})(this.parentElement, '/qiime2/redirect?location=/tmp/qiime2-archive-wgahlimv')\" src=\"data:image/gif;base64,R0lGODlhAQABAIAAAP///wAAACH5BAEAAAAALAAAAAABAAEAAAICRAEAOw==\" /></div>"
      ],
      "text/plain": [
       "<visualization: Visualization uuid: da6f7794-fdf5-4c2a-b387-de64278373b4>"
      ]
     },
     "execution_count": 10,
     "metadata": {},
     "output_type": "execute_result"
    }
   ],
   "source": [
    "Visualization.load(f'{data_dir}/metadata.qzv')"
   ]
  },
  {
   "cell_type": "markdown",
   "id": "d27be17e",
   "metadata": {},
   "source": [
    "Now, we can read in all three artifacts using QIIME 2 Python API - we can view them as DataFrames:"
   ]
  },
  {
   "cell_type": "code",
   "execution_count": 5,
   "id": "f211bd88",
   "metadata": {},
   "outputs": [],
   "source": [
    "ko = q2.Artifact.load(f'{data_dir}/picrust2_results/ko_metagenome.qza').view(pd.DataFrame)\n",
    "ec = q2.Artifact.load(f'{data_dir}/picrust2_results/ec_metagenome.qza').view(pd.DataFrame)\n",
    "pa = q2.Artifact.load(f'{data_dir}/picrust2_results/pathway_abundance.qza').view(pd.DataFrame)\n",
    "ko.index = ko.index.astype(float)\n",
    "ec.index = ec.index.astype(float)\n",
    "pa.index = pa.index.astype(float)"
   ]
  },
  {
   "cell_type": "markdown",
   "id": "db35c21d",
   "metadata": {},
   "source": [
    "<a id='ipath'></a>\n",
    "### 1.1 Enriched KEGG orthologs visualization for Alcohol\n",
    "\n",
    "Find the most abundant KEGG orthologs and plot them for both, where the sample alcohol cunsumption is .\n",
    "\n",
    "We start by merging our feature table with the treatment column (`NUT_alcohol_consumption`) from the metadata:"
   ]
  },
  {
   "cell_type": "code",
   "execution_count": 36,
   "id": "2a0fd440",
   "metadata": {
    "tags": []
   },
   "outputs": [],
   "source": [
    "ko_meta = ko.merge(metadata[['NUT_alcohol_consumption']], left_index=True, right_index=True)\n",
    "ec_meta = ec.merge(metadata[['NUT_alcohol_consumption']], left_index=True, right_index=True)\n",
    "pa_meta = pa.merge(metadata[['NUT_alcohol_consumption']], left_index=True, right_index=True)"
   ]
  },
  {
   "cell_type": "markdown",
   "id": "d0a50441",
   "metadata": {},
   "source": [
    "Next, we will calculate an average abundance of each KO, EC and pathway in each group (alcohol consumption vs. no alcohol consumption):"
   ]
  },
  {
   "cell_type": "code",
   "execution_count": 9,
   "id": "a56f5bfc",
   "metadata": {},
   "outputs": [],
   "source": [
    "# collapse samples per sample_type - calculate average abundance\n",
    "ko_meta_avg = ko_meta.groupby('NUT_alcohol_consumption').mean()\n",
    "ec_meta_avg = ec_meta.groupby('NUT_alcohol_consumption').mean()\n",
    "pa_meta_avg = pa_meta.groupby('NUT_alcohol_consumption').mean()"
   ]
  },
  {
   "cell_type": "code",
   "execution_count": 10,
   "id": "36830ebe",
   "metadata": {},
   "outputs": [
    {
     "data": {
      "text/html": [
       "<div>\n",
       "<style scoped>\n",
       "    .dataframe tbody tr th:only-of-type {\n",
       "        vertical-align: middle;\n",
       "    }\n",
       "\n",
       "    .dataframe tbody tr th {\n",
       "        vertical-align: top;\n",
       "    }\n",
       "\n",
       "    .dataframe thead th {\n",
       "        text-align: right;\n",
       "    }\n",
       "</style>\n",
       "<table border=\"1\" class=\"dataframe\">\n",
       "  <thead>\n",
       "    <tr style=\"text-align: right;\">\n",
       "      <th></th>\n",
       "      <th>K00001</th>\n",
       "      <th>K00002</th>\n",
       "      <th>K00003</th>\n",
       "      <th>K00004</th>\n",
       "      <th>K00005</th>\n",
       "      <th>K00007</th>\n",
       "      <th>K00008</th>\n",
       "      <th>K00009</th>\n",
       "      <th>K00010</th>\n",
       "      <th>K00011</th>\n",
       "      <th>...</th>\n",
       "      <th>K19776</th>\n",
       "      <th>K19777</th>\n",
       "      <th>K19778</th>\n",
       "      <th>K19779</th>\n",
       "      <th>K19780</th>\n",
       "      <th>K19784</th>\n",
       "      <th>K19785</th>\n",
       "      <th>K19788</th>\n",
       "      <th>K19789</th>\n",
       "      <th>K19791</th>\n",
       "    </tr>\n",
       "    <tr>\n",
       "      <th>NUT_alcohol_consumption</th>\n",
       "      <th></th>\n",
       "      <th></th>\n",
       "      <th></th>\n",
       "      <th></th>\n",
       "      <th></th>\n",
       "      <th></th>\n",
       "      <th></th>\n",
       "      <th></th>\n",
       "      <th></th>\n",
       "      <th></th>\n",
       "      <th></th>\n",
       "      <th></th>\n",
       "      <th></th>\n",
       "      <th></th>\n",
       "      <th></th>\n",
       "      <th></th>\n",
       "      <th></th>\n",
       "      <th></th>\n",
       "      <th></th>\n",
       "      <th></th>\n",
       "      <th></th>\n",
       "    </tr>\n",
       "  </thead>\n",
       "  <tbody>\n",
       "    <tr>\n",
       "      <th>False</th>\n",
       "      <td>3162.421122</td>\n",
       "      <td>68.691026</td>\n",
       "      <td>4796.981177</td>\n",
       "      <td>398.456162</td>\n",
       "      <td>3772.020015</td>\n",
       "      <td>83.825277</td>\n",
       "      <td>4324.14981</td>\n",
       "      <td>1467.899032</td>\n",
       "      <td>2903.594500</td>\n",
       "      <td>0.339969</td>\n",
       "      <td>...</td>\n",
       "      <td>1083.124950</td>\n",
       "      <td>718.306041</td>\n",
       "      <td>573.952036</td>\n",
       "      <td>94.495166</td>\n",
       "      <td>137.206914</td>\n",
       "      <td>1247.168509</td>\n",
       "      <td>3.566936e-127</td>\n",
       "      <td>0.000026</td>\n",
       "      <td>1006.961259</td>\n",
       "      <td>0.006508</td>\n",
       "    </tr>\n",
       "    <tr>\n",
       "      <th>True</th>\n",
       "      <td>3181.198018</td>\n",
       "      <td>73.266389</td>\n",
       "      <td>4909.399083</td>\n",
       "      <td>400.607382</td>\n",
       "      <td>3893.175186</td>\n",
       "      <td>51.285504</td>\n",
       "      <td>4566.19005</td>\n",
       "      <td>1400.650732</td>\n",
       "      <td>2557.094055</td>\n",
       "      <td>0.792130</td>\n",
       "      <td>...</td>\n",
       "      <td>1075.325431</td>\n",
       "      <td>688.104082</td>\n",
       "      <td>612.494259</td>\n",
       "      <td>103.840925</td>\n",
       "      <td>109.865976</td>\n",
       "      <td>1059.402351</td>\n",
       "      <td>7.638711e-06</td>\n",
       "      <td>0.002091</td>\n",
       "      <td>922.806781</td>\n",
       "      <td>0.005347</td>\n",
       "    </tr>\n",
       "  </tbody>\n",
       "</table>\n",
       "<p>2 rows × 10149 columns</p>\n",
       "</div>"
      ],
      "text/plain": [
       "                              K00001     K00002       K00003      K00004  \\\n",
       "NUT_alcohol_consumption                                                    \n",
       "False                    3162.421122  68.691026  4796.981177  398.456162   \n",
       "True                     3181.198018  73.266389  4909.399083  400.607382   \n",
       "\n",
       "                              K00005     K00007      K00008       K00009  \\\n",
       "NUT_alcohol_consumption                                                    \n",
       "False                    3772.020015  83.825277  4324.14981  1467.899032   \n",
       "True                     3893.175186  51.285504  4566.19005  1400.650732   \n",
       "\n",
       "                              K00010    K00011  ...       K19776      K19777  \\\n",
       "NUT_alcohol_consumption                         ...                            \n",
       "False                    2903.594500  0.339969  ...  1083.124950  718.306041   \n",
       "True                     2557.094055  0.792130  ...  1075.325431  688.104082   \n",
       "\n",
       "                             K19778      K19779      K19780       K19784  \\\n",
       "NUT_alcohol_consumption                                                    \n",
       "False                    573.952036   94.495166  137.206914  1247.168509   \n",
       "True                     612.494259  103.840925  109.865976  1059.402351   \n",
       "\n",
       "                                K19785    K19788       K19789    K19791  \n",
       "NUT_alcohol_consumption                                                  \n",
       "False                    3.566936e-127  0.000026  1006.961259  0.006508  \n",
       "True                      7.638711e-06  0.002091   922.806781  0.005347  \n",
       "\n",
       "[2 rows x 10149 columns]"
      ]
     },
     "execution_count": 10,
     "metadata": {},
     "output_type": "execute_result"
    }
   ],
   "source": [
    "ko_meta_avg.head()"
   ]
  },
  {
   "cell_type": "markdown",
   "id": "f824720a",
   "metadata": {},
   "source": [
    "We are looking for the most abundant features in each table:"
   ]
  },
  {
   "cell_type": "code",
   "execution_count": 11,
   "id": "0ed3c104",
   "metadata": {},
   "outputs": [
    {
     "name": "stdout",
     "output_type": "stream",
     "text": [
      "Saving 101 most abundant features...\n",
      "Saving 85 most abundant features...\n",
      "Saving 5 most abundant features...\n"
     ]
    }
   ],
   "source": [
    "# find top x% of the most abundant KOs, ECs and pathways in each sample type\n",
    "def find_most_abundant(df: pd.DataFrame, frac):\n",
    "    if 0 < frac < 1:\n",
    "        frac = int(frac * len(df.columns))\n",
    "    print(f'Saving {frac} most abundant features...')\n",
    "    most_abundant = {\n",
    "        smp: df.loc[smp, :].sort_values(ascending=False)[:frac]\n",
    "        for smp in df.index\n",
    "    }\n",
    "    return most_abundant\n",
    "\n",
    "ko_most_abundant = find_most_abundant(ko_meta_avg, 0.01)\n",
    "ec_most_abundant = find_most_abundant(ec_meta_avg, 0.03)\n",
    "pa_most_abundant = find_most_abundant(pa_meta_avg, 5)"
   ]
  },
  {
   "cell_type": "code",
   "execution_count": 12,
   "id": "fd6c8e96",
   "metadata": {},
   "outputs": [
    {
     "name": "stdout",
     "output_type": "stream",
     "text": [
      "10 most abundant KOs in the alcohole consumption group are: ['K03088', 'K01990', 'K02004', 'K06147', 'K01992', 'K02003', 'K02529', 'K07024', 'K03497', 'K02015']\n",
      "10 most abundant KOs in the non-alcohole consumption group are: ['K03088', 'K01990', 'K02004', 'K01992', 'K06147', 'K02003', 'K02529', 'K07024', 'K00059', 'K02015']\n",
      "\n"
     ]
    }
   ],
   "source": [
    "print(f'10 most abundant KOs in the alcohole consumption group are: {ko_most_abundant[True].index[:10].tolist()}\\n'\n",
    "      f'10 most abundant KOs in the non-alcohole consumption group are: {ko_most_abundant[False].index[:10].tolist()}\\n')"
   ]
  },
  {
   "cell_type": "markdown",
   "id": "9dfb00d3",
   "metadata": {},
   "source": [
    "To visualize the KOs and ECs [Interactive Pathway Explorer](https://pathways.embl.de) (iPath 3)."
   ]
  },
  {
   "cell_type": "code",
   "execution_count": 35,
   "id": "855955d4",
   "metadata": {},
   "outputs": [],
   "source": [
    "for smp in ko_most_abundant.keys():\n",
    "    fetch_ipath(ko_most_abundant[smp].index.tolist(), f'{data_dir}/picrust2_results/kos_{smp}.svg')\n",
    "    fetch_ipath(ec_most_abundant[smp].index.str.replace(':', '').tolist(), f'{data_dir}/picrust2_results/ecs_{smp}.svg')"
   ]
  },
  {
   "cell_type": "markdown",
   "id": "954ad5dc",
   "metadata": {},
   "source": [
    "This should have fetched 4 pathway maps: one map per sample group (alcohol cons vs. non-alcohol cons) and one map per feature table (KO vs. EC)."
   ]
  },
  {
   "cell_type": "markdown",
   "id": "f1aac16b",
   "metadata": {},
   "source": [
    "<a id='metacyc'></a>\n",
    "### 1.2 Enriched pathways in Alcohol consumption\n",
    "\n",
    "We can also look at the most abundant pathways in both sample groups. "
   ]
  },
  {
   "cell_type": "code",
   "execution_count": 13,
   "id": "dad015e4",
   "metadata": {},
   "outputs": [
    {
     "name": "stdout",
     "output_type": "stream",
     "text": [
      "4 most abundant pathways in the alcohol consumption group are: ['NONOXIPENT-PWY', 'PWY-7111', 'PWY-5101', 'PWY-7663']\n",
      "4 most abundant pathways in the non-alcohol consumptiopn are: ['NONOXIPENT-PWY', 'PWY-7111', 'PWY-5101', 'PWY-7663']\n",
      "\n"
     ]
    }
   ],
   "source": [
    "print(f'4 most abundant pathways in the alcohol consumption group are: {pa_most_abundant[True].index[:4].tolist()}\\n'\n",
    "      f'4 most abundant pathways in the non-alcohol consumption are: {pa_most_abundant[False].index[:4].tolist()}\\n')"
   ]
  },
  {
   "cell_type": "markdown",
   "id": "93c3252c",
   "metadata": {},
   "source": [
    "Find whether there are pathways that differ significantly between samples with and without alcohol consumption."
   ]
  },
  {
   "cell_type": "code",
   "execution_count": 43,
   "id": "8c635ea4",
   "metadata": {},
   "outputs": [
    {
     "name": "stdout",
     "output_type": "stream",
     "text": [
      "\u001b[32mSaved FeatureTable[Composition] to: project_data/picrust2_results/pathway_abundance_abund.qza\u001b[0m\n",
      "\u001b[0m"
     ]
    }
   ],
   "source": [
    "! qiime composition add-pseudocount \\\n",
    "    --i-table $data_dir/picrust2_results/pathway_abundance.qza \\\n",
    "    --o-composition-table $data_dir/picrust2_results/pathway_abundance_abund.qza"
   ]
  },
  {
   "cell_type": "code",
   "execution_count": 22,
   "id": "b01e4697",
   "metadata": {},
   "outputs": [
    {
     "name": "stdout",
     "output_type": "stream",
     "text": [
      "\u001b[32mSaved Visualization to: project_data/pa_ancom_alc.qzv\u001b[0m\n",
      "\u001b[0m"
     ]
    }
   ],
   "source": [
    "! qiime composition ancom \\\n",
    "    --i-table $data_dir/picrust2_results/pathway_abundance_abund.qza \\\n",
    "    --m-metadata-file $data_dir/metadata.tsv \\\n",
    "    --m-metadata-column 'NUT_alcohol_consumption' \\\n",
    "    --p-transform-function sqrt \\\n",
    "    --o-visualization $data_dir/pa_ancom_alc.qzv"
   ]
  },
  {
   "cell_type": "code",
   "execution_count": 37,
   "id": "d9a59354",
   "metadata": {
    "collapsed": true,
    "jupyter": {
     "outputs_hidden": true
    },
    "tags": []
   },
   "outputs": [
    {
     "data": {
      "text/html": [
       "<div><img onload=\"(function(div, url){\n",
       "if (typeof require !== 'undefined') {\n",
       "    var baseURL = require.toUrl('').split('/').slice(0, -2).join('/');\n",
       "} else {\n",
       "    var baseURL = JSON.parse(\n",
       "        document.getElementById('jupyter-config-data').innerHTML\n",
       "    ).baseUrl.slice(0, -1);\n",
       "}\n",
       "url = baseURL + url;\n",
       "fetch(url).then(function(res) {\n",
       "    if (res.status === 404) {\n",
       "        div.innerHTML = 'Install QIIME 2 Jupyter extension with:<br />' +\n",
       "                        '<code>jupyter serverextension enable --py qiime2' +\n",
       "                        ' --sys-prefix</code><br />then restart your server.' +\n",
       "                        '<br /><br />(Interactive output not available on ' +\n",
       "                        'static notebook viewer services like nbviewer.)';\n",
       "    } else if (res.status === 409) {\n",
       "        div.innerHTML = 'Visualization no longer in scope. Re-run this cell' +\n",
       "                        ' to see the visualization.';\n",
       "    } else if (res.ok) {\n",
       "        url = res.url;\n",
       "        div.innerHTML = '<iframe src=\\'' + url + '\\' style=\\'' +\n",
       "                        'width: 100%; height: 700px; border: 0;\\'>' +\n",
       "                        '</iframe><hr />Open in a: <a href=\\'' + url + '\\'' +\n",
       "                        ' target=\\'_blank\\'>new window</a>'\n",
       "    } else {\n",
       "        div.innerHTML = 'Something has gone wrong. Check notebook server for' +\n",
       "                        ' errors.';\n",
       "    }\n",
       "});\n",
       "})(this.parentElement, '/qiime2/redirect?location=/tmp/qiime2-archive-inh_p43l')\" src=\"data:image/gif;base64,R0lGODlhAQABAIAAAP///wAAACH5BAEAAAAALAAAAAABAAEAAAICRAEAOw==\" /></div>"
      ],
      "text/plain": [
       "<visualization: Visualization uuid: 55566aa4-d986-4abc-aff2-9492ff900e61>"
      ]
     },
     "execution_count": 37,
     "metadata": {},
     "output_type": "execute_result"
    }
   ],
   "source": [
    "Visualization.load(f'{data_dir}/pa_ancom_alc.qzv')"
   ]
  },
  {
   "cell_type": "markdown",
   "id": "f65fb463-3030-485f-99a5-9818205b8d2a",
   "metadata": {},
   "source": [
    "ANCOM statistical result highest W value:  \n",
    "PWY-6165 -> 59  \n",
    "PWY-6660 -> 9  \n",
    "PWY-1622 -> 7"
   ]
  },
  {
   "cell_type": "markdown",
   "id": "a72ee6de-8a20-47a6-af59-10aed7a58d36",
   "metadata": {},
   "source": [
    "<a id='ipath_af'></a>\n",
    "### 1.3 Enriched KEGG orthologs visualization for different alcohol frequency\n",
    "\n",
    "We merge the feature table with the treatment column (`NUT_alcohol_frequency`) from the metadata:"
   ]
  },
  {
   "cell_type": "code",
   "execution_count": 23,
   "id": "c3f2089d-fc85-40c9-86ff-36d0e64b9e57",
   "metadata": {
    "tags": []
   },
   "outputs": [],
   "source": [
    "ko_meta = ko.merge(metadata[['NUT_alcohol_frequency']], left_index=True, right_index=True)\n",
    "ec_meta = ec.merge(metadata[['NUT_alcohol_frequency']], left_index=True, right_index=True)\n",
    "pa_meta = pa.merge(metadata[['NUT_alcohol_frequency']], left_index=True, right_index=True)"
   ]
  },
  {
   "cell_type": "code",
   "execution_count": 24,
   "id": "019c4cec-fe59-46a3-8456-c76fe3e098de",
   "metadata": {},
   "outputs": [],
   "source": [
    "# collapse samples per sample_type - calculate average abundance\n",
    "\n",
    "ko_meta_avg = ko_meta.groupby('NUT_alcohol_frequency').mean()\n",
    "ec_meta_avg = ec_meta.groupby('NUT_alcohol_frequency').mean()\n",
    "pa_meta_avg = pa_meta.groupby('NUT_alcohol_frequency').mean()"
   ]
  },
  {
   "cell_type": "code",
   "execution_count": 25,
   "id": "f7f35245-91c1-4993-84bc-547c9c5bda69",
   "metadata": {},
   "outputs": [
    {
     "data": {
      "text/html": [
       "<div>\n",
       "<style scoped>\n",
       "    .dataframe tbody tr th:only-of-type {\n",
       "        vertical-align: middle;\n",
       "    }\n",
       "\n",
       "    .dataframe tbody tr th {\n",
       "        vertical-align: top;\n",
       "    }\n",
       "\n",
       "    .dataframe thead th {\n",
       "        text-align: right;\n",
       "    }\n",
       "</style>\n",
       "<table border=\"1\" class=\"dataframe\">\n",
       "  <thead>\n",
       "    <tr style=\"text-align: right;\">\n",
       "      <th></th>\n",
       "      <th>K00001</th>\n",
       "      <th>K00002</th>\n",
       "      <th>K00003</th>\n",
       "      <th>K00004</th>\n",
       "      <th>K00005</th>\n",
       "      <th>K00007</th>\n",
       "      <th>K00008</th>\n",
       "      <th>K00009</th>\n",
       "      <th>K00010</th>\n",
       "      <th>K00011</th>\n",
       "      <th>...</th>\n",
       "      <th>K19776</th>\n",
       "      <th>K19777</th>\n",
       "      <th>K19778</th>\n",
       "      <th>K19779</th>\n",
       "      <th>K19780</th>\n",
       "      <th>K19784</th>\n",
       "      <th>K19785</th>\n",
       "      <th>K19788</th>\n",
       "      <th>K19789</th>\n",
       "      <th>K19791</th>\n",
       "    </tr>\n",
       "    <tr>\n",
       "      <th>NUT_alcohol_frequency</th>\n",
       "      <th></th>\n",
       "      <th></th>\n",
       "      <th></th>\n",
       "      <th></th>\n",
       "      <th></th>\n",
       "      <th></th>\n",
       "      <th></th>\n",
       "      <th></th>\n",
       "      <th></th>\n",
       "      <th></th>\n",
       "      <th></th>\n",
       "      <th></th>\n",
       "      <th></th>\n",
       "      <th></th>\n",
       "      <th></th>\n",
       "      <th></th>\n",
       "      <th></th>\n",
       "      <th></th>\n",
       "      <th></th>\n",
       "      <th></th>\n",
       "      <th></th>\n",
       "    </tr>\n",
       "  </thead>\n",
       "  <tbody>\n",
       "    <tr>\n",
       "      <th>Daily</th>\n",
       "      <td>3103.902417</td>\n",
       "      <td>93.084658</td>\n",
       "      <td>4909.149528</td>\n",
       "      <td>337.034408</td>\n",
       "      <td>3683.977036</td>\n",
       "      <td>53.287276</td>\n",
       "      <td>4503.409934</td>\n",
       "      <td>1324.398596</td>\n",
       "      <td>2598.638961</td>\n",
       "      <td>0.430046</td>\n",
       "      <td>...</td>\n",
       "      <td>972.654503</td>\n",
       "      <td>597.195147</td>\n",
       "      <td>630.746732</td>\n",
       "      <td>102.067777</td>\n",
       "      <td>106.612546</td>\n",
       "      <td>903.252986</td>\n",
       "      <td>8.761902e-132</td>\n",
       "      <td>1.620505e-61</td>\n",
       "      <td>837.353006</td>\n",
       "      <td>0.002665</td>\n",
       "    </tr>\n",
       "    <tr>\n",
       "      <th>Never</th>\n",
       "      <td>3201.048511</td>\n",
       "      <td>67.911429</td>\n",
       "      <td>4790.008823</td>\n",
       "      <td>396.439968</td>\n",
       "      <td>3815.666170</td>\n",
       "      <td>87.632092</td>\n",
       "      <td>4327.025209</td>\n",
       "      <td>1497.076452</td>\n",
       "      <td>2907.576424</td>\n",
       "      <td>0.342780</td>\n",
       "      <td>...</td>\n",
       "      <td>1111.760260</td>\n",
       "      <td>681.172238</td>\n",
       "      <td>588.084755</td>\n",
       "      <td>96.533759</td>\n",
       "      <td>140.359385</td>\n",
       "      <td>1254.594809</td>\n",
       "      <td>3.740088e-127</td>\n",
       "      <td>2.680143e-05</td>\n",
       "      <td>1034.834305</td>\n",
       "      <td>0.006824</td>\n",
       "    </tr>\n",
       "    <tr>\n",
       "      <th>Not provided</th>\n",
       "      <td>2366.696894</td>\n",
       "      <td>84.750719</td>\n",
       "      <td>4940.611669</td>\n",
       "      <td>439.989763</td>\n",
       "      <td>2872.909217</td>\n",
       "      <td>5.404876</td>\n",
       "      <td>4264.916592</td>\n",
       "      <td>866.844192</td>\n",
       "      <td>2821.566868</td>\n",
       "      <td>0.282074</td>\n",
       "      <td>...</td>\n",
       "      <td>493.237565</td>\n",
       "      <td>1483.262377</td>\n",
       "      <td>282.818012</td>\n",
       "      <td>52.500146</td>\n",
       "      <td>72.266026</td>\n",
       "      <td>1094.186712</td>\n",
       "      <td>0.000000e+00</td>\n",
       "      <td>0.000000e+00</td>\n",
       "      <td>432.776499</td>\n",
       "      <td>0.000000</td>\n",
       "    </tr>\n",
       "    <tr>\n",
       "      <th>Occasionally</th>\n",
       "      <td>3074.590209</td>\n",
       "      <td>68.465976</td>\n",
       "      <td>4812.337425</td>\n",
       "      <td>407.825844</td>\n",
       "      <td>3837.777605</td>\n",
       "      <td>42.740666</td>\n",
       "      <td>4465.330802</td>\n",
       "      <td>1440.851550</td>\n",
       "      <td>2521.768249</td>\n",
       "      <td>0.838372</td>\n",
       "      <td>...</td>\n",
       "      <td>1054.433114</td>\n",
       "      <td>689.014003</td>\n",
       "      <td>610.053028</td>\n",
       "      <td>102.565229</td>\n",
       "      <td>110.396286</td>\n",
       "      <td>1053.374853</td>\n",
       "      <td>2.556504e-05</td>\n",
       "      <td>4.687264e-57</td>\n",
       "      <td>923.058790</td>\n",
       "      <td>0.003441</td>\n",
       "    </tr>\n",
       "    <tr>\n",
       "      <th>Rarely</th>\n",
       "      <td>3244.193427</td>\n",
       "      <td>64.865684</td>\n",
       "      <td>4672.445161</td>\n",
       "      <td>410.778882</td>\n",
       "      <td>3812.624114</td>\n",
       "      <td>63.965862</td>\n",
       "      <td>4506.626631</td>\n",
       "      <td>1422.700524</td>\n",
       "      <td>2594.140575</td>\n",
       "      <td>0.574958</td>\n",
       "      <td>...</td>\n",
       "      <td>1069.795229</td>\n",
       "      <td>655.609009</td>\n",
       "      <td>545.815746</td>\n",
       "      <td>96.481738</td>\n",
       "      <td>101.020587</td>\n",
       "      <td>1052.407687</td>\n",
       "      <td>4.452490e-132</td>\n",
       "      <td>8.234833e-62</td>\n",
       "      <td>934.614449</td>\n",
       "      <td>0.004088</td>\n",
       "    </tr>\n",
       "  </tbody>\n",
       "</table>\n",
       "<p>5 rows × 10149 columns</p>\n",
       "</div>"
      ],
      "text/plain": [
       "                            K00001     K00002       K00003      K00004  \\\n",
       "NUT_alcohol_frequency                                                    \n",
       "Daily                  3103.902417  93.084658  4909.149528  337.034408   \n",
       "Never                  3201.048511  67.911429  4790.008823  396.439968   \n",
       "Not provided           2366.696894  84.750719  4940.611669  439.989763   \n",
       "Occasionally           3074.590209  68.465976  4812.337425  407.825844   \n",
       "Rarely                 3244.193427  64.865684  4672.445161  410.778882   \n",
       "\n",
       "                            K00005     K00007       K00008       K00009  \\\n",
       "NUT_alcohol_frequency                                                     \n",
       "Daily                  3683.977036  53.287276  4503.409934  1324.398596   \n",
       "Never                  3815.666170  87.632092  4327.025209  1497.076452   \n",
       "Not provided           2872.909217   5.404876  4264.916592   866.844192   \n",
       "Occasionally           3837.777605  42.740666  4465.330802  1440.851550   \n",
       "Rarely                 3812.624114  63.965862  4506.626631  1422.700524   \n",
       "\n",
       "                            K00010    K00011  ...       K19776       K19777  \\\n",
       "NUT_alcohol_frequency                         ...                             \n",
       "Daily                  2598.638961  0.430046  ...   972.654503   597.195147   \n",
       "Never                  2907.576424  0.342780  ...  1111.760260   681.172238   \n",
       "Not provided           2821.566868  0.282074  ...   493.237565  1483.262377   \n",
       "Occasionally           2521.768249  0.838372  ...  1054.433114   689.014003   \n",
       "Rarely                 2594.140575  0.574958  ...  1069.795229   655.609009   \n",
       "\n",
       "                           K19778      K19779      K19780       K19784  \\\n",
       "NUT_alcohol_frequency                                                    \n",
       "Daily                  630.746732  102.067777  106.612546   903.252986   \n",
       "Never                  588.084755   96.533759  140.359385  1254.594809   \n",
       "Not provided           282.818012   52.500146   72.266026  1094.186712   \n",
       "Occasionally           610.053028  102.565229  110.396286  1053.374853   \n",
       "Rarely                 545.815746   96.481738  101.020587  1052.407687   \n",
       "\n",
       "                              K19785        K19788       K19789    K19791  \n",
       "NUT_alcohol_frequency                                                      \n",
       "Daily                  8.761902e-132  1.620505e-61   837.353006  0.002665  \n",
       "Never                  3.740088e-127  2.680143e-05  1034.834305  0.006824  \n",
       "Not provided            0.000000e+00  0.000000e+00   432.776499  0.000000  \n",
       "Occasionally            2.556504e-05  4.687264e-57   923.058790  0.003441  \n",
       "Rarely                 4.452490e-132  8.234833e-62   934.614449  0.004088  \n",
       "\n",
       "[5 rows x 10149 columns]"
      ]
     },
     "execution_count": 25,
     "metadata": {},
     "output_type": "execute_result"
    }
   ],
   "source": [
    "ko_meta_avg.head()"
   ]
  },
  {
   "cell_type": "markdown",
   "id": "fbb6c042-bb92-4040-8b2d-23eec0f91e01",
   "metadata": {},
   "source": [
    "Finally, let's find the most abundant features in each table:"
   ]
  },
  {
   "cell_type": "code",
   "execution_count": 26,
   "id": "0ac0dbc5-2aa4-418a-ac03-92e955b4d9d9",
   "metadata": {},
   "outputs": [
    {
     "name": "stdout",
     "output_type": "stream",
     "text": [
      "Saving 101 most abundant features...\n",
      "Saving 85 most abundant features...\n",
      "Saving 5 most abundant features...\n"
     ]
    }
   ],
   "source": [
    "# find top x% of the most abundant KOs, ECs and pathways in each sample type\n",
    "\n",
    "def find_most_abundant(df: pd.DataFrame, frac):\n",
    "    if 0 < frac < 1:\n",
    "        frac = int(frac * len(df.columns))\n",
    "    print(f'Saving {frac} most abundant features...')\n",
    "    most_abundant = {\n",
    "        smp: df.loc[smp, :].sort_values(ascending=False)[:frac]\n",
    "        for smp in df.index\n",
    "    }\n",
    "    return most_abundant\n",
    "\n",
    "ko_most_abundant = find_most_abundant(ko_meta_avg, 0.01)\n",
    "ec_most_abundant = find_most_abundant(ec_meta_avg, 0.03)\n",
    "pa_most_abundant = find_most_abundant(pa_meta_avg, 5)"
   ]
  },
  {
   "cell_type": "code",
   "execution_count": 27,
   "id": "6dc7282c-0bfb-4792-a5e7-e2f66f48aec0",
   "metadata": {},
   "outputs": [
    {
     "name": "stdout",
     "output_type": "stream",
     "text": [
      "5 most abundant KOs in the never alcohole consumption group are: ['K03088', 'K01990', 'K02004', 'K01992', 'K06147']\n",
      "5 most abundant KOs in the Daily alcohole consumption group are: ['K03088', 'K01990', 'K02004', 'K06147', 'K01992']\n",
      "5 most abundant KOs in the Occasionally alcohole consumption group are: ['K03088', 'K01990', 'K02004', 'K01992', 'K06147']\n",
      "5 most abundant KOs in the Rarely alcohole consumption group are: ['K03088', 'K01990', 'K02004', 'K06147', 'K01992']\n",
      "\n"
     ]
    }
   ],
   "source": [
    "print(f'5 most abundant KOs in the never alcohole consumption group are: {ko_most_abundant[\"Never\"].index[:5].tolist()}\\n'\n",
    "      f'5 most abundant KOs in the Daily alcohole consumption group are: {ko_most_abundant[\"Daily\"].index[:5].tolist()}\\n'\n",
    "      f'5 most abundant KOs in the Occasionally alcohole consumption group are: {ko_most_abundant[\"Occasionally\"].index[:5].tolist()}\\n'\n",
    "      f'5 most abundant KOs in the Rarely alcohole consumption group are: {ko_most_abundant[\"Rarely\"].index[:5].tolist()}\\n'\n",
    "     )"
   ]
  },
  {
   "cell_type": "code",
   "execution_count": 28,
   "id": "2a80ac56-9310-43aa-90d8-cc9554faf7c5",
   "metadata": {},
   "outputs": [],
   "source": [
    "for smp in ko_most_abundant.keys():\n",
    "    fetch_ipath(ko_most_abundant[smp].index.tolist(), f'{data_dir}/picrust2_results/kos_{smp}.svg')\n",
    "    fetch_ipath(ec_most_abundant[smp].index.str.replace(':', '').tolist(), f'{data_dir}/picrust2_results/ecs_{smp}.svg')\n",
    "    "
   ]
  },
  {
   "cell_type": "markdown",
   "id": "01909155-c10d-46a9-bb28-58fbd0f74452",
   "metadata": {},
   "source": [
    "<a id='metacyc_af'></a>\n",
    "### 1.4 Enriched pathways in different alcohol frequency\n"
   ]
  },
  {
   "cell_type": "code",
   "execution_count": 32,
   "id": "71ab18ef-24ee-44f8-83ad-0cb0cd5c80e1",
   "metadata": {},
   "outputs": [
    {
     "name": "stdout",
     "output_type": "stream",
     "text": [
      "4 most abundant pathways in the Never alcohol consumption group are: ['NONOXIPENT-PWY', 'PWY-7111', 'PWY-5101', 'PWY-7663']\n",
      "4 most abundant pathways in the Daily non-alcohol consumption are: ['NONOXIPENT-PWY', 'PWY-7111', 'PWY-5101', 'PWY-6737']\n",
      "4 most abundant pathways in the Occasionally non-alcohol consumption are: ['NONOXIPENT-PWY', 'PWY-7111', 'PWY-5101', 'PWY-7663']\n",
      "4 most abundant pathways in the Rarely non-alcohol consumption are: ['NONOXIPENT-PWY', 'PWY-7111', 'PWY-5101', 'PWY-7663']\n",
      "\n"
     ]
    }
   ],
   "source": [
    "print(f'4 most abundant pathways in the Never alcohol consumption group are: {pa_most_abundant[\"Never\"].index[:4].tolist()}\\n'\n",
    "      f'4 most abundant pathways in the Daily non-alcohol consumption are: {pa_most_abundant[\"Daily\"].index[:4].tolist()}\\n'\n",
    "     f'4 most abundant pathways in the Occasionally non-alcohol consumption are: {pa_most_abundant[\"Occasionally\"].index[:4].tolist()}\\n'\n",
    "     f'4 most abundant pathways in the Rarely non-alcohol consumption are: {pa_most_abundant[\"Rarely\"].index[:4].tolist()}\\n'\n",
    "     )"
   ]
  },
  {
   "cell_type": "markdown",
   "id": "7b944fdf-cb0b-472b-b0e0-fce032e045f5",
   "metadata": {},
   "source": [
    "Find whether there are pathways that differ significantly between samples with and without alcohol consumption."
   ]
  },
  {
   "cell_type": "code",
   "execution_count": 43,
   "id": "4f2e140e-a227-49a2-b312-b0cc94e8d7c8",
   "metadata": {},
   "outputs": [
    {
     "name": "stdout",
     "output_type": "stream",
     "text": [
      "\u001b[32mSaved FeatureTable[Composition] to: project_data/picrust2_results/pathway_abundance_abund.qza\u001b[0m\n",
      "\u001b[0m"
     ]
    }
   ],
   "source": [
    "! qiime composition add-pseudocount \\\n",
    "    --i-table $data_dir/picrust2_results/pathway_abundance.qza \\\n",
    "    --o-composition-table $data_dir/picrust2_results/pathway_abundance_abund.qza"
   ]
  },
  {
   "cell_type": "markdown",
   "id": "92f13876-b11a-433e-baaf-3cde1fad90ad",
   "metadata": {},
   "source": [
    "Load the pathway_abundance_abund.qza Feature Table to later visualize the outcome of the significant pathways."
   ]
  },
  {
   "cell_type": "code",
   "execution_count": 189,
   "id": "067446ef-8f5e-418c-a19c-cff12144b348",
   "metadata": {},
   "outputs": [],
   "source": [
    "tab = q2.Artifact.load('project_data/picrust2_results/pathway_abundance_abund.qza')\n",
    "tab = tab.view(pd.DataFrame)\n",
    "metadata.index = metadata.index.astype(str)"
   ]
  },
  {
   "cell_type": "code",
   "execution_count": 33,
   "id": "10e128ea-3016-4138-a5ce-60e1f1c17cfc",
   "metadata": {},
   "outputs": [
    {
     "name": "stdout",
     "output_type": "stream",
     "text": [
      "\u001b[32mSaved Visualization to: project_data/pa_ancom_alc_freq.qzv\u001b[0m\n",
      "\u001b[0m"
     ]
    }
   ],
   "source": [
    "! qiime composition ancom \\\n",
    "    --i-table $data_dir/picrust2_results/pathway_abundance_abund.qza \\\n",
    "    --m-metadata-file $data_dir/metadata.tsv \\\n",
    "    --m-metadata-column 'NUT_alcohol_frequency' \\\n",
    "    --p-transform-function sqrt \\\n",
    "    --o-visualization $data_dir/pa_ancom_alc_freq.qzv"
   ]
  },
  {
   "cell_type": "code",
   "execution_count": 38,
   "id": "de0340c1-3a72-49ed-881a-1abb2fb276db",
   "metadata": {
    "collapsed": true,
    "jupyter": {
     "outputs_hidden": true
    },
    "tags": []
   },
   "outputs": [
    {
     "data": {
      "text/html": [
       "<div><img onload=\"(function(div, url){\n",
       "if (typeof require !== 'undefined') {\n",
       "    var baseURL = require.toUrl('').split('/').slice(0, -2).join('/');\n",
       "} else {\n",
       "    var baseURL = JSON.parse(\n",
       "        document.getElementById('jupyter-config-data').innerHTML\n",
       "    ).baseUrl.slice(0, -1);\n",
       "}\n",
       "url = baseURL + url;\n",
       "fetch(url).then(function(res) {\n",
       "    if (res.status === 404) {\n",
       "        div.innerHTML = 'Install QIIME 2 Jupyter extension with:<br />' +\n",
       "                        '<code>jupyter serverextension enable --py qiime2' +\n",
       "                        ' --sys-prefix</code><br />then restart your server.' +\n",
       "                        '<br /><br />(Interactive output not available on ' +\n",
       "                        'static notebook viewer services like nbviewer.)';\n",
       "    } else if (res.status === 409) {\n",
       "        div.innerHTML = 'Visualization no longer in scope. Re-run this cell' +\n",
       "                        ' to see the visualization.';\n",
       "    } else if (res.ok) {\n",
       "        url = res.url;\n",
       "        div.innerHTML = '<iframe src=\\'' + url + '\\' style=\\'' +\n",
       "                        'width: 100%; height: 700px; border: 0;\\'>' +\n",
       "                        '</iframe><hr />Open in a: <a href=\\'' + url + '\\'' +\n",
       "                        ' target=\\'_blank\\'>new window</a>'\n",
       "    } else {\n",
       "        div.innerHTML = 'Something has gone wrong. Check notebook server for' +\n",
       "                        ' errors.';\n",
       "    }\n",
       "});\n",
       "})(this.parentElement, '/qiime2/redirect?location=/tmp/qiime2-archive-ij64zb7k')\" src=\"data:image/gif;base64,R0lGODlhAQABAIAAAP///wAAACH5BAEAAAAALAAAAAABAAEAAAICRAEAOw==\" /></div>"
      ],
      "text/plain": [
       "<visualization: Visualization uuid: 22a3728e-56e2-4643-a6e2-45ce978fc354>"
      ]
     },
     "execution_count": 38,
     "metadata": {},
     "output_type": "execute_result"
    }
   ],
   "source": [
    "Visualization.load(f'{data_dir}/pa_ancom_alc_freq.qzv')"
   ]
  },
  {
   "cell_type": "markdown",
   "id": "f8fd45c3-0865-41af-b5ad-72554024374d",
   "metadata": {},
   "source": [
    "ANCOM statistical result highest W value:  \n",
    "PWY-5198 -> 63  \n",
    "PWY-6165 -> 62  \n",
    "PWY-7354 -> 58  \n",
    "PWY-1622 ->10"
   ]
  },
  {
   "cell_type": "code",
   "execution_count": 221,
   "id": "e22a34f5-976d-40e2-aa53-ef38fdb09af7",
   "metadata": {},
   "outputs": [
    {
     "data": {
      "text/plain": [
       "<seaborn.axisgrid.FacetGrid at 0x7fe8c694c190>"
      ]
     },
     "execution_count": 221,
     "metadata": {},
     "output_type": "execute_result"
    },
    {
     "data": {
      "image/png": "[encoded data removed]",
      "text/plain": [
       "<Figure size 432x288 with 1 Axes>"
      ]
     },
     "metadata": {
      "needs_background": "light"
     },
     "output_type": "display_data"
    },
    {
     "data": {
      "image/png": "[encoded data removed]",
      "text/plain": [
       "<Figure size 360x360 with 1 Axes>"
      ]
     },
     "metadata": {
      "needs_background": "light"
     },
     "output_type": "display_data"
    }
   ],
   "source": [
    "# Boxplot to show the data for the most significant pathway\n",
    "new_tab = pd.concat([tab['PWY-5198'], metadata['NUT_alcohol_frequency']],axis=1).dropna()\n",
    "new_tab['NUT_alcohol_frequency'] = pd.Categorical(new_tab['NUT_alcohol_frequency'], \n",
    "                      categories=[\"Never\", \"Rarely\", \"Occasionally\", \"Regularly\", \"Daily\"],\n",
    "                      ordered=True)\n",
    "\n",
    "sns.boxplot(data=new_tab, x='NUT_alcohol_frequency', y= 'PWY-5198', showfliers=False)\n",
    "sns.catplot(\n",
    "    data=new_tab, x='NUT_alcohol_frequency', y= 'PWY-5198', showfliers=False,\n",
    "    kind=\"point\"\n",
    ")"
   ]
  },
  {
   "cell_type": "markdown",
   "id": "b896e6ce-1b62-4ec9-897c-ed6182b74356",
   "metadata": {},
   "source": [
    "<a id='milk'></a>\n",
    "## 2. Test for Milk products"
   ]
  },
  {
   "cell_type": "code",
   "execution_count": 37,
   "id": "bad3756c-2545-48f7-b4d5-548574477388",
   "metadata": {
    "collapsed": true,
    "jupyter": {
     "outputs_hidden": true
    },
    "tags": []
   },
   "outputs": [],
   "source": [
    "! qiime composition ancom \\\n",
    "    --i-table $data_dir/picrust2_results/pathway_abundance_abund.qza \\\n",
    "    --m-metadata-file $data_dir/metadata.tsv \\\n",
    "    --m-metadata-column 'NUT_milk_cheese_frequency' \\\n",
    "    --p-transform-function sqrt \\\n",
    "    --o-visualization $data_dir/pa_ancom_milk_cheese.qzv"
   ]
  },
  {
   "cell_type": "code",
   "execution_count": 40,
   "id": "b3eb8f9e-31aa-4313-9332-0ababeca60e4",
   "metadata": {
    "collapsed": true,
    "jupyter": {
     "outputs_hidden": true
    },
    "tags": []
   },
   "outputs": [
    {
     "data": {
      "text/html": [
       "<div><img onload=\"(function(div, url){\n",
       "if (typeof require !== 'undefined') {\n",
       "    var baseURL = require.toUrl('').split('/').slice(0, -2).join('/');\n",
       "} else {\n",
       "    var baseURL = JSON.parse(\n",
       "        document.getElementById('jupyter-config-data').innerHTML\n",
       "    ).baseUrl.slice(0, -1);\n",
       "}\n",
       "url = baseURL + url;\n",
       "fetch(url).then(function(res) {\n",
       "    if (res.status === 404) {\n",
       "        div.innerHTML = 'Install QIIME 2 Jupyter extension with:<br />' +\n",
       "                        '<code>jupyter serverextension enable --py qiime2' +\n",
       "                        ' --sys-prefix</code><br />then restart your server.' +\n",
       "                        '<br /><br />(Interactive output not available on ' +\n",
       "                        'static notebook viewer services like nbviewer.)';\n",
       "    } else if (res.status === 409) {\n",
       "        div.innerHTML = 'Visualization no longer in scope. Re-run this cell' +\n",
       "                        ' to see the visualization.';\n",
       "    } else if (res.ok) {\n",
       "        url = res.url;\n",
       "        div.innerHTML = '<iframe src=\\'' + url + '\\' style=\\'' +\n",
       "                        'width: 100%; height: 700px; border: 0;\\'>' +\n",
       "                        '</iframe><hr />Open in a: <a href=\\'' + url + '\\'' +\n",
       "                        ' target=\\'_blank\\'>new window</a>'\n",
       "    } else {\n",
       "        div.innerHTML = 'Something has gone wrong. Check notebook server for' +\n",
       "                        ' errors.';\n",
       "    }\n",
       "});\n",
       "})(this.parentElement, '/qiime2/redirect?location=/tmp/qiime2-archive-h5hb6gvy')\" src=\"data:image/gif;base64,R0lGODlhAQABAIAAAP///wAAACH5BAEAAAAALAAAAAABAAEAAAICRAEAOw==\" /></div>"
      ],
      "text/plain": [
       "<visualization: Visualization uuid: e638e2b9-0d6e-4a4d-a56b-f0f1396e7a5e>"
      ]
     },
     "execution_count": 40,
     "metadata": {},
     "output_type": "execute_result"
    }
   ],
   "source": [
    "Visualization.load(f'{data_dir}/pa_ancom_milk_cheese.qzv')"
   ]
  },
  {
   "cell_type": "markdown",
   "id": "0e374ac4-1664-4ca3-abac-5878aa08c0be",
   "metadata": {},
   "source": [
    "ANCOM statistical result highest W value:  \n",
    "NO significant features found!"
   ]
  },
  {
   "cell_type": "code",
   "execution_count": 39,
   "id": "8537d980-8ed8-4086-a95e-6d6876a5366e",
   "metadata": {
    "collapsed": true,
    "jupyter": {
     "outputs_hidden": true
    },
    "tags": []
   },
   "outputs": [],
   "source": [
    "! qiime composition ancom \\\n",
    "    --i-table $data_dir/picrust2_results/pathway_abundance_abund.qza \\\n",
    "    --m-metadata-file $data_dir/metadata.tsv \\\n",
    "    --m-metadata-column 'NUT_milk_substitute_frequency' \\\n",
    "    --p-transform-function sqrt \\\n",
    "    --o-visualization $data_dir/pa_ancom_milk_substitute.qzv"
   ]
  },
  {
   "cell_type": "code",
   "execution_count": 8,
   "id": "ff5a8e79-22ed-4746-b7e4-55aa9a13e8cc",
   "metadata": {
    "collapsed": true,
    "jupyter": {
     "outputs_hidden": true
    },
    "tags": []
   },
   "outputs": [
    {
     "data": {
      "text/html": [
       "<div><img onload=\"(function(div, url){\n",
       "if (typeof require !== 'undefined') {\n",
       "    var baseURL = require.toUrl('').split('/').slice(0, -2).join('/');\n",
       "} else {\n",
       "    var baseURL = JSON.parse(\n",
       "        document.getElementById('jupyter-config-data').innerHTML\n",
       "    ).baseUrl.slice(0, -1);\n",
       "}\n",
       "url = baseURL + url;\n",
       "fetch(url).then(function(res) {\n",
       "    if (res.status === 404) {\n",
       "        div.innerHTML = 'Install QIIME 2 Jupyter extension with:<br />' +\n",
       "                        '<code>jupyter serverextension enable --py qiime2' +\n",
       "                        ' --sys-prefix</code><br />then restart your server.' +\n",
       "                        '<br /><br />(Interactive output not available on ' +\n",
       "                        'static notebook viewer services like nbviewer.)';\n",
       "    } else if (res.status === 409) {\n",
       "        div.innerHTML = 'Visualization no longer in scope. Re-run this cell' +\n",
       "                        ' to see the visualization.';\n",
       "    } else if (res.ok) {\n",
       "        url = res.url;\n",
       "        div.innerHTML = '<iframe src=\\'' + url + '\\' style=\\'' +\n",
       "                        'width: 100%; height: 700px; border: 0;\\'>' +\n",
       "                        '</iframe><hr />Open in a: <a href=\\'' + url + '\\'' +\n",
       "                        ' target=\\'_blank\\'>new window</a>'\n",
       "    } else {\n",
       "        div.innerHTML = 'Something has gone wrong. Check notebook server for' +\n",
       "                        ' errors.';\n",
       "    }\n",
       "});\n",
       "})(this.parentElement, '/qiime2/redirect?location=/tmp/qiime2-archive-0se2s33r')\" src=\"data:image/gif;base64,R0lGODlhAQABAIAAAP///wAAACH5BAEAAAAALAAAAAABAAEAAAICRAEAOw==\" /></div>"
      ],
      "text/plain": [
       "<visualization: Visualization uuid: b8062c1e-488b-42d2-a3da-245b5fffc9f9>"
      ]
     },
     "execution_count": 8,
     "metadata": {},
     "output_type": "execute_result"
    }
   ],
   "source": [
    "Visualization.load(f'{data_dir}/pa_ancom_milk_substitute.qzv')"
   ]
  },
  {
   "cell_type": "markdown",
   "id": "bf42f6ec-f01a-4b8f-baa9-56958af865a0",
   "metadata": {},
   "source": [
    "ANCOM statistical result highest W value:  \n",
    "PWY-7315 -> 88  \n",
    "PWY-3081 -> 14  \n",
    "PWY-7446 -> 10  "
   ]
  },
  {
   "cell_type": "code",
   "execution_count": 220,
   "id": "b3beb8dc-5c4b-4fd4-bece-f968bdd13340",
   "metadata": {},
   "outputs": [
    {
     "data": {
      "text/plain": [
       "<seaborn.axisgrid.FacetGrid at 0x7fe8c6a3f160>"
      ]
     },
     "execution_count": 220,
     "metadata": {},
     "output_type": "execute_result"
    },
    {
     "data": {
      "image/png": "[encoded data removed]",
      "text/plain": [
       "<Figure size 432x288 with 1 Axes>"
      ]
     },
     "metadata": {
      "needs_background": "light"
     },
     "output_type": "display_data"
    },
    {
     "data": {
      "image/png": "[encoded data removed]",
      "text/plain": [
       "<Figure size 360x360 with 1 Axes>"
      ]
     },
     "metadata": {
      "needs_background": "light"
     },
     "output_type": "display_data"
    }
   ],
   "source": [
    "# Boxplot to show the data for the most significant pathway\n",
    "new_tab = pd.concat([tab['PWY-7315'], metadata['NUT_milk_substitute_frequency']],axis=1).dropna()\n",
    "new_tab['NUT_milk_substitute_frequency'] = pd.Categorical(new_tab['NUT_milk_substitute_frequency'], \n",
    "                      categories=[\"Never\", \"Rarely\", \"Occasionally\", \"Regularly\", \"Daily\"],\n",
    "                      ordered=True)\n",
    "sns.boxplot(data=new_tab, x='NUT_milk_substitute_frequency', y= 'PWY-7315', showfliers=False)\n",
    "sns.catplot(\n",
    "    data=new_tab, x='NUT_milk_substitute_frequency', y= 'PWY-7315', showfliers=False,\n",
    "    kind=\"point\"\n",
    ")"
   ]
  },
  {
   "cell_type": "code",
   "execution_count": 48,
   "id": "affec0ec-8a65-4f91-93d6-8c5a10fd015a",
   "metadata": {
    "tags": []
   },
   "outputs": [
    {
     "name": "stdout",
     "output_type": "stream",
     "text": [
      "\u001b[32mSaved Visualization to: project_data/pa_ancom_vitamin_d_supplement.qzv\u001b[0m\n",
      "\u001b[0m"
     ]
    }
   ],
   "source": [
    "! qiime composition ancom \\\n",
    "    --i-table $data_dir/picrust2_results/pathway_abundance_abund.qza \\\n",
    "    --m-metadata-file $data_dir/metadata.tsv \\\n",
    "    --m-metadata-column 'NUT_vitamin_d_supplement_frequency' \\\n",
    "    --p-transform-function sqrt \\\n",
    "    --o-visualization $data_dir/pa_ancom_vitamin_d_supplement.qzv"
   ]
  },
  {
   "cell_type": "code",
   "execution_count": 41,
   "id": "73a24fa1-3153-4dfd-b778-f2641eb0d636",
   "metadata": {
    "collapsed": true,
    "jupyter": {
     "outputs_hidden": true
    },
    "tags": []
   },
   "outputs": [
    {
     "data": {
      "text/html": [
       "<div><img onload=\"(function(div, url){\n",
       "if (typeof require !== 'undefined') {\n",
       "    var baseURL = require.toUrl('').split('/').slice(0, -2).join('/');\n",
       "} else {\n",
       "    var baseURL = JSON.parse(\n",
       "        document.getElementById('jupyter-config-data').innerHTML\n",
       "    ).baseUrl.slice(0, -1);\n",
       "}\n",
       "url = baseURL + url;\n",
       "fetch(url).then(function(res) {\n",
       "    if (res.status === 404) {\n",
       "        div.innerHTML = 'Install QIIME 2 Jupyter extension with:<br />' +\n",
       "                        '<code>jupyter serverextension enable --py qiime2' +\n",
       "                        ' --sys-prefix</code><br />then restart your server.' +\n",
       "                        '<br /><br />(Interactive output not available on ' +\n",
       "                        'static notebook viewer services like nbviewer.)';\n",
       "    } else if (res.status === 409) {\n",
       "        div.innerHTML = 'Visualization no longer in scope. Re-run this cell' +\n",
       "                        ' to see the visualization.';\n",
       "    } else if (res.ok) {\n",
       "        url = res.url;\n",
       "        div.innerHTML = '<iframe src=\\'' + url + '\\' style=\\'' +\n",
       "                        'width: 100%; height: 700px; border: 0;\\'>' +\n",
       "                        '</iframe><hr />Open in a: <a href=\\'' + url + '\\'' +\n",
       "                        ' target=\\'_blank\\'>new window</a>'\n",
       "    } else {\n",
       "        div.innerHTML = 'Something has gone wrong. Check notebook server for' +\n",
       "                        ' errors.';\n",
       "    }\n",
       "});\n",
       "})(this.parentElement, '/qiime2/redirect?location=/tmp/qiime2-archive-2bz761wm')\" src=\"data:image/gif;base64,R0lGODlhAQABAIAAAP///wAAACH5BAEAAAAALAAAAAABAAEAAAICRAEAOw==\" /></div>"
      ],
      "text/plain": [
       "<visualization: Visualization uuid: c29fbaab-6008-4f2b-95fe-50f81c2d2561>"
      ]
     },
     "execution_count": 41,
     "metadata": {},
     "output_type": "execute_result"
    }
   ],
   "source": [
    "Visualization.load(f'{data_dir}/pa_ancom_vitamin_d_supplement.qzv')"
   ]
  },
  {
   "cell_type": "markdown",
   "id": "56421d67-9d65-424b-b5ca-9eeb05a30c7f",
   "metadata": {},
   "source": [
    "ANCOM statistical result highest W value:  \n",
    "NO significant features found!"
   ]
  },
  {
   "cell_type": "markdown",
   "id": "ff25248b-5d48-44fa-b233-34cac0c73cd2",
   "metadata": {},
   "source": [
    "<a id='mediterranean'></a>\n",
    "## 3. Mediterranean Diet"
   ]
  },
  {
   "cell_type": "code",
   "execution_count": 52,
   "id": "07b927c0-8b50-4cd4-b018-675234efdf70",
   "metadata": {},
   "outputs": [
    {
     "name": "stdout",
     "output_type": "stream",
     "text": [
      "\u001b[32mSaved Visualization to: project_data/pa_ancom_olive_oil.qzv\u001b[0m\n",
      "\u001b[0m"
     ]
    }
   ],
   "source": [
    "! qiime composition ancom \\\n",
    "    --i-table $data_dir/picrust2_results/pathway_abundance_abund.qza \\\n",
    "    --m-metadata-file $data_dir/metadata.tsv \\\n",
    "    --m-metadata-column 'NUT_olive_oil' \\\n",
    "    --p-transform-function sqrt \\\n",
    "    --o-visualization $data_dir/pa_ancom_olive_oil.qzv"
   ]
  },
  {
   "cell_type": "code",
   "execution_count": 13,
   "id": "be150e7c-2b5d-4a8b-998b-e19cba6b7172",
   "metadata": {
    "collapsed": true,
    "jupyter": {
     "outputs_hidden": true
    },
    "tags": []
   },
   "outputs": [
    {
     "data": {
      "text/html": [
       "<div><img onload=\"(function(div, url){\n",
       "if (typeof require !== 'undefined') {\n",
       "    var baseURL = require.toUrl('').split('/').slice(0, -2).join('/');\n",
       "} else {\n",
       "    var baseURL = JSON.parse(\n",
       "        document.getElementById('jupyter-config-data').innerHTML\n",
       "    ).baseUrl.slice(0, -1);\n",
       "}\n",
       "url = baseURL + url;\n",
       "fetch(url).then(function(res) {\n",
       "    if (res.status === 404) {\n",
       "        div.innerHTML = 'Install QIIME 2 Jupyter extension with:<br />' +\n",
       "                        '<code>jupyter serverextension enable --py qiime2' +\n",
       "                        ' --sys-prefix</code><br />then restart your server.' +\n",
       "                        '<br /><br />(Interactive output not available on ' +\n",
       "                        'static notebook viewer services like nbviewer.)';\n",
       "    } else if (res.status === 409) {\n",
       "        div.innerHTML = 'Visualization no longer in scope. Re-run this cell' +\n",
       "                        ' to see the visualization.';\n",
       "    } else if (res.ok) {\n",
       "        url = res.url;\n",
       "        div.innerHTML = '<iframe src=\\'' + url + '\\' style=\\'' +\n",
       "                        'width: 100%; height: 700px; border: 0;\\'>' +\n",
       "                        '</iframe><hr />Open in a: <a href=\\'' + url + '\\'' +\n",
       "                        ' target=\\'_blank\\'>new window</a>'\n",
       "    } else {\n",
       "        div.innerHTML = 'Something has gone wrong. Check notebook server for' +\n",
       "                        ' errors.';\n",
       "    }\n",
       "});\n",
       "})(this.parentElement, '/qiime2/redirect?location=/tmp/qiime2-archive-19d2ma_w')\" src=\"data:image/gif;base64,R0lGODlhAQABAIAAAP///wAAACH5BAEAAAAALAAAAAABAAEAAAICRAEAOw==\" /></div>"
      ],
      "text/plain": [
       "<visualization: Visualization uuid: 845424b1-b1ee-4932-b5f0-94439d5fe781>"
      ]
     },
     "execution_count": 13,
     "metadata": {},
     "output_type": "execute_result"
    }
   ],
   "source": [
    "Visualization.load(f'{data_dir}/pa_ancom_olive_oil.qzv')"
   ]
  },
  {
   "cell_type": "markdown",
   "id": "f7a31990-c032-4481-be8e-0327a6bc1816",
   "metadata": {},
   "source": [
    "ANCOM statistical result highest W value:  \n",
    "NO significant features found!"
   ]
  },
  {
   "cell_type": "code",
   "execution_count": 16,
   "id": "2ce5b875-8562-4c26-a379-9e170ae916d9",
   "metadata": {
    "collapsed": true,
    "jupyter": {
     "outputs_hidden": true
    },
    "tags": []
   },
   "outputs": [
    {
     "name": "stdout",
     "output_type": "stream",
     "text": [
      "\u001b[32mSaved Visualization to: project_data/pa_ancom_seafood.qzv\u001b[0m\n",
      "\u001b[0m"
     ]
    },
    {
     "data": {
      "text/html": [
       "<div><img onload=\"(function(div, url){\n",
       "if (typeof require !== 'undefined') {\n",
       "    var baseURL = require.toUrl('').split('/').slice(0, -2).join('/');\n",
       "} else {\n",
       "    var baseURL = JSON.parse(\n",
       "        document.getElementById('jupyter-config-data').innerHTML\n",
       "    ).baseUrl.slice(0, -1);\n",
       "}\n",
       "url = baseURL + url;\n",
       "fetch(url).then(function(res) {\n",
       "    if (res.status === 404) {\n",
       "        div.innerHTML = 'Install QIIME 2 Jupyter extension with:<br />' +\n",
       "                        '<code>jupyter serverextension enable --py qiime2' +\n",
       "                        ' --sys-prefix</code><br />then restart your server.' +\n",
       "                        '<br /><br />(Interactive output not available on ' +\n",
       "                        'static notebook viewer services like nbviewer.)';\n",
       "    } else if (res.status === 409) {\n",
       "        div.innerHTML = 'Visualization no longer in scope. Re-run this cell' +\n",
       "                        ' to see the visualization.';\n",
       "    } else if (res.ok) {\n",
       "        url = res.url;\n",
       "        div.innerHTML = '<iframe src=\\'' + url + '\\' style=\\'' +\n",
       "                        'width: 100%; height: 700px; border: 0;\\'>' +\n",
       "                        '</iframe><hr />Open in a: <a href=\\'' + url + '\\'' +\n",
       "                        ' target=\\'_blank\\'>new window</a>'\n",
       "    } else {\n",
       "        div.innerHTML = 'Something has gone wrong. Check notebook server for' +\n",
       "                        ' errors.';\n",
       "    }\n",
       "});\n",
       "})(this.parentElement, '/qiime2/redirect?location=/tmp/qiime2-archive-kk63l8_b')\" src=\"data:image/gif;base64,R0lGODlhAQABAIAAAP///wAAACH5BAEAAAAALAAAAAABAAEAAAICRAEAOw==\" /></div>"
      ],
      "text/plain": [
       "<visualization: Visualization uuid: 44bb2d93-d3b3-4fe8-a0d4-27be180c6cd8>"
      ]
     },
     "execution_count": 16,
     "metadata": {},
     "output_type": "execute_result"
    }
   ],
   "source": [
    "! qiime composition ancom \\\n",
    "    --i-table $data_dir/picrust2_results/pathway_abundance_abund.qza \\\n",
    "    --m-metadata-file $data_dir/metadata.tsv \\\n",
    "    --m-metadata-column 'NUT_seafood_frequency' \\\n",
    "    --p-transform-function sqrt \\\n",
    "    --o-visualization $data_dir/pa_ancom_seafood.qzv\n",
    "\n",
    "Visualization.load(f'{data_dir}/pa_ancom_seafood.qzv')"
   ]
  },
  {
   "cell_type": "markdown",
   "id": "be68496f-5d65-4b51-be30-d2bd16497f39",
   "metadata": {},
   "source": [
    "ANCOM statistical result highest W value:  \n",
    "NO significant features found!"
   ]
  },
  {
   "cell_type": "code",
   "execution_count": 10,
   "id": "0eaacc9d-6e56-4089-9626-227b686ca8c7",
   "metadata": {},
   "outputs": [
    {
     "name": "stdout",
     "output_type": "stream",
     "text": [
      "\u001b[32mSaved Visualization to: project_data/pa_ancom_fruit.qzv\u001b[0m\n",
      "\u001b[0m"
     ]
    }
   ],
   "source": [
    "! qiime composition ancom \\\n",
    "    --i-table $data_dir/picrust2_results/pathway_abundance_abund.qza \\\n",
    "    --m-metadata-file $data_dir/metadata.tsv \\\n",
    "    --m-metadata-column 'NUT_fruit_frequency' \\\n",
    "    --p-transform-function sqrt \\\n",
    "    --o-visualization $data_dir/pa_ancom_fruit.qzv"
   ]
  },
  {
   "cell_type": "code",
   "execution_count": 11,
   "id": "8f2f083d-2e12-4f9a-80aa-69e8bc5d31f9",
   "metadata": {
    "collapsed": true,
    "jupyter": {
     "outputs_hidden": true
    },
    "tags": []
   },
   "outputs": [
    {
     "data": {
      "text/html": [
       "<div><img onload=\"(function(div, url){\n",
       "if (typeof require !== 'undefined') {\n",
       "    var baseURL = require.toUrl('').split('/').slice(0, -2).join('/');\n",
       "} else {\n",
       "    var baseURL = JSON.parse(\n",
       "        document.getElementById('jupyter-config-data').innerHTML\n",
       "    ).baseUrl.slice(0, -1);\n",
       "}\n",
       "url = baseURL + url;\n",
       "fetch(url).then(function(res) {\n",
       "    if (res.status === 404) {\n",
       "        div.innerHTML = 'Install QIIME 2 Jupyter extension with:<br />' +\n",
       "                        '<code>jupyter serverextension enable --py qiime2' +\n",
       "                        ' --sys-prefix</code><br />then restart your server.' +\n",
       "                        '<br /><br />(Interactive output not available on ' +\n",
       "                        'static notebook viewer services like nbviewer.)';\n",
       "    } else if (res.status === 409) {\n",
       "        div.innerHTML = 'Visualization no longer in scope. Re-run this cell' +\n",
       "                        ' to see the visualization.';\n",
       "    } else if (res.ok) {\n",
       "        url = res.url;\n",
       "        div.innerHTML = '<iframe src=\\'' + url + '\\' style=\\'' +\n",
       "                        'width: 100%; height: 700px; border: 0;\\'>' +\n",
       "                        '</iframe><hr />Open in a: <a href=\\'' + url + '\\'' +\n",
       "                        ' target=\\'_blank\\'>new window</a>'\n",
       "    } else {\n",
       "        div.innerHTML = 'Something has gone wrong. Check notebook server for' +\n",
       "                        ' errors.';\n",
       "    }\n",
       "});\n",
       "})(this.parentElement, '/qiime2/redirect?location=/tmp/qiime2-archive-0hur5bmn')\" src=\"data:image/gif;base64,R0lGODlhAQABAIAAAP///wAAACH5BAEAAAAALAAAAAABAAEAAAICRAEAOw==\" /></div>"
      ],
      "text/plain": [
       "<visualization: Visualization uuid: 91681bac-b44a-4749-b827-021659127da0>"
      ]
     },
     "execution_count": 11,
     "metadata": {},
     "output_type": "execute_result"
    }
   ],
   "source": [
    "Visualization.load(f'{data_dir}/pa_ancom_fruit.qzv')"
   ]
  },
  {
   "cell_type": "markdown",
   "id": "73704254-1660-47af-b6dc-222de59c991b",
   "metadata": {},
   "source": [
    "ANCOM statistical result highest W value:  \n",
    "NO significant features found!"
   ]
  },
  {
   "cell_type": "code",
   "execution_count": 17,
   "id": "354aa508-eb75-4b7c-9a95-037fe5740e36",
   "metadata": {
    "collapsed": true,
    "jupyter": {
     "outputs_hidden": true
    },
    "tags": []
   },
   "outputs": [],
   "source": [
    "! qiime composition ancom \\\n",
    "    --i-table $data_dir/picrust2_results/pathway_abundance_abund.qza \\\n",
    "    --m-metadata-file $data_dir/metadata.tsv \\\n",
    "    --m-metadata-column 'NUT_vegetable_frequency' \\\n",
    "    --p-transform-function sqrt \\\n",
    "    --o-visualization $data_dir/pa_ancom_vegetable.qzv"
   ]
  },
  {
   "cell_type": "code",
   "execution_count": 163,
   "id": "bd062450-729a-4306-ae0f-1277f0acf77b",
   "metadata": {
    "collapsed": true,
    "jupyter": {
     "outputs_hidden": true
    },
    "tags": []
   },
   "outputs": [
    {
     "data": {
      "text/html": [
       "<div><img onload=\"(function(div, url){\n",
       "if (typeof require !== 'undefined') {\n",
       "    var baseURL = require.toUrl('').split('/').slice(0, -2).join('/');\n",
       "} else {\n",
       "    var baseURL = JSON.parse(\n",
       "        document.getElementById('jupyter-config-data').innerHTML\n",
       "    ).baseUrl.slice(0, -1);\n",
       "}\n",
       "url = baseURL + url;\n",
       "fetch(url).then(function(res) {\n",
       "    if (res.status === 404) {\n",
       "        div.innerHTML = 'Install QIIME 2 Jupyter extension with:<br />' +\n",
       "                        '<code>jupyter serverextension enable --py qiime2' +\n",
       "                        ' --sys-prefix</code><br />then restart your server.' +\n",
       "                        '<br /><br />(Interactive output not available on ' +\n",
       "                        'static notebook viewer services like nbviewer.)';\n",
       "    } else if (res.status === 409) {\n",
       "        div.innerHTML = 'Visualization no longer in scope. Re-run this cell' +\n",
       "                        ' to see the visualization.';\n",
       "    } else if (res.ok) {\n",
       "        url = res.url;\n",
       "        div.innerHTML = '<iframe src=\\'' + url + '\\' style=\\'' +\n",
       "                        'width: 100%; height: 700px; border: 0;\\'>' +\n",
       "                        '</iframe><hr />Open in a: <a href=\\'' + url + '\\'' +\n",
       "                        ' target=\\'_blank\\'>new window</a>'\n",
       "    } else {\n",
       "        div.innerHTML = 'Something has gone wrong. Check notebook server for' +\n",
       "                        ' errors.';\n",
       "    }\n",
       "});\n",
       "})(this.parentElement, '/qiime2/redirect?location=/tmp/qiime2-archive-ovrcnm0g')\" src=\"data:image/gif;base64,R0lGODlhAQABAIAAAP///wAAACH5BAEAAAAALAAAAAABAAEAAAICRAEAOw==\" /></div>"
      ],
      "text/plain": [
       "<visualization: Visualization uuid: fefcf88e-fc19-4a29-8b82-ef2ede2cff02>"
      ]
     },
     "execution_count": 163,
     "metadata": {},
     "output_type": "execute_result"
    }
   ],
   "source": [
    "Visualization.load(f'{data_dir}/pa_ancom_vegetable.qzv')"
   ]
  },
  {
   "cell_type": "markdown",
   "id": "846f76e6-d525-4302-8158-d84a4295c0f7",
   "metadata": {},
   "source": [
    "ANCOM statistical result highest W value:  \n",
    "PWY-3801 -> 352  \n",
    "PWY-6641 -> 341  \n",
    "PWY-5941 -> 335  \n",
    "CRNFORCAT-PWY -> 328  \n",
    "SUCSYN-PWY -> 317  \n",
    "PWY-5531 -> 316  \n",
    "PWY-7159 -> 316  "
   ]
  },
  {
   "cell_type": "code",
   "execution_count": 219,
   "id": "22e7c674-5b68-40cd-93f7-ae06e4cc9fca",
   "metadata": {},
   "outputs": [
    {
     "data": {
      "text/plain": [
       "<seaborn.axisgrid.FacetGrid at 0x7fe8c6b9c670>"
      ]
     },
     "execution_count": 219,
     "metadata": {},
     "output_type": "execute_result"
    },
    {
     "data": {
      "image/png": "[encoded data removed]",
      "text/plain": [
       "<Figure size 432x288 with 1 Axes>"
      ]
     },
     "metadata": {
      "needs_background": "light"
     },
     "output_type": "display_data"
    },
    {
     "data": {
      "image/png": "[encoded data removed]",
      "text/plain": [
       "<Figure size 360x360 with 1 Axes>"
      ]
     },
     "metadata": {
      "needs_background": "light"
     },
     "output_type": "display_data"
    }
   ],
   "source": [
    "# Boxplot to show the data for the most significant pathway\n",
    "new_tab = pd.concat([tab['PWY-3801'], metadata['NUT_vegetable_frequency']],axis=1).dropna()\n",
    "new_tab['NUT_vegetable_frequency'] = pd.Categorical(new_tab['NUT_vegetable_frequency'], \n",
    "                      categories=[\"Never\", \"Rarely\", \"Occasionally\", \"Regularly\", \"Daily\"],\n",
    "                      ordered=True)\n",
    "sns.boxplot(data=new_tab, x='NUT_vegetable_frequency', y= 'PWY-3801', showfliers=False)\n",
    "sns.catplot(\n",
    "    data=new_tab, x='NUT_vegetable_frequency', y= 'PWY-3801', showfliers=False,\n",
    "    kind=\"point\"\n",
    ")"
   ]
  },
  {
   "cell_type": "code",
   "execution_count": 18,
   "id": "afc3c25b-4c17-4245-bf96-f6e682752c08",
   "metadata": {
    "collapsed": true,
    "jupyter": {
     "outputs_hidden": true
    },
    "tags": []
   },
   "outputs": [
    {
     "name": "stdout",
     "output_type": "stream",
     "text": [
      "\u001b[32mSaved Visualization to: project_data/pa_ancom_whole_grain.qzv\u001b[0m\n",
      "\u001b[0m"
     ]
    },
    {
     "data": {
      "text/html": [
       "<div><img onload=\"(function(div, url){\n",
       "if (typeof require !== 'undefined') {\n",
       "    var baseURL = require.toUrl('').split('/').slice(0, -2).join('/');\n",
       "} else {\n",
       "    var baseURL = JSON.parse(\n",
       "        document.getElementById('jupyter-config-data').innerHTML\n",
       "    ).baseUrl.slice(0, -1);\n",
       "}\n",
       "url = baseURL + url;\n",
       "fetch(url).then(function(res) {\n",
       "    if (res.status === 404) {\n",
       "        div.innerHTML = 'Install QIIME 2 Jupyter extension with:<br />' +\n",
       "                        '<code>jupyter serverextension enable --py qiime2' +\n",
       "                        ' --sys-prefix</code><br />then restart your server.' +\n",
       "                        '<br /><br />(Interactive output not available on ' +\n",
       "                        'static notebook viewer services like nbviewer.)';\n",
       "    } else if (res.status === 409) {\n",
       "        div.innerHTML = 'Visualization no longer in scope. Re-run this cell' +\n",
       "                        ' to see the visualization.';\n",
       "    } else if (res.ok) {\n",
       "        url = res.url;\n",
       "        div.innerHTML = '<iframe src=\\'' + url + '\\' style=\\'' +\n",
       "                        'width: 100%; height: 700px; border: 0;\\'>' +\n",
       "                        '</iframe><hr />Open in a: <a href=\\'' + url + '\\'' +\n",
       "                        ' target=\\'_blank\\'>new window</a>'\n",
       "    } else {\n",
       "        div.innerHTML = 'Something has gone wrong. Check notebook server for' +\n",
       "                        ' errors.';\n",
       "    }\n",
       "});\n",
       "})(this.parentElement, '/qiime2/redirect?location=/tmp/qiime2-archive-cz6wnc62')\" src=\"data:image/gif;base64,R0lGODlhAQABAIAAAP///wAAACH5BAEAAAAALAAAAAABAAEAAAICRAEAOw==\" /></div>"
      ],
      "text/plain": [
       "<visualization: Visualization uuid: af7273c9-1f41-4d9b-893c-048881bf1f9a>"
      ]
     },
     "execution_count": 18,
     "metadata": {},
     "output_type": "execute_result"
    }
   ],
   "source": [
    "! qiime composition ancom \\\n",
    "    --i-table $data_dir/picrust2_results/pathway_abundance_abund.qza \\\n",
    "    --m-metadata-file $data_dir/metadata.tsv \\\n",
    "    --m-metadata-column 'NUT_whole_grain_frequency' \\\n",
    "    --p-transform-function sqrt \\\n",
    "    --o-visualization $data_dir/pa_ancom_whole_grain.qzv\n",
    "\n",
    "Visualization.load(f'{data_dir}/pa_ancom_whole_grain.qzv')"
   ]
  },
  {
   "cell_type": "markdown",
   "id": "83a7e96f-5bf5-4350-8433-10cb36bb75f8",
   "metadata": {},
   "source": [
    "ANCOM statistical result highest W value:  \n",
    "NO significant features found! "
   ]
  },
  {
   "cell_type": "markdown",
   "id": "82fc2fc3-9185-456f-8af7-c11f7abb6822",
   "metadata": {},
   "source": [
    "<a id='poultry'></a>\n",
    "## 4. Test for Poultry"
   ]
  },
  {
   "cell_type": "code",
   "execution_count": 14,
   "id": "fcc5e07f-f114-45d4-bbc2-444c3a293d8a",
   "metadata": {},
   "outputs": [
    {
     "name": "stdout",
     "output_type": "stream",
     "text": [
      "\u001b[32mSaved Visualization to: project_data/pa_ancom_poultry.qzv\u001b[0m\n",
      "\u001b[0m"
     ]
    }
   ],
   "source": [
    "! qiime composition ancom \\\n",
    "    --i-table $data_dir/picrust2_results/pathway_abundance_abund.qza \\\n",
    "    --m-metadata-file $data_dir/metadata.tsv \\\n",
    "    --m-metadata-column 'NUT_poultry_frequency' \\\n",
    "    --p-transform-function sqrt \\\n",
    "    --o-visualization $data_dir/pa_ancom_poultry.qzv"
   ]
  },
  {
   "cell_type": "code",
   "execution_count": 15,
   "id": "d3ede2dc-dc07-4b28-a433-35a9f93b8983",
   "metadata": {
    "collapsed": true,
    "jupyter": {
     "outputs_hidden": true
    },
    "tags": []
   },
   "outputs": [
    {
     "data": {
      "text/html": [
       "<div><img onload=\"(function(div, url){\n",
       "if (typeof require !== 'undefined') {\n",
       "    var baseURL = require.toUrl('').split('/').slice(0, -2).join('/');\n",
       "} else {\n",
       "    var baseURL = JSON.parse(\n",
       "        document.getElementById('jupyter-config-data').innerHTML\n",
       "    ).baseUrl.slice(0, -1);\n",
       "}\n",
       "url = baseURL + url;\n",
       "fetch(url).then(function(res) {\n",
       "    if (res.status === 404) {\n",
       "        div.innerHTML = 'Install QIIME 2 Jupyter extension with:<br />' +\n",
       "                        '<code>jupyter serverextension enable --py qiime2' +\n",
       "                        ' --sys-prefix</code><br />then restart your server.' +\n",
       "                        '<br /><br />(Interactive output not available on ' +\n",
       "                        'static notebook viewer services like nbviewer.)';\n",
       "    } else if (res.status === 409) {\n",
       "        div.innerHTML = 'Visualization no longer in scope. Re-run this cell' +\n",
       "                        ' to see the visualization.';\n",
       "    } else if (res.ok) {\n",
       "        url = res.url;\n",
       "        div.innerHTML = '<iframe src=\\'' + url + '\\' style=\\'' +\n",
       "                        'width: 100%; height: 700px; border: 0;\\'>' +\n",
       "                        '</iframe><hr />Open in a: <a href=\\'' + url + '\\'' +\n",
       "                        ' target=\\'_blank\\'>new window</a>'\n",
       "    } else {\n",
       "        div.innerHTML = 'Something has gone wrong. Check notebook server for' +\n",
       "                        ' errors.';\n",
       "    }\n",
       "});\n",
       "})(this.parentElement, '/qiime2/redirect?location=/tmp/qiime2-archive-gddfsyd2')\" src=\"data:image/gif;base64,R0lGODlhAQABAIAAAP///wAAACH5BAEAAAAALAAAAAABAAEAAAICRAEAOw==\" /></div>"
      ],
      "text/plain": [
       "<visualization: Visualization uuid: e1f99ad3-ef86-4ec8-9075-45aa9666db05>"
      ]
     },
     "execution_count": 15,
     "metadata": {},
     "output_type": "execute_result"
    }
   ],
   "source": [
    "Visualization.load(f'{data_dir}/pa_ancom_poultry.qzv')"
   ]
  },
  {
   "cell_type": "markdown",
   "id": "c30efaad-4d7c-497f-9a5d-4b1eaebcfd53",
   "metadata": {},
   "source": [
    "ANCOM statistical result highest W value:   \n",
    "PWY-5531 -> 210  \n",
    "PWY-7159 -> 210  "
   ]
  },
  {
   "cell_type": "code",
   "execution_count": 218,
   "id": "d53d037e-b260-4e3b-8b54-4df50f18d83f",
   "metadata": {},
   "outputs": [
    {
     "data": {
      "text/plain": [
       "<seaborn.axisgrid.FacetGrid at 0x7fe8c6cf5e50>"
      ]
     },
     "execution_count": 218,
     "metadata": {},
     "output_type": "execute_result"
    },
    {
     "data": {
      "image/png": "[encoded data removed]",
      "text/plain": [
       "<Figure size 432x288 with 1 Axes>"
      ]
     },
     "metadata": {
      "needs_background": "light"
     },
     "output_type": "display_data"
    },
    {
     "data": {
      "image/png": "[encoded data removed]",
      "text/plain": [
       "<Figure size 360x360 with 1 Axes>"
      ]
     },
     "metadata": {
      "needs_background": "light"
     },
     "output_type": "display_data"
    }
   ],
   "source": [
    "# Boxplot to show the data for the most significant pathway\n",
    "new_tab = pd.concat([tab['PWY-5531'], metadata['NUT_poultry_frequency']],axis=1).dropna()\n",
    "new_tab['NUT_poultry_frequency'] = pd.Categorical(new_tab['NUT_poultry_frequency'], \n",
    "                      categories=[\"Never\", \"Rarely\", \"Occasionally\", \"Regularly\", \"Daily\"],\n",
    "                      ordered=True)\n",
    "\n",
    "sns.boxplot(data=new_tab, x='NUT_poultry_frequency', y= 'PWY-5531', showfliers=False)\n",
    "sns.catplot(\n",
    "    data=new_tab, x='NUT_poultry_frequency', y= 'PWY-5531', showfliers=False,\n",
    "    kind=\"point\"\n",
    ")"
   ]
  },
  {
   "cell_type": "code",
   "execution_count": 20,
   "id": "ad137f67-f196-41b3-84be-e440adf10784",
   "metadata": {
    "collapsed": true,
    "jupyter": {
     "outputs_hidden": true
    },
    "tags": []
   },
   "outputs": [],
   "source": [
    "! qiime composition ancom \\\n",
    "    --i-table $data_dir/picrust2_results/pathway_abundance_abund.qza \\\n",
    "    --m-metadata-file $data_dir/metadata.tsv \\\n",
    "    --m-metadata-column 'NUT_whole_eggs' \\\n",
    "    --p-transform-function sqrt \\\n",
    "    --o-visualization $data_dir/pa_ancom_whole_eggs.qzv"
   ]
  },
  {
   "cell_type": "code",
   "execution_count": 20,
   "id": "abf430a9-80be-4450-867b-1a5ee6a6767e",
   "metadata": {
    "collapsed": true,
    "jupyter": {
     "outputs_hidden": true
    },
    "tags": []
   },
   "outputs": [
    {
     "name": "stdout",
     "output_type": "stream",
     "text": [
      "\u001b[32mSaved Visualization to: project_data/pa_ancom_whole_eggs.qzv\u001b[0m\n",
      "\u001b[0m"
     ]
    },
    {
     "data": {
      "text/html": [
       "<div><img onload=\"(function(div, url){\n",
       "if (typeof require !== 'undefined') {\n",
       "    var baseURL = require.toUrl('').split('/').slice(0, -2).join('/');\n",
       "} else {\n",
       "    var baseURL = JSON.parse(\n",
       "        document.getElementById('jupyter-config-data').innerHTML\n",
       "    ).baseUrl.slice(0, -1);\n",
       "}\n",
       "url = baseURL + url;\n",
       "fetch(url).then(function(res) {\n",
       "    if (res.status === 404) {\n",
       "        div.innerHTML = 'Install QIIME 2 Jupyter extension with:<br />' +\n",
       "                        '<code>jupyter serverextension enable --py qiime2' +\n",
       "                        ' --sys-prefix</code><br />then restart your server.' +\n",
       "                        '<br /><br />(Interactive output not available on ' +\n",
       "                        'static notebook viewer services like nbviewer.)';\n",
       "    } else if (res.status === 409) {\n",
       "        div.innerHTML = 'Visualization no longer in scope. Re-run this cell' +\n",
       "                        ' to see the visualization.';\n",
       "    } else if (res.ok) {\n",
       "        url = res.url;\n",
       "        div.innerHTML = '<iframe src=\\'' + url + '\\' style=\\'' +\n",
       "                        'width: 100%; height: 700px; border: 0;\\'>' +\n",
       "                        '</iframe><hr />Open in a: <a href=\\'' + url + '\\'' +\n",
       "                        ' target=\\'_blank\\'>new window</a>'\n",
       "    } else {\n",
       "        div.innerHTML = 'Something has gone wrong. Check notebook server for' +\n",
       "                        ' errors.';\n",
       "    }\n",
       "});\n",
       "})(this.parentElement, '/qiime2/redirect?location=/tmp/qiime2-archive-vjdyttgb')\" src=\"data:image/gif;base64,R0lGODlhAQABAIAAAP///wAAACH5BAEAAAAALAAAAAABAAEAAAICRAEAOw==\" /></div>"
      ],
      "text/plain": [
       "<visualization: Visualization uuid: 8446d5b3-5f7b-499e-8581-4eadc26ae0e8>"
      ]
     },
     "execution_count": 20,
     "metadata": {},
     "output_type": "execute_result"
    }
   ],
   "source": [
    "Visualization.load(f'{data_dir}/pa_ancom_whole_eggs.qzv')"
   ]
  },
  {
   "cell_type": "markdown",
   "id": "17499499-346d-490c-a2c3-042101ac2a26",
   "metadata": {},
   "source": [
    "ANCOM statistical result highest W value:  \n",
    "NO significant features found!"
   ]
  },
  {
   "cell_type": "markdown",
   "id": "402be319-d062-4eb6-a330-b73e01afce62",
   "metadata": {},
   "source": [
    "<a id='meat'></a>\n",
    "## 5. Test for Meat"
   ]
  },
  {
   "cell_type": "code",
   "execution_count": 26,
   "id": "d08b0c7c-d2ca-4db4-bbbf-ad22460b34f8",
   "metadata": {
    "collapsed": true,
    "jupyter": {
     "outputs_hidden": true
    },
    "tags": []
   },
   "outputs": [
    {
     "name": "stdout",
     "output_type": "stream",
     "text": [
      "\u001b[32mSaved Visualization to: project_data/pa_ancom_high_fat_red_meat.qzv\u001b[0m\n",
      "\u001b[0m"
     ]
    },
    {
     "data": {
      "text/html": [
       "<div><img onload=\"(function(div, url){\n",
       "if (typeof require !== 'undefined') {\n",
       "    var baseURL = require.toUrl('').split('/').slice(0, -2).join('/');\n",
       "} else {\n",
       "    var baseURL = JSON.parse(\n",
       "        document.getElementById('jupyter-config-data').innerHTML\n",
       "    ).baseUrl.slice(0, -1);\n",
       "}\n",
       "url = baseURL + url;\n",
       "fetch(url).then(function(res) {\n",
       "    if (res.status === 404) {\n",
       "        div.innerHTML = 'Install QIIME 2 Jupyter extension with:<br />' +\n",
       "                        '<code>jupyter serverextension enable --py qiime2' +\n",
       "                        ' --sys-prefix</code><br />then restart your server.' +\n",
       "                        '<br /><br />(Interactive output not available on ' +\n",
       "                        'static notebook viewer services like nbviewer.)';\n",
       "    } else if (res.status === 409) {\n",
       "        div.innerHTML = 'Visualization no longer in scope. Re-run this cell' +\n",
       "                        ' to see the visualization.';\n",
       "    } else if (res.ok) {\n",
       "        url = res.url;\n",
       "        div.innerHTML = '<iframe src=\\'' + url + '\\' style=\\'' +\n",
       "                        'width: 100%; height: 700px; border: 0;\\'>' +\n",
       "                        '</iframe><hr />Open in a: <a href=\\'' + url + '\\'' +\n",
       "                        ' target=\\'_blank\\'>new window</a>'\n",
       "    } else {\n",
       "        div.innerHTML = 'Something has gone wrong. Check notebook server for' +\n",
       "                        ' errors.';\n",
       "    }\n",
       "});\n",
       "})(this.parentElement, '/qiime2/redirect?location=/tmp/qiime2-archive-6p5solfc')\" src=\"data:image/gif;base64,R0lGODlhAQABAIAAAP///wAAACH5BAEAAAAALAAAAAABAAEAAAICRAEAOw==\" /></div>"
      ],
      "text/plain": [
       "<visualization: Visualization uuid: ace39670-5b4e-4dc5-8922-e1d14b9c3d29>"
      ]
     },
     "execution_count": 26,
     "metadata": {},
     "output_type": "execute_result"
    }
   ],
   "source": [
    "! qiime composition ancom \\\n",
    "    --i-table $data_dir/picrust2_results/pathway_abundance_abund.qza \\\n",
    "    --m-metadata-file $data_dir/metadata.tsv \\\n",
    "    --m-metadata-column 'NUT_high_fat_red_meat_frequency' \\\n",
    "    --p-transform-function sqrt \\\n",
    "    --o-visualization $data_dir/pa_ancom_high_fat_red_meat.qzv\n",
    "\n",
    "Visualization.load(f'{data_dir}/pa_ancom_high_fat_red_meat.qzv')"
   ]
  },
  {
   "cell_type": "markdown",
   "id": "8ccec3cb-1da6-45c0-8c5c-3c46473fd4fc",
   "metadata": {},
   "source": [
    "ANCOM statistical result highest W value:  \n",
    "NO significant features found!"
   ]
  },
  {
   "cell_type": "code",
   "execution_count": 33,
   "id": "71436952-7b0e-4b6c-ba02-5c802d196d8f",
   "metadata": {
    "collapsed": true,
    "jupyter": {
     "outputs_hidden": true
    },
    "tags": []
   },
   "outputs": [
    {
     "name": "stdout",
     "output_type": "stream",
     "text": [
      "\u001b[32mSaved Visualization to: project_data/pa_ancom_red_meat.qzv\u001b[0m\n",
      "\u001b[0m"
     ]
    },
    {
     "data": {
      "text/html": [
       "<div><img onload=\"(function(div, url){\n",
       "if (typeof require !== 'undefined') {\n",
       "    var baseURL = require.toUrl('').split('/').slice(0, -2).join('/');\n",
       "} else {\n",
       "    var baseURL = JSON.parse(\n",
       "        document.getElementById('jupyter-config-data').innerHTML\n",
       "    ).baseUrl.slice(0, -1);\n",
       "}\n",
       "url = baseURL + url;\n",
       "fetch(url).then(function(res) {\n",
       "    if (res.status === 404) {\n",
       "        div.innerHTML = 'Install QIIME 2 Jupyter extension with:<br />' +\n",
       "                        '<code>jupyter serverextension enable --py qiime2' +\n",
       "                        ' --sys-prefix</code><br />then restart your server.' +\n",
       "                        '<br /><br />(Interactive output not available on ' +\n",
       "                        'static notebook viewer services like nbviewer.)';\n",
       "    } else if (res.status === 409) {\n",
       "        div.innerHTML = 'Visualization no longer in scope. Re-run this cell' +\n",
       "                        ' to see the visualization.';\n",
       "    } else if (res.ok) {\n",
       "        url = res.url;\n",
       "        div.innerHTML = '<iframe src=\\'' + url + '\\' style=\\'' +\n",
       "                        'width: 100%; height: 700px; border: 0;\\'>' +\n",
       "                        '</iframe><hr />Open in a: <a href=\\'' + url + '\\'' +\n",
       "                        ' target=\\'_blank\\'>new window</a>'\n",
       "    } else {\n",
       "        div.innerHTML = 'Something has gone wrong. Check notebook server for' +\n",
       "                        ' errors.';\n",
       "    }\n",
       "});\n",
       "})(this.parentElement, '/qiime2/redirect?location=/tmp/qiime2-archive-muegfyxa')\" src=\"data:image/gif;base64,R0lGODlhAQABAIAAAP///wAAACH5BAEAAAAALAAAAAABAAEAAAICRAEAOw==\" /></div>"
      ],
      "text/plain": [
       "<visualization: Visualization uuid: aa054bc8-e244-4c28-a81a-3319acfde9d1>"
      ]
     },
     "execution_count": 33,
     "metadata": {},
     "output_type": "execute_result"
    }
   ],
   "source": [
    "! qiime composition ancom \\\n",
    "    --i-table $data_dir/picrust2_results/pathway_abundance_abund.qza \\\n",
    "    --m-metadata-file $data_dir/metadata.tsv \\\n",
    "    --m-metadata-column 'NUT_red_meat_frequency' \\\n",
    "    --p-transform-function sqrt \\\n",
    "    --o-visualization $data_dir/pa_ancom_red_meat.qzv\n",
    "\n",
    "Visualization.load(f'{data_dir}/pa_ancom_red_meat.qzv')"
   ]
  },
  {
   "cell_type": "markdown",
   "id": "02c720eb-efca-4a75-8ce9-85b786471475",
   "metadata": {},
   "source": [
    "ANCOM statistical result highest W value:  \n",
    "NO significant features found!"
   ]
  },
  {
   "cell_type": "code",
   "execution_count": 29,
   "id": "bce683f9-0397-4777-86bc-5dfb0436d2da",
   "metadata": {
    "collapsed": true,
    "jupyter": {
     "outputs_hidden": true
    },
    "tags": []
   },
   "outputs": [
    {
     "name": "stdout",
     "output_type": "stream",
     "text": [
      "\u001b[32mSaved Visualization to: project_data/pa_ancom_meat_eggs.qzv\u001b[0m\n",
      "\u001b[0m"
     ]
    },
    {
     "data": {
      "text/html": [
       "<div><img onload=\"(function(div, url){\n",
       "if (typeof require !== 'undefined') {\n",
       "    var baseURL = require.toUrl('').split('/').slice(0, -2).join('/');\n",
       "} else {\n",
       "    var baseURL = JSON.parse(\n",
       "        document.getElementById('jupyter-config-data').innerHTML\n",
       "    ).baseUrl.slice(0, -1);\n",
       "}\n",
       "url = baseURL + url;\n",
       "fetch(url).then(function(res) {\n",
       "    if (res.status === 404) {\n",
       "        div.innerHTML = 'Install QIIME 2 Jupyter extension with:<br />' +\n",
       "                        '<code>jupyter serverextension enable --py qiime2' +\n",
       "                        ' --sys-prefix</code><br />then restart your server.' +\n",
       "                        '<br /><br />(Interactive output not available on ' +\n",
       "                        'static notebook viewer services like nbviewer.)';\n",
       "    } else if (res.status === 409) {\n",
       "        div.innerHTML = 'Visualization no longer in scope. Re-run this cell' +\n",
       "                        ' to see the visualization.';\n",
       "    } else if (res.ok) {\n",
       "        url = res.url;\n",
       "        div.innerHTML = '<iframe src=\\'' + url + '\\' style=\\'' +\n",
       "                        'width: 100%; height: 700px; border: 0;\\'>' +\n",
       "                        '</iframe><hr />Open in a: <a href=\\'' + url + '\\'' +\n",
       "                        ' target=\\'_blank\\'>new window</a>'\n",
       "    } else {\n",
       "        div.innerHTML = 'Something has gone wrong. Check notebook server for' +\n",
       "                        ' errors.';\n",
       "    }\n",
       "});\n",
       "})(this.parentElement, '/qiime2/redirect?location=/tmp/qiime2-archive-ngh1pkxl')\" src=\"data:image/gif;base64,R0lGODlhAQABAIAAAP///wAAACH5BAEAAAAALAAAAAABAAEAAAICRAEAOw==\" /></div>"
      ],
      "text/plain": [
       "<visualization: Visualization uuid: 3f613e05-9748-4088-b042-b7cabd81dc90>"
      ]
     },
     "execution_count": 29,
     "metadata": {},
     "output_type": "execute_result"
    }
   ],
   "source": [
    "! qiime composition ancom \\\n",
    "    --i-table $data_dir/picrust2_results/pathway_abundance_abund.qza \\\n",
    "    --m-metadata-file $data_dir/metadata.tsv \\\n",
    "    --m-metadata-column 'NUT_meat_eggs_frequency' \\\n",
    "    --p-transform-function sqrt \\\n",
    "    --o-visualization $data_dir/pa_ancom_meat_eggs.qzv\n",
    "\n",
    "Visualization.load(f'{data_dir}/pa_ancom_meat_eggs.qzv')"
   ]
  },
  {
   "cell_type": "markdown",
   "id": "7a16117a-d7dd-4405-8bf7-91d5b360a532",
   "metadata": {},
   "source": [
    "ANCOM statistical result highest W value:  \n",
    "NO significant features found!"
   ]
  },
  {
   "cell_type": "code",
   "execution_count": 22,
   "id": "aabc72f7-ad76-471f-b07e-eb0823a70dd6",
   "metadata": {
    "collapsed": true,
    "jupyter": {
     "outputs_hidden": true
    },
    "tags": []
   },
   "outputs": [
    {
     "name": "stdout",
     "output_type": "stream",
     "text": [
      "\u001b[32mSaved Visualization to: project_data/pa_ancom_vitamin_b.qzv\u001b[0m\n",
      "\u001b[0m"
     ]
    },
    {
     "data": {
      "text/html": [
       "<div><img onload=\"(function(div, url){\n",
       "if (typeof require !== 'undefined') {\n",
       "    var baseURL = require.toUrl('').split('/').slice(0, -2).join('/');\n",
       "} else {\n",
       "    var baseURL = JSON.parse(\n",
       "        document.getElementById('jupyter-config-data').innerHTML\n",
       "    ).baseUrl.slice(0, -1);\n",
       "}\n",
       "url = baseURL + url;\n",
       "fetch(url).then(function(res) {\n",
       "    if (res.status === 404) {\n",
       "        div.innerHTML = 'Install QIIME 2 Jupyter extension with:<br />' +\n",
       "                        '<code>jupyter serverextension enable --py qiime2' +\n",
       "                        ' --sys-prefix</code><br />then restart your server.' +\n",
       "                        '<br /><br />(Interactive output not available on ' +\n",
       "                        'static notebook viewer services like nbviewer.)';\n",
       "    } else if (res.status === 409) {\n",
       "        div.innerHTML = 'Visualization no longer in scope. Re-run this cell' +\n",
       "                        ' to see the visualization.';\n",
       "    } else if (res.ok) {\n",
       "        url = res.url;\n",
       "        div.innerHTML = '<iframe src=\\'' + url + '\\' style=\\'' +\n",
       "                        'width: 100%; height: 700px; border: 0;\\'>' +\n",
       "                        '</iframe><hr />Open in a: <a href=\\'' + url + '\\'' +\n",
       "                        ' target=\\'_blank\\'>new window</a>'\n",
       "    } else {\n",
       "        div.innerHTML = 'Something has gone wrong. Check notebook server for' +\n",
       "                        ' errors.';\n",
       "    }\n",
       "});\n",
       "})(this.parentElement, '/qiime2/redirect?location=/tmp/qiime2-archive-qybdwoej')\" src=\"data:image/gif;base64,R0lGODlhAQABAIAAAP///wAAACH5BAEAAAAALAAAAAABAAEAAAICRAEAOw==\" /></div>"
      ],
      "text/plain": [
       "<visualization: Visualization uuid: 9bf49e61-e9c0-40b5-b02c-c241545a7480>"
      ]
     },
     "execution_count": 22,
     "metadata": {},
     "output_type": "execute_result"
    }
   ],
   "source": [
    "! qiime composition ancom \\\n",
    "    --i-table $data_dir/picrust2_results/pathway_abundance_abund.qza \\\n",
    "    --m-metadata-file $data_dir/metadata.tsv \\\n",
    "    --m-metadata-column 'NUT_vitamin_b_supplement_frequency' \\\n",
    "    --p-transform-function sqrt \\\n",
    "    --o-visualization $data_dir/pa_ancom_vitamin_b.qzv\n",
    "\n",
    "Visualization.load(f'{data_dir}/pa_ancom_vitamin_b.qzv')"
   ]
  },
  {
   "cell_type": "markdown",
   "id": "23090576-ce85-4a63-a25b-f206972f3247",
   "metadata": {},
   "source": [
    "ANCOM statistical result highest W value:  \n",
    "NO significant features found!"
   ]
  },
  {
   "cell_type": "markdown",
   "id": "ed2064df-fbaa-4555-b9ea-fa4d076897bb",
   "metadata": {},
   "source": [
    "<a id='vegi'></a>\n",
    "## 6. Vegetarian diet"
   ]
  },
  {
   "cell_type": "code",
   "execution_count": 36,
   "id": "fd3312cb-51f2-4875-9be9-6409b58a06be",
   "metadata": {},
   "outputs": [],
   "source": [
    "! qiime composition ancom \\\n",
    "    --i-table $data_dir/picrust2_results/pathway_abundance_abund.qza \\\n",
    "    --m-metadata-file $data_dir/metadata.tsv \\\n",
    "    --m-metadata-column 'NUT_diet_type' \\\n",
    "    --p-transform-function sqrt \\\n",
    "    --o-visualization $data_dir/pa_ancom_diet_type.qzv"
   ]
  },
  {
   "cell_type": "code",
   "execution_count": 7,
   "id": "37189278-c146-4cb1-9060-62fc7d04d5fd",
   "metadata": {
    "collapsed": true,
    "jupyter": {
     "outputs_hidden": true
    },
    "tags": []
   },
   "outputs": [
    {
     "data": {
      "text/html": [
       "<div><img onload=\"(function(div, url){\n",
       "if (typeof require !== 'undefined') {\n",
       "    var baseURL = require.toUrl('').split('/').slice(0, -2).join('/');\n",
       "} else {\n",
       "    var baseURL = JSON.parse(\n",
       "        document.getElementById('jupyter-config-data').innerHTML\n",
       "    ).baseUrl.slice(0, -1);\n",
       "}\n",
       "url = baseURL + url;\n",
       "fetch(url).then(function(res) {\n",
       "    if (res.status === 404) {\n",
       "        div.innerHTML = 'Install QIIME 2 Jupyter extension with:<br />' +\n",
       "                        '<code>jupyter serverextension enable --py qiime2' +\n",
       "                        ' --sys-prefix</code><br />then restart your server.' +\n",
       "                        '<br /><br />(Interactive output not available on ' +\n",
       "                        'static notebook viewer services like nbviewer.)';\n",
       "    } else if (res.status === 409) {\n",
       "        div.innerHTML = 'Visualization no longer in scope. Re-run this cell' +\n",
       "                        ' to see the visualization.';\n",
       "    } else if (res.ok) {\n",
       "        url = res.url;\n",
       "        div.innerHTML = '<iframe src=\\'' + url + '\\' style=\\'' +\n",
       "                        'width: 100%; height: 700px; border: 0;\\'>' +\n",
       "                        '</iframe><hr />Open in a: <a href=\\'' + url + '\\'' +\n",
       "                        ' target=\\'_blank\\'>new window</a>'\n",
       "    } else {\n",
       "        div.innerHTML = 'Something has gone wrong. Check notebook server for' +\n",
       "                        ' errors.';\n",
       "    }\n",
       "});\n",
       "})(this.parentElement, '/qiime2/redirect?location=/tmp/qiime2-archive-7g5ki5g5')\" src=\"data:image/gif;base64,R0lGODlhAQABAIAAAP///wAAACH5BAEAAAAALAAAAAABAAEAAAICRAEAOw==\" /></div>"
      ],
      "text/plain": [
       "<visualization: Visualization uuid: a268d24f-ffdb-4bfd-b1ad-3ad0a7e70962>"
      ]
     },
     "execution_count": 7,
     "metadata": {},
     "output_type": "execute_result"
    }
   ],
   "source": [
    "Visualization.load(f'{data_dir}/pa_ancom_diet_type.qzv')"
   ]
  },
  {
   "cell_type": "markdown",
   "id": "84d04c1e-3017-4d4a-94a8-02d1898a8def",
   "metadata": {},
   "source": [
    "ANCOM statistical result highest W value:  \n",
    "PWY-6263 -> 72  \n",
    "PWY-7374 -> 68  \n",
    "PWY4FS-7 -> 54  \n",
    "PWY4FS-8 -> 54  \n",
    "GLYCOLYSIS-E-D -> 50"
   ]
  },
  {
   "cell_type": "code",
   "execution_count": 217,
   "id": "0b546466-2acd-46f1-bc11-196d31a044d6",
   "metadata": {},
   "outputs": [
    {
     "data": {
      "text/plain": [
       "<seaborn.axisgrid.FacetGrid at 0x7fe8c6d661c0>"
      ]
     },
     "execution_count": 217,
     "metadata": {},
     "output_type": "execute_result"
    },
    {
     "data": {
      "image/png": "[encoded data removed]",
      "text/plain": [
       "<Figure size 720x360 with 1 Axes>"
      ]
     },
     "metadata": {
      "needs_background": "light"
     },
     "output_type": "display_data"
    },
    {
     "data": {
      "text/plain": [
       "<Figure size 720x360 with 0 Axes>"
      ]
     },
     "metadata": {},
     "output_type": "display_data"
    },
    {
     "data": {
      "image/png": "[encoded data removed]",
      "text/plain": [
       "<Figure size 360x360 with 1 Axes>"
      ]
     },
     "metadata": {
      "needs_background": "light"
     },
     "output_type": "display_data"
    }
   ],
   "source": [
    "# Boxplot to show the data for the most significant pathway\n",
    "new_tab = pd.concat([tab['PWY-6263'], metadata['NUT_diet_type']],axis=1).dropna()\n",
    "new_tab['NUT_diet_type'] = pd.Categorical(new_tab['NUT_diet_type'], \n",
    "                      categories=[\"Vegan\", \"Vegetarian\", \"Vegetarian but eat seafood\", \"Omnivore but do not eat red meat\", \"Omnivore\"],\n",
    "                      ordered=True)\n",
    "plt.figure(figsize=(10,5))\n",
    "chart = sns.boxplot(data=new_tab, x='NUT_diet_type', y= 'PWY-6263', showfliers=False)\n",
    "chart.set_xticklabels(chart.get_xticklabels(), rotation=45, horizontalalignment='right')\n",
    "\n",
    "plt.figure(figsize=(10,5))\n",
    "chart2 = sns.catplot(\n",
    "    data=new_tab, x='NUT_diet_type', y= 'PWY-6263', showfliers=False,\n",
    "    kind=\"point\")\n",
    "chart2.set_xticklabels(chart.get_xticklabels(), rotation=45, horizontalalignment='right')"
   ]
  },
  {
   "cell_type": "markdown",
   "id": "3c6caab4-761b-4d70-b3c5-2ad4ee257eca",
   "metadata": {},
   "source": [
    "<a id='gluten'></a>\n",
    "## 7. Test for Gluten"
   ]
  },
  {
   "cell_type": "code",
   "execution_count": 19,
   "id": "79c6d4c3-0507-4b69-b142-d39a57a272da",
   "metadata": {
    "collapsed": true,
    "jupyter": {
     "outputs_hidden": true
    },
    "tags": []
   },
   "outputs": [],
   "source": [
    "! qiime composition ancom \\\n",
    "    --i-table $data_dir/picrust2_results/pathway_abundance_abund.qza \\\n",
    "    --m-metadata-file $data_dir/metadata.tsv \\\n",
    "    --m-metadata-column 'NUT_gluten' \\\n",
    "    --p-transform-function sqrt \\\n",
    "    --o-visualization $data_dir/pa_ancom_gluten.qzv"
   ]
  },
  {
   "cell_type": "code",
   "execution_count": 162,
   "id": "030a2396-f70e-4ecd-b433-88185303100b",
   "metadata": {
    "collapsed": true,
    "jupyter": {
     "outputs_hidden": true
    },
    "tags": []
   },
   "outputs": [
    {
     "data": {
      "text/html": [
       "<div><img onload=\"(function(div, url){\n",
       "if (typeof require !== 'undefined') {\n",
       "    var baseURL = require.toUrl('').split('/').slice(0, -2).join('/');\n",
       "} else {\n",
       "    var baseURL = JSON.parse(\n",
       "        document.getElementById('jupyter-config-data').innerHTML\n",
       "    ).baseUrl.slice(0, -1);\n",
       "}\n",
       "url = baseURL + url;\n",
       "fetch(url).then(function(res) {\n",
       "    if (res.status === 404) {\n",
       "        div.innerHTML = 'Install QIIME 2 Jupyter extension with:<br />' +\n",
       "                        '<code>jupyter serverextension enable --py qiime2' +\n",
       "                        ' --sys-prefix</code><br />then restart your server.' +\n",
       "                        '<br /><br />(Interactive output not available on ' +\n",
       "                        'static notebook viewer services like nbviewer.)';\n",
       "    } else if (res.status === 409) {\n",
       "        div.innerHTML = 'Visualization no longer in scope. Re-run this cell' +\n",
       "                        ' to see the visualization.';\n",
       "    } else if (res.ok) {\n",
       "        url = res.url;\n",
       "        div.innerHTML = '<iframe src=\\'' + url + '\\' style=\\'' +\n",
       "                        'width: 100%; height: 700px; border: 0;\\'>' +\n",
       "                        '</iframe><hr />Open in a: <a href=\\'' + url + '\\'' +\n",
       "                        ' target=\\'_blank\\'>new window</a>'\n",
       "    } else {\n",
       "        div.innerHTML = 'Something has gone wrong. Check notebook server for' +\n",
       "                        ' errors.';\n",
       "    }\n",
       "});\n",
       "})(this.parentElement, '/qiime2/redirect?location=/tmp/qiime2-archive-7pdl_o5c')\" src=\"data:image/gif;base64,R0lGODlhAQABAIAAAP///wAAACH5BAEAAAAALAAAAAABAAEAAAICRAEAOw==\" /></div>"
      ],
      "text/plain": [
       "<visualization: Visualization uuid: ecee8c97-05d8-4ba9-b5a2-ac661c19d1cc>"
      ]
     },
     "execution_count": 162,
     "metadata": {},
     "output_type": "execute_result"
    }
   ],
   "source": [
    "Visualization.load(f'{data_dir}/pa_ancom_gluten.qzv')"
   ]
  },
  {
   "cell_type": "markdown",
   "id": "66f31065-928d-42cf-8d33-efa093a109bf",
   "metadata": {},
   "source": [
    "ANCOM statistical result highest W value:  \n",
    "NO significant features found!"
   ]
  },
  {
   "cell_type": "code",
   "execution_count": 27,
   "id": "28e86478-e7ed-49c3-8a0c-e18f7b9be602",
   "metadata": {
    "tags": []
   },
   "outputs": [],
   "source": [
    "! qiime composition ancom \\\n",
    "    --i-table $data_dir/picrust2_results/pathway_abundance_abund.qza \\\n",
    "    --m-metadata-file $data_dir/metadata.tsv \\\n",
    "    --m-metadata-column 'NUT_lowgrain_diet_type' \\\n",
    "    --p-transform-function sqrt \\\n",
    "    --o-visualization $data_dir/pa_ancom_lowgrain_diet_type.qzv"
   ]
  },
  {
   "cell_type": "code",
   "execution_count": 8,
   "id": "93f301a3-d8ef-40b9-b759-295baa2d7fcc",
   "metadata": {
    "collapsed": true,
    "jupyter": {
     "outputs_hidden": true
    },
    "tags": []
   },
   "outputs": [
    {
     "data": {
      "text/html": [
       "<div><img onload=\"(function(div, url){\n",
       "if (typeof require !== 'undefined') {\n",
       "    var baseURL = require.toUrl('').split('/').slice(0, -2).join('/');\n",
       "} else {\n",
       "    var baseURL = JSON.parse(\n",
       "        document.getElementById('jupyter-config-data').innerHTML\n",
       "    ).baseUrl.slice(0, -1);\n",
       "}\n",
       "url = baseURL + url;\n",
       "fetch(url).then(function(res) {\n",
       "    if (res.status === 404) {\n",
       "        div.innerHTML = 'Install QIIME 2 Jupyter extension with:<br />' +\n",
       "                        '<code>jupyter serverextension enable --py qiime2' +\n",
       "                        ' --sys-prefix</code><br />then restart your server.' +\n",
       "                        '<br /><br />(Interactive output not available on ' +\n",
       "                        'static notebook viewer services like nbviewer.)';\n",
       "    } else if (res.status === 409) {\n",
       "        div.innerHTML = 'Visualization no longer in scope. Re-run this cell' +\n",
       "                        ' to see the visualization.';\n",
       "    } else if (res.ok) {\n",
       "        url = res.url;\n",
       "        div.innerHTML = '<iframe src=\\'' + url + '\\' style=\\'' +\n",
       "                        'width: 100%; height: 700px; border: 0;\\'>' +\n",
       "                        '</iframe><hr />Open in a: <a href=\\'' + url + '\\'' +\n",
       "                        ' target=\\'_blank\\'>new window</a>'\n",
       "    } else {\n",
       "        div.innerHTML = 'Something has gone wrong. Check notebook server for' +\n",
       "                        ' errors.';\n",
       "    }\n",
       "});\n",
       "})(this.parentElement, '/qiime2/redirect?location=/tmp/qiime2-archive-5iczikq_')\" src=\"data:image/gif;base64,R0lGODlhAQABAIAAAP///wAAACH5BAEAAAAALAAAAAABAAEAAAICRAEAOw==\" /></div>"
      ],
      "text/plain": [
       "<visualization: Visualization uuid: 04afc17f-6d45-49e0-83e9-19d04bf60ba1>"
      ]
     },
     "execution_count": 8,
     "metadata": {},
     "output_type": "execute_result"
    }
   ],
   "source": [
    "Visualization.load(f'{data_dir}/pa_ancom_lowgrain_diet_type.qzv')"
   ]
  },
  {
   "cell_type": "markdown",
   "id": "9a4496d3-93d0-4581-ae43-018f9a05b48a",
   "metadata": {},
   "source": [
    "ANCOM statistical result highest W value:  \n",
    "PWY-6383 -> 480  \n",
    "PWY1G-0 -> 480  "
   ]
  },
  {
   "cell_type": "code",
   "execution_count": 215,
   "id": "878be69f-a6da-45bb-bb7f-b2c4b41c259b",
   "metadata": {},
   "outputs": [
    {
     "data": {
      "text/plain": [
       "<seaborn.axisgrid.FacetGrid at 0x7fe8c6f81100>"
      ]
     },
     "execution_count": 215,
     "metadata": {},
     "output_type": "execute_result"
    },
    {
     "data": {
      "image/png": "[encoded data removed]",
      "text/plain": [
       "<Figure size 432x288 with 1 Axes>"
      ]
     },
     "metadata": {
      "needs_background": "light"
     },
     "output_type": "display_data"
    },
    {
     "data": {
      "image/png": "[encoded data removed]",
      "text/plain": [
       "<Figure size 360x360 with 1 Axes>"
      ]
     },
     "metadata": {
      "needs_background": "light"
     },
     "output_type": "display_data"
    }
   ],
   "source": [
    "new_tab = pd.concat([tab['PWY-6383'], metadata['NUT_lowgrain_diet_type']],axis=1).dropna()\n",
    "new_tab['NUT_lowgrain_diet_type']\n",
    "\n",
    "sns.boxplot(data=new_tab, x=\"NUT_lowgrain_diet_type\", y= \"PWY-6383\", showfliers=False)\n",
    "sns.catplot(\n",
    "    data=new_tab, x=\"NUT_lowgrain_diet_type\", y= \"PWY-6383\", showfliers=False,\n",
    "    kind=\"point\"\n",
    ")"
   ]
  },
  {
   "cell_type": "markdown",
   "id": "2d53e980-56c9-46ba-8824-f4acbe4604a8",
   "metadata": {},
   "source": [
    "<a id='sweet'></a>\n",
    "## 8. Sweet Tooth"
   ]
  },
  {
   "cell_type": "code",
   "execution_count": 21,
   "id": "8a66514f-2f45-4dd8-9b98-d68c1f4af720",
   "metadata": {
    "collapsed": true,
    "jupyter": {
     "outputs_hidden": true
    },
    "tags": []
   },
   "outputs": [],
   "source": [
    "! qiime composition ancom \\\n",
    "    --i-table $data_dir/picrust2_results/pathway_abundance_abund.qza \\\n",
    "    --m-metadata-file $data_dir/metadata.tsv \\\n",
    "    --m-metadata-column 'NUT_sugary_sweets_frequency' \\\n",
    "    --p-transform-function sqrt \\\n",
    "    --o-visualization $data_dir/pa_ancom_sugary_sweets.qzv"
   ]
  },
  {
   "cell_type": "code",
   "execution_count": 21,
   "id": "73c5da26-eccb-411a-95a7-f0ac99509170",
   "metadata": {
    "collapsed": true,
    "jupyter": {
     "outputs_hidden": true
    },
    "tags": []
   },
   "outputs": [
    {
     "name": "stdout",
     "output_type": "stream",
     "text": [
      "\u001b[32mSaved Visualization to: project_data/pa_ancom_sugary_sweets.qzv\u001b[0m\n",
      "\u001b[0m"
     ]
    },
    {
     "data": {
      "text/html": [
       "<div><img onload=\"(function(div, url){\n",
       "if (typeof require !== 'undefined') {\n",
       "    var baseURL = require.toUrl('').split('/').slice(0, -2).join('/');\n",
       "} else {\n",
       "    var baseURL = JSON.parse(\n",
       "        document.getElementById('jupyter-config-data').innerHTML\n",
       "    ).baseUrl.slice(0, -1);\n",
       "}\n",
       "url = baseURL + url;\n",
       "fetch(url).then(function(res) {\n",
       "    if (res.status === 404) {\n",
       "        div.innerHTML = 'Install QIIME 2 Jupyter extension with:<br />' +\n",
       "                        '<code>jupyter serverextension enable --py qiime2' +\n",
       "                        ' --sys-prefix</code><br />then restart your server.' +\n",
       "                        '<br /><br />(Interactive output not available on ' +\n",
       "                        'static notebook viewer services like nbviewer.)';\n",
       "    } else if (res.status === 409) {\n",
       "        div.innerHTML = 'Visualization no longer in scope. Re-run this cell' +\n",
       "                        ' to see the visualization.';\n",
       "    } else if (res.ok) {\n",
       "        url = res.url;\n",
       "        div.innerHTML = '<iframe src=\\'' + url + '\\' style=\\'' +\n",
       "                        'width: 100%; height: 700px; border: 0;\\'>' +\n",
       "                        '</iframe><hr />Open in a: <a href=\\'' + url + '\\'' +\n",
       "                        ' target=\\'_blank\\'>new window</a>'\n",
       "    } else {\n",
       "        div.innerHTML = 'Something has gone wrong. Check notebook server for' +\n",
       "                        ' errors.';\n",
       "    }\n",
       "});\n",
       "})(this.parentElement, '/qiime2/redirect?location=/tmp/qiime2-archive-yi7tnouk')\" src=\"data:image/gif;base64,R0lGODlhAQABAIAAAP///wAAACH5BAEAAAAALAAAAAABAAEAAAICRAEAOw==\" /></div>"
      ],
      "text/plain": [
       "<visualization: Visualization uuid: 791c8501-c81d-4dd6-aabe-10166b502c92>"
      ]
     },
     "execution_count": 21,
     "metadata": {},
     "output_type": "execute_result"
    }
   ],
   "source": [
    "Visualization.load(f'{data_dir}/pa_ancom_sugary_sweets.qzv')"
   ]
  },
  {
   "cell_type": "markdown",
   "id": "c9f2cad2-76ed-4a2c-a0fb-d878e21f2b08",
   "metadata": {},
   "source": [
    "ANCOM statistical result highest W value:  \n",
    "NO significant features found!"
   ]
  },
  {
   "cell_type": "code",
   "execution_count": 24,
   "id": "1650cdcc-53b2-4393-98f0-7d98e1068ac7",
   "metadata": {
    "collapsed": true,
    "jupyter": {
     "outputs_hidden": true
    },
    "tags": []
   },
   "outputs": [],
   "source": [
    "! qiime composition ancom \\\n",
    "    --i-table $data_dir/picrust2_results/pathway_abundance_abund.qza \\\n",
    "    --m-metadata-file $data_dir/metadata.tsv \\\n",
    "    --m-metadata-column 'NUT_artificial_sweeteners' \\\n",
    "    --p-transform-function sqrt \\\n",
    "    --o-visualization $data_dir/pa_ancom_artificial_sweeteners.qzv"
   ]
  },
  {
   "cell_type": "code",
   "execution_count": 24,
   "id": "f03aebc9-94cb-496c-8ca7-9491c98fe09b",
   "metadata": {
    "collapsed": true,
    "jupyter": {
     "outputs_hidden": true
    },
    "tags": []
   },
   "outputs": [
    {
     "name": "stdout",
     "output_type": "stream",
     "text": [
      "\u001b[32mSaved Visualization to: project_data/pa_ancom_artificial_sweeteners.qzv\u001b[0m\n",
      "\u001b[0m"
     ]
    },
    {
     "data": {
      "text/html": [
       "<div><img onload=\"(function(div, url){\n",
       "if (typeof require !== 'undefined') {\n",
       "    var baseURL = require.toUrl('').split('/').slice(0, -2).join('/');\n",
       "} else {\n",
       "    var baseURL = JSON.parse(\n",
       "        document.getElementById('jupyter-config-data').innerHTML\n",
       "    ).baseUrl.slice(0, -1);\n",
       "}\n",
       "url = baseURL + url;\n",
       "fetch(url).then(function(res) {\n",
       "    if (res.status === 404) {\n",
       "        div.innerHTML = 'Install QIIME 2 Jupyter extension with:<br />' +\n",
       "                        '<code>jupyter serverextension enable --py qiime2' +\n",
       "                        ' --sys-prefix</code><br />then restart your server.' +\n",
       "                        '<br /><br />(Interactive output not available on ' +\n",
       "                        'static notebook viewer services like nbviewer.)';\n",
       "    } else if (res.status === 409) {\n",
       "        div.innerHTML = 'Visualization no longer in scope. Re-run this cell' +\n",
       "                        ' to see the visualization.';\n",
       "    } else if (res.ok) {\n",
       "        url = res.url;\n",
       "        div.innerHTML = '<iframe src=\\'' + url + '\\' style=\\'' +\n",
       "                        'width: 100%; height: 700px; border: 0;\\'>' +\n",
       "                        '</iframe><hr />Open in a: <a href=\\'' + url + '\\'' +\n",
       "                        ' target=\\'_blank\\'>new window</a>'\n",
       "    } else {\n",
       "        div.innerHTML = 'Something has gone wrong. Check notebook server for' +\n",
       "                        ' errors.';\n",
       "    }\n",
       "});\n",
       "})(this.parentElement, '/qiime2/redirect?location=/tmp/qiime2-archive-3tltkkig')\" src=\"data:image/gif;base64,R0lGODlhAQABAIAAAP///wAAACH5BAEAAAAALAAAAAABAAEAAAICRAEAOw==\" /></div>"
      ],
      "text/plain": [
       "<visualization: Visualization uuid: 1afde280-5837-40c3-9e91-beb3bc5a4794>"
      ]
     },
     "execution_count": 24,
     "metadata": {},
     "output_type": "execute_result"
    }
   ],
   "source": [
    "Visualization.load(f'{data_dir}/pa_ancom_artificial_sweeteners.qzv')"
   ]
  },
  {
   "cell_type": "markdown",
   "id": "2866b83d-a551-4bd6-80c6-7558de546f4f",
   "metadata": {},
   "source": [
    "ANCOM statistical result highest W value:  \n",
    "NO significant features found!"
   ]
  },
  {
   "cell_type": "code",
   "execution_count": 35,
   "id": "25a27a59-1716-4666-a857-3e8800c65341",
   "metadata": {
    "collapsed": true,
    "jupyter": {
     "outputs_hidden": true
    },
    "tags": []
   },
   "outputs": [],
   "source": [
    "! qiime composition ancom \\\n",
    "    --i-table $data_dir/picrust2_results/pathway_abundance_abund.qza \\\n",
    "    --m-metadata-file $data_dir/metadata.tsv \\\n",
    "    --m-metadata-column 'NUT_frozen_dessert_frequency' \\\n",
    "    --p-transform-function sqrt \\\n",
    "    --o-visualization $data_dir/pa_ancom_frozen_dessert.qzv"
   ]
  },
  {
   "cell_type": "code",
   "execution_count": 35,
   "id": "9b33fc1d-f453-443b-8a78-67e44c327383",
   "metadata": {
    "collapsed": true,
    "jupyter": {
     "outputs_hidden": true
    },
    "tags": []
   },
   "outputs": [
    {
     "name": "stdout",
     "output_type": "stream",
     "text": [
      "\u001b[32mSaved Visualization to: project_data/pa_ancom_frozen_dessert.qzv\u001b[0m\n",
      "\u001b[0m"
     ]
    },
    {
     "data": {
      "text/html": [
       "<div><img onload=\"(function(div, url){\n",
       "if (typeof require !== 'undefined') {\n",
       "    var baseURL = require.toUrl('').split('/').slice(0, -2).join('/');\n",
       "} else {\n",
       "    var baseURL = JSON.parse(\n",
       "        document.getElementById('jupyter-config-data').innerHTML\n",
       "    ).baseUrl.slice(0, -1);\n",
       "}\n",
       "url = baseURL + url;\n",
       "fetch(url).then(function(res) {\n",
       "    if (res.status === 404) {\n",
       "        div.innerHTML = 'Install QIIME 2 Jupyter extension with:<br />' +\n",
       "                        '<code>jupyter serverextension enable --py qiime2' +\n",
       "                        ' --sys-prefix</code><br />then restart your server.' +\n",
       "                        '<br /><br />(Interactive output not available on ' +\n",
       "                        'static notebook viewer services like nbviewer.)';\n",
       "    } else if (res.status === 409) {\n",
       "        div.innerHTML = 'Visualization no longer in scope. Re-run this cell' +\n",
       "                        ' to see the visualization.';\n",
       "    } else if (res.ok) {\n",
       "        url = res.url;\n",
       "        div.innerHTML = '<iframe src=\\'' + url + '\\' style=\\'' +\n",
       "                        'width: 100%; height: 700px; border: 0;\\'>' +\n",
       "                        '</iframe><hr />Open in a: <a href=\\'' + url + '\\'' +\n",
       "                        ' target=\\'_blank\\'>new window</a>'\n",
       "    } else {\n",
       "        div.innerHTML = 'Something has gone wrong. Check notebook server for' +\n",
       "                        ' errors.';\n",
       "    }\n",
       "});\n",
       "})(this.parentElement, '/qiime2/redirect?location=/tmp/qiime2-archive-w8hyin9a')\" src=\"data:image/gif;base64,R0lGODlhAQABAIAAAP///wAAACH5BAEAAAAALAAAAAABAAEAAAICRAEAOw==\" /></div>"
      ],
      "text/plain": [
       "<visualization: Visualization uuid: a2cc81d8-52c7-49a2-9bdb-3597aad2202c>"
      ]
     },
     "execution_count": 35,
     "metadata": {},
     "output_type": "execute_result"
    }
   ],
   "source": [
    "Visualization.load(f'{data_dir}/pa_ancom_frozen_dessert.qzv')"
   ]
  },
  {
   "cell_type": "markdown",
   "id": "57c19df8-cfb3-429d-bcf5-424dae2aa43d",
   "metadata": {},
   "source": [
    "ANCOM statistical result highest W value:  \n",
    "NO significant features found!"
   ]
  },
  {
   "cell_type": "code",
   "execution_count": 31,
   "id": "1f2d1435-8b10-4a68-8153-5bf09ac1b6d9",
   "metadata": {
    "collapsed": true,
    "jupyter": {
     "outputs_hidden": true
    },
    "tags": []
   },
   "outputs": [],
   "source": [
    "! qiime composition ancom \\\n",
    "    --i-table $data_dir/picrust2_results/pathway_abundance_abund.qza \\\n",
    "    --m-metadata-file $data_dir/metadata.tsv \\\n",
    "    --m-metadata-column 'NUT_salted_snacks_frequency' \\\n",
    "    --p-transform-function sqrt \\\n",
    "    --o-visualization $data_dir/pa_ancom_salted_snacks.qzv"
   ]
  },
  {
   "cell_type": "code",
   "execution_count": 31,
   "id": "35cbe890-b1e5-4751-889c-a1e7793ba55e",
   "metadata": {
    "collapsed": true,
    "jupyter": {
     "outputs_hidden": true
    },
    "tags": []
   },
   "outputs": [
    {
     "name": "stdout",
     "output_type": "stream",
     "text": [
      "\u001b[32mSaved Visualization to: project_data/pa_ancom_salted_snacks.qzv\u001b[0m\n",
      "\u001b[0m"
     ]
    },
    {
     "data": {
      "text/html": [
       "<div><img onload=\"(function(div, url){\n",
       "if (typeof require !== 'undefined') {\n",
       "    var baseURL = require.toUrl('').split('/').slice(0, -2).join('/');\n",
       "} else {\n",
       "    var baseURL = JSON.parse(\n",
       "        document.getElementById('jupyter-config-data').innerHTML\n",
       "    ).baseUrl.slice(0, -1);\n",
       "}\n",
       "url = baseURL + url;\n",
       "fetch(url).then(function(res) {\n",
       "    if (res.status === 404) {\n",
       "        div.innerHTML = 'Install QIIME 2 Jupyter extension with:<br />' +\n",
       "                        '<code>jupyter serverextension enable --py qiime2' +\n",
       "                        ' --sys-prefix</code><br />then restart your server.' +\n",
       "                        '<br /><br />(Interactive output not available on ' +\n",
       "                        'static notebook viewer services like nbviewer.)';\n",
       "    } else if (res.status === 409) {\n",
       "        div.innerHTML = 'Visualization no longer in scope. Re-run this cell' +\n",
       "                        ' to see the visualization.';\n",
       "    } else if (res.ok) {\n",
       "        url = res.url;\n",
       "        div.innerHTML = '<iframe src=\\'' + url + '\\' style=\\'' +\n",
       "                        'width: 100%; height: 700px; border: 0;\\'>' +\n",
       "                        '</iframe><hr />Open in a: <a href=\\'' + url + '\\'' +\n",
       "                        ' target=\\'_blank\\'>new window</a>'\n",
       "    } else {\n",
       "        div.innerHTML = 'Something has gone wrong. Check notebook server for' +\n",
       "                        ' errors.';\n",
       "    }\n",
       "});\n",
       "})(this.parentElement, '/qiime2/redirect?location=/tmp/qiime2-archive-kacbng07')\" src=\"data:image/gif;base64,R0lGODlhAQABAIAAAP///wAAACH5BAEAAAAALAAAAAABAAEAAAICRAEAOw==\" /></div>"
      ],
      "text/plain": [
       "<visualization: Visualization uuid: 11aedd21-70a1-4813-aa05-bd6042c986b2>"
      ]
     },
     "execution_count": 31,
     "metadata": {},
     "output_type": "execute_result"
    }
   ],
   "source": [
    "Visualization.load(f'{data_dir}/pa_ancom_salted_snacks.qzv')"
   ]
  },
  {
   "cell_type": "markdown",
   "id": "456f02b9-36e7-438d-a71f-92465bb33dfe",
   "metadata": {},
   "source": [
    "ANCOM statistical result highest W value:  \n",
    "PWY-6906 -> 63  \n",
    "PWY-6641 -> 53  \n",
    "PWY-6565 -> 26  "
   ]
  },
  {
   "cell_type": "code",
   "execution_count": 213,
   "id": "e4de6404-e7df-4da2-9c45-ebcbef6b74ce",
   "metadata": {},
   "outputs": [
    {
     "data": {
      "text/plain": [
       "<seaborn.axisgrid.FacetGrid at 0x7fe8c741e550>"
      ]
     },
     "execution_count": 213,
     "metadata": {},
     "output_type": "execute_result"
    },
    {
     "data": {
      "image/png": "[encoded data removed]",
      "text/plain": [
       "<Figure size 432x288 with 1 Axes>"
      ]
     },
     "metadata": {
      "needs_background": "light"
     },
     "output_type": "display_data"
    },
    {
     "data": {
      "image/png": "[encoded data removed]",
      "text/plain": [
       "<Figure size 360x360 with 1 Axes>"
      ]
     },
     "metadata": {
      "needs_background": "light"
     },
     "output_type": "display_data"
    }
   ],
   "source": [
    "# Boxplot to show the data for the most significant pathway\n",
    "new_tab = pd.concat([tab['PWY-6906'], metadata['NUT_salted_snacks_frequency']],axis=1).dropna()\n",
    "\n",
    "new_tab['NUT_salted_snacks_frequency'] = pd.Categorical(new_tab['NUT_salted_snacks_frequency'], \n",
    "                      categories=[\"Never\", \"Rarely\", \"Occasionally\", \"Regularly\", \"Daily\"],\n",
    "                      ordered=True)\n",
    "\n",
    "sns.boxplot(data=new_tab, x='NUT_salted_snacks_frequency', y= 'PWY-6906', showfliers=False)\n",
    "sns.catplot(\n",
    "    data=new_tab, x='NUT_salted_snacks_frequency', y= 'PWY-6906', showfliers=False,\n",
    "    kind=\"point\"\n",
    ")"
   ]
  },
  {
   "cell_type": "markdown",
   "id": "e36d61de-e065-457e-a725-dd1601233c1e",
   "metadata": {},
   "source": [
    "<a id='probiotic'></a>\n",
    "## 9. Fermented or Probiotic "
   ]
  },
  {
   "cell_type": "code",
   "execution_count": 25,
   "id": "2b1140a6-c74d-46bf-9877-49914a6d7cac",
   "metadata": {
    "collapsed": true,
    "jupyter": {
     "outputs_hidden": true
    },
    "tags": []
   },
   "outputs": [],
   "source": [
    "! qiime composition ancom \\\n",
    "    --i-table $data_dir/picrust2_results/pathway_abundance_abund.qza \\\n",
    "    --m-metadata-file $data_dir/metadata.tsv \\\n",
    "    --m-metadata-column 'NUT_fermented_plant_frequency' \\\n",
    "    --p-transform-function sqrt \\\n",
    "    --o-visualization $data_dir/pa_ancom_fermented_plant.qzv"
   ]
  },
  {
   "cell_type": "code",
   "execution_count": 25,
   "id": "841f9c99-d98f-44f8-8bf9-b63123bc1ca3",
   "metadata": {
    "collapsed": true,
    "jupyter": {
     "outputs_hidden": true
    },
    "tags": []
   },
   "outputs": [
    {
     "name": "stdout",
     "output_type": "stream",
     "text": [
      "\u001b[32mSaved Visualization to: project_data/pa_ancom_fermented_plant.qzv\u001b[0m\n",
      "\u001b[0m"
     ]
    },
    {
     "data": {
      "text/html": [
       "<div><img onload=\"(function(div, url){\n",
       "if (typeof require !== 'undefined') {\n",
       "    var baseURL = require.toUrl('').split('/').slice(0, -2).join('/');\n",
       "} else {\n",
       "    var baseURL = JSON.parse(\n",
       "        document.getElementById('jupyter-config-data').innerHTML\n",
       "    ).baseUrl.slice(0, -1);\n",
       "}\n",
       "url = baseURL + url;\n",
       "fetch(url).then(function(res) {\n",
       "    if (res.status === 404) {\n",
       "        div.innerHTML = 'Install QIIME 2 Jupyter extension with:<br />' +\n",
       "                        '<code>jupyter serverextension enable --py qiime2' +\n",
       "                        ' --sys-prefix</code><br />then restart your server.' +\n",
       "                        '<br /><br />(Interactive output not available on ' +\n",
       "                        'static notebook viewer services like nbviewer.)';\n",
       "    } else if (res.status === 409) {\n",
       "        div.innerHTML = 'Visualization no longer in scope. Re-run this cell' +\n",
       "                        ' to see the visualization.';\n",
       "    } else if (res.ok) {\n",
       "        url = res.url;\n",
       "        div.innerHTML = '<iframe src=\\'' + url + '\\' style=\\'' +\n",
       "                        'width: 100%; height: 700px; border: 0;\\'>' +\n",
       "                        '</iframe><hr />Open in a: <a href=\\'' + url + '\\'' +\n",
       "                        ' target=\\'_blank\\'>new window</a>'\n",
       "    } else {\n",
       "        div.innerHTML = 'Something has gone wrong. Check notebook server for' +\n",
       "                        ' errors.';\n",
       "    }\n",
       "});\n",
       "})(this.parentElement, '/qiime2/redirect?location=/tmp/qiime2-archive-eo6vg7xb')\" src=\"data:image/gif;base64,R0lGODlhAQABAIAAAP///wAAACH5BAEAAAAALAAAAAABAAEAAAICRAEAOw==\" /></div>"
      ],
      "text/plain": [
       "<visualization: Visualization uuid: 7e6934b9-5c9f-43f3-86e3-d709c63aac28>"
      ]
     },
     "execution_count": 25,
     "metadata": {},
     "output_type": "execute_result"
    }
   ],
   "source": [
    "Visualization.load(f'{data_dir}/pa_ancom_fermented_plant.qzv')"
   ]
  },
  {
   "cell_type": "markdown",
   "id": "56ea0599-2fe1-420e-b46a-4174625aed44",
   "metadata": {},
   "source": [
    "ANCOM statistical result highest W value:  \n",
    "GLYCOGENSYNTH-PWY -> 61  \n",
    "PWY4FS-8 -> 26    \n",
    "PWY4FS-7 -> 26  \n"
   ]
  },
  {
   "cell_type": "code",
   "execution_count": 209,
   "id": "a58b98e3-3b3a-4d49-8fee-3f917880c373",
   "metadata": {},
   "outputs": [
    {
     "data": {
      "text/plain": [
       "<seaborn.axisgrid.FacetGrid at 0x7fe8c73c55e0>"
      ]
     },
     "execution_count": 209,
     "metadata": {},
     "output_type": "execute_result"
    },
    {
     "data": {
      "image/png": "[encoded data removed]",
      "text/plain": [
       "<Figure size 432x288 with 1 Axes>"
      ]
     },
     "metadata": {
      "needs_background": "light"
     },
     "output_type": "display_data"
    },
    {
     "data": {
      "image/png": "[encoded data removed]",
      "text/plain": [
       "<Figure size 360x360 with 1 Axes>"
      ]
     },
     "metadata": {
      "needs_background": "light"
     },
     "output_type": "display_data"
    }
   ],
   "source": [
    "# Boxplot to show the data for the most significant pathway\n",
    "new_tab = pd.concat([tab['GLYCOGENSYNTH-PWY'], metadata['NUT_fermented_plant_frequency']],axis=1).dropna()\n",
    "new_tab['NUT_fermented_plant_frequency'] = pd.Categorical(new_tab['NUT_fermented_plant_frequency'], \n",
    "                      categories=[\"Never\", \"Rarely\", \"Occasionally\", \"Regularly\", \"Daily\"],\n",
    "                      ordered=True)\n",
    "\n",
    "sns.boxplot(data=new_tab, x='NUT_fermented_plant_frequency', y= 'GLYCOGENSYNTH-PWY', showfliers=False)\n",
    "sns.catplot(\n",
    "    data=new_tab, x='NUT_fermented_plant_frequency', y= 'GLYCOGENSYNTH-PWY', showfliers=False,\n",
    "    kind=\"point\"\n",
    ")"
   ]
  },
  {
   "cell_type": "code",
   "execution_count": 23,
   "id": "b0cc46c1-b26c-40d5-9691-597b5f4ac86e",
   "metadata": {
    "collapsed": true,
    "jupyter": {
     "outputs_hidden": true
    },
    "tags": []
   },
   "outputs": [],
   "source": [
    "! qiime composition ancom \\\n",
    "    --i-table $data_dir/picrust2_results/pathway_abundance_abund.qza \\\n",
    "    --m-metadata-file $data_dir/metadata.tsv \\\n",
    "    --m-metadata-column 'NUT_probiotic_frequency' \\\n",
    "    --p-transform-function sqrt \\\n",
    "    --o-visualization $data_dir/pa_ancom_probiotic.qzv"
   ]
  },
  {
   "cell_type": "code",
   "execution_count": 23,
   "id": "0b124fbe-adde-49b0-bf65-251e4c2cebe0",
   "metadata": {
    "collapsed": true,
    "jupyter": {
     "outputs_hidden": true
    },
    "tags": []
   },
   "outputs": [
    {
     "name": "stdout",
     "output_type": "stream",
     "text": [
      "\u001b[32mSaved Visualization to: project_data/pa_ancom_probiotic.qzv\u001b[0m\n",
      "\u001b[0m"
     ]
    },
    {
     "data": {
      "text/html": [
       "<div><img onload=\"(function(div, url){\n",
       "if (typeof require !== 'undefined') {\n",
       "    var baseURL = require.toUrl('').split('/').slice(0, -2).join('/');\n",
       "} else {\n",
       "    var baseURL = JSON.parse(\n",
       "        document.getElementById('jupyter-config-data').innerHTML\n",
       "    ).baseUrl.slice(0, -1);\n",
       "}\n",
       "url = baseURL + url;\n",
       "fetch(url).then(function(res) {\n",
       "    if (res.status === 404) {\n",
       "        div.innerHTML = 'Install QIIME 2 Jupyter extension with:<br />' +\n",
       "                        '<code>jupyter serverextension enable --py qiime2' +\n",
       "                        ' --sys-prefix</code><br />then restart your server.' +\n",
       "                        '<br /><br />(Interactive output not available on ' +\n",
       "                        'static notebook viewer services like nbviewer.)';\n",
       "    } else if (res.status === 409) {\n",
       "        div.innerHTML = 'Visualization no longer in scope. Re-run this cell' +\n",
       "                        ' to see the visualization.';\n",
       "    } else if (res.ok) {\n",
       "        url = res.url;\n",
       "        div.innerHTML = '<iframe src=\\'' + url + '\\' style=\\'' +\n",
       "                        'width: 100%; height: 700px; border: 0;\\'>' +\n",
       "                        '</iframe><hr />Open in a: <a href=\\'' + url + '\\'' +\n",
       "                        ' target=\\'_blank\\'>new window</a>'\n",
       "    } else {\n",
       "        div.innerHTML = 'Something has gone wrong. Check notebook server for' +\n",
       "                        ' errors.';\n",
       "    }\n",
       "});\n",
       "})(this.parentElement, '/qiime2/redirect?location=/tmp/qiime2-archive-p_43ws5w')\" src=\"data:image/gif;base64,R0lGODlhAQABAIAAAP///wAAACH5BAEAAAAALAAAAAABAAEAAAICRAEAOw==\" /></div>"
      ],
      "text/plain": [
       "<visualization: Visualization uuid: 954d1545-dbdd-4bc7-895b-b9c4d6ebd0ba>"
      ]
     },
     "execution_count": 23,
     "metadata": {},
     "output_type": "execute_result"
    }
   ],
   "source": [
    "Visualization.load(f'{data_dir}/pa_ancom_probiotic.qzv')"
   ]
  },
  {
   "cell_type": "markdown",
   "id": "b32ac71c-34e1-4aec-9a3e-0dd9229b2400",
   "metadata": {},
   "source": [
    "ANCOM statistical result highest W value:  \n",
    "PWY-6383 -> 456  \n",
    "PWY1G-0 -> 449  \n"
   ]
  },
  {
   "cell_type": "code",
   "execution_count": 208,
   "id": "70255bdf-5beb-406f-81f4-39e5db324d3e",
   "metadata": {},
   "outputs": [
    {
     "data": {
      "text/plain": [
       "<seaborn.axisgrid.FacetGrid at 0x7fe8c74c3160>"
      ]
     },
     "execution_count": 208,
     "metadata": {},
     "output_type": "execute_result"
    },
    {
     "data": {
      "image/png": "[encoded data removed]",
      "text/plain": [
       "<Figure size 432x288 with 1 Axes>"
      ]
     },
     "metadata": {
      "needs_background": "light"
     },
     "output_type": "display_data"
    },
    {
     "data": {
      "image/png": "[encoded data removed]",
      "text/plain": [
       "<Figure size 360x360 with 1 Axes>"
      ]
     },
     "metadata": {
      "needs_background": "light"
     },
     "output_type": "display_data"
    }
   ],
   "source": [
    "# Boxplot to show the data for the most significant pathway\n",
    "new_tab = pd.concat([tab['PWY-6383'], metadata['NUT_probiotic_frequency']],axis=1).dropna()\n",
    "new_tab['NUT_probiotic_frequency'] = pd.Categorical(new_tab['NUT_probiotic_frequency'], \n",
    "                      categories=[\"Never\", \"Rarely\", \"Occasionally\", \"Regularly\", \"Daily\"],\n",
    "                      ordered=True)\n",
    "sns.boxplot(data=new_tab, x='NUT_probiotic_frequency', y= 'PWY-6383', showfliers=False)\n",
    "sns.catplot(\n",
    "    data=new_tab, x='NUT_probiotic_frequency', y= 'PWY-6383', showfliers=False,\n",
    "    kind=\"point\"\n",
    ")"
   ]
  },
  {
   "cell_type": "markdown",
   "id": "b3cc5ef8-a765-4b99-878e-076c3da992ab",
   "metadata": {},
   "source": [
    "<a id='rest'></a>\n",
    "## XY. Test for Rest"
   ]
  },
  {
   "cell_type": "code",
   "execution_count": 30,
   "id": "9ad5b53f-aa94-4ca3-b054-07776bb5334c",
   "metadata": {
    "collapsed": true,
    "jupyter": {
     "outputs_hidden": true
    },
    "tags": []
   },
   "outputs": [],
   "source": [
    "! qiime composition ancom \\\n",
    "    --i-table $data_dir/picrust2_results/pathway_abundance_abund.qza \\\n",
    "    --m-metadata-file $data_dir/metadata.tsv \\\n",
    "    --m-metadata-column 'NUT_prepared_meals_frequency' \\\n",
    "    --p-transform-function sqrt \\\n",
    "    --o-visualization $data_dir/pa_ancom_prepared_meals.qzv"
   ]
  },
  {
   "cell_type": "code",
   "execution_count": 4,
   "id": "39710ec6-d867-4f77-a921-0b4709b52f9e",
   "metadata": {
    "collapsed": true,
    "jupyter": {
     "outputs_hidden": true
    },
    "tags": []
   },
   "outputs": [
    {
     "data": {
      "text/html": [
       "<div><img onload=\"(function(div, url){\n",
       "if (typeof require !== 'undefined') {\n",
       "    var baseURL = require.toUrl('').split('/').slice(0, -2).join('/');\n",
       "} else {\n",
       "    var baseURL = JSON.parse(\n",
       "        document.getElementById('jupyter-config-data').innerHTML\n",
       "    ).baseUrl.slice(0, -1);\n",
       "}\n",
       "url = baseURL + url;\n",
       "fetch(url).then(function(res) {\n",
       "    if (res.status === 404) {\n",
       "        div.innerHTML = 'Install QIIME 2 Jupyter extension with:<br />' +\n",
       "                        '<code>jupyter serverextension enable --py qiime2' +\n",
       "                        ' --sys-prefix</code><br />then restart your server.' +\n",
       "                        '<br /><br />(Interactive output not available on ' +\n",
       "                        'static notebook viewer services like nbviewer.)';\n",
       "    } else if (res.status === 409) {\n",
       "        div.innerHTML = 'Visualization no longer in scope. Re-run this cell' +\n",
       "                        ' to see the visualization.';\n",
       "    } else if (res.ok) {\n",
       "        url = res.url;\n",
       "        div.innerHTML = '<iframe src=\\'' + url + '\\' style=\\'' +\n",
       "                        'width: 100%; height: 700px; border: 0;\\'>' +\n",
       "                        '</iframe><hr />Open in a: <a href=\\'' + url + '\\'' +\n",
       "                        ' target=\\'_blank\\'>new window</a>'\n",
       "    } else {\n",
       "        div.innerHTML = 'Something has gone wrong. Check notebook server for' +\n",
       "                        ' errors.';\n",
       "    }\n",
       "});\n",
       "})(this.parentElement, '/qiime2/redirect?location=/tmp/qiime2-archive-g539li9f')\" src=\"data:image/gif;base64,R0lGODlhAQABAIAAAP///wAAACH5BAEAAAAALAAAAAABAAEAAAICRAEAOw==\" /></div>"
      ],
      "text/plain": [
       "<visualization: Visualization uuid: 429ef5e6-120f-43bf-b023-c9d63c1d3bec>"
      ]
     },
     "execution_count": 4,
     "metadata": {},
     "output_type": "execute_result"
    }
   ],
   "source": [
    "Visualization.load(f'{data_dir}/pa_ancom_prepared_meals.qzv')"
   ]
  },
  {
   "cell_type": "markdown",
   "id": "8d0e1f23-e854-4db3-a324-5d0643ce2c5a",
   "metadata": {},
   "source": [
    "ANCOM statistical result highest W value:   \n",
    "PWY-5531 -> 363  \n",
    "PWY-7159 -> 363  \n",
    "PWY-5529 -> 335  "
   ]
  },
  {
   "cell_type": "code",
   "execution_count": 207,
   "id": "760bafb4-6da7-4e16-861c-5853b331c59a",
   "metadata": {},
   "outputs": [
    {
     "data": {
      "text/plain": [
       "<seaborn.axisgrid.FacetGrid at 0x7fe8c7f49e20>"
      ]
     },
     "execution_count": 207,
     "metadata": {},
     "output_type": "execute_result"
    },
    {
     "data": {
      "image/png": "[encoded data removed]",
      "text/plain": [
       "<Figure size 432x288 with 1 Axes>"
      ]
     },
     "metadata": {
      "needs_background": "light"
     },
     "output_type": "display_data"
    },
    {
     "data": {
      "image/png": "[encoded data removed]",
      "text/plain": [
       "<Figure size 360x360 with 1 Axes>"
      ]
     },
     "metadata": {
      "needs_background": "light"
     },
     "output_type": "display_data"
    }
   ],
   "source": [
    "# Boxplot to show the data for the most significant pathway\n",
    "new_tab = pd.concat([tab['PWY-5531'], metadata['NUT_prepared_meals_frequency']],axis=1).dropna()\n",
    "new_tab.NUT_prepared_meals_frequency = pd.Categorical(new_tab.NUT_prepared_meals_frequency, \n",
    "                      categories=[\"Never\", \"Rarely\", \"Occasionally\", \"Regularly\", \"Daily\"],\n",
    "                      ordered=True)\n",
    "sns.boxplot(data=new_tab, x='NUT_prepared_meals_frequency', y= 'PWY-5531', showfliers=False)\n",
    "sns.catplot(\n",
    "    data=new_tab, x='NUT_prepared_meals_frequency', y= 'PWY-5531', showfliers=False,\n",
    "    kind=\"point\"\n",
    ")"
   ]
  },
  {
   "cell_type": "code",
   "execution_count": 6,
   "id": "17681d70-19d6-4e77-92a6-4547d65c22a2",
   "metadata": {
    "tags": []
   },
   "outputs": [
    {
     "name": "stdout",
     "output_type": "stream",
     "text": [
      "\u001b[32mSaved Visualization to: project_data/pa_ancom_homecooked_meals.qzv\u001b[0m\n",
      "\u001b[0m"
     ]
    }
   ],
   "source": [
    "! qiime composition ancom \\\n",
    "    --i-table $data_dir/picrust2_results/pathway_abundance_abund.qza \\\n",
    "    --m-metadata-file $data_dir/metadata.tsv \\\n",
    "    --m-metadata-column 'NUT_homecooked_meals_frequency' \\\n",
    "    --p-transform-function clr \\\n",
    "    --o-visualization $data_dir/pa_ancom_homecooked_meals.qzv"
   ]
  },
  {
   "cell_type": "code",
   "execution_count": 7,
   "id": "5183cbc2-8ebb-404f-935b-5569ef30e7ca",
   "metadata": {
    "collapsed": true,
    "jupyter": {
     "outputs_hidden": true
    },
    "tags": []
   },
   "outputs": [
    {
     "data": {
      "text/html": [
       "<div><img onload=\"(function(div, url){\n",
       "if (typeof require !== 'undefined') {\n",
       "    var baseURL = require.toUrl('').split('/').slice(0, -2).join('/');\n",
       "} else {\n",
       "    var baseURL = JSON.parse(\n",
       "        document.getElementById('jupyter-config-data').innerHTML\n",
       "    ).baseUrl.slice(0, -1);\n",
       "}\n",
       "url = baseURL + url;\n",
       "fetch(url).then(function(res) {\n",
       "    if (res.status === 404) {\n",
       "        div.innerHTML = 'Install QIIME 2 Jupyter extension with:<br />' +\n",
       "                        '<code>jupyter serverextension enable --py qiime2' +\n",
       "                        ' --sys-prefix</code><br />then restart your server.' +\n",
       "                        '<br /><br />(Interactive output not available on ' +\n",
       "                        'static notebook viewer services like nbviewer.)';\n",
       "    } else if (res.status === 409) {\n",
       "        div.innerHTML = 'Visualization no longer in scope. Re-run this cell' +\n",
       "                        ' to see the visualization.';\n",
       "    } else if (res.ok) {\n",
       "        url = res.url;\n",
       "        div.innerHTML = '<iframe src=\\'' + url + '\\' style=\\'' +\n",
       "                        'width: 100%; height: 700px; border: 0;\\'>' +\n",
       "                        '</iframe><hr />Open in a: <a href=\\'' + url + '\\'' +\n",
       "                        ' target=\\'_blank\\'>new window</a>'\n",
       "    } else {\n",
       "        div.innerHTML = 'Something has gone wrong. Check notebook server for' +\n",
       "                        ' errors.';\n",
       "    }\n",
       "});\n",
       "})(this.parentElement, '/qiime2/redirect?location=/tmp/qiime2-archive-3z6ekeft')\" src=\"data:image/gif;base64,R0lGODlhAQABAIAAAP///wAAACH5BAEAAAAALAAAAAABAAEAAAICRAEAOw==\" /></div>"
      ],
      "text/plain": [
       "<visualization: Visualization uuid: 8d8a6595-b774-46d0-be77-332d61681181>"
      ]
     },
     "execution_count": 7,
     "metadata": {},
     "output_type": "execute_result"
    }
   ],
   "source": [
    "Visualization.load(f'{data_dir}/pa_ancom_homecooked_meals.qzv')"
   ]
  },
  {
   "cell_type": "markdown",
   "id": "ed584499-c15b-4fc7-a12d-166c1e92c6a5",
   "metadata": {},
   "source": [
    "ANCOM statistical result highest W value:  \n",
    "PWY-5392 -> 51  \n",
    "ILEUDEG-PWY -> 33  \n",
    "PWY4FS-7 -> 9  \n",
    "PWY4FS-8 -> 9"
   ]
  },
  {
   "cell_type": "code",
   "execution_count": 206,
   "id": "f84fd245-29b2-4984-8d5a-0e90c7a028e1",
   "metadata": {},
   "outputs": [
    {
     "data": {
      "text/plain": [
       "<seaborn.axisgrid.FacetGrid at 0x7fe8d3591d00>"
      ]
     },
     "execution_count": 206,
     "metadata": {},
     "output_type": "execute_result"
    },
    {
     "data": {
      "image/png": "[encoded data removed]",
      "text/plain": [
       "<Figure size 432x288 with 1 Axes>"
      ]
     },
     "metadata": {
      "needs_background": "light"
     },
     "output_type": "display_data"
    },
    {
     "data": {
      "image/png": "[encoded data removed]",
      "text/plain": [
       "<Figure size 360x360 with 1 Axes>"
      ]
     },
     "metadata": {
      "needs_background": "light"
     },
     "output_type": "display_data"
    }
   ],
   "source": [
    "# Boxplot to show the data for the most significant pathway\n",
    "new_tab = pd.concat([tab['PWY-5392'], metadata['NUT_homecooked_meals_frequency']],axis=1).dropna()\n",
    "new_tab.NUT_homecooked_meals_frequency = pd.Categorical(new_tab.NUT_homecooked_meals_frequency, \n",
    "                      categories=[\"Never\", \"Rarely\", \"Occasionally\", \"Regularly\", \"Daily\"],\n",
    "                      ordered=True)\n",
    "sns.boxplot(data=new_tab, x='NUT_homecooked_meals_frequency', y= 'PWY-5392', showfliers=False)\n",
    "sns.catplot(\n",
    "    data=new_tab, x='NUT_homecooked_meals_frequency', y='PWY-5392',\n",
    "    kind=\"point\", showfliers=False\n",
    ")"
   ]
  },
  {
   "cell_type": "code",
   "execution_count": 5,
   "id": "cd05c2fc-4bac-4a42-bba7-82293819728f",
   "metadata": {},
   "outputs": [
    {
     "name": "stdout",
     "output_type": "stream",
     "text": [
      "Usage: \u001b[94mqiime composition ancom\u001b[0m [OPTIONS]\n",
      "\n",
      "  Apply Analysis of Composition of Microbiomes (ANCOM) to identify features\n",
      "  that are differentially abundant across groups.\n",
      "\n",
      "\u001b[1mInputs\u001b[0m:\n",
      "  \u001b[94m\u001b[4m--i-table\u001b[0m ARTIFACT \u001b[32mFeatureTable[Composition]\u001b[0m\n",
      "                       The feature table to be used for ANCOM computation.\n",
      "                                                                    \u001b[35m[required]\u001b[0m\n",
      "\u001b[1mParameters\u001b[0m:\n",
      "  \u001b[94m\u001b[4m--m-metadata-file\u001b[0m METADATA\n",
      "  \u001b[94m\u001b[4m--m-metadata-column\u001b[0m COLUMN  \u001b[32mMetadataColumn[Categorical]\u001b[0m\n",
      "                       The categorical sample metadata column to test for\n",
      "                       differential abundance across.               \u001b[35m[required]\u001b[0m\n",
      "  \u001b[94m--p-transform-function\u001b[0m TEXT \u001b[32mChoices('sqrt', 'log', 'clr')\u001b[0m\n",
      "                       The method applied to transform feature values before\n",
      "                       generating volcano plots.              \u001b[35m[default: 'clr']\u001b[0m\n",
      "  \u001b[94m--p-difference-function\u001b[0m TEXT \u001b[32mChoices('mean_difference', 'f_statistic')\u001b[0m\n",
      "                       The method applied to visualize fold difference in\n",
      "                       feature abundances across groups for volcano plots.\n",
      "                                                                    \u001b[35m[optional]\u001b[0m\n",
      "\u001b[1mOutputs\u001b[0m:\n",
      "  \u001b[94m\u001b[4m--o-visualization\u001b[0m VISUALIZATION\n",
      "                                                                    \u001b[35m[required]\u001b[0m\n",
      "\u001b[1mMiscellaneous\u001b[0m:\n",
      "  \u001b[94m--output-dir\u001b[0m PATH    Output unspecified results to a directory\n",
      "  \u001b[94m--verbose\u001b[0m / \u001b[94m--quiet\u001b[0m  Display verbose output to stdout and/or stderr during\n",
      "                       execution of this action. Or silence output if\n",
      "                       execution is successful (silence is golden).\n",
      "  \u001b[94m--example-data\u001b[0m PATH  Write example data and exit.\n",
      "  \u001b[94m--citations\u001b[0m          Show citations and exit.\n",
      "  \u001b[94m--help\u001b[0m               Show this message and exit.\n"
     ]
    }
   ],
   "source": [
    "! qiime composition ancom \\\n",
    "    --help"
   ]
  },
  {
   "cell_type": "code",
   "execution_count": null,
   "id": "6c8ae44b-eec0-4a3d-916e-aca3cc683245",
   "metadata": {},
   "outputs": [],
   "source": []
  }
 ],
 "metadata": {
  "kernelspec": {
   "display_name": "Python 3 (ipykernel)",
   "language": "python",
   "name": "python3"
  },
  "language_info": {
   "codemirror_mode": {
    "name": "ipython",
    "version": 3
   },
   "file_extension": ".py",
   "mimetype": "text/x-python",
   "name": "python",
   "nbconvert_exporter": "python",
   "pygments_lexer": "ipython3",
   "version": "3.8.13"
  }
 },
 "nbformat": 4,
 "nbformat_minor": 5
}
