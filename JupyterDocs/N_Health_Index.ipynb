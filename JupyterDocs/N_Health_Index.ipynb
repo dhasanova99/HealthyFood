{
 "cells": [
  {
   "cell_type": "markdown",
   "id": "9be22477-862b-49e6-8ec2-e0b0aa81d461",
   "metadata": {},
   "source": [
    "# Health Index"
   ]
  },
  {
   "cell_type": "markdown",
   "id": "08f8f5c9-f7e4-4e3f-82ed-9b48213a4b14",
   "metadata": {},
   "source": [
    "This Jupyternotebook would focus on the analysis of the microbiom data to determine the Health Index.\n",
    "\n",
    "**Unfortunately, due to the lack of the right input data it was not possible to run the function!**\n",
    "\n",
    "QIIME 2 plugin for calculating the Health Index from microbiome data. The plugin is based on the Gut Microbiome Health Index (GMHI) created by [Gupta et al. 2020](nature.com/articles/s41467-020-18476-8).\n",
    "\n",
    "### Description (GMHI)\n",
    "GMHI is a robust index for evaluating health status based on the species-level taxonomic profile of a stool shotgun metagenome (gut microbiome) sample. GMHI is designed to evaluate the balance between two sets of microbial species associated with good and adverse health conditions, which are identified from a meta-analysis on 4,347 publicly available, human stool metagenomes integrated across multiple studies encompassing various phenotypes and geographies. GMHI denotes the degree to which a subject’s stool metagenome sample portrays microbial taxonomic properties associated with healthy (GMHI > 0) or non-healthy (GMHI < 0). A positive or negative GMHI allows the sample to be classified as healthy or non-healthy, respectively; a GMHI of 0 indicates an equal balance of Health-prevalent and Health-scarce species, and thereby classified as neither. Higher (more positive) and lower (more negative) values of GMHI reflects the dominant influence of Health-prevalent species over Health-scarce species in the healthy group, and vice versa in the non-healthy group, respectively. \n",
    "[Git GMHI](https://github.com/jaeyunsung/GMHI_2020)\n"
   ]
  },
  {
   "cell_type": "markdown",
   "id": "29e03d70-441e-4323-808b-a3b1b9f62e3d",
   "metadata": {},
   "source": [
    "Reference: [q2-health-index](https://github.com/bioinf-mcb/q2-health-index)"
   ]
  },
  {
   "cell_type": "markdown",
   "id": "56d66d6d-3413-4b51-9b2e-e2ef493f9dbd",
   "metadata": {},
   "source": [
    "<a id='setup'></a>\n",
    "## 0. Setup"
   ]
  },
  {
   "cell_type": "markdown",
   "id": "34666946-6e77-4ba6-ab5e-cc9543f48876",
   "metadata": {},
   "source": [
    "To get the Notbook running we installed the plugin according to QIIME 2 Library for [q2-helath-index](https://library.qiime2.org/plugins/q2-health-index/37/) using the following commands:\n",
    "\n",
    "`wget https://data.qiime2.org/distro/core/qiime2-2021.4-py38-linux-conda.yml`  \n",
    "`conda env create -n q2-health-index --file qiime2-2021.4-py38-linux-conda.yml`  \n",
    "`rm qiime2-2021.4-py36-linux-conda.yml`  \n",
    "`source activate q2-health-index`  \n",
    "`qiime --help`  \n",
    "\n",
    "`git clone https://github.com/bioinf-mcb/q2-health-index`  \n",
    "`cd q2-health-index`  \n",
    "\n",
    "Install plugin: `make install`\n",
    "\n",
    "Test plugin e.g.: `qiime health-index --help`\n",
    "\n",
    "`conda install -c conda-forge matplotlib-inline`\n",
    "\n",
    "### Metaphlan4\n",
    "For the analyis with q2-health-index a input file from metaphlan2 is needed, therefore we tried to install metaphlan2 on a local computer as on JupyterLab it was not possible because the database for bowtie2 was to large. \n"
   ]
  },
  {
   "cell_type": "code",
   "execution_count": 1,
   "id": "42329235-a317-49b9-9af0-16626f17596f",
   "metadata": {},
   "outputs": [],
   "source": [
    "## import os\n",
    "import pandas as pd\n",
    "import qiime2 as q2\n",
    "import requests\n",
    "import math\n",
    "import matplotlib.pyplot as plt\n",
    "import numpy as np\n",
    "import pandas as pd\n",
    "import seaborn as sns\n",
    "\n",
    "from scipy import stats\n",
    "from qiime2 import Visualization\n",
    "\n",
    "data_dir = 'project_data'\n",
    "    \n",
    "%matplotlib inline"
   ]
  },
  {
   "cell_type": "code",
   "execution_count": 2,
   "id": "600135bf-590b-480a-86bc-ef5780acc028",
   "metadata": {},
   "outputs": [],
   "source": [
    "# path to the q2-health-index conda environment - do not change!\n",
    "q2_health_index = '/home/jovyan/.conda/envs/q2-health-index/bin'"
   ]
  },
  {
   "cell_type": "markdown",
   "id": "a4aaee3a-6d24-4ad2-a07b-75a923ecb78a",
   "metadata": {},
   "source": [
    "Download the `FeatureData[Sequence]` from our data which was made in the FirstLook.ipynb:"
   ]
  },
  {
   "cell_type": "code",
   "execution_count": null,
   "id": "616cc42e-8f7e-4aa2-a06f-7bdeacf117e6",
   "metadata": {},
   "outputs": [],
   "source": [
    "! wget -nv -O $data_dir/rep-seqs.qza 'https://polybox.ethz.ch/index.php/s/MBLSUQXzglnn66u/download?path=%2F&files=Sequences_rep_set.qza'"
   ]
  },
  {
   "cell_type": "code",
   "execution_count": null,
   "id": "636272ee-eead-4c98-9702-30159b76a961",
   "metadata": {
    "tags": []
   },
   "outputs": [],
   "source": [
    "! qiime tools peek $data_dir/rep-seqs.qza"
   ]
  },
  {
   "cell_type": "code",
   "execution_count": 33,
   "id": "7a462172-0ef5-460e-861b-b93494c84c47",
   "metadata": {},
   "outputs": [
    {
     "name": "stdout",
     "output_type": "stream",
     "text": [
      "\u001b[32mExported project_data/rep-seqs.qza as DNASequencesDirectoryFormat to directory project_data\u001b[0m\n",
      "\u001b[0m"
     ]
    }
   ],
   "source": [
    "# export rep-seqs.qza to dna-sequences.fasta file\n",
    "! qiime tools export --input-path $data_dir/rep-seqs.qza  --output-path $data_dir"
   ]
  }
 ],
 "metadata": {
  "kernelspec": {
   "display_name": "Python 3 (ipykernel)",
   "language": "python",
   "name": "python3"
  },
  "language_info": {
   "codemirror_mode": {
    "name": "ipython",
    "version": 3
   },
   "file_extension": ".py",
   "mimetype": "text/x-python",
   "name": "python",
   "nbconvert_exporter": "python",
   "pygments_lexer": "ipython3",
   "version": "3.8.13"
  }
 },
 "nbformat": 4,
 "nbformat_minor": 5
}
