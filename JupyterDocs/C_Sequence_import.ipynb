{
 "cells": [
  {
   "cell_type": "markdown",
   "id": "ffed1a41-de26-4b66-bc4f-dc145270d4af",
   "metadata": {},
   "source": [
    "### 0. Setup"
   ]
  },
  {
   "cell_type": "markdown",
   "id": "aa42b692-b9a6-4772-8a75-6535c6e1448a",
   "metadata": {},
   "source": [
    "Import packages and create folder for data"
   ]
  },
  {
   "cell_type": "code",
   "execution_count": 2,
   "id": "8bf9c036-f181-4c86-a601-680bc9d4e213",
   "metadata": {},
   "outputs": [],
   "source": [
    "import os\n",
    "import pandas as pd\n",
    "from qiime2 import Visualization\n",
    "import matplotlib.pyplot as plt\n",
    "\n",
    "%matplotlib inline"
   ]
  },
  {
   "cell_type": "code",
   "execution_count": 3,
   "id": "d756d1fb-5ffa-48fe-9e7f-03e5c4fd7dc4",
   "metadata": {},
   "outputs": [],
   "source": [
    "# location of this week's data and all the results produced by this notebook \n",
    "# - this should be a path relative to your working directory\n",
    "data_dir = 'project_data'\n",
    "\n",
    "if not os.path.isdir(data_dir):\n",
    "    os.makedirs(data_dir)"
   ]
  },
  {
   "cell_type": "markdown",
   "id": "4fc32b32-cf82-40ad-b798-b803b7e6fc5a",
   "metadata": {},
   "source": [
    "### 1. Data Import"
   ]
  },
  {
   "cell_type": "markdown",
   "id": "ee834d25-486c-47a6-ae60-70730f9c3e62",
   "metadata": {},
   "source": [
    "Import Metadata "
   ]
  },
  {
   "cell_type": "code",
   "execution_count": 25,
   "id": "39d6bbff-d2c1-4a1d-bb00-06a07190dc40",
   "metadata": {},
   "outputs": [
    {
     "name": "stdout",
     "output_type": "stream",
     "text": [
      "2022-11-12 13:41:37 URL:https://polybox.ethz.ch/index.php/s/MBLSUQXzglnn66u/download?path=%2F&files=cleaned_sample_meta_data.tsv [295152/295152] -> \"project_data/cleaned_sample_meta_data.tsv\" [1]\n"
     ]
    }
   ],
   "source": [
    "! wget -nv -O $data_dir/cleaned_sample_meta_data.tsv 'https://polybox.ethz.ch/index.php/s/MBLSUQXzglnn66u/download?path=%2F&files=cleaned_sample_meta_data.tsv'"
   ]
  },
  {
   "cell_type": "code",
   "execution_count": 9,
   "id": "91b9e733-6790-40a1-874c-4e50f8e151eb",
   "metadata": {},
   "outputs": [],
   "source": [
    "metadata_df = pd.read_csv(f'{data_dir}/sample_meta_data.tsv', sep='\\t', index_col=0)"
   ]
  },
  {
   "cell_type": "code",
   "execution_count": 10,
   "id": "4d522e5e-227f-48ff-9517-2687a76346ce",
   "metadata": {},
   "outputs": [
    {
     "data": {
      "text/plain": [
       "(523, 56)"
      ]
     },
     "execution_count": 10,
     "metadata": {},
     "output_type": "execute_result"
    }
   ],
   "source": [
    "metadata_df.shape"
   ]
  },
  {
   "cell_type": "markdown",
   "id": "16a1adbc-2d2f-4cd3-8623-d71fc934429a",
   "metadata": {},
   "source": [
    "Import sequence data"
   ]
  },
  {
   "cell_type": "code",
   "execution_count": 28,
   "id": "7b78e650-f198-47f8-93a9-e005b8e33fc0",
   "metadata": {},
   "outputs": [
    {
     "name": "stdout",
     "output_type": "stream",
     "text": [
      "2022-11-12 13:41:43 URL:https://polybox.ethz.ch/index.php/s/AsLORlvUbwgBWTq/download [1506379068/1506379068] -> \"project_data/seq_data.qza\" [1]\n"
     ]
    }
   ],
   "source": [
    "! wget -nv -O $data_dir/seq_data.qza 'https://polybox.ethz.ch/index.php/s/AsLORlvUbwgBWTq/download'"
   ]
  },
  {
   "cell_type": "markdown",
   "id": "d85d72a4-913c-4541-913a-c4b272d911d1",
   "metadata": {},
   "source": [
    "### 2. Sequence loading and summary visulazation"
   ]
  },
  {
   "cell_type": "markdown",
   "id": "ffe3dbad-eccb-445f-bac2-8c33e6b3d51a",
   "metadata": {},
   "source": [
    "Our data was already demultiplexed before, sequencing barcodes were removed and reads were mapped to sample id. The data is already provided as a Qiime artifact. Thus, we do not need to import the sequences with a MANIFEST file and we can directly visulaize our data. As our data was produced with a MiSeq System which can generate 2 × 300 bp paired-end reads in a single run, we assume they were preprocessed and cut to 150bp in some way."
   ]
  },
  {
   "cell_type": "code",
   "execution_count": 29,
   "id": "f82732b0-0268-4d32-b0a8-664d9eee6e4a",
   "metadata": {
    "tags": []
   },
   "outputs": [
    {
     "name": "stdout",
     "output_type": "stream",
     "text": [
      "\u001b[32mUUID\u001b[0m:        32a1795b-d6fb-4ecc-9166-4fe29fb8206a\n",
      "\u001b[32mType\u001b[0m:        SampleData[PairedEndSequencesWithQuality]\n",
      "\u001b[32mData format\u001b[0m: SingleLanePerSamplePairedEndFastqDirFmt\n"
     ]
    }
   ],
   "source": [
    "! qiime tools peek $data_dir/seq_data.qza"
   ]
  },
  {
   "cell_type": "code",
   "execution_count": 30,
   "id": "22c28bb6-d46a-4c4b-9722-b010363e3a7a",
   "metadata": {},
   "outputs": [
    {
     "name": "stdout",
     "output_type": "stream",
     "text": [
      "project_data/seq_data.qza\n"
     ]
    }
   ],
   "source": [
    "! ls $data_dir/seq_data.qza"
   ]
  },
  {
   "cell_type": "code",
   "execution_count": 59,
   "id": "be3535d7-2db9-48fb-b0e4-0583c317b312",
   "metadata": {},
   "outputs": [
    {
     "name": "stdout",
     "output_type": "stream",
     "text": [
      "\u001b[32mExported project_data/seq_data.qzv as Visualization to directory project_data\u001b[0m\n"
     ]
    }
   ],
   "source": [
    "! qiime tools export \\\n",
    "    --input-path $data_dir/seq_data.qzv\\\n",
    "    --output-path $data_dir"
   ]
  },
  {
   "cell_type": "code",
   "execution_count": 13,
   "id": "a6ea7cab-36c5-4367-acc0-54d931c19690",
   "metadata": {},
   "outputs": [
    {
     "name": "stdout",
     "output_type": "stream",
     "text": [
      "\u001b[31m\u001b[1mPlugin error from demux:\n",
      "\n",
      "  '10317.00004738' is not a sample present in the demultiplexed data.\n",
      "\n",
      "Debug info has been saved to /tmp/qiime2-q2cli-err-5y3c38ot.log\u001b[0m\n",
      "\u001b[0m"
     ]
    }
   ],
   "source": [
    "! qiime demux filter-samples \\\n",
    "    --i-demux $data_dir/seq_data.qza \\\n",
    "    --m-metadata-file $data_dir/cleaned_sample_meta_data.tsv \\\n",
    "    --o-filtered-demux $data_dir/seq_data_cleaned.qza"
   ]
  },
  {
   "cell_type": "code",
   "execution_count": 63,
   "id": "90f4a21b-91b9-48e0-b3a8-eb8ae53cea59",
   "metadata": {},
   "outputs": [
    {
     "name": "stdout",
     "output_type": "stream",
     "text": [
      "\u001b[32mUUID\u001b[0m:        76b3ef42-c2c1-452a-a9fa-ddb0d5d3fd94\n",
      "\u001b[32mType\u001b[0m:        SampleData[PairedEndSequencesWithQuality]\n",
      "\u001b[32mData format\u001b[0m: SingleLanePerSamplePairedEndFastqDirFmt\n"
     ]
    }
   ],
   "source": [
    "! qiime tools peek $data_dir/seq_data_cleaned.qza"
   ]
  },
  {
   "cell_type": "code",
   "execution_count": 64,
   "id": "9bb4a487-5571-46c6-9d79-e13d683d0b49",
   "metadata": {},
   "outputs": [
    {
     "name": "stdout",
     "output_type": "stream",
     "text": [
      "\u001b[32mSaved Visualization to: project_data/seq_data_cleaned.qzv\u001b[0m\n",
      "\u001b[0m"
     ]
    }
   ],
   "source": [
    "! qiime demux summarize \\\n",
    "    --i-data $data_dir/seq_data_cleaned.qza \\\n",
    "    --o-visualization $data_dir/seq_data_cleaned.qzv"
   ]
  },
  {
   "cell_type": "code",
   "execution_count": 5,
   "id": "de5305cd-a725-4ef2-899d-337ab16744ff",
   "metadata": {},
   "outputs": [
    {
     "data": {
      "text/html": [
       "<div><img onload=\"(function(div, url){\n",
       "if (typeof require !== 'undefined') {\n",
       "    var baseURL = require.toUrl('').split('/').slice(0, -2).join('/');\n",
       "} else {\n",
       "    var baseURL = JSON.parse(\n",
       "        document.getElementById('jupyter-config-data').innerHTML\n",
       "    ).baseUrl.slice(0, -1);\n",
       "}\n",
       "url = baseURL + url;\n",
       "fetch(url).then(function(res) {\n",
       "    if (res.status === 404) {\n",
       "        div.innerHTML = 'Install QIIME 2 Jupyter extension with:<br />' +\n",
       "                        '<code>jupyter serverextension enable --py qiime2' +\n",
       "                        ' --sys-prefix</code><br />then restart your server.' +\n",
       "                        '<br /><br />(Interactive output not available on ' +\n",
       "                        'static notebook viewer services like nbviewer.)';\n",
       "    } else if (res.status === 409) {\n",
       "        div.innerHTML = 'Visualization no longer in scope. Re-run this cell' +\n",
       "                        ' to see the visualization.';\n",
       "    } else if (res.ok) {\n",
       "        url = res.url;\n",
       "        div.innerHTML = '<iframe src=\\'' + url + '\\' style=\\'' +\n",
       "                        'width: 100%; height: 700px; border: 0;\\'>' +\n",
       "                        '</iframe><hr />Open in a: <a href=\\'' + url + '\\'' +\n",
       "                        ' target=\\'_blank\\'>new window</a>'\n",
       "    } else {\n",
       "        div.innerHTML = 'Something has gone wrong. Check notebook server for' +\n",
       "                        ' errors.';\n",
       "    }\n",
       "});\n",
       "})(this.parentElement, '/qiime2/redirect?location=/tmp/qiime2-archive-cavzwajm')\" src=\"data:image/gif;base64,R0lGODlhAQABAIAAAP///wAAACH5BAEAAAAALAAAAAABAAEAAAICRAEAOw==\" /></div>"
      ],
      "text/plain": [
       "<visualization: Visualization uuid: a1f816bd-47c1-4805-8430-a53f47983b19>"
      ]
     },
     "execution_count": 5,
     "metadata": {},
     "output_type": "execute_result"
    }
   ],
   "source": [
    "Visualization.load(f'{data_dir}/seq_data_cleaned.qzv')"
   ]
  },
  {
   "cell_type": "code",
   "execution_count": 36,
   "id": "24396c54-2726-4ce6-8236-08e7771c216c",
   "metadata": {},
   "outputs": [
    {
     "name": "stdout",
     "output_type": "stream",
     "text": [
      "\u001b[32mSaved Visualization to: project_data/seq_data.qzv\u001b[0m\n",
      "\u001b[0m"
     ]
    }
   ],
   "source": [
    "! qiime demux summarize \\\n",
    "    --i-data $data_dir/seq_data.qza \\\n",
    "    --o-visualization $data_dir/seq_data.qzv"
   ]
  },
  {
   "cell_type": "code",
   "execution_count": 4,
   "id": "15775239-6c79-4ca2-a7fd-39ec58a30359",
   "metadata": {
    "tags": []
   },
   "outputs": [
    {
     "data": {
      "text/html": [
       "<div><img onload=\"(function(div, url){\n",
       "if (typeof require !== 'undefined') {\n",
       "    var baseURL = require.toUrl('').split('/').slice(0, -2).join('/');\n",
       "} else {\n",
       "    var baseURL = JSON.parse(\n",
       "        document.getElementById('jupyter-config-data').innerHTML\n",
       "    ).baseUrl.slice(0, -1);\n",
       "}\n",
       "url = baseURL + url;\n",
       "fetch(url).then(function(res) {\n",
       "    if (res.status === 404) {\n",
       "        div.innerHTML = 'Install QIIME 2 Jupyter extension with:<br />' +\n",
       "                        '<code>jupyter serverextension enable --py qiime2' +\n",
       "                        ' --sys-prefix</code><br />then restart your server.' +\n",
       "                        '<br /><br />(Interactive output not available on ' +\n",
       "                        'static notebook viewer services like nbviewer.)';\n",
       "    } else if (res.status === 409) {\n",
       "        div.innerHTML = 'Visualization no longer in scope. Re-run this cell' +\n",
       "                        ' to see the visualization.';\n",
       "    } else if (res.ok) {\n",
       "        url = res.url;\n",
       "        div.innerHTML = '<iframe src=\\'' + url + '\\' style=\\'' +\n",
       "                        'width: 100%; height: 700px; border: 0;\\'>' +\n",
       "                        '</iframe><hr />Open in a: <a href=\\'' + url + '\\'' +\n",
       "                        ' target=\\'_blank\\'>new window</a>'\n",
       "    } else {\n",
       "        div.innerHTML = 'Something has gone wrong. Check notebook server for' +\n",
       "                        ' errors.';\n",
       "    }\n",
       "});\n",
       "})(this.parentElement, '/qiime2/redirect?location=/tmp/qiime2-archive-sdegwj83')\" src=\"data:image/gif;base64,R0lGODlhAQABAIAAAP///wAAACH5BAEAAAAALAAAAAABAAEAAAICRAEAOw==\" /></div>"
      ],
      "text/plain": [
       "<visualization: Visualization uuid: 2eb19660-82fa-46d2-95b0-3d18e6f3cd6c>"
      ]
     },
     "execution_count": 4,
     "metadata": {},
     "output_type": "execute_result"
    }
   ],
   "source": [
    "Visualization.load(f'{data_dir}/seq_data.qzv')"
   ]
  },
  {
   "cell_type": "markdown",
   "id": "b7ee787b-1e9a-4eee-928a-df52155845eb",
   "metadata": {},
   "source": [
    "## Denoise"
   ]
  },
  {
   "cell_type": "markdown",
   "id": "69e86ebf-1fa7-4017-9cd4-a294f11a4af8",
   "metadata": {},
   "source": [
    "As we have sequences form the size V4 region of the 16S rRNA (~254bp) , we at least need 2x 130 bp inorder to generate a full read. In addition, we want a minimal overlap of the two reads of at least 12. Furthermore, we inspected our initial forward and reverse sequences. Their quality did not drop towards the end and all reads are of lenth 150bp. Thus, we set trunc-len to 0 so no truncation or lenth filtering will be performed. "
   ]
  },
  {
   "cell_type": "code",
   "execution_count": 38,
   "id": "ca71ecff-f65b-46de-a793-f609c2475ac6",
   "metadata": {},
   "outputs": [
    {
     "name": "stdout",
     "output_type": "stream",
     "text": [
      "Usage: \u001b[94mqiime dada2 denoise-paired\u001b[0m [OPTIONS]\n",
      "\n",
      "  This method denoises paired-end sequences, dereplicates them, and filters\n",
      "  chimeras.\n",
      "\n",
      "\u001b[1mInputs\u001b[0m:\n",
      "  \u001b[94m\u001b[4m--i-demultiplexed-seqs\u001b[0m ARTIFACT \u001b[32mSampleData[PairedEndSequencesWithQuality]\u001b[0m\n",
      "                         The paired-end demultiplexed sequences to be\n",
      "                         denoised.                                  \u001b[35m[required]\u001b[0m\n",
      "\u001b[1mParameters\u001b[0m:\n",
      "  \u001b[94m\u001b[4m--p-trunc-len-f\u001b[0m INTEGER\n",
      "                         Position at which forward read sequences should be\n",
      "                         truncated due to decrease in quality. This truncates\n",
      "                         the 3' end of the of the input sequences, which will\n",
      "                         be the bases that were sequenced in the last cycles.\n",
      "                         Reads that are shorter than this value will be\n",
      "                         discarded. After this parameter is applied there must\n",
      "                         still be at least a 12 nucleotide overlap between the\n",
      "                         forward and reverse reads. If 0 is provided, no\n",
      "                         truncation or length filtering will be performed\n",
      "                                                                    \u001b[35m[required]\u001b[0m\n",
      "  \u001b[94m\u001b[4m--p-trunc-len-r\u001b[0m INTEGER\n",
      "                         Position at which reverse read sequences should be\n",
      "                         truncated due to decrease in quality. This truncates\n",
      "                         the 3' end of the of the input sequences, which will\n",
      "                         be the bases that were sequenced in the last cycles.\n",
      "                         Reads that are shorter than this value will be\n",
      "                         discarded. After this parameter is applied there must\n",
      "                         still be at least a 12 nucleotide overlap between the\n",
      "                         forward and reverse reads. If 0 is provided, no\n",
      "                         truncation or length filtering will be performed\n",
      "                                                                    \u001b[35m[required]\u001b[0m\n",
      "  \u001b[94m--p-trim-left-f\u001b[0m INTEGER\n",
      "                         Position at which forward read sequences should be\n",
      "                         trimmed due to low quality. This trims the 5' end of\n",
      "                         the input sequences, which will be the bases that\n",
      "                         were sequenced in the first cycles.      \u001b[35m[default: 0]\u001b[0m\n",
      "  \u001b[94m--p-trim-left-r\u001b[0m INTEGER\n",
      "                         Position at which reverse read sequences should be\n",
      "                         trimmed due to low quality. This trims the 5' end of\n",
      "                         the input sequences, which will be the bases that\n",
      "                         were sequenced in the first cycles.      \u001b[35m[default: 0]\u001b[0m\n",
      "  \u001b[94m--p-max-ee-f\u001b[0m NUMBER    Forward reads with number of expected errors higher\n",
      "                         than this value will be discarded.     \u001b[35m[default: 2.0]\u001b[0m\n",
      "  \u001b[94m--p-max-ee-r\u001b[0m NUMBER    Reverse reads with number of expected errors higher\n",
      "                         than this value will be discarded.     \u001b[35m[default: 2.0]\u001b[0m\n",
      "  \u001b[94m--p-trunc-q\u001b[0m INTEGER    Reads are truncated at the first instance of a\n",
      "                         quality score less than or equal to this value. If\n",
      "                         the resulting read is then shorter than `\u001b[4mtrunc-len-f\u001b[0m`\n",
      "                         or `\u001b[4mtrunc-len-r\u001b[0m` (depending on the direction of the\n",
      "                         read) it is discarded.                   \u001b[35m[default: 2]\u001b[0m\n",
      "  \u001b[94m--p-min-overlap\u001b[0m INTEGER\n",
      "    \u001b[32mRange(4, None)\u001b[0m       The minimum length of the overlap required for\n",
      "                         merging the forward and reverse reads.  \u001b[35m[default: 12]\u001b[0m\n",
      "  \u001b[94m--p-pooling-method\u001b[0m TEXT \u001b[32mChoices('independent', 'pseudo')\u001b[0m\n",
      "                         The method used to pool samples for denoising.\n",
      "                         \"independent\": Samples are denoised indpendently.\n",
      "                         \"pseudo\": The pseudo-pooling method is used to\n",
      "                         approximate pooling of samples. In short, samples are\n",
      "                         denoised independently once, ASVs detected in at\n",
      "                         least 2 samples are recorded, and samples are\n",
      "                         denoised independently a second time, but this time\n",
      "                         with prior knowledge of the recorded ASVs and thus\n",
      "                         higher sensitivity to those ASVs.\n",
      "                                                      \u001b[35m[default: 'independent']\u001b[0m\n",
      "  \u001b[94m--p-chimera-method\u001b[0m TEXT \u001b[32mChoices('consensus', 'pooled', 'none')\u001b[0m\n",
      "                         The method used to remove chimeras. \"none\": No\n",
      "                         chimera removal is performed. \"pooled\": All reads are\n",
      "                         pooled prior to chimera detection. \"consensus\":\n",
      "                         Chimeras are detected in samples individually, and\n",
      "                         sequences found chimeric in a sufficient fraction of\n",
      "                         samples are removed.           \u001b[35m[default: 'consensus']\u001b[0m\n",
      "  \u001b[94m--p-min-fold-parent-over-abundance\u001b[0m NUMBER\n",
      "                         The minimum abundance of potential parents of a\n",
      "                         sequence being tested as chimeric, expressed as a\n",
      "                         fold-change versus the abundance of the sequence\n",
      "                         being tested. Values should be greater than or equal\n",
      "                         to 1 (i.e. parents should be more abundant than the\n",
      "                         sequence being tested). This parameter has no effect\n",
      "                         if \u001b[4mchimera-method\u001b[0m is \"none\".           \u001b[35m[default: 1.0]\u001b[0m\n",
      "  \u001b[94m--p-n-threads\u001b[0m INTEGER  The number of threads to use for multithreaded\n",
      "                         processing. If 0 is provided, all available cores\n",
      "                         will be used.                            \u001b[35m[default: 1]\u001b[0m\n",
      "  \u001b[94m--p-n-reads-learn\u001b[0m INTEGER\n",
      "                         The number of reads to use when training the error\n",
      "                         model. Smaller numbers will result in a shorter run\n",
      "                         time but a less reliable error model.\n",
      "                                                            \u001b[35m[default: 1000000]\u001b[0m\n",
      "  \u001b[94m--p-hashed-feature-ids\u001b[0m / \u001b[94m--p-no-hashed-feature-ids\u001b[0m\n",
      "                         If true, the feature ids in the resulting table will\n",
      "                         be presented as hashes of the sequences defining each\n",
      "                         feature. The hash will always be the same for the\n",
      "                         same sequence so this allows feature tables to be\n",
      "                         merged across runs of this method. You should only\n",
      "                         merge tables if the exact same parameters are used\n",
      "                         for each run.                         \u001b[35m[default: True]\u001b[0m\n",
      "\u001b[1mOutputs\u001b[0m:\n",
      "  \u001b[94m\u001b[4m--o-table\u001b[0m ARTIFACT \u001b[32mFeatureTable[Frequency]\u001b[0m\n",
      "                         The resulting feature table.               \u001b[35m[required]\u001b[0m\n",
      "  \u001b[94m\u001b[4m--o-representative-sequences\u001b[0m ARTIFACT \u001b[32mFeatureData[Sequence]\u001b[0m\n",
      "                         The resulting feature sequences. Each feature in the\n",
      "                         feature table will be represented by exactly one\n",
      "                         sequence, and these sequences will be the joined\n",
      "                         paired-end sequences.                      \u001b[35m[required]\u001b[0m\n",
      "  \u001b[94m\u001b[4m--o-denoising-stats\u001b[0m ARTIFACT \u001b[32mSampleData[DADA2Stats]\u001b[0m\n",
      "                                                                    \u001b[35m[required]\u001b[0m\n",
      "\u001b[1mMiscellaneous\u001b[0m:\n",
      "  \u001b[94m--output-dir\u001b[0m PATH      Output unspecified results to a directory\n",
      "  \u001b[94m--verbose\u001b[0m / \u001b[94m--quiet\u001b[0m    Display verbose output to stdout and/or stderr\n",
      "                         during execution of this action. Or silence output if\n",
      "                         execution is successful (silence is golden).\n",
      "  \u001b[94m--example-data\u001b[0m PATH    Write example data and exit.\n",
      "  \u001b[94m--citations\u001b[0m            Show citations and exit.\n",
      "  \u001b[94m--help\u001b[0m                 Show this message and exit.\n"
     ]
    }
   ],
   "source": [
    "!qiime dada2 denoise-paired --help"
   ]
  },
  {
   "cell_type": "code",
   "execution_count": 40,
   "id": "613b320d-04bf-41e4-b514-bb60f4ad97f8",
   "metadata": {},
   "outputs": [
    {
     "name": "stdout",
     "output_type": "stream",
     "text": [
      "\u001b[32mSaved FeatureTable[Frequency] to: project_data/dada2_table_cleaned.qza\u001b[0m\n",
      "\u001b[32mSaved FeatureData[Sequence] to: project_data/dada2_rep_set_cleaned.qza\u001b[0m\n",
      "\u001b[32mSaved SampleData[DADA2Stats] to: project_data/dada2_stats_cleaned.qza\u001b[0m\n",
      "\u001b[0m"
     ]
    }
   ],
   "source": [
    "! qiime dada2 denoise-paired \\\n",
    "    --i-demultiplexed-seqs $data_dir/seq_data_cleaned.qza \\\n",
    "    --p-trunc-len-f 0 \\\n",
    "    --p-trunc-len-r 0 \\\n",
    "    --p-n-threads 3 \\\n",
    "    --o-table $data_dir/dada2_table_cleaned.qza \\\n",
    "    --o-representative-sequences $data_dir/dada2_rep_set_cleaned.qza \\\n",
    "    --o-denoising-stats $data_dir/dada2_stats_cleaned.qza"
   ]
  },
  {
   "cell_type": "code",
   "execution_count": 41,
   "id": "cc989a4e-1e43-4b7a-948c-aa31bbdef99c",
   "metadata": {},
   "outputs": [
    {
     "name": "stdout",
     "output_type": "stream",
     "text": [
      "\u001b[32mSaved Visualization to: project_data/dada2_stats_cleaned.qzv\u001b[0m\n",
      "\u001b[0m"
     ]
    }
   ],
   "source": [
    "! qiime metadata tabulate \\\n",
    "    --m-input-file $data_dir/dada2_stats_cleaned.qza \\\n",
    "    --o-visualization $data_dir/dada2_stats_cleaned.qzv"
   ]
  },
  {
   "cell_type": "code",
   "execution_count": 42,
   "id": "fd827985-0dcd-43ce-9e81-b2a5dd6ffb04",
   "metadata": {},
   "outputs": [
    {
     "data": {
      "text/html": [
       "<div><img onload=\"(function(div, url){\n",
       "if (typeof require !== 'undefined') {\n",
       "    var baseURL = require.toUrl('').split('/').slice(0, -2).join('/');\n",
       "} else {\n",
       "    var baseURL = JSON.parse(\n",
       "        document.getElementById('jupyter-config-data').innerHTML\n",
       "    ).baseUrl.slice(0, -1);\n",
       "}\n",
       "url = baseURL + url;\n",
       "fetch(url).then(function(res) {\n",
       "    if (res.status === 404) {\n",
       "        div.innerHTML = 'Install QIIME 2 Jupyter extension with:<br />' +\n",
       "                        '<code>jupyter serverextension enable --py qiime2' +\n",
       "                        ' --sys-prefix</code><br />then restart your server.' +\n",
       "                        '<br /><br />(Interactive output not available on ' +\n",
       "                        'static notebook viewer services like nbviewer.)';\n",
       "    } else if (res.status === 409) {\n",
       "        div.innerHTML = 'Visualization no longer in scope. Re-run this cell' +\n",
       "                        ' to see the visualization.';\n",
       "    } else if (res.ok) {\n",
       "        url = res.url;\n",
       "        div.innerHTML = '<iframe src=\\'' + url + '\\' style=\\'' +\n",
       "                        'width: 100%; height: 700px; border: 0;\\'>' +\n",
       "                        '</iframe><hr />Open in a: <a href=\\'' + url + '\\'' +\n",
       "                        ' target=\\'_blank\\'>new window</a>'\n",
       "    } else {\n",
       "        div.innerHTML = 'Something has gone wrong. Check notebook server for' +\n",
       "                        ' errors.';\n",
       "    }\n",
       "});\n",
       "})(this.parentElement, '/qiime2/redirect?location=/tmp/qiime2-archive-1tb5p3jx')\" src=\"data:image/gif;base64,R0lGODlhAQABAIAAAP///wAAACH5BAEAAAAALAAAAAABAAEAAAICRAEAOw==\" /></div>"
      ],
      "text/plain": [
       "<visualization: Visualization uuid: 5bfbc325-cbf9-4bea-acf7-c0983d0160c8>"
      ]
     },
     "execution_count": 42,
     "metadata": {},
     "output_type": "execute_result"
    }
   ],
   "source": [
    "Visualization.load(f'{data_dir}/dada2_stats_cleaned.qzv')"
   ]
  },
  {
   "cell_type": "code",
   "execution_count": 43,
   "id": "4e4c76af-a142-4386-9c47-e1d19e61da46",
   "metadata": {},
   "outputs": [
    {
     "name": "stdout",
     "output_type": "stream",
     "text": [
      "\u001b[32mSaved Visualization to: project_data/dada2_rep_set_cleaned.qzv\u001b[0m\n",
      "\u001b[0m"
     ]
    }
   ],
   "source": [
    "! qiime feature-table tabulate-seqs \\\n",
    "    --i-data $data_dir/dada2_rep_set_cleaned.qza \\\n",
    "    --o-visualization $data_dir/dada2_rep_set_cleaned.qzv"
   ]
  },
  {
   "cell_type": "markdown",
   "id": "fbbff30d-773c-45a8-b5c9-14fd2479ebc1",
   "metadata": {},
   "source": [
    "In the following visualization we can see that almost all sequences are arround the expected length for the V4 region (~254nts), which indecated successul denoising:"
   ]
  },
  {
   "cell_type": "code",
   "execution_count": 44,
   "id": "08ce15ce-ddf2-4c9a-9940-e9060991663f",
   "metadata": {},
   "outputs": [
    {
     "data": {
      "text/html": [
       "<div><img onload=\"(function(div, url){\n",
       "if (typeof require !== 'undefined') {\n",
       "    var baseURL = require.toUrl('').split('/').slice(0, -2).join('/');\n",
       "} else {\n",
       "    var baseURL = JSON.parse(\n",
       "        document.getElementById('jupyter-config-data').innerHTML\n",
       "    ).baseUrl.slice(0, -1);\n",
       "}\n",
       "url = baseURL + url;\n",
       "fetch(url).then(function(res) {\n",
       "    if (res.status === 404) {\n",
       "        div.innerHTML = 'Install QIIME 2 Jupyter extension with:<br />' +\n",
       "                        '<code>jupyter serverextension enable --py qiime2' +\n",
       "                        ' --sys-prefix</code><br />then restart your server.' +\n",
       "                        '<br /><br />(Interactive output not available on ' +\n",
       "                        'static notebook viewer services like nbviewer.)';\n",
       "    } else if (res.status === 409) {\n",
       "        div.innerHTML = 'Visualization no longer in scope. Re-run this cell' +\n",
       "                        ' to see the visualization.';\n",
       "    } else if (res.ok) {\n",
       "        url = res.url;\n",
       "        div.innerHTML = '<iframe src=\\'' + url + '\\' style=\\'' +\n",
       "                        'width: 100%; height: 700px; border: 0;\\'>' +\n",
       "                        '</iframe><hr />Open in a: <a href=\\'' + url + '\\'' +\n",
       "                        ' target=\\'_blank\\'>new window</a>'\n",
       "    } else {\n",
       "        div.innerHTML = 'Something has gone wrong. Check notebook server for' +\n",
       "                        ' errors.';\n",
       "    }\n",
       "});\n",
       "})(this.parentElement, '/qiime2/redirect?location=/tmp/qiime2-archive-ia3c440q')\" src=\"data:image/gif;base64,R0lGODlhAQABAIAAAP///wAAACH5BAEAAAAALAAAAAABAAEAAAICRAEAOw==\" /></div>"
      ],
      "text/plain": [
       "<visualization: Visualization uuid: 93e88d87-2571-48b5-9b28-53382f7c586e>"
      ]
     },
     "execution_count": 44,
     "metadata": {},
     "output_type": "execute_result"
    }
   ],
   "source": [
    "Visualization.load(f'{data_dir}/dada2_rep_set_cleaned.qzv')"
   ]
  },
  {
   "cell_type": "code",
   "execution_count": 45,
   "id": "54f6ba90-5638-4ada-a9ef-19fcf6d5b630",
   "metadata": {},
   "outputs": [
    {
     "name": "stdout",
     "output_type": "stream",
     "text": [
      "\u001b[31m\u001b[1mPlugin error from feature-table:\n",
      "\n",
      "  The following IDs are not present in the metadata: '10317.000002930', '10317.000027920', '10317.000028654', '10317.000032650', '10317.000036170', '10317.000036950', '10317.000037960', '10317.000039980', '10317.000040490', '10317.000041730', '10317.000042590', '10317.000042660', '10317.000044340', '10317.000044550', '10317.000046270', '10317.000046290', '10317.000046336', '10317.000047140', '10317.000047141', '10317.000047220', '10317.000047230', '10317.000047370', '10317.000047380', '10317.000047610', '10317.000047620', '10317.000047680', '10317.000048326', '10317.000050240', '10317.000050273', '10317.000050290', '10317.000051100', '10317.000051130', '10317.000051160', '10317.000051180', '10317.000051210', '10317.000051560', '10317.000052030', '10317.000052055', '10317.000052260', '10317.000052280', '10317.000052370', '10317.000052380', '10317.000052430', '10317.000052450', '10317.000053310', '10317.000053410', '10317.000053430', '10317.000053435', '10317.000053480', '10317.000054310', '10317.000054330', '10317.000058480', '10317.000058550', '10317.000062070'\n",
      "\n",
      "Debug info has been saved to /tmp/qiime2-q2cli-err-wy2rb38e.log\u001b[0m\n",
      "\u001b[0m"
     ]
    }
   ],
   "source": [
    "! qiime feature-table summarize \\\n",
    "    --i-table $data_dir/dada2_table_cleaned.qza \\\n",
    "    --m-sample-metadata-file $data_dir/cleaned_sample_meta_data.tsv \\\n",
    "    --o-visualization $data_dir/dada2_table_cleaned.qzv"
   ]
  },
  {
   "cell_type": "code",
   "execution_count": 46,
   "id": "d44b2032-531a-462e-a59a-23486850f42c",
   "metadata": {},
   "outputs": [
    {
     "ename": "ValueError",
     "evalue": "project_data/dada2_table_cleaned.qzv does not exist.",
     "output_type": "error",
     "traceback": [
      "\u001b[0;31m---------------------------------------------------------------------------\u001b[0m",
      "\u001b[0;31mValueError\u001b[0m                                Traceback (most recent call last)",
      "Input \u001b[0;32mIn [46]\u001b[0m, in \u001b[0;36m<cell line: 1>\u001b[0;34m()\u001b[0m\n\u001b[0;32m----> 1\u001b[0m \u001b[43mVisualization\u001b[49m\u001b[38;5;241;43m.\u001b[39;49m\u001b[43mload\u001b[49m\u001b[43m(\u001b[49m\u001b[38;5;124;43mf\u001b[39;49m\u001b[38;5;124;43m'\u001b[39;49m\u001b[38;5;132;43;01m{\u001b[39;49;00m\u001b[43mdata_dir\u001b[49m\u001b[38;5;132;43;01m}\u001b[39;49;00m\u001b[38;5;124;43m/dada2_table_cleaned.qzv\u001b[39;49m\u001b[38;5;124;43m'\u001b[39;49m\u001b[43m)\u001b[49m\n",
      "File \u001b[0;32m/opt/conda/lib/python3.8/site-packages/qiime2/sdk/result.py:66\u001b[0m, in \u001b[0;36mResult.load\u001b[0;34m(cls, filepath)\u001b[0m\n\u001b[1;32m     63\u001b[0m \u001b[38;5;129m@classmethod\u001b[39m\n\u001b[1;32m     64\u001b[0m \u001b[38;5;28;01mdef\u001b[39;00m \u001b[38;5;21mload\u001b[39m(\u001b[38;5;28mcls\u001b[39m, filepath):\n\u001b[1;32m     65\u001b[0m     \u001b[38;5;124;03m\"\"\"Factory for loading Artifacts and Visualizations.\"\"\"\u001b[39;00m\n\u001b[0;32m---> 66\u001b[0m     archiver \u001b[38;5;241m=\u001b[39m \u001b[43marchive\u001b[49m\u001b[38;5;241;43m.\u001b[39;49m\u001b[43mArchiver\u001b[49m\u001b[38;5;241;43m.\u001b[39;49m\u001b[43mload\u001b[49m\u001b[43m(\u001b[49m\u001b[43mfilepath\u001b[49m\u001b[43m)\u001b[49m\n\u001b[1;32m     68\u001b[0m     \u001b[38;5;28;01mif\u001b[39;00m Artifact\u001b[38;5;241m.\u001b[39m_is_valid_type(archiver\u001b[38;5;241m.\u001b[39mtype):\n\u001b[1;32m     69\u001b[0m         result \u001b[38;5;241m=\u001b[39m Artifact\u001b[38;5;241m.\u001b[39m\u001b[38;5;21m__new__\u001b[39m(Artifact)\n",
      "File \u001b[0;32m/opt/conda/lib/python3.8/site-packages/qiime2/core/archive/archiver.py:299\u001b[0m, in \u001b[0;36mArchiver.load\u001b[0;34m(cls, filepath)\u001b[0m\n\u001b[1;32m    297\u001b[0m \u001b[38;5;129m@classmethod\u001b[39m\n\u001b[1;32m    298\u001b[0m \u001b[38;5;28;01mdef\u001b[39;00m \u001b[38;5;21mload\u001b[39m(\u001b[38;5;28mcls\u001b[39m, filepath):\n\u001b[0;32m--> 299\u001b[0m     archive \u001b[38;5;241m=\u001b[39m \u001b[38;5;28;43mcls\u001b[39;49m\u001b[38;5;241;43m.\u001b[39;49m\u001b[43mget_archive\u001b[49m\u001b[43m(\u001b[49m\u001b[43mfilepath\u001b[49m\u001b[43m)\u001b[49m\n\u001b[1;32m    300\u001b[0m     Format \u001b[38;5;241m=\u001b[39m \u001b[38;5;28mcls\u001b[39m\u001b[38;5;241m.\u001b[39mget_format_class(archive\u001b[38;5;241m.\u001b[39mversion)\n\u001b[1;32m    301\u001b[0m     \u001b[38;5;28;01mif\u001b[39;00m Format \u001b[38;5;129;01mis\u001b[39;00m \u001b[38;5;28;01mNone\u001b[39;00m:\n",
      "File \u001b[0;32m/opt/conda/lib/python3.8/site-packages/qiime2/core/archive/archiver.py:259\u001b[0m, in \u001b[0;36mArchiver.get_archive\u001b[0;34m(cls, filepath)\u001b[0m\n\u001b[1;32m    257\u001b[0m filepath \u001b[38;5;241m=\u001b[39m pathlib\u001b[38;5;241m.\u001b[39mPath(filepath)\n\u001b[1;32m    258\u001b[0m \u001b[38;5;28;01mif\u001b[39;00m \u001b[38;5;129;01mnot\u001b[39;00m filepath\u001b[38;5;241m.\u001b[39mexists():\n\u001b[0;32m--> 259\u001b[0m     \u001b[38;5;28;01mraise\u001b[39;00m \u001b[38;5;167;01mValueError\u001b[39;00m(\u001b[38;5;124m\"\u001b[39m\u001b[38;5;132;01m%s\u001b[39;00m\u001b[38;5;124m does not exist.\u001b[39m\u001b[38;5;124m\"\u001b[39m \u001b[38;5;241m%\u001b[39m filepath)\n\u001b[1;32m    261\u001b[0m \u001b[38;5;28;01mif\u001b[39;00m _ZipArchive\u001b[38;5;241m.\u001b[39mis_archive_type(filepath):\n\u001b[1;32m    262\u001b[0m     archive \u001b[38;5;241m=\u001b[39m _ZipArchive(filepath)\n",
      "\u001b[0;31mValueError\u001b[0m: project_data/dada2_table_cleaned.qzv does not exist."
     ]
    }
   ],
   "source": [
    "Visualization.load(f'{data_dir}/dada2_table_cleaned.qzv')"
   ]
  },
  {
   "cell_type": "markdown",
   "id": "138ec703-df84-43b6-b821-bc8f7a51db98",
   "metadata": {},
   "source": [
    "## Clustering"
   ]
  },
  {
   "cell_type": "markdown",
   "id": "54e6dc78-5c0f-448d-a7f0-b6f9805b8acb",
   "metadata": {},
   "source": [
    "We tried out Denoising and Custering to compare the methods. We decided to use the Denoising method. The following code is commented out and is just provided for completeness."
   ]
  },
  {
   "cell_type": "markdown",
   "id": "39189b00-597d-40d1-89b7-549990353367",
   "metadata": {},
   "source": [
    "### Join the reads"
   ]
  },
  {
   "cell_type": "markdown",
   "id": "6bb16952-0e30-44fe-bc01-3d0d16e1823f",
   "metadata": {},
   "source": [
    "Dada 2 makes the same as the quality filtering and clustering togeter! Thus we can just use the data 2. If we want to use the clustering approach we first need to join the reads!"
   ]
  },
  {
   "cell_type": "raw",
   "id": "ac66d2e0-fe75-42cf-a58d-74b9f864bb97",
   "metadata": {},
   "source": [
    "!qiime vsearch join-pairs \\\n",
    "    --i-demultiplexed-seqs $data_dir/seq_data.qza \\\n",
    "    --p-minovlen 5 \\\n",
    "    --o-joined-sequences $data_dir/demux-joined.qza"
   ]
  },
  {
   "cell_type": "raw",
   "id": "e3831732-e204-4285-ab53-d45817cc10d2",
   "metadata": {},
   "source": [
    "!qiime demux summarize \\\n",
    "    --i-data $data_dir/demux-joined.qza \\\n",
    "    --o-visualization $data_dir/demux-joined.qzv"
   ]
  },
  {
   "cell_type": "raw",
   "id": "7bc68252-542a-40da-9328-0f36665aeeea",
   "metadata": {},
   "source": [
    "Visualization.load(f'{data_dir}/demux-joined.qzv')"
   ]
  },
  {
   "cell_type": "markdown",
   "id": "e9e581d5-092a-47e4-a990-3d39c6a77d4f",
   "metadata": {},
   "source": [
    "### Quality filtering"
   ]
  },
  {
   "cell_type": "raw",
   "id": "56b75dc7-1e7b-4d47-9d30-36f4b4b2fc69",
   "metadata": {},
   "source": [
    "! qiime quality-filter q-score \\\n",
    "    --i-demux $data_dir/demux-joined.qza \\\n",
    "    --p-min-quality 25 \\\n",
    "    --p-min-length-fraction 0.75 \\\n",
    "    --o-filtered-sequences $data_dir/demux_seqs_qc.qza \\\n",
    "    --o-filter-stats $data_dir/demux_seqs_qc_stats.qza"
   ]
  },
  {
   "cell_type": "raw",
   "id": "e4b4558b-974d-4608-b2c6-aebf5ecd72ac",
   "metadata": {},
   "source": [
    "! qiime metadata tabulate \\\n",
    "    --m-input-file $data_dir/demux_seqs_qc_stats.qza \\\n",
    "    --o-visualization $data_dir/demux_seqs_qc_stats.qzv"
   ]
  },
  {
   "cell_type": "raw",
   "id": "f345ed12-1058-48bc-9049-46965c48256e",
   "metadata": {
    "tags": []
   },
   "source": [
    "Visualization.load(f'{data_dir}/demux_seqs_qc_stats.qzv')"
   ]
  },
  {
   "cell_type": "raw",
   "id": "78257135-47ba-440d-9add-a8e9a4415494",
   "metadata": {},
   "source": [
    "! qiime demux summarize \\\n",
    "    --i-data $data_dir/demux_seqs_qc.qza \\\n",
    "    --o-visualization $data_dir/demux_seqs_qc.qzv"
   ]
  },
  {
   "cell_type": "raw",
   "id": "014ff6c0-5871-4374-b235-7f09a64a31f5",
   "metadata": {
    "tags": []
   },
   "source": [
    "Visualization.load(f'{data_dir}/demux_seqs_qc.qzv')"
   ]
  },
  {
   "cell_type": "markdown",
   "id": "d000dbfc-0e47-42c9-a3d4-00b511d9562d",
   "metadata": {},
   "source": [
    "### Dereplication and Chimera removal"
   ]
  },
  {
   "cell_type": "raw",
   "id": "d84a71bc-f64d-4912-aa0c-b0bc858f5352",
   "metadata": {},
   "source": [
    "# Dereplication\n",
    "\n",
    "! qiime vsearch dereplicate-sequences \\\n",
    "    --i-sequences $data_dir/demux_seqs_qc.qza \\\n",
    "    --o-dereplicated-sequences $data_dir/demux_seqs_derep.qza \\\n",
    "    --o-dereplicated-table $data_dir/demux_table_derep.qza"
   ]
  },
  {
   "cell_type": "raw",
   "id": "6763b126-6a08-498e-a431-7aff1b79ccc5",
   "metadata": {},
   "source": [
    "# Chimera removal\n",
    "\n",
    "! qiime vsearch uchime-denovo \\\n",
    "    --i-sequences $data_dir/demux_seqs_derep.qza \\\n",
    "    --i-table $data_dir/demux_table_derep.qza \\\n",
    "    --o-chimeras $data_dir/demux_chimeras.qza \\\n",
    "    --o-nonchimeras $data_dir/demux_nonchimeras.qza \\\n",
    "    --o-stats $data_dir/demux_chimera_stats.qza\n"
   ]
  },
  {
   "cell_type": "raw",
   "id": "afd62a2c-7966-4b21-9192-2da8df496765",
   "metadata": {},
   "source": [
    "! qiime feature-table filter-features \\\n",
    "    --i-table $data_dir/demux_table_derep.qza \\\n",
    "    --m-metadata-file $data_dir/demux_nonchimeras.qza \\\n",
    "    --o-filtered-table $data_dir/demux_table_filtered.qza\n",
    "\n",
    "! qiime feature-table filter-seqs \\\n",
    "    --i-data $data_dir/demux_seqs_derep.qza \\\n",
    "    --m-metadata-file $data_dir/demux_nonchimeras.qza \\\n",
    "    --o-filtered-data $data_dir/demux_seqs_filtered.qza\n",
    "\n",
    "! qiime feature-table summarize \\\n",
    "    --i-table $data_dir/demux_table_filtered.qza \\\n",
    "    --o-visualization $data_dir/demux_table_filtered.qzv"
   ]
  },
  {
   "cell_type": "raw",
   "id": "32a43d19-7a54-49c8-9989-aaf059e07f4b",
   "metadata": {},
   "source": [
    "Visualization.load(f'{data_dir}/demux_table_filtered.qzv')"
   ]
  },
  {
   "cell_type": "markdown",
   "id": "df122826-e6a0-438a-94d1-c5ac9fca1f37",
   "metadata": {},
   "source": [
    "### Clustering"
   ]
  },
  {
   "cell_type": "markdown",
   "id": "120d9ed8-1518-413c-ba03-e8087cdcbcb4",
   "metadata": {},
   "source": [
    "a) De novo clustering"
   ]
  },
  {
   "cell_type": "raw",
   "id": "56930334-47b6-408a-b75a-258750257039",
   "metadata": {},
   "source": [
    "! qiime vsearch cluster-features-de-novo \\\n",
    "    --i-table $data_dir/demux_table_filtered.qza \\\n",
    "    --i-sequences $data_dir/demux_seqs_filtered.qza \\\n",
    "    --p-perc-identity 0.91 \\\n",
    "    --p-threads 3 \\\n",
    "    --o-clustered-table $data_dir/demux_table_de_novo_91.qza \\\n",
    "    --o-clustered-sequences $data_dir/demux_rep_set_de_novo_91.qza"
   ]
  },
  {
   "cell_type": "raw",
   "id": "1331e147-ad67-431c-b40e-f50812e72f28",
   "metadata": {},
   "source": [
    "! qiime feature-table tabulate-seqs \\\n",
    "    --i-data $data_dir/demux_rep_set_de_novo_91.qza \\\n",
    "    --o-visualization $data_dir/demux_rep_set_de_novo_91.qzv\n",
    "\n",
    "! qiime feature-table summarize \\\n",
    "    --i-table $data_dir/demux_table_de_novo_91.qza \\\n",
    "    --m-sample-metadata-file $data_dir/metadata.tsv \\\n",
    "    --o-visualization $data_dir/demux_table_de_novo_91.qzv"
   ]
  },
  {
   "cell_type": "raw",
   "id": "c35fc1bb-febb-4fcd-834b-b78ba3982f64",
   "metadata": {},
   "source": [
    "Visualization.load(f'{data_dir}/demux_rep_set_de_novo_91.qzv')"
   ]
  },
  {
   "cell_type": "raw",
   "id": "640e6e68-6ea1-415f-887f-2a14cf09cb78",
   "metadata": {},
   "source": [
    "Visualization.load(f'{data_dir}/demux_table_de_novo_91.qzv')"
   ]
  },
  {
   "cell_type": "markdown",
   "id": "4f1c566b-fccc-4da9-b084-5ca0a95fd0a9",
   "metadata": {},
   "source": [
    "b) Open reference clustering"
   ]
  },
  {
   "cell_type": "raw",
   "id": "d699808b-553c-45de-b0cb-6be65699550c",
   "metadata": {},
   "source": [
    "! qiime tools import \\\n",
    "    --type 'FeatureData[Sequence]' \\\n",
    "    --input-path $data_dir/91_otus.fasta \\\n",
    "    --output-path $data_dir/91_otus.qza"
   ]
  },
  {
   "cell_type": "raw",
   "id": "eafa0a91-fe0d-4e7e-9ff7-d704d52edf44",
   "metadata": {},
   "source": [
    "! qiime vsearch cluster-features-open-reference \\\n",
    "    --i-table $data_dir/demux_table_filtered.qza \\\n",
    "    --i-sequences $data_dir/demux_seqs_filtered.qza \\\n",
    "    --i-reference-sequences $data_dir/91_otus.qza \\\n",
    "    --p-perc-identity 0.91 \\\n",
    "    --p-threads 3 \\\n",
    "    --o-clustered-table $data_dir/demux_table_open_ref_91.qza \\\n",
    "    --o-clustered-sequences $data_dir/demux_seqs_open_ref_91.qza \\\n",
    "    --o-new-reference-sequences $data_dir/demux_seqs_open_ref_new_91.qza"
   ]
  },
  {
   "cell_type": "raw",
   "id": "e6432b6a-bb27-4d91-ac5e-a38fa9d3b80f",
   "metadata": {},
   "source": [
    "! qiime feature-table tabulate-seqs \\\n",
    "    --i-data $data_dir/demux_seqs_open_ref_91.qza \\\n",
    "    --o-visualization $data_dir/demux_seqs_open_ref_91.qzv\n",
    "\n",
    "! qiime feature-table summarize \\\n",
    "    --i-table $data_dir/demux_table_open_ref_91.qza \\\n",
    "    --m-sample-metadata-file $data_dir/metadata.tsv \\\n",
    "    --o-visualization $data_dir/demux_table_open_ref_91.qzv"
   ]
  },
  {
   "cell_type": "raw",
   "id": "e22ec1aa-6265-4483-a49d-4b81786df49b",
   "metadata": {},
   "source": [
    "Visualization.load(f'{data_dir}/demux_seqs_open_ref_91.qzv')"
   ]
  },
  {
   "cell_type": "raw",
   "id": "63e304a1-3bac-4bdb-bea6-a00e1a12efc5",
   "metadata": {},
   "source": [
    "Visualization.load(f'{data_dir}/demux_table_open_ref_91.qzv')"
   ]
  }
 ],
 "metadata": {
  "kernelspec": {
   "display_name": "Python 3 (ipykernel)",
   "language": "python",
   "name": "python3"
  },
  "language_info": {
   "codemirror_mode": {
    "name": "ipython",
    "version": 3
   },
   "file_extension": ".py",
   "mimetype": "text/x-python",
   "name": "python",
   "nbconvert_exporter": "python",
   "pygments_lexer": "ipython3",
   "version": "3.8.13"
  }
 },
 "nbformat": 4,
 "nbformat_minor": 5
}
