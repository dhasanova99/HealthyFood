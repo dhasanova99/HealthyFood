{
 "cells": [
  {
   "cell_type": "markdown",
   "id": "0644ae82-b541-4fc6-a05a-233db45bc1bf",
   "metadata": {},
   "source": [
    "# Phylogeny with empress"
   ]
  },
  {
   "cell_type": "markdown",
   "id": "52d41a65-b4a4-4cf3-bdf6-d0fe3e4a9c77",
   "metadata": {},
   "source": [
    "<a id='setup'></a>\n",
    "\n",
    "## 1. Setup"
   ]
  },
  {
   "cell_type": "code",
   "execution_count": 5,
   "id": "c78f2656-9370-416e-bc48-044b9648089f",
   "metadata": {},
   "outputs": [],
   "source": [
    "from qiime2 import Visualization\n",
    "import os\n",
    "import pandas as pd\n",
    "import numpy as np\n",
    "\n",
    "import qiime2 as q2\n",
    "\n",
    "%matplotlib inline\n",
    "# location of this week's data and all the results produced by this notebook \n",
    "# - this should be a path relative to your working directory\n",
    "data_dir = 'phylogeny_data'\n",
    "data_seq = 'seq_data_new'\n",
    "\n",
    "if not os.path.isdir(data_dir):\n",
    "    os.makedirs(data_dir) "
   ]
  },
  {
   "cell_type": "markdown",
   "id": "6867b258-ddde-4689-8c3b-d2193dbfdfac",
   "metadata": {},
   "source": [
    "## 2. De-novo Phylogeny analysis\n"
   ]
  },
  {
   "cell_type": "markdown",
   "id": "35bb6293-3dfa-4a10-9bb6-b7632cc84c5c",
   "metadata": {},
   "source": [
    "### 2.1 Sequence alignment"
   ]
  },
  {
   "cell_type": "code",
   "execution_count": 13,
   "id": "b0c6c18a-6f50-4d9a-9b36-9ebf5dc1a67e",
   "metadata": {},
   "outputs": [
    {
     "name": "stdout",
     "output_type": "stream",
     "text": [
      "\u001b[32mSaved FeatureData[AlignedSequence] to: phylogeny_data/aligned-rep-seqs.qza\u001b[0m\n",
      "\u001b[0m"
     ]
    }
   ],
   "source": [
    "! qiime alignment mafft \\\n",
    "    --i-sequences $data_seq/dada2_rep_set.qza \\\n",
    "    --o-alignment $data_dir/aligned-rep-seqs.qza"
   ]
  },
  {
   "cell_type": "markdown",
   "id": "3298144e-561d-48f2-b743-5b4328628ec5",
   "metadata": {},
   "source": [
    "### 2.2 Alignment masking"
   ]
  },
  {
   "cell_type": "code",
   "execution_count": 14,
   "id": "036c27eb-f099-410a-bcec-627f91d402a3",
   "metadata": {},
   "outputs": [
    {
     "name": "stdout",
     "output_type": "stream",
     "text": [
      "\u001b[32mSaved FeatureData[AlignedSequence] to: phylogeny_data/masked-aligned-rep-seqs.qza\u001b[0m\n",
      "\u001b[0m"
     ]
    }
   ],
   "source": [
    "! qiime alignment mask \\\n",
    "    --i-alignment $data_dir/aligned-rep-seqs.qza \\\n",
    "    --o-masked-alignment $data_dir/masked-aligned-rep-seqs.qza"
   ]
  },
  {
   "cell_type": "markdown",
   "id": "92bedb1b-ee36-4373-bc00-860712176fa4",
   "metadata": {},
   "source": [
    "### 2.3 Tree construction and Visualization"
   ]
  },
  {
   "cell_type": "code",
   "execution_count": 3,
   "id": "455c8413-c242-490e-b30d-236d5a6b22b4",
   "metadata": {},
   "outputs": [
    {
     "name": "stdout",
     "output_type": "stream",
     "text": [
      "\u001b[32mSaved Phylogeny[Unrooted] to: phylogeny_data/fasttree-tree.qza\u001b[0m\n",
      "\u001b[0m\u001b[32mSaved Phylogeny[Rooted] to: phylogeny_data/fasttree-tree-rooted.qza\u001b[0m\n",
      "\u001b[0m"
     ]
    }
   ],
   "source": [
    "! qiime phylogeny fasttree \\\n",
    "    --i-alignment $data_dir/masked-aligned-rep-seqs.qza \\\n",
    "    --o-tree $data_dir/fasttree-tree.qza\n",
    "\n",
    "! qiime phylogeny midpoint-root \\\n",
    "    --i-tree $data_dir/fasttree-tree.qza \\\n",
    "    --o-rooted-tree $data_dir/fasttree-tree-rooted.qza"
   ]
  },
  {
   "cell_type": "code",
   "execution_count": null,
   "id": "46175153-8818-484f-b1df-46c1f44ed46a",
   "metadata": {},
   "outputs": [],
   "source": [
    "#### 2.3.1 Visualization using qiime2"
   ]
  },
  {
   "cell_type": "code",
   "execution_count": 4,
   "id": "a84ee180-fa3f-46ee-82bc-bdf95538b051",
   "metadata": {},
   "outputs": [
    {
     "name": "stdout",
     "output_type": "stream",
     "text": [
      "\u001b[31m\u001b[1mThere was an issue with loading the file phylogeny_data/taxonomy.qza as metadata:\n",
      "\n",
      "  Metadata file path doesn't exist, or the path points to something other than a file. Please check that the path exists, has read permissions, and points to a regular file (not a directory): phylogeny_data/taxonomy.qza\n",
      "\n",
      "  There may be more errors present in the metadata file. To get a full report, sample/feature metadata files can be validated with Keemei: https://keemei.qiime2.org\n",
      "\n",
      "  Find details on QIIME 2 metadata requirements here: https://docs.qiime2.org/2022.2/tutorials/metadata/\u001b[0m\n",
      "\n",
      "\u001b[0m"
     ]
    }
   ],
   "source": [
    "! qiime empress tree-plot \\\n",
    "    --i-tree $data_dir/fasttree-tree-rooted.qza \\\n",
    "    --m-feature-metadata-file $data_dir/taxonomy.qza \\\n",
    "    --o-visualization $data_dir/fasttree-tree-rooted.qzv"
   ]
  },
  {
   "cell_type": "code",
   "execution_count": null,
   "id": "b04a8ab6-27df-4838-839d-102126c0d5d4",
   "metadata": {},
   "outputs": [],
   "source": [
    "Visualization.load(f'{data_dir}/fasttree-tree-rooted.qzv')"
   ]
  },
  {
   "cell_type": "markdown",
   "id": "9f5d68d7-eed3-45a2-b335-9fbc6b295882",
   "metadata": {},
   "source": [
    "### 2.3 Bootstrapping"
   ]
  },
  {
   "cell_type": "code",
   "execution_count": null,
   "id": "4b8933cb-63e8-421b-9b8e-50a40655cd4a",
   "metadata": {},
   "outputs": [],
   "source": [
    "! qiime phylogeny raxml-rapid-bootstrap \\\n",
    "    --i-alignment $data_dir/masked-aligned-rep-seqs.qza \\\n",
    "    --p-seed 1723 \\\n",
    "    --p-rapid-bootstrap-seed 9384 \\\n",
    "    --p-bootstrap-replicates 100 \\\n",
    "    --p-substitution-model GTRCAT \\\n",
    "    --p-n-threads 3 \\\n",
    "    --o-tree $data_dir/raxml-cat-bootstrap-tree.qza"
   ]
  },
  {
   "cell_type": "code",
   "execution_count": null,
   "id": "86cac3cc-157d-4cd7-807e-535a528ed5dd",
   "metadata": {},
   "outputs": [],
   "source": [
    "! qiime phylogeny midpoint-root \\\n",
    "    --i-tree $data_dir/raxml-cat-bootstrap-tree.qza \\\n",
    "    --o-rooted-tree $data_dir/raxml-cat-bootstrap-tree-rooted.qza"
   ]
  },
  {
   "cell_type": "code",
   "execution_count": null,
   "id": "7b6f9f31-6070-4a96-826f-b2fee703ccfb",
   "metadata": {},
   "outputs": [],
   "source": [
    "! qiime empress tree-plot \\\n",
    "    --i-tree $data_dir/raxml-cat-bootstrap-tree-rooted.qza \\\n",
    "    --m-feature-metadata-file $data_dir/taxonomy.qza \\\n",
    "    --o-visualization $data_dir/raxml-cat-bootstrap-tree-rooted.qzv"
   ]
  },
  {
   "cell_type": "code",
   "execution_count": null,
   "id": "ef825ff5-3843-41d1-a6ec-ba887d7f72f8",
   "metadata": {},
   "outputs": [],
   "source": [
    "Visualization.load(f'{data_dir}/raxml-cat-bootstrap-tree-rooted.qzv')"
   ]
  },
  {
   "cell_type": "markdown",
   "id": "5d6a14d3-1b79-4fed-9ac6-d09fcd47531c",
   "metadata": {},
   "source": [
    "### 2.4 Fragment insertion"
   ]
  },
  {
   "cell_type": "code",
   "execution_count": null,
   "id": "b8d9266b-443b-4426-8d9d-dc5c0da21941",
   "metadata": {},
   "outputs": [],
   "source": [
    "! wget -nv -O $data_dir/sepp-refs-gg-13-8.qza https://data.qiime2.org/2021.4/common/sepp-refs-gg-13-8.qza"
   ]
  },
  {
   "cell_type": "code",
   "execution_count": null,
   "id": "c284d559-2710-4c68-a22c-e4f4f37d6e83",
   "metadata": {},
   "outputs": [],
   "source": [
    "! qiime fragment-insertion sepp \\\n",
    "    --i-representative-sequences $data_dir/rep-seqs-filtered.qza \\\n",
    "    --i-reference-database $data_dir/sepp-refs-gg-13-8.qza \\\n",
    "    --p-threads 2 \\\n",
    "    --o-tree $data_dir/sepp-tree.qza \\\n",
    "    --o-placements $data_dir/sepp-tree-placements.qza"
   ]
  },
  {
   "cell_type": "code",
   "execution_count": null,
   "id": "77e1a9ce-cd93-46de-9dc8-a1155051a07f",
   "metadata": {},
   "outputs": [],
   "source": [
    "! qiime empress tree-plot \\\n",
    "    --i-tree $data_dir/sepp-tree.qza \\\n",
    "    --m-feature-metadata-file $data_dir/taxonomy.qza \\\n",
    "    --o-visualization $data_dir/sepp-tree.qzv"
   ]
  },
  {
   "cell_type": "code",
   "execution_count": null,
   "id": "5e7851dc-66c6-4055-b30e-77b4b9eb37dc",
   "metadata": {},
   "outputs": [],
   "source": [
    "Visualization.load(f'{data_dir}/sepp-tree.qzv')"
   ]
  }
 ],
 "metadata": {
  "kernelspec": {
   "display_name": "Python 3 (ipykernel)",
   "language": "python",
   "name": "python3"
  },
  "language_info": {
   "codemirror_mode": {
    "name": "ipython",
    "version": 3
   },
   "file_extension": ".py",
   "mimetype": "text/x-python",
   "name": "python",
   "nbconvert_exporter": "python",
   "pygments_lexer": "ipython3",
   "version": "3.8.13"
  }
 },
 "nbformat": 4,
 "nbformat_minor": 5
}
