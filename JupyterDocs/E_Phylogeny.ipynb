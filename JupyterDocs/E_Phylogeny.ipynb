{
 "cells": [
  {
   "cell_type": "markdown",
   "id": "0644ae82-b541-4fc6-a05a-233db45bc1bf",
   "metadata": {},
   "source": [
    "# Phylogeny Analysis"
   ]
  },
  {
   "cell_type": "markdown",
   "id": "2b3440ab-de32-413b-abfb-3dbd30f51ed7",
   "metadata": {},
   "source": [
    "#### Notebook overview \n",
    "\n",
    "[1. Setup](#setup)<br>\n",
    "&nbsp;&nbsp;&nbsp;&nbsp;[1.1 _Data Import_](#import_data)<br>\n",
    "&nbsp;&nbsp;&nbsp;&nbsp;[1.2 Fragment insertion](#import_data)\n",
    "[2. De-novo Phylogeny analysis](#De_novo_Phylogeny_analysis)<br>\n",
    "&nbsp;&nbsp;&nbsp;&nbsp;[2.1 _Sequence alignment_](#sequence_alignment)<br>\n",
    "&nbsp;&nbsp;&nbsp;&nbsp;[2.2 _Alignment masking_](#alignment_masking)<br>\n",
    "&nbsp;&nbsp;&nbsp;&nbsp;[2.3 _Tree construction and visualization using FastTree_](#FastTree)<br>\n",
    "&nbsp;&nbsp;&nbsp;&nbsp;[2.4 _Bootstrapping with RaxML_](#bootstrapping)<br>\n",
    "&nbsp;&nbsp;&nbsp;&nbsp;[2.5 _Tree construction with RaxML tree search_](#RaxMl)<br>\n",
    "[3. Fragment insertion](#fragment_insertion)<br>\n",
    "\n"
   ]
  },
  {
   "cell_type": "markdown",
   "id": "52d41a65-b4a4-4cf3-bdf6-d0fe3e4a9c77",
   "metadata": {},
   "source": [
    "<a id='setup'></a>\n",
    "\n",
    "## 1. Setup"
   ]
  },
  {
   "cell_type": "code",
   "execution_count": 1,
   "id": "c78f2656-9370-416e-bc48-044b9648089f",
   "metadata": {},
   "outputs": [],
   "source": [
    "from qiime2 import Visualization\n",
    "import os\n",
    "import pandas as pd\n",
    "import numpy as np\n",
    "\n",
    "import qiime2 as q2\n",
    "\n",
    "%matplotlib inline\n",
    "# location of this week's data and all the results produced by this notebook \n",
    "data_dir = 'project_data'\n",
    "\n",
    "\n",
    "if not os.path.isdir(data_dir):\n",
    "    os.makedirs(data_dir) "
   ]
  },
  {
   "cell_type": "markdown",
   "id": "57192baf-39a3-4a7c-885b-4c125797bbda",
   "metadata": {},
   "source": [
    "<a id='import_data'></a>\n",
    "### 1.1 Import data"
   ]
  },
  {
   "cell_type": "code",
   "execution_count": 3,
   "id": "caca67e2-72c2-4994-a29a-b688e7a35557",
   "metadata": {},
   "outputs": [
    {
     "name": "stdout",
     "output_type": "stream",
     "text": [
      "2022-11-12 18:30:03 URL:https://polybox.ethz.ch/index.php/s/MBLSUQXzglnn66u/download?path=%2F&files=Sequences_rep_set.qza [390624/390624] -> \"project_data/rep-seqs.qza\" [1]\n",
      "2022-11-12 18:30:04 URL:https://polybox.ethz.ch/index.php/s/MBLSUQXzglnn66u/download?path=%2F&files=Feature_table.qza [504534/504534] -> \"project_data/table.qza\" [1]\n"
     ]
    }
   ],
   "source": [
    "#filtered sequence\n",
    "! wget -nv -O $data_dir/rep-seqs.qza 'https://polybox.ethz.ch/index.php/s/MBLSUQXzglnn66u/download?path=%2F&files=Sequences_rep_set.qza'\n",
    "\n",
    "# Taxonomy file generate from silva\n",
    "! wget -nv -O $data_dir/taxonomy_1.qza 'https://polybox.ethz.ch/index.php/s/MBLSUQXzglnn66u/download?path=%2F&files=taxonomy_1.qza'"
   ]
  },
  {
   "cell_type": "markdown",
   "id": "6867b258-ddde-4689-8c3b-d2193dbfdfac",
   "metadata": {},
   "source": [
    "<a id='De_novo_Phylogeny_analysis'></a>\n",
    "\n",
    "## 2. De-novo Phylogeny analysis\n"
   ]
  },
  {
   "cell_type": "markdown",
   "id": "35bb6293-3dfa-4a10-9bb6-b7632cc84c5c",
   "metadata": {},
   "source": [
    "<a id='sequence_alignment'></a>\n",
    "### 2.1 Sequence alignment"
   ]
  },
  {
   "cell_type": "code",
   "execution_count": 6,
   "id": "b0c6c18a-6f50-4d9a-9b36-9ebf5dc1a67e",
   "metadata": {},
   "outputs": [
    {
     "name": "stdout",
     "output_type": "stream",
     "text": [
      "\u001b[32mSaved FeatureData[AlignedSequence] to: project_data/aligned-rep-seqs.qza\u001b[0m\n",
      "\u001b[0m"
     ]
    }
   ],
   "source": [
    "! qiime alignment mafft \\\n",
    "    --i-sequences $data_dir/rep-seqs.qza \\\n",
    "    --o-alignment $data_dir/aligned-rep-seqs.qza"
   ]
  },
  {
   "cell_type": "markdown",
   "id": "3298144e-561d-48f2-b743-5b4328628ec5",
   "metadata": {},
   "source": [
    "<a id='alignment_masking'></a>\n",
    "### 2.2 Alignment masking"
   ]
  },
  {
   "cell_type": "code",
   "execution_count": 8,
   "id": "036c27eb-f099-410a-bcec-627f91d402a3",
   "metadata": {},
   "outputs": [
    {
     "name": "stdout",
     "output_type": "stream",
     "text": [
      "\u001b[32mSaved FeatureData[AlignedSequence] to: project_data/masked-aligned-rep-seqs.qza\u001b[0m\n",
      "\u001b[0m"
     ]
    }
   ],
   "source": [
    "! qiime alignment mask \\\n",
    "    --i-alignment $data_dir/aligned-rep-seqs.qza \\\n",
    "    --o-masked-alignment $data_dir/masked-aligned-rep-seqs.qza"
   ]
  },
  {
   "cell_type": "markdown",
   "id": "92bedb1b-ee36-4373-bc00-860712176fa4",
   "metadata": {},
   "source": [
    "<a id='FastTree'></a>\n",
    "### 2.3 Tree construction and Visualization"
   ]
  },
  {
   "cell_type": "code",
   "execution_count": 9,
   "id": "455c8413-c242-490e-b30d-236d5a6b22b4",
   "metadata": {},
   "outputs": [
    {
     "name": "stdout",
     "output_type": "stream",
     "text": [
      "\u001b[32mSaved Phylogeny[Unrooted] to: project_data/fasttree-tree.qza\u001b[0m\n",
      "\u001b[0m\u001b[32mSaved Phylogeny[Rooted] to: project_data/fasttree-tree-rooted.qza\u001b[0m\n",
      "\u001b[0m"
     ]
    }
   ],
   "source": [
    "! qiime phylogeny fasttree \\\n",
    "    --i-alignment $data_dir/masked-aligned-rep-seqs.qza \\\n",
    "    --o-tree $data_dir/fasttree-tree.qza\n",
    "\n",
    "#Rooting the tree\n",
    "! qiime phylogeny midpoint-root \\\n",
    "    --i-tree $data_dir/fasttree-tree.qza \\\n",
    "    --o-rooted-tree $data_dir/fasttree-tree-rooted.qza"
   ]
  },
  {
   "cell_type": "markdown",
   "id": "2647e6a9-068a-4d42-ba1c-32c23c62b384",
   "metadata": {},
   "source": [
    "#### 2.3.1 Visualization using qiime2"
   ]
  },
  {
   "cell_type": "code",
   "execution_count": 11,
   "id": "a84ee180-fa3f-46ee-82bc-bdf95538b051",
   "metadata": {},
   "outputs": [
    {
     "name": "stdout",
     "output_type": "stream",
     "text": [
      "\u001b[32mSaved Visualization to: project_data/fasttree-tree-rooted.qzv\u001b[0m\n",
      "\u001b[0m"
     ]
    }
   ],
   "source": [
    "! qiime empress tree-plot \\\n",
    "    --i-tree $data_dir/fasttree-tree-rooted.qza \\\n",
    "    --m-feature-metadata-file $data_dir/taxonomy_1.qza \\\n",
    "    --o-visualization $data_dir/fasttree-tree-rooted.qzv"
   ]
  },
  {
   "cell_type": "code",
   "execution_count": 2,
   "id": "b04a8ab6-27df-4838-839d-102126c0d5d4",
   "metadata": {},
   "outputs": [
    {
     "data": {
      "text/html": [
       "<div><img onload=\"(function(div, url){\n",
       "if (typeof require !== 'undefined') {\n",
       "    var baseURL = require.toUrl('').split('/').slice(0, -2).join('/');\n",
       "} else {\n",
       "    var baseURL = JSON.parse(\n",
       "        document.getElementById('jupyter-config-data').innerHTML\n",
       "    ).baseUrl.slice(0, -1);\n",
       "}\n",
       "url = baseURL + url;\n",
       "fetch(url).then(function(res) {\n",
       "    if (res.status === 404) {\n",
       "        div.innerHTML = 'Install QIIME 2 Jupyter extension with:<br />' +\n",
       "                        '<code>jupyter serverextension enable --py qiime2' +\n",
       "                        ' --sys-prefix</code><br />then restart your server.' +\n",
       "                        '<br /><br />(Interactive output not available on ' +\n",
       "                        'static notebook viewer services like nbviewer.)';\n",
       "    } else if (res.status === 409) {\n",
       "        div.innerHTML = 'Visualization no longer in scope. Re-run this cell' +\n",
       "                        ' to see the visualization.';\n",
       "    } else if (res.ok) {\n",
       "        url = res.url;\n",
       "        div.innerHTML = '<iframe src=\\'' + url + '\\' style=\\'' +\n",
       "                        'width: 100%; height: 700px; border: 0;\\'>' +\n",
       "                        '</iframe><hr />Open in a: <a href=\\'' + url + '\\'' +\n",
       "                        ' target=\\'_blank\\'>new window</a>'\n",
       "    } else {\n",
       "        div.innerHTML = 'Something has gone wrong. Check notebook server for' +\n",
       "                        ' errors.';\n",
       "    }\n",
       "});\n",
       "})(this.parentElement, '/qiime2/redirect?location=/tmp/qiime2-archive-fu7qfpa5')\" src=\"data:image/gif;base64,R0lGODlhAQABAIAAAP///wAAACH5BAEAAAAALAAAAAABAAEAAAICRAEAOw==\" /></div>"
      ],
      "text/plain": [
       "<visualization: Visualization uuid: b53e509a-d446-4a90-9397-9c1db0235468>"
      ]
     },
     "execution_count": 2,
     "metadata": {},
     "output_type": "execute_result"
    }
   ],
   "source": [
    "Visualization.load(f'{data_dir}/fasttree-tree-rooted.qzv')"
   ]
  },
  {
   "cell_type": "markdown",
   "id": "3bbb9906-45c5-48cc-b6f0-db4e2d9e6ecf",
   "metadata": {},
   "source": [
    "### Note\n",
    "\n",
    "Bootsrapping Fragment insertion and RaxML tree search methods were not able to be executed due to unsufficient computational ressources."
   ]
  },
  {
   "cell_type": "markdown",
   "id": "9f5d68d7-eed3-45a2-b335-9fbc6b295882",
   "metadata": {},
   "source": [
    "<a id='bootstrapping'></a>\n",
    "### 2.4 Bootstrapping"
   ]
  },
  {
   "cell_type": "markdown",
   "id": "3f89ead1-4529-4774-8504-b3a89772df94",
   "metadata": {},
   "source": [
    "! qiime phylogeny raxml-rapid-bootstrap \\\n",
    "    --i-alignment $data_dir/masked-aligned-rep-seqs.qza \\\n",
    "    --p-seed 1723 \\\n",
    "    --p-rapid-bootstrap-seed 9384 \\\n",
    "    --p-bootstrap-replicates 100 \\\n",
    "    --p-substitution-model GTRCAT \\\n",
    "    --p-n-threads 3 \\\n",
    "    --o-tree $data_dir/raxml-cat-bootstrap-tree.qza"
   ]
  },
  {
   "cell_type": "markdown",
   "id": "f426df0d-b6bf-491d-bb9f-d3ee67c2b1b9",
   "metadata": {},
   "source": [
    "! qiime phylogeny midpoint-root \\\n",
    "    --i-tree $data_dir/raxml-cat-bootstrap-tree.qza \\\n",
    "    --o-rooted-tree $data_dir/raxml-cat-bootstrap-tree-rooted.qza"
   ]
  },
  {
   "cell_type": "markdown",
   "id": "ed3a5b01-9325-4fa3-a064-e3cba081b380",
   "metadata": {},
   "source": [
    "! qiime empress tree-plot \\\n",
    "    --i-tree $data_dir/raxml-cat-bootstrap-tree-rooted.qza \\\n",
    "    --m-feature-metadata-file $data_dir/taxonomy.qza \\\n",
    "    --o-visualization $data_dir/raxml-cat-bootstrap-tree-rooted.qzv"
   ]
  },
  {
   "cell_type": "markdown",
   "id": "6c0b3623-7090-45f8-bf20-d5d469734581",
   "metadata": {},
   "source": [
    "Visualization.load(f'{data_dir}/raxml-cat-bootstrap-tree-rooted.qzv')"
   ]
  },
  {
   "cell_type": "markdown",
   "id": "874bddb6-392a-44d0-8701-be4b777197e1",
   "metadata": {},
   "source": [
    "<a id='RaxMl'></a>\n",
    "### 2.5 Tree construction and Visualization using RaxMl tree search"
   ]
  },
  {
   "cell_type": "markdown",
   "id": "b8b383e6-72f6-4396-998c-8b0f31bc605e",
   "metadata": {},
   "source": [
    "! qiime phylogeny raxml \\\n",
    "      --i-alignment $data_dir/masked-aligned-rep-seqs.qza \\\n",
    "      --p-substitution-model GTRCAT \\\n",
    "      --p-seed 1723 \\\n",
    "      --p-n-searches 3 \\\n",
    "      --o-tree $data_dir/raxml-cat-searches-tree.qza"
   ]
  },
  {
   "cell_type": "markdown",
   "id": "5d6a14d3-1b79-4fed-9ac6-d09fcd47531c",
   "metadata": {},
   "source": [
    "<a id='fragment_insertion'></a>\n",
    "## 3. Fragment insertion"
   ]
  },
  {
   "cell_type": "markdown",
   "id": "860701b6-5ef3-41ba-b431-a0677ea73eb4",
   "metadata": {},
   "source": [
    "! wget -nv -O $data_dir/sepp-refs-gg-13-8.qza https://data.qiime2.org/2021.4/common/sepp-refs-gg-13-8.qza"
   ]
  },
  {
   "cell_type": "markdown",
   "id": "a3ba93d1-3329-4412-864e-7623de3969ef",
   "metadata": {},
   "source": [
    "! qiime fragment-insertion sepp \\\n",
    "    --i-representative-sequences $data_dir/rep-seqs.qza \\\n",
    "    --i-reference-database $data_dir/sepp-refs-gg-13-8.qza \\\n",
    "    --p-threads 2 \\\n",
    "    --o-tree $data_dir/sepp-tree.qza \\\n",
    "    --o-placements $data_dir/sepp-tree-placements.qza"
   ]
  },
  {
   "cell_type": "markdown",
   "id": "7730e7e2-d476-42dc-9909-4dbf083a24cb",
   "metadata": {},
   "source": [
    "! qiime empress tree-plot \\\n",
    "    --i-tree $data_dir/sepp-tree.qza \\\n",
    "    --m-feature-metadata-file $data_dir/taxonomy_1.qza \\\n",
    "    --o-visualization $data_dir/sepp-tree.qzv"
   ]
  },
  {
   "cell_type": "markdown",
   "id": "37e591d3-6030-4793-9de8-317af5d7a090",
   "metadata": {},
   "source": [
    "Visualization.load(f'{data_dir}/sepp-tree.qzv')"
   ]
  }
 ],
 "metadata": {
  "kernelspec": {
   "display_name": "Python 3 (ipykernel)",
   "language": "python",
   "name": "python3"
  },
  "language_info": {
   "codemirror_mode": {
    "name": "ipython",
    "version": 3
   },
   "file_extension": ".py",
   "mimetype": "text/x-python",
   "name": "python",
   "nbconvert_exporter": "python",
   "pygments_lexer": "ipython3",
   "version": "3.8.13"
  }
 },
 "nbformat": 4,
 "nbformat_minor": 5
}
