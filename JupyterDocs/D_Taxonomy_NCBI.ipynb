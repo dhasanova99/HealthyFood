{
 "cells": [
  {
   "cell_type": "markdown",
   "id": "e550c2dd",
   "metadata": {},
   "source": [
    "# Taxonomy classification"
   ]
  },
  {
   "cell_type": "markdown",
   "id": "2c037e47",
   "metadata": {},
   "source": [
    "**Overview:**<br>\n",
    "[1. Setup](#setup)<br>\n",
    "[2. Taxonomy assignment](#tax_assignment_main)<br>\n",
    "&nbsp;&nbsp;&nbsp;&nbsp;[2.1 Reference database construction](#ref_db)<br>\n",
    "&nbsp;&nbsp;&nbsp;&nbsp;[2.2 Training taxonomy classifier](#train_classifier)<br>\n",
    "&nbsp;&nbsp;&nbsp;&nbsp;[2.3 Taxonomy assignment](#tax_assignment)<br>\n",
    "&nbsp;&nbsp;&nbsp;&nbsp;[2.4 Taxonomy visualization](#tax_visualization)<br>"
   ]
  },
  {
   "cell_type": "markdown",
   "id": "a18e8b06",
   "metadata": {},
   "source": [
    "<a id='setup'></a>\n",
    "\n",
    "## 1. Setup"
   ]
  },
  {
   "cell_type": "markdown",
   "id": "b2a0bc87",
   "metadata": {},
   "source": [
    "The cell below will import all the packages required in the downstream analyses as well as set all the necessary variables and data paths."
   ]
  },
  {
   "cell_type": "code",
   "execution_count": 1,
   "id": "72951683",
   "metadata": {
    "tags": []
   },
   "outputs": [],
   "source": [
    "import os\n",
    "import pandas as pd\n",
    "from qiime2 import Visualization\n",
    "import matplotlib.pyplot as plt\n",
    "import numpy as np\n",
    "\n",
    "import qiime2 as q2\n",
    "\n",
    "%matplotlib inline\n",
    "\n",
    "# location of the data and all the results produced by this notebook \n",
    "data_dir = 'project_data'\n",
    "\n",
    "if not os.path.isdir(data_dir):\n",
    "    os.makedirs(data_dir)"
   ]
  },
  {
   "cell_type": "markdown",
   "id": "611b2dee-bd7f-41f9-bcb0-e0466eff80ef",
   "metadata": {},
   "source": [
    "Download the `FeatureData[Sequence]` from our data which was made in the FirstLook.ipynb:"
   ]
  },
  {
   "cell_type": "code",
   "execution_count": 2,
   "id": "b97ec799-162e-46a2-8564-3b90847be7fc",
   "metadata": {},
   "outputs": [
    {
     "name": "stdout",
     "output_type": "stream",
     "text": [
      "2022-11-09 09:05:42 URL:https://polybox.ethz.ch/index.php/s/MBLSUQXzglnn66u/download?path=%2F&files=Sequences_rep_set.qza [390624/390624] -> \"project_data/rep-seqs.qza\" [1]\n"
     ]
    }
   ],
   "source": [
    "! wget -nv -O $data_dir/rep-seqs.qza 'https://polybox.ethz.ch/index.php/s/MBLSUQXzglnn66u/download?path=%2F&files=Sequences_rep_set.qza'"
   ]
  },
  {
   "cell_type": "code",
   "execution_count": 3,
   "id": "240969d9-0c8c-4a33-af80-a3fc446a5a06",
   "metadata": {},
   "outputs": [
    {
     "name": "stdout",
     "output_type": "stream",
     "text": [
      "\u001b[32mSaved Visualization to: project_data/rep-seqs.qzv\u001b[0m\n",
      "\u001b[0m"
     ]
    }
   ],
   "source": [
    "! qiime metadata tabulate \\\n",
    "    --m-input-file $data_dir/rep-seqs.qza \\\n",
    "    --o-visualization $data_dir/rep-seqs.qzv"
   ]
  },
  {
   "cell_type": "code",
   "execution_count": 7,
   "id": "a5ee4c6b-78dc-475e-9e6e-2eb9921fcf48",
   "metadata": {
    "collapsed": true,
    "jupyter": {
     "outputs_hidden": true
    },
    "tags": []
   },
   "outputs": [
    {
     "data": {
      "text/html": [
       "<div><img onload=\"(function(div, url){\n",
       "if (typeof require !== 'undefined') {\n",
       "    var baseURL = require.toUrl('').split('/').slice(0, -2).join('/');\n",
       "} else {\n",
       "    var baseURL = JSON.parse(\n",
       "        document.getElementById('jupyter-config-data').innerHTML\n",
       "    ).baseUrl.slice(0, -1);\n",
       "}\n",
       "url = baseURL + url;\n",
       "fetch(url).then(function(res) {\n",
       "    if (res.status === 404) {\n",
       "        div.innerHTML = 'Install QIIME 2 Jupyter extension with:<br />' +\n",
       "                        '<code>jupyter serverextension enable --py qiime2' +\n",
       "                        ' --sys-prefix</code><br />then restart your server.' +\n",
       "                        '<br /><br />(Interactive output not available on ' +\n",
       "                        'static notebook viewer services like nbviewer.)';\n",
       "    } else if (res.status === 409) {\n",
       "        div.innerHTML = 'Visualization no longer in scope. Re-run this cell' +\n",
       "                        ' to see the visualization.';\n",
       "    } else if (res.ok) {\n",
       "        url = res.url;\n",
       "        div.innerHTML = '<iframe src=\\'' + url + '\\' style=\\'' +\n",
       "                        'width: 100%; height: 700px; border: 0;\\'>' +\n",
       "                        '</iframe><hr />Open in a: <a href=\\'' + url + '\\'' +\n",
       "                        ' target=\\'_blank\\'>new window</a>'\n",
       "    } else {\n",
       "        div.innerHTML = 'Something has gone wrong. Check notebook server for' +\n",
       "                        ' errors.';\n",
       "    }\n",
       "});\n",
       "})(this.parentElement, '/qiime2/redirect?location=/tmp/qiime2-archive-clslz1du')\" src=\"data:image/gif;base64,R0lGODlhAQABAIAAAP///wAAACH5BAEAAAAALAAAAAABAAEAAAICRAEAOw==\" /></div>"
      ],
      "text/plain": [
       "<visualization: Visualization uuid: 4551ef6f-ab23-4594-9933-c842dcc22a62>"
      ]
     },
     "execution_count": 7,
     "metadata": {},
     "output_type": "execute_result"
    }
   ],
   "source": [
    "Visualization.load(f'{data_dir}/rep-seqs.qzv')"
   ]
  },
  {
   "cell_type": "markdown",
   "id": "c9c8015f-a656-477a-b8d4-79782b74761c",
   "metadata": {},
   "source": [
    "Download the `FeatureTable[Frequency]` containing a mapping of the dereplicated sequences to samples from our data which was made in the FirstLook.ipynb:\n"
   ]
  },
  {
   "cell_type": "code",
   "execution_count": 2,
   "id": "29f2128a-60c1-4ea4-b990-e672eb79236f",
   "metadata": {},
   "outputs": [
    {
     "name": "stdout",
     "output_type": "stream",
     "text": [
      "2022-11-03 11:48:13 URL:https://polybox.ethz.ch/index.php/s/MBLSUQXzglnn66u/download?path=%2F&files=Feature_table.qza [504534/504534] -> \"project_data/table.qza\" [1]\n"
     ]
    }
   ],
   "source": [
    "! wget -nv -O $data_dir/table.qza 'https://polybox.ethz.ch/index.php/s/MBLSUQXzglnn66u/download?path=%2F&files=Feature_table.qza'"
   ]
  },
  {
   "cell_type": "code",
   "execution_count": 5,
   "id": "bb7f2600-18fe-46dc-9693-c1b8e4e044a1",
   "metadata": {},
   "outputs": [
    {
     "name": "stdout",
     "output_type": "stream",
     "text": [
      "\u001b[32mSaved Visualization to: project_data/table.qzv\u001b[0m\n",
      "\u001b[0m"
     ]
    }
   ],
   "source": [
    "! qiime feature-table summarize \\\n",
    "    --i-table $data_dir/table.qza \\\n",
    "    --o-visualization $data_dir/table.qzv"
   ]
  },
  {
   "cell_type": "code",
   "execution_count": 6,
   "id": "174d9186-f0b4-4b58-9947-686e3112fd5b",
   "metadata": {},
   "outputs": [
    {
     "data": {
      "text/html": [
       "<div><img onload=\"(function(div, url){\n",
       "if (typeof require !== 'undefined') {\n",
       "    var baseURL = require.toUrl('').split('/').slice(0, -2).join('/');\n",
       "} else {\n",
       "    var baseURL = JSON.parse(\n",
       "        document.getElementById('jupyter-config-data').innerHTML\n",
       "    ).baseUrl.slice(0, -1);\n",
       "}\n",
       "url = baseURL + url;\n",
       "fetch(url).then(function(res) {\n",
       "    if (res.status === 404) {\n",
       "        div.innerHTML = 'Install QIIME 2 Jupyter extension with:<br />' +\n",
       "                        '<code>jupyter serverextension enable --py qiime2' +\n",
       "                        ' --sys-prefix</code><br />then restart your server.' +\n",
       "                        '<br /><br />(Interactive output not available on ' +\n",
       "                        'static notebook viewer services like nbviewer.)';\n",
       "    } else if (res.status === 409) {\n",
       "        div.innerHTML = 'Visualization no longer in scope. Re-run this cell' +\n",
       "                        ' to see the visualization.';\n",
       "    } else if (res.ok) {\n",
       "        url = res.url;\n",
       "        div.innerHTML = '<iframe src=\\'' + url + '\\' style=\\'' +\n",
       "                        'width: 100%; height: 700px; border: 0;\\'>' +\n",
       "                        '</iframe><hr />Open in a: <a href=\\'' + url + '\\'' +\n",
       "                        ' target=\\'_blank\\'>new window</a>'\n",
       "    } else {\n",
       "        div.innerHTML = 'Something has gone wrong. Check notebook server for' +\n",
       "                        ' errors.';\n",
       "    }\n",
       "});\n",
       "})(this.parentElement, '/qiime2/redirect?location=/tmp/qiime2-archive-k9p32tqx')\" src=\"data:image/gif;base64,R0lGODlhAQABAIAAAP///wAAACH5BAEAAAAALAAAAAABAAEAAAICRAEAOw==\" /></div>"
      ],
      "text/plain": [
       "<visualization: Visualization uuid: 8cbf64f1-2870-457b-94cd-1eb702c56217>"
      ]
     },
     "execution_count": 6,
     "metadata": {},
     "output_type": "execute_result"
    }
   ],
   "source": [
    "Visualization.load(f'{data_dir}/table.qzv')"
   ]
  },
  {
   "cell_type": "markdown",
   "id": "d93d188a",
   "metadata": {},
   "source": [
    "## 2. Taxonomy assignment\n",
    "\n",
    "To classify the sequences into bacterial species, the assignment can be done with BLAST search of the sequences against a data base of known sequence. The methode used here is a machine learning classifier which is trained on a reference database to recognize the bacterial species in the samples.  \n"
   ]
  },
  {
   "cell_type": "markdown",
   "id": "6afca53c",
   "metadata": {},
   "source": [
    "<a id='ref_db'></a>\n",
    "\n",
    "### 2.1 Reference database construction\n",
    "\n",
    "The SSU SILVA database (version 138) using the `RESCRIPt` is used in an other notebook Taxonomy_Silva.ipynb. \n",
    "\n",
    "In this notebook [a custom database from NCBI sequences using a custom entrez query](https://forum.qiime2.org/t/using-rescript-to-compile-sequence-databases-and-taxonomy-classifiers-from-ncbi-genbank/15947) is build up and cleaned from lower-quality sequences. \n",
    "\n",
    "**Citation:** Michael S Robeson II, Devon R O'Rourke, Benjamin D Kaehler, Michal Ziemski, Matthew R Dillon, Jeffrey T Foster, Nicholas A Bokulich. 2021. \"RESCRIPt: Reproducible sequence taxonomy reference database management\". PLoS Computational Biology 17 (11): e1009581.; [doi: 10.1371/journal.pcbi.1009581](https://journals.plos.org/ploscompbiol/article?id=10.1371/journal.pcbi.1009581)"
   ]
  },
  {
   "cell_type": "markdown",
   "id": "ca5b95c2",
   "metadata": {},
   "source": [
    "#### 2.1.1 Data download"
   ]
  },
  {
   "cell_type": "markdown",
   "id": "234e4949-39bb-42ff-8626-031f6baf2f12",
   "metadata": {},
   "source": [
    "The sequences and corresponding taxonomies are downloaded with ```RESCRIPt``` for\n",
    "the NCBI 16S rRNA gene RefSeqs data and save them into respective QIIME 2 artifacts.\n",
    "\n",
    "The 7-level taxonomy with domain, phylum, class, order, family, genus, species is downloaded to make an accurate prediction of the taxonomy found in the data. "
   ]
  },
  {
   "cell_type": "code",
   "execution_count": 3,
   "id": "6a7af822-7057-465f-ac30-30293656f339",
   "metadata": {},
   "outputs": [
    {
     "name": "stdout",
     "output_type": "stream",
     "text": [
      "\u001b[32mSaved FeatureData[Sequence] to: project_data/ncbi-refseqs-unfiltered.qza\u001b[0m\n",
      "\u001b[32mSaved FeatureData[Taxonomy] to: project_data/ncbi-refseqs-taxonomy-unfiltered.qza\u001b[0m\n",
      "\u001b[0m"
     ]
    }
   ],
   "source": [
    "! qiime rescript get-ncbi-data \\\n",
    "    --p-query '33175[BioProject] OR 33317[BioProject]' \\\n",
    "    --p-n-jobs 3 \\\n",
    "    --o-sequences $data_dir/ncbi-refseqs-unfiltered.qza \\\n",
    "    --o-taxonomy $data_dir/ncbi-refseqs-taxonomy-unfiltered.qza"
   ]
  },
  {
   "cell_type": "markdown",
   "id": "693d8f17",
   "metadata": {},
   "source": [
    "#### 2.1.2 Database curation\n",
    "\n",
    "To clean up the Database, sequences that contain 5 or more ambigous bases and any homopolymers that are at least 8 bases long are removed from the database. "
   ]
  },
  {
   "cell_type": "code",
   "execution_count": 4,
   "id": "db0ef541",
   "metadata": {},
   "outputs": [
    {
     "name": "stdout",
     "output_type": "stream",
     "text": [
      "\u001b[32mSaved FeatureData[Sequence] to: project_data/ncbi-refseqs-cleaned.qza\u001b[0m\n",
      "\u001b[0m"
     ]
    }
   ],
   "source": [
    "! qiime rescript cull-seqs \\\n",
    "    --i-sequences $data_dir/ncbi-refseqs-unfiltered.qza \\\n",
    "    --p-num-degenerates 5 \\\n",
    "    --p-homopolymer-length 8 \\\n",
    "    --p-n-jobs 3 \\\n",
    "    --o-clean-sequences $data_dir/ncbi-refseqs-cleaned.qza"
   ]
  },
  {
   "cell_type": "markdown",
   "id": "e7194471-8b15-4211-920a-7b9335c22471",
   "metadata": {},
   "source": [
    "Further as some of the sequences of the NCBI 16r are unusually short and might represent truncated 16S rRNA gene sequences. These are filter out to better focus on full-length sequences.\n",
    "Sequences that are shorter than certain threshold are removed as well from the database. The threshold is specific whether the sequence belong to Archaea or Bacteria.\n"
   ]
  },
  {
   "cell_type": "code",
   "execution_count": 3,
   "id": "b695ebe2-4139-4d5d-9c97-91d4c80505e4",
   "metadata": {},
   "outputs": [
    {
     "name": "stdout",
     "output_type": "stream",
     "text": [
      "\u001b[32mSaved FeatureData[Sequence] to: project_data/ncbi-refseqs-filt.qza\u001b[0m\n",
      "\u001b[32mSaved FeatureData[Sequence] to: project_data/ncbi-refseqs-tooshort.qza\u001b[0m\n",
      "\u001b[0m"
     ]
    }
   ],
   "source": [
    "# NCBI \n",
    "! qiime rescript filter-seqs-length-by-taxon \\\n",
    "    --i-sequences $data_dir/ncbi-refseqs-cleaned.qza \\\n",
    "    --i-taxonomy $data_dir/ncbi-refseqs-taxonomy-unfiltered.qza \\\n",
    "    --p-labels Archaea Bacteria \\\n",
    "    --p-min-lens 900 1200 \\\n",
    "    --p-max-lens 1800 2400 \\\n",
    "    --o-filtered-seqs $data_dir/ncbi-refseqs-filt.qza \\\n",
    "    --o-discarded-seqs $data_dir/ncbi-refseqs-tooshort.qza"
   ]
  },
  {
   "cell_type": "markdown",
   "id": "39cbb7b0-87d6-4cb4-a79c-b6b0db7839ac",
   "metadata": {},
   "source": [
    "To make sure the taxonomies correspond to the nearly full-length sequences retained. The corresponding taxonomies are filtered out with `filter-taxa`, using the `--m-ids-to-keep-file` parameter (which takes a metadata file, including some artifacts, as input) to only retain features found in our filtered sequences file:"
   ]
  },
  {
   "cell_type": "code",
   "execution_count": 6,
   "id": "5dc4cb1d-8aa2-4a21-be5b-89d4bb853a38",
   "metadata": {},
   "outputs": [
    {
     "name": "stdout",
     "output_type": "stream",
     "text": [
      "\u001b[32mSaved FeatureData[Taxonomy] to: project_data/ncbi-refseqs-taxonomy.qza\u001b[0m\n",
      "\u001b[0m"
     ]
    }
   ],
   "source": [
    "! qiime rescript filter-taxa \\\n",
    "    --i-taxonomy $data_dir/ncbi-refseqs-taxonomy-unfiltered.qza \\\n",
    "    --m-ids-to-keep-file $data_dir/ncbi-refseqs-filt.qza \\\n",
    "    --o-filtered-taxonomy $data_dir/ncbi-refseqs-taxonomy.qza"
   ]
  },
  {
   "cell_type": "markdown",
   "id": "ddc272c4",
   "metadata": {},
   "source": [
    "In order to remove identical sequences having the same taxonomies, the database is dereplicated with the uniq mode. In case where identical sequence refere to several taxonmies the recordes are not discarded."
   ]
  },
  {
   "cell_type": "code",
   "execution_count": 8,
   "id": "7d859205",
   "metadata": {},
   "outputs": [
    {
     "name": "stdout",
     "output_type": "stream",
     "text": [
      "\u001b[32mSaved FeatureData[Sequence] to: project_data/ncbi-refseqs-derep-uniq.qza\u001b[0m\n",
      "\u001b[32mSaved FeatureData[Taxonomy] to: project_data/ncbi-refseqs-taxonomy-derep-uniq.qza\u001b[0m\n",
      "\u001b[0m"
     ]
    }
   ],
   "source": [
    "! qiime rescript dereplicate \\\n",
    "    --i-sequences $data_dir/ncbi-refseqs-filt.qza  \\\n",
    "    --i-taxa $data_dir/ncbi-refseqs-taxonomy.qza \\\n",
    "    --p-mode 'uniq' \\\n",
    "    --p-threads 3 \\\n",
    "    --o-dereplicated-sequences $data_dir/ncbi-refseqs-derep-uniq.qza \\\n",
    "    --o-dereplicated-taxa $data_dir/ncbi-refseqs-taxonomy-derep-uniq.qza"
   ]
  },
  {
   "cell_type": "markdown",
   "id": "ed9d29c9",
   "metadata": {},
   "source": [
    "#### 2.1.3 PCR-region extraction"
   ]
  },
  {
   "cell_type": "markdown",
   "id": "172740f2",
   "metadata": {},
   "source": [
    "The clasiffiers have to be trained on the same type of data as the data that is analyzed in the project in order to get the most accurate classification results. In class the region amplified during NGS library creation out of the full RNA sequence contained in the database is extracted. \n",
    "\n",
    "\n",
    "To do this, we will require sequences of both, the forward and reverse, primers used in this experiment - you can look those up in the metadata of this experiment using the [SRA Run Selector](https://trace.ncbi.nlm.nih.gov/Traces/study/?acc=ERP021896&o=acc_s%3Aa). We see the following sequences:\n",
    "\n",
    "- forward: `GTGCCAGCMGCCGCGGTAA`\n",
    "- reverse: `GGACTACHVGGGTWTCTAAT`"
   ]
  },
  {
   "cell_type": "code",
   "execution_count": 9,
   "id": "caa98818",
   "metadata": {},
   "outputs": [
    {
     "name": "stdout",
     "output_type": "stream",
     "text": [
      "\u001b[32mSaved FeatureData[Sequence] to: project_data/ncbi-refseqs-515f-806r.qza\u001b[0m\n",
      "\u001b[0m"
     ]
    }
   ],
   "source": [
    "! qiime feature-classifier extract-reads \\\n",
    "    --i-sequences $data_dir/ncbi-refseqs-derep-uniq.qza \\\n",
    "    --p-f-primer GTGCCAGCMGCCGCGGTAA \\\n",
    "    --p-r-primer GGACTACHVGGGTWTCTAAT \\\n",
    "    --p-n-jobs 3 \\\n",
    "    --p-read-orientation 'forward' \\\n",
    "    --o-reads $data_dir/ncbi-refseqs-515f-806r.qza"
   ]
  },
  {
   "cell_type": "markdown",
   "id": "31ae7c1f",
   "metadata": {},
   "source": [
    "The database has to be dereplicated again, because the reads are significantly shorter than at the beginning. The `uniq` mode is choosen again, as some sequences are annotated to different taxonomies.  "
   ]
  },
  {
   "cell_type": "code",
   "execution_count": 10,
   "id": "adb0e4ea",
   "metadata": {},
   "outputs": [
    {
     "name": "stdout",
     "output_type": "stream",
     "text": [
      "\u001b[32mSaved FeatureData[Sequence] to: project_data/ncbi-refseqs-515f-806r-uniq.qza\u001b[0m\n",
      "\u001b[32mSaved FeatureData[Taxonomy] to: project_data/ncbi-refseqs-taxonomy-515f-806r-derep-uniq.qza\u001b[0m\n",
      "\u001b[0m"
     ]
    }
   ],
   "source": [
    "! qiime rescript dereplicate \\\n",
    "    --i-sequences $data_dir/ncbi-refseqs-515f-806r.qza \\\n",
    "    --i-taxa $data_dir/ncbi-refseqs-taxonomy-derep-uniq.qza \\\n",
    "    --p-mode 'uniq' \\\n",
    "    --p-threads 3 \\\n",
    "    --o-dereplicated-sequences $data_dir/ncbi-refseqs-515f-806r-uniq.qza \\\n",
    "    --o-dereplicated-taxa  $data_dir/ncbi-refseqs-taxonomy-515f-806r-derep-uniq.qza"
   ]
  },
  {
   "cell_type": "markdown",
   "id": "6363d6e2",
   "metadata": {},
   "source": [
    "<a id='train_classifier'></a>\n",
    "\n",
    "### 2.2 Training taxonomy classifier"
   ]
  },
  {
   "cell_type": "markdown",
   "id": "30e2fcd2",
   "metadata": {},
   "source": [
    "The processed database with the extracted, dereplicated reads is used to train the classifier with the corresponding taxonomies. The Naive Bayes classifier is used as it has shown very good classification results while not being computationally too expensive.\n",
    "\n",
    "The classifier is trained based on data with known taxonomies as it is in a further step used to predict taxonomy of unknown sequences.\n",
    "\n",
    "Here training the classifier and evaluate its accuracy is done in one with `evaluate-fit-classifier`:"
   ]
  },
  {
   "cell_type": "code",
   "execution_count": null,
   "id": "3d03d319",
   "metadata": {},
   "outputs": [],
   "source": [
    "#! qiime feature-classifier fit-classifier-naive-bayes \\\n",
    "#   --i-reference-reads $data_dir/ncbi-refseqs-515f-806r-uniq.qza \\\n",
    "#    --i-reference-taxonomy $data_dir/ncbi-refseqs-taxonomy-515f-806r-derep-uniq.qza \\\n",
    "#   --o-classifier $data_dir/ncbi-515f-806r-classifier.qza"
   ]
  },
  {
   "cell_type": "code",
   "execution_count": 11,
   "id": "0395dfb9",
   "metadata": {},
   "outputs": [],
   "source": [
    "! qiime rescript evaluate-fit-classifier \\\n",
    "    --i-sequences $data_dir/ncbi-refseqs-515f-806r-uniq.qza \\\n",
    "    --i-taxonomy $data_dir/ncbi-refseqs-taxonomy-515f-806r-derep-uniq.qza \\\n",
    "    --o-classifier $data_dir/ncbi-refseqs-classifier.qza \\\n",
    "    --o-evaluation $data_dir/ncbi-refseqs-classifier-evaluation.qzv \\\n",
    "    --o-observed-taxonomy $data_dir/ncbi-refseqs-predicted-taxonomy.qza"
   ]
  },
  {
   "cell_type": "markdown",
   "id": "d1b3bba0",
   "metadata": {},
   "source": [
    "<a id='tax_assignment'></a>\n",
    "\n",
    "### 2.3 Taxonomy assignment\n",
    "\n",
    "\n",
    "After all the preprocessing steps it is time to assign taxonomy labels to the ASVs from the project data. The `classify-sklearn` action from the `feature-classifier` plugin needs two things: \n",
    "- the classifier which was trained the previous step\n",
    "- the sequences to be classified\n",
    "\n",
    "This step will require the `FeatureData[Sequence]` artifact (containing our ASVs) that were generated beforhand.\n",
    "To run the following cell at least 10 GB of available RAM is required."
   ]
  },
  {
   "cell_type": "code",
   "execution_count": 11,
   "id": "572b7633",
   "metadata": {},
   "outputs": [
    {
     "name": "stdout",
     "output_type": "stream",
     "text": [
      "\u001b[32mSaved FeatureData[Taxonomy] to: w4_data/taxonomy.qza\u001b[0m\n",
      "\u001b[0m"
     ]
    }
   ],
   "source": [
    "! qiime feature-classifier classify-sklearn \\\n",
    "    --i-classifier $data_dir/ncbi-refseqs-classifier.qza \\\n",
    "    --i-reads $data_dir/rep-seqs.qza \\\n",
    "    --o-classification $data_dir/ncbi-taxonomy.qza"
   ]
  },
  {
   "cell_type": "markdown",
   "id": "1f334078",
   "metadata": {},
   "source": [
    "A new `FeatureData[Taxonomy]` artifact should be created, containing our taxonomic assignments per feature."
   ]
  },
  {
   "cell_type": "code",
   "execution_count": 12,
   "id": "0d5b35e0",
   "metadata": {},
   "outputs": [
    {
     "name": "stdout",
     "output_type": "stream",
     "text": [
      "\u001b[32mUUID\u001b[0m:        868dff13-8e47-4622-b2ca-531d584726d6\n",
      "\u001b[32mType\u001b[0m:        FeatureData[Taxonomy]\n",
      "\u001b[32mData format\u001b[0m: TSVTaxonomyDirectoryFormat\n"
     ]
    }
   ],
   "source": [
    "! qiime tools peek $data_dir/ncbi-taxonomy.qza"
   ]
  },
  {
   "cell_type": "markdown",
   "id": "17d2cc7b",
   "metadata": {},
   "source": [
    "<a id='tax_visualization'></a>\n",
    "\n",
    "### 2.4 Taxonomy visualization\n",
    "\n",
    "The composition of the project samples is in the coming section analyzed. A tabular representation of all the features labeled with their corresponding taxonomy is created:"
   ]
  },
  {
   "cell_type": "code",
   "execution_count": 13,
   "id": "e884adc6",
   "metadata": {},
   "outputs": [
    {
     "name": "stdout",
     "output_type": "stream",
     "text": [
      "\u001b[32mSaved Visualization to: w4_data/taxonomy.qzv\u001b[0m\n",
      "\u001b[0m"
     ]
    }
   ],
   "source": [
    "! qiime metadata tabulate \\\n",
    "    --m-input-file $data_dir/ncbi-taxonomy.qza \\\n",
    "    --o-visualization $data_dir/ncbi-taxonomy.qzv"
   ]
  },
  {
   "cell_type": "markdown",
   "id": "34d3a945",
   "metadata": {},
   "source": [
    "In the table an ID of every ASV is asigned with its corresponding taxonomic assignment and the prediction confidence."
   ]
  },
  {
   "cell_type": "code",
   "execution_count": 4,
   "id": "b1128729",
   "metadata": {
    "collapsed": true,
    "jupyter": {
     "outputs_hidden": true
    },
    "tags": []
   },
   "outputs": [
    {
     "data": {
      "text/html": [
       "<div><img onload=\"(function(div, url){\n",
       "if (typeof require !== 'undefined') {\n",
       "    var baseURL = require.toUrl('').split('/').slice(0, -2).join('/');\n",
       "} else {\n",
       "    var baseURL = JSON.parse(\n",
       "        document.getElementById('jupyter-config-data').innerHTML\n",
       "    ).baseUrl.slice(0, -1);\n",
       "}\n",
       "url = baseURL + url;\n",
       "fetch(url).then(function(res) {\n",
       "    if (res.status === 404) {\n",
       "        div.innerHTML = 'Install QIIME 2 Jupyter extension with:<br />' +\n",
       "                        '<code>jupyter serverextension enable --py qiime2' +\n",
       "                        ' --sys-prefix</code><br />then restart your server.' +\n",
       "                        '<br /><br />(Interactive output not available on ' +\n",
       "                        'static notebook viewer services like nbviewer.)';\n",
       "    } else if (res.status === 409) {\n",
       "        div.innerHTML = 'Visualization no longer in scope. Re-run this cell' +\n",
       "                        ' to see the visualization.';\n",
       "    } else if (res.ok) {\n",
       "        url = res.url;\n",
       "        div.innerHTML = '<iframe src=\\'' + url + '\\' style=\\'' +\n",
       "                        'width: 100%; height: 700px; border: 0;\\'>' +\n",
       "                        '</iframe><hr />Open in a: <a href=\\'' + url + '\\'' +\n",
       "                        ' target=\\'_blank\\'>new window</a>'\n",
       "    } else {\n",
       "        div.innerHTML = 'Something has gone wrong. Check notebook server for' +\n",
       "                        ' errors.';\n",
       "    }\n",
       "});\n",
       "})(this.parentElement, '/qiime2/redirect?location=/tmp/qiime2-archive-0rgd4gil')\" src=\"data:image/gif;base64,R0lGODlhAQABAIAAAP///wAAACH5BAEAAAAALAAAAAABAAEAAAICRAEAOw==\" /></div>"
      ],
      "text/plain": [
       "<visualization: Visualization uuid: e3840f9c-beb2-482e-9d6c-41f27717c933>"
      ]
     },
     "execution_count": 4,
     "metadata": {},
     "output_type": "execute_result"
    }
   ],
   "source": [
    "Visualization.load(f'{data_dir}/ncbi-taxonomy.qzv')"
   ]
  },
  {
   "cell_type": "markdown",
   "id": "ffb437fe",
   "metadata": {},
   "source": [
    "The taxonomic information per feature can be combined with the information about the samples to get an idea of the taxonomic distribution of species is in the different samples. The data can be visualized in a bar plot. Each bar represents a single sample and is broken down proportionally to counts of every taxon."
   ]
  },
  {
   "cell_type": "code",
   "execution_count": 15,
   "id": "e3d6488a",
   "metadata": {},
   "outputs": [
    {
     "name": "stdout",
     "output_type": "stream",
     "text": [
      "\u001b[32mSaved Visualization to: w4_data/taxa-bar-plots.qzv\u001b[0m\n",
      "\u001b[0m"
     ]
    }
   ],
   "source": [
    "! qiime taxa barplot \\\n",
    "    --i-table $data_dir/table.qza \\\n",
    "    --i-taxonomy $data_dir/ncbi-taxonomy.qza \\\n",
    "    --m-metadata-file $data_dir/cleand_sample_meta_data.tsv \\\n",
    "    --o-visualization $data_dir/ncbi-taxa-bar-plots.qzv"
   ]
  },
  {
   "cell_type": "code",
   "execution_count": 5,
   "id": "251e1174",
   "metadata": {
    "collapsed": true,
    "jupyter": {
     "outputs_hidden": true
    },
    "tags": []
   },
   "outputs": [
    {
     "data": {
      "text/html": [
       "<div><img onload=\"(function(div, url){\n",
       "if (typeof require !== 'undefined') {\n",
       "    var baseURL = require.toUrl('').split('/').slice(0, -2).join('/');\n",
       "} else {\n",
       "    var baseURL = JSON.parse(\n",
       "        document.getElementById('jupyter-config-data').innerHTML\n",
       "    ).baseUrl.slice(0, -1);\n",
       "}\n",
       "url = baseURL + url;\n",
       "fetch(url).then(function(res) {\n",
       "    if (res.status === 404) {\n",
       "        div.innerHTML = 'Install QIIME 2 Jupyter extension with:<br />' +\n",
       "                        '<code>jupyter serverextension enable --py qiime2' +\n",
       "                        ' --sys-prefix</code><br />then restart your server.' +\n",
       "                        '<br /><br />(Interactive output not available on ' +\n",
       "                        'static notebook viewer services like nbviewer.)';\n",
       "    } else if (res.status === 409) {\n",
       "        div.innerHTML = 'Visualization no longer in scope. Re-run this cell' +\n",
       "                        ' to see the visualization.';\n",
       "    } else if (res.ok) {\n",
       "        url = res.url;\n",
       "        div.innerHTML = '<iframe src=\\'' + url + '\\' style=\\'' +\n",
       "                        'width: 100%; height: 700px; border: 0;\\'>' +\n",
       "                        '</iframe><hr />Open in a: <a href=\\'' + url + '\\'' +\n",
       "                        ' target=\\'_blank\\'>new window</a>'\n",
       "    } else {\n",
       "        div.innerHTML = 'Something has gone wrong. Check notebook server for' +\n",
       "                        ' errors.';\n",
       "    }\n",
       "});\n",
       "})(this.parentElement, '/qiime2/redirect?location=/tmp/qiime2-archive-mziftax1')\" src=\"data:image/gif;base64,R0lGODlhAQABAIAAAP///wAAACH5BAEAAAAALAAAAAABAAEAAAICRAEAOw==\" /></div>"
      ],
      "text/plain": [
       "<visualization: Visualization uuid: 2490648e-2a6e-4dd9-aa27-e605badaa500>"
      ]
     },
     "execution_count": 5,
     "metadata": {},
     "output_type": "execute_result"
    }
   ],
   "source": [
    "Visualization.load(f'{data_dir}/ncbi-taxa-bar-plots.qzv')"
   ]
  },
  {
   "cell_type": "markdown",
   "id": "222b1821",
   "metadata": {
    "tags": []
   },
   "source": [
    "Some of the taxonomic assignment are compared to  BLAST for validation. As from the generated ASVs  the BLAST links are equipped there."
   ]
  },
  {
   "cell_type": "code",
   "execution_count": 6,
   "id": "c499a004",
   "metadata": {
    "tags": []
   },
   "outputs": [
    {
     "data": {
      "text/html": [
       "<div><img onload=\"(function(div, url){\n",
       "if (typeof require !== 'undefined') {\n",
       "    var baseURL = require.toUrl('').split('/').slice(0, -2).join('/');\n",
       "} else {\n",
       "    var baseURL = JSON.parse(\n",
       "        document.getElementById('jupyter-config-data').innerHTML\n",
       "    ).baseUrl.slice(0, -1);\n",
       "}\n",
       "url = baseURL + url;\n",
       "fetch(url).then(function(res) {\n",
       "    if (res.status === 404) {\n",
       "        div.innerHTML = 'Install QIIME 2 Jupyter extension with:<br />' +\n",
       "                        '<code>jupyter serverextension enable --py qiime2' +\n",
       "                        ' --sys-prefix</code><br />then restart your server.' +\n",
       "                        '<br /><br />(Interactive output not available on ' +\n",
       "                        'static notebook viewer services like nbviewer.)';\n",
       "    } else if (res.status === 409) {\n",
       "        div.innerHTML = 'Visualization no longer in scope. Re-run this cell' +\n",
       "                        ' to see the visualization.';\n",
       "    } else if (res.ok) {\n",
       "        url = res.url;\n",
       "        div.innerHTML = '<iframe src=\\'' + url + '\\' style=\\'' +\n",
       "                        'width: 100%; height: 700px; border: 0;\\'>' +\n",
       "                        '</iframe><hr />Open in a: <a href=\\'' + url + '\\'' +\n",
       "                        ' target=\\'_blank\\'>new window</a>'\n",
       "    } else {\n",
       "        div.innerHTML = 'Something has gone wrong. Check notebook server for' +\n",
       "                        ' errors.';\n",
       "    }\n",
       "});\n",
       "})(this.parentElement, '/qiime2/redirect?location=/tmp/qiime2-archive-k1x66sqc')\" src=\"data:image/gif;base64,R0lGODlhAQABAIAAAP///wAAACH5BAEAAAAALAAAAAABAAEAAAICRAEAOw==\" /></div>"
      ],
      "text/plain": [
       "<visualization: Visualization uuid: 2b01d3f6-d1f1-4360-b4d7-5c5bf09e8da4>"
      ]
     },
     "execution_count": 6,
     "metadata": {},
     "output_type": "execute_result"
    }
   ],
   "source": [
    "Visualization.load(f'{data_dir}/rep-seqs.qzv')"
   ]
  },
  {
   "cell_type": "markdown",
   "id": "d2ab20b0",
   "metadata": {
    "tags": []
   },
   "source": [
    "Using BLAST as the taxonomic identifier are the same taxonomies observed as with q2-feature-classifier?"
   ]
  },
  {
   "cell_type": "markdown",
   "id": "f7167267",
   "metadata": {},
   "source": [
    "Mitochondrial sequences may have to be filtered out of the feature table and sequences. Therefore the `filter-table` and `filter-seqs` action from the `taxa` plugin are used. To exclude features meeting certain criteria we can use the `p-exclude` parameter as follows:"
   ]
  },
  {
   "cell_type": "code",
   "execution_count": 18,
   "id": "0b3802c7",
   "metadata": {
    "tags": []
   },
   "outputs": [
    {
     "name": "stdout",
     "output_type": "stream",
     "text": [
      "\u001b[32mSaved FeatureTable[Frequency] to: w4_data/table-filtered.qza\u001b[0m\n",
      "\u001b[0m\u001b[32mSaved FeatureData[Sequence] to: w4_data/rep-seqs-filtered.qza\u001b[0m\n",
      "\u001b[0m"
     ]
    }
   ],
   "source": [
    "! qiime taxa filter-table \\\n",
    "    --i-table $data_dir/table.qza \\\n",
    "    --i-taxonomy $data_dir/ncbi-taxonomy.qza \\\n",
    "    --p-exclude mitochondria,chloroplast \\\n",
    "    --o-filtered-table $data_dir/ncbi-table-filtered.qza\n",
    "\n",
    "! qiime taxa filter-seqs \\\n",
    "    --i-sequences $data_dir/rep-seqs.qza \\\n",
    "    --i-taxonomy $data_dir/ncbi-taxonomy.qza \\\n",
    "    --p-exclude mitochondria \\\n",
    "    --o-filtered-sequences $data_dir/ncbi-rep-seqs-filtered.qza"
   ]
  },
  {
   "cell_type": "markdown",
   "id": "c1d79a64",
   "metadata": {},
   "source": [
    "The taxa barplot is regenerated using the filtered sequences to compare it to the previous visualization  to check if the distribution on different taxonomic level have changed between samples. "
   ]
  },
  {
   "cell_type": "code",
   "execution_count": 13,
   "id": "c100bbba-e731-4643-b36c-c4908b652526",
   "metadata": {},
   "outputs": [
    {
     "name": "stdout",
     "output_type": "stream",
     "text": [
      "\u001b[32mSaved FeatureData[Taxonomy] to: w4_data/taxonomy-filtered.qza\u001b[0m\n",
      "\u001b[0m"
     ]
    }
   ],
   "source": [
    "! qiime feature-classifier classify-sklearn \\\n",
    "    --i-classifier $data_dir/ncbi-refseqs-classifier.qza \\\n",
    "    --i-reads $data_dir/ncbi-rep-seqs-filtered.qza \\\n",
    "    --o-classification $data_dir/ncbi-taxonomy-filtered.qza"
   ]
  },
  {
   "cell_type": "code",
   "execution_count": 14,
   "id": "5ca47e53-bcef-4611-8388-efc1236903f1",
   "metadata": {},
   "outputs": [
    {
     "name": "stdout",
     "output_type": "stream",
     "text": [
      "\u001b[32mSaved Visualization to: w4_data/taxonomy-filtered.qzv\u001b[0m\n",
      "\u001b[0m"
     ]
    }
   ],
   "source": [
    "! qiime metadata tabulate \\\n",
    "    --m-input-file $data_dir/ncbi-taxonomy-filtered.qza \\\n",
    "    --o-visualization $data_dir/ncbi-taxonomy-filtered.qzv"
   ]
  },
  {
   "cell_type": "code",
   "execution_count": 15,
   "id": "b0084911-0767-434b-9feb-de8bebb63052",
   "metadata": {
    "collapsed": true,
    "jupyter": {
     "outputs_hidden": true
    },
    "tags": []
   },
   "outputs": [
    {
     "data": {
      "text/html": [
       "<div><img onload=\"(function(div, url){\n",
       "if (typeof require !== 'undefined') {\n",
       "    var baseURL = require.toUrl('').split('/').slice(0, -2).join('/');\n",
       "} else {\n",
       "    var baseURL = JSON.parse(\n",
       "        document.getElementById('jupyter-config-data').innerHTML\n",
       "    ).baseUrl.slice(0, -1);\n",
       "}\n",
       "url = baseURL + url;\n",
       "fetch(url).then(function(res) {\n",
       "    if (res.status === 404) {\n",
       "        div.innerHTML = 'Install QIIME 2 Jupyter extension with:<br />' +\n",
       "                        '<code>jupyter serverextension enable --py qiime2' +\n",
       "                        ' --sys-prefix</code><br />then restart your server.' +\n",
       "                        '<br /><br />(Interactive output not available on ' +\n",
       "                        'static notebook viewer services like nbviewer.)';\n",
       "    } else if (res.status === 409) {\n",
       "        div.innerHTML = 'Visualization no longer in scope. Re-run this cell' +\n",
       "                        ' to see the visualization.';\n",
       "    } else if (res.ok) {\n",
       "        url = res.url;\n",
       "        div.innerHTML = '<iframe src=\\'' + url + '\\' style=\\'' +\n",
       "                        'width: 100%; height: 700px; border: 0;\\'>' +\n",
       "                        '</iframe><hr />Open in a: <a href=\\'' + url + '\\'' +\n",
       "                        ' target=\\'_blank\\'>new window</a>'\n",
       "    } else {\n",
       "        div.innerHTML = 'Something has gone wrong. Check notebook server for' +\n",
       "                        ' errors.';\n",
       "    }\n",
       "});\n",
       "})(this.parentElement, '/qiime2/redirect?location=/tmp/qiime2-archive-yfv04m8i')\" src=\"data:image/gif;base64,R0lGODlhAQABAIAAAP///wAAACH5BAEAAAAALAAAAAABAAEAAAICRAEAOw==\" /></div>"
      ],
      "text/plain": [
       "<visualization: Visualization uuid: 994ddee0-6cd2-48a9-8890-5aea3e715f01>"
      ]
     },
     "execution_count": 15,
     "metadata": {},
     "output_type": "execute_result"
    }
   ],
   "source": [
    "Visualization.load(f'{data_dir}/ncbi-taxonomy-filtered.qzv')"
   ]
  },
  {
   "cell_type": "code",
   "execution_count": 16,
   "id": "3dd7ce00-227d-4551-9712-c2b45176c600",
   "metadata": {},
   "outputs": [
    {
     "name": "stdout",
     "output_type": "stream",
     "text": [
      "\u001b[32mSaved Visualization to: w4_data/taxa-bar-plots-filtered.qzv\u001b[0m\n",
      "\u001b[0m"
     ]
    }
   ],
   "source": [
    "! qiime taxa barplot \\\n",
    "    --i-table $data_dir/ncbi-table-filtered.qza \\\n",
    "    --i-taxonomy $data_dir/taxonomy-filtered.qza \\\n",
    "    --m-metadata-file $data_dir/cleand_sample_metad_ata.tsv \\\n",
    "    --o-visualization $data_dir/ncbi-taxa-bar-plots-filtered.qzv"
   ]
  },
  {
   "cell_type": "code",
   "execution_count": 17,
   "id": "50dc69fe-96e6-419b-8ebe-ff1515ebdd62",
   "metadata": {
    "tags": []
   },
   "outputs": [
    {
     "data": {
      "text/html": [
       "<div><img onload=\"(function(div, url){\n",
       "if (typeof require !== 'undefined') {\n",
       "    var baseURL = require.toUrl('').split('/').slice(0, -2).join('/');\n",
       "} else {\n",
       "    var baseURL = JSON.parse(\n",
       "        document.getElementById('jupyter-config-data').innerHTML\n",
       "    ).baseUrl.slice(0, -1);\n",
       "}\n",
       "url = baseURL + url;\n",
       "fetch(url).then(function(res) {\n",
       "    if (res.status === 404) {\n",
       "        div.innerHTML = 'Install QIIME 2 Jupyter extension with:<br />' +\n",
       "                        '<code>jupyter serverextension enable --py qiime2' +\n",
       "                        ' --sys-prefix</code><br />then restart your server.' +\n",
       "                        '<br /><br />(Interactive output not available on ' +\n",
       "                        'static notebook viewer services like nbviewer.)';\n",
       "    } else if (res.status === 409) {\n",
       "        div.innerHTML = 'Visualization no longer in scope. Re-run this cell' +\n",
       "                        ' to see the visualization.';\n",
       "    } else if (res.ok) {\n",
       "        url = res.url;\n",
       "        div.innerHTML = '<iframe src=\\'' + url + '\\' style=\\'' +\n",
       "                        'width: 100%; height: 700px; border: 0;\\'>' +\n",
       "                        '</iframe><hr />Open in a: <a href=\\'' + url + '\\'' +\n",
       "                        ' target=\\'_blank\\'>new window</a>'\n",
       "    } else {\n",
       "        div.innerHTML = 'Something has gone wrong. Check notebook server for' +\n",
       "                        ' errors.';\n",
       "    }\n",
       "});\n",
       "})(this.parentElement, '/qiime2/redirect?location=/tmp/qiime2-archive-krxgelz5')\" src=\"data:image/gif;base64,R0lGODlhAQABAIAAAP///wAAACH5BAEAAAAALAAAAAABAAEAAAICRAEAOw==\" /></div>"
      ],
      "text/plain": [
       "<visualization: Visualization uuid: de2b61a3-9bf3-4738-be8f-e7eb7551f7af>"
      ]
     },
     "execution_count": 17,
     "metadata": {},
     "output_type": "execute_result"
    }
   ],
   "source": [
    "Visualization.load(f'{data_dir}/ncbi-taxa-bar-plots-filtered.qzv')"
   ]
  },
  {
   "cell_type": "markdown",
   "id": "d90bfb16-3671-412f-8895-7ad6b5d79ce0",
   "metadata": {},
   "source": [
    "Maybe not all ASVs are annotated at species level! Some get cut off due to insufficient taxonomic resolution when classifying short sequences (i.e., they have matches to multiple clades).\n",
    "\n",
    "CHECK FOR THIS!!!"
   ]
  },
  {
   "cell_type": "code",
   "execution_count": null,
   "id": "38126566-342f-4067-a35d-78a6318cc281",
   "metadata": {},
   "outputs": [],
   "source": []
  }
 ],
 "metadata": {
  "interpreter": {
   "hash": "91041748b0590ab7efbd5530941c47612a12accc8fae155050a565e1194f2150"
  },
  "kernelspec": {
   "display_name": "Python 3 (ipykernel)",
   "language": "python",
   "name": "python3"
  },
  "language_info": {
   "codemirror_mode": {
    "name": "ipython",
    "version": 3
   },
   "file_extension": ".py",
   "mimetype": "text/x-python",
   "name": "python",
   "nbconvert_exporter": "python",
   "pygments_lexer": "ipython3",
   "version": "3.8.13"
  }
 },
 "nbformat": 4,
 "nbformat_minor": 5
}
