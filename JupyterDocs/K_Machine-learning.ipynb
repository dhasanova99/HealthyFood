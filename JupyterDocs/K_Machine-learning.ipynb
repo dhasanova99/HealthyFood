{
 "cells": [
  {
   "cell_type": "markdown",
   "id": "be7f7596-b72a-452c-857b-302fc7ed80d2",
   "metadata": {},
   "source": [
    "# Machine-learning classifiers for predicting sample characteristics"
   ]
  },
  {
   "cell_type": "code",
   "execution_count": 1,
   "id": "0504fc1a-4d34-4019-80b1-4a23b3fcb756",
   "metadata": {},
   "outputs": [],
   "source": [
    "import os\n",
    "import pandas as pd\n",
    "import numpy as np\n",
    "import qiime2 as q2\n",
    "from qiime2 import Visualization\n",
    "from scipy.stats import shapiro, kruskal, f_oneway\n",
    "import matplotlib.pyplot as plt\n",
    "import seaborn as sns\n",
    "\n",
    "%matplotlib inline"
   ]
  },
  {
   "cell_type": "code",
   "execution_count": 2,
   "id": "f7c03e9f-978e-45e7-9728-327fbebecafe",
   "metadata": {},
   "outputs": [],
   "source": [
    "data_dir = 'project_data'\n",
    "\n",
    "\n",
    "if not os.path.isdir(data_dir):\n",
    "    os.makedirs(data_dir) "
   ]
  },
  {
   "cell_type": "markdown",
   "id": "e0c3e363-acfe-495c-bae4-e6b0a6b7e8a7",
   "metadata": {},
   "source": [
    "# 1. Data import"
   ]
  },
  {
   "cell_type": "code",
   "execution_count": 3,
   "id": "32f07f25-d495-482c-97be-91abe0e863fe",
   "metadata": {},
   "outputs": [
    {
     "name": "stdout",
     "output_type": "stream",
     "text": [
      "2022-12-16 08:50:46 URL:https://polybox.ethz.ch/index.php/s/MBLSUQXzglnn66u/download?path=%2F&files=Sequences_rep_set.qza [390624/390624] -> \"project_data/rep-seqs.qza\" [1]\n",
      "2022-12-16 08:50:47 URL:https://polybox.ethz.ch/index.php/s/MBLSUQXzglnn66u/download?path=%2F&files=Feature_table.qza [504534/504534] -> \"project_data/table.qza\" [1]\n",
      "2022-12-16 08:50:47 URL:https://polybox.ethz.ch/index.php/s/MBLSUQXzglnn66u/download?path=%2F&files=taxonomy_1.qza [303165/303165] -> \"project_data/taxonomy_1.qza\" [1]\n",
      "2022-12-16 08:50:48 URL:https://polybox.ethz.ch/index.php/s/MBLSUQXzglnn66u/download?path=%2F&files=fasttree-tree-rooted.qza [249852/249852] -> \"project_data/fasttree-tree-rooted.qza\" [1]\n",
      "2022-12-16 08:50:48 URL:https://polybox.ethz.ch/index.php/s/MBLSUQXzglnn66u/download?path=%2F&files=metadata-nutrition.tsv [300302/300302] -> \"project_data/sample_metadata.tsv\" [1]\n"
     ]
    }
   ],
   "source": [
    "#filtered sequence\n",
    "! wget -nv -O $data_dir/rep-seqs.qza 'https://polybox.ethz.ch/index.php/s/MBLSUQXzglnn66u/download?path=%2F&files=Sequences_rep_set.qza'\n",
    "\n",
    "# Feature Table\n",
    "! wget -nv -O $data_dir/table.qza 'https://polybox.ethz.ch/index.php/s/MBLSUQXzglnn66u/download?path=%2F&files=Feature_table.qza'\n",
    "\n",
    "# Taxonomy file generate from silva\n",
    "! wget -nv -O $data_dir/taxonomy_1.qza 'https://polybox.ethz.ch/index.php/s/MBLSUQXzglnn66u/download?path=%2F&files=taxonomy_1.qza'\n",
    "\n",
    "# Phylogeny file \n",
    "! wget -nv -O $data_dir/fasttree-tree-rooted.qza 'https://polybox.ethz.ch/index.php/s/MBLSUQXzglnn66u/download?path=%2F&files=fasttree-tree-rooted.qza'\n",
    "\n",
    "# Metadata\n",
    "! wget -nv -O $data_dir/sample_metadata.tsv 'https://polybox.ethz.ch/index.php/s/MBLSUQXzglnn66u/download?path=%2F&files=metadata-nutrition.tsv'"
   ]
  },
  {
   "cell_type": "markdown",
   "id": "95d4655c-4017-498d-b9a6-79872eb2dffd",
   "metadata": {},
   "source": [
    "### 1.1 Metadata"
   ]
  },
  {
   "cell_type": "code",
   "execution_count": 4,
   "id": "84f1add2-077a-4243-a5e5-aa7a59c14c5e",
   "metadata": {
    "collapsed": true,
    "jupyter": {
     "outputs_hidden": true
    },
    "tags": []
   },
   "outputs": [
    {
     "data": {
      "text/html": [
       "<div>\n",
       "<style scoped>\n",
       "    .dataframe tbody tr th:only-of-type {\n",
       "        vertical-align: middle;\n",
       "    }\n",
       "\n",
       "    .dataframe tbody tr th {\n",
       "        vertical-align: top;\n",
       "    }\n",
       "\n",
       "    .dataframe thead th {\n",
       "        text-align: right;\n",
       "    }\n",
       "</style>\n",
       "<table border=\"1\" class=\"dataframe\">\n",
       "  <thead>\n",
       "    <tr style=\"text-align: right;\">\n",
       "      <th></th>\n",
       "      <th>sampleid</th>\n",
       "      <th>GEN_age_cat</th>\n",
       "      <th>GEN_age_corrected</th>\n",
       "      <th>GEN_bmi_cat</th>\n",
       "      <th>GEN_bmi_corrected</th>\n",
       "      <th>GEN_cat</th>\n",
       "      <th>GEN_collection_timestamp</th>\n",
       "      <th>GEN_country</th>\n",
       "      <th>GEN_dog</th>\n",
       "      <th>GEN_elevation</th>\n",
       "      <th>...</th>\n",
       "      <th>NUT_probiotic_frequency</th>\n",
       "      <th>NUT_red_meat_frequency</th>\n",
       "      <th>NUT_salted_snacks_frequency</th>\n",
       "      <th>NUT_seafood_frequency</th>\n",
       "      <th>NUT_sugary_sweets_frequency</th>\n",
       "      <th>NUT_vegetable_frequency</th>\n",
       "      <th>NUT_vitamin_b_supplement_frequency</th>\n",
       "      <th>NUT_vitamin_d_supplement_frequency</th>\n",
       "      <th>NUT_whole_eggs</th>\n",
       "      <th>NUT_whole_grain_frequency</th>\n",
       "    </tr>\n",
       "  </thead>\n",
       "  <tbody>\n",
       "    <tr>\n",
       "      <th>0</th>\n",
       "      <td>10317.000046</td>\n",
       "      <td>20s</td>\n",
       "      <td>20.0</td>\n",
       "      <td>Normal</td>\n",
       "      <td>23.75</td>\n",
       "      <td>False</td>\n",
       "      <td>2016-08-25 18:30:00</td>\n",
       "      <td>USA</td>\n",
       "      <td>True</td>\n",
       "      <td>1919.3</td>\n",
       "      <td>...</td>\n",
       "      <td>Rarely</td>\n",
       "      <td>Regularly</td>\n",
       "      <td>Occasionally</td>\n",
       "      <td>Rarely</td>\n",
       "      <td>Occasionally</td>\n",
       "      <td>Occasionally</td>\n",
       "      <td>Never</td>\n",
       "      <td>Never</td>\n",
       "      <td>Daily</td>\n",
       "      <td>Daily</td>\n",
       "    </tr>\n",
       "    <tr>\n",
       "      <th>1</th>\n",
       "      <td>10317.000050</td>\n",
       "      <td>Not provided</td>\n",
       "      <td>NaN</td>\n",
       "      <td>Overweight</td>\n",
       "      <td>25.61</td>\n",
       "      <td>False</td>\n",
       "      <td>2016-07-06 09:00:00</td>\n",
       "      <td>United Kingdom</td>\n",
       "      <td>False</td>\n",
       "      <td>65.5</td>\n",
       "      <td>...</td>\n",
       "      <td>Rarely</td>\n",
       "      <td>Rarely</td>\n",
       "      <td>Regularly</td>\n",
       "      <td>Occasionally</td>\n",
       "      <td>Regularly</td>\n",
       "      <td>Regularly</td>\n",
       "      <td>Never</td>\n",
       "      <td>Never</td>\n",
       "      <td>Rarely</td>\n",
       "      <td>Occasionally</td>\n",
       "    </tr>\n",
       "    <tr>\n",
       "      <th>2</th>\n",
       "      <td>10317.000038</td>\n",
       "      <td>30s</td>\n",
       "      <td>39.0</td>\n",
       "      <td>Overweight</td>\n",
       "      <td>27.67</td>\n",
       "      <td>False</td>\n",
       "      <td>2016-06-29 09:30:00</td>\n",
       "      <td>United Kingdom</td>\n",
       "      <td>False</td>\n",
       "      <td>44.5</td>\n",
       "      <td>...</td>\n",
       "      <td>Never</td>\n",
       "      <td>Occasionally</td>\n",
       "      <td>Daily</td>\n",
       "      <td>Occasionally</td>\n",
       "      <td>Rarely</td>\n",
       "      <td>Occasionally</td>\n",
       "      <td>Never</td>\n",
       "      <td>Never</td>\n",
       "      <td>Regularly</td>\n",
       "      <td>Occasionally</td>\n",
       "    </tr>\n",
       "    <tr>\n",
       "      <th>3</th>\n",
       "      <td>10317.000047</td>\n",
       "      <td>50s</td>\n",
       "      <td>56.0</td>\n",
       "      <td>Normal</td>\n",
       "      <td>19.71</td>\n",
       "      <td>False</td>\n",
       "      <td>2016-07-12 17:30:00</td>\n",
       "      <td>Germany</td>\n",
       "      <td>False</td>\n",
       "      <td>8.7</td>\n",
       "      <td>...</td>\n",
       "      <td>Daily</td>\n",
       "      <td>Occasionally</td>\n",
       "      <td>Rarely</td>\n",
       "      <td>Not provided</td>\n",
       "      <td>Rarely</td>\n",
       "      <td>Regularly</td>\n",
       "      <td>Daily</td>\n",
       "      <td>Daily</td>\n",
       "      <td>Rarely</td>\n",
       "      <td>Regularly</td>\n",
       "    </tr>\n",
       "    <tr>\n",
       "      <th>4</th>\n",
       "      <td>10317.000046</td>\n",
       "      <td>40s</td>\n",
       "      <td>45.0</td>\n",
       "      <td>Normal</td>\n",
       "      <td>23.15</td>\n",
       "      <td>False</td>\n",
       "      <td>2016-05-24 19:00:00</td>\n",
       "      <td>United Kingdom</td>\n",
       "      <td>True</td>\n",
       "      <td>68.8</td>\n",
       "      <td>...</td>\n",
       "      <td>Regularly</td>\n",
       "      <td>Never</td>\n",
       "      <td>Never</td>\n",
       "      <td>Occasionally</td>\n",
       "      <td>Never</td>\n",
       "      <td>Daily</td>\n",
       "      <td>Rarely</td>\n",
       "      <td>Occasionally</td>\n",
       "      <td>Regularly</td>\n",
       "      <td>Daily</td>\n",
       "    </tr>\n",
       "  </tbody>\n",
       "</table>\n",
       "<p>5 rows × 57 columns</p>\n",
       "</div>"
      ],
      "text/plain": [
       "       sampleid   GEN_age_cat  GEN_age_corrected GEN_bmi_cat  \\\n",
       "0  10317.000046           20s               20.0      Normal   \n",
       "1  10317.000050  Not provided                NaN  Overweight   \n",
       "2  10317.000038           30s               39.0  Overweight   \n",
       "3  10317.000047           50s               56.0      Normal   \n",
       "4  10317.000046           40s               45.0      Normal   \n",
       "\n",
       "   GEN_bmi_corrected  GEN_cat GEN_collection_timestamp     GEN_country  \\\n",
       "0              23.75    False      2016-08-25 18:30:00             USA   \n",
       "1              25.61    False      2016-07-06 09:00:00  United Kingdom   \n",
       "2              27.67    False      2016-06-29 09:30:00  United Kingdom   \n",
       "3              19.71    False      2016-07-12 17:30:00         Germany   \n",
       "4              23.15    False      2016-05-24 19:00:00  United Kingdom   \n",
       "\n",
       "   GEN_dog  GEN_elevation  ... NUT_probiotic_frequency  \\\n",
       "0     True         1919.3  ...                  Rarely   \n",
       "1    False           65.5  ...                  Rarely   \n",
       "2    False           44.5  ...                   Never   \n",
       "3    False            8.7  ...                   Daily   \n",
       "4     True           68.8  ...               Regularly   \n",
       "\n",
       "   NUT_red_meat_frequency NUT_salted_snacks_frequency NUT_seafood_frequency  \\\n",
       "0               Regularly                Occasionally                Rarely   \n",
       "1                  Rarely                   Regularly          Occasionally   \n",
       "2            Occasionally                       Daily          Occasionally   \n",
       "3            Occasionally                      Rarely          Not provided   \n",
       "4                   Never                       Never          Occasionally   \n",
       "\n",
       "  NUT_sugary_sweets_frequency  NUT_vegetable_frequency  \\\n",
       "0                Occasionally             Occasionally   \n",
       "1                   Regularly                Regularly   \n",
       "2                      Rarely             Occasionally   \n",
       "3                      Rarely                Regularly   \n",
       "4                       Never                    Daily   \n",
       "\n",
       "  NUT_vitamin_b_supplement_frequency  NUT_vitamin_d_supplement_frequency  \\\n",
       "0                              Never                               Never   \n",
       "1                              Never                               Never   \n",
       "2                              Never                               Never   \n",
       "3                              Daily                               Daily   \n",
       "4                             Rarely                        Occasionally   \n",
       "\n",
       "  NUT_whole_eggs NUT_whole_grain_frequency  \n",
       "0          Daily                     Daily  \n",
       "1         Rarely              Occasionally  \n",
       "2      Regularly              Occasionally  \n",
       "3         Rarely                 Regularly  \n",
       "4      Regularly                     Daily  \n",
       "\n",
       "[5 rows x 57 columns]"
      ]
     },
     "execution_count": 4,
     "metadata": {},
     "output_type": "execute_result"
    }
   ],
   "source": [
    "metadata_df = pd.read_csv(f'project_data/sample_metadata.tsv', sep='\\t', float_precision='round_trip')\n",
    "metadata_df.head()"
   ]
  },
  {
   "cell_type": "code",
   "execution_count": 7,
   "id": "2b0a990f-e6fa-401f-bcf1-42def1ef33a3",
   "metadata": {
    "tags": []
   },
   "outputs": [
    {
     "data": {
      "text/plain": [
       "['sampleid',\n",
       " 'GEN_age_cat',\n",
       " 'GEN_age_corrected',\n",
       " 'GEN_bmi_cat',\n",
       " 'GEN_bmi_corrected',\n",
       " 'GEN_cat',\n",
       " 'GEN_collection_timestamp',\n",
       " 'GEN_country',\n",
       " 'GEN_dog',\n",
       " 'GEN_elevation',\n",
       " 'GEN_geo_loc_name',\n",
       " 'GEN_height_cm',\n",
       " 'GEN_host_common_name',\n",
       " 'GEN_last_move',\n",
       " 'GEN_last_travel',\n",
       " 'GEN_latitude',\n",
       " 'GEN_level_of_education',\n",
       " 'GEN_longitude',\n",
       " 'GEN_race',\n",
       " 'GEN_sample_type',\n",
       " 'GEN_sex',\n",
       " 'GEN_weight_kg',\n",
       " 'NUT_alcohol_consumption',\n",
       " 'NUT_alcohol_frequency',\n",
       " 'NUT_alcohol_types_beercider',\n",
       " 'NUT_alcohol_types_red_wine',\n",
       " 'NUT_alcohol_types_sour_beers',\n",
       " 'NUT_alcohol_types_spiritshard_alcohol',\n",
       " 'NUT_alcohol_types_unspecified',\n",
       " 'NUT_alcohol_types_white_wine',\n",
       " 'NUT_artificial_sweeteners',\n",
       " 'NUT_diet_type',\n",
       " 'NUT_drinks_per_session',\n",
       " 'NUT_fed_as_infant',\n",
       " 'NUT_fermented_plant_frequency',\n",
       " 'NUT_frozen_dessert_frequency',\n",
       " 'NUT_fruit_frequency',\n",
       " 'NUT_gluten',\n",
       " 'NUT_high_fat_red_meat_frequency',\n",
       " 'NUT_homecooked_meals_frequency',\n",
       " 'NUT_lowgrain_diet_type',\n",
       " 'NUT_meat_eggs_frequency',\n",
       " 'NUT_milk_cheese_frequency',\n",
       " 'NUT_milk_substitute_frequency',\n",
       " 'NUT_olive_oil',\n",
       " 'NUT_poultry_frequency',\n",
       " 'NUT_prepared_meals_frequency',\n",
       " 'NUT_probiotic_frequency',\n",
       " 'NUT_red_meat_frequency',\n",
       " 'NUT_salted_snacks_frequency',\n",
       " 'NUT_seafood_frequency',\n",
       " 'NUT_sugary_sweets_frequency',\n",
       " 'NUT_vegetable_frequency',\n",
       " 'NUT_vitamin_b_supplement_frequency',\n",
       " 'NUT_vitamin_d_supplement_frequency',\n",
       " 'NUT_whole_eggs',\n",
       " 'NUT_whole_grain_frequency']"
      ]
     },
     "execution_count": 7,
     "metadata": {},
     "output_type": "execute_result"
    }
   ],
   "source": [
    "metadata_df.columns.to_list()"
   ]
  },
  {
   "cell_type": "markdown",
   "id": "a7233087-f044-4338-bd41-5d7570959855",
   "metadata": {},
   "source": [
    "# creating feature daable to train feature and metadata"
   ]
  },
  {
   "cell_type": "code",
   "execution_count": 75,
   "id": "e0f2a4cf-c96e-41e0-adc9-4a91aba6ec0e",
   "metadata": {},
   "outputs": [
    {
     "name": "stdout",
     "output_type": "stream",
     "text": [
      "Usage: \u001b[94mqiime sample-classifier metatable\u001b[0m [OPTIONS]\n",
      "\n",
      "  Convert numeric sample metadata from TSV file into a feature table.\n",
      "  Optionally merge with an existing feature table. Only numeric metadata\n",
      "  will be converted; categorical columns will be silently dropped. By\n",
      "  default, if a table is used as input only samples found in both the table\n",
      "  and metadata (intersection) are merged, and others are silently dropped.\n",
      "  Set missing_samples=\"error\" to raise an error if samples found in the\n",
      "  table are missing from the metadata file. The metadata file can always\n",
      "  contain a superset of samples. Note that columns will be dropped if they\n",
      "  are non-numeric, contain no unique values (zero variance), contain only\n",
      "  empty cells, or contain negative values. This method currently only\n",
      "  converts postive numeric metadata into feature data. Tip: convert\n",
      "  categorical columns to dummy variables to include them in the output\n",
      "  feature table.\n",
      "\n",
      "\u001b[1mInputs\u001b[0m:\n",
      "  \u001b[94m--i-table\u001b[0m ARTIFACT \u001b[32mFeatureTable[Frequency]\u001b[0m\n",
      "                       Feature table containing all features that should be\n",
      "                       used for target prediction.                  \u001b[35m[optional]\u001b[0m\n",
      "\u001b[1mParameters\u001b[0m:\n",
      "  \u001b[94m\u001b[4m--m-metadata-file\u001b[0m METADATA...\n",
      "    (multiple          Metadata file to convert to feature table.\n",
      "     arguments will    \n",
      "     be merged)                                                     \u001b[35m[required]\u001b[0m\n",
      "  \u001b[94m--p-missing-samples\u001b[0m TEXT \u001b[32mChoices('error', 'ignore')\u001b[0m\n",
      "                       How to handle missing samples in metadata. \"error\"\n",
      "                       will fail if missing samples are detected. \"ignore\"\n",
      "                       will cause the feature table and metadata to be\n",
      "                       filtered, so that only samples found in both files are\n",
      "                       retained.                           \u001b[35m[default: 'ignore']\u001b[0m\n",
      "  \u001b[94m--p-missing-values\u001b[0m TEXT \u001b[32mChoices('drop_samples', 'drop_features', 'error',\u001b[0m\n",
      "    \u001b[32m'fill')\u001b[0m            How to handle missing values (nans) in metadata.\n",
      "                       Either \"drop_samples\" with missing values,\n",
      "                       \"drop_features\" with missing values, \"fill\" missing\n",
      "                       values with zeros, or \"error\" if any missing values are\n",
      "                       found.                               \u001b[35m[default: 'error']\u001b[0m\n",
      "  \u001b[94m--p-drop-all-unique\u001b[0m / \u001b[94m--p-no-drop-all-unique\u001b[0m\n",
      "                       If True, columns that contain a unique value for every\n",
      "                       ID will be dropped.                    \u001b[35m[default: False]\u001b[0m\n",
      "\u001b[1mOutputs\u001b[0m:\n",
      "  \u001b[94m\u001b[4m--o-converted-table\u001b[0m ARTIFACT \u001b[32mFeatureTable[Frequency]\u001b[0m\n",
      "                       Converted feature table                      \u001b[35m[required]\u001b[0m\n",
      "\u001b[1mMiscellaneous\u001b[0m:\n",
      "  \u001b[94m--output-dir\u001b[0m PATH    Output unspecified results to a directory\n",
      "  \u001b[94m--verbose\u001b[0m / \u001b[94m--quiet\u001b[0m  Display verbose output to stdout and/or stderr during\n",
      "                       execution of this action. Or silence output if\n",
      "                       execution is successful (silence is golden).\n",
      "  \u001b[94m--example-data\u001b[0m PATH  Write example data and exit.\n",
      "  \u001b[94m--citations\u001b[0m          Show citations and exit.\n",
      "  \u001b[94m--help\u001b[0m               Show this message and exit.\n"
     ]
    }
   ],
   "source": [
    "! qiime sample-classifier metatable --help"
   ]
  },
  {
   "cell_type": "code",
   "execution_count": 76,
   "id": "c0415bed-a83c-4ea3-b225-09b729d01cd0",
   "metadata": {},
   "outputs": [
    {
     "name": "stdout",
     "output_type": "stream",
     "text": [
      "\u001b[32mSaved FeatureTable[Frequency] to: project_data/table-w-metadata.qza\u001b[0m\n",
      "\u001b[0m"
     ]
    }
   ],
   "source": [
    "! qiime sample-classifier metatable \\\n",
    "  --i-table $data_dir/table.qza \\\n",
    "  --m-metadata-file $data_dir/sample_metadata.tsv \\\n",
    "  --p-missing-values 'drop_samples' \\\n",
    "  --o-converted-table $data_dir/table-w-metadata.qza"
   ]
  },
  {
   "cell_type": "code",
   "execution_count": 79,
   "id": "d96f7eb5-bc89-43fa-a55b-9938801bc80c",
   "metadata": {},
   "outputs": [
    {
     "name": "stdout",
     "output_type": "stream",
     "text": [
      "\u001b[32mSaved Visualization to: project_data/table-w-metadata.qzv\u001b[0m\n",
      "\u001b[0m"
     ]
    }
   ],
   "source": [
    "! qiime feature-table summarize \\\n",
    "    --i-table $data_dir/table-w-metadata.qza \\\n",
    "    --m-sample-metadata-file $data_dir/sample_metadata.tsv \\\n",
    "    --o-visualization $data_dir/table-w-metadata.qzv"
   ]
  },
  {
   "cell_type": "code",
   "execution_count": 80,
   "id": "6c2138c7-b6dd-402e-b6b8-65f1ad5973f4",
   "metadata": {
    "collapsed": true,
    "jupyter": {
     "outputs_hidden": true
    },
    "tags": []
   },
   "outputs": [
    {
     "data": {
      "text/html": [
       "<div><img onload=\"(function(div, url){\n",
       "if (typeof require !== 'undefined') {\n",
       "    var baseURL = require.toUrl('').split('/').slice(0, -2).join('/');\n",
       "} else {\n",
       "    var baseURL = JSON.parse(\n",
       "        document.getElementById('jupyter-config-data').innerHTML\n",
       "    ).baseUrl.slice(0, -1);\n",
       "}\n",
       "url = baseURL + url;\n",
       "fetch(url).then(function(res) {\n",
       "    if (res.status === 404) {\n",
       "        div.innerHTML = 'Install QIIME 2 Jupyter extension with:<br />' +\n",
       "                        '<code>jupyter serverextension enable --py qiime2' +\n",
       "                        ' --sys-prefix</code><br />then restart your server.' +\n",
       "                        '<br /><br />(Interactive output not available on ' +\n",
       "                        'static notebook viewer services like nbviewer.)';\n",
       "    } else if (res.status === 409) {\n",
       "        div.innerHTML = 'Visualization no longer in scope. Re-run this cell' +\n",
       "                        ' to see the visualization.';\n",
       "    } else if (res.ok) {\n",
       "        url = res.url;\n",
       "        div.innerHTML = '<iframe src=\\'' + url + '\\' style=\\'' +\n",
       "                        'width: 100%; height: 700px; border: 0;\\'>' +\n",
       "                        '</iframe><hr />Open in a: <a href=\\'' + url + '\\'' +\n",
       "                        ' target=\\'_blank\\'>new window</a>'\n",
       "    } else {\n",
       "        div.innerHTML = 'Something has gone wrong. Check notebook server for' +\n",
       "                        ' errors.';\n",
       "    }\n",
       "});\n",
       "})(this.parentElement, '/qiime2/redirect?location=/tmp/qiime2-archive-apog2qll')\" src=\"data:image/gif;base64,R0lGODlhAQABAIAAAP///wAAACH5BAEAAAAALAAAAAABAAEAAAICRAEAOw==\" /></div>"
      ],
      "text/plain": [
       "<visualization: Visualization uuid: 19ec652c-9f2f-4575-b454-517d57c137e4>"
      ]
     },
     "execution_count": 80,
     "metadata": {},
     "output_type": "execute_result"
    }
   ],
   "source": [
    "Visualization.load(f'{data_dir}/table-w-metadata.qzv')"
   ]
  },
  {
   "cell_type": "markdown",
   "id": "38f956fb-0c9d-478d-89ef-5e8935e1882a",
   "metadata": {},
   "source": [
    "# 2. Random Forest classifier"
   ]
  },
  {
   "cell_type": "code",
   "execution_count": 16,
   "id": "9e9f8f12-4502-427a-86f7-6d65e42cb3d6",
   "metadata": {
    "collapsed": true,
    "jupyter": {
     "outputs_hidden": true
    },
    "tags": []
   },
   "outputs": [
    {
     "name": "stdout",
     "output_type": "stream",
     "text": [
      "Usage: \u001b[94mqiime sample-classifier classify-samples\u001b[0m [OPTIONS]\n",
      "\n",
      "  Predicts a categorical sample metadata column using a supervised learning\n",
      "  classifier. Splits input data into training and test sets. The training\n",
      "  set is used to train and test the estimator using a stratified k-fold\n",
      "  cross-validation scheme. This includes optional steps for automated\n",
      "  feature extraction and hyperparameter optimization. The test set validates\n",
      "  classification accuracy of the optimized estimator. Outputs classification\n",
      "  results for test set. For more details on the learning algorithm, see\n",
      "  http://scikit-learn.org/stable/supervised_learning.html\n",
      "\n",
      "\u001b[1mInputs\u001b[0m:\n",
      "  \u001b[94m\u001b[4m--i-table\u001b[0m ARTIFACT \u001b[32mFeatureTable[Frequency]\u001b[0m\n",
      "                       Feature table containing all features that should be\n",
      "                       used for target prediction.                  \u001b[35m[required]\u001b[0m\n",
      "\u001b[1mParameters\u001b[0m:\n",
      "  \u001b[94m\u001b[4m--m-metadata-file\u001b[0m METADATA\n",
      "  \u001b[94m\u001b[4m--m-metadata-column\u001b[0m COLUMN  \u001b[32mMetadataColumn[Categorical]\u001b[0m\n",
      "                       Categorical metadata column to use as prediction\n",
      "                       target.                                      \u001b[35m[required]\u001b[0m\n",
      "  \u001b[94m--p-test-size\u001b[0m PROPORTION\n",
      "    \u001b[32mRange(0.0, 1.0)\u001b[0m    Fraction of input samples to exclude from training set\n",
      "                       and use for classifier testing.          \u001b[35m[default: 0.2]\u001b[0m\n",
      "  \u001b[94m--p-step\u001b[0m PROPORTION \u001b[32mRange(0.0, 1.0, inclusive_start=False)\u001b[0m\n",
      "                       If \u001b[4moptimize-feature-selection\u001b[0m is True, step is the\n",
      "                       percentage of features to remove at each iteration.\n",
      "                                                               \u001b[35m[default: 0.05]\u001b[0m\n",
      "  \u001b[94m--p-cv\u001b[0m INTEGER       Number of k-fold cross-validations to perform.\n",
      "    \u001b[32mRange(1, None)\u001b[0m                                                \u001b[35m[default: 5]\u001b[0m\n",
      "  \u001b[94m--p-random-state\u001b[0m INTEGER\n",
      "                       Seed used by random number generator.        \u001b[35m[optional]\u001b[0m\n",
      "  \u001b[94m--p-n-jobs\u001b[0m INTEGER   Number of jobs to run in parallel.         \u001b[35m[default: 1]\u001b[0m\n",
      "  \u001b[94m--p-n-estimators\u001b[0m INTEGER\n",
      "    \u001b[32mRange(1, None)\u001b[0m     Number of trees to grow for estimation. More trees\n",
      "                       will improve predictive accuracy up to a threshold\n",
      "                       level, but will also increase time and memory\n",
      "                       requirements. This parameter only affects ensemble\n",
      "                       estimators, such as Random Forest, AdaBoost,\n",
      "                       ExtraTrees, and GradientBoosting.        \u001b[35m[default: 100]\u001b[0m\n",
      "  \u001b[94m--p-estimator\u001b[0m TEXT \u001b[32mChoices('RandomForestClassifier',\u001b[0m\n",
      "    \u001b[32m'ExtraTreesClassifier', 'GradientBoostingClassifier',\u001b[0m\n",
      "    \u001b[32m'AdaBoostClassifier', 'KNeighborsClassifier', 'LinearSVC', 'SVC')\u001b[0m\n",
      "                       Estimator method to use for sample prediction.\n",
      "                                           \u001b[35m[default: 'RandomForestClassifier']\u001b[0m\n",
      "  \u001b[94m--p-optimize-feature-selection\u001b[0m / \u001b[94m--p-no-optimize-feature-selection\u001b[0m\n",
      "                       Automatically optimize input feature selection using\n",
      "                       recursive feature elimination.         \u001b[35m[default: False]\u001b[0m\n",
      "  \u001b[94m--p-parameter-tuning\u001b[0m / \u001b[94m--p-no-parameter-tuning\u001b[0m\n",
      "                       Automatically tune hyperparameters using random grid\n",
      "                       search.                                \u001b[35m[default: False]\u001b[0m\n",
      "  \u001b[94m--p-palette\u001b[0m TEXT \u001b[32mChoices('YellowOrangeBrown', 'YellowOrangeRed',\u001b[0m\n",
      "    \u001b[32m'OrangeRed', 'PurpleRed', 'RedPurple', 'BluePurple', 'GreenBlue',\u001b[0m\n",
      "    \u001b[32m'PurpleBlue', 'YellowGreen', 'summer', 'copper', 'viridis', 'cividis',\u001b[0m\n",
      "    \u001b[32m'plasma', 'inferno', 'magma', 'sirocco', 'drifting', 'melancholy',\u001b[0m\n",
      "    \u001b[32m'enigma', 'eros', 'spectre', 'ambition', 'mysteriousstains', 'daydream',\u001b[0m\n",
      "    \u001b[32m'solano', 'navarro', 'dandelions', 'deepblue', 'verve', 'greyscale')\u001b[0m\n",
      "                       The color palette to use for plotting.\n",
      "                                                          \u001b[35m[default: 'sirocco']\u001b[0m\n",
      "  \u001b[94m--p-missing-samples\u001b[0m TEXT \u001b[32mChoices('error', 'ignore')\u001b[0m\n",
      "                       How to handle missing samples in metadata. \"error\"\n",
      "                       will fail if missing samples are detected. \"ignore\"\n",
      "                       will cause the feature table and metadata to be\n",
      "                       filtered, so that only samples found in both files are\n",
      "                       retained.                            \u001b[35m[default: 'error']\u001b[0m\n",
      "\u001b[1mOutputs\u001b[0m:\n",
      "  \u001b[94m\u001b[4m--o-sample-estimator\u001b[0m ARTIFACT \u001b[32mSampleEstimator[Classifier]\u001b[0m\n",
      "                       Trained sample estimator.                    \u001b[35m[required]\u001b[0m\n",
      "  \u001b[94m\u001b[4m--o-feature-importance\u001b[0m ARTIFACT \u001b[32mFeatureData[Importance]\u001b[0m\n",
      "                       Importance of each input feature to model accuracy.\n",
      "                                                                    \u001b[35m[required]\u001b[0m\n",
      "  \u001b[94m\u001b[4m--o-predictions\u001b[0m ARTIFACT \u001b[32mSampleData[ClassifierPredictions]\u001b[0m\n",
      "                       Predicted target values for each input sample.\n",
      "                                                                    \u001b[35m[required]\u001b[0m\n",
      "  \u001b[94m\u001b[4m--o-model-summary\u001b[0m VISUALIZATION\n",
      "                       Summarized parameter and (if enabled) feature\n",
      "                       selection information for the trained estimator.\n",
      "                                                                    \u001b[35m[required]\u001b[0m\n",
      "  \u001b[94m\u001b[4m--o-accuracy-results\u001b[0m VISUALIZATION\n",
      "                       Accuracy results visualization.              \u001b[35m[required]\u001b[0m\n",
      "  \u001b[94m\u001b[4m--o-probabilities\u001b[0m ARTIFACT \u001b[32mSampleData[Probabilities]\u001b[0m\n",
      "                       Predicted class probabilities for each input sample.\n",
      "                                                                    \u001b[35m[required]\u001b[0m\n",
      "  \u001b[94m\u001b[4m--o-heatmap\u001b[0m VISUALIZATION\n",
      "                       A heatmap of the top 50 most important features from\n",
      "                       the table.                                   \u001b[35m[required]\u001b[0m\n",
      "  \u001b[94m\u001b[4m--o-training-targets\u001b[0m ARTIFACT \u001b[32mSampleData[TrueTargets]\u001b[0m\n",
      "                       Series containing true target values of train samples\n",
      "                                                                    \u001b[35m[required]\u001b[0m\n",
      "  \u001b[94m\u001b[4m--o-test-targets\u001b[0m ARTIFACT \u001b[32mSampleData[TrueTargets]\u001b[0m\n",
      "                       Series containing true target values of test samples\n",
      "                                                                    \u001b[35m[required]\u001b[0m\n",
      "\u001b[1mMiscellaneous\u001b[0m:\n",
      "  \u001b[94m--output-dir\u001b[0m PATH    Output unspecified results to a directory\n",
      "  \u001b[94m--verbose\u001b[0m / \u001b[94m--quiet\u001b[0m  Display verbose output to stdout and/or stderr during\n",
      "                       execution of this action. Or silence output if\n",
      "                       execution is successful (silence is golden).\n",
      "  \u001b[94m--example-data\u001b[0m PATH  Write example data and exit.\n",
      "  \u001b[94m--citations\u001b[0m          Show citations and exit.\n",
      "  \u001b[94m--help\u001b[0m               Show this message and exit.\n"
     ]
    }
   ],
   "source": [
    "! qiime sample-classifier classify-samples"
   ]
  },
  {
   "cell_type": "code",
   "execution_count": 81,
   "id": "a5f240e8-e90c-425a-b873-bab2ed874436",
   "metadata": {
    "tags": []
   },
   "outputs": [
    {
     "name": "stdout",
     "output_type": "stream",
     "text": [
      "\u001b[32mSaved SampleEstimator[Classifier] to: project_data/RF-ALC-freq-4/sample_estimator.qza\u001b[0m\n",
      "\u001b[32mSaved FeatureData[Importance] to: project_data/RF-ALC-freq-4/feature_importance.qza\u001b[0m\n",
      "\u001b[32mSaved SampleData[ClassifierPredictions] to: project_data/RF-ALC-freq-4/predictions.qza\u001b[0m\n",
      "\u001b[32mSaved Visualization to: project_data/RF-ALC-freq-4/model_summary.qzv\u001b[0m\n",
      "\u001b[32mSaved Visualization to: project_data/RF-ALC-freq-4/accuracy_results.qzv\u001b[0m\n",
      "\u001b[32mSaved SampleData[Probabilities] to: project_data/RF-ALC-freq-4/probabilities.qza\u001b[0m\n",
      "\u001b[32mSaved Visualization to: project_data/RF-ALC-freq-4/heatmap.qzv\u001b[0m\n",
      "\u001b[32mSaved SampleData[TrueTargets] to: project_data/RF-ALC-freq-4/training_targets.qza\u001b[0m\n",
      "\u001b[32mSaved SampleData[TrueTargets] to: project_data/RF-ALC-freq-4/test_targets.qza\u001b[0m\n",
      "\u001b[0m"
     ]
    }
   ],
   "source": [
    "! qiime sample-classifier classify-samples \\\n",
    "    --i-table $data_dir/table-w-metadata.qza \\\n",
    "    --m-metadata-file $data_dir/sample_metadata.tsv \\\n",
    "    --m-metadata-column 'NUT_alcohol_frequency' \\\n",
    "    --p-test-size 0.2 \\\n",
    "    --p-estimator RandomForestClassifier \\\n",
    "    --p-random-state 14 \\\n",
    "    --p-n-estimators 200 \\\n",
    "    --p-optimize-feature-selection True \\\n",
    "    --p-parameter-tuning True \\\n",
    "    --p-missing-samples 'ignore' \\\n",
    "    --p-cv 10 \\\n",
    "    --output-dir $data_dir/RF-ALC-freq-4"
   ]
  },
  {
   "cell_type": "code",
   "execution_count": 82,
   "id": "6144809b-b85a-4264-b85a-f1625794c11a",
   "metadata": {
    "collapsed": true,
    "jupyter": {
     "outputs_hidden": true
    },
    "tags": []
   },
   "outputs": [
    {
     "data": {
      "text/html": [
       "<div><img onload=\"(function(div, url){\n",
       "if (typeof require !== 'undefined') {\n",
       "    var baseURL = require.toUrl('').split('/').slice(0, -2).join('/');\n",
       "} else {\n",
       "    var baseURL = JSON.parse(\n",
       "        document.getElementById('jupyter-config-data').innerHTML\n",
       "    ).baseUrl.slice(0, -1);\n",
       "}\n",
       "url = baseURL + url;\n",
       "fetch(url).then(function(res) {\n",
       "    if (res.status === 404) {\n",
       "        div.innerHTML = 'Install QIIME 2 Jupyter extension with:<br />' +\n",
       "                        '<code>jupyter serverextension enable --py qiime2' +\n",
       "                        ' --sys-prefix</code><br />then restart your server.' +\n",
       "                        '<br /><br />(Interactive output not available on ' +\n",
       "                        'static notebook viewer services like nbviewer.)';\n",
       "    } else if (res.status === 409) {\n",
       "        div.innerHTML = 'Visualization no longer in scope. Re-run this cell' +\n",
       "                        ' to see the visualization.';\n",
       "    } else if (res.ok) {\n",
       "        url = res.url;\n",
       "        div.innerHTML = '<iframe src=\\'' + url + '\\' style=\\'' +\n",
       "                        'width: 100%; height: 700px; border: 0;\\'>' +\n",
       "                        '</iframe><hr />Open in a: <a href=\\'' + url + '\\'' +\n",
       "                        ' target=\\'_blank\\'>new window</a>'\n",
       "    } else {\n",
       "        div.innerHTML = 'Something has gone wrong. Check notebook server for' +\n",
       "                        ' errors.';\n",
       "    }\n",
       "});\n",
       "})(this.parentElement, '/qiime2/redirect?location=/tmp/qiime2-archive-hj9rh11x')\" src=\"data:image/gif;base64,R0lGODlhAQABAIAAAP///wAAACH5BAEAAAAALAAAAAABAAEAAAICRAEAOw==\" /></div>"
      ],
      "text/plain": [
       "<visualization: Visualization uuid: 8c42bde9-b595-4bcf-aa7f-da364424b37d>"
      ]
     },
     "execution_count": 82,
     "metadata": {},
     "output_type": "execute_result"
    }
   ],
   "source": [
    "Visualization.load(f'{data_dir}/RF-ALC-freq-4/accuracy_results.qzv')"
   ]
  },
  {
   "cell_type": "code",
   "execution_count": 83,
   "id": "5838ed8c-7848-43ec-9e13-fdbac1018f38",
   "metadata": {
    "tags": []
   },
   "outputs": [
    {
     "name": "stdout",
     "output_type": "stream",
     "text": [
      "\u001b[32mSaved SampleEstimator[Classifier] to: project_data/RF-ALC-cons-2/sample_estimator.qza\u001b[0m\n",
      "\u001b[32mSaved FeatureData[Importance] to: project_data/RF-ALC-cons-2/feature_importance.qza\u001b[0m\n",
      "\u001b[32mSaved SampleData[ClassifierPredictions] to: project_data/RF-ALC-cons-2/predictions.qza\u001b[0m\n",
      "\u001b[32mSaved Visualization to: project_data/RF-ALC-cons-2/model_summary.qzv\u001b[0m\n",
      "\u001b[32mSaved Visualization to: project_data/RF-ALC-cons-2/accuracy_results.qzv\u001b[0m\n",
      "\u001b[32mSaved SampleData[Probabilities] to: project_data/RF-ALC-cons-2/probabilities.qza\u001b[0m\n",
      "\u001b[32mSaved Visualization to: project_data/RF-ALC-cons-2/heatmap.qzv\u001b[0m\n",
      "\u001b[32mSaved SampleData[TrueTargets] to: project_data/RF-ALC-cons-2/training_targets.qza\u001b[0m\n",
      "\u001b[32mSaved SampleData[TrueTargets] to: project_data/RF-ALC-cons-2/test_targets.qza\u001b[0m\n",
      "\u001b[0m"
     ]
    }
   ],
   "source": [
    "! qiime sample-classifier classify-samples \\\n",
    "    --i-table $data_dir/table-w-metadata.qza \\\n",
    "    --m-metadata-file $data_dir/sample_metadata.tsv \\\n",
    "    --m-metadata-column 'NUT_alcohol_consumption' \\\n",
    "    --p-test-size 0.2 \\\n",
    "    --p-estimator RandomForestClassifier \\\n",
    "    --p-random-state 14 \\\n",
    "    --p-n-estimators 200 \\\n",
    "    --p-optimize-feature-selection True \\\n",
    "    --p-parameter-tuning True \\\n",
    "    --p-missing-samples 'ignore' \\\n",
    "    --p-cv 5 \\\n",
    "    --output-dir $data_dir/RF-ALC-cons-2"
   ]
  },
  {
   "cell_type": "code",
   "execution_count": 84,
   "id": "e14fe486-252a-45fa-9a8b-fdf4dd9528bd",
   "metadata": {
    "collapsed": true,
    "jupyter": {
     "outputs_hidden": true
    },
    "tags": []
   },
   "outputs": [
    {
     "data": {
      "text/html": [
       "<div><img onload=\"(function(div, url){\n",
       "if (typeof require !== 'undefined') {\n",
       "    var baseURL = require.toUrl('').split('/').slice(0, -2).join('/');\n",
       "} else {\n",
       "    var baseURL = JSON.parse(\n",
       "        document.getElementById('jupyter-config-data').innerHTML\n",
       "    ).baseUrl.slice(0, -1);\n",
       "}\n",
       "url = baseURL + url;\n",
       "fetch(url).then(function(res) {\n",
       "    if (res.status === 404) {\n",
       "        div.innerHTML = 'Install QIIME 2 Jupyter extension with:<br />' +\n",
       "                        '<code>jupyter serverextension enable --py qiime2' +\n",
       "                        ' --sys-prefix</code><br />then restart your server.' +\n",
       "                        '<br /><br />(Interactive output not available on ' +\n",
       "                        'static notebook viewer services like nbviewer.)';\n",
       "    } else if (res.status === 409) {\n",
       "        div.innerHTML = 'Visualization no longer in scope. Re-run this cell' +\n",
       "                        ' to see the visualization.';\n",
       "    } else if (res.ok) {\n",
       "        url = res.url;\n",
       "        div.innerHTML = '<iframe src=\\'' + url + '\\' style=\\'' +\n",
       "                        'width: 100%; height: 700px; border: 0;\\'>' +\n",
       "                        '</iframe><hr />Open in a: <a href=\\'' + url + '\\'' +\n",
       "                        ' target=\\'_blank\\'>new window</a>'\n",
       "    } else {\n",
       "        div.innerHTML = 'Something has gone wrong. Check notebook server for' +\n",
       "                        ' errors.';\n",
       "    }\n",
       "});\n",
       "})(this.parentElement, '/qiime2/redirect?location=/tmp/qiime2-archive-ddbbjvyz')\" src=\"data:image/gif;base64,R0lGODlhAQABAIAAAP///wAAACH5BAEAAAAALAAAAAABAAEAAAICRAEAOw==\" /></div>"
      ],
      "text/plain": [
       "<visualization: Visualization uuid: 3fb23c7d-206b-49df-b1bd-77b1dcc63cbe>"
      ]
     },
     "execution_count": 84,
     "metadata": {},
     "output_type": "execute_result"
    }
   ],
   "source": [
    "Visualization.load(f'{data_dir}/RF-ALC-cons-2/accuracy_results.qzv')"
   ]
  },
  {
   "cell_type": "code",
   "execution_count": 13,
   "id": "cc8ceda2-5bf2-4edb-8995-0009936bcab1",
   "metadata": {
    "collapsed": true,
    "jupyter": {
     "outputs_hidden": true,
     "source_hidden": true
    },
    "tags": []
   },
   "outputs": [
    {
     "name": "stdout",
     "output_type": "stream",
     "text": [
      "\u001b[32mSaved SampleEstimator[Classifier] to: project_data/Alcohol-classifier-results/sample_estimator.qza\u001b[0m\n",
      "\u001b[32mSaved FeatureData[Importance] to: project_data/Alcohol-classifier-results/feature_importance.qza\u001b[0m\n",
      "\u001b[32mSaved SampleData[ClassifierPredictions] to: project_data/Alcohol-classifier-results/predictions.qza\u001b[0m\n",
      "\u001b[32mSaved Visualization to: project_data/Alcohol-classifier-results/model_summary.qzv\u001b[0m\n",
      "\u001b[32mSaved Visualization to: project_data/Alcohol-classifier-results/accuracy_results.qzv\u001b[0m\n",
      "\u001b[32mSaved SampleData[Probabilities] to: project_data/Alcohol-classifier-results/probabilities.qza\u001b[0m\n",
      "\u001b[32mSaved Visualization to: project_data/Alcohol-classifier-results/heatmap.qzv\u001b[0m\n",
      "\u001b[32mSaved SampleData[TrueTargets] to: project_data/Alcohol-classifier-results/training_targets.qza\u001b[0m\n",
      "\u001b[32mSaved SampleData[TrueTargets] to: project_data/Alcohol-classifier-results/test_targets.qza\u001b[0m\n",
      "\u001b[0m"
     ]
    }
   ],
   "source": [
    "! qiime sample-classifier classify-samples \\\n",
    "  --i-table $data_dir/table.qza \\\n",
    "  --m-metadata-file $data_dir/sample_metadata.tsv \\\n",
    "  --m-metadata-column 'NUT_alcohol_consumption' \\\n",
    "  --p-random-state 666 \\\n",
    "  --p-n-jobs 1 \\\n",
    "  --output-dir $data_dir/Alcohol-classifier-results/"
   ]
  },
  {
   "cell_type": "code",
   "execution_count": 14,
   "id": "db82b547-2193-45b0-b962-26ff42c254bd",
   "metadata": {
    "collapsed": true,
    "jupyter": {
     "outputs_hidden": true,
     "source_hidden": true
    },
    "tags": []
   },
   "outputs": [
    {
     "data": {
      "text/html": [
       "<div><img onload=\"(function(div, url){\n",
       "if (typeof require !== 'undefined') {\n",
       "    var baseURL = require.toUrl('').split('/').slice(0, -2).join('/');\n",
       "} else {\n",
       "    var baseURL = JSON.parse(\n",
       "        document.getElementById('jupyter-config-data').innerHTML\n",
       "    ).baseUrl.slice(0, -1);\n",
       "}\n",
       "url = baseURL + url;\n",
       "fetch(url).then(function(res) {\n",
       "    if (res.status === 404) {\n",
       "        div.innerHTML = 'Install QIIME 2 Jupyter extension with:<br />' +\n",
       "                        '<code>jupyter serverextension enable --py qiime2' +\n",
       "                        ' --sys-prefix</code><br />then restart your server.' +\n",
       "                        '<br /><br />(Interactive output not available on ' +\n",
       "                        'static notebook viewer services like nbviewer.)';\n",
       "    } else if (res.status === 409) {\n",
       "        div.innerHTML = 'Visualization no longer in scope. Re-run this cell' +\n",
       "                        ' to see the visualization.';\n",
       "    } else if (res.ok) {\n",
       "        url = res.url;\n",
       "        div.innerHTML = '<iframe src=\\'' + url + '\\' style=\\'' +\n",
       "                        'width: 100%; height: 700px; border: 0;\\'>' +\n",
       "                        '</iframe><hr />Open in a: <a href=\\'' + url + '\\'' +\n",
       "                        ' target=\\'_blank\\'>new window</a>'\n",
       "    } else {\n",
       "        div.innerHTML = 'Something has gone wrong. Check notebook server for' +\n",
       "                        ' errors.';\n",
       "    }\n",
       "});\n",
       "})(this.parentElement, '/qiime2/redirect?location=/tmp/qiime2-archive-gfefrtmx')\" src=\"data:image/gif;base64,R0lGODlhAQABAIAAAP///wAAACH5BAEAAAAALAAAAAABAAEAAAICRAEAOw==\" /></div>"
      ],
      "text/plain": [
       "<visualization: Visualization uuid: d3464519-749f-4059-bae1-e57255341cc9>"
      ]
     },
     "execution_count": 14,
     "metadata": {},
     "output_type": "execute_result"
    }
   ],
   "source": [
    "Visualization.load(f'{data_dir}/Alcohol-classifier-results/heatmap.qzv')"
   ]
  },
  {
   "cell_type": "code",
   "execution_count": 15,
   "id": "3b7387c7-4660-4f7c-8952-1d8faec921ed",
   "metadata": {
    "collapsed": true,
    "jupyter": {
     "outputs_hidden": true,
     "source_hidden": true
    },
    "tags": []
   },
   "outputs": [
    {
     "data": {
      "text/html": [
       "<div><img onload=\"(function(div, url){\n",
       "if (typeof require !== 'undefined') {\n",
       "    var baseURL = require.toUrl('').split('/').slice(0, -2).join('/');\n",
       "} else {\n",
       "    var baseURL = JSON.parse(\n",
       "        document.getElementById('jupyter-config-data').innerHTML\n",
       "    ).baseUrl.slice(0, -1);\n",
       "}\n",
       "url = baseURL + url;\n",
       "fetch(url).then(function(res) {\n",
       "    if (res.status === 404) {\n",
       "        div.innerHTML = 'Install QIIME 2 Jupyter extension with:<br />' +\n",
       "                        '<code>jupyter serverextension enable --py qiime2' +\n",
       "                        ' --sys-prefix</code><br />then restart your server.' +\n",
       "                        '<br /><br />(Interactive output not available on ' +\n",
       "                        'static notebook viewer services like nbviewer.)';\n",
       "    } else if (res.status === 409) {\n",
       "        div.innerHTML = 'Visualization no longer in scope. Re-run this cell' +\n",
       "                        ' to see the visualization.';\n",
       "    } else if (res.ok) {\n",
       "        url = res.url;\n",
       "        div.innerHTML = '<iframe src=\\'' + url + '\\' style=\\'' +\n",
       "                        'width: 100%; height: 700px; border: 0;\\'>' +\n",
       "                        '</iframe><hr />Open in a: <a href=\\'' + url + '\\'' +\n",
       "                        ' target=\\'_blank\\'>new window</a>'\n",
       "    } else {\n",
       "        div.innerHTML = 'Something has gone wrong. Check notebook server for' +\n",
       "                        ' errors.';\n",
       "    }\n",
       "});\n",
       "})(this.parentElement, '/qiime2/redirect?location=/tmp/qiime2-archive-mec5m34x')\" src=\"data:image/gif;base64,R0lGODlhAQABAIAAAP///wAAACH5BAEAAAAALAAAAAABAAEAAAICRAEAOw==\" /></div>"
      ],
      "text/plain": [
       "<visualization: Visualization uuid: 5d4b2946-7c95-487e-adbc-0bdd1d8064b4>"
      ]
     },
     "execution_count": 15,
     "metadata": {},
     "output_type": "execute_result"
    }
   ],
   "source": [
    "Visualization.load(f'{data_dir}/Alcohol-classifier-results/accuracy_results.qzv')"
   ]
  },
  {
   "cell_type": "markdown",
   "id": "0b03f93d-7353-43be-a2f7-a4c8a341a633",
   "metadata": {},
   "source": [
    "# 3. Linear SVC"
   ]
  },
  {
   "cell_type": "code",
   "execution_count": 92,
   "id": "e0383fe1-adba-4995-bab3-3c9ee1173250",
   "metadata": {
    "tags": []
   },
   "outputs": [
    {
     "name": "stdout",
     "output_type": "stream",
     "text": [
      "\u001b[32mSaved SampleEstimator[Classifier] to: project_data/LinearSVC-Alc-freq/sample_estimator.qza\u001b[0m\n",
      "\u001b[32mSaved FeatureData[Importance] to: project_data/LinearSVC-Alc-freq/feature_importance.qza\u001b[0m\n",
      "\u001b[32mSaved SampleData[ClassifierPredictions] to: project_data/LinearSVC-Alc-freq/predictions.qza\u001b[0m\n",
      "\u001b[32mSaved Visualization to: project_data/LinearSVC-Alc-freq/model_summary.qzv\u001b[0m\n",
      "\u001b[32mSaved Visualization to: project_data/LinearSVC-Alc-freq/accuracy_results.qzv\u001b[0m\n",
      "\u001b[32mSaved SampleData[Probabilities] to: project_data/LinearSVC-Alc-freq/probabilities.qza\u001b[0m\n",
      "\u001b[32mSaved Visualization to: project_data/LinearSVC-Alc-freq/heatmap.qzv\u001b[0m\n",
      "\u001b[32mSaved SampleData[TrueTargets] to: project_data/LinearSVC-Alc-freq/training_targets.qza\u001b[0m\n",
      "\u001b[32mSaved SampleData[TrueTargets] to: project_data/LinearSVC-Alc-freq/test_targets.qza\u001b[0m\n",
      "\u001b[0m"
     ]
    }
   ],
   "source": [
    "! qiime sample-classifier classify-samples \\\n",
    "    --i-table $data_dir/table-w-metadata.qza \\\n",
    "    --m-metadata-file $data_dir/sample_metadata.tsv \\\n",
    "    --m-metadata-column 'NUT_alcohol_frequency' \\\n",
    "    --p-test-size 0.1 \\\n",
    "    --p-estimator LinearSVC \\\n",
    "    --p-random-state 14 \\\n",
    "    --p-n-estimators 100 \\\n",
    "    --p-optimize-feature-selection False \\\n",
    "    --p-parameter-tuning False \\\n",
    "    --p-cv 5 \\\n",
    "    --output-dir $data_dir/LinearSVC-Alc-freq"
   ]
  },
  {
   "cell_type": "code",
   "execution_count": 93,
   "id": "ca87c89d-90f7-40a2-b60f-8439f080e5dd",
   "metadata": {
    "collapsed": true,
    "jupyter": {
     "outputs_hidden": true
    },
    "tags": []
   },
   "outputs": [
    {
     "data": {
      "text/html": [
       "<div><img onload=\"(function(div, url){\n",
       "if (typeof require !== 'undefined') {\n",
       "    var baseURL = require.toUrl('').split('/').slice(0, -2).join('/');\n",
       "} else {\n",
       "    var baseURL = JSON.parse(\n",
       "        document.getElementById('jupyter-config-data').innerHTML\n",
       "    ).baseUrl.slice(0, -1);\n",
       "}\n",
       "url = baseURL + url;\n",
       "fetch(url).then(function(res) {\n",
       "    if (res.status === 404) {\n",
       "        div.innerHTML = 'Install QIIME 2 Jupyter extension with:<br />' +\n",
       "                        '<code>jupyter serverextension enable --py qiime2' +\n",
       "                        ' --sys-prefix</code><br />then restart your server.' +\n",
       "                        '<br /><br />(Interactive output not available on ' +\n",
       "                        'static notebook viewer services like nbviewer.)';\n",
       "    } else if (res.status === 409) {\n",
       "        div.innerHTML = 'Visualization no longer in scope. Re-run this cell' +\n",
       "                        ' to see the visualization.';\n",
       "    } else if (res.ok) {\n",
       "        url = res.url;\n",
       "        div.innerHTML = '<iframe src=\\'' + url + '\\' style=\\'' +\n",
       "                        'width: 100%; height: 700px; border: 0;\\'>' +\n",
       "                        '</iframe><hr />Open in a: <a href=\\'' + url + '\\'' +\n",
       "                        ' target=\\'_blank\\'>new window</a>'\n",
       "    } else {\n",
       "        div.innerHTML = 'Something has gone wrong. Check notebook server for' +\n",
       "                        ' errors.';\n",
       "    }\n",
       "});\n",
       "})(this.parentElement, '/qiime2/redirect?location=/tmp/qiime2-archive-6rjlc16_')\" src=\"data:image/gif;base64,R0lGODlhAQABAIAAAP///wAAACH5BAEAAAAALAAAAAABAAEAAAICRAEAOw==\" /></div>"
      ],
      "text/plain": [
       "<visualization: Visualization uuid: 503818b4-d5d7-4719-bc56-0eca06b2eeac>"
      ]
     },
     "execution_count": 93,
     "metadata": {},
     "output_type": "execute_result"
    }
   ],
   "source": [
    "Visualization.load(f'{data_dir}/LinearSVC-Alc-freq/accuracy_results.qzv')"
   ]
  },
  {
   "cell_type": "markdown",
   "id": "8b45970f-9edf-43bf-a416-8af65d37c54f",
   "metadata": {},
   "source": [
    "# 3. KNeighborsClassifier Classifier"
   ]
  },
  {
   "cell_type": "code",
   "execution_count": 50,
   "id": "980602e6-e8d1-42be-a341-39b156ea5cfa",
   "metadata": {},
   "outputs": [
    {
     "name": "stdout",
     "output_type": "stream",
     "text": [
      "\u001b[32mSaved SampleEstimator[Classifier] to: project_data/KNeighborsClassifier-Alc-cons/sample_estimator.qza\u001b[0m\n",
      "\u001b[32mSaved FeatureData[Importance] to: project_data/KNeighborsClassifier-Alc-cons/feature_importance.qza\u001b[0m\n",
      "\u001b[32mSaved SampleData[ClassifierPredictions] to: project_data/KNeighborsClassifier-Alc-cons/predictions.qza\u001b[0m\n",
      "\u001b[32mSaved Visualization to: project_data/KNeighborsClassifier-Alc-cons/model_summary.qzv\u001b[0m\n",
      "\u001b[32mSaved Visualization to: project_data/KNeighborsClassifier-Alc-cons/accuracy_results.qzv\u001b[0m\n",
      "\u001b[32mSaved SampleData[Probabilities] to: project_data/KNeighborsClassifier-Alc-cons/probabilities.qza\u001b[0m\n",
      "\u001b[32mSaved Visualization to: project_data/KNeighborsClassifier-Alc-cons/heatmap.qzv\u001b[0m\n",
      "\u001b[32mSaved SampleData[TrueTargets] to: project_data/KNeighborsClassifier-Alc-cons/training_targets.qza\u001b[0m\n",
      "\u001b[32mSaved SampleData[TrueTargets] to: project_data/KNeighborsClassifier-Alc-cons/test_targets.qza\u001b[0m\n",
      "\u001b[0m"
     ]
    }
   ],
   "source": [
    "! qiime sample-classifier classify-samples \\\n",
    "  --i-table $data_dir/table.qza \\\n",
    "  --m-metadata-file $data_dir/sample_metadata.tsv \\\n",
    "  --m-metadata-column 'NUT_alcohol_consumption' \\\n",
    "  --p-test-size 0.1 \\\n",
    "  --p-estimator KNeighborsClassifier \\\n",
    "  --p-random-state 14 \\\n",
    "  --output-dir $data_dir/KNeighborsClassifier-Alc-cons"
   ]
  },
  {
   "cell_type": "code",
   "execution_count": 51,
   "id": "df19cd04-20e0-4c11-9cc7-99aa1dda403e",
   "metadata": {
    "collapsed": true,
    "jupyter": {
     "outputs_hidden": true
    },
    "tags": []
   },
   "outputs": [
    {
     "data": {
      "text/html": [
       "<div><img onload=\"(function(div, url){\n",
       "if (typeof require !== 'undefined') {\n",
       "    var baseURL = require.toUrl('').split('/').slice(0, -2).join('/');\n",
       "} else {\n",
       "    var baseURL = JSON.parse(\n",
       "        document.getElementById('jupyter-config-data').innerHTML\n",
       "    ).baseUrl.slice(0, -1);\n",
       "}\n",
       "url = baseURL + url;\n",
       "fetch(url).then(function(res) {\n",
       "    if (res.status === 404) {\n",
       "        div.innerHTML = 'Install QIIME 2 Jupyter extension with:<br />' +\n",
       "                        '<code>jupyter serverextension enable --py qiime2' +\n",
       "                        ' --sys-prefix</code><br />then restart your server.' +\n",
       "                        '<br /><br />(Interactive output not available on ' +\n",
       "                        'static notebook viewer services like nbviewer.)';\n",
       "    } else if (res.status === 409) {\n",
       "        div.innerHTML = 'Visualization no longer in scope. Re-run this cell' +\n",
       "                        ' to see the visualization.';\n",
       "    } else if (res.ok) {\n",
       "        url = res.url;\n",
       "        div.innerHTML = '<iframe src=\\'' + url + '\\' style=\\'' +\n",
       "                        'width: 100%; height: 700px; border: 0;\\'>' +\n",
       "                        '</iframe><hr />Open in a: <a href=\\'' + url + '\\'' +\n",
       "                        ' target=\\'_blank\\'>new window</a>'\n",
       "    } else {\n",
       "        div.innerHTML = 'Something has gone wrong. Check notebook server for' +\n",
       "                        ' errors.';\n",
       "    }\n",
       "});\n",
       "})(this.parentElement, '/qiime2/redirect?location=/tmp/qiime2-archive-lac90yf3')\" src=\"data:image/gif;base64,R0lGODlhAQABAIAAAP///wAAACH5BAEAAAAALAAAAAABAAEAAAICRAEAOw==\" /></div>"
      ],
      "text/plain": [
       "<visualization: Visualization uuid: 04f91263-2d4d-4f11-bbb7-73cfe5a2ed8b>"
      ]
     },
     "execution_count": 51,
     "metadata": {},
     "output_type": "execute_result"
    }
   ],
   "source": [
    "Visualization.load(f'{data_dir}/KNeighborsClassifier-Alc-cons/accuracy_results.qzv')"
   ]
  },
  {
   "cell_type": "markdown",
   "id": "7f85ef09-2cfb-4c91-9b1c-2392f7d914b2",
   "metadata": {},
   "source": [
    "# 4. Regressor"
   ]
  },
  {
   "cell_type": "markdown",
   "id": "04ed2311-488d-433b-84e1-28b95eb06c58",
   "metadata": {},
   "source": [
    "## 4.1 "
   ]
  },
  {
   "cell_type": "code",
   "execution_count": 87,
   "id": "1603350c-3519-4c26-904b-840062fb72eb",
   "metadata": {
    "collapsed": true,
    "jupyter": {
     "outputs_hidden": true
    },
    "tags": []
   },
   "outputs": [
    {
     "name": "stdout",
     "output_type": "stream",
     "text": [
      "Usage: \u001b[94mqiime sample-classifier regress-samples\u001b[0m [OPTIONS]\n",
      "\n",
      "  Predicts a continuous sample metadata column using a supervised learning\n",
      "  regressor. Splits input data into training and test sets. The training set\n",
      "  is used to train and test the estimator using a stratified k-fold cross-\n",
      "  validation scheme. This includes optional steps for automated feature\n",
      "  extraction and hyperparameter optimization. The test set validates\n",
      "  classification accuracy of the optimized estimator. Outputs classification\n",
      "  results for test set. For more details on the learning algorithm, see\n",
      "  http://scikit-learn.org/stable/supervised_learning.html\n",
      "\n",
      "\u001b[1mInputs\u001b[0m:\n",
      "  \u001b[94m\u001b[4m--i-table\u001b[0m ARTIFACT \u001b[32mFeatureTable[Frequency]\u001b[0m\n",
      "                       Feature table containing all features that should be\n",
      "                       used for target prediction.                  \u001b[35m[required]\u001b[0m\n",
      "\u001b[1mParameters\u001b[0m:\n",
      "  \u001b[94m\u001b[4m--m-metadata-file\u001b[0m METADATA\n",
      "  \u001b[94m\u001b[4m--m-metadata-column\u001b[0m COLUMN  \u001b[32mMetadataColumn[Numeric]\u001b[0m\n",
      "                       Numeric metadata column to use as prediction target.\n",
      "                                                                    \u001b[35m[required]\u001b[0m\n",
      "  \u001b[94m--p-test-size\u001b[0m PROPORTION\n",
      "    \u001b[32mRange(0.0, 1.0)\u001b[0m    Fraction of input samples to exclude from training set\n",
      "                       and use for classifier testing.          \u001b[35m[default: 0.2]\u001b[0m\n",
      "  \u001b[94m--p-step\u001b[0m PROPORTION \u001b[32mRange(0.0, 1.0, inclusive_start=False)\u001b[0m\n",
      "                       If \u001b[4moptimize-feature-selection\u001b[0m is True, step is the\n",
      "                       percentage of features to remove at each iteration.\n",
      "                                                               \u001b[35m[default: 0.05]\u001b[0m\n",
      "  \u001b[94m--p-cv\u001b[0m INTEGER       Number of k-fold cross-validations to perform.\n",
      "    \u001b[32mRange(1, None)\u001b[0m                                                \u001b[35m[default: 5]\u001b[0m\n",
      "  \u001b[94m--p-random-state\u001b[0m INTEGER\n",
      "                       Seed used by random number generator.        \u001b[35m[optional]\u001b[0m\n",
      "  \u001b[94m--p-n-jobs\u001b[0m INTEGER   Number of jobs to run in parallel.         \u001b[35m[default: 1]\u001b[0m\n",
      "  \u001b[94m--p-n-estimators\u001b[0m INTEGER\n",
      "    \u001b[32mRange(1, None)\u001b[0m     Number of trees to grow for estimation. More trees\n",
      "                       will improve predictive accuracy up to a threshold\n",
      "                       level, but will also increase time and memory\n",
      "                       requirements. This parameter only affects ensemble\n",
      "                       estimators, such as Random Forest, AdaBoost,\n",
      "                       ExtraTrees, and GradientBoosting.        \u001b[35m[default: 100]\u001b[0m\n",
      "  \u001b[94m--p-estimator\u001b[0m TEXT \u001b[32mChoices('RandomForestRegressor',\u001b[0m\n",
      "    \u001b[32m'ExtraTreesRegressor', 'GradientBoostingRegressor', 'AdaBoostRegressor',\u001b[0m\n",
      "    \u001b[32m'ElasticNet', 'Ridge', 'Lasso', 'KNeighborsRegressor', 'LinearSVR', 'SVR')\u001b[0m\n",
      "                       Estimator method to use for sample prediction.\n",
      "                                            \u001b[35m[default: 'RandomForestRegressor']\u001b[0m\n",
      "  \u001b[94m--p-optimize-feature-selection\u001b[0m / \u001b[94m--p-no-optimize-feature-selection\u001b[0m\n",
      "                       Automatically optimize input feature selection using\n",
      "                       recursive feature elimination.         \u001b[35m[default: False]\u001b[0m\n",
      "  \u001b[94m--p-stratify\u001b[0m / \u001b[94m--p-no-stratify\u001b[0m\n",
      "                       Evenly stratify training and test data among metadata\n",
      "                       categories. If True, all values in column must match at\n",
      "                       least two samples.                     \u001b[35m[default: False]\u001b[0m\n",
      "  \u001b[94m--p-parameter-tuning\u001b[0m / \u001b[94m--p-no-parameter-tuning\u001b[0m\n",
      "                       Automatically tune hyperparameters using random grid\n",
      "                       search.                                \u001b[35m[default: False]\u001b[0m\n",
      "  \u001b[94m--p-missing-samples\u001b[0m TEXT \u001b[32mChoices('error', 'ignore')\u001b[0m\n",
      "                       How to handle missing samples in metadata. \"error\"\n",
      "                       will fail if missing samples are detected. \"ignore\"\n",
      "                       will cause the feature table and metadata to be\n",
      "                       filtered, so that only samples found in both files are\n",
      "                       retained.                            \u001b[35m[default: 'error']\u001b[0m\n",
      "\u001b[1mOutputs\u001b[0m:\n",
      "  \u001b[94m\u001b[4m--o-sample-estimator\u001b[0m ARTIFACT \u001b[32mSampleEstimator[Regressor]\u001b[0m\n",
      "                       Trained sample estimator.                    \u001b[35m[required]\u001b[0m\n",
      "  \u001b[94m\u001b[4m--o-feature-importance\u001b[0m ARTIFACT \u001b[32mFeatureData[Importance]\u001b[0m\n",
      "                       Importance of each input feature to model accuracy.\n",
      "                                                                    \u001b[35m[required]\u001b[0m\n",
      "  \u001b[94m\u001b[4m--o-predictions\u001b[0m ARTIFACT \u001b[32mSampleData[RegressorPredictions]\u001b[0m\n",
      "                       Predicted target values for each input sample.\n",
      "                                                                    \u001b[35m[required]\u001b[0m\n",
      "  \u001b[94m\u001b[4m--o-model-summary\u001b[0m VISUALIZATION\n",
      "                       Summarized parameter and (if enabled) feature\n",
      "                       selection information for the trained estimator.\n",
      "                                                                    \u001b[35m[required]\u001b[0m\n",
      "  \u001b[94m\u001b[4m--o-accuracy-results\u001b[0m VISUALIZATION\n",
      "                       Accuracy results visualization.              \u001b[35m[required]\u001b[0m\n",
      "\u001b[1mMiscellaneous\u001b[0m:\n",
      "  \u001b[94m--output-dir\u001b[0m PATH    Output unspecified results to a directory\n",
      "  \u001b[94m--verbose\u001b[0m / \u001b[94m--quiet\u001b[0m  Display verbose output to stdout and/or stderr during\n",
      "                       execution of this action. Or silence output if\n",
      "                       execution is successful (silence is golden).\n",
      "  \u001b[94m--example-data\u001b[0m PATH  Write example data and exit.\n",
      "  \u001b[94m--citations\u001b[0m          Show citations and exit.\n",
      "  \u001b[94m--help\u001b[0m               Show this message and exit.\n"
     ]
    }
   ],
   "source": [
    "! qiime sample-classifier regress-samples --help"
   ]
  },
  {
   "cell_type": "code",
   "execution_count": 88,
   "id": "80c453dd-3d12-4274-8687-1e48baca3a63",
   "metadata": {},
   "outputs": [
    {
     "name": "stdout",
     "output_type": "stream",
     "text": [
      "\u001b[32mSaved SampleEstimator[Regressor] to: project_data/Lasso-regressor/sample_estimator.qza\u001b[0m\n",
      "\u001b[32mSaved FeatureData[Importance] to: project_data/Lasso-regressor/feature_importance.qza\u001b[0m\n",
      "\u001b[32mSaved SampleData[RegressorPredictions] to: project_data/Lasso-regressor/predictions.qza\u001b[0m\n",
      "\u001b[32mSaved Visualization to: project_data/Lasso-regressor/model_summary.qzv\u001b[0m\n",
      "\u001b[32mSaved Visualization to: project_data/Lasso-regressor/accuracy_results.qzv\u001b[0m\n",
      "\u001b[0m"
     ]
    }
   ],
   "source": [
    "! qiime sample-classifier regress-samples \\\n",
    "  --i-table $data_dir/table-w-metadata.qza \\\n",
    "  --m-metadata-file $data_dir/sample_metadata.tsv \\\n",
    "  --m-metadata-column GEN_age_corrected \\\n",
    "  --p-test-size 0.2 \\\n",
    "  --p-estimator Lasso \\\n",
    "  --p-random-state 22 \\\n",
    "  --output-dir $data_dir/Lasso-regressor"
   ]
  },
  {
   "cell_type": "code",
   "execution_count": 89,
   "id": "52e1ebbc-6884-4e49-82e7-278c118e4634",
   "metadata": {
    "collapsed": true,
    "jupyter": {
     "outputs_hidden": true
    },
    "tags": []
   },
   "outputs": [
    {
     "data": {
      "text/html": [
       "<div><img onload=\"(function(div, url){\n",
       "if (typeof require !== 'undefined') {\n",
       "    var baseURL = require.toUrl('').split('/').slice(0, -2).join('/');\n",
       "} else {\n",
       "    var baseURL = JSON.parse(\n",
       "        document.getElementById('jupyter-config-data').innerHTML\n",
       "    ).baseUrl.slice(0, -1);\n",
       "}\n",
       "url = baseURL + url;\n",
       "fetch(url).then(function(res) {\n",
       "    if (res.status === 404) {\n",
       "        div.innerHTML = 'Install QIIME 2 Jupyter extension with:<br />' +\n",
       "                        '<code>jupyter serverextension enable --py qiime2' +\n",
       "                        ' --sys-prefix</code><br />then restart your server.' +\n",
       "                        '<br /><br />(Interactive output not available on ' +\n",
       "                        'static notebook viewer services like nbviewer.)';\n",
       "    } else if (res.status === 409) {\n",
       "        div.innerHTML = 'Visualization no longer in scope. Re-run this cell' +\n",
       "                        ' to see the visualization.';\n",
       "    } else if (res.ok) {\n",
       "        url = res.url;\n",
       "        div.innerHTML = '<iframe src=\\'' + url + '\\' style=\\'' +\n",
       "                        'width: 100%; height: 700px; border: 0;\\'>' +\n",
       "                        '</iframe><hr />Open in a: <a href=\\'' + url + '\\'' +\n",
       "                        ' target=\\'_blank\\'>new window</a>'\n",
       "    } else {\n",
       "        div.innerHTML = 'Something has gone wrong. Check notebook server for' +\n",
       "                        ' errors.';\n",
       "    }\n",
       "});\n",
       "})(this.parentElement, '/qiime2/redirect?location=/tmp/qiime2-archive-phcifoh8')\" src=\"data:image/gif;base64,R0lGODlhAQABAIAAAP///wAAACH5BAEAAAAALAAAAAABAAEAAAICRAEAOw==\" /></div>"
      ],
      "text/plain": [
       "<visualization: Visualization uuid: d3c27e9c-ac2f-40d2-9d68-5414b7a46f95>"
      ]
     },
     "execution_count": 89,
     "metadata": {},
     "output_type": "execute_result"
    }
   ],
   "source": [
    "Visualization.load(f'{data_dir}/Lasso-regressor/accuracy_results.qzv')"
   ]
  }
 ],
 "metadata": {
  "kernelspec": {
   "display_name": "Python 3 (ipykernel)",
   "language": "python",
   "name": "python3"
  },
  "language_info": {
   "codemirror_mode": {
    "name": "ipython",
    "version": 3
   },
   "file_extension": ".py",
   "mimetype": "text/x-python",
   "name": "python",
   "nbconvert_exporter": "python",
   "pygments_lexer": "ipython3",
   "version": "3.8.13"
  }
 },
 "nbformat": 4,
 "nbformat_minor": 5
}
