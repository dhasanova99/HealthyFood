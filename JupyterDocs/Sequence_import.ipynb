{
 "cells": [
  {
   "cell_type": "markdown",
   "id": "ffed1a41-de26-4b66-bc4f-dc145270d4af",
   "metadata": {},
   "source": [
    "### 0. Setup"
   ]
  },
  {
   "cell_type": "markdown",
   "id": "aa42b692-b9a6-4772-8a75-6535c6e1448a",
   "metadata": {},
   "source": [
    "Import packages and create folder for data"
   ]
  },
  {
   "cell_type": "code",
   "execution_count": 1,
   "id": "8bf9c036-f181-4c86-a601-680bc9d4e213",
   "metadata": {},
   "outputs": [],
   "source": [
    "import os\n",
    "import pandas as pd\n",
    "from qiime2 import Visualization\n",
    "import matplotlib.pyplot as plt\n",
    "\n",
    "%matplotlib inline"
   ]
  },
  {
   "cell_type": "code",
   "execution_count": 2,
   "id": "d756d1fb-5ffa-48fe-9e7f-03e5c4fd7dc4",
   "metadata": {},
   "outputs": [],
   "source": [
    "# location of this week's data and all the results produced by this notebook \n",
    "# - this should be a path relative to your working directory\n",
    "data_dir = 'seq_data'\n",
    "\n",
    "if not os.path.isdir(data_dir):\n",
    "    os.makedirs(data_dir)"
   ]
  },
  {
   "cell_type": "markdown",
   "id": "4fc32b32-cf82-40ad-b798-b803b7e6fc5a",
   "metadata": {},
   "source": [
    "### 1. Data Import"
   ]
  },
  {
   "cell_type": "code",
   "execution_count": 11,
   "id": "7b78e650-f198-47f8-93a9-e005b8e33fc0",
   "metadata": {},
   "outputs": [
    {
     "name": "stdout",
     "output_type": "stream",
     "text": [
      "2022-10-11 08:56:52 URL:https://polybox.ethz.ch/index.php/s/AsLORlvUbwgBWTq/download [1506379068/1506379068] -> \"seq_data/seq_data.zip\" [1]\n"
     ]
    }
   ],
   "source": [
    "! wget -nv -O $data_dir/seq_data.zip 'https://polybox.ethz.ch/index.php/s/AsLORlvUbwgBWTq/download'"
   ]
  },
  {
   "cell_type": "code",
   "execution_count": 12,
   "id": "1fbe16b8-ece8-4a7f-9533-e2ee93d89aea",
   "metadata": {},
   "outputs": [],
   "source": [
    "! unzip -q $data_dir/seq_data.zip -d $data_dir\n",
    "! rm $data_dir/seq_data.zip"
   ]
  },
  {
   "cell_type": "code",
   "execution_count": 17,
   "id": "f750ec09-f415-458c-aeab-e413e36152c6",
   "metadata": {},
   "outputs": [
    {
     "name": "stdout",
     "output_type": "stream",
     "text": [
      "total 226\n",
      "-rw-r--r-- 1 jovyan users  84914 Aug  6  2021 checksums.md5\n",
      "drwxr-xr-x 2 jovyan users 131072 Oct 11 08:58 data\n",
      "-rw-r--r-- 1 jovyan users    139 Aug  6  2021 metadata.yaml\n",
      "drwxr-xr-x 4 jovyan users   4096 Oct 11 08:56 provenance\n",
      "-rw-r--r-- 1 jovyan users     39 Aug  6  2021 VERSION\n"
     ]
    }
   ],
   "source": [
    "! ls -l $data_dir/32a1795b-d6fb-4ecc-9166-4fe29fb8206a"
   ]
  },
  {
   "cell_type": "code",
   "execution_count": null,
   "id": "9566a828-c639-4196-b6c1-0e8a9ab7ae71",
   "metadata": {},
   "outputs": [],
   "source": []
  }
 ],
 "metadata": {
  "kernelspec": {
   "display_name": "Python 3 (ipykernel)",
   "language": "python",
   "name": "python3"
  },
  "language_info": {
   "codemirror_mode": {
    "name": "ipython",
    "version": 3
   },
   "file_extension": ".py",
   "mimetype": "text/x-python",
   "name": "python",
   "nbconvert_exporter": "python",
   "pygments_lexer": "ipython3",
   "version": "3.8.13"
  }
 },
 "nbformat": 4,
 "nbformat_minor": 5
}
