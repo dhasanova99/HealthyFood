{
 "cells": [
  {
   "cell_type": "markdown",
   "id": "ffed1a41-de26-4b66-bc4f-dc145270d4af",
   "metadata": {},
   "source": [
    "### 0. Setup"
   ]
  },
  {
   "cell_type": "markdown",
   "id": "aa42b692-b9a6-4772-8a75-6535c6e1448a",
   "metadata": {},
   "source": [
    "Import packages and create folder for data"
   ]
  },
  {
   "cell_type": "code",
   "execution_count": 19,
   "id": "8bf9c036-f181-4c86-a601-680bc9d4e213",
   "metadata": {},
   "outputs": [],
   "source": [
    "import os\n",
    "import pandas as pd\n",
    "from qiime2 import Visualization\n",
    "import matplotlib.pyplot as plt\n",
    "\n",
    "%matplotlib inline"
   ]
  },
  {
   "cell_type": "code",
   "execution_count": 20,
   "id": "d756d1fb-5ffa-48fe-9e7f-03e5c4fd7dc4",
   "metadata": {},
   "outputs": [],
   "source": [
    "# location of this week's data and all the results produced by this notebook \n",
    "# - this should be a path relative to your working directory\n",
    "data_dir = 'seq_data_new'\n",
    "\n",
    "if not os.path.isdir(data_dir):\n",
    "    os.makedirs(data_dir)"
   ]
  },
  {
   "cell_type": "markdown",
   "id": "4fc32b32-cf82-40ad-b798-b803b7e6fc5a",
   "metadata": {},
   "source": [
    "### 1. Data Import"
   ]
  },
  {
   "cell_type": "markdown",
   "id": "ee834d25-486c-47a6-ae60-70730f9c3e62",
   "metadata": {},
   "source": [
    "Import Metadata "
   ]
  },
  {
   "cell_type": "code",
   "execution_count": 21,
   "id": "91b9e733-6790-40a1-874c-4e50f8e151eb",
   "metadata": {},
   "outputs": [],
   "source": [
    "metadata_df = pd.read_csv(f'{data_dir}/sample_meta_data.tsv', sep='\\t', index_col=0)"
   ]
  },
  {
   "cell_type": "code",
   "execution_count": 22,
   "id": "4d522e5e-227f-48ff-9517-2687a76346ce",
   "metadata": {},
   "outputs": [
    {
     "data": {
      "text/html": [
       "<div>\n",
       "<style scoped>\n",
       "    .dataframe tbody tr th:only-of-type {\n",
       "        vertical-align: middle;\n",
       "    }\n",
       "\n",
       "    .dataframe tbody tr th {\n",
       "        vertical-align: top;\n",
       "    }\n",
       "\n",
       "    .dataframe thead th {\n",
       "        text-align: right;\n",
       "    }\n",
       "</style>\n",
       "<table border=\"1\" class=\"dataframe\">\n",
       "  <thead>\n",
       "    <tr style=\"text-align: right;\">\n",
       "      <th></th>\n",
       "      <th>GEN_age_cat</th>\n",
       "      <th>GEN_age_corrected</th>\n",
       "      <th>GEN_bmi_cat</th>\n",
       "      <th>GEN_bmi_corrected</th>\n",
       "      <th>GEN_cat</th>\n",
       "      <th>GEN_collection_timestamp</th>\n",
       "      <th>GEN_country</th>\n",
       "      <th>GEN_dog</th>\n",
       "      <th>GEN_elevation</th>\n",
       "      <th>GEN_geo_loc_name</th>\n",
       "      <th>...</th>\n",
       "      <th>NUT_probiotic_frequency</th>\n",
       "      <th>NUT_red_meat_frequency</th>\n",
       "      <th>NUT_salted_snacks_frequency</th>\n",
       "      <th>NUT_seafood_frequency</th>\n",
       "      <th>NUT_sugary_sweets_frequency</th>\n",
       "      <th>NUT_vegetable_frequency</th>\n",
       "      <th>NUT_vitamin_b_supplement_frequency</th>\n",
       "      <th>NUT_vitamin_d_supplement_frequency</th>\n",
       "      <th>NUT_whole_eggs</th>\n",
       "      <th>NUT_whole_grain_frequency</th>\n",
       "    </tr>\n",
       "    <tr>\n",
       "      <th>sampleid</th>\n",
       "      <th></th>\n",
       "      <th></th>\n",
       "      <th></th>\n",
       "      <th></th>\n",
       "      <th></th>\n",
       "      <th></th>\n",
       "      <th></th>\n",
       "      <th></th>\n",
       "      <th></th>\n",
       "      <th></th>\n",
       "      <th></th>\n",
       "      <th></th>\n",
       "      <th></th>\n",
       "      <th></th>\n",
       "      <th></th>\n",
       "      <th></th>\n",
       "      <th></th>\n",
       "      <th></th>\n",
       "      <th></th>\n",
       "      <th></th>\n",
       "      <th></th>\n",
       "    </tr>\n",
       "  </thead>\n",
       "  <tbody>\n",
       "    <tr>\n",
       "      <th>10317.000046</th>\n",
       "      <td>20s</td>\n",
       "      <td>20.0</td>\n",
       "      <td>Normal</td>\n",
       "      <td>23.75</td>\n",
       "      <td>False</td>\n",
       "      <td>2016-08-25 18:30:00</td>\n",
       "      <td>USA</td>\n",
       "      <td>True</td>\n",
       "      <td>1919.3</td>\n",
       "      <td>USA:CO</td>\n",
       "      <td>...</td>\n",
       "      <td>Rarely</td>\n",
       "      <td>Regularly</td>\n",
       "      <td>Occasionally</td>\n",
       "      <td>Rarely</td>\n",
       "      <td>Occasionally</td>\n",
       "      <td>Occasionally</td>\n",
       "      <td>Never</td>\n",
       "      <td>Never</td>\n",
       "      <td>Daily</td>\n",
       "      <td>Daily</td>\n",
       "    </tr>\n",
       "    <tr>\n",
       "      <th>10317.000050</th>\n",
       "      <td>Not provided</td>\n",
       "      <td>NaN</td>\n",
       "      <td>Overweight</td>\n",
       "      <td>25.61</td>\n",
       "      <td>False</td>\n",
       "      <td>2016-07-06 09:00:00</td>\n",
       "      <td>United Kingdom</td>\n",
       "      <td>False</td>\n",
       "      <td>65.5</td>\n",
       "      <td>United Kingdom:England</td>\n",
       "      <td>...</td>\n",
       "      <td>Rarely</td>\n",
       "      <td>Rarely</td>\n",
       "      <td>Regularly</td>\n",
       "      <td>Occasionally</td>\n",
       "      <td>Regularly</td>\n",
       "      <td>Regularly</td>\n",
       "      <td>Never</td>\n",
       "      <td>Never</td>\n",
       "      <td>Rarely</td>\n",
       "      <td>Occasionally</td>\n",
       "    </tr>\n",
       "    <tr>\n",
       "      <th>10317.000038</th>\n",
       "      <td>30s</td>\n",
       "      <td>39.0</td>\n",
       "      <td>Overweight</td>\n",
       "      <td>27.67</td>\n",
       "      <td>False</td>\n",
       "      <td>2016-06-29 09:30:00</td>\n",
       "      <td>United Kingdom</td>\n",
       "      <td>False</td>\n",
       "      <td>44.5</td>\n",
       "      <td>United Kingdom:England</td>\n",
       "      <td>...</td>\n",
       "      <td>Never</td>\n",
       "      <td>Occasionally</td>\n",
       "      <td>Daily</td>\n",
       "      <td>Occasionally</td>\n",
       "      <td>Rarely</td>\n",
       "      <td>Occasionally</td>\n",
       "      <td>Never</td>\n",
       "      <td>Never</td>\n",
       "      <td>Regularly</td>\n",
       "      <td>Occasionally</td>\n",
       "    </tr>\n",
       "    <tr>\n",
       "      <th>10317.000047</th>\n",
       "      <td>50s</td>\n",
       "      <td>56.0</td>\n",
       "      <td>Normal</td>\n",
       "      <td>19.71</td>\n",
       "      <td>False</td>\n",
       "      <td>2016-07-12 17:30:00</td>\n",
       "      <td>Germany</td>\n",
       "      <td>False</td>\n",
       "      <td>8.7</td>\n",
       "      <td>Germany:HH</td>\n",
       "      <td>...</td>\n",
       "      <td>Daily</td>\n",
       "      <td>Occasionally</td>\n",
       "      <td>Rarely</td>\n",
       "      <td>Not provided</td>\n",
       "      <td>Rarely</td>\n",
       "      <td>Regularly</td>\n",
       "      <td>Daily</td>\n",
       "      <td>Daily</td>\n",
       "      <td>Rarely</td>\n",
       "      <td>Regularly</td>\n",
       "    </tr>\n",
       "    <tr>\n",
       "      <th>10317.000046</th>\n",
       "      <td>40s</td>\n",
       "      <td>45.0</td>\n",
       "      <td>Normal</td>\n",
       "      <td>23.15</td>\n",
       "      <td>False</td>\n",
       "      <td>2016-05-24 19:00:00</td>\n",
       "      <td>United Kingdom</td>\n",
       "      <td>True</td>\n",
       "      <td>68.8</td>\n",
       "      <td>United Kingdom:Unspecified</td>\n",
       "      <td>...</td>\n",
       "      <td>Regularly</td>\n",
       "      <td>Never</td>\n",
       "      <td>Never</td>\n",
       "      <td>Occasionally</td>\n",
       "      <td>Never</td>\n",
       "      <td>Daily</td>\n",
       "      <td>Rarely</td>\n",
       "      <td>Occasionally</td>\n",
       "      <td>Regularly</td>\n",
       "      <td>Daily</td>\n",
       "    </tr>\n",
       "  </tbody>\n",
       "</table>\n",
       "<p>5 rows × 56 columns</p>\n",
       "</div>"
      ],
      "text/plain": [
       "               GEN_age_cat  GEN_age_corrected GEN_bmi_cat  GEN_bmi_corrected  \\\n",
       "sampleid                                                                       \n",
       "10317.000046           20s               20.0      Normal              23.75   \n",
       "10317.000050  Not provided                NaN  Overweight              25.61   \n",
       "10317.000038           30s               39.0  Overweight              27.67   \n",
       "10317.000047           50s               56.0      Normal              19.71   \n",
       "10317.000046           40s               45.0      Normal              23.15   \n",
       "\n",
       "              GEN_cat GEN_collection_timestamp     GEN_country  GEN_dog  \\\n",
       "sampleid                                                                  \n",
       "10317.000046    False      2016-08-25 18:30:00             USA     True   \n",
       "10317.000050    False      2016-07-06 09:00:00  United Kingdom    False   \n",
       "10317.000038    False      2016-06-29 09:30:00  United Kingdom    False   \n",
       "10317.000047    False      2016-07-12 17:30:00         Germany    False   \n",
       "10317.000046    False      2016-05-24 19:00:00  United Kingdom     True   \n",
       "\n",
       "              GEN_elevation            GEN_geo_loc_name  ...  \\\n",
       "sampleid                                                 ...   \n",
       "10317.000046         1919.3                      USA:CO  ...   \n",
       "10317.000050           65.5      United Kingdom:England  ...   \n",
       "10317.000038           44.5      United Kingdom:England  ...   \n",
       "10317.000047            8.7                  Germany:HH  ...   \n",
       "10317.000046           68.8  United Kingdom:Unspecified  ...   \n",
       "\n",
       "              NUT_probiotic_frequency NUT_red_meat_frequency  \\\n",
       "sampleid                                                       \n",
       "10317.000046                   Rarely              Regularly   \n",
       "10317.000050                   Rarely                 Rarely   \n",
       "10317.000038                    Never           Occasionally   \n",
       "10317.000047                    Daily           Occasionally   \n",
       "10317.000046                Regularly                  Never   \n",
       "\n",
       "             NUT_salted_snacks_frequency NUT_seafood_frequency  \\\n",
       "sampleid                                                         \n",
       "10317.000046                Occasionally                Rarely   \n",
       "10317.000050                   Regularly          Occasionally   \n",
       "10317.000038                       Daily          Occasionally   \n",
       "10317.000047                      Rarely          Not provided   \n",
       "10317.000046                       Never          Occasionally   \n",
       "\n",
       "              NUT_sugary_sweets_frequency NUT_vegetable_frequency  \\\n",
       "sampleid                                                            \n",
       "10317.000046                 Occasionally            Occasionally   \n",
       "10317.000050                    Regularly               Regularly   \n",
       "10317.000038                       Rarely            Occasionally   \n",
       "10317.000047                       Rarely               Regularly   \n",
       "10317.000046                        Never                   Daily   \n",
       "\n",
       "              NUT_vitamin_b_supplement_frequency  \\\n",
       "sampleid                                           \n",
       "10317.000046                               Never   \n",
       "10317.000050                               Never   \n",
       "10317.000038                               Never   \n",
       "10317.000047                               Daily   \n",
       "10317.000046                              Rarely   \n",
       "\n",
       "             NUT_vitamin_d_supplement_frequency NUT_whole_eggs  \\\n",
       "sampleid                                                         \n",
       "10317.000046                              Never          Daily   \n",
       "10317.000050                              Never         Rarely   \n",
       "10317.000038                              Never      Regularly   \n",
       "10317.000047                              Daily         Rarely   \n",
       "10317.000046                       Occasionally      Regularly   \n",
       "\n",
       "             NUT_whole_grain_frequency  \n",
       "sampleid                                \n",
       "10317.000046                     Daily  \n",
       "10317.000050              Occasionally  \n",
       "10317.000038              Occasionally  \n",
       "10317.000047                 Regularly  \n",
       "10317.000046                     Daily  \n",
       "\n",
       "[5 rows x 56 columns]"
      ]
     },
     "execution_count": 22,
     "metadata": {},
     "output_type": "execute_result"
    }
   ],
   "source": [
    "metadata_df.head()"
   ]
  },
  {
   "cell_type": "markdown",
   "id": "16a1adbc-2d2f-4cd3-8623-d71fc934429a",
   "metadata": {},
   "source": [
    "Import sequence data"
   ]
  },
  {
   "cell_type": "code",
   "execution_count": 23,
   "id": "7b78e650-f198-47f8-93a9-e005b8e33fc0",
   "metadata": {},
   "outputs": [
    {
     "name": "stdout",
     "output_type": "stream",
     "text": [
      "2022-10-20 19:11:46 URL:https://polybox.ethz.ch/index.php/s/AsLORlvUbwgBWTq/download [1506379068/1506379068] -> \"seq_data_new/seq_data.qza\" [1]\n"
     ]
    }
   ],
   "source": [
    "! wget -nv -O $data_dir/seq_data.qza 'https://polybox.ethz.ch/index.php/s/AsLORlvUbwgBWTq/download'"
   ]
  },
  {
   "cell_type": "markdown",
   "id": "d85d72a4-913c-4541-913a-c4b272d911d1",
   "metadata": {},
   "source": [
    "### 2. Sequence loading and summary visulazation"
   ]
  },
  {
   "cell_type": "markdown",
   "id": "ffe3dbad-eccb-445f-bac2-8c33e6b3d51a",
   "metadata": {},
   "source": [
    "Our data was already demultiplexed before, sequencing barcodes were removed and reads were mapped to sample id. The data is already provided as a Qiime artifact. Thus, we do not need to import the sequences with a MANIFEST file and we can directly visulaize our data. As our data was produced with a MiSeq System which can generate 2 × 300 bp paired-end reads in a single run, we assume they were preprocessed and cut to 150bp in some way."
   ]
  },
  {
   "cell_type": "code",
   "execution_count": 24,
   "id": "f82732b0-0268-4d32-b0a8-664d9eee6e4a",
   "metadata": {
    "tags": []
   },
   "outputs": [
    {
     "name": "stdout",
     "output_type": "stream",
     "text": [
      "\u001b[32mUUID\u001b[0m:        32a1795b-d6fb-4ecc-9166-4fe29fb8206a\n",
      "\u001b[32mType\u001b[0m:        SampleData[PairedEndSequencesWithQuality]\n",
      "\u001b[32mData format\u001b[0m: SingleLanePerSamplePairedEndFastqDirFmt\n"
     ]
    }
   ],
   "source": [
    "! qiime tools peek $data_dir/seq_data.qza"
   ]
  },
  {
   "cell_type": "code",
   "execution_count": 25,
   "id": "22c28bb6-d46a-4c4b-9722-b010363e3a7a",
   "metadata": {},
   "outputs": [
    {
     "name": "stdout",
     "output_type": "stream",
     "text": [
      "seq_data_new/seq_data.qza\n"
     ]
    }
   ],
   "source": [
    "! ls $data_dir/seq_data.qza"
   ]
  },
  {
   "cell_type": "code",
   "execution_count": 26,
   "id": "24396c54-2726-4ce6-8236-08e7771c216c",
   "metadata": {},
   "outputs": [
    {
     "name": "stdout",
     "output_type": "stream",
     "text": [
      "\u001b[32mSaved Visualization to: seq_data_new/seq_data.qzv\u001b[0m\n",
      "\u001b[0m"
     ]
    }
   ],
   "source": [
    "! qiime demux summarize \\\n",
    "    --i-data $data_dir/seq_data.qza \\\n",
    "    --o-visualization $data_dir/seq_data.qzv"
   ]
  },
  {
   "cell_type": "code",
   "execution_count": 27,
   "id": "15775239-6c79-4ca2-a7fd-39ec58a30359",
   "metadata": {
    "tags": []
   },
   "outputs": [
    {
     "data": {
      "text/html": [
       "<div><img onload=\"(function(div, url){\n",
       "if (typeof require !== 'undefined') {\n",
       "    var baseURL = require.toUrl('').split('/').slice(0, -2).join('/');\n",
       "} else {\n",
       "    var baseURL = JSON.parse(\n",
       "        document.getElementById('jupyter-config-data').innerHTML\n",
       "    ).baseUrl.slice(0, -1);\n",
       "}\n",
       "url = baseURL + url;\n",
       "fetch(url).then(function(res) {\n",
       "    if (res.status === 404) {\n",
       "        div.innerHTML = 'Install QIIME 2 Jupyter extension with:<br />' +\n",
       "                        '<code>jupyter serverextension enable --py qiime2' +\n",
       "                        ' --sys-prefix</code><br />then restart your server.' +\n",
       "                        '<br /><br />(Interactive output not available on ' +\n",
       "                        'static notebook viewer services like nbviewer.)';\n",
       "    } else if (res.status === 409) {\n",
       "        div.innerHTML = 'Visualization no longer in scope. Re-run this cell' +\n",
       "                        ' to see the visualization.';\n",
       "    } else if (res.ok) {\n",
       "        url = res.url;\n",
       "        div.innerHTML = '<iframe src=\\'' + url + '\\' style=\\'' +\n",
       "                        'width: 100%; height: 700px; border: 0;\\'>' +\n",
       "                        '</iframe><hr />Open in a: <a href=\\'' + url + '\\'' +\n",
       "                        ' target=\\'_blank\\'>new window</a>'\n",
       "    } else {\n",
       "        div.innerHTML = 'Something has gone wrong. Check notebook server for' +\n",
       "                        ' errors.';\n",
       "    }\n",
       "});\n",
       "})(this.parentElement, '/qiime2/redirect?location=/tmp/qiime2-archive-lr6rk18f')\" src=\"data:image/gif;base64,R0lGODlhAQABAIAAAP///wAAACH5BAEAAAAALAAAAAABAAEAAAICRAEAOw==\" /></div>"
      ],
      "text/plain": [
       "<visualization: Visualization uuid: de163b62-2c25-4196-9539-c99c497a0c71>"
      ]
     },
     "execution_count": 27,
     "metadata": {},
     "output_type": "execute_result"
    }
   ],
   "source": [
    "Visualization.load(f'{data_dir}/seq_data.qzv')"
   ]
  },
  {
   "cell_type": "markdown",
   "id": "b7ee787b-1e9a-4eee-928a-df52155845eb",
   "metadata": {},
   "source": [
    "## Denoise"
   ]
  },
  {
   "cell_type": "markdown",
   "id": "69e86ebf-1fa7-4017-9cd4-a294f11a4af8",
   "metadata": {},
   "source": [
    "As we have sequences form the size V4 region of the 16S rRNA (~254bp) , we at least need 2x 130 bp inorder to generate a full read. In addition, we want a minimal overlap of the two reads of at least 12. Furthermore, we inspected our initial forward and reverse sequences. Their quality did not drop towards the end and all reads are of lenth 150bp. Thus, we set trunc-len to 0 so no truncation or lenth filtering will be performed. \n",
    "\n",
    "Alternative: to let some space we set truncation length to 145, all reads shorter than this will be remooved, as they would not be able to form a large enough overlap. \n",
    "\n",
    "if we set trunc-len to 0 no truncation or lenth filtering will be performed. Might be a good idea as we know that there is no read shorter than 150bp?"
   ]
  },
  {
   "cell_type": "code",
   "execution_count": 28,
   "id": "ca71ecff-f65b-46de-a793-f609c2475ac6",
   "metadata": {},
   "outputs": [
    {
     "name": "stdout",
     "output_type": "stream",
     "text": [
      "Usage: \u001b[94mqiime dada2 denoise-paired\u001b[0m [OPTIONS]\n",
      "\n",
      "  This method denoises paired-end sequences, dereplicates them, and filters\n",
      "  chimeras.\n",
      "\n",
      "\u001b[1mInputs\u001b[0m:\n",
      "  \u001b[94m\u001b[4m--i-demultiplexed-seqs\u001b[0m ARTIFACT \u001b[32mSampleData[PairedEndSequencesWithQuality]\u001b[0m\n",
      "                         The paired-end demultiplexed sequences to be\n",
      "                         denoised.                                  \u001b[35m[required]\u001b[0m\n",
      "\u001b[1mParameters\u001b[0m:\n",
      "  \u001b[94m\u001b[4m--p-trunc-len-f\u001b[0m INTEGER\n",
      "                         Position at which forward read sequences should be\n",
      "                         truncated due to decrease in quality. This truncates\n",
      "                         the 3' end of the of the input sequences, which will\n",
      "                         be the bases that were sequenced in the last cycles.\n",
      "                         Reads that are shorter than this value will be\n",
      "                         discarded. After this parameter is applied there must\n",
      "                         still be at least a 12 nucleotide overlap between the\n",
      "                         forward and reverse reads. If 0 is provided, no\n",
      "                         truncation or length filtering will be performed\n",
      "                                                                    \u001b[35m[required]\u001b[0m\n",
      "  \u001b[94m\u001b[4m--p-trunc-len-r\u001b[0m INTEGER\n",
      "                         Position at which reverse read sequences should be\n",
      "                         truncated due to decrease in quality. This truncates\n",
      "                         the 3' end of the of the input sequences, which will\n",
      "                         be the bases that were sequenced in the last cycles.\n",
      "                         Reads that are shorter than this value will be\n",
      "                         discarded. After this parameter is applied there must\n",
      "                         still be at least a 12 nucleotide overlap between the\n",
      "                         forward and reverse reads. If 0 is provided, no\n",
      "                         truncation or length filtering will be performed\n",
      "                                                                    \u001b[35m[required]\u001b[0m\n",
      "  \u001b[94m--p-trim-left-f\u001b[0m INTEGER\n",
      "                         Position at which forward read sequences should be\n",
      "                         trimmed due to low quality. This trims the 5' end of\n",
      "                         the input sequences, which will be the bases that\n",
      "                         were sequenced in the first cycles.      \u001b[35m[default: 0]\u001b[0m\n",
      "  \u001b[94m--p-trim-left-r\u001b[0m INTEGER\n",
      "                         Position at which reverse read sequences should be\n",
      "                         trimmed due to low quality. This trims the 5' end of\n",
      "                         the input sequences, which will be the bases that\n",
      "                         were sequenced in the first cycles.      \u001b[35m[default: 0]\u001b[0m\n",
      "  \u001b[94m--p-max-ee-f\u001b[0m NUMBER    Forward reads with number of expected errors higher\n",
      "                         than this value will be discarded.     \u001b[35m[default: 2.0]\u001b[0m\n",
      "  \u001b[94m--p-max-ee-r\u001b[0m NUMBER    Reverse reads with number of expected errors higher\n",
      "                         than this value will be discarded.     \u001b[35m[default: 2.0]\u001b[0m\n",
      "  \u001b[94m--p-trunc-q\u001b[0m INTEGER    Reads are truncated at the first instance of a\n",
      "                         quality score less than or equal to this value. If\n",
      "                         the resulting read is then shorter than `\u001b[4mtrunc-len-f\u001b[0m`\n",
      "                         or `\u001b[4mtrunc-len-r\u001b[0m` (depending on the direction of the\n",
      "                         read) it is discarded.                   \u001b[35m[default: 2]\u001b[0m\n",
      "  \u001b[94m--p-min-overlap\u001b[0m INTEGER\n",
      "    \u001b[32mRange(4, None)\u001b[0m       The minimum length of the overlap required for\n",
      "                         merging the forward and reverse reads.  \u001b[35m[default: 12]\u001b[0m\n",
      "  \u001b[94m--p-pooling-method\u001b[0m TEXT \u001b[32mChoices('independent', 'pseudo')\u001b[0m\n",
      "                         The method used to pool samples for denoising.\n",
      "                         \"independent\": Samples are denoised indpendently.\n",
      "                         \"pseudo\": The pseudo-pooling method is used to\n",
      "                         approximate pooling of samples. In short, samples are\n",
      "                         denoised independently once, ASVs detected in at\n",
      "                         least 2 samples are recorded, and samples are\n",
      "                         denoised independently a second time, but this time\n",
      "                         with prior knowledge of the recorded ASVs and thus\n",
      "                         higher sensitivity to those ASVs.\n",
      "                                                      \u001b[35m[default: 'independent']\u001b[0m\n",
      "  \u001b[94m--p-chimera-method\u001b[0m TEXT \u001b[32mChoices('consensus', 'pooled', 'none')\u001b[0m\n",
      "                         The method used to remove chimeras. \"none\": No\n",
      "                         chimera removal is performed. \"pooled\": All reads are\n",
      "                         pooled prior to chimera detection. \"consensus\":\n",
      "                         Chimeras are detected in samples individually, and\n",
      "                         sequences found chimeric in a sufficient fraction of\n",
      "                         samples are removed.           \u001b[35m[default: 'consensus']\u001b[0m\n",
      "  \u001b[94m--p-min-fold-parent-over-abundance\u001b[0m NUMBER\n",
      "                         The minimum abundance of potential parents of a\n",
      "                         sequence being tested as chimeric, expressed as a\n",
      "                         fold-change versus the abundance of the sequence\n",
      "                         being tested. Values should be greater than or equal\n",
      "                         to 1 (i.e. parents should be more abundant than the\n",
      "                         sequence being tested). This parameter has no effect\n",
      "                         if \u001b[4mchimera-method\u001b[0m is \"none\".           \u001b[35m[default: 1.0]\u001b[0m\n",
      "  \u001b[94m--p-n-threads\u001b[0m INTEGER  The number of threads to use for multithreaded\n",
      "                         processing. If 0 is provided, all available cores\n",
      "                         will be used.                            \u001b[35m[default: 1]\u001b[0m\n",
      "  \u001b[94m--p-n-reads-learn\u001b[0m INTEGER\n",
      "                         The number of reads to use when training the error\n",
      "                         model. Smaller numbers will result in a shorter run\n",
      "                         time but a less reliable error model.\n",
      "                                                            \u001b[35m[default: 1000000]\u001b[0m\n",
      "  \u001b[94m--p-hashed-feature-ids\u001b[0m / \u001b[94m--p-no-hashed-feature-ids\u001b[0m\n",
      "                         If true, the feature ids in the resulting table will\n",
      "                         be presented as hashes of the sequences defining each\n",
      "                         feature. The hash will always be the same for the\n",
      "                         same sequence so this allows feature tables to be\n",
      "                         merged across runs of this method. You should only\n",
      "                         merge tables if the exact same parameters are used\n",
      "                         for each run.                         \u001b[35m[default: True]\u001b[0m\n",
      "\u001b[1mOutputs\u001b[0m:\n",
      "  \u001b[94m\u001b[4m--o-table\u001b[0m ARTIFACT \u001b[32mFeatureTable[Frequency]\u001b[0m\n",
      "                         The resulting feature table.               \u001b[35m[required]\u001b[0m\n",
      "  \u001b[94m\u001b[4m--o-representative-sequences\u001b[0m ARTIFACT \u001b[32mFeatureData[Sequence]\u001b[0m\n",
      "                         The resulting feature sequences. Each feature in the\n",
      "                         feature table will be represented by exactly one\n",
      "                         sequence, and these sequences will be the joined\n",
      "                         paired-end sequences.                      \u001b[35m[required]\u001b[0m\n",
      "  \u001b[94m\u001b[4m--o-denoising-stats\u001b[0m ARTIFACT \u001b[32mSampleData[DADA2Stats]\u001b[0m\n",
      "                                                                    \u001b[35m[required]\u001b[0m\n",
      "\u001b[1mMiscellaneous\u001b[0m:\n",
      "  \u001b[94m--output-dir\u001b[0m PATH      Output unspecified results to a directory\n",
      "  \u001b[94m--verbose\u001b[0m / \u001b[94m--quiet\u001b[0m    Display verbose output to stdout and/or stderr\n",
      "                         during execution of this action. Or silence output if\n",
      "                         execution is successful (silence is golden).\n",
      "  \u001b[94m--example-data\u001b[0m PATH    Write example data and exit.\n",
      "  \u001b[94m--citations\u001b[0m            Show citations and exit.\n",
      "  \u001b[94m--help\u001b[0m                 Show this message and exit.\n"
     ]
    }
   ],
   "source": [
    "!qiime dada2 denoise-paired --help"
   ]
  },
  {
   "cell_type": "code",
   "execution_count": 29,
   "id": "613b320d-04bf-41e4-b514-bb60f4ad97f8",
   "metadata": {},
   "outputs": [
    {
     "name": "stdout",
     "output_type": "stream",
     "text": [
      "\u001b[32mSaved FeatureTable[Frequency] to: seq_data_new/dada2_table.qza\u001b[0m\n",
      "\u001b[32mSaved FeatureData[Sequence] to: seq_data_new/dada2_rep_set.qza\u001b[0m\n",
      "\u001b[32mSaved SampleData[DADA2Stats] to: seq_data_new/dada2_stats.qza\u001b[0m\n",
      "\u001b[0m"
     ]
    }
   ],
   "source": [
    "! qiime dada2 denoise-paired \\\n",
    "    --i-demultiplexed-seqs $data_dir/seq_data.qza \\\n",
    "    --p-trunc-len-f 0 \\\n",
    "    --p-trunc-len-r 0 \\\n",
    "    --p-n-threads 3 \\\n",
    "    --o-table $data_dir/dada2_table.qza \\\n",
    "    --o-representative-sequences $data_dir/dada2_rep_set.qza \\\n",
    "    --o-denoising-stats $data_dir/dada2_stats.qza"
   ]
  },
  {
   "cell_type": "code",
   "execution_count": 30,
   "id": "cc989a4e-1e43-4b7a-948c-aa31bbdef99c",
   "metadata": {},
   "outputs": [
    {
     "name": "stdout",
     "output_type": "stream",
     "text": [
      "\u001b[32mSaved Visualization to: seq_data_new/dada2_stats.qzv\u001b[0m\n",
      "\u001b[0m"
     ]
    }
   ],
   "source": [
    "! qiime metadata tabulate \\\n",
    "    --m-input-file $data_dir/dada2_stats.qza \\\n",
    "    --o-visualization $data_dir/dada2_stats.qzv"
   ]
  },
  {
   "cell_type": "code",
   "execution_count": 31,
   "id": "fd827985-0dcd-43ce-9e81-b2a5dd6ffb04",
   "metadata": {},
   "outputs": [
    {
     "data": {
      "text/html": [
       "<div><img onload=\"(function(div, url){\n",
       "if (typeof require !== 'undefined') {\n",
       "    var baseURL = require.toUrl('').split('/').slice(0, -2).join('/');\n",
       "} else {\n",
       "    var baseURL = JSON.parse(\n",
       "        document.getElementById('jupyter-config-data').innerHTML\n",
       "    ).baseUrl.slice(0, -1);\n",
       "}\n",
       "url = baseURL + url;\n",
       "fetch(url).then(function(res) {\n",
       "    if (res.status === 404) {\n",
       "        div.innerHTML = 'Install QIIME 2 Jupyter extension with:<br />' +\n",
       "                        '<code>jupyter serverextension enable --py qiime2' +\n",
       "                        ' --sys-prefix</code><br />then restart your server.' +\n",
       "                        '<br /><br />(Interactive output not available on ' +\n",
       "                        'static notebook viewer services like nbviewer.)';\n",
       "    } else if (res.status === 409) {\n",
       "        div.innerHTML = 'Visualization no longer in scope. Re-run this cell' +\n",
       "                        ' to see the visualization.';\n",
       "    } else if (res.ok) {\n",
       "        url = res.url;\n",
       "        div.innerHTML = '<iframe src=\\'' + url + '\\' style=\\'' +\n",
       "                        'width: 100%; height: 700px; border: 0;\\'>' +\n",
       "                        '</iframe><hr />Open in a: <a href=\\'' + url + '\\'' +\n",
       "                        ' target=\\'_blank\\'>new window</a>'\n",
       "    } else {\n",
       "        div.innerHTML = 'Something has gone wrong. Check notebook server for' +\n",
       "                        ' errors.';\n",
       "    }\n",
       "});\n",
       "})(this.parentElement, '/qiime2/redirect?location=/tmp/qiime2-archive-jb_wuikw')\" src=\"data:image/gif;base64,R0lGODlhAQABAIAAAP///wAAACH5BAEAAAAALAAAAAABAAEAAAICRAEAOw==\" /></div>"
      ],
      "text/plain": [
       "<visualization: Visualization uuid: 79795665-c533-43f9-a2ac-34606025dea4>"
      ]
     },
     "execution_count": 31,
     "metadata": {},
     "output_type": "execute_result"
    }
   ],
   "source": [
    "Visualization.load(f'{data_dir}/dada2_stats.qzv')"
   ]
  },
  {
   "cell_type": "code",
   "execution_count": 32,
   "id": "4e4c76af-a142-4386-9c47-e1d19e61da46",
   "metadata": {},
   "outputs": [
    {
     "name": "stdout",
     "output_type": "stream",
     "text": [
      "\u001b[32mSaved Visualization to: seq_data_new/dada2_rep_set.qzv\u001b[0m\n",
      "\u001b[0m"
     ]
    }
   ],
   "source": [
    "! qiime feature-table tabulate-seqs \\\n",
    "    --i-data $data_dir/dada2_rep_set.qza \\\n",
    "    --o-visualization $data_dir/dada2_rep_set.qzv"
   ]
  },
  {
   "cell_type": "markdown",
   "id": "fbbff30d-773c-45a8-b5c9-14fd2479ebc1",
   "metadata": {},
   "source": [
    "In the following visualization we can see that almost all sequences are arround the expected length for the V4 region (~254nts), which indecated successul denoising:"
   ]
  },
  {
   "cell_type": "code",
   "execution_count": 33,
   "id": "08ce15ce-ddf2-4c9a-9940-e9060991663f",
   "metadata": {},
   "outputs": [
    {
     "data": {
      "text/html": [
       "<div><img onload=\"(function(div, url){\n",
       "if (typeof require !== 'undefined') {\n",
       "    var baseURL = require.toUrl('').split('/').slice(0, -2).join('/');\n",
       "} else {\n",
       "    var baseURL = JSON.parse(\n",
       "        document.getElementById('jupyter-config-data').innerHTML\n",
       "    ).baseUrl.slice(0, -1);\n",
       "}\n",
       "url = baseURL + url;\n",
       "fetch(url).then(function(res) {\n",
       "    if (res.status === 404) {\n",
       "        div.innerHTML = 'Install QIIME 2 Jupyter extension with:<br />' +\n",
       "                        '<code>jupyter serverextension enable --py qiime2' +\n",
       "                        ' --sys-prefix</code><br />then restart your server.' +\n",
       "                        '<br /><br />(Interactive output not available on ' +\n",
       "                        'static notebook viewer services like nbviewer.)';\n",
       "    } else if (res.status === 409) {\n",
       "        div.innerHTML = 'Visualization no longer in scope. Re-run this cell' +\n",
       "                        ' to see the visualization.';\n",
       "    } else if (res.ok) {\n",
       "        url = res.url;\n",
       "        div.innerHTML = '<iframe src=\\'' + url + '\\' style=\\'' +\n",
       "                        'width: 100%; height: 700px; border: 0;\\'>' +\n",
       "                        '</iframe><hr />Open in a: <a href=\\'' + url + '\\'' +\n",
       "                        ' target=\\'_blank\\'>new window</a>'\n",
       "    } else {\n",
       "        div.innerHTML = 'Something has gone wrong. Check notebook server for' +\n",
       "                        ' errors.';\n",
       "    }\n",
       "});\n",
       "})(this.parentElement, '/qiime2/redirect?location=/tmp/qiime2-archive-5x566k1q')\" src=\"data:image/gif;base64,R0lGODlhAQABAIAAAP///wAAACH5BAEAAAAALAAAAAABAAEAAAICRAEAOw==\" /></div>"
      ],
      "text/plain": [
       "<visualization: Visualization uuid: f8a3d4a9-4aa8-4fa8-a170-dc9bd78336f7>"
      ]
     },
     "execution_count": 33,
     "metadata": {},
     "output_type": "execute_result"
    }
   ],
   "source": [
    "Visualization.load(f'{data_dir}/dada2_rep_set.qzv')"
   ]
  },
  {
   "cell_type": "code",
   "execution_count": 34,
   "id": "54f6ba90-5638-4ada-a9ef-19fcf6d5b630",
   "metadata": {},
   "outputs": [
    {
     "name": "stdout",
     "output_type": "stream",
     "text": [
      "\u001b[32mSaved Visualization to: seq_data_new/dada2_table.qzv\u001b[0m\n",
      "\u001b[0m"
     ]
    }
   ],
   "source": [
    "! qiime feature-table summarize \\\n",
    "    --i-table $data_dir/dada2_table.qza \\\n",
    "    --m-sample-metadata-file $data_dir/sample_meta_data.tsv \\\n",
    "    --o-visualization $data_dir/dada2_table.qzv"
   ]
  },
  {
   "cell_type": "code",
   "execution_count": 35,
   "id": "d44b2032-531a-462e-a59a-23486850f42c",
   "metadata": {},
   "outputs": [
    {
     "data": {
      "text/html": [
       "<div><img onload=\"(function(div, url){\n",
       "if (typeof require !== 'undefined') {\n",
       "    var baseURL = require.toUrl('').split('/').slice(0, -2).join('/');\n",
       "} else {\n",
       "    var baseURL = JSON.parse(\n",
       "        document.getElementById('jupyter-config-data').innerHTML\n",
       "    ).baseUrl.slice(0, -1);\n",
       "}\n",
       "url = baseURL + url;\n",
       "fetch(url).then(function(res) {\n",
       "    if (res.status === 404) {\n",
       "        div.innerHTML = 'Install QIIME 2 Jupyter extension with:<br />' +\n",
       "                        '<code>jupyter serverextension enable --py qiime2' +\n",
       "                        ' --sys-prefix</code><br />then restart your server.' +\n",
       "                        '<br /><br />(Interactive output not available on ' +\n",
       "                        'static notebook viewer services like nbviewer.)';\n",
       "    } else if (res.status === 409) {\n",
       "        div.innerHTML = 'Visualization no longer in scope. Re-run this cell' +\n",
       "                        ' to see the visualization.';\n",
       "    } else if (res.ok) {\n",
       "        url = res.url;\n",
       "        div.innerHTML = '<iframe src=\\'' + url + '\\' style=\\'' +\n",
       "                        'width: 100%; height: 700px; border: 0;\\'>' +\n",
       "                        '</iframe><hr />Open in a: <a href=\\'' + url + '\\'' +\n",
       "                        ' target=\\'_blank\\'>new window</a>'\n",
       "    } else {\n",
       "        div.innerHTML = 'Something has gone wrong. Check notebook server for' +\n",
       "                        ' errors.';\n",
       "    }\n",
       "});\n",
       "})(this.parentElement, '/qiime2/redirect?location=/tmp/qiime2-archive-exhexqg1')\" src=\"data:image/gif;base64,R0lGODlhAQABAIAAAP///wAAACH5BAEAAAAALAAAAAABAAEAAAICRAEAOw==\" /></div>"
      ],
      "text/plain": [
       "<visualization: Visualization uuid: 54076eca-87dd-4974-9d2d-5d0cd0b150f0>"
      ]
     },
     "execution_count": 35,
     "metadata": {},
     "output_type": "execute_result"
    }
   ],
   "source": [
    "Visualization.load(f'{data_dir}/dada2_table.qzv')"
   ]
  },
  {
   "cell_type": "markdown",
   "id": "138ec703-df84-43b6-b821-bc8f7a51db98",
   "metadata": {},
   "source": [
    "## Clustering"
   ]
  },
  {
   "cell_type": "markdown",
   "id": "39189b00-597d-40d1-89b7-549990353367",
   "metadata": {},
   "source": [
    "### Join the reads"
   ]
  },
  {
   "cell_type": "markdown",
   "id": "6bb16952-0e30-44fe-bc01-3d0d16e1823f",
   "metadata": {},
   "source": [
    "Dada 2 makes the same as the quality filterin and clustering togeter! Thus we can just use the data 2. If we want to use the clustering approach we first need to join the reads!"
   ]
  },
  {
   "cell_type": "code",
   "execution_count": 36,
   "id": "4757ed7b-edbb-41a3-b0be-7ed0ab208f9a",
   "metadata": {},
   "outputs": [
    {
     "name": "stdout",
     "output_type": "stream",
     "text": [
      "\u001b[32mSaved SampleData[JoinedSequencesWithQuality] to: seq_data_new/demux-joined.qza\u001b[0m\n",
      "\u001b[0m"
     ]
    }
   ],
   "source": [
    "!qiime vsearch join-pairs \\\n",
    "    --i-demultiplexed-seqs $data_dir/seq_data.qza \\\n",
    "    --p-minovlen 5 \\\n",
    "    --o-joined-sequences $data_dir/demux-joined.qza"
   ]
  },
  {
   "cell_type": "code",
   "execution_count": null,
   "id": "7212967b-d298-45a6-b568-dec65a3d0a8c",
   "metadata": {},
   "outputs": [],
   "source": [
    "!qiime demux summarize \\\n",
    "    --i-data $data_dir/demux-joined.qza \\\n",
    "    --o-visualization $data_dir/demux-joined.qzv"
   ]
  },
  {
   "cell_type": "code",
   "execution_count": null,
   "id": "494d7a8d-11d1-4d93-b09a-f2e303c87a36",
   "metadata": {},
   "outputs": [],
   "source": [
    "Visualization.load(f'{data_dir}/demux-joined.qzv')"
   ]
  },
  {
   "cell_type": "markdown",
   "id": "e9e581d5-092a-47e4-a990-3d39c6a77d4f",
   "metadata": {},
   "source": [
    "### Quality filtering"
   ]
  },
  {
   "cell_type": "code",
   "execution_count": null,
   "id": "f8bf3288-53d4-4060-9eaa-1613753d2378",
   "metadata": {},
   "outputs": [],
   "source": []
  },
  {
   "cell_type": "code",
   "execution_count": 15,
   "id": "dca3be28-4834-4f2b-bf7f-549e17cd3b58",
   "metadata": {},
   "outputs": [
    {
     "name": "stdout",
     "output_type": "stream",
     "text": [
      "\u001b[32mSaved SampleData[JoinedSequencesWithQuality] to: seq_data_new/demux_seqs_qc.qza\u001b[0m\n",
      "\u001b[32mSaved QualityFilterStats to: seq_data_new/demux_seqs_qc_stats.qza\u001b[0m\n",
      "\u001b[0m"
     ]
    }
   ],
   "source": [
    "! qiime quality-filter q-score \\\n",
    "    --i-demux $data_dir/demux-joined.qza \\\n",
    "    --p-min-quality 25 \\\n",
    "    --p-min-length-fraction 0.75 \\\n",
    "    --o-filtered-sequences $data_dir/demux_seqs_qc.qza \\\n",
    "    --o-filter-stats $data_dir/demux_seqs_qc_stats.qza"
   ]
  },
  {
   "cell_type": "code",
   "execution_count": 16,
   "id": "2541ec3e-639b-46ec-b263-783bdb4b47ee",
   "metadata": {},
   "outputs": [
    {
     "name": "stdout",
     "output_type": "stream",
     "text": [
      "\u001b[32mSaved Visualization to: seq_data_new/demux_seqs_qc_stats.qzv\u001b[0m\n",
      "\u001b[0m"
     ]
    }
   ],
   "source": [
    "! qiime metadata tabulate \\\n",
    "    --m-input-file $data_dir/demux_seqs_qc_stats.qza \\\n",
    "    --o-visualization $data_dir/demux_seqs_qc_stats.qzv"
   ]
  },
  {
   "cell_type": "code",
   "execution_count": 17,
   "id": "c128c515-4798-4043-9b2e-1cca1196bbde",
   "metadata": {
    "tags": []
   },
   "outputs": [
    {
     "data": {
      "text/html": [
       "<div><img onload=\"(function(div, url){\n",
       "if (typeof require !== 'undefined') {\n",
       "    var baseURL = require.toUrl('').split('/').slice(0, -2).join('/');\n",
       "} else {\n",
       "    var baseURL = JSON.parse(\n",
       "        document.getElementById('jupyter-config-data').innerHTML\n",
       "    ).baseUrl.slice(0, -1);\n",
       "}\n",
       "url = baseURL + url;\n",
       "fetch(url).then(function(res) {\n",
       "    if (res.status === 404) {\n",
       "        div.innerHTML = 'Install QIIME 2 Jupyter extension with:<br />' +\n",
       "                        '<code>jupyter serverextension enable --py qiime2' +\n",
       "                        ' --sys-prefix</code><br />then restart your server.' +\n",
       "                        '<br /><br />(Interactive output not available on ' +\n",
       "                        'static notebook viewer services like nbviewer.)';\n",
       "    } else if (res.status === 409) {\n",
       "        div.innerHTML = 'Visualization no longer in scope. Re-run this cell' +\n",
       "                        ' to see the visualization.';\n",
       "    } else if (res.ok) {\n",
       "        url = res.url;\n",
       "        div.innerHTML = '<iframe src=\\'' + url + '\\' style=\\'' +\n",
       "                        'width: 100%; height: 700px; border: 0;\\'>' +\n",
       "                        '</iframe><hr />Open in a: <a href=\\'' + url + '\\'' +\n",
       "                        ' target=\\'_blank\\'>new window</a>'\n",
       "    } else {\n",
       "        div.innerHTML = 'Something has gone wrong. Check notebook server for' +\n",
       "                        ' errors.';\n",
       "    }\n",
       "});\n",
       "})(this.parentElement, '/qiime2/redirect?location=/tmp/qiime2-archive-42ud63bm')\" src=\"data:image/gif;base64,R0lGODlhAQABAIAAAP///wAAACH5BAEAAAAALAAAAAABAAEAAAICRAEAOw==\" /></div>"
      ],
      "text/plain": [
       "<visualization: Visualization uuid: d9816245-3d9d-4389-bfa1-c2042ce5189a>"
      ]
     },
     "execution_count": 17,
     "metadata": {},
     "output_type": "execute_result"
    }
   ],
   "source": [
    "Visualization.load(f'{data_dir}/demux_seqs_qc_stats.qzv')"
   ]
  },
  {
   "cell_type": "code",
   "execution_count": 19,
   "id": "d38f7073-13bf-4c62-8221-315c18c8c167",
   "metadata": {},
   "outputs": [
    {
     "name": "stdout",
     "output_type": "stream",
     "text": [
      "\u001b[32mSaved Visualization to: seq_data_new/demux_seqs_qc.qzv\u001b[0m\n",
      "\u001b[0m"
     ]
    }
   ],
   "source": [
    "! qiime demux summarize \\\n",
    "    --i-data $data_dir/demux_seqs_qc.qza \\\n",
    "    --o-visualization $data_dir/demux_seqs_qc.qzv"
   ]
  },
  {
   "cell_type": "code",
   "execution_count": 20,
   "id": "d7a44951-4d89-48f2-a040-7e13299a04e2",
   "metadata": {
    "tags": []
   },
   "outputs": [
    {
     "data": {
      "text/html": [
       "<div><img onload=\"(function(div, url){\n",
       "if (typeof require !== 'undefined') {\n",
       "    var baseURL = require.toUrl('').split('/').slice(0, -2).join('/');\n",
       "} else {\n",
       "    var baseURL = JSON.parse(\n",
       "        document.getElementById('jupyter-config-data').innerHTML\n",
       "    ).baseUrl.slice(0, -1);\n",
       "}\n",
       "url = baseURL + url;\n",
       "fetch(url).then(function(res) {\n",
       "    if (res.status === 404) {\n",
       "        div.innerHTML = 'Install QIIME 2 Jupyter extension with:<br />' +\n",
       "                        '<code>jupyter serverextension enable --py qiime2' +\n",
       "                        ' --sys-prefix</code><br />then restart your server.' +\n",
       "                        '<br /><br />(Interactive output not available on ' +\n",
       "                        'static notebook viewer services like nbviewer.)';\n",
       "    } else if (res.status === 409) {\n",
       "        div.innerHTML = 'Visualization no longer in scope. Re-run this cell' +\n",
       "                        ' to see the visualization.';\n",
       "    } else if (res.ok) {\n",
       "        url = res.url;\n",
       "        div.innerHTML = '<iframe src=\\'' + url + '\\' style=\\'' +\n",
       "                        'width: 100%; height: 700px; border: 0;\\'>' +\n",
       "                        '</iframe><hr />Open in a: <a href=\\'' + url + '\\'' +\n",
       "                        ' target=\\'_blank\\'>new window</a>'\n",
       "    } else {\n",
       "        div.innerHTML = 'Something has gone wrong. Check notebook server for' +\n",
       "                        ' errors.';\n",
       "    }\n",
       "});\n",
       "})(this.parentElement, '/qiime2/redirect?location=/tmp/qiime2-archive-2j8vt2rg')\" src=\"data:image/gif;base64,R0lGODlhAQABAIAAAP///wAAACH5BAEAAAAALAAAAAABAAEAAAICRAEAOw==\" /></div>"
      ],
      "text/plain": [
       "<visualization: Visualization uuid: 544dade8-d8ff-4630-ac07-7ebc4f9c60b8>"
      ]
     },
     "execution_count": 20,
     "metadata": {},
     "output_type": "execute_result"
    }
   ],
   "source": [
    "Visualization.load(f'{data_dir}/demux_seqs_qc.qzv')"
   ]
  },
  {
   "cell_type": "markdown",
   "id": "d000dbfc-0e47-42c9-a3d4-00b511d9562d",
   "metadata": {},
   "source": [
    "### Dereplication and Chimera removal"
   ]
  },
  {
   "cell_type": "code",
   "execution_count": null,
   "id": "e874b184-f88c-44a8-a5f8-eca0bf02d6bf",
   "metadata": {},
   "outputs": [],
   "source": [
    "# Dereplication\n",
    "\n",
    "! qiime vsearch dereplicate-sequences \\\n",
    "    --i-sequences $data_dir/demux_seqs_qc.qza \\\n",
    "    --o-dereplicated-sequences $data_dir/demux_seqs_derep.qza \\\n",
    "    --o-dereplicated-table $data_dir/demux_table_derep.qza"
   ]
  },
  {
   "cell_type": "code",
   "execution_count": null,
   "id": "fabf765e-5393-4bca-9d16-8b5b2bbdd3bf",
   "metadata": {},
   "outputs": [],
   "source": [
    "# Chimera removal\n",
    "\n",
    "! qiime vsearch uchime-denovo \\\n",
    "    --i-sequences $data_dir/demux_seqs_derep.qza \\\n",
    "    --i-table $data_dir/demux_table_derep.qza \\\n",
    "    --o-chimeras $data_dir/demux_chimeras.qza \\\n",
    "    --o-nonchimeras $data_dir/demux_nonchimeras.qza \\\n",
    "    --o-stats $data_dir/demux_chimera_stats.qza\n"
   ]
  },
  {
   "cell_type": "code",
   "execution_count": null,
   "id": "857fe183-d4e9-48e6-8ad3-3877eb4a66a8",
   "metadata": {},
   "outputs": [],
   "source": [
    "! qiime feature-table filter-features \\\n",
    "    --i-table $data_dir/demux_table_derep.qza \\\n",
    "    --m-metadata-file $data_dir/demux_nonchimeras.qza \\\n",
    "    --o-filtered-table $data_dir/demux_table_filtered.qza\n",
    "\n",
    "! qiime feature-table filter-seqs \\\n",
    "    --i-data $data_dir/demux_seqs_derep.qza \\\n",
    "    --m-metadata-file $data_dir/demux_nonchimeras.qza \\\n",
    "    --o-filtered-data $data_dir/demux_seqs_filtered.qza\n",
    "\n",
    "! qiime feature-table summarize \\\n",
    "    --i-table $data_dir/demux_table_filtered.qza \\\n",
    "    --o-visualization $data_dir/demux_table_filtered.qzv"
   ]
  },
  {
   "cell_type": "code",
   "execution_count": null,
   "id": "0b46cee9-7adf-43ce-9e3c-c7bdd04a34b5",
   "metadata": {},
   "outputs": [],
   "source": [
    "Visualization.load(f'{data_dir}/demux_table_filtered.qzv')"
   ]
  },
  {
   "cell_type": "markdown",
   "id": "df122826-e6a0-438a-94d1-c5ac9fca1f37",
   "metadata": {},
   "source": [
    "### Clustering"
   ]
  },
  {
   "cell_type": "markdown",
   "id": "120d9ed8-1518-413c-ba03-e8087cdcbcb4",
   "metadata": {},
   "source": [
    "a) De novo clustering"
   ]
  },
  {
   "cell_type": "code",
   "execution_count": null,
   "id": "40cd6141-5150-4958-a6fa-d33b01ed70ba",
   "metadata": {},
   "outputs": [],
   "source": [
    "! qiime vsearch cluster-features-de-novo \\\n",
    "    --i-table $data_dir/demux_table_filtered.qza \\\n",
    "    --i-sequences $data_dir/demux_seqs_filtered.qza \\\n",
    "    --p-perc-identity 0.91 \\\n",
    "    --p-threads 3 \\\n",
    "    --o-clustered-table $data_dir/demux_table_de_novo_91.qza \\\n",
    "    --o-clustered-sequences $data_dir/demux_rep_set_de_novo_91.qza"
   ]
  },
  {
   "cell_type": "code",
   "execution_count": null,
   "id": "9cc0d43c-5d51-45d8-9e7c-a992df4127e3",
   "metadata": {},
   "outputs": [],
   "source": [
    "! qiime feature-table tabulate-seqs \\\n",
    "    --i-data $data_dir/demux_rep_set_de_novo_91.qza \\\n",
    "    --o-visualization $data_dir/demux_rep_set_de_novo_91.qzv\n",
    "\n",
    "! qiime feature-table summarize \\\n",
    "    --i-table $data_dir/demux_table_de_novo_91.qza \\\n",
    "    --m-sample-metadata-file $data_dir/metadata.tsv \\\n",
    "    --o-visualization $data_dir/demux_table_de_novo_91.qzv"
   ]
  },
  {
   "cell_type": "code",
   "execution_count": null,
   "id": "39bd6977-c1e9-42b3-8cee-5b36d55ab726",
   "metadata": {},
   "outputs": [],
   "source": [
    "Visualization.load(f'{data_dir}/demux_rep_set_de_novo_91.qzv')"
   ]
  },
  {
   "cell_type": "code",
   "execution_count": null,
   "id": "53a12a5a-3d7b-4428-b83d-5b8b20165d4a",
   "metadata": {},
   "outputs": [],
   "source": [
    "Visualization.load(f'{data_dir}/demux_table_de_novo_91.qzv')"
   ]
  },
  {
   "cell_type": "markdown",
   "id": "4f1c566b-fccc-4da9-b084-5ca0a95fd0a9",
   "metadata": {},
   "source": [
    "b) Open reference clustering"
   ]
  },
  {
   "cell_type": "code",
   "execution_count": null,
   "id": "d94b3aa6-7cca-4216-a58f-1163472160da",
   "metadata": {},
   "outputs": [],
   "source": [
    "! qiime tools import \\\n",
    "    --type 'FeatureData[Sequence]' \\\n",
    "    --input-path $data_dir/91_otus.fasta \\\n",
    "    --output-path $data_dir/91_otus.qza"
   ]
  },
  {
   "cell_type": "code",
   "execution_count": null,
   "id": "357c197b-80c0-4c06-88c1-b48beb93ddeb",
   "metadata": {},
   "outputs": [],
   "source": [
    "! qiime vsearch cluster-features-open-reference \\\n",
    "    --i-table $data_dir/demux_table_filtered.qza \\\n",
    "    --i-sequences $data_dir/demux_seqs_filtered.qza \\\n",
    "    --i-reference-sequences $data_dir/91_otus.qza \\\n",
    "    --p-perc-identity 0.91 \\\n",
    "    --p-threads 3 \\\n",
    "    --o-clustered-table $data_dir/demux_table_open_ref_91.qza \\\n",
    "    --o-clustered-sequences $data_dir/demux_seqs_open_ref_91.qza \\\n",
    "    --o-new-reference-sequences $data_dir/demux_seqs_open_ref_new_91.qza"
   ]
  },
  {
   "cell_type": "code",
   "execution_count": null,
   "id": "bf8531eb-401a-4256-b6c0-4be02bb9bb0f",
   "metadata": {},
   "outputs": [],
   "source": [
    "! qiime feature-table tabulate-seqs \\\n",
    "    --i-data $data_dir/demux_seqs_open_ref_91.qza \\\n",
    "    --o-visualization $data_dir/demux_seqs_open_ref_91.qzv\n",
    "\n",
    "! qiime feature-table summarize \\\n",
    "    --i-table $data_dir/demux_table_open_ref_91.qza \\\n",
    "    --m-sample-metadata-file $data_dir/metadata.tsv \\\n",
    "    --o-visualization $data_dir/demux_table_open_ref_91.qzv"
   ]
  },
  {
   "cell_type": "code",
   "execution_count": null,
   "id": "21d7b8ce-2ba4-46e5-ba15-7d44b821d285",
   "metadata": {},
   "outputs": [],
   "source": [
    "Visualization.load(f'{data_dir}/demux_seqs_open_ref_91.qzv')"
   ]
  },
  {
   "cell_type": "code",
   "execution_count": null,
   "id": "14d612be-aeae-4223-85cb-72debe176197",
   "metadata": {},
   "outputs": [],
   "source": [
    "Visualization.load(f'{data_dir}/demux_table_open_ref_91.qzv')"
   ]
  }
 ],
 "metadata": {
  "kernelspec": {
   "display_name": "Python 3 (ipykernel)",
   "language": "python",
   "name": "python3"
  },
  "language_info": {
   "codemirror_mode": {
    "name": "ipython",
    "version": 3
   },
   "file_extension": ".py",
   "mimetype": "text/x-python",
   "name": "python",
   "nbconvert_exporter": "python",
   "pygments_lexer": "ipython3",
   "version": "3.8.13"
  }
 },
 "nbformat": 4,
 "nbformat_minor": 5
}
