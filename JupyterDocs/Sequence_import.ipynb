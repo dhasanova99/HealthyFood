{
 "cells": [
  {
   "cell_type": "markdown",
   "id": "ffed1a41-de26-4b66-bc4f-dc145270d4af",
   "metadata": {},
   "source": [
    "### 0. Setup"
   ]
  },
  {
   "cell_type": "markdown",
   "id": "aa42b692-b9a6-4772-8a75-6535c6e1448a",
   "metadata": {},
   "source": [
    "Import packages and create folder for data"
   ]
  },
  {
   "cell_type": "code",
   "execution_count": 16,
   "id": "8bf9c036-f181-4c86-a601-680bc9d4e213",
   "metadata": {},
   "outputs": [],
   "source": [
    "import os\n",
    "import pandas as pd\n",
    "from qiime2 import Visualization\n",
    "import matplotlib.pyplot as plt\n",
    "\n",
    "%matplotlib inline"
   ]
  },
  {
   "cell_type": "code",
   "execution_count": 17,
   "id": "d756d1fb-5ffa-48fe-9e7f-03e5c4fd7dc4",
   "metadata": {},
   "outputs": [],
   "source": [
    "# location of this week's data and all the results produced by this notebook \n",
    "# - this should be a path relative to your working directory\n",
    "data_dir = 'seq_data_new'\n",
    "\n",
    "if not os.path.isdir(data_dir):\n",
    "    os.makedirs(data_dir)"
   ]
  },
  {
   "cell_type": "markdown",
   "id": "4fc32b32-cf82-40ad-b798-b803b7e6fc5a",
   "metadata": {},
   "source": [
    "### 1. Data Import"
   ]
  },
  {
   "cell_type": "markdown",
   "id": "ee834d25-486c-47a6-ae60-70730f9c3e62",
   "metadata": {},
   "source": [
    "Import Metadata "
   ]
  },
  {
   "cell_type": "code",
   "execution_count": 18,
   "id": "91b9e733-6790-40a1-874c-4e50f8e151eb",
   "metadata": {},
   "outputs": [],
   "source": [
    "metadata_df = pd.read_csv(f'{data_dir}/sample_meta_data.tsv', sep='\\t', index_col=0)"
   ]
  },
  {
   "cell_type": "markdown",
   "id": "16a1adbc-2d2f-4cd3-8623-d71fc934429a",
   "metadata": {},
   "source": [
    "Import sequence data"
   ]
  },
  {
   "cell_type": "code",
   "execution_count": 19,
   "id": "7b78e650-f198-47f8-93a9-e005b8e33fc0",
   "metadata": {},
   "outputs": [
    {
     "name": "stdout",
     "output_type": "stream",
     "text": [
      "2022-10-18 11:46:25 URL:https://polybox.ethz.ch/index.php/s/AsLORlvUbwgBWTq/download [1506379068/1506379068] -> \"seq_data_new/seq_data.qza\" [1]\n"
     ]
    }
   ],
   "source": [
    "! wget -nv -O $data_dir/seq_data.qza 'https://polybox.ethz.ch/index.php/s/AsLORlvUbwgBWTq/download'"
   ]
  },
  {
   "cell_type": "markdown",
   "id": "d85d72a4-913c-4541-913a-c4b272d911d1",
   "metadata": {},
   "source": [
    "### 2. Sequence loading and summary visulazation"
   ]
  },
  {
   "cell_type": "code",
   "execution_count": 20,
   "id": "f82732b0-0268-4d32-b0a8-664d9eee6e4a",
   "metadata": {},
   "outputs": [
    {
     "name": "stdout",
     "output_type": "stream",
     "text": [
      "\u001b[32mUUID\u001b[0m:        32a1795b-d6fb-4ecc-9166-4fe29fb8206a\n",
      "\u001b[32mType\u001b[0m:        SampleData[PairedEndSequencesWithQuality]\n",
      "\u001b[32mData format\u001b[0m: SingleLanePerSamplePairedEndFastqDirFmt\n"
     ]
    }
   ],
   "source": [
    "! qiime tools peek $data_dir/seq_data.qza"
   ]
  },
  {
   "cell_type": "code",
   "execution_count": 21,
   "id": "24396c54-2726-4ce6-8236-08e7771c216c",
   "metadata": {},
   "outputs": [
    {
     "name": "stdout",
     "output_type": "stream",
     "text": [
      "\u001b[32mSaved Visualization to: seq_data_new/seq_data.qzv\u001b[0m\n",
      "\u001b[0m"
     ]
    }
   ],
   "source": [
    "! qiime demux summarize \\\n",
    "    --i-data $data_dir/seq_data.qza \\\n",
    "    --o-visualization $data_dir/seq_data.qzv"
   ]
  },
  {
   "cell_type": "code",
   "execution_count": 22,
   "id": "15775239-6c79-4ca2-a7fd-39ec58a30359",
   "metadata": {
    "tags": []
   },
   "outputs": [
    {
     "data": {
      "text/html": [
       "<div><img onload=\"(function(div, url){\n",
       "if (typeof require !== 'undefined') {\n",
       "    var baseURL = require.toUrl('').split('/').slice(0, -2).join('/');\n",
       "} else {\n",
       "    var baseURL = JSON.parse(\n",
       "        document.getElementById('jupyter-config-data').innerHTML\n",
       "    ).baseUrl.slice(0, -1);\n",
       "}\n",
       "url = baseURL + url;\n",
       "fetch(url).then(function(res) {\n",
       "    if (res.status === 404) {\n",
       "        div.innerHTML = 'Install QIIME 2 Jupyter extension with:<br />' +\n",
       "                        '<code>jupyter serverextension enable --py qiime2' +\n",
       "                        ' --sys-prefix</code><br />then restart your server.' +\n",
       "                        '<br /><br />(Interactive output not available on ' +\n",
       "                        'static notebook viewer services like nbviewer.)';\n",
       "    } else if (res.status === 409) {\n",
       "        div.innerHTML = 'Visualization no longer in scope. Re-run this cell' +\n",
       "                        ' to see the visualization.';\n",
       "    } else if (res.ok) {\n",
       "        url = res.url;\n",
       "        div.innerHTML = '<iframe src=\\'' + url + '\\' style=\\'' +\n",
       "                        'width: 100%; height: 700px; border: 0;\\'>' +\n",
       "                        '</iframe><hr />Open in a: <a href=\\'' + url + '\\'' +\n",
       "                        ' target=\\'_blank\\'>new window</a>'\n",
       "    } else {\n",
       "        div.innerHTML = 'Something has gone wrong. Check notebook server for' +\n",
       "                        ' errors.';\n",
       "    }\n",
       "});\n",
       "})(this.parentElement, '/qiime2/redirect?location=/tmp/qiime2-archive-75_hqbul')\" src=\"data:image/gif;base64,R0lGODlhAQABAIAAAP///wAAACH5BAEAAAAALAAAAAABAAEAAAICRAEAOw==\" /></div>"
      ],
      "text/plain": [
       "<visualization: Visualization uuid: 05f45ab2-6ce2-49e7-b1fd-e590b1e0a22d>"
      ]
     },
     "execution_count": 22,
     "metadata": {},
     "output_type": "execute_result"
    }
   ],
   "source": [
    "Visualization.load(f'{data_dir}/seq_data.qzv')"
   ]
  },
  {
   "cell_type": "markdown",
   "id": "e9e581d5-092a-47e4-a990-3d39c6a77d4f",
   "metadata": {},
   "source": [
    "### Quality filtering"
   ]
  },
  {
   "cell_type": "code",
   "execution_count": 28,
   "id": "dca3be28-4834-4f2b-bf7f-549e17cd3b58",
   "metadata": {},
   "outputs": [
    {
     "name": "stdout",
     "output_type": "stream",
     "text": [
      "\u001b[31m\u001b[1mError: QIIME 2 plugin 'quality-filter' has no action 'q-score-joined'.\u001b[0m\n"
     ]
    }
   ],
   "source": [
    "! qiime quality-filter q-score \\\n",
    "    --i-demux $data_dir/seq_data.qza \\\n",
    "    --p-min-quality 30 \\\n",
    "    --p-min-length-fraction 0.9 \\\n",
    "    --o-filtered-sequences $data_dir/demux_seqs_qc.qza \\\n",
    "    --o-filter-stats $data_dir/demux_seqs_qc_stats.qza"
   ]
  },
  {
   "cell_type": "code",
   "execution_count": 29,
   "id": "2541ec3e-639b-46ec-b263-783bdb4b47ee",
   "metadata": {},
   "outputs": [
    {
     "name": "stdout",
     "output_type": "stream",
     "text": [
      "\u001b[32mSaved Visualization to: seq_data_new/demux_seqs_qc_stats.qzv\u001b[0m\n",
      "\u001b[0m"
     ]
    }
   ],
   "source": [
    "! qiime metadata tabulate \\\n",
    "    --m-input-file $data_dir/demux_seqs_qc_stats.qza \\\n",
    "    --o-visualization $data_dir/demux_seqs_qc_stats.qzv"
   ]
  },
  {
   "cell_type": "code",
   "execution_count": 30,
   "id": "c128c515-4798-4043-9b2e-1cca1196bbde",
   "metadata": {},
   "outputs": [
    {
     "data": {
      "text/html": [
       "<div><img onload=\"(function(div, url){\n",
       "if (typeof require !== 'undefined') {\n",
       "    var baseURL = require.toUrl('').split('/').slice(0, -2).join('/');\n",
       "} else {\n",
       "    var baseURL = JSON.parse(\n",
       "        document.getElementById('jupyter-config-data').innerHTML\n",
       "    ).baseUrl.slice(0, -1);\n",
       "}\n",
       "url = baseURL + url;\n",
       "fetch(url).then(function(res) {\n",
       "    if (res.status === 404) {\n",
       "        div.innerHTML = 'Install QIIME 2 Jupyter extension with:<br />' +\n",
       "                        '<code>jupyter serverextension enable --py qiime2' +\n",
       "                        ' --sys-prefix</code><br />then restart your server.' +\n",
       "                        '<br /><br />(Interactive output not available on ' +\n",
       "                        'static notebook viewer services like nbviewer.)';\n",
       "    } else if (res.status === 409) {\n",
       "        div.innerHTML = 'Visualization no longer in scope. Re-run this cell' +\n",
       "                        ' to see the visualization.';\n",
       "    } else if (res.ok) {\n",
       "        url = res.url;\n",
       "        div.innerHTML = '<iframe src=\\'' + url + '\\' style=\\'' +\n",
       "                        'width: 100%; height: 700px; border: 0;\\'>' +\n",
       "                        '</iframe><hr />Open in a: <a href=\\'' + url + '\\'' +\n",
       "                        ' target=\\'_blank\\'>new window</a>'\n",
       "    } else {\n",
       "        div.innerHTML = 'Something has gone wrong. Check notebook server for' +\n",
       "                        ' errors.';\n",
       "    }\n",
       "});\n",
       "})(this.parentElement, '/qiime2/redirect?location=/tmp/qiime2-archive-_l7xv_03')\" src=\"data:image/gif;base64,R0lGODlhAQABAIAAAP///wAAACH5BAEAAAAALAAAAAABAAEAAAICRAEAOw==\" /></div>"
      ],
      "text/plain": [
       "<visualization: Visualization uuid: d16c7ef4-b936-4b2e-8641-1be7ac4b3bdd>"
      ]
     },
     "execution_count": 30,
     "metadata": {},
     "output_type": "execute_result"
    }
   ],
   "source": [
    "Visualization.load(f'{data_dir}/demux_seqs_qc_stats.qzv')"
   ]
  },
  {
   "cell_type": "code",
   "execution_count": 24,
   "id": "d38f7073-13bf-4c62-8221-315c18c8c167",
   "metadata": {},
   "outputs": [
    {
     "name": "stdout",
     "output_type": "stream",
     "text": [
      "\u001b[32mSaved Visualization to: seq_data_new/demux_seqs_qc.qzv\u001b[0m\n",
      "\u001b[0m"
     ]
    }
   ],
   "source": [
    "! qiime demux summarize \\\n",
    "    --i-data $data_dir/demux_seqs_qc.qza \\\n",
    "    --o-visualization $data_dir/demux_seqs_qc.qzv"
   ]
  },
  {
   "cell_type": "code",
   "execution_count": 25,
   "id": "d7a44951-4d89-48f2-a040-7e13299a04e2",
   "metadata": {},
   "outputs": [
    {
     "data": {
      "text/html": [
       "<div><img onload=\"(function(div, url){\n",
       "if (typeof require !== 'undefined') {\n",
       "    var baseURL = require.toUrl('').split('/').slice(0, -2).join('/');\n",
       "} else {\n",
       "    var baseURL = JSON.parse(\n",
       "        document.getElementById('jupyter-config-data').innerHTML\n",
       "    ).baseUrl.slice(0, -1);\n",
       "}\n",
       "url = baseURL + url;\n",
       "fetch(url).then(function(res) {\n",
       "    if (res.status === 404) {\n",
       "        div.innerHTML = 'Install QIIME 2 Jupyter extension with:<br />' +\n",
       "                        '<code>jupyter serverextension enable --py qiime2' +\n",
       "                        ' --sys-prefix</code><br />then restart your server.' +\n",
       "                        '<br /><br />(Interactive output not available on ' +\n",
       "                        'static notebook viewer services like nbviewer.)';\n",
       "    } else if (res.status === 409) {\n",
       "        div.innerHTML = 'Visualization no longer in scope. Re-run this cell' +\n",
       "                        ' to see the visualization.';\n",
       "    } else if (res.ok) {\n",
       "        url = res.url;\n",
       "        div.innerHTML = '<iframe src=\\'' + url + '\\' style=\\'' +\n",
       "                        'width: 100%; height: 700px; border: 0;\\'>' +\n",
       "                        '</iframe><hr />Open in a: <a href=\\'' + url + '\\'' +\n",
       "                        ' target=\\'_blank\\'>new window</a>'\n",
       "    } else {\n",
       "        div.innerHTML = 'Something has gone wrong. Check notebook server for' +\n",
       "                        ' errors.';\n",
       "    }\n",
       "});\n",
       "})(this.parentElement, '/qiime2/redirect?location=/tmp/qiime2-archive-4a7esxu_')\" src=\"data:image/gif;base64,R0lGODlhAQABAIAAAP///wAAACH5BAEAAAAALAAAAAABAAEAAAICRAEAOw==\" /></div>"
      ],
      "text/plain": [
       "<visualization: Visualization uuid: 3eee8c74-1939-40c3-ad2d-a0127e85c172>"
      ]
     },
     "execution_count": 25,
     "metadata": {},
     "output_type": "execute_result"
    }
   ],
   "source": [
    "Visualization.load(f'{data_dir}/demux_seqs_qc.qzv')"
   ]
  },
  {
   "cell_type": "markdown",
   "id": "d000dbfc-0e47-42c9-a3d4-00b511d9562d",
   "metadata": {},
   "source": [
    "### Dereplication and Chimera removal"
   ]
  },
  {
   "cell_type": "code",
   "execution_count": null,
   "id": "e874b184-f88c-44a8-a5f8-eca0bf02d6bf",
   "metadata": {},
   "outputs": [],
   "source": [
    "# Dereplication\n",
    "\n",
    "! qiime vsearch dereplicate-sequences \\\n",
    "    --i-sequences $data_dir/demux_seqs_qc.qza \\\n",
    "    --o-dereplicated-sequences $data_dir/demux_seqs_derep.qza \\\n",
    "    --o-dereplicated-table $data_dir/demux_table_derep.qza"
   ]
  },
  {
   "cell_type": "code",
   "execution_count": null,
   "id": "fabf765e-5393-4bca-9d16-8b5b2bbdd3bf",
   "metadata": {},
   "outputs": [],
   "source": [
    "# Chimera removal\n",
    "\n",
    "! qiime vsearch uchime-denovo \\\n",
    "    --i-sequences $data_dir/demux_seqs_derep.qza \\\n",
    "    --i-table $data_dir/demux_table_derep.qza \\\n",
    "    --o-chimeras $data_dir/demux_chimeras.qza \\\n",
    "    --o-nonchimeras $data_dir/demux_nonchimeras.qza \\\n",
    "    --o-stats $data_dir/demux_chimera_stats.qza\n"
   ]
  },
  {
   "cell_type": "code",
   "execution_count": null,
   "id": "857fe183-d4e9-48e6-8ad3-3877eb4a66a8",
   "metadata": {},
   "outputs": [],
   "source": [
    "! qiime feature-table filter-features \\\n",
    "    --i-table $data_dir/demux_table_derep.qza \\\n",
    "    --m-metadata-file $data_dir/demux_nonchimeras.qza \\\n",
    "    --o-filtered-table $data_dir/demux_table_filtered.qza\n",
    "\n",
    "! qiime feature-table filter-seqs \\\n",
    "    --i-data $data_dir/demux_seqs_derep.qza \\\n",
    "    --m-metadata-file $data_dir/demux_nonchimeras.qza \\\n",
    "    --o-filtered-data $data_dir/demux_seqs_filtered.qza\n",
    "\n",
    "! qiime feature-table summarize \\\n",
    "    --i-table $data_dir/demux_table_filtered.qza \\\n",
    "    --o-visualization $data_dir/demux_table_filtered.qzv"
   ]
  },
  {
   "cell_type": "code",
   "execution_count": null,
   "id": "0b46cee9-7adf-43ce-9e3c-c7bdd04a34b5",
   "metadata": {},
   "outputs": [],
   "source": [
    "Visualization.load(f'{data_dir}/demux_table_filtered.qzv')"
   ]
  },
  {
   "cell_type": "markdown",
   "id": "df122826-e6a0-438a-94d1-c5ac9fca1f37",
   "metadata": {},
   "source": [
    "### Clustering"
   ]
  },
  {
   "cell_type": "markdown",
   "id": "120d9ed8-1518-413c-ba03-e8087cdcbcb4",
   "metadata": {},
   "source": [
    "a) De novo clustering"
   ]
  },
  {
   "cell_type": "code",
   "execution_count": null,
   "id": "40cd6141-5150-4958-a6fa-d33b01ed70ba",
   "metadata": {},
   "outputs": [],
   "source": [
    "! qiime vsearch cluster-features-de-novo \\\n",
    "    --i-table $data_dir/demux_table_filtered.qza \\\n",
    "    --i-sequences $data_dir/demux_seqs_filtered.qza \\\n",
    "    --p-perc-identity 0.91 \\\n",
    "    --p-threads 3 \\\n",
    "    --o-clustered-table $data_dir/demux_table_de_novo_91.qza \\\n",
    "    --o-clustered-sequences $data_dir/demux_rep_set_de_novo_91.qza"
   ]
  },
  {
   "cell_type": "code",
   "execution_count": null,
   "id": "9cc0d43c-5d51-45d8-9e7c-a992df4127e3",
   "metadata": {},
   "outputs": [],
   "source": [
    "! qiime feature-table tabulate-seqs \\\n",
    "    --i-data $data_dir/demux_rep_set_de_novo_91.qza \\\n",
    "    --o-visualization $data_dir/demux_rep_set_de_novo_91.qzv\n",
    "\n",
    "! qiime feature-table summarize \\\n",
    "    --i-table $data_dir/demux_table_de_novo_91.qza \\\n",
    "    --m-sample-metadata-file $data_dir/metadata.tsv \\\n",
    "    --o-visualization $data_dir/demux_table_de_novo_91.qzv"
   ]
  },
  {
   "cell_type": "code",
   "execution_count": null,
   "id": "39bd6977-c1e9-42b3-8cee-5b36d55ab726",
   "metadata": {},
   "outputs": [],
   "source": [
    "Visualization.load(f'{data_dir}/demux_rep_set_de_novo_91.qzv')"
   ]
  },
  {
   "cell_type": "code",
   "execution_count": null,
   "id": "53a12a5a-3d7b-4428-b83d-5b8b20165d4a",
   "metadata": {},
   "outputs": [],
   "source": [
    "Visualization.load(f'{data_dir}/demux_table_de_novo_91.qzv')"
   ]
  },
  {
   "cell_type": "markdown",
   "id": "4f1c566b-fccc-4da9-b084-5ca0a95fd0a9",
   "metadata": {},
   "source": [
    "b) Open reference clustering"
   ]
  },
  {
   "cell_type": "code",
   "execution_count": null,
   "id": "d94b3aa6-7cca-4216-a58f-1163472160da",
   "metadata": {},
   "outputs": [],
   "source": [
    "! qiime tools import \\\n",
    "    --type 'FeatureData[Sequence]' \\\n",
    "    --input-path $data_dir/91_otus.fasta \\\n",
    "    --output-path $data_dir/91_otus.qza"
   ]
  },
  {
   "cell_type": "code",
   "execution_count": null,
   "id": "357c197b-80c0-4c06-88c1-b48beb93ddeb",
   "metadata": {},
   "outputs": [],
   "source": [
    "! qiime vsearch cluster-features-open-reference \\\n",
    "    --i-table $data_dir/demux_table_filtered.qza \\\n",
    "    --i-sequences $data_dir/demux_seqs_filtered.qza \\\n",
    "    --i-reference-sequences $data_dir/91_otus.qza \\\n",
    "    --p-perc-identity 0.91 \\\n",
    "    --p-threads 3 \\\n",
    "    --o-clustered-table $data_dir/demux_table_open_ref_91.qza \\\n",
    "    --o-clustered-sequences $data_dir/demux_seqs_open_ref_91.qza \\\n",
    "    --o-new-reference-sequences $data_dir/demux_seqs_open_ref_new_91.qza"
   ]
  },
  {
   "cell_type": "code",
   "execution_count": null,
   "id": "bf8531eb-401a-4256-b6c0-4be02bb9bb0f",
   "metadata": {},
   "outputs": [],
   "source": [
    "! qiime feature-table tabulate-seqs \\\n",
    "    --i-data $data_dir/demux_seqs_open_ref_91.qza \\\n",
    "    --o-visualization $data_dir/demux_seqs_open_ref_91.qzv\n",
    "\n",
    "! qiime feature-table summarize \\\n",
    "    --i-table $data_dir/demux_table_open_ref_91.qza \\\n",
    "    --m-sample-metadata-file $data_dir/metadata.tsv \\\n",
    "    --o-visualization $data_dir/demux_table_open_ref_91.qzv"
   ]
  },
  {
   "cell_type": "code",
   "execution_count": null,
   "id": "21d7b8ce-2ba4-46e5-ba15-7d44b821d285",
   "metadata": {},
   "outputs": [],
   "source": [
    "Visualization.load(f'{data_dir}/demux_seqs_open_ref_91.qzv')"
   ]
  },
  {
   "cell_type": "code",
   "execution_count": null,
   "id": "14d612be-aeae-4223-85cb-72debe176197",
   "metadata": {},
   "outputs": [],
   "source": [
    "Visualization.load(f'{data_dir}/demux_table_open_ref_91.qzv')"
   ]
  }
 ],
 "metadata": {
  "kernelspec": {
   "display_name": "Python 3 (ipykernel)",
   "language": "python",
   "name": "python3"
  },
  "language_info": {
   "codemirror_mode": {
    "name": "ipython",
    "version": 3
   },
   "file_extension": ".py",
   "mimetype": "text/x-python",
   "name": "python",
   "nbconvert_exporter": "python",
   "pygments_lexer": "ipython3",
   "version": "3.8.13"
  }
 },
 "nbformat": 4,
 "nbformat_minor": 5
}
