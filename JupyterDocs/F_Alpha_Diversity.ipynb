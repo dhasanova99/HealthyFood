{
 "cells": [
  {
   "cell_type": "markdown",
   "id": "46b98064-bf49-4594-a5d0-40298a10b3b8",
   "metadata": {},
   "source": [
    "# Alpha Diversity Analysis"
   ]
  },
  {
   "cell_type": "markdown",
   "id": "59f4146e-ea7d-4747-9c42-d5621cd06404",
   "metadata": {},
   "source": [
    "Measurement of within sample diversity."
   ]
  },
  {
   "cell_type": "code",
   "execution_count": 64,
   "id": "c14d59d4-cd33-4392-9e15-4a6af5425149",
   "metadata": {},
   "outputs": [],
   "source": [
    "import os\n",
    "import pandas as pd\n",
    "import numpy as np\n",
    "import qiime2 as q2\n",
    "from qiime2 import Visualization\n",
    "from scipy.stats import shapiro, kruskal, f_oneway\n",
    "import matplotlib.pyplot as plt\n",
    "import seaborn as sns\n",
    "\n",
    "%matplotlib inline"
   ]
  },
  {
   "cell_type": "code",
   "execution_count": 2,
   "id": "b5bce7f0-d71e-408e-b3f8-df2888cd0640",
   "metadata": {},
   "outputs": [],
   "source": [
    "# location of the data and all the results produced by this notebook \n",
    "data_dir = 'project_data'\n",
    "\n",
    "\n",
    "if not os.path.isdir(data_dir):\n",
    "    os.makedirs(data_dir) "
   ]
  },
  {
   "cell_type": "markdown",
   "id": "da32f927-3207-4e57-b126-c89ab16f4cb4",
   "metadata": {},
   "source": [
    "# 1. Data import"
   ]
  },
  {
   "cell_type": "code",
   "execution_count": 52,
   "id": "89b1e14a-6a8c-4381-9cc6-38e42090c5d4",
   "metadata": {},
   "outputs": [
    {
     "name": "stdout",
     "output_type": "stream",
     "text": [
      "2022-12-11 10:15:18 URL:https://polybox.ethz.ch/index.php/s/MBLSUQXzglnn66u/download?path=%2F&files=Sequences_rep_set.qza [390624/390624] -> \"project_data/rep-seqs.qza\" [1]\n",
      "2022-12-11 10:15:18 URL:https://polybox.ethz.ch/index.php/s/MBLSUQXzglnn66u/download?path=%2F&files=Feature_table.qza [504534/504534] -> \"project_data/table.qza\" [1]\n",
      "2022-12-11 10:15:18 URL:https://polybox.ethz.ch/index.php/s/MBLSUQXzglnn66u/download?path=%2F&files=taxonomy_1.qza [303165/303165] -> \"project_data/taxonomy_1.qza\" [1]\n",
      "2022-12-11 10:15:19 URL:https://polybox.ethz.ch/index.php/s/MBLSUQXzglnn66u/download?path=%2F&files=fasttree-tree-rooted.qza [249852/249852] -> \"project_data/fasttree-tree-rooted.qza\" [1]\n",
      "2022-12-11 10:15:19 URL:https://polybox.ethz.ch/index.php/s/MBLSUQXzglnn66u/download?path=%2F&files=metadata-nutrition.tsv [300302/300302] -> \"project_data/sample_metadata.tsv\" [1]\n"
     ]
    }
   ],
   "source": [
    "#filtered sequence\n",
    "! wget -nv -O $data_dir/rep-seqs.qza 'https://polybox.ethz.ch/index.php/s/MBLSUQXzglnn66u/download?path=%2F&files=Sequences_rep_set.qza'\n",
    "\n",
    "# Feature Table\n",
    "! wget -nv -O $data_dir/table.qza 'https://polybox.ethz.ch/index.php/s/MBLSUQXzglnn66u/download?path=%2F&files=Feature_table.qza'\n",
    "\n",
    "# Taxonomy file generate from silva\n",
    "! wget -nv -O $data_dir/taxonomy_1.qza 'https://polybox.ethz.ch/index.php/s/MBLSUQXzglnn66u/download?path=%2F&files=taxonomy_1.qza'\n",
    "\n",
    "# Phylogeny file \n",
    "! wget -nv -O $data_dir/fasttree-tree-rooted.qza 'https://polybox.ethz.ch/index.php/s/MBLSUQXzglnn66u/download?path=%2F&files=fasttree-tree-rooted.qza'\n",
    "\n",
    "# Metadata\n",
    "! wget -nv -O $data_dir/sample_metadata.tsv 'https://polybox.ethz.ch/index.php/s/MBLSUQXzglnn66u/download?path=%2F&files=metadata-nutrition.tsv'"
   ]
  },
  {
   "cell_type": "markdown",
   "id": "a9e827e1-7d34-4b83-a326-62ddea7e5ac4",
   "metadata": {},
   "source": [
    "### 1.1 Metadata"
   ]
  },
  {
   "cell_type": "code",
   "execution_count": 68,
   "id": "bfdb16b4-e2d6-489b-893a-814d348ea03f",
   "metadata": {
    "tags": []
   },
   "outputs": [
    {
     "data": {
      "text/html": [
       "<div>\n",
       "<style scoped>\n",
       "    .dataframe tbody tr th:only-of-type {\n",
       "        vertical-align: middle;\n",
       "    }\n",
       "\n",
       "    .dataframe tbody tr th {\n",
       "        vertical-align: top;\n",
       "    }\n",
       "\n",
       "    .dataframe thead th {\n",
       "        text-align: right;\n",
       "    }\n",
       "</style>\n",
       "<table border=\"1\" class=\"dataframe\">\n",
       "  <thead>\n",
       "    <tr style=\"text-align: right;\">\n",
       "      <th></th>\n",
       "      <th>sampleid</th>\n",
       "      <th>GEN_age_cat</th>\n",
       "      <th>GEN_age_corrected</th>\n",
       "      <th>GEN_bmi_cat</th>\n",
       "      <th>GEN_bmi_corrected</th>\n",
       "      <th>GEN_cat</th>\n",
       "      <th>GEN_collection_timestamp</th>\n",
       "      <th>GEN_country</th>\n",
       "      <th>GEN_dog</th>\n",
       "      <th>GEN_elevation</th>\n",
       "      <th>...</th>\n",
       "      <th>NUT_probiotic_frequency</th>\n",
       "      <th>NUT_red_meat_frequency</th>\n",
       "      <th>NUT_salted_snacks_frequency</th>\n",
       "      <th>NUT_seafood_frequency</th>\n",
       "      <th>NUT_sugary_sweets_frequency</th>\n",
       "      <th>NUT_vegetable_frequency</th>\n",
       "      <th>NUT_vitamin_b_supplement_frequency</th>\n",
       "      <th>NUT_vitamin_d_supplement_frequency</th>\n",
       "      <th>NUT_whole_eggs</th>\n",
       "      <th>NUT_whole_grain_frequency</th>\n",
       "    </tr>\n",
       "  </thead>\n",
       "  <tbody>\n",
       "    <tr>\n",
       "      <th>0</th>\n",
       "      <td>10317.000046</td>\n",
       "      <td>20s</td>\n",
       "      <td>20.0</td>\n",
       "      <td>Normal</td>\n",
       "      <td>23.75</td>\n",
       "      <td>False</td>\n",
       "      <td>2016-08-25 18:30:00</td>\n",
       "      <td>USA</td>\n",
       "      <td>True</td>\n",
       "      <td>1919.3</td>\n",
       "      <td>...</td>\n",
       "      <td>Rarely</td>\n",
       "      <td>Regularly</td>\n",
       "      <td>Occasionally</td>\n",
       "      <td>Rarely</td>\n",
       "      <td>Occasionally</td>\n",
       "      <td>Occasionally</td>\n",
       "      <td>Never</td>\n",
       "      <td>Never</td>\n",
       "      <td>Daily</td>\n",
       "      <td>Daily</td>\n",
       "    </tr>\n",
       "    <tr>\n",
       "      <th>1</th>\n",
       "      <td>10317.000050</td>\n",
       "      <td>Not provided</td>\n",
       "      <td>NaN</td>\n",
       "      <td>Overweight</td>\n",
       "      <td>25.61</td>\n",
       "      <td>False</td>\n",
       "      <td>2016-07-06 09:00:00</td>\n",
       "      <td>United Kingdom</td>\n",
       "      <td>False</td>\n",
       "      <td>65.5</td>\n",
       "      <td>...</td>\n",
       "      <td>Rarely</td>\n",
       "      <td>Rarely</td>\n",
       "      <td>Regularly</td>\n",
       "      <td>Occasionally</td>\n",
       "      <td>Regularly</td>\n",
       "      <td>Regularly</td>\n",
       "      <td>Never</td>\n",
       "      <td>Never</td>\n",
       "      <td>Rarely</td>\n",
       "      <td>Occasionally</td>\n",
       "    </tr>\n",
       "    <tr>\n",
       "      <th>2</th>\n",
       "      <td>10317.000038</td>\n",
       "      <td>30s</td>\n",
       "      <td>39.0</td>\n",
       "      <td>Overweight</td>\n",
       "      <td>27.67</td>\n",
       "      <td>False</td>\n",
       "      <td>2016-06-29 09:30:00</td>\n",
       "      <td>United Kingdom</td>\n",
       "      <td>False</td>\n",
       "      <td>44.5</td>\n",
       "      <td>...</td>\n",
       "      <td>Never</td>\n",
       "      <td>Occasionally</td>\n",
       "      <td>Daily</td>\n",
       "      <td>Occasionally</td>\n",
       "      <td>Rarely</td>\n",
       "      <td>Occasionally</td>\n",
       "      <td>Never</td>\n",
       "      <td>Never</td>\n",
       "      <td>Regularly</td>\n",
       "      <td>Occasionally</td>\n",
       "    </tr>\n",
       "    <tr>\n",
       "      <th>3</th>\n",
       "      <td>10317.000047</td>\n",
       "      <td>50s</td>\n",
       "      <td>56.0</td>\n",
       "      <td>Normal</td>\n",
       "      <td>19.71</td>\n",
       "      <td>False</td>\n",
       "      <td>2016-07-12 17:30:00</td>\n",
       "      <td>Germany</td>\n",
       "      <td>False</td>\n",
       "      <td>8.7</td>\n",
       "      <td>...</td>\n",
       "      <td>Daily</td>\n",
       "      <td>Occasionally</td>\n",
       "      <td>Rarely</td>\n",
       "      <td>Not provided</td>\n",
       "      <td>Rarely</td>\n",
       "      <td>Regularly</td>\n",
       "      <td>Daily</td>\n",
       "      <td>Daily</td>\n",
       "      <td>Rarely</td>\n",
       "      <td>Regularly</td>\n",
       "    </tr>\n",
       "    <tr>\n",
       "      <th>4</th>\n",
       "      <td>10317.000046</td>\n",
       "      <td>40s</td>\n",
       "      <td>45.0</td>\n",
       "      <td>Normal</td>\n",
       "      <td>23.15</td>\n",
       "      <td>False</td>\n",
       "      <td>2016-05-24 19:00:00</td>\n",
       "      <td>United Kingdom</td>\n",
       "      <td>True</td>\n",
       "      <td>68.8</td>\n",
       "      <td>...</td>\n",
       "      <td>Regularly</td>\n",
       "      <td>Never</td>\n",
       "      <td>Never</td>\n",
       "      <td>Occasionally</td>\n",
       "      <td>Never</td>\n",
       "      <td>Daily</td>\n",
       "      <td>Rarely</td>\n",
       "      <td>Occasionally</td>\n",
       "      <td>Regularly</td>\n",
       "      <td>Daily</td>\n",
       "    </tr>\n",
       "  </tbody>\n",
       "</table>\n",
       "<p>5 rows × 57 columns</p>\n",
       "</div>"
      ],
      "text/plain": [
       "       sampleid   GEN_age_cat  GEN_age_corrected GEN_bmi_cat  \\\n",
       "0  10317.000046           20s               20.0      Normal   \n",
       "1  10317.000050  Not provided                NaN  Overweight   \n",
       "2  10317.000038           30s               39.0  Overweight   \n",
       "3  10317.000047           50s               56.0      Normal   \n",
       "4  10317.000046           40s               45.0      Normal   \n",
       "\n",
       "   GEN_bmi_corrected  GEN_cat GEN_collection_timestamp     GEN_country  \\\n",
       "0              23.75    False      2016-08-25 18:30:00             USA   \n",
       "1              25.61    False      2016-07-06 09:00:00  United Kingdom   \n",
       "2              27.67    False      2016-06-29 09:30:00  United Kingdom   \n",
       "3              19.71    False      2016-07-12 17:30:00         Germany   \n",
       "4              23.15    False      2016-05-24 19:00:00  United Kingdom   \n",
       "\n",
       "   GEN_dog  GEN_elevation  ... NUT_probiotic_frequency  \\\n",
       "0     True         1919.3  ...                  Rarely   \n",
       "1    False           65.5  ...                  Rarely   \n",
       "2    False           44.5  ...                   Never   \n",
       "3    False            8.7  ...                   Daily   \n",
       "4     True           68.8  ...               Regularly   \n",
       "\n",
       "   NUT_red_meat_frequency NUT_salted_snacks_frequency NUT_seafood_frequency  \\\n",
       "0               Regularly                Occasionally                Rarely   \n",
       "1                  Rarely                   Regularly          Occasionally   \n",
       "2            Occasionally                       Daily          Occasionally   \n",
       "3            Occasionally                      Rarely          Not provided   \n",
       "4                   Never                       Never          Occasionally   \n",
       "\n",
       "  NUT_sugary_sweets_frequency  NUT_vegetable_frequency  \\\n",
       "0                Occasionally             Occasionally   \n",
       "1                   Regularly                Regularly   \n",
       "2                      Rarely             Occasionally   \n",
       "3                      Rarely                Regularly   \n",
       "4                       Never                    Daily   \n",
       "\n",
       "  NUT_vitamin_b_supplement_frequency  NUT_vitamin_d_supplement_frequency  \\\n",
       "0                              Never                               Never   \n",
       "1                              Never                               Never   \n",
       "2                              Never                               Never   \n",
       "3                              Daily                               Daily   \n",
       "4                             Rarely                        Occasionally   \n",
       "\n",
       "  NUT_whole_eggs NUT_whole_grain_frequency  \n",
       "0          Daily                     Daily  \n",
       "1         Rarely              Occasionally  \n",
       "2      Regularly              Occasionally  \n",
       "3         Rarely                 Regularly  \n",
       "4      Regularly                     Daily  \n",
       "\n",
       "[5 rows x 57 columns]"
      ]
     },
     "execution_count": 68,
     "metadata": {},
     "output_type": "execute_result"
    }
   ],
   "source": [
    "metadata_df = pd.read_csv(f'project_data/sample_metadata.tsv', sep='\\t', float_precision='round_trip')\n",
    "metadata_df.head()"
   ]
  },
  {
   "cell_type": "code",
   "execution_count": 61,
   "id": "c88a16f4-8820-4b25-9b25-c156d87af703",
   "metadata": {},
   "outputs": [
    {
     "data": {
      "text/plain": [
       "pandas.core.series.Series"
      ]
     },
     "execution_count": 61,
     "metadata": {},
     "output_type": "execute_result"
    }
   ],
   "source": [
    "type(metadata_df['sampleid'])"
   ]
  },
  {
   "cell_type": "code",
   "execution_count": null,
   "id": "38bb4099-9463-49a7-a928-27fc3fc8d8f8",
   "metadata": {},
   "outputs": [],
   "source": []
  },
  {
   "cell_type": "markdown",
   "id": "1edfb5f3-15a0-4227-975c-681d0b204c9f",
   "metadata": {},
   "source": []
  },
  {
   "cell_type": "markdown",
   "id": "f40af6ce-87fa-4a89-9454-1218edb938ed",
   "metadata": {},
   "source": [
    "### 1.2 Feature Table"
   ]
  },
  {
   "cell_type": "markdown",
   "id": "6e514905-ca02-4885-ac7a-08af58553e14",
   "metadata": {},
   "source": [
    "Load feature table visulaisation produced in Sequence_import script:"
   ]
  },
  {
   "cell_type": "code",
   "execution_count": 16,
   "id": "b3ae52a3-315a-48f1-9ba6-8fdbe75ed1fc",
   "metadata": {},
   "outputs": [
    {
     "name": "stdout",
     "output_type": "stream",
     "text": [
      "\u001b[32mSaved Visualization to: project_data/table.qzv\u001b[0m\n",
      "\u001b[0m"
     ]
    }
   ],
   "source": [
    "! qiime feature-table summarize \\\n",
    "    --i-table $data_dir/table.qza \\\n",
    "    --m-sample-metadata-file $data_dir/sample_metadata.tsv \\\n",
    "    --o-visualization $data_dir/table.qzv"
   ]
  },
  {
   "cell_type": "code",
   "execution_count": 17,
   "id": "ee0d6d0d-6d82-41b5-8c86-876bdd7937b7",
   "metadata": {
    "tags": []
   },
   "outputs": [
    {
     "data": {
      "text/html": [
       "<div><img onload=\"(function(div, url){\n",
       "if (typeof require !== 'undefined') {\n",
       "    var baseURL = require.toUrl('').split('/').slice(0, -2).join('/');\n",
       "} else {\n",
       "    var baseURL = JSON.parse(\n",
       "        document.getElementById('jupyter-config-data').innerHTML\n",
       "    ).baseUrl.slice(0, -1);\n",
       "}\n",
       "url = baseURL + url;\n",
       "fetch(url).then(function(res) {\n",
       "    if (res.status === 404) {\n",
       "        div.innerHTML = 'Install QIIME 2 Jupyter extension with:<br />' +\n",
       "                        '<code>jupyter serverextension enable --py qiime2' +\n",
       "                        ' --sys-prefix</code><br />then restart your server.' +\n",
       "                        '<br /><br />(Interactive output not available on ' +\n",
       "                        'static notebook viewer services like nbviewer.)';\n",
       "    } else if (res.status === 409) {\n",
       "        div.innerHTML = 'Visualization no longer in scope. Re-run this cell' +\n",
       "                        ' to see the visualization.';\n",
       "    } else if (res.ok) {\n",
       "        url = res.url;\n",
       "        div.innerHTML = '<iframe src=\\'' + url + '\\' style=\\'' +\n",
       "                        'width: 100%; height: 700px; border: 0;\\'>' +\n",
       "                        '</iframe><hr />Open in a: <a href=\\'' + url + '\\'' +\n",
       "                        ' target=\\'_blank\\'>new window</a>'\n",
       "    } else {\n",
       "        div.innerHTML = 'Something has gone wrong. Check notebook server for' +\n",
       "                        ' errors.';\n",
       "    }\n",
       "});\n",
       "})(this.parentElement, '/qiime2/redirect?location=/tmp/qiime2-archive-r5i6btry')\" src=\"data:image/gif;base64,R0lGODlhAQABAIAAAP///wAAACH5BAEAAAAALAAAAAABAAEAAAICRAEAOw==\" /></div>"
      ],
      "text/plain": [
       "<visualization: Visualization uuid: 5f1cef9c-6e8a-48b6-97ad-128749c6508f>"
      ]
     },
     "execution_count": 17,
     "metadata": {},
     "output_type": "execute_result"
    }
   ],
   "source": [
    "Visualization.load(f'{data_dir}/table.qzv')"
   ]
  },
  {
   "cell_type": "markdown",
   "id": "e4a4e414-0547-4f1a-b313-c5acf8f8a52d",
   "metadata": {},
   "source": [
    "### 1.3 Pre created phylogenetic tree"
   ]
  },
  {
   "cell_type": "markdown",
   "id": "0c23e873-8d17-4951-8a35-e42a9cb8dd31",
   "metadata": {},
   "source": [
    "Load created phylogenetic tree (rooted fasttree) made in workbook E_Phylogeny for our dataset. We need a pre-created phylogenetic tree for our dataset as some diversity metrics in our further analysis need to know the relatedness between sequences."
   ]
  },
  {
   "cell_type": "markdown",
   "id": "0fc08175-0d29-4483-9163-64e240f4c908",
   "metadata": {},
   "source": [
    "### here load the tree we make from E_Phylogeny!"
   ]
  },
  {
   "cell_type": "code",
   "execution_count": 13,
   "id": "fd28786b-ad6d-4d60-a306-3cbf43fa898a",
   "metadata": {},
   "outputs": [
    {
     "name": "stdout",
     "output_type": "stream",
     "text": [
      "\u001b[32mSaved Visualization to: project_data/fasttree-tree-rooted.qzv\u001b[0m\n",
      "\u001b[0m"
     ]
    }
   ],
   "source": [
    "! qiime empress tree-plot \\\n",
    "    --i-tree project_data/fasttree-tree-rooted.qza \\\n",
    "    --o-visualization $data_dir/fasttree-tree-rooted.qzv"
   ]
  },
  {
   "cell_type": "code",
   "execution_count": 14,
   "id": "878d2d23-0b93-440b-b812-bbef869ef5a2",
   "metadata": {
    "collapsed": true,
    "jupyter": {
     "outputs_hidden": true
    },
    "tags": []
   },
   "outputs": [
    {
     "data": {
      "text/html": [
       "<div><img onload=\"(function(div, url){\n",
       "if (typeof require !== 'undefined') {\n",
       "    var baseURL = require.toUrl('').split('/').slice(0, -2).join('/');\n",
       "} else {\n",
       "    var baseURL = JSON.parse(\n",
       "        document.getElementById('jupyter-config-data').innerHTML\n",
       "    ).baseUrl.slice(0, -1);\n",
       "}\n",
       "url = baseURL + url;\n",
       "fetch(url).then(function(res) {\n",
       "    if (res.status === 404) {\n",
       "        div.innerHTML = 'Install QIIME 2 Jupyter extension with:<br />' +\n",
       "                        '<code>jupyter serverextension enable --py qiime2' +\n",
       "                        ' --sys-prefix</code><br />then restart your server.' +\n",
       "                        '<br /><br />(Interactive output not available on ' +\n",
       "                        'static notebook viewer services like nbviewer.)';\n",
       "    } else if (res.status === 409) {\n",
       "        div.innerHTML = 'Visualization no longer in scope. Re-run this cell' +\n",
       "                        ' to see the visualization.';\n",
       "    } else if (res.ok) {\n",
       "        url = res.url;\n",
       "        div.innerHTML = '<iframe src=\\'' + url + '\\' style=\\'' +\n",
       "                        'width: 100%; height: 700px; border: 0;\\'>' +\n",
       "                        '</iframe><hr />Open in a: <a href=\\'' + url + '\\'' +\n",
       "                        ' target=\\'_blank\\'>new window</a>'\n",
       "    } else {\n",
       "        div.innerHTML = 'Something has gone wrong. Check notebook server for' +\n",
       "                        ' errors.';\n",
       "    }\n",
       "});\n",
       "})(this.parentElement, '/qiime2/redirect?location=/tmp/qiime2-archive-thd4xwv3')\" src=\"data:image/gif;base64,R0lGODlhAQABAIAAAP///wAAACH5BAEAAAAALAAAAAABAAEAAAICRAEAOw==\" /></div>"
      ],
      "text/plain": [
       "<visualization: Visualization uuid: 3bb942ab-7e81-485c-bc77-08ef8181c09d>"
      ]
     },
     "execution_count": 14,
     "metadata": {},
     "output_type": "execute_result"
    }
   ],
   "source": [
    "Visualization.load(f'{data_dir}/fasttree-tree-rooted.qzv')"
   ]
  },
  {
   "cell_type": "markdown",
   "id": "0ade31f3-03c1-4acd-a221-09dc4fe80a38",
   "metadata": {},
   "source": [
    "# 2. Alpha rarefaction"
   ]
  },
  {
   "cell_type": "markdown",
   "id": "eae5e6aa-744d-4969-8f94-923dafe56eec",
   "metadata": {},
   "source": [
    "To decide the threshold for rarefying interactive alpha rarefaction curves are produced with the alpha-rarefaction action."
   ]
  },
  {
   "cell_type": "raw",
   "id": "648858e3-e51c-4225-8cbf-3551b48e0940",
   "metadata": {},
   "source": [
    "! qiime diversity alpha-rarefaction \\\n",
    "    --i-table $data_dir/table.qza \\#here insert the feature table from the sequence import script\n",
    "    --i-phylogeny project_data/fasttree-tree-rooted.qza \\#Here insert our created tree from our dataset\n",
    "    --p-max-depth 20000 \\#set the max depth to a reasonable value so not too much data gets lost\n",
    "    --m-metadata-file project_data/sample_meta_data.tsv \\#here load the metadata\n",
    "    --o-visualization $data_dir/alpha-rarefaction.qzv"
   ]
  },
  {
   "cell_type": "code",
   "execution_count": 15,
   "id": "ae505184-557f-4357-b744-182d0c9c4e3f",
   "metadata": {},
   "outputs": [
    {
     "name": "stdout",
     "output_type": "stream",
     "text": [
      "\u001b[32mSaved Visualization to: project_data/alpha-rarefaction.qzv\u001b[0m\n",
      "\u001b[0m"
     ]
    }
   ],
   "source": [
    "! qiime diversity alpha-rarefaction \\\n",
    "    --i-table $data_dir/table.qza \\\n",
    "    --i-phylogeny project_data/fasttree-tree-rooted.qza \\\n",
    "    --p-max-depth 20000 \\\n",
    "    --m-metadata-file project_data/sample_metadata.tsv \\\n",
    "    --o-visualization $data_dir/alpha-rarefaction.qzv"
   ]
  },
  {
   "cell_type": "code",
   "execution_count": 4,
   "id": "5d1969d1-51b8-430a-877d-c4f93c0414f7",
   "metadata": {
    "tags": []
   },
   "outputs": [
    {
     "data": {
      "text/html": [
       "<div><img onload=\"(function(div, url){\n",
       "if (typeof require !== 'undefined') {\n",
       "    var baseURL = require.toUrl('').split('/').slice(0, -2).join('/');\n",
       "} else {\n",
       "    var baseURL = JSON.parse(\n",
       "        document.getElementById('jupyter-config-data').innerHTML\n",
       "    ).baseUrl.slice(0, -1);\n",
       "}\n",
       "url = baseURL + url;\n",
       "fetch(url).then(function(res) {\n",
       "    if (res.status === 404) {\n",
       "        div.innerHTML = 'Install QIIME 2 Jupyter extension with:<br />' +\n",
       "                        '<code>jupyter serverextension enable --py qiime2' +\n",
       "                        ' --sys-prefix</code><br />then restart your server.' +\n",
       "                        '<br /><br />(Interactive output not available on ' +\n",
       "                        'static notebook viewer services like nbviewer.)';\n",
       "    } else if (res.status === 409) {\n",
       "        div.innerHTML = 'Visualization no longer in scope. Re-run this cell' +\n",
       "                        ' to see the visualization.';\n",
       "    } else if (res.ok) {\n",
       "        url = res.url;\n",
       "        div.innerHTML = '<iframe src=\\'' + url + '\\' style=\\'' +\n",
       "                        'width: 100%; height: 700px; border: 0;\\'>' +\n",
       "                        '</iframe><hr />Open in a: <a href=\\'' + url + '\\'' +\n",
       "                        ' target=\\'_blank\\'>new window</a>'\n",
       "    } else {\n",
       "        div.innerHTML = 'Something has gone wrong. Check notebook server for' +\n",
       "                        ' errors.';\n",
       "    }\n",
       "});\n",
       "})(this.parentElement, '/qiime2/redirect?location=/tmp/qiime2-archive-x9lb11cg')\" src=\"data:image/gif;base64,R0lGODlhAQABAIAAAP///wAAACH5BAEAAAAALAAAAAABAAEAAAICRAEAOw==\" /></div>"
      ],
      "text/plain": [
       "<visualization: Visualization uuid: 502ac71c-564b-44d7-95e8-42571168fab0>"
      ]
     },
     "execution_count": 4,
     "metadata": {},
     "output_type": "execute_result"
    }
   ],
   "source": [
    "Visualization.load(f'{data_dir}/alpha-rarefaction.qzv')"
   ]
  },
  {
   "cell_type": "markdown",
   "id": "35922ef1-0ccc-4118-be99-8c4addc48452",
   "metadata": {},
   "source": [
    "The top plot in the visulaization shows the alpha diversity over different sequencing depth in our data. When the curve reaches a plateau, higher sequencing depth would not result in a different estimated sample diversity metric.\n",
    "The bottom plot visualizes the remaining sample count, when the feature table is rarefied to the specific sample depth shown on the x-axis.\n",
    "The goal is to select a sequencing depth for rarefaction at which sample loss is minimized while alpha diversity is maximized. This serves as rarefying threshold in the folowing step. To define the rarefying threshold it was looked at the shannon index metric and the sample metadata columns: age category, host common name, race and sex.\n",
    "\n",
    "Sample depth 2500 was chosen as at this depth the Shannon index reaches the plateau for all relevant categories in alpha diversity while not too many samples are lost. By investigating feature table, 21.01% features in 96.75% of the samples are kept in total at the sequencing depth of 2500, by looking at the host common name. The investigated categories lose equivalent amount of samplese.g. 5 samples from male and 12 samples from females are lost and the losses of the different age categories lies in the span of less than 10 samples per category."
   ]
  },
  {
   "cell_type": "markdown",
   "id": "cdd750ec-06af-4a72-a7bb-09972d30044e",
   "metadata": {},
   "source": [
    "# 3. Diversity Analysis"
   ]
  },
  {
   "cell_type": "markdown",
   "id": "f49c621b-563b-4e80-ba20-76df57b50043",
   "metadata": {},
   "source": [
    "Now the various diversity metrics at choosen rarefaction depth are outputted with the core-metrics-phylogenetic function. This function rarefies the feature table and at the same time calculated diversity metrics for it."
   ]
  },
  {
   "cell_type": "code",
   "execution_count": 19,
   "id": "7c8c49a7-f02c-49cc-a6ce-43e75c14960e",
   "metadata": {
    "tags": []
   },
   "outputs": [
    {
     "name": "stdout",
     "output_type": "stream",
     "text": [
      "\u001b[32mSaved FeatureTable[Frequency] to: project_data/core-metrics-results1/rarefied_table.qza\u001b[0m\n",
      "\u001b[32mSaved SampleData[AlphaDiversity] to: project_data/core-metrics-results1/faith_pd_vector.qza\u001b[0m\n",
      "\u001b[32mSaved SampleData[AlphaDiversity] to: project_data/core-metrics-results1/observed_features_vector.qza\u001b[0m\n",
      "\u001b[32mSaved SampleData[AlphaDiversity] to: project_data/core-metrics-results1/shannon_vector.qza\u001b[0m\n",
      "\u001b[32mSaved SampleData[AlphaDiversity] to: project_data/core-metrics-results1/evenness_vector.qza\u001b[0m\n",
      "\u001b[32mSaved DistanceMatrix to: project_data/core-metrics-results1/unweighted_unifrac_distance_matrix.qza\u001b[0m\n",
      "\u001b[32mSaved DistanceMatrix to: project_data/core-metrics-results1/weighted_unifrac_distance_matrix.qza\u001b[0m\n",
      "\u001b[32mSaved DistanceMatrix to: project_data/core-metrics-results1/jaccard_distance_matrix.qza\u001b[0m\n",
      "\u001b[32mSaved DistanceMatrix to: project_data/core-metrics-results1/bray_curtis_distance_matrix.qza\u001b[0m\n",
      "\u001b[32mSaved PCoAResults to: project_data/core-metrics-results1/unweighted_unifrac_pcoa_results.qza\u001b[0m\n",
      "\u001b[32mSaved PCoAResults to: project_data/core-metrics-results1/weighted_unifrac_pcoa_results.qza\u001b[0m\n",
      "\u001b[32mSaved PCoAResults to: project_data/core-metrics-results1/jaccard_pcoa_results.qza\u001b[0m\n",
      "\u001b[32mSaved PCoAResults to: project_data/core-metrics-results1/bray_curtis_pcoa_results.qza\u001b[0m\n",
      "\u001b[32mSaved Visualization to: project_data/core-metrics-results1/unweighted_unifrac_emperor.qzv\u001b[0m\n",
      "\u001b[32mSaved Visualization to: project_data/core-metrics-results1/weighted_unifrac_emperor.qzv\u001b[0m\n",
      "\u001b[32mSaved Visualization to: project_data/core-metrics-results1/jaccard_emperor.qzv\u001b[0m\n",
      "\u001b[32mSaved Visualization to: project_data/core-metrics-results1/bray_curtis_emperor.qzv\u001b[0m\n",
      "\u001b[0m"
     ]
    }
   ],
   "source": [
    "! qiime diversity core-metrics-phylogenetic \\\n",
    "  --i-table $data_dir/table.qza \\\n",
    "  --i-phylogeny $data_dir/fasttree-tree-rooted.qza \\\n",
    "  --m-metadata-file project_data/sample_metadata.tsv \\\n",
    "  --p-sampling-depth 2500 \\\n",
    "  --output-dir $data_dir/core-metrics-results1"
   ]
  },
  {
   "cell_type": "markdown",
   "id": "6b529e06-4dcd-42db-b3b1-2c9901799c50",
   "metadata": {},
   "source": [
    "## 3.1 Alpha diversity"
   ]
  },
  {
   "cell_type": "markdown",
   "id": "3352e4fd-4909-4c1b-8b64-b364fed108bd",
   "metadata": {},
   "source": [
    "### 3.1.1 Faith_pd"
   ]
  },
  {
   "cell_type": "markdown",
   "id": "05020774-ac4c-446c-a4a8-644fb4a34104",
   "metadata": {},
   "source": [
    "We start by investigating the faith_pd vector. The Faith_pd metric meassures the phylogenetic diversity and take into account the branch lenght of the phylogeny."
   ]
  },
  {
   "cell_type": "markdown",
   "id": "ef064978-df0f-445b-a683-ce5887db0423",
   "metadata": {},
   "source": [
    "### Association with categorical valiables"
   ]
  },
  {
   "cell_type": "markdown",
   "id": "d6259f86-ed0d-40e8-99e1-11b95dc69755",
   "metadata": {},
   "source": [
    "To test for significant differenced of alpha diversity we run the Kruskal-Wallis test to check which categorial variables form the metadata are strongly associated with the within sample diversity. (With the  `qiime diversity alpha-group-significance` function)\n",
    "We choose the Kruskal-Wallis test as it is a non-parametric measure and thus more robuts to outliers compared to other correlation metrics."
   ]
  },
  {
   "cell_type": "code",
   "execution_count": 18,
   "id": "daa30e83-1ff7-45d8-96c4-8a374f21df83",
   "metadata": {},
   "outputs": [
    {
     "name": "stdout",
     "output_type": "stream",
     "text": [
      "\u001b[32mSaved Visualization to: project_data/core-metrics-results/faith-pd-group-significance.qzv\u001b[0m\n",
      "\u001b[0m"
     ]
    }
   ],
   "source": [
    "! qiime diversity alpha-group-significance \\\n",
    "  --i-alpha-diversity $data_dir/core-metrics-results/faith_pd_vector.qza \\\n",
    "  --m-metadata-file $data_dir/sample_metadata.tsv \\\n",
    "  --o-visualization $data_dir/core-metrics-results/faith-pd-group-significance.qzv"
   ]
  },
  {
   "cell_type": "code",
   "execution_count": 69,
   "id": "fbee159b-d5ff-429a-812f-89d0b1f38e59",
   "metadata": {
    "tags": []
   },
   "outputs": [
    {
     "data": {
      "text/html": [
       "<div><img onload=\"(function(div, url){\n",
       "if (typeof require !== 'undefined') {\n",
       "    var baseURL = require.toUrl('').split('/').slice(0, -2).join('/');\n",
       "} else {\n",
       "    var baseURL = JSON.parse(\n",
       "        document.getElementById('jupyter-config-data').innerHTML\n",
       "    ).baseUrl.slice(0, -1);\n",
       "}\n",
       "url = baseURL + url;\n",
       "fetch(url).then(function(res) {\n",
       "    if (res.status === 404) {\n",
       "        div.innerHTML = 'Install QIIME 2 Jupyter extension with:<br />' +\n",
       "                        '<code>jupyter serverextension enable --py qiime2' +\n",
       "                        ' --sys-prefix</code><br />then restart your server.' +\n",
       "                        '<br /><br />(Interactive output not available on ' +\n",
       "                        'static notebook viewer services like nbviewer.)';\n",
       "    } else if (res.status === 409) {\n",
       "        div.innerHTML = 'Visualization no longer in scope. Re-run this cell' +\n",
       "                        ' to see the visualization.';\n",
       "    } else if (res.ok) {\n",
       "        url = res.url;\n",
       "        div.innerHTML = '<iframe src=\\'' + url + '\\' style=\\'' +\n",
       "                        'width: 100%; height: 700px; border: 0;\\'>' +\n",
       "                        '</iframe><hr />Open in a: <a href=\\'' + url + '\\'' +\n",
       "                        ' target=\\'_blank\\'>new window</a>'\n",
       "    } else {\n",
       "        div.innerHTML = 'Something has gone wrong. Check notebook server for' +\n",
       "                        ' errors.';\n",
       "    }\n",
       "});\n",
       "})(this.parentElement, '/qiime2/redirect?location=/tmp/qiime2-archive-ulcf_1qf')\" src=\"data:image/gif;base64,R0lGODlhAQABAIAAAP///wAAACH5BAEAAAAALAAAAAABAAEAAAICRAEAOw==\" /></div>"
      ],
      "text/plain": [
       "<visualization: Visualization uuid: 8a8139ec-9e7b-4eab-993d-e7c432848430>"
      ]
     },
     "execution_count": 69,
     "metadata": {},
     "output_type": "execute_result"
    }
   ],
   "source": [
    "Visualization.load(f'{data_dir}/core-metrics-results/faith-pd-group-significance.qzv')"
   ]
  },
  {
   "cell_type": "markdown",
   "id": "2385d1d4-12a3-4fba-833d-1aaf0de9f5d6",
   "metadata": {},
   "source": [
    "As per definition \"the null hypothesis is that the medians of all groups are equal, and the alternative hypothesis is that at least one population median of one group is different from the population median of at least one other group. A significant Kruskal–Wallis test indicates that at least one sample stochastically dominates one other sample.\" (Wikipedia). As the columns geolocation, last travel, level of education, alcohol consumption!, alcohol frequency, red and white wine consumption!, drinks per session, homecooked meal frequency, (milk cheese frequency), olive oil!, prepared meal frequency, salted snack frequency, seafood frequency, vegetable frequency have a significant p-value(below 0.05), they are all associated with differences in microbial community richness."
   ]
  },
  {
   "cell_type": "markdown",
   "id": "49681541-e4bb-4afb-9f10-0e08df42e257",
   "metadata": {},
   "source": [
    "### Association with numerical valiables"
   ]
  },
  {
   "cell_type": "markdown",
   "id": "980d17a7-f1ff-499c-831b-324b389c0b35",
   "metadata": {},
   "source": [
    "To make an additional test for significant differenced of alpha diversity we run the Spearman correlation test to check which numerical valiebles form the metadata are strongly associated with the within sample diversity. (with the `qiime diversity alpha-correlation` function)"
   ]
  },
  {
   "cell_type": "code",
   "execution_count": 20,
   "id": "20a419c5-5031-465c-ab95-e2d6d29b3c5d",
   "metadata": {},
   "outputs": [
    {
     "name": "stdout",
     "output_type": "stream",
     "text": [
      "\u001b[32mSaved Visualization to: project_data/core-metrics-results/faith-pd-group-significance-numeric.qzv\u001b[0m\n",
      "\u001b[0m"
     ]
    }
   ],
   "source": [
    "! qiime diversity alpha-correlation \\\n",
    "  --i-alpha-diversity $data_dir/core-metrics-results/faith_pd_vector.qza \\\n",
    "  --m-metadata-file $data_dir/sample_metadata.tsv \\\n",
    "  --o-visualization $data_dir/core-metrics-results/faith-pd-group-significance-numeric.qzv"
   ]
  },
  {
   "cell_type": "code",
   "execution_count": 70,
   "id": "03569e2e-710c-428f-bb8c-ff059b655da4",
   "metadata": {},
   "outputs": [
    {
     "data": {
      "text/html": [
       "<div><img onload=\"(function(div, url){\n",
       "if (typeof require !== 'undefined') {\n",
       "    var baseURL = require.toUrl('').split('/').slice(0, -2).join('/');\n",
       "} else {\n",
       "    var baseURL = JSON.parse(\n",
       "        document.getElementById('jupyter-config-data').innerHTML\n",
       "    ).baseUrl.slice(0, -1);\n",
       "}\n",
       "url = baseURL + url;\n",
       "fetch(url).then(function(res) {\n",
       "    if (res.status === 404) {\n",
       "        div.innerHTML = 'Install QIIME 2 Jupyter extension with:<br />' +\n",
       "                        '<code>jupyter serverextension enable --py qiime2' +\n",
       "                        ' --sys-prefix</code><br />then restart your server.' +\n",
       "                        '<br /><br />(Interactive output not available on ' +\n",
       "                        'static notebook viewer services like nbviewer.)';\n",
       "    } else if (res.status === 409) {\n",
       "        div.innerHTML = 'Visualization no longer in scope. Re-run this cell' +\n",
       "                        ' to see the visualization.';\n",
       "    } else if (res.ok) {\n",
       "        url = res.url;\n",
       "        div.innerHTML = '<iframe src=\\'' + url + '\\' style=\\'' +\n",
       "                        'width: 100%; height: 700px; border: 0;\\'>' +\n",
       "                        '</iframe><hr />Open in a: <a href=\\'' + url + '\\'' +\n",
       "                        ' target=\\'_blank\\'>new window</a>'\n",
       "    } else {\n",
       "        div.innerHTML = 'Something has gone wrong. Check notebook server for' +\n",
       "                        ' errors.';\n",
       "    }\n",
       "});\n",
       "})(this.parentElement, '/qiime2/redirect?location=/tmp/qiime2-archive-wqbnot30')\" src=\"data:image/gif;base64,R0lGODlhAQABAIAAAP///wAAACH5BAEAAAAALAAAAAABAAEAAAICRAEAOw==\" /></div>"
      ],
      "text/plain": [
       "<visualization: Visualization uuid: 4b1c59ce-fc26-4785-bc0a-28cbce870659>"
      ]
     },
     "execution_count": 70,
     "metadata": {},
     "output_type": "execute_result"
    }
   ],
   "source": [
    "Visualization.load(f'{data_dir}/core-metrics-results/faith-pd-group-significance-numeric.qzv')"
   ]
  },
  {
   "cell_type": "code",
   "execution_count": 27,
   "id": "7454b70c-d4e3-4d71-9bc9-0f979f49e46a",
   "metadata": {},
   "outputs": [
    {
     "data": {
      "text/html": [
       "<div>\n",
       "<style scoped>\n",
       "    .dataframe tbody tr th:only-of-type {\n",
       "        vertical-align: middle;\n",
       "    }\n",
       "\n",
       "    .dataframe tbody tr th {\n",
       "        vertical-align: top;\n",
       "    }\n",
       "\n",
       "    .dataframe thead th {\n",
       "        text-align: right;\n",
       "    }\n",
       "</style>\n",
       "<table border=\"1\" class=\"dataframe\">\n",
       "  <thead>\n",
       "    <tr style=\"text-align: right;\">\n",
       "      <th></th>\n",
       "      <th>sampleid</th>\n",
       "      <th>GEN_age_corrected</th>\n",
       "      <th>GEN_bmi_corrected</th>\n",
       "      <th>GEN_elevation</th>\n",
       "      <th>GEN_height_cm</th>\n",
       "      <th>GEN_latitude</th>\n",
       "      <th>GEN_longitude</th>\n",
       "      <th>GEN_weight_kg</th>\n",
       "    </tr>\n",
       "  </thead>\n",
       "  <tbody>\n",
       "    <tr>\n",
       "      <th>count</th>\n",
       "      <td>523.000000</td>\n",
       "      <td>492.000000</td>\n",
       "      <td>508.000000</td>\n",
       "      <td>488.000000</td>\n",
       "      <td>517.000000</td>\n",
       "      <td>488.000000</td>\n",
       "      <td>488.000000</td>\n",
       "      <td>518.000000</td>\n",
       "    </tr>\n",
       "    <tr>\n",
       "      <th>mean</th>\n",
       "      <td>10317.000047</td>\n",
       "      <td>47.483740</td>\n",
       "      <td>24.124213</td>\n",
       "      <td>155.914754</td>\n",
       "      <td>174.615087</td>\n",
       "      <td>44.828689</td>\n",
       "      <td>-47.063320</td>\n",
       "      <td>69.685328</td>\n",
       "    </tr>\n",
       "    <tr>\n",
       "      <th>std</th>\n",
       "      <td>0.000009</td>\n",
       "      <td>15.798816</td>\n",
       "      <td>4.894094</td>\n",
       "      <td>327.503281</td>\n",
       "      <td>98.850353</td>\n",
       "      <td>9.959122</td>\n",
       "      <td>54.179516</td>\n",
       "      <td>19.566368</td>\n",
       "    </tr>\n",
       "    <tr>\n",
       "      <th>min</th>\n",
       "      <td>10317.000003</td>\n",
       "      <td>3.000000</td>\n",
       "      <td>11.200000</td>\n",
       "      <td>-0.900000</td>\n",
       "      <td>15.000000</td>\n",
       "      <td>-43.000000</td>\n",
       "      <td>-157.800000</td>\n",
       "      <td>3.000000</td>\n",
       "    </tr>\n",
       "    <tr>\n",
       "      <th>25%</th>\n",
       "      <td>10317.000043</td>\n",
       "      <td>37.000000</td>\n",
       "      <td>20.800000</td>\n",
       "      <td>25.200000</td>\n",
       "      <td>162.000000</td>\n",
       "      <td>38.900000</td>\n",
       "      <td>-101.100000</td>\n",
       "      <td>58.000000</td>\n",
       "    </tr>\n",
       "    <tr>\n",
       "      <th>50%</th>\n",
       "      <td>10317.000050</td>\n",
       "      <td>49.000000</td>\n",
       "      <td>23.505000</td>\n",
       "      <td>60.100000</td>\n",
       "      <td>170.000000</td>\n",
       "      <td>49.500000</td>\n",
       "      <td>-3.600000</td>\n",
       "      <td>69.000000</td>\n",
       "    </tr>\n",
       "    <tr>\n",
       "      <th>75%</th>\n",
       "      <td>10317.000052</td>\n",
       "      <td>59.000000</td>\n",
       "      <td>26.545000</td>\n",
       "      <td>127.425000</td>\n",
       "      <td>178.000000</td>\n",
       "      <td>51.600000</td>\n",
       "      <td>-0.600000</td>\n",
       "      <td>81.000000</td>\n",
       "    </tr>\n",
       "    <tr>\n",
       "      <th>max</th>\n",
       "      <td>10317.000062</td>\n",
       "      <td>81.000000</td>\n",
       "      <td>49.190000</td>\n",
       "      <td>2864.300000</td>\n",
       "      <td>1800.000000</td>\n",
       "      <td>57.500000</td>\n",
       "      <td>153.000000</td>\n",
       "      <td>175.000000</td>\n",
       "    </tr>\n",
       "  </tbody>\n",
       "</table>\n",
       "</div>"
      ],
      "text/plain": [
       "           sampleid  GEN_age_corrected  GEN_bmi_corrected  GEN_elevation  \\\n",
       "count    523.000000         492.000000         508.000000     488.000000   \n",
       "mean   10317.000047          47.483740          24.124213     155.914754   \n",
       "std        0.000009          15.798816           4.894094     327.503281   \n",
       "min    10317.000003           3.000000          11.200000      -0.900000   \n",
       "25%    10317.000043          37.000000          20.800000      25.200000   \n",
       "50%    10317.000050          49.000000          23.505000      60.100000   \n",
       "75%    10317.000052          59.000000          26.545000     127.425000   \n",
       "max    10317.000062          81.000000          49.190000    2864.300000   \n",
       "\n",
       "       GEN_height_cm  GEN_latitude  GEN_longitude  GEN_weight_kg  \n",
       "count     517.000000    488.000000     488.000000     518.000000  \n",
       "mean      174.615087     44.828689     -47.063320      69.685328  \n",
       "std        98.850353      9.959122      54.179516      19.566368  \n",
       "min        15.000000    -43.000000    -157.800000       3.000000  \n",
       "25%       162.000000     38.900000    -101.100000      58.000000  \n",
       "50%       170.000000     49.500000      -3.600000      69.000000  \n",
       "75%       178.000000     51.600000      -0.600000      81.000000  \n",
       "max      1800.000000     57.500000     153.000000     175.000000  "
      ]
     },
     "execution_count": 27,
     "metadata": {},
     "output_type": "execute_result"
    }
   ],
   "source": [
    "metadata_df.describe()"
   ]
  },
  {
   "cell_type": "markdown",
   "id": "944b2dac-d498-4749-b75f-7b87a4d0e80d",
   "metadata": {},
   "source": [
    "From the Spearman correlation test it is observable that the categories GEN_age_corrected, GEN_elevation, GEN_height, GEN_latitude and GEN_longitude obtain significnat p-values (<0.05). This would suggest that these categories are associated with differences in microbial community richness. However, as for the categories GEN_elevation, GEN_height, GEN_latitude and GEN_longitude there are some outliers in the dataset resulting in also a large standart deviation. Thus, these observation has to be taken with caution. So arguably only GEN_age_corrected and GEN_latitude are significantly correlated with differences in microbial community richness."
   ]
  },
  {
   "cell_type": "markdown",
   "id": "a13e95bf-9bb8-4229-b12a-75a48249fbb7",
   "metadata": {},
   "source": [
    "## Alternative metrics to check for association with categorical valiables"
   ]
  },
  {
   "cell_type": "markdown",
   "id": "74dc5e39-0db6-4adf-9965-83d3888974bf",
   "metadata": {},
   "source": [
    "### 3.1.2 Shannon"
   ]
  },
  {
   "cell_type": "markdown",
   "id": "0dc829de-c7e0-4492-8b19-756a44b942f7",
   "metadata": {},
   "source": [
    "Shannon does not operate on phylogenetic differences. It takes into account the species richness and abundance."
   ]
  },
  {
   "cell_type": "code",
   "execution_count": 4,
   "id": "34a7dfe2-2e4c-4897-987d-29c0b6f46d86",
   "metadata": {},
   "outputs": [
    {
     "name": "stdout",
     "output_type": "stream",
     "text": [
      "\u001b[32mSaved Visualization to: project_data/core-metrics-results/shannon_vector-group-significance.qzv\u001b[0m\n",
      "\u001b[0m"
     ]
    }
   ],
   "source": [
    "! qiime diversity alpha-group-significance \\\n",
    "  --i-alpha-diversity $data_dir/core-metrics-results/shannon_vector.qza \\\n",
    "  --m-metadata-file $data_dir/sample_metadata.tsv \\\n",
    "  --o-visualization $data_dir/core-metrics-results/shannon_vector-group-significance.qzv"
   ]
  },
  {
   "cell_type": "code",
   "execution_count": 3,
   "id": "8eaade44-cf42-4093-9ea0-8d25f718ea1d",
   "metadata": {
    "collapsed": true,
    "jupyter": {
     "outputs_hidden": true
    },
    "tags": []
   },
   "outputs": [
    {
     "data": {
      "text/html": [
       "<div><img onload=\"(function(div, url){\n",
       "if (typeof require !== 'undefined') {\n",
       "    var baseURL = require.toUrl('').split('/').slice(0, -2).join('/');\n",
       "} else {\n",
       "    var baseURL = JSON.parse(\n",
       "        document.getElementById('jupyter-config-data').innerHTML\n",
       "    ).baseUrl.slice(0, -1);\n",
       "}\n",
       "url = baseURL + url;\n",
       "fetch(url).then(function(res) {\n",
       "    if (res.status === 404) {\n",
       "        div.innerHTML = 'Install QIIME 2 Jupyter extension with:<br />' +\n",
       "                        '<code>jupyter serverextension enable --py qiime2' +\n",
       "                        ' --sys-prefix</code><br />then restart your server.' +\n",
       "                        '<br /><br />(Interactive output not available on ' +\n",
       "                        'static notebook viewer services like nbviewer.)';\n",
       "    } else if (res.status === 409) {\n",
       "        div.innerHTML = 'Visualization no longer in scope. Re-run this cell' +\n",
       "                        ' to see the visualization.';\n",
       "    } else if (res.ok) {\n",
       "        url = res.url;\n",
       "        div.innerHTML = '<iframe src=\\'' + url + '\\' style=\\'' +\n",
       "                        'width: 100%; height: 700px; border: 0;\\'>' +\n",
       "                        '</iframe><hr />Open in a: <a href=\\'' + url + '\\'' +\n",
       "                        ' target=\\'_blank\\'>new window</a>'\n",
       "    } else {\n",
       "        div.innerHTML = 'Something has gone wrong. Check notebook server for' +\n",
       "                        ' errors.';\n",
       "    }\n",
       "});\n",
       "})(this.parentElement, '/qiime2/redirect?location=/tmp/qiime2-archive-yn046v8c')\" src=\"data:image/gif;base64,R0lGODlhAQABAIAAAP///wAAACH5BAEAAAAALAAAAAABAAEAAAICRAEAOw==\" /></div>"
      ],
      "text/plain": [
       "<visualization: Visualization uuid: b669cfbb-0da8-4467-bd5f-43819449714c>"
      ]
     },
     "execution_count": 3,
     "metadata": {},
     "output_type": "execute_result"
    }
   ],
   "source": [
    "Visualization.load(f'{data_dir}/core-metrics-results/shannon_vector-group-significance.qzv')"
   ]
  },
  {
   "cell_type": "markdown",
   "id": "94292c5d-0897-41ab-95d7-a73261397141",
   "metadata": {},
   "source": [
    "NUT_alcohol_consumption, NUT_alcohol_frequency, 'NUT_alcohol_types_red_wine, NUT_alcohol_types_unspecified, NUT_meat_eggs_frequency, NUT_seafood_frequency, NUT_vegetable_frequency showed significant influence on differences in alpha diversity."
   ]
  },
  {
   "cell_type": "markdown",
   "id": "52b32f23-2f57-4351-89f5-9c30317c98b4",
   "metadata": {},
   "source": [
    "### 3.1.3 Eveness"
   ]
  },
  {
   "cell_type": "markdown",
   "id": "ac9a78da-6bb9-4504-a6ed-0afac2d7bf71",
   "metadata": {},
   "source": [
    "Evenness among species measures the relative abundances of species within a community. The Shannon Index is a quantitative metrics of species diversity, which combines both species richness and species evenness to derive a value that characterizes a community."
   ]
  },
  {
   "cell_type": "code",
   "execution_count": 6,
   "id": "cafac0ca-2623-4d28-804d-9c4136156f2e",
   "metadata": {},
   "outputs": [
    {
     "name": "stdout",
     "output_type": "stream",
     "text": [
      "\u001b[32mSaved Visualization to: project_data/core-metrics-results/evenness_vector-group-significance.qzv\u001b[0m\n",
      "\u001b[0m"
     ]
    }
   ],
   "source": [
    "! qiime diversity alpha-group-significance \\\n",
    "  --i-alpha-diversity $data_dir/core-metrics-results/evenness_vector.qza \\\n",
    "  --m-metadata-file $data_dir/sample_metadata.tsv \\\n",
    "  --o-visualization $data_dir/core-metrics-results/evenness_vector-group-significance.qzv"
   ]
  },
  {
   "cell_type": "code",
   "execution_count": 7,
   "id": "65016d51-3a2c-4fd9-9cad-0be312a79e49",
   "metadata": {
    "collapsed": true,
    "jupyter": {
     "outputs_hidden": true
    },
    "tags": []
   },
   "outputs": [
    {
     "data": {
      "text/html": [
       "<div><img onload=\"(function(div, url){\n",
       "if (typeof require !== 'undefined') {\n",
       "    var baseURL = require.toUrl('').split('/').slice(0, -2).join('/');\n",
       "} else {\n",
       "    var baseURL = JSON.parse(\n",
       "        document.getElementById('jupyter-config-data').innerHTML\n",
       "    ).baseUrl.slice(0, -1);\n",
       "}\n",
       "url = baseURL + url;\n",
       "fetch(url).then(function(res) {\n",
       "    if (res.status === 404) {\n",
       "        div.innerHTML = 'Install QIIME 2 Jupyter extension with:<br />' +\n",
       "                        '<code>jupyter serverextension enable --py qiime2' +\n",
       "                        ' --sys-prefix</code><br />then restart your server.' +\n",
       "                        '<br /><br />(Interactive output not available on ' +\n",
       "                        'static notebook viewer services like nbviewer.)';\n",
       "    } else if (res.status === 409) {\n",
       "        div.innerHTML = 'Visualization no longer in scope. Re-run this cell' +\n",
       "                        ' to see the visualization.';\n",
       "    } else if (res.ok) {\n",
       "        url = res.url;\n",
       "        div.innerHTML = '<iframe src=\\'' + url + '\\' style=\\'' +\n",
       "                        'width: 100%; height: 700px; border: 0;\\'>' +\n",
       "                        '</iframe><hr />Open in a: <a href=\\'' + url + '\\'' +\n",
       "                        ' target=\\'_blank\\'>new window</a>'\n",
       "    } else {\n",
       "        div.innerHTML = 'Something has gone wrong. Check notebook server for' +\n",
       "                        ' errors.';\n",
       "    }\n",
       "});\n",
       "})(this.parentElement, '/qiime2/redirect?location=/tmp/qiime2-archive-gm1j22ti')\" src=\"data:image/gif;base64,R0lGODlhAQABAIAAAP///wAAACH5BAEAAAAALAAAAAABAAEAAAICRAEAOw==\" /></div>"
      ],
      "text/plain": [
       "<visualization: Visualization uuid: d5bc35f2-9a2d-4e5e-b5d6-6b45ef54034c>"
      ]
     },
     "execution_count": 7,
     "metadata": {},
     "output_type": "execute_result"
    }
   ],
   "source": [
    "Visualization.load(f'{data_dir}/core-metrics-results/evenness_vector-group-significance.qzv')"
   ]
  },
  {
   "cell_type": "markdown",
   "id": "97fc90e8-48c7-4074-9dbb-bbc27968fa5b",
   "metadata": {},
   "source": [
    "NUT_alcohol_types_beercider, NUT_lowgrain_diet_type, NUT_meat_eggs_frequency, NUT_seafood_frequency showed significant influence on differences in alpha diversity."
   ]
  },
  {
   "cell_type": "markdown",
   "id": "28caff4f-f627-4f21-b2fc-50791cfb4500",
   "metadata": {},
   "source": [
    "## ANOVA test"
   ]
  },
  {
   "cell_type": "markdown",
   "id": "516e02ca-9525-4867-8e0e-0297c321444b",
   "metadata": {},
   "source": [
    "Instead of running one-way Kruskal Wallis tests, an ANOVA test can also be used to compare alpha diversity values between groups, provided that the other assumptions of ANOVA are correct (such as normal distribution; alpha diversity values often are, but it depends)."
   ]
  },
  {
   "cell_type": "markdown",
   "id": "63514bea-61b5-4642-83a5-3c34af36ce02",
   "metadata": {},
   "source": [
    "### Check for normality of the datadistribution"
   ]
  },
  {
   "cell_type": "markdown",
   "id": "373076ba-ea42-4b75-9ba4-bc6ad9549cd4",
   "metadata": {},
   "source": [
    "As you can see on the plot above, the majority of values are focused around 0, with only some values being different. To get a more quantitative view of all the ASVs, we can additionally perform a statistical test for data normality. We will use _scipy_'s [implementation](https://docs.scipy.org/doc/scipy/reference/generated/scipy.stats.shapiro.html) of the [Shapiro-Wilk test for normality](https://en.wikipedia.org/wiki/Shapiro%E2%80%93Wilk_test). "
   ]
  },
  {
   "cell_type": "code",
   "execution_count": 97,
   "id": "4fd27c46-29e1-4090-a7e8-49f26e16db5e",
   "metadata": {},
   "outputs": [
    {
     "data": {
      "text/plain": [
       "10317.000002929     9.082301\n",
       "10317.000002930    12.824856\n",
       "10317.000003283     6.647969\n",
       "10317.000004079     9.144990\n",
       "10317.000016169     7.251614\n",
       "Name: faith_pd, dtype: float64"
      ]
     },
     "execution_count": 97,
     "metadata": {},
     "output_type": "execute_result"
    }
   ],
   "source": [
    "data = q2.Artifact.load(os.path.join(data_dir, 'core-metrics-results/faith_pd_vector.qza')).view(pd.Series)\n",
    "data.head()"
   ]
  },
  {
   "cell_type": "code",
   "execution_count": 98,
   "id": "53b27545-2163-4f5f-9000-5768477d7f1c",
   "metadata": {
    "tags": []
   },
   "outputs": [
    {
     "data": {
      "text/html": [
       "<div>\n",
       "<style scoped>\n",
       "    .dataframe tbody tr th:only-of-type {\n",
       "        vertical-align: middle;\n",
       "    }\n",
       "\n",
       "    .dataframe tbody tr th {\n",
       "        vertical-align: top;\n",
       "    }\n",
       "\n",
       "    .dataframe thead th {\n",
       "        text-align: right;\n",
       "    }\n",
       "</style>\n",
       "<table border=\"1\" class=\"dataframe\">\n",
       "  <thead>\n",
       "    <tr style=\"text-align: right;\">\n",
       "      <th></th>\n",
       "      <th>p</th>\n",
       "      <th>is_normal</th>\n",
       "    </tr>\n",
       "  </thead>\n",
       "  <tbody>\n",
       "    <tr>\n",
       "      <th>Faith_pd</th>\n",
       "      <td>0.000012</td>\n",
       "      <td>False</td>\n",
       "    </tr>\n",
       "  </tbody>\n",
       "</table>\n",
       "</div>"
      ],
      "text/plain": [
       "                 p  is_normal\n",
       "Faith_pd  0.000012      False"
      ]
     },
     "execution_count": 98,
     "metadata": {},
     "output_type": "execute_result"
    }
   ],
   "source": [
    "alpha = 0.05\n",
    "results = {}\n",
    "\n",
    "stat, p = shapiro(data)\n",
    "results['Faith_pd'] = p\n",
    "# convert test results into a DataFrame\n",
    "results_df = pd.DataFrame(data=results.values(), index=results.keys(), columns=['p'])\n",
    "\n",
    "# add a new column with a descriptive test result\n",
    "results_df['is_normal'] = results_df['p'] > alpha\n",
    "results_df"
   ]
  },
  {
   "cell_type": "markdown",
   "id": "693285b8-3e76-433d-ae75-3a43cbcfc6a7",
   "metadata": {},
   "source": [
    "Since the faith_pd values are not normaliy distributed, an ANOVA test can not be made due to ANOVA's normlaity assumption for data."
   ]
  },
  {
   "cell_type": "markdown",
   "id": "98eb5e8b-75e5-4aca-b5fb-988de0929277",
   "metadata": {},
   "source": [
    "# Visulaizations"
   ]
  },
  {
   "cell_type": "code",
   "execution_count": 99,
   "id": "b48f4e3d-4c64-4f82-bda0-27f003434020",
   "metadata": {},
   "outputs": [],
   "source": [
    "a = q2.Artifact.load(os.path.join(data_dir, 'core-metrics-results/faith_pd_vector.qza')).view(pd.Series)\n",
    "b = pd.read_csv(os.path.join(data_dir, 'sample_metadata.tsv'), sep='\\t', index_col=0)['NUT_alcohol_consumption']\n"
   ]
  },
  {
   "cell_type": "code",
   "execution_count": 100,
   "id": "400f1a68-38ce-4172-924f-0521772bf179",
   "metadata": {},
   "outputs": [
    {
     "data": {
      "text/html": [
       "<div>\n",
       "<style scoped>\n",
       "    .dataframe tbody tr th:only-of-type {\n",
       "        vertical-align: middle;\n",
       "    }\n",
       "\n",
       "    .dataframe tbody tr th {\n",
       "        vertical-align: top;\n",
       "    }\n",
       "\n",
       "    .dataframe thead th {\n",
       "        text-align: right;\n",
       "    }\n",
       "</style>\n",
       "<table border=\"1\" class=\"dataframe\">\n",
       "  <thead>\n",
       "    <tr style=\"text-align: right;\">\n",
       "      <th></th>\n",
       "      <th>faith_pd</th>\n",
       "      <th>NUT_alcohol_consumption</th>\n",
       "    </tr>\n",
       "  </thead>\n",
       "  <tbody>\n",
       "    <tr>\n",
       "      <th>10317.000002929</th>\n",
       "      <td>NaN</td>\n",
       "      <td>True</td>\n",
       "    </tr>\n",
       "    <tr>\n",
       "      <th>10317.00000293</th>\n",
       "      <td>NaN</td>\n",
       "      <td>True</td>\n",
       "    </tr>\n",
       "    <tr>\n",
       "      <th>10317.000003283</th>\n",
       "      <td>NaN</td>\n",
       "      <td>True</td>\n",
       "    </tr>\n",
       "    <tr>\n",
       "      <th>10317.000004079</th>\n",
       "      <td>NaN</td>\n",
       "      <td>False</td>\n",
       "    </tr>\n",
       "    <tr>\n",
       "      <th>10317.000016169</th>\n",
       "      <td>NaN</td>\n",
       "      <td>True</td>\n",
       "    </tr>\n",
       "    <tr>\n",
       "      <th>...</th>\n",
       "      <td>...</td>\n",
       "      <td>...</td>\n",
       "    </tr>\n",
       "    <tr>\n",
       "      <th>10317.000062084</th>\n",
       "      <td>2.136541</td>\n",
       "      <td>NaN</td>\n",
       "    </tr>\n",
       "    <tr>\n",
       "      <th>10317.000062085</th>\n",
       "      <td>9.541852</td>\n",
       "      <td>NaN</td>\n",
       "    </tr>\n",
       "    <tr>\n",
       "      <th>10317.000062086</th>\n",
       "      <td>6.354463</td>\n",
       "      <td>NaN</td>\n",
       "    </tr>\n",
       "    <tr>\n",
       "      <th>10317.000062087</th>\n",
       "      <td>11.428803</td>\n",
       "      <td>NaN</td>\n",
       "    </tr>\n",
       "    <tr>\n",
       "      <th>10317.000062088</th>\n",
       "      <td>4.904174</td>\n",
       "      <td>NaN</td>\n",
       "    </tr>\n",
       "  </tbody>\n",
       "</table>\n",
       "<p>1029 rows × 2 columns</p>\n",
       "</div>"
      ],
      "text/plain": [
       "                  faith_pd NUT_alcohol_consumption\n",
       "10317.000002929        NaN                    True\n",
       "10317.00000293         NaN                    True\n",
       "10317.000003283        NaN                    True\n",
       "10317.000004079        NaN                   False\n",
       "10317.000016169        NaN                    True\n",
       "...                    ...                     ...\n",
       "10317.000062084   2.136541                     NaN\n",
       "10317.000062085   9.541852                     NaN\n",
       "10317.000062086   6.354463                     NaN\n",
       "10317.000062087  11.428803                     NaN\n",
       "10317.000062088   4.904174                     NaN\n",
       "\n",
       "[1029 rows x 2 columns]"
      ]
     },
     "execution_count": 100,
     "metadata": {},
     "output_type": "execute_result"
    }
   ],
   "source": [
    "div = pd.concat([a, b], axis=1)\n",
    "div"
   ]
  },
  {
   "cell_type": "code",
   "execution_count": 101,
   "id": "5138e456-5873-48d5-b3f4-d3d08cc50121",
   "metadata": {},
   "outputs": [
    {
     "data": {
      "text/plain": [
       "False"
      ]
     },
     "execution_count": 101,
     "metadata": {},
     "output_type": "execute_result"
    }
   ],
   "source": [
    "a.index[50] in b.index"
   ]
  },
  {
   "cell_type": "code",
   "execution_count": null,
   "id": "354099fc-bf87-419b-9c40-15a3920412d2",
   "metadata": {},
   "outputs": [],
   "source": []
  },
  {
   "cell_type": "code",
   "execution_count": 102,
   "id": "f0c3a541-953e-4404-b5cf-211e76cb1bfe",
   "metadata": {},
   "outputs": [
    {
     "data": {
      "image/png": "[encoded data removed]",
      "text/plain": [
       "<Figure size 432x432 with 1 Axes>"
      ]
     },
     "metadata": {
      "needs_background": "light"
     },
     "output_type": "display_data"
    }
   ],
   "source": [
    "boxes = div.boxplot(by='NUT_alcohol_consumption', rot=90, figsize=(6,6))"
   ]
  },
  {
   "cell_type": "markdown",
   "id": "88f42be4-c6e9-4549-8ed3-378006f36e2c",
   "metadata": {},
   "source": [
    "### NUT_alcohol_frequency"
   ]
  },
  {
   "cell_type": "code",
   "execution_count": 71,
   "id": "cfc2f3e2-a9b9-4deb-bac0-02d0f22dfaf5",
   "metadata": {},
   "outputs": [],
   "source": [
    "NUT_alcohol_frequency = pd.read_csv(os.path.join(data_dir, 'kruskal-wallis-pairwise-NUT_alcohol_frequency.csv'), sep=',')"
   ]
  },
  {
   "cell_type": "code",
   "execution_count": 34,
   "id": "b1c532fb-7d5e-48fd-afa5-cd59c641c6ac",
   "metadata": {},
   "outputs": [],
   "source": [
    "dd = NUT_alcohol_frequency[['Group 1', 'Group 2', 'p-value']]\n",
    "dd_pivot = dd.pivot('Group 1', 'Group 2', 'p-value')\n"
   ]
  },
  {
   "cell_type": "code",
   "execution_count": 35,
   "id": "8e9a83ab-bccc-451e-a252-906b039656a2",
   "metadata": {
    "tags": []
   },
   "outputs": [
    {
     "name": "stderr",
     "output_type": "stream",
     "text": [
      "findfont: Font family ['Helvetica'] not found. Falling back to DejaVu Sans.\n",
      "findfont: Font family ['Helvetica'] not found. Falling back to DejaVu Sans.\n"
     ]
    },
    {
     "data": {
      "image/png": "[encoded data removed]",
      "text/plain": [
       "<Figure size 720x576 with 2 Axes>"
      ]
     },
     "metadata": {},
     "output_type": "display_data"
    }
   ],
   "source": [
    "sns.set(rc={'figure.figsize':(10, 8), 'font.family': ['Helvetica']}, style='white')\n",
    "with sns.plotting_context(\"notebook\", font_scale=1.5):\n",
    "    # seaborn's heatmap\n",
    "    ax = sns.heatmap( dd_pivot, linewidth = 1.5 , annot = True)\n",
    "    \n",
    "    # matplotlib's customization\n",
    "    ax.set_xlabel('Alcohol Frequency 2')\n",
    "    ax.set_ylabel('Alcohol Frequency 1')\n",
    "    ax.set_title(\"P-values of Kruskal-Wallis Test\")\n",
    "    \n"
   ]
  },
  {
   "cell_type": "code",
   "execution_count": 76,
   "id": "d30b6f44-8a93-431d-b64f-ad7ef9915c99",
   "metadata": {},
   "outputs": [],
   "source": [
    "test = pd.read_csv(f'project_data/faith_pd.tsv', sep='\\t', index_col=0)"
   ]
  },
  {
   "cell_type": "code",
   "execution_count": 79,
   "id": "a1d36ef3-06c6-4602-b1a8-6b5ecdda857a",
   "metadata": {},
   "outputs": [
    {
     "data": {
      "text/plain": [
       "['GEN_age_cat',\n",
       " 'GEN_bmi_cat',\n",
       " 'GEN_cat',\n",
       " 'GEN_collection_timestamp',\n",
       " 'GEN_country',\n",
       " 'GEN_dog',\n",
       " 'GEN_geo_loc_name',\n",
       " 'GEN_last_move',\n",
       " 'GEN_last_travel',\n",
       " 'GEN_level_of_education',\n",
       " 'GEN_race',\n",
       " 'GEN_sex',\n",
       " 'NUT_alcohol_consumption',\n",
       " 'NUT_alcohol_frequency',\n",
       " 'NUT_alcohol_types_beercider',\n",
       " 'NUT_alcohol_types_red_wine',\n",
       " 'NUT_alcohol_types_sour_beers',\n",
       " 'NUT_alcohol_types_spiritshard_alcohol',\n",
       " 'NUT_alcohol_types_unspecified',\n",
       " 'NUT_alcohol_types_white_wine',\n",
       " 'NUT_artificial_sweeteners',\n",
       " 'NUT_diet_type',\n",
       " 'NUT_drinks_per_session',\n",
       " 'NUT_fed_as_infant',\n",
       " 'NUT_fermented_plant_frequency',\n",
       " 'NUT_frozen_dessert_frequency',\n",
       " 'NUT_fruit_frequency',\n",
       " 'NUT_gluten',\n",
       " 'NUT_high_fat_red_meat_frequency',\n",
       " 'NUT_homecooked_meals_frequency',\n",
       " 'NUT_lowgrain_diet_type',\n",
       " 'NUT_meat_eggs_frequency',\n",
       " 'NUT_milk_cheese_frequency',\n",
       " 'NUT_milk_substitute_frequency',\n",
       " 'NUT_olive_oil',\n",
       " 'NUT_poultry_frequency',\n",
       " 'NUT_prepared_meals_frequency',\n",
       " 'NUT_probiotic_frequency',\n",
       " 'NUT_red_meat_frequency',\n",
       " 'NUT_salted_snacks_frequency',\n",
       " 'NUT_seafood_frequency',\n",
       " 'NUT_sugary_sweets_frequency',\n",
       " 'NUT_vegetable_frequency',\n",
       " 'NUT_vitamin_b_supplement_frequency',\n",
       " 'NUT_vitamin_d_supplement_frequency',\n",
       " 'NUT_whole_eggs',\n",
       " 'NUT_whole_grain_frequency',\n",
       " 'faith_pd']"
      ]
     },
     "execution_count": 79,
     "metadata": {},
     "output_type": "execute_result"
    }
   ],
   "source": [
    "test.columns.tolist()"
   ]
  },
  {
   "cell_type": "code",
   "execution_count": 85,
   "id": "b9cfda4a-e6a6-46c8-90bb-770f84d1e3f3",
   "metadata": {},
   "outputs": [],
   "source": [
    "dd = test[['NUT_alcohol_frequency','faith_pd']]"
   ]
  },
  {
   "cell_type": "code",
   "execution_count": 98,
   "id": "793f0349-b191-4ba9-98a7-cc9c90882685",
   "metadata": {},
   "outputs": [
    {
     "ename": "KeyError",
     "evalue": "2",
     "output_type": "error",
     "traceback": [
      "\u001b[0;31m---------------------------------------------------------------------------\u001b[0m",
      "\u001b[0;31mKeyError\u001b[0m                                  Traceback (most recent call last)",
      "File \u001b[0;32m/opt/conda/lib/python3.8/site-packages/pandas/core/indexes/base.py:3081\u001b[0m, in \u001b[0;36mIndex.get_loc\u001b[0;34m(self, key, method, tolerance)\u001b[0m\n\u001b[1;32m   3080\u001b[0m \u001b[38;5;28;01mtry\u001b[39;00m:\n\u001b[0;32m-> 3081\u001b[0m     \u001b[38;5;28;01mreturn\u001b[39;00m \u001b[38;5;28;43mself\u001b[39;49m\u001b[38;5;241;43m.\u001b[39;49m\u001b[43m_engine\u001b[49m\u001b[38;5;241;43m.\u001b[39;49m\u001b[43mget_loc\u001b[49m\u001b[43m(\u001b[49m\u001b[43mcasted_key\u001b[49m\u001b[43m)\u001b[49m\n\u001b[1;32m   3082\u001b[0m \u001b[38;5;28;01mexcept\u001b[39;00m \u001b[38;5;167;01mKeyError\u001b[39;00m \u001b[38;5;28;01mas\u001b[39;00m err:\n",
      "File \u001b[0;32mpandas/_libs/index.pyx:70\u001b[0m, in \u001b[0;36mpandas._libs.index.IndexEngine.get_loc\u001b[0;34m()\u001b[0m\n",
      "File \u001b[0;32mpandas/_libs/index.pyx:101\u001b[0m, in \u001b[0;36mpandas._libs.index.IndexEngine.get_loc\u001b[0;34m()\u001b[0m\n",
      "File \u001b[0;32mpandas/_libs/hashtable_class_helper.pxi:4554\u001b[0m, in \u001b[0;36mpandas._libs.hashtable.PyObjectHashTable.get_item\u001b[0;34m()\u001b[0m\n",
      "File \u001b[0;32mpandas/_libs/hashtable_class_helper.pxi:4562\u001b[0m, in \u001b[0;36mpandas._libs.hashtable.PyObjectHashTable.get_item\u001b[0;34m()\u001b[0m\n",
      "\u001b[0;31mKeyError\u001b[0m: 2",
      "\nThe above exception was the direct cause of the following exception:\n",
      "\u001b[0;31mKeyError\u001b[0m                                  Traceback (most recent call last)",
      "Input \u001b[0;32mIn [98]\u001b[0m, in \u001b[0;36m<cell line: 1>\u001b[0;34m()\u001b[0m\n\u001b[0;32m----> 1\u001b[0m \u001b[43mdd\u001b[49m\u001b[43m[\u001b[49m\u001b[38;5;241;43m2\u001b[39;49m\u001b[43m]\u001b[49m\n",
      "File \u001b[0;32m/opt/conda/lib/python3.8/site-packages/pandas/core/frame.py:3024\u001b[0m, in \u001b[0;36mDataFrame.__getitem__\u001b[0;34m(self, key)\u001b[0m\n\u001b[1;32m   3022\u001b[0m \u001b[38;5;28;01mif\u001b[39;00m \u001b[38;5;28mself\u001b[39m\u001b[38;5;241m.\u001b[39mcolumns\u001b[38;5;241m.\u001b[39mnlevels \u001b[38;5;241m>\u001b[39m \u001b[38;5;241m1\u001b[39m:\n\u001b[1;32m   3023\u001b[0m     \u001b[38;5;28;01mreturn\u001b[39;00m \u001b[38;5;28mself\u001b[39m\u001b[38;5;241m.\u001b[39m_getitem_multilevel(key)\n\u001b[0;32m-> 3024\u001b[0m indexer \u001b[38;5;241m=\u001b[39m \u001b[38;5;28;43mself\u001b[39;49m\u001b[38;5;241;43m.\u001b[39;49m\u001b[43mcolumns\u001b[49m\u001b[38;5;241;43m.\u001b[39;49m\u001b[43mget_loc\u001b[49m\u001b[43m(\u001b[49m\u001b[43mkey\u001b[49m\u001b[43m)\u001b[49m\n\u001b[1;32m   3025\u001b[0m \u001b[38;5;28;01mif\u001b[39;00m is_integer(indexer):\n\u001b[1;32m   3026\u001b[0m     indexer \u001b[38;5;241m=\u001b[39m [indexer]\n",
      "File \u001b[0;32m/opt/conda/lib/python3.8/site-packages/pandas/core/indexes/base.py:3083\u001b[0m, in \u001b[0;36mIndex.get_loc\u001b[0;34m(self, key, method, tolerance)\u001b[0m\n\u001b[1;32m   3081\u001b[0m         \u001b[38;5;28;01mreturn\u001b[39;00m \u001b[38;5;28mself\u001b[39m\u001b[38;5;241m.\u001b[39m_engine\u001b[38;5;241m.\u001b[39mget_loc(casted_key)\n\u001b[1;32m   3082\u001b[0m     \u001b[38;5;28;01mexcept\u001b[39;00m \u001b[38;5;167;01mKeyError\u001b[39;00m \u001b[38;5;28;01mas\u001b[39;00m err:\n\u001b[0;32m-> 3083\u001b[0m         \u001b[38;5;28;01mraise\u001b[39;00m \u001b[38;5;167;01mKeyError\u001b[39;00m(key) \u001b[38;5;28;01mfrom\u001b[39;00m \u001b[38;5;21;01merr\u001b[39;00m\n\u001b[1;32m   3085\u001b[0m \u001b[38;5;28;01mif\u001b[39;00m tolerance \u001b[38;5;129;01mis\u001b[39;00m \u001b[38;5;129;01mnot\u001b[39;00m \u001b[38;5;28;01mNone\u001b[39;00m:\n\u001b[1;32m   3086\u001b[0m     tolerance \u001b[38;5;241m=\u001b[39m \u001b[38;5;28mself\u001b[39m\u001b[38;5;241m.\u001b[39m_convert_tolerance(tolerance, np\u001b[38;5;241m.\u001b[39masarray(key))\n",
      "\u001b[0;31mKeyError\u001b[0m: 2"
     ]
    }
   ],
   "source": [
    "dd[2]"
   ]
  },
  {
   "cell_type": "markdown",
   "id": "322fca07-e94e-4031-8a86-26ce6ffef6e5",
   "metadata": {},
   "source": [
    "### Boxplot"
   ]
  },
  {
   "cell_type": "code",
   "execution_count": 31,
   "id": "f7a22d3d-4e42-4fd8-8f25-de94b44599e9",
   "metadata": {},
   "outputs": [],
   "source": [
    "faith_pd = q2.Artifact.load(os.path.join(data_dir, 'core-metrics-results1/faith_pd_vector.qza')).view(pd.Series)\n",
    "NUT_alcohol_frequency = pd.read_csv(f'project_data/sample_metadata.tsv', sep='\\t', index_col=0)['NUT_alcohol_frequency']"
   ]
  },
  {
   "cell_type": "code",
   "execution_count": 37,
   "id": "668505a3-c004-4faa-bc43-3d99609a5890",
   "metadata": {},
   "outputs": [],
   "source": [
    "joined_table=pd.concat([faith_pd,NUT_alcohol_frequency],join='outer',axis=1)\n",
    "#joined_table.dropna()"
   ]
  },
  {
   "cell_type": "code",
   "execution_count": 45,
   "id": "1740f5f6-bf5a-4f89-9069-f39c6cf83bf0",
   "metadata": {},
   "outputs": [
    {
     "data": {
      "text/html": [
       "<div>\n",
       "<style scoped>\n",
       "    .dataframe tbody tr th:only-of-type {\n",
       "        vertical-align: middle;\n",
       "    }\n",
       "\n",
       "    .dataframe tbody tr th {\n",
       "        vertical-align: top;\n",
       "    }\n",
       "\n",
       "    .dataframe thead th {\n",
       "        text-align: right;\n",
       "    }\n",
       "</style>\n",
       "<table border=\"1\" class=\"dataframe\">\n",
       "  <thead>\n",
       "    <tr style=\"text-align: right;\">\n",
       "      <th></th>\n",
       "      <th>GEN_age_cat</th>\n",
       "      <th>GEN_age_corrected</th>\n",
       "      <th>GEN_bmi_cat</th>\n",
       "      <th>GEN_bmi_corrected</th>\n",
       "      <th>GEN_cat</th>\n",
       "      <th>GEN_collection_timestamp</th>\n",
       "      <th>GEN_country</th>\n",
       "      <th>GEN_dog</th>\n",
       "      <th>GEN_elevation</th>\n",
       "      <th>GEN_geo_loc_name</th>\n",
       "      <th>...</th>\n",
       "      <th>NUT_probiotic_frequency</th>\n",
       "      <th>NUT_red_meat_frequency</th>\n",
       "      <th>NUT_salted_snacks_frequency</th>\n",
       "      <th>NUT_seafood_frequency</th>\n",
       "      <th>NUT_sugary_sweets_frequency</th>\n",
       "      <th>NUT_vegetable_frequency</th>\n",
       "      <th>NUT_vitamin_b_supplement_frequency</th>\n",
       "      <th>NUT_vitamin_d_supplement_frequency</th>\n",
       "      <th>NUT_whole_eggs</th>\n",
       "      <th>NUT_whole_grain_frequency</th>\n",
       "    </tr>\n",
       "    <tr>\n",
       "      <th>sampleid</th>\n",
       "      <th></th>\n",
       "      <th></th>\n",
       "      <th></th>\n",
       "      <th></th>\n",
       "      <th></th>\n",
       "      <th></th>\n",
       "      <th></th>\n",
       "      <th></th>\n",
       "      <th></th>\n",
       "      <th></th>\n",
       "      <th></th>\n",
       "      <th></th>\n",
       "      <th></th>\n",
       "      <th></th>\n",
       "      <th></th>\n",
       "      <th></th>\n",
       "      <th></th>\n",
       "      <th></th>\n",
       "      <th></th>\n",
       "      <th></th>\n",
       "      <th></th>\n",
       "    </tr>\n",
       "  </thead>\n",
       "  <tbody>\n",
       "    <tr>\n",
       "      <th>10317.000046</th>\n",
       "      <td>20s</td>\n",
       "      <td>20.0</td>\n",
       "      <td>Normal</td>\n",
       "      <td>23.75</td>\n",
       "      <td>False</td>\n",
       "      <td>2016-08-25 18:30:00</td>\n",
       "      <td>USA</td>\n",
       "      <td>True</td>\n",
       "      <td>1919.3</td>\n",
       "      <td>USA:CO</td>\n",
       "      <td>...</td>\n",
       "      <td>Rarely</td>\n",
       "      <td>Regularly</td>\n",
       "      <td>Occasionally</td>\n",
       "      <td>Rarely</td>\n",
       "      <td>Occasionally</td>\n",
       "      <td>Occasionally</td>\n",
       "      <td>Never</td>\n",
       "      <td>Never</td>\n",
       "      <td>Daily</td>\n",
       "      <td>Daily</td>\n",
       "    </tr>\n",
       "    <tr>\n",
       "      <th>10317.000050</th>\n",
       "      <td>Not provided</td>\n",
       "      <td>NaN</td>\n",
       "      <td>Overweight</td>\n",
       "      <td>25.61</td>\n",
       "      <td>False</td>\n",
       "      <td>2016-07-06 09:00:00</td>\n",
       "      <td>United Kingdom</td>\n",
       "      <td>False</td>\n",
       "      <td>65.5</td>\n",
       "      <td>United Kingdom:England</td>\n",
       "      <td>...</td>\n",
       "      <td>Rarely</td>\n",
       "      <td>Rarely</td>\n",
       "      <td>Regularly</td>\n",
       "      <td>Occasionally</td>\n",
       "      <td>Regularly</td>\n",
       "      <td>Regularly</td>\n",
       "      <td>Never</td>\n",
       "      <td>Never</td>\n",
       "      <td>Rarely</td>\n",
       "      <td>Occasionally</td>\n",
       "    </tr>\n",
       "    <tr>\n",
       "      <th>10317.000038</th>\n",
       "      <td>30s</td>\n",
       "      <td>39.0</td>\n",
       "      <td>Overweight</td>\n",
       "      <td>27.67</td>\n",
       "      <td>False</td>\n",
       "      <td>2016-06-29 09:30:00</td>\n",
       "      <td>United Kingdom</td>\n",
       "      <td>False</td>\n",
       "      <td>44.5</td>\n",
       "      <td>United Kingdom:England</td>\n",
       "      <td>...</td>\n",
       "      <td>Never</td>\n",
       "      <td>Occasionally</td>\n",
       "      <td>Daily</td>\n",
       "      <td>Occasionally</td>\n",
       "      <td>Rarely</td>\n",
       "      <td>Occasionally</td>\n",
       "      <td>Never</td>\n",
       "      <td>Never</td>\n",
       "      <td>Regularly</td>\n",
       "      <td>Occasionally</td>\n",
       "    </tr>\n",
       "    <tr>\n",
       "      <th>10317.000047</th>\n",
       "      <td>50s</td>\n",
       "      <td>56.0</td>\n",
       "      <td>Normal</td>\n",
       "      <td>19.71</td>\n",
       "      <td>False</td>\n",
       "      <td>2016-07-12 17:30:00</td>\n",
       "      <td>Germany</td>\n",
       "      <td>False</td>\n",
       "      <td>8.7</td>\n",
       "      <td>Germany:HH</td>\n",
       "      <td>...</td>\n",
       "      <td>Daily</td>\n",
       "      <td>Occasionally</td>\n",
       "      <td>Rarely</td>\n",
       "      <td>Not provided</td>\n",
       "      <td>Rarely</td>\n",
       "      <td>Regularly</td>\n",
       "      <td>Daily</td>\n",
       "      <td>Daily</td>\n",
       "      <td>Rarely</td>\n",
       "      <td>Regularly</td>\n",
       "    </tr>\n",
       "    <tr>\n",
       "      <th>10317.000046</th>\n",
       "      <td>40s</td>\n",
       "      <td>45.0</td>\n",
       "      <td>Normal</td>\n",
       "      <td>23.15</td>\n",
       "      <td>False</td>\n",
       "      <td>2016-05-24 19:00:00</td>\n",
       "      <td>United Kingdom</td>\n",
       "      <td>True</td>\n",
       "      <td>68.8</td>\n",
       "      <td>United Kingdom:Unspecified</td>\n",
       "      <td>...</td>\n",
       "      <td>Regularly</td>\n",
       "      <td>Never</td>\n",
       "      <td>Never</td>\n",
       "      <td>Occasionally</td>\n",
       "      <td>Never</td>\n",
       "      <td>Daily</td>\n",
       "      <td>Rarely</td>\n",
       "      <td>Occasionally</td>\n",
       "      <td>Regularly</td>\n",
       "      <td>Daily</td>\n",
       "    </tr>\n",
       "    <tr>\n",
       "      <th>...</th>\n",
       "      <td>...</td>\n",
       "      <td>...</td>\n",
       "      <td>...</td>\n",
       "      <td>...</td>\n",
       "      <td>...</td>\n",
       "      <td>...</td>\n",
       "      <td>...</td>\n",
       "      <td>...</td>\n",
       "      <td>...</td>\n",
       "      <td>...</td>\n",
       "      <td>...</td>\n",
       "      <td>...</td>\n",
       "      <td>...</td>\n",
       "      <td>...</td>\n",
       "      <td>...</td>\n",
       "      <td>...</td>\n",
       "      <td>...</td>\n",
       "      <td>...</td>\n",
       "      <td>...</td>\n",
       "      <td>...</td>\n",
       "      <td>...</td>\n",
       "    </tr>\n",
       "    <tr>\n",
       "      <th>10317.000050</th>\n",
       "      <td>60s</td>\n",
       "      <td>65.0</td>\n",
       "      <td>Normal</td>\n",
       "      <td>22.48</td>\n",
       "      <td>False</td>\n",
       "      <td>2016-07-26 09:00:00</td>\n",
       "      <td>United Kingdom</td>\n",
       "      <td>False</td>\n",
       "      <td>41.4</td>\n",
       "      <td>United Kingdom:England</td>\n",
       "      <td>...</td>\n",
       "      <td>Daily</td>\n",
       "      <td>Regularly</td>\n",
       "      <td>Not provided</td>\n",
       "      <td>Occasionally</td>\n",
       "      <td>Rarely</td>\n",
       "      <td>Daily</td>\n",
       "      <td>Never</td>\n",
       "      <td>Daily</td>\n",
       "      <td>Regularly</td>\n",
       "      <td>Never</td>\n",
       "    </tr>\n",
       "    <tr>\n",
       "      <th>10317.000046</th>\n",
       "      <td>20s</td>\n",
       "      <td>22.0</td>\n",
       "      <td>Normal</td>\n",
       "      <td>19.04</td>\n",
       "      <td>True</td>\n",
       "      <td>2016-05-17 18:45:00</td>\n",
       "      <td>Canada</td>\n",
       "      <td>True</td>\n",
       "      <td>NaN</td>\n",
       "      <td>Canada:Unspecified</td>\n",
       "      <td>...</td>\n",
       "      <td>Never</td>\n",
       "      <td>Never</td>\n",
       "      <td>Rarely</td>\n",
       "      <td>Never</td>\n",
       "      <td>Occasionally</td>\n",
       "      <td>Daily</td>\n",
       "      <td>Never</td>\n",
       "      <td>Never</td>\n",
       "      <td>Occasionally</td>\n",
       "      <td>Occasionally</td>\n",
       "    </tr>\n",
       "    <tr>\n",
       "      <th>10317.000053</th>\n",
       "      <td>60s</td>\n",
       "      <td>63.0</td>\n",
       "      <td>Normal</td>\n",
       "      <td>21.87</td>\n",
       "      <td>False</td>\n",
       "      <td>2016-08-02 20:00:00</td>\n",
       "      <td>United Kingdom</td>\n",
       "      <td>False</td>\n",
       "      <td>17.8</td>\n",
       "      <td>United Kingdom:England</td>\n",
       "      <td>...</td>\n",
       "      <td>Occasionally</td>\n",
       "      <td>Occasionally</td>\n",
       "      <td>Rarely</td>\n",
       "      <td>Occasionally</td>\n",
       "      <td>Rarely</td>\n",
       "      <td>Daily</td>\n",
       "      <td>Never</td>\n",
       "      <td>Never</td>\n",
       "      <td>Occasionally</td>\n",
       "      <td>Occasionally</td>\n",
       "    </tr>\n",
       "    <tr>\n",
       "      <th>10317.000053</th>\n",
       "      <td>40s</td>\n",
       "      <td>49.0</td>\n",
       "      <td>Normal</td>\n",
       "      <td>18.84</td>\n",
       "      <td>False</td>\n",
       "      <td>2016-07-24 07:15:00</td>\n",
       "      <td>United Kingdom</td>\n",
       "      <td>False</td>\n",
       "      <td>69.9</td>\n",
       "      <td>United Kingdom:England</td>\n",
       "      <td>...</td>\n",
       "      <td>Daily</td>\n",
       "      <td>Rarely</td>\n",
       "      <td>Never</td>\n",
       "      <td>Daily</td>\n",
       "      <td>Never</td>\n",
       "      <td>Daily</td>\n",
       "      <td>Never</td>\n",
       "      <td>Never</td>\n",
       "      <td>Daily</td>\n",
       "      <td>Never</td>\n",
       "    </tr>\n",
       "    <tr>\n",
       "      <th>10317.000038</th>\n",
       "      <td>60s</td>\n",
       "      <td>63.0</td>\n",
       "      <td>Obese</td>\n",
       "      <td>35.12</td>\n",
       "      <td>False</td>\n",
       "      <td>2016-05-15 13:20:00</td>\n",
       "      <td>United Kingdom</td>\n",
       "      <td>False</td>\n",
       "      <td>37.7</td>\n",
       "      <td>United Kingdom:Unspecified</td>\n",
       "      <td>...</td>\n",
       "      <td>Daily</td>\n",
       "      <td>Occasionally</td>\n",
       "      <td>Regularly</td>\n",
       "      <td>Rarely</td>\n",
       "      <td>Regularly</td>\n",
       "      <td>Occasionally</td>\n",
       "      <td>Never</td>\n",
       "      <td>Daily</td>\n",
       "      <td>Rarely</td>\n",
       "      <td>Occasionally</td>\n",
       "    </tr>\n",
       "  </tbody>\n",
       "</table>\n",
       "<p>523 rows × 56 columns</p>\n",
       "</div>"
      ],
      "text/plain": [
       "               GEN_age_cat  GEN_age_corrected GEN_bmi_cat  GEN_bmi_corrected  \\\n",
       "sampleid                                                                       \n",
       "10317.000046           20s               20.0      Normal              23.75   \n",
       "10317.000050  Not provided                NaN  Overweight              25.61   \n",
       "10317.000038           30s               39.0  Overweight              27.67   \n",
       "10317.000047           50s               56.0      Normal              19.71   \n",
       "10317.000046           40s               45.0      Normal              23.15   \n",
       "...                    ...                ...         ...                ...   \n",
       "10317.000050           60s               65.0      Normal              22.48   \n",
       "10317.000046           20s               22.0      Normal              19.04   \n",
       "10317.000053           60s               63.0      Normal              21.87   \n",
       "10317.000053           40s               49.0      Normal              18.84   \n",
       "10317.000038           60s               63.0       Obese              35.12   \n",
       "\n",
       "              GEN_cat GEN_collection_timestamp     GEN_country  GEN_dog  \\\n",
       "sampleid                                                                  \n",
       "10317.000046    False      2016-08-25 18:30:00             USA     True   \n",
       "10317.000050    False      2016-07-06 09:00:00  United Kingdom    False   \n",
       "10317.000038    False      2016-06-29 09:30:00  United Kingdom    False   \n",
       "10317.000047    False      2016-07-12 17:30:00         Germany    False   \n",
       "10317.000046    False      2016-05-24 19:00:00  United Kingdom     True   \n",
       "...               ...                      ...             ...      ...   \n",
       "10317.000050    False      2016-07-26 09:00:00  United Kingdom    False   \n",
       "10317.000046     True      2016-05-17 18:45:00          Canada     True   \n",
       "10317.000053    False      2016-08-02 20:00:00  United Kingdom    False   \n",
       "10317.000053    False      2016-07-24 07:15:00  United Kingdom    False   \n",
       "10317.000038    False      2016-05-15 13:20:00  United Kingdom    False   \n",
       "\n",
       "              GEN_elevation            GEN_geo_loc_name  ...  \\\n",
       "sampleid                                                 ...   \n",
       "10317.000046         1919.3                      USA:CO  ...   \n",
       "10317.000050           65.5      United Kingdom:England  ...   \n",
       "10317.000038           44.5      United Kingdom:England  ...   \n",
       "10317.000047            8.7                  Germany:HH  ...   \n",
       "10317.000046           68.8  United Kingdom:Unspecified  ...   \n",
       "...                     ...                         ...  ...   \n",
       "10317.000050           41.4      United Kingdom:England  ...   \n",
       "10317.000046            NaN          Canada:Unspecified  ...   \n",
       "10317.000053           17.8      United Kingdom:England  ...   \n",
       "10317.000053           69.9      United Kingdom:England  ...   \n",
       "10317.000038           37.7  United Kingdom:Unspecified  ...   \n",
       "\n",
       "              NUT_probiotic_frequency NUT_red_meat_frequency  \\\n",
       "sampleid                                                       \n",
       "10317.000046                   Rarely              Regularly   \n",
       "10317.000050                   Rarely                 Rarely   \n",
       "10317.000038                    Never           Occasionally   \n",
       "10317.000047                    Daily           Occasionally   \n",
       "10317.000046                Regularly                  Never   \n",
       "...                               ...                    ...   \n",
       "10317.000050                    Daily              Regularly   \n",
       "10317.000046                    Never                  Never   \n",
       "10317.000053             Occasionally           Occasionally   \n",
       "10317.000053                    Daily                 Rarely   \n",
       "10317.000038                    Daily           Occasionally   \n",
       "\n",
       "             NUT_salted_snacks_frequency NUT_seafood_frequency  \\\n",
       "sampleid                                                         \n",
       "10317.000046                Occasionally                Rarely   \n",
       "10317.000050                   Regularly          Occasionally   \n",
       "10317.000038                       Daily          Occasionally   \n",
       "10317.000047                      Rarely          Not provided   \n",
       "10317.000046                       Never          Occasionally   \n",
       "...                                  ...                   ...   \n",
       "10317.000050                Not provided          Occasionally   \n",
       "10317.000046                      Rarely                 Never   \n",
       "10317.000053                      Rarely          Occasionally   \n",
       "10317.000053                       Never                 Daily   \n",
       "10317.000038                   Regularly                Rarely   \n",
       "\n",
       "              NUT_sugary_sweets_frequency NUT_vegetable_frequency  \\\n",
       "sampleid                                                            \n",
       "10317.000046                 Occasionally            Occasionally   \n",
       "10317.000050                    Regularly               Regularly   \n",
       "10317.000038                       Rarely            Occasionally   \n",
       "10317.000047                       Rarely               Regularly   \n",
       "10317.000046                        Never                   Daily   \n",
       "...                                   ...                     ...   \n",
       "10317.000050                       Rarely                   Daily   \n",
       "10317.000046                 Occasionally                   Daily   \n",
       "10317.000053                       Rarely                   Daily   \n",
       "10317.000053                        Never                   Daily   \n",
       "10317.000038                    Regularly            Occasionally   \n",
       "\n",
       "              NUT_vitamin_b_supplement_frequency  \\\n",
       "sampleid                                           \n",
       "10317.000046                               Never   \n",
       "10317.000050                               Never   \n",
       "10317.000038                               Never   \n",
       "10317.000047                               Daily   \n",
       "10317.000046                              Rarely   \n",
       "...                                          ...   \n",
       "10317.000050                               Never   \n",
       "10317.000046                               Never   \n",
       "10317.000053                               Never   \n",
       "10317.000053                               Never   \n",
       "10317.000038                               Never   \n",
       "\n",
       "             NUT_vitamin_d_supplement_frequency NUT_whole_eggs  \\\n",
       "sampleid                                                         \n",
       "10317.000046                              Never          Daily   \n",
       "10317.000050                              Never         Rarely   \n",
       "10317.000038                              Never      Regularly   \n",
       "10317.000047                              Daily         Rarely   \n",
       "10317.000046                       Occasionally      Regularly   \n",
       "...                                         ...            ...   \n",
       "10317.000050                              Daily      Regularly   \n",
       "10317.000046                              Never   Occasionally   \n",
       "10317.000053                              Never   Occasionally   \n",
       "10317.000053                              Never          Daily   \n",
       "10317.000038                              Daily         Rarely   \n",
       "\n",
       "             NUT_whole_grain_frequency  \n",
       "sampleid                                \n",
       "10317.000046                     Daily  \n",
       "10317.000050              Occasionally  \n",
       "10317.000038              Occasionally  \n",
       "10317.000047                 Regularly  \n",
       "10317.000046                     Daily  \n",
       "...                                ...  \n",
       "10317.000050                     Never  \n",
       "10317.000046              Occasionally  \n",
       "10317.000053              Occasionally  \n",
       "10317.000053                     Never  \n",
       "10317.000038              Occasionally  \n",
       "\n",
       "[523 rows x 56 columns]"
      ]
     },
     "execution_count": 45,
     "metadata": {},
     "output_type": "execute_result"
    }
   ],
   "source": [
    "metadata_df"
   ]
  },
  {
   "cell_type": "code",
   "execution_count": 40,
   "id": "4ae694b6-f5ee-4af2-a90a-733710f34255",
   "metadata": {
    "collapsed": true,
    "jupyter": {
     "outputs_hidden": true
    },
    "tags": []
   },
   "outputs": [
    {
     "ename": "KeyError",
     "evalue": "'NUT_alcohol_frequency'",
     "output_type": "error",
     "traceback": [
      "\u001b[0;31m---------------------------------------------------------------------------\u001b[0m",
      "\u001b[0;31mKeyError\u001b[0m                                  Traceback (most recent call last)",
      "Input \u001b[0;32mIn [40]\u001b[0m, in \u001b[0;36m<cell line: 1>\u001b[0;34m()\u001b[0m\n\u001b[0;32m----> 1\u001b[0m \u001b[43mjoined_table\u001b[49m\u001b[38;5;241;43m.\u001b[39;49m\u001b[43mboxplot\u001b[49m\u001b[43m(\u001b[49m\u001b[43mcolumn\u001b[49m\u001b[38;5;241;43m=\u001b[39;49m\u001b[38;5;124;43m'\u001b[39;49m\u001b[38;5;124;43mfaith_pd\u001b[39;49m\u001b[38;5;124;43m'\u001b[39;49m\u001b[43m,\u001b[49m\u001b[43m \u001b[49m\u001b[43mby\u001b[49m\u001b[38;5;241;43m=\u001b[39;49m\u001b[38;5;124;43m'\u001b[39;49m\u001b[38;5;124;43mNUT_alcohol_frequency\u001b[39;49m\u001b[38;5;124;43m'\u001b[39;49m\u001b[43m,\u001b[49m\u001b[43m \u001b[49m\u001b[43mfigsize\u001b[49m\u001b[38;5;241;43m=\u001b[39;49m\u001b[43m(\u001b[49m\u001b[38;5;241;43m15\u001b[39;49m\u001b[43m,\u001b[49m\u001b[38;5;241;43m6\u001b[39;49m\u001b[43m)\u001b[49m\u001b[43m)\u001b[49m\n",
      "File \u001b[0;32m/opt/conda/lib/python3.8/site-packages/pandas/plotting/_core.py:494\u001b[0m, in \u001b[0;36mboxplot_frame\u001b[0;34m(self, column, by, ax, fontsize, rot, grid, figsize, layout, return_type, backend, **kwargs)\u001b[0m\n\u001b[1;32m    477\u001b[0m \u001b[38;5;129m@Substitution\u001b[39m(backend\u001b[38;5;241m=\u001b[39m_backend_doc)\n\u001b[1;32m    478\u001b[0m \u001b[38;5;129m@Appender\u001b[39m(_boxplot_doc)\n\u001b[1;32m    479\u001b[0m \u001b[38;5;28;01mdef\u001b[39;00m \u001b[38;5;21mboxplot_frame\u001b[39m(\n\u001b[0;32m   (...)\u001b[0m\n\u001b[1;32m    491\u001b[0m     \u001b[38;5;241m*\u001b[39m\u001b[38;5;241m*\u001b[39mkwargs,\n\u001b[1;32m    492\u001b[0m ):\n\u001b[1;32m    493\u001b[0m     plot_backend \u001b[38;5;241m=\u001b[39m _get_plot_backend(backend)\n\u001b[0;32m--> 494\u001b[0m     \u001b[38;5;28;01mreturn\u001b[39;00m \u001b[43mplot_backend\u001b[49m\u001b[38;5;241;43m.\u001b[39;49m\u001b[43mboxplot_frame\u001b[49m\u001b[43m(\u001b[49m\n\u001b[1;32m    495\u001b[0m \u001b[43m        \u001b[49m\u001b[38;5;28;43mself\u001b[39;49m\u001b[43m,\u001b[49m\n\u001b[1;32m    496\u001b[0m \u001b[43m        \u001b[49m\u001b[43mcolumn\u001b[49m\u001b[38;5;241;43m=\u001b[39;49m\u001b[43mcolumn\u001b[49m\u001b[43m,\u001b[49m\n\u001b[1;32m    497\u001b[0m \u001b[43m        \u001b[49m\u001b[43mby\u001b[49m\u001b[38;5;241;43m=\u001b[39;49m\u001b[43mby\u001b[49m\u001b[43m,\u001b[49m\n\u001b[1;32m    498\u001b[0m \u001b[43m        \u001b[49m\u001b[43max\u001b[49m\u001b[38;5;241;43m=\u001b[39;49m\u001b[43max\u001b[49m\u001b[43m,\u001b[49m\n\u001b[1;32m    499\u001b[0m \u001b[43m        \u001b[49m\u001b[43mfontsize\u001b[49m\u001b[38;5;241;43m=\u001b[39;49m\u001b[43mfontsize\u001b[49m\u001b[43m,\u001b[49m\n\u001b[1;32m    500\u001b[0m \u001b[43m        \u001b[49m\u001b[43mrot\u001b[49m\u001b[38;5;241;43m=\u001b[39;49m\u001b[43mrot\u001b[49m\u001b[43m,\u001b[49m\n\u001b[1;32m    501\u001b[0m \u001b[43m        \u001b[49m\u001b[43mgrid\u001b[49m\u001b[38;5;241;43m=\u001b[39;49m\u001b[43mgrid\u001b[49m\u001b[43m,\u001b[49m\n\u001b[1;32m    502\u001b[0m \u001b[43m        \u001b[49m\u001b[43mfigsize\u001b[49m\u001b[38;5;241;43m=\u001b[39;49m\u001b[43mfigsize\u001b[49m\u001b[43m,\u001b[49m\n\u001b[1;32m    503\u001b[0m \u001b[43m        \u001b[49m\u001b[43mlayout\u001b[49m\u001b[38;5;241;43m=\u001b[39;49m\u001b[43mlayout\u001b[49m\u001b[43m,\u001b[49m\n\u001b[1;32m    504\u001b[0m \u001b[43m        \u001b[49m\u001b[43mreturn_type\u001b[49m\u001b[38;5;241;43m=\u001b[39;49m\u001b[43mreturn_type\u001b[49m\u001b[43m,\u001b[49m\n\u001b[1;32m    505\u001b[0m \u001b[43m        \u001b[49m\u001b[38;5;241;43m*\u001b[39;49m\u001b[38;5;241;43m*\u001b[39;49m\u001b[43mkwargs\u001b[49m\u001b[43m,\u001b[49m\n\u001b[1;32m    506\u001b[0m \u001b[43m    \u001b[49m\u001b[43m)\u001b[49m\n",
      "File \u001b[0;32m/opt/conda/lib/python3.8/site-packages/pandas/plotting/_matplotlib/boxplot.py:385\u001b[0m, in \u001b[0;36mboxplot_frame\u001b[0;34m(self, column, by, ax, fontsize, rot, grid, figsize, layout, return_type, **kwds)\u001b[0m\n\u001b[1;32m    370\u001b[0m \u001b[38;5;28;01mdef\u001b[39;00m \u001b[38;5;21mboxplot_frame\u001b[39m(\n\u001b[1;32m    371\u001b[0m     \u001b[38;5;28mself\u001b[39m,\n\u001b[1;32m    372\u001b[0m     column\u001b[38;5;241m=\u001b[39m\u001b[38;5;28;01mNone\u001b[39;00m,\n\u001b[0;32m   (...)\u001b[0m\n\u001b[1;32m    381\u001b[0m     \u001b[38;5;241m*\u001b[39m\u001b[38;5;241m*\u001b[39mkwds,\n\u001b[1;32m    382\u001b[0m ):\n\u001b[1;32m    383\u001b[0m     \u001b[38;5;28;01mimport\u001b[39;00m \u001b[38;5;21;01mmatplotlib\u001b[39;00m\u001b[38;5;21;01m.\u001b[39;00m\u001b[38;5;21;01mpyplot\u001b[39;00m \u001b[38;5;28;01mas\u001b[39;00m \u001b[38;5;21;01mplt\u001b[39;00m\n\u001b[0;32m--> 385\u001b[0m     ax \u001b[38;5;241m=\u001b[39m \u001b[43mboxplot\u001b[49m\u001b[43m(\u001b[49m\n\u001b[1;32m    386\u001b[0m \u001b[43m        \u001b[49m\u001b[38;5;28;43mself\u001b[39;49m\u001b[43m,\u001b[49m\n\u001b[1;32m    387\u001b[0m \u001b[43m        \u001b[49m\u001b[43mcolumn\u001b[49m\u001b[38;5;241;43m=\u001b[39;49m\u001b[43mcolumn\u001b[49m\u001b[43m,\u001b[49m\n\u001b[1;32m    388\u001b[0m \u001b[43m        \u001b[49m\u001b[43mby\u001b[49m\u001b[38;5;241;43m=\u001b[39;49m\u001b[43mby\u001b[49m\u001b[43m,\u001b[49m\n\u001b[1;32m    389\u001b[0m \u001b[43m        \u001b[49m\u001b[43max\u001b[49m\u001b[38;5;241;43m=\u001b[39;49m\u001b[43max\u001b[49m\u001b[43m,\u001b[49m\n\u001b[1;32m    390\u001b[0m \u001b[43m        \u001b[49m\u001b[43mfontsize\u001b[49m\u001b[38;5;241;43m=\u001b[39;49m\u001b[43mfontsize\u001b[49m\u001b[43m,\u001b[49m\n\u001b[1;32m    391\u001b[0m \u001b[43m        \u001b[49m\u001b[43mgrid\u001b[49m\u001b[38;5;241;43m=\u001b[39;49m\u001b[43mgrid\u001b[49m\u001b[43m,\u001b[49m\n\u001b[1;32m    392\u001b[0m \u001b[43m        \u001b[49m\u001b[43mrot\u001b[49m\u001b[38;5;241;43m=\u001b[39;49m\u001b[43mrot\u001b[49m\u001b[43m,\u001b[49m\n\u001b[1;32m    393\u001b[0m \u001b[43m        \u001b[49m\u001b[43mfigsize\u001b[49m\u001b[38;5;241;43m=\u001b[39;49m\u001b[43mfigsize\u001b[49m\u001b[43m,\u001b[49m\n\u001b[1;32m    394\u001b[0m \u001b[43m        \u001b[49m\u001b[43mlayout\u001b[49m\u001b[38;5;241;43m=\u001b[39;49m\u001b[43mlayout\u001b[49m\u001b[43m,\u001b[49m\n\u001b[1;32m    395\u001b[0m \u001b[43m        \u001b[49m\u001b[43mreturn_type\u001b[49m\u001b[38;5;241;43m=\u001b[39;49m\u001b[43mreturn_type\u001b[49m\u001b[43m,\u001b[49m\n\u001b[1;32m    396\u001b[0m \u001b[43m        \u001b[49m\u001b[38;5;241;43m*\u001b[39;49m\u001b[38;5;241;43m*\u001b[39;49m\u001b[43mkwds\u001b[49m\u001b[43m,\u001b[49m\n\u001b[1;32m    397\u001b[0m \u001b[43m    \u001b[49m\u001b[43m)\u001b[49m\n\u001b[1;32m    398\u001b[0m     plt\u001b[38;5;241m.\u001b[39mdraw_if_interactive()\n\u001b[1;32m    399\u001b[0m     \u001b[38;5;28;01mreturn\u001b[39;00m ax\n",
      "File \u001b[0;32m/opt/conda/lib/python3.8/site-packages/pandas/plotting/_matplotlib/boxplot.py:337\u001b[0m, in \u001b[0;36mboxplot\u001b[0;34m(data, column, by, ax, fontsize, rot, grid, figsize, layout, return_type, **kwds)\u001b[0m\n\u001b[1;32m    332\u001b[0m         columns \u001b[38;5;241m=\u001b[39m [column]\n\u001b[1;32m    334\u001b[0m \u001b[38;5;28;01mif\u001b[39;00m by \u001b[38;5;129;01mis\u001b[39;00m \u001b[38;5;129;01mnot\u001b[39;00m \u001b[38;5;28;01mNone\u001b[39;00m:\n\u001b[1;32m    335\u001b[0m     \u001b[38;5;66;03m# Prefer array return type for 2-D plots to match the subplot layout\u001b[39;00m\n\u001b[1;32m    336\u001b[0m     \u001b[38;5;66;03m# https://github.com/pandas-dev/pandas/pull/12216#issuecomment-241175580\u001b[39;00m\n\u001b[0;32m--> 337\u001b[0m     result \u001b[38;5;241m=\u001b[39m \u001b[43m_grouped_plot_by_column\u001b[49m\u001b[43m(\u001b[49m\n\u001b[1;32m    338\u001b[0m \u001b[43m        \u001b[49m\u001b[43mplot_group\u001b[49m\u001b[43m,\u001b[49m\n\u001b[1;32m    339\u001b[0m \u001b[43m        \u001b[49m\u001b[43mdata\u001b[49m\u001b[43m,\u001b[49m\n\u001b[1;32m    340\u001b[0m \u001b[43m        \u001b[49m\u001b[43mcolumns\u001b[49m\u001b[38;5;241;43m=\u001b[39;49m\u001b[43mcolumns\u001b[49m\u001b[43m,\u001b[49m\n\u001b[1;32m    341\u001b[0m \u001b[43m        \u001b[49m\u001b[43mby\u001b[49m\u001b[38;5;241;43m=\u001b[39;49m\u001b[43mby\u001b[49m\u001b[43m,\u001b[49m\n\u001b[1;32m    342\u001b[0m \u001b[43m        \u001b[49m\u001b[43mgrid\u001b[49m\u001b[38;5;241;43m=\u001b[39;49m\u001b[43mgrid\u001b[49m\u001b[43m,\u001b[49m\n\u001b[1;32m    343\u001b[0m \u001b[43m        \u001b[49m\u001b[43mfigsize\u001b[49m\u001b[38;5;241;43m=\u001b[39;49m\u001b[43mfigsize\u001b[49m\u001b[43m,\u001b[49m\n\u001b[1;32m    344\u001b[0m \u001b[43m        \u001b[49m\u001b[43max\u001b[49m\u001b[38;5;241;43m=\u001b[39;49m\u001b[43max\u001b[49m\u001b[43m,\u001b[49m\n\u001b[1;32m    345\u001b[0m \u001b[43m        \u001b[49m\u001b[43mlayout\u001b[49m\u001b[38;5;241;43m=\u001b[39;49m\u001b[43mlayout\u001b[49m\u001b[43m,\u001b[49m\n\u001b[1;32m    346\u001b[0m \u001b[43m        \u001b[49m\u001b[43mreturn_type\u001b[49m\u001b[38;5;241;43m=\u001b[39;49m\u001b[43mreturn_type\u001b[49m\u001b[43m,\u001b[49m\n\u001b[1;32m    347\u001b[0m \u001b[43m    \u001b[49m\u001b[43m)\u001b[49m\n\u001b[1;32m    348\u001b[0m \u001b[38;5;28;01melse\u001b[39;00m:\n\u001b[1;32m    349\u001b[0m     \u001b[38;5;28;01mif\u001b[39;00m return_type \u001b[38;5;129;01mis\u001b[39;00m \u001b[38;5;28;01mNone\u001b[39;00m:\n",
      "File \u001b[0;32m/opt/conda/lib/python3.8/site-packages/pandas/plotting/_matplotlib/boxplot.py:198\u001b[0m, in \u001b[0;36m_grouped_plot_by_column\u001b[0;34m(plotf, data, columns, by, numeric_only, grid, figsize, ax, layout, return_type, **kwargs)\u001b[0m\n\u001b[1;32m    185\u001b[0m \u001b[38;5;28;01mdef\u001b[39;00m \u001b[38;5;21m_grouped_plot_by_column\u001b[39m(\n\u001b[1;32m    186\u001b[0m     plotf,\n\u001b[1;32m    187\u001b[0m     data,\n\u001b[0;32m   (...)\u001b[0m\n\u001b[1;32m    196\u001b[0m     \u001b[38;5;241m*\u001b[39m\u001b[38;5;241m*\u001b[39mkwargs,\n\u001b[1;32m    197\u001b[0m ):\n\u001b[0;32m--> 198\u001b[0m     grouped \u001b[38;5;241m=\u001b[39m \u001b[43mdata\u001b[49m\u001b[38;5;241;43m.\u001b[39;49m\u001b[43mgroupby\u001b[49m\u001b[43m(\u001b[49m\u001b[43mby\u001b[49m\u001b[43m)\u001b[49m\n\u001b[1;32m    199\u001b[0m     \u001b[38;5;28;01mif\u001b[39;00m columns \u001b[38;5;129;01mis\u001b[39;00m \u001b[38;5;28;01mNone\u001b[39;00m:\n\u001b[1;32m    200\u001b[0m         \u001b[38;5;28;01mif\u001b[39;00m \u001b[38;5;129;01mnot\u001b[39;00m \u001b[38;5;28misinstance\u001b[39m(by, (\u001b[38;5;28mlist\u001b[39m, \u001b[38;5;28mtuple\u001b[39m)):\n",
      "File \u001b[0;32m/opt/conda/lib/python3.8/site-packages/pandas/core/frame.py:6717\u001b[0m, in \u001b[0;36mDataFrame.groupby\u001b[0;34m(self, by, axis, level, as_index, sort, group_keys, squeeze, observed, dropna)\u001b[0m\n\u001b[1;32m   6714\u001b[0m     \u001b[38;5;28;01mraise\u001b[39;00m \u001b[38;5;167;01mTypeError\u001b[39;00m(\u001b[38;5;124m\"\u001b[39m\u001b[38;5;124mYou have to supply one of \u001b[39m\u001b[38;5;124m'\u001b[39m\u001b[38;5;124mby\u001b[39m\u001b[38;5;124m'\u001b[39m\u001b[38;5;124m and \u001b[39m\u001b[38;5;124m'\u001b[39m\u001b[38;5;124mlevel\u001b[39m\u001b[38;5;124m'\u001b[39m\u001b[38;5;124m\"\u001b[39m)\n\u001b[1;32m   6715\u001b[0m axis \u001b[38;5;241m=\u001b[39m \u001b[38;5;28mself\u001b[39m\u001b[38;5;241m.\u001b[39m_get_axis_number(axis)\n\u001b[0;32m-> 6717\u001b[0m \u001b[38;5;28;01mreturn\u001b[39;00m \u001b[43mDataFrameGroupBy\u001b[49m\u001b[43m(\u001b[49m\n\u001b[1;32m   6718\u001b[0m \u001b[43m    \u001b[49m\u001b[43mobj\u001b[49m\u001b[38;5;241;43m=\u001b[39;49m\u001b[38;5;28;43mself\u001b[39;49m\u001b[43m,\u001b[49m\n\u001b[1;32m   6719\u001b[0m \u001b[43m    \u001b[49m\u001b[43mkeys\u001b[49m\u001b[38;5;241;43m=\u001b[39;49m\u001b[43mby\u001b[49m\u001b[43m,\u001b[49m\n\u001b[1;32m   6720\u001b[0m \u001b[43m    \u001b[49m\u001b[43maxis\u001b[49m\u001b[38;5;241;43m=\u001b[39;49m\u001b[43maxis\u001b[49m\u001b[43m,\u001b[49m\n\u001b[1;32m   6721\u001b[0m \u001b[43m    \u001b[49m\u001b[43mlevel\u001b[49m\u001b[38;5;241;43m=\u001b[39;49m\u001b[43mlevel\u001b[49m\u001b[43m,\u001b[49m\n\u001b[1;32m   6722\u001b[0m \u001b[43m    \u001b[49m\u001b[43mas_index\u001b[49m\u001b[38;5;241;43m=\u001b[39;49m\u001b[43mas_index\u001b[49m\u001b[43m,\u001b[49m\n\u001b[1;32m   6723\u001b[0m \u001b[43m    \u001b[49m\u001b[43msort\u001b[49m\u001b[38;5;241;43m=\u001b[39;49m\u001b[43msort\u001b[49m\u001b[43m,\u001b[49m\n\u001b[1;32m   6724\u001b[0m \u001b[43m    \u001b[49m\u001b[43mgroup_keys\u001b[49m\u001b[38;5;241;43m=\u001b[39;49m\u001b[43mgroup_keys\u001b[49m\u001b[43m,\u001b[49m\n\u001b[1;32m   6725\u001b[0m \u001b[43m    \u001b[49m\u001b[43msqueeze\u001b[49m\u001b[38;5;241;43m=\u001b[39;49m\u001b[43msqueeze\u001b[49m\u001b[43m,\u001b[49m\n\u001b[1;32m   6726\u001b[0m \u001b[43m    \u001b[49m\u001b[43mobserved\u001b[49m\u001b[38;5;241;43m=\u001b[39;49m\u001b[43mobserved\u001b[49m\u001b[43m,\u001b[49m\n\u001b[1;32m   6727\u001b[0m \u001b[43m    \u001b[49m\u001b[43mdropna\u001b[49m\u001b[38;5;241;43m=\u001b[39;49m\u001b[43mdropna\u001b[49m\u001b[43m,\u001b[49m\n\u001b[1;32m   6728\u001b[0m \u001b[43m\u001b[49m\u001b[43m)\u001b[49m\n",
      "File \u001b[0;32m/opt/conda/lib/python3.8/site-packages/pandas/core/groupby/groupby.py:560\u001b[0m, in \u001b[0;36mBaseGroupBy.__init__\u001b[0;34m(self, obj, keys, axis, level, grouper, exclusions, selection, as_index, sort, group_keys, squeeze, observed, mutated, dropna)\u001b[0m\n\u001b[1;32m    557\u001b[0m \u001b[38;5;28;01mif\u001b[39;00m grouper \u001b[38;5;129;01mis\u001b[39;00m \u001b[38;5;28;01mNone\u001b[39;00m:\n\u001b[1;32m    558\u001b[0m     \u001b[38;5;28;01mfrom\u001b[39;00m \u001b[38;5;21;01mpandas\u001b[39;00m\u001b[38;5;21;01m.\u001b[39;00m\u001b[38;5;21;01mcore\u001b[39;00m\u001b[38;5;21;01m.\u001b[39;00m\u001b[38;5;21;01mgroupby\u001b[39;00m\u001b[38;5;21;01m.\u001b[39;00m\u001b[38;5;21;01mgrouper\u001b[39;00m \u001b[38;5;28;01mimport\u001b[39;00m get_grouper\n\u001b[0;32m--> 560\u001b[0m     grouper, exclusions, obj \u001b[38;5;241m=\u001b[39m \u001b[43mget_grouper\u001b[49m\u001b[43m(\u001b[49m\n\u001b[1;32m    561\u001b[0m \u001b[43m        \u001b[49m\u001b[43mobj\u001b[49m\u001b[43m,\u001b[49m\n\u001b[1;32m    562\u001b[0m \u001b[43m        \u001b[49m\u001b[43mkeys\u001b[49m\u001b[43m,\u001b[49m\n\u001b[1;32m    563\u001b[0m \u001b[43m        \u001b[49m\u001b[43maxis\u001b[49m\u001b[38;5;241;43m=\u001b[39;49m\u001b[43maxis\u001b[49m\u001b[43m,\u001b[49m\n\u001b[1;32m    564\u001b[0m \u001b[43m        \u001b[49m\u001b[43mlevel\u001b[49m\u001b[38;5;241;43m=\u001b[39;49m\u001b[43mlevel\u001b[49m\u001b[43m,\u001b[49m\n\u001b[1;32m    565\u001b[0m \u001b[43m        \u001b[49m\u001b[43msort\u001b[49m\u001b[38;5;241;43m=\u001b[39;49m\u001b[43msort\u001b[49m\u001b[43m,\u001b[49m\n\u001b[1;32m    566\u001b[0m \u001b[43m        \u001b[49m\u001b[43mobserved\u001b[49m\u001b[38;5;241;43m=\u001b[39;49m\u001b[43mobserved\u001b[49m\u001b[43m,\u001b[49m\n\u001b[1;32m    567\u001b[0m \u001b[43m        \u001b[49m\u001b[43mmutated\u001b[49m\u001b[38;5;241;43m=\u001b[39;49m\u001b[38;5;28;43mself\u001b[39;49m\u001b[38;5;241;43m.\u001b[39;49m\u001b[43mmutated\u001b[49m\u001b[43m,\u001b[49m\n\u001b[1;32m    568\u001b[0m \u001b[43m        \u001b[49m\u001b[43mdropna\u001b[49m\u001b[38;5;241;43m=\u001b[39;49m\u001b[38;5;28;43mself\u001b[39;49m\u001b[38;5;241;43m.\u001b[39;49m\u001b[43mdropna\u001b[49m\u001b[43m,\u001b[49m\n\u001b[1;32m    569\u001b[0m \u001b[43m    \u001b[49m\u001b[43m)\u001b[49m\n\u001b[1;32m    571\u001b[0m \u001b[38;5;28mself\u001b[39m\u001b[38;5;241m.\u001b[39mobj \u001b[38;5;241m=\u001b[39m obj\n\u001b[1;32m    572\u001b[0m \u001b[38;5;28mself\u001b[39m\u001b[38;5;241m.\u001b[39maxis \u001b[38;5;241m=\u001b[39m obj\u001b[38;5;241m.\u001b[39m_get_axis_number(axis)\n",
      "File \u001b[0;32m/opt/conda/lib/python3.8/site-packages/pandas/core/groupby/grouper.py:811\u001b[0m, in \u001b[0;36mget_grouper\u001b[0;34m(obj, key, axis, level, sort, observed, mutated, validate, dropna)\u001b[0m\n\u001b[1;32m    809\u001b[0m         in_axis, name, level, gpr \u001b[38;5;241m=\u001b[39m \u001b[38;5;28;01mFalse\u001b[39;00m, \u001b[38;5;28;01mNone\u001b[39;00m, gpr, \u001b[38;5;28;01mNone\u001b[39;00m\n\u001b[1;32m    810\u001b[0m     \u001b[38;5;28;01melse\u001b[39;00m:\n\u001b[0;32m--> 811\u001b[0m         \u001b[38;5;28;01mraise\u001b[39;00m \u001b[38;5;167;01mKeyError\u001b[39;00m(gpr)\n\u001b[1;32m    812\u001b[0m \u001b[38;5;28;01melif\u001b[39;00m \u001b[38;5;28misinstance\u001b[39m(gpr, Grouper) \u001b[38;5;129;01mand\u001b[39;00m gpr\u001b[38;5;241m.\u001b[39mkey \u001b[38;5;129;01mis\u001b[39;00m \u001b[38;5;129;01mnot\u001b[39;00m \u001b[38;5;28;01mNone\u001b[39;00m:\n\u001b[1;32m    813\u001b[0m     \u001b[38;5;66;03m# Add key to exclusions\u001b[39;00m\n\u001b[1;32m    814\u001b[0m     exclusions\u001b[38;5;241m.\u001b[39madd(gpr\u001b[38;5;241m.\u001b[39mkey)\n",
      "\u001b[0;31mKeyError\u001b[0m: 'NUT_alcohol_frequency'"
     ]
    }
   ],
   "source": [
    "joined_table.boxplot(column='faith_pd', by='NUT_alcohol_frequency', figsize=(15,6))"
   ]
  }
 ],
 "metadata": {
  "kernelspec": {
   "display_name": "Python 3 (ipykernel)",
   "language": "python",
   "name": "python3"
  },
  "language_info": {
   "codemirror_mode": {
    "name": "ipython",
    "version": 3
   },
   "file_extension": ".py",
   "mimetype": "text/x-python",
   "name": "python",
   "nbconvert_exporter": "python",
   "pygments_lexer": "ipython3",
   "version": "3.8.13"
  }
 },
 "nbformat": 4,
 "nbformat_minor": 5
}
